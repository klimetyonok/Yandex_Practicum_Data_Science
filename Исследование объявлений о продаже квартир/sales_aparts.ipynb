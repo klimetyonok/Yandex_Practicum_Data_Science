{
 "cells": [
  {
   "cell_type": "markdown",
   "metadata": {
    "id": "-VFbjcb3Awb7"
   },
   "source": [
    "# Исследование объявлений о продаже квартир\n",
    "\n",
    "В вашем распоряжении данные сервиса Яндекс Недвижимость — архив объявлений о продаже квартир в Санкт-Петербурге и соседних населённых пунктах за несколько лет. Вам нужно научиться определять рыночную стоимость объектов недвижимости. Для этого проведите исследовательский анализ данных и установите параметры, влияющие на цену объектов. Это позволит построить автоматизированную систему: она отследит аномалии и мошенническую деятельность.\n",
    "\n",
    "По каждой квартире на продажу доступны два вида данных. Первые вписаны пользователем, вторые — получены автоматически на основе картографических данных. Например, расстояние до центра, аэропорта и других объектов — эти данные автоматически получены из геосервисов. Количество парков и водоёмов также заполняется без участия пользователя."
   ]
  },
  {
   "cell_type": "markdown",
   "metadata": {
    "id": "aeFLH07FAwb9"
   },
   "source": [
    "### Откройте файл с данными и изучите общую информацию"
   ]
  },
  {
   "cell_type": "markdown",
   "metadata": {},
   "source": [
    "#### Загружаем данные из csv-файла в датафрейм c помощью библиотеки pandas"
   ]
  },
  {
   "cell_type": "code",
   "execution_count": 1,
   "metadata": {
    "id": "7MZxY65pAwb9"
   },
   "outputs": [],
   "source": [
    "import pandas as pd\n",
    "import numpy as np "
   ]
  },
  {
   "cell_type": "code",
   "execution_count": 2,
   "metadata": {},
   "outputs": [],
   "source": [
    "try:\n",
    "    data = pd.read_csv('/datasets/real_estate_data.csv')\n",
    "except:\n",
    "    data = pd.read_csv('https://code.s3.yandex.net/datasets/real_estate_data.csv', sep='\\t')"
   ]
  },
  {
   "cell_type": "markdown",
   "metadata": {},
   "source": [
    "#### Изучаем общую информацию о полученном датафрейме."
   ]
  },
  {
   "cell_type": "code",
   "execution_count": 3,
   "metadata": {},
   "outputs": [],
   "source": [
    "# команда для увеличения максимального количества отображающихся столбцов:\n",
    "pd.set_option('display.max_columns', None)"
   ]
  },
  {
   "cell_type": "code",
   "execution_count": 4,
   "metadata": {},
   "outputs": [
    {
     "data": {
      "text/html": [
       "<div>\n",
       "<style scoped>\n",
       "    .dataframe tbody tr th:only-of-type {\n",
       "        vertical-align: middle;\n",
       "    }\n",
       "\n",
       "    .dataframe tbody tr th {\n",
       "        vertical-align: top;\n",
       "    }\n",
       "\n",
       "    .dataframe thead th {\n",
       "        text-align: right;\n",
       "    }\n",
       "</style>\n",
       "<table border=\"1\" class=\"dataframe\">\n",
       "  <thead>\n",
       "    <tr style=\"text-align: right;\">\n",
       "      <th></th>\n",
       "      <th>total_images</th>\n",
       "      <th>last_price</th>\n",
       "      <th>total_area</th>\n",
       "      <th>first_day_exposition</th>\n",
       "      <th>rooms</th>\n",
       "      <th>ceiling_height</th>\n",
       "      <th>floors_total</th>\n",
       "      <th>living_area</th>\n",
       "      <th>floor</th>\n",
       "      <th>is_apartment</th>\n",
       "      <th>studio</th>\n",
       "      <th>open_plan</th>\n",
       "      <th>kitchen_area</th>\n",
       "      <th>balcony</th>\n",
       "      <th>locality_name</th>\n",
       "      <th>airports_nearest</th>\n",
       "      <th>cityCenters_nearest</th>\n",
       "      <th>parks_around3000</th>\n",
       "      <th>parks_nearest</th>\n",
       "      <th>ponds_around3000</th>\n",
       "      <th>ponds_nearest</th>\n",
       "      <th>days_exposition</th>\n",
       "    </tr>\n",
       "  </thead>\n",
       "  <tbody>\n",
       "    <tr>\n",
       "      <th>0</th>\n",
       "      <td>20</td>\n",
       "      <td>13000000.0</td>\n",
       "      <td>108.00</td>\n",
       "      <td>2019-03-07T00:00:00</td>\n",
       "      <td>3</td>\n",
       "      <td>2.70</td>\n",
       "      <td>16.0</td>\n",
       "      <td>51.00</td>\n",
       "      <td>8</td>\n",
       "      <td>NaN</td>\n",
       "      <td>False</td>\n",
       "      <td>False</td>\n",
       "      <td>25.00</td>\n",
       "      <td>NaN</td>\n",
       "      <td>Санкт-Петербург</td>\n",
       "      <td>18863.0</td>\n",
       "      <td>16028.0</td>\n",
       "      <td>1.0</td>\n",
       "      <td>482.0</td>\n",
       "      <td>2.0</td>\n",
       "      <td>755.0</td>\n",
       "      <td>NaN</td>\n",
       "    </tr>\n",
       "    <tr>\n",
       "      <th>1</th>\n",
       "      <td>7</td>\n",
       "      <td>3350000.0</td>\n",
       "      <td>40.40</td>\n",
       "      <td>2018-12-04T00:00:00</td>\n",
       "      <td>1</td>\n",
       "      <td>NaN</td>\n",
       "      <td>11.0</td>\n",
       "      <td>18.60</td>\n",
       "      <td>1</td>\n",
       "      <td>NaN</td>\n",
       "      <td>False</td>\n",
       "      <td>False</td>\n",
       "      <td>11.00</td>\n",
       "      <td>2.0</td>\n",
       "      <td>посёлок Шушары</td>\n",
       "      <td>12817.0</td>\n",
       "      <td>18603.0</td>\n",
       "      <td>0.0</td>\n",
       "      <td>NaN</td>\n",
       "      <td>0.0</td>\n",
       "      <td>NaN</td>\n",
       "      <td>81.0</td>\n",
       "    </tr>\n",
       "    <tr>\n",
       "      <th>2</th>\n",
       "      <td>10</td>\n",
       "      <td>5196000.0</td>\n",
       "      <td>56.00</td>\n",
       "      <td>2015-08-20T00:00:00</td>\n",
       "      <td>2</td>\n",
       "      <td>NaN</td>\n",
       "      <td>5.0</td>\n",
       "      <td>34.30</td>\n",
       "      <td>4</td>\n",
       "      <td>NaN</td>\n",
       "      <td>False</td>\n",
       "      <td>False</td>\n",
       "      <td>8.30</td>\n",
       "      <td>0.0</td>\n",
       "      <td>Санкт-Петербург</td>\n",
       "      <td>21741.0</td>\n",
       "      <td>13933.0</td>\n",
       "      <td>1.0</td>\n",
       "      <td>90.0</td>\n",
       "      <td>2.0</td>\n",
       "      <td>574.0</td>\n",
       "      <td>558.0</td>\n",
       "    </tr>\n",
       "    <tr>\n",
       "      <th>3</th>\n",
       "      <td>0</td>\n",
       "      <td>64900000.0</td>\n",
       "      <td>159.00</td>\n",
       "      <td>2015-07-24T00:00:00</td>\n",
       "      <td>3</td>\n",
       "      <td>NaN</td>\n",
       "      <td>14.0</td>\n",
       "      <td>NaN</td>\n",
       "      <td>9</td>\n",
       "      <td>NaN</td>\n",
       "      <td>False</td>\n",
       "      <td>False</td>\n",
       "      <td>NaN</td>\n",
       "      <td>0.0</td>\n",
       "      <td>Санкт-Петербург</td>\n",
       "      <td>28098.0</td>\n",
       "      <td>6800.0</td>\n",
       "      <td>2.0</td>\n",
       "      <td>84.0</td>\n",
       "      <td>3.0</td>\n",
       "      <td>234.0</td>\n",
       "      <td>424.0</td>\n",
       "    </tr>\n",
       "    <tr>\n",
       "      <th>4</th>\n",
       "      <td>2</td>\n",
       "      <td>10000000.0</td>\n",
       "      <td>100.00</td>\n",
       "      <td>2018-06-19T00:00:00</td>\n",
       "      <td>2</td>\n",
       "      <td>3.03</td>\n",
       "      <td>14.0</td>\n",
       "      <td>32.00</td>\n",
       "      <td>13</td>\n",
       "      <td>NaN</td>\n",
       "      <td>False</td>\n",
       "      <td>False</td>\n",
       "      <td>41.00</td>\n",
       "      <td>NaN</td>\n",
       "      <td>Санкт-Петербург</td>\n",
       "      <td>31856.0</td>\n",
       "      <td>8098.0</td>\n",
       "      <td>2.0</td>\n",
       "      <td>112.0</td>\n",
       "      <td>1.0</td>\n",
       "      <td>48.0</td>\n",
       "      <td>121.0</td>\n",
       "    </tr>\n",
       "    <tr>\n",
       "      <th>5</th>\n",
       "      <td>10</td>\n",
       "      <td>2890000.0</td>\n",
       "      <td>30.40</td>\n",
       "      <td>2018-09-10T00:00:00</td>\n",
       "      <td>1</td>\n",
       "      <td>NaN</td>\n",
       "      <td>12.0</td>\n",
       "      <td>14.40</td>\n",
       "      <td>5</td>\n",
       "      <td>NaN</td>\n",
       "      <td>False</td>\n",
       "      <td>False</td>\n",
       "      <td>9.10</td>\n",
       "      <td>NaN</td>\n",
       "      <td>городской посёлок Янино-1</td>\n",
       "      <td>NaN</td>\n",
       "      <td>NaN</td>\n",
       "      <td>NaN</td>\n",
       "      <td>NaN</td>\n",
       "      <td>NaN</td>\n",
       "      <td>NaN</td>\n",
       "      <td>55.0</td>\n",
       "    </tr>\n",
       "    <tr>\n",
       "      <th>6</th>\n",
       "      <td>6</td>\n",
       "      <td>3700000.0</td>\n",
       "      <td>37.30</td>\n",
       "      <td>2017-11-02T00:00:00</td>\n",
       "      <td>1</td>\n",
       "      <td>NaN</td>\n",
       "      <td>26.0</td>\n",
       "      <td>10.60</td>\n",
       "      <td>6</td>\n",
       "      <td>NaN</td>\n",
       "      <td>False</td>\n",
       "      <td>False</td>\n",
       "      <td>14.40</td>\n",
       "      <td>1.0</td>\n",
       "      <td>посёлок Парголово</td>\n",
       "      <td>52996.0</td>\n",
       "      <td>19143.0</td>\n",
       "      <td>0.0</td>\n",
       "      <td>NaN</td>\n",
       "      <td>0.0</td>\n",
       "      <td>NaN</td>\n",
       "      <td>155.0</td>\n",
       "    </tr>\n",
       "    <tr>\n",
       "      <th>7</th>\n",
       "      <td>5</td>\n",
       "      <td>7915000.0</td>\n",
       "      <td>71.60</td>\n",
       "      <td>2019-04-18T00:00:00</td>\n",
       "      <td>2</td>\n",
       "      <td>NaN</td>\n",
       "      <td>24.0</td>\n",
       "      <td>NaN</td>\n",
       "      <td>22</td>\n",
       "      <td>NaN</td>\n",
       "      <td>False</td>\n",
       "      <td>False</td>\n",
       "      <td>18.90</td>\n",
       "      <td>2.0</td>\n",
       "      <td>Санкт-Петербург</td>\n",
       "      <td>23982.0</td>\n",
       "      <td>11634.0</td>\n",
       "      <td>0.0</td>\n",
       "      <td>NaN</td>\n",
       "      <td>0.0</td>\n",
       "      <td>NaN</td>\n",
       "      <td>NaN</td>\n",
       "    </tr>\n",
       "    <tr>\n",
       "      <th>8</th>\n",
       "      <td>20</td>\n",
       "      <td>2900000.0</td>\n",
       "      <td>33.16</td>\n",
       "      <td>2018-05-23T00:00:00</td>\n",
       "      <td>1</td>\n",
       "      <td>NaN</td>\n",
       "      <td>27.0</td>\n",
       "      <td>15.43</td>\n",
       "      <td>26</td>\n",
       "      <td>NaN</td>\n",
       "      <td>False</td>\n",
       "      <td>False</td>\n",
       "      <td>8.81</td>\n",
       "      <td>NaN</td>\n",
       "      <td>посёлок Мурино</td>\n",
       "      <td>NaN</td>\n",
       "      <td>NaN</td>\n",
       "      <td>NaN</td>\n",
       "      <td>NaN</td>\n",
       "      <td>NaN</td>\n",
       "      <td>NaN</td>\n",
       "      <td>189.0</td>\n",
       "    </tr>\n",
       "    <tr>\n",
       "      <th>9</th>\n",
       "      <td>18</td>\n",
       "      <td>5400000.0</td>\n",
       "      <td>61.00</td>\n",
       "      <td>2017-02-26T00:00:00</td>\n",
       "      <td>3</td>\n",
       "      <td>2.50</td>\n",
       "      <td>9.0</td>\n",
       "      <td>43.60</td>\n",
       "      <td>7</td>\n",
       "      <td>NaN</td>\n",
       "      <td>False</td>\n",
       "      <td>False</td>\n",
       "      <td>6.50</td>\n",
       "      <td>2.0</td>\n",
       "      <td>Санкт-Петербург</td>\n",
       "      <td>50898.0</td>\n",
       "      <td>15008.0</td>\n",
       "      <td>0.0</td>\n",
       "      <td>NaN</td>\n",
       "      <td>0.0</td>\n",
       "      <td>NaN</td>\n",
       "      <td>289.0</td>\n",
       "    </tr>\n",
       "    <tr>\n",
       "      <th>10</th>\n",
       "      <td>5</td>\n",
       "      <td>5050000.0</td>\n",
       "      <td>39.60</td>\n",
       "      <td>2017-11-16T00:00:00</td>\n",
       "      <td>1</td>\n",
       "      <td>2.67</td>\n",
       "      <td>12.0</td>\n",
       "      <td>20.30</td>\n",
       "      <td>3</td>\n",
       "      <td>NaN</td>\n",
       "      <td>False</td>\n",
       "      <td>False</td>\n",
       "      <td>8.50</td>\n",
       "      <td>NaN</td>\n",
       "      <td>Санкт-Петербург</td>\n",
       "      <td>38357.0</td>\n",
       "      <td>13878.0</td>\n",
       "      <td>1.0</td>\n",
       "      <td>310.0</td>\n",
       "      <td>2.0</td>\n",
       "      <td>553.0</td>\n",
       "      <td>137.0</td>\n",
       "    </tr>\n",
       "    <tr>\n",
       "      <th>11</th>\n",
       "      <td>9</td>\n",
       "      <td>3300000.0</td>\n",
       "      <td>44.00</td>\n",
       "      <td>2018-08-27T00:00:00</td>\n",
       "      <td>2</td>\n",
       "      <td>NaN</td>\n",
       "      <td>5.0</td>\n",
       "      <td>31.00</td>\n",
       "      <td>4</td>\n",
       "      <td>False</td>\n",
       "      <td>False</td>\n",
       "      <td>False</td>\n",
       "      <td>6.00</td>\n",
       "      <td>1.0</td>\n",
       "      <td>Ломоносов</td>\n",
       "      <td>48252.0</td>\n",
       "      <td>51677.0</td>\n",
       "      <td>0.0</td>\n",
       "      <td>NaN</td>\n",
       "      <td>0.0</td>\n",
       "      <td>NaN</td>\n",
       "      <td>7.0</td>\n",
       "    </tr>\n",
       "    <tr>\n",
       "      <th>12</th>\n",
       "      <td>10</td>\n",
       "      <td>3890000.0</td>\n",
       "      <td>54.00</td>\n",
       "      <td>2016-06-30T00:00:00</td>\n",
       "      <td>2</td>\n",
       "      <td>NaN</td>\n",
       "      <td>5.0</td>\n",
       "      <td>30.00</td>\n",
       "      <td>5</td>\n",
       "      <td>NaN</td>\n",
       "      <td>False</td>\n",
       "      <td>False</td>\n",
       "      <td>9.00</td>\n",
       "      <td>0.0</td>\n",
       "      <td>Сертолово</td>\n",
       "      <td>NaN</td>\n",
       "      <td>NaN</td>\n",
       "      <td>NaN</td>\n",
       "      <td>NaN</td>\n",
       "      <td>NaN</td>\n",
       "      <td>NaN</td>\n",
       "      <td>90.0</td>\n",
       "    </tr>\n",
       "    <tr>\n",
       "      <th>13</th>\n",
       "      <td>20</td>\n",
       "      <td>3550000.0</td>\n",
       "      <td>42.80</td>\n",
       "      <td>2017-07-01T00:00:00</td>\n",
       "      <td>2</td>\n",
       "      <td>2.56</td>\n",
       "      <td>5.0</td>\n",
       "      <td>27.00</td>\n",
       "      <td>5</td>\n",
       "      <td>NaN</td>\n",
       "      <td>False</td>\n",
       "      <td>False</td>\n",
       "      <td>5.20</td>\n",
       "      <td>1.0</td>\n",
       "      <td>Петергоф</td>\n",
       "      <td>37868.0</td>\n",
       "      <td>33058.0</td>\n",
       "      <td>1.0</td>\n",
       "      <td>294.0</td>\n",
       "      <td>3.0</td>\n",
       "      <td>298.0</td>\n",
       "      <td>366.0</td>\n",
       "    </tr>\n",
       "    <tr>\n",
       "      <th>14</th>\n",
       "      <td>1</td>\n",
       "      <td>4400000.0</td>\n",
       "      <td>36.00</td>\n",
       "      <td>2016-06-23T00:00:00</td>\n",
       "      <td>1</td>\n",
       "      <td>NaN</td>\n",
       "      <td>6.0</td>\n",
       "      <td>17.00</td>\n",
       "      <td>1</td>\n",
       "      <td>NaN</td>\n",
       "      <td>False</td>\n",
       "      <td>False</td>\n",
       "      <td>8.00</td>\n",
       "      <td>0.0</td>\n",
       "      <td>Пушкин</td>\n",
       "      <td>20782.0</td>\n",
       "      <td>30759.0</td>\n",
       "      <td>0.0</td>\n",
       "      <td>NaN</td>\n",
       "      <td>1.0</td>\n",
       "      <td>96.0</td>\n",
       "      <td>203.0</td>\n",
       "    </tr>\n",
       "    <tr>\n",
       "      <th>15</th>\n",
       "      <td>16</td>\n",
       "      <td>4650000.0</td>\n",
       "      <td>39.00</td>\n",
       "      <td>2017-11-18T00:00:00</td>\n",
       "      <td>1</td>\n",
       "      <td>NaN</td>\n",
       "      <td>14.0</td>\n",
       "      <td>20.50</td>\n",
       "      <td>5</td>\n",
       "      <td>NaN</td>\n",
       "      <td>False</td>\n",
       "      <td>False</td>\n",
       "      <td>7.60</td>\n",
       "      <td>1.0</td>\n",
       "      <td>Санкт-Петербург</td>\n",
       "      <td>12900.0</td>\n",
       "      <td>14259.0</td>\n",
       "      <td>1.0</td>\n",
       "      <td>590.0</td>\n",
       "      <td>1.0</td>\n",
       "      <td>296.0</td>\n",
       "      <td>19.0</td>\n",
       "    </tr>\n",
       "    <tr>\n",
       "      <th>16</th>\n",
       "      <td>11</td>\n",
       "      <td>6700000.0</td>\n",
       "      <td>82.00</td>\n",
       "      <td>2017-11-23T00:00:00</td>\n",
       "      <td>3</td>\n",
       "      <td>3.05</td>\n",
       "      <td>5.0</td>\n",
       "      <td>55.60</td>\n",
       "      <td>1</td>\n",
       "      <td>NaN</td>\n",
       "      <td>False</td>\n",
       "      <td>False</td>\n",
       "      <td>9.00</td>\n",
       "      <td>NaN</td>\n",
       "      <td>Санкт-Петербург</td>\n",
       "      <td>22108.0</td>\n",
       "      <td>10698.0</td>\n",
       "      <td>3.0</td>\n",
       "      <td>420.0</td>\n",
       "      <td>0.0</td>\n",
       "      <td>NaN</td>\n",
       "      <td>397.0</td>\n",
       "    </tr>\n",
       "    <tr>\n",
       "      <th>17</th>\n",
       "      <td>6</td>\n",
       "      <td>4180000.0</td>\n",
       "      <td>36.00</td>\n",
       "      <td>2016-09-09T00:00:00</td>\n",
       "      <td>1</td>\n",
       "      <td>NaN</td>\n",
       "      <td>17.0</td>\n",
       "      <td>16.50</td>\n",
       "      <td>7</td>\n",
       "      <td>NaN</td>\n",
       "      <td>False</td>\n",
       "      <td>False</td>\n",
       "      <td>11.00</td>\n",
       "      <td>1.0</td>\n",
       "      <td>Санкт-Петербург</td>\n",
       "      <td>33564.0</td>\n",
       "      <td>14616.0</td>\n",
       "      <td>0.0</td>\n",
       "      <td>NaN</td>\n",
       "      <td>1.0</td>\n",
       "      <td>859.0</td>\n",
       "      <td>571.0</td>\n",
       "    </tr>\n",
       "    <tr>\n",
       "      <th>18</th>\n",
       "      <td>8</td>\n",
       "      <td>3250000.0</td>\n",
       "      <td>31.00</td>\n",
       "      <td>2017-01-27T00:00:00</td>\n",
       "      <td>1</td>\n",
       "      <td>2.50</td>\n",
       "      <td>5.0</td>\n",
       "      <td>19.40</td>\n",
       "      <td>2</td>\n",
       "      <td>NaN</td>\n",
       "      <td>False</td>\n",
       "      <td>False</td>\n",
       "      <td>5.60</td>\n",
       "      <td>1.0</td>\n",
       "      <td>Санкт-Петербург</td>\n",
       "      <td>44060.0</td>\n",
       "      <td>10842.0</td>\n",
       "      <td>1.0</td>\n",
       "      <td>759.0</td>\n",
       "      <td>0.0</td>\n",
       "      <td>NaN</td>\n",
       "      <td>168.0</td>\n",
       "    </tr>\n",
       "    <tr>\n",
       "      <th>19</th>\n",
       "      <td>16</td>\n",
       "      <td>14200000.0</td>\n",
       "      <td>121.00</td>\n",
       "      <td>2019-01-09T00:00:00</td>\n",
       "      <td>3</td>\n",
       "      <td>2.75</td>\n",
       "      <td>16.0</td>\n",
       "      <td>76.00</td>\n",
       "      <td>8</td>\n",
       "      <td>NaN</td>\n",
       "      <td>False</td>\n",
       "      <td>False</td>\n",
       "      <td>12.00</td>\n",
       "      <td>NaN</td>\n",
       "      <td>Санкт-Петербург</td>\n",
       "      <td>38900.0</td>\n",
       "      <td>12843.0</td>\n",
       "      <td>0.0</td>\n",
       "      <td>NaN</td>\n",
       "      <td>0.0</td>\n",
       "      <td>NaN</td>\n",
       "      <td>97.0</td>\n",
       "    </tr>\n",
       "  </tbody>\n",
       "</table>\n",
       "</div>"
      ],
      "text/plain": [
       "    total_images  last_price  total_area first_day_exposition  rooms  \\\n",
       "0             20  13000000.0      108.00  2019-03-07T00:00:00      3   \n",
       "1              7   3350000.0       40.40  2018-12-04T00:00:00      1   \n",
       "2             10   5196000.0       56.00  2015-08-20T00:00:00      2   \n",
       "3              0  64900000.0      159.00  2015-07-24T00:00:00      3   \n",
       "4              2  10000000.0      100.00  2018-06-19T00:00:00      2   \n",
       "5             10   2890000.0       30.40  2018-09-10T00:00:00      1   \n",
       "6              6   3700000.0       37.30  2017-11-02T00:00:00      1   \n",
       "7              5   7915000.0       71.60  2019-04-18T00:00:00      2   \n",
       "8             20   2900000.0       33.16  2018-05-23T00:00:00      1   \n",
       "9             18   5400000.0       61.00  2017-02-26T00:00:00      3   \n",
       "10             5   5050000.0       39.60  2017-11-16T00:00:00      1   \n",
       "11             9   3300000.0       44.00  2018-08-27T00:00:00      2   \n",
       "12            10   3890000.0       54.00  2016-06-30T00:00:00      2   \n",
       "13            20   3550000.0       42.80  2017-07-01T00:00:00      2   \n",
       "14             1   4400000.0       36.00  2016-06-23T00:00:00      1   \n",
       "15            16   4650000.0       39.00  2017-11-18T00:00:00      1   \n",
       "16            11   6700000.0       82.00  2017-11-23T00:00:00      3   \n",
       "17             6   4180000.0       36.00  2016-09-09T00:00:00      1   \n",
       "18             8   3250000.0       31.00  2017-01-27T00:00:00      1   \n",
       "19            16  14200000.0      121.00  2019-01-09T00:00:00      3   \n",
       "\n",
       "    ceiling_height  floors_total  living_area  floor is_apartment  studio  \\\n",
       "0             2.70          16.0        51.00      8          NaN   False   \n",
       "1              NaN          11.0        18.60      1          NaN   False   \n",
       "2              NaN           5.0        34.30      4          NaN   False   \n",
       "3              NaN          14.0          NaN      9          NaN   False   \n",
       "4             3.03          14.0        32.00     13          NaN   False   \n",
       "5              NaN          12.0        14.40      5          NaN   False   \n",
       "6              NaN          26.0        10.60      6          NaN   False   \n",
       "7              NaN          24.0          NaN     22          NaN   False   \n",
       "8              NaN          27.0        15.43     26          NaN   False   \n",
       "9             2.50           9.0        43.60      7          NaN   False   \n",
       "10            2.67          12.0        20.30      3          NaN   False   \n",
       "11             NaN           5.0        31.00      4        False   False   \n",
       "12             NaN           5.0        30.00      5          NaN   False   \n",
       "13            2.56           5.0        27.00      5          NaN   False   \n",
       "14             NaN           6.0        17.00      1          NaN   False   \n",
       "15             NaN          14.0        20.50      5          NaN   False   \n",
       "16            3.05           5.0        55.60      1          NaN   False   \n",
       "17             NaN          17.0        16.50      7          NaN   False   \n",
       "18            2.50           5.0        19.40      2          NaN   False   \n",
       "19            2.75          16.0        76.00      8          NaN   False   \n",
       "\n",
       "    open_plan  kitchen_area  balcony              locality_name  \\\n",
       "0       False         25.00      NaN            Санкт-Петербург   \n",
       "1       False         11.00      2.0             посёлок Шушары   \n",
       "2       False          8.30      0.0            Санкт-Петербург   \n",
       "3       False           NaN      0.0            Санкт-Петербург   \n",
       "4       False         41.00      NaN            Санкт-Петербург   \n",
       "5       False          9.10      NaN  городской посёлок Янино-1   \n",
       "6       False         14.40      1.0          посёлок Парголово   \n",
       "7       False         18.90      2.0            Санкт-Петербург   \n",
       "8       False          8.81      NaN             посёлок Мурино   \n",
       "9       False          6.50      2.0            Санкт-Петербург   \n",
       "10      False          8.50      NaN            Санкт-Петербург   \n",
       "11      False          6.00      1.0                  Ломоносов   \n",
       "12      False          9.00      0.0                  Сертолово   \n",
       "13      False          5.20      1.0                   Петергоф   \n",
       "14      False          8.00      0.0                     Пушкин   \n",
       "15      False          7.60      1.0            Санкт-Петербург   \n",
       "16      False          9.00      NaN            Санкт-Петербург   \n",
       "17      False         11.00      1.0            Санкт-Петербург   \n",
       "18      False          5.60      1.0            Санкт-Петербург   \n",
       "19      False         12.00      NaN            Санкт-Петербург   \n",
       "\n",
       "    airports_nearest  cityCenters_nearest  parks_around3000  parks_nearest  \\\n",
       "0            18863.0              16028.0               1.0          482.0   \n",
       "1            12817.0              18603.0               0.0            NaN   \n",
       "2            21741.0              13933.0               1.0           90.0   \n",
       "3            28098.0               6800.0               2.0           84.0   \n",
       "4            31856.0               8098.0               2.0          112.0   \n",
       "5                NaN                  NaN               NaN            NaN   \n",
       "6            52996.0              19143.0               0.0            NaN   \n",
       "7            23982.0              11634.0               0.0            NaN   \n",
       "8                NaN                  NaN               NaN            NaN   \n",
       "9            50898.0              15008.0               0.0            NaN   \n",
       "10           38357.0              13878.0               1.0          310.0   \n",
       "11           48252.0              51677.0               0.0            NaN   \n",
       "12               NaN                  NaN               NaN            NaN   \n",
       "13           37868.0              33058.0               1.0          294.0   \n",
       "14           20782.0              30759.0               0.0            NaN   \n",
       "15           12900.0              14259.0               1.0          590.0   \n",
       "16           22108.0              10698.0               3.0          420.0   \n",
       "17           33564.0              14616.0               0.0            NaN   \n",
       "18           44060.0              10842.0               1.0          759.0   \n",
       "19           38900.0              12843.0               0.0            NaN   \n",
       "\n",
       "    ponds_around3000  ponds_nearest  days_exposition  \n",
       "0                2.0          755.0              NaN  \n",
       "1                0.0            NaN             81.0  \n",
       "2                2.0          574.0            558.0  \n",
       "3                3.0          234.0            424.0  \n",
       "4                1.0           48.0            121.0  \n",
       "5                NaN            NaN             55.0  \n",
       "6                0.0            NaN            155.0  \n",
       "7                0.0            NaN              NaN  \n",
       "8                NaN            NaN            189.0  \n",
       "9                0.0            NaN            289.0  \n",
       "10               2.0          553.0            137.0  \n",
       "11               0.0            NaN              7.0  \n",
       "12               NaN            NaN             90.0  \n",
       "13               3.0          298.0            366.0  \n",
       "14               1.0           96.0            203.0  \n",
       "15               1.0          296.0             19.0  \n",
       "16               0.0            NaN            397.0  \n",
       "17               1.0          859.0            571.0  \n",
       "18               0.0            NaN            168.0  \n",
       "19               0.0            NaN             97.0  "
      ]
     },
     "execution_count": 4,
     "metadata": {},
     "output_type": "execute_result"
    }
   ],
   "source": [
    "# выводим первые 20 строчек датафрейма data на экран:\n",
    "data.head(20)"
   ]
  },
  {
   "cell_type": "code",
   "execution_count": 5,
   "metadata": {
    "scrolled": true
   },
   "outputs": [
    {
     "name": "stdout",
     "output_type": "stream",
     "text": [
      "<class 'pandas.core.frame.DataFrame'>\n",
      "RangeIndex: 23699 entries, 0 to 23698\n",
      "Data columns (total 22 columns):\n",
      " #   Column                Non-Null Count  Dtype  \n",
      "---  ------                --------------  -----  \n",
      " 0   total_images          23699 non-null  int64  \n",
      " 1   last_price            23699 non-null  float64\n",
      " 2   total_area            23699 non-null  float64\n",
      " 3   first_day_exposition  23699 non-null  object \n",
      " 4   rooms                 23699 non-null  int64  \n",
      " 5   ceiling_height        14504 non-null  float64\n",
      " 6   floors_total          23613 non-null  float64\n",
      " 7   living_area           21796 non-null  float64\n",
      " 8   floor                 23699 non-null  int64  \n",
      " 9   is_apartment          2775 non-null   object \n",
      " 10  studio                23699 non-null  bool   \n",
      " 11  open_plan             23699 non-null  bool   \n",
      " 12  kitchen_area          21421 non-null  float64\n",
      " 13  balcony               12180 non-null  float64\n",
      " 14  locality_name         23650 non-null  object \n",
      " 15  airports_nearest      18157 non-null  float64\n",
      " 16  cityCenters_nearest   18180 non-null  float64\n",
      " 17  parks_around3000      18181 non-null  float64\n",
      " 18  parks_nearest         8079 non-null   float64\n",
      " 19  ponds_around3000      18181 non-null  float64\n",
      " 20  ponds_nearest         9110 non-null   float64\n",
      " 21  days_exposition       20518 non-null  float64\n",
      "dtypes: bool(2), float64(14), int64(3), object(3)\n",
      "memory usage: 3.7+ MB\n"
     ]
    }
   ],
   "source": [
    "# выводим основную информацию о датафрейме:\n",
    "data.info()"
   ]
  },
  {
   "cell_type": "markdown",
   "metadata": {
    "id": "-O5NtivEAwb9"
   },
   "source": [
    "### Выполните предобработку данных"
   ]
  },
  {
   "cell_type": "markdown",
   "metadata": {
    "id": "7v3vAeTuAwb-"
   },
   "source": [
    "#### Удаление пропусков"
   ]
  },
  {
   "cell_type": "code",
   "execution_count": 6,
   "metadata": {},
   "outputs": [
    {
     "data": {
      "text/plain": [
       "total_images                0\n",
       "last_price                  0\n",
       "total_area                  0\n",
       "first_day_exposition        0\n",
       "rooms                       0\n",
       "ceiling_height           9195\n",
       "floors_total               86\n",
       "living_area              1903\n",
       "floor                       0\n",
       "is_apartment            20924\n",
       "studio                      0\n",
       "open_plan                   0\n",
       "kitchen_area             2278\n",
       "balcony                 11519\n",
       "locality_name              49\n",
       "airports_nearest         5542\n",
       "cityCenters_nearest      5519\n",
       "parks_around3000         5518\n",
       "parks_nearest           15620\n",
       "ponds_around3000         5518\n",
       "ponds_nearest           14589\n",
       "days_exposition          3181\n",
       "dtype: int64"
      ]
     },
     "execution_count": 6,
     "metadata": {},
     "output_type": "execute_result"
    }
   ],
   "source": [
    "# определяем в каких столбцах есть пропуски:\n",
    "data.isna().sum()"
   ]
  },
  {
   "cell_type": "code",
   "execution_count": 7,
   "metadata": {},
   "outputs": [
    {
     "name": "stderr",
     "output_type": "stream",
     "text": [
      "C:\\Users\\klime\\AppData\\Local\\Temp\\ipykernel_179672\\4210453315.py:3: FutureWarning: Downcasting object dtype arrays on .fillna, .ffill, .bfill is deprecated and will change in a future version. Call result.infer_objects(copy=False) instead. To opt-in to the future behavior, set `pd.set_option('future.no_silent_downcasting', True)`\n",
      "  data['is_apartment'] = data['is_apartment'].fillna(True)\n"
     ]
    }
   ],
   "source": [
    "# заполняем пропущенные значения в столбце 'is_apartment' на True, \n",
    "# поскольку анализ проводится для квартир:\n",
    "data['is_apartment'] = data['is_apartment'].fillna(True)"
   ]
  },
  {
   "cell_type": "code",
   "execution_count": 8,
   "metadata": {},
   "outputs": [],
   "source": [
    "# заполняем пропущенные значения в столбце 'balcony' на 0, \n",
    "# поскольку, если количество балконов не указано, скорее всего их нет:\n",
    "data['balcony'] = data['balcony'].fillna(0)"
   ]
  },
  {
   "cell_type": "code",
   "execution_count": 9,
   "metadata": {},
   "outputs": [],
   "source": [
    "# заполняем пропущенные значения в столбцах 'parks_around3000'\n",
    "# на 0, поскольку, если количество парков на расстоянии до 3000м не указано, скорее всего их нет:\n",
    "data['parks_around3000'] = data['parks_around3000'].fillna(0)"
   ]
  },
  {
   "cell_type": "code",
   "execution_count": 10,
   "metadata": {},
   "outputs": [],
   "source": [
    "# заполняем пропущенные значения в столбцах 'ponds_around3000'\n",
    "# на 0, поскольку, если количество прудов на расстоянии до 3000м не указано, скорее всего их нет:\n",
    "data['ponds_around3000'] = data['ponds_around3000'].fillna(0)"
   ]
  },
  {
   "cell_type": "markdown",
   "metadata": {},
   "source": [
    "Проверяем заполнены ли вышеуказанные пропуски:"
   ]
  },
  {
   "cell_type": "code",
   "execution_count": 11,
   "metadata": {},
   "outputs": [
    {
     "data": {
      "text/plain": [
       "total_images                0\n",
       "last_price                  0\n",
       "total_area                  0\n",
       "first_day_exposition        0\n",
       "rooms                       0\n",
       "ceiling_height           9195\n",
       "floors_total               86\n",
       "living_area              1903\n",
       "floor                       0\n",
       "is_apartment                0\n",
       "studio                      0\n",
       "open_plan                   0\n",
       "kitchen_area             2278\n",
       "balcony                     0\n",
       "locality_name              49\n",
       "airports_nearest         5542\n",
       "cityCenters_nearest      5519\n",
       "parks_around3000            0\n",
       "parks_nearest           15620\n",
       "ponds_around3000            0\n",
       "ponds_nearest           14589\n",
       "days_exposition          3181\n",
       "dtype: int64"
      ]
     },
     "execution_count": 11,
     "metadata": {},
     "output_type": "execute_result"
    }
   ],
   "source": [
    "data.isna().sum()"
   ]
  },
  {
   "cell_type": "markdown",
   "metadata": {},
   "source": [
    "**Вывод:**\\\n",
    "Пропуски в данных могли возникнуть из-за того, что:\n",
    "1. Продавец не указал необходимую информацию или ошибся при вводе данных.\n",
    "2. Возникли технические неполадки в автоматическом получении информации на основе картографических данных."
   ]
  },
  {
   "cell_type": "markdown",
   "metadata": {},
   "source": [
    "#### Изменение типов данных"
   ]
  },
  {
   "cell_type": "code",
   "execution_count": 12,
   "metadata": {},
   "outputs": [],
   "source": [
    "# изменение типа данных в столбцах 'parks_around3000', 'parks_nearest' на int:\n",
    "data['parks_around3000'] = data['parks_around3000'].astype(int)"
   ]
  },
  {
   "cell_type": "code",
   "execution_count": 13,
   "metadata": {},
   "outputs": [],
   "source": [
    "# изменение типа данных в столбцах 'ponds_around3000', 'ponds_nearest' на int:\n",
    "data['ponds_around3000'] = data['ponds_around3000'].astype(int)"
   ]
  },
  {
   "cell_type": "code",
   "execution_count": 14,
   "metadata": {},
   "outputs": [],
   "source": [
    "# преобразование даты создания объявления в столбце 'first_day_exposition':\n",
    "data['first_day_exposition'] = pd.to_datetime(data['first_day_exposition'],\n",
    "                                              format='%Y-%m-%dT%H:%M:%S')"
   ]
  },
  {
   "cell_type": "markdown",
   "metadata": {},
   "source": [
    "**Вывод:**  \n",
    "\n",
    "1. Изменяем тип данных в столбцах 'parks_around3000', 'ponds_around3000' с float на int, поскольку количество парков и прудов обычно указывается в целых числах.\n",
    "2. Преобразовываем столбец 'first_day_exposition' с object на datetime для отображения столбца как даты, а не строки."
   ]
  },
  {
   "cell_type": "markdown",
   "metadata": {},
   "source": [
    "#### Обработка дубликатов"
   ]
  },
  {
   "cell_type": "code",
   "execution_count": 15,
   "metadata": {
    "scrolled": false
   },
   "outputs": [
    {
     "data": {
      "text/plain": [
       "array(['Санкт-Петербург', 'посёлок Шушары', 'городской посёлок Янино-1',\n",
       "       'посёлок Парголово', 'посёлок Мурино', 'Ломоносов', 'Сертолово',\n",
       "       'Петергоф', 'Пушкин', 'деревня Кудрово', 'Коммунар', 'Колпино',\n",
       "       'поселок городского типа Красный Бор', 'Гатчина', 'поселок Мурино',\n",
       "       'деревня Фёдоровское', 'Выборг', 'Кронштадт', 'Кировск',\n",
       "       'деревня Новое Девяткино', 'посёлок Металлострой',\n",
       "       'посёлок городского типа Лебяжье',\n",
       "       'посёлок городского типа Сиверский', 'поселок Молодцово',\n",
       "       'поселок городского типа Кузьмоловский',\n",
       "       'садовое товарищество Новая Ропша', 'Павловск',\n",
       "       'деревня Пикколово', 'Всеволожск', 'Волхов', 'Кингисепп',\n",
       "       'Приозерск', 'Сестрорецк', 'деревня Куттузи', 'посёлок Аннино',\n",
       "       'поселок городского типа Ефимовский', 'посёлок Плодовое',\n",
       "       'деревня Заклинье', 'поселок Торковичи', 'поселок Первомайское',\n",
       "       'Красное Село', 'посёлок Понтонный', 'Сясьстрой', 'деревня Старая',\n",
       "       'деревня Лесколово', 'посёлок Новый Свет', 'Сланцы',\n",
       "       'село Путилово', 'Ивангород', 'Мурино', 'Шлиссельбург',\n",
       "       'Никольское', 'Зеленогорск', 'Сосновый Бор', 'поселок Новый Свет',\n",
       "       'деревня Оржицы', 'деревня Кальтино', 'Кудрово',\n",
       "       'поселок Романовка', 'посёлок Бугры', 'поселок Бугры',\n",
       "       'поселок городского типа Рощино', 'Кириши', 'Луга', 'Волосово',\n",
       "       'Отрадное', 'село Павлово', 'поселок Оредеж', 'село Копорье',\n",
       "       'посёлок городского типа Красный Бор', 'посёлок Молодёжное',\n",
       "       'Тихвин', 'посёлок Победа', 'деревня Нурма',\n",
       "       'поселок городского типа Синявино', 'Тосно',\n",
       "       'посёлок городского типа Кузьмоловский', 'посёлок Стрельна',\n",
       "       'Бокситогорск', 'посёлок Александровская', 'деревня Лопухинка',\n",
       "       'Пикалёво', 'поселок Терволово',\n",
       "       'поселок городского типа Советский', 'Подпорожье',\n",
       "       'посёлок Петровское', 'посёлок городского типа Токсово',\n",
       "       'поселок Сельцо', 'посёлок городского типа Вырица',\n",
       "       'деревня Кипень', 'деревня Келози', 'деревня Вартемяги',\n",
       "       'посёлок Тельмана', 'поселок Севастьяново',\n",
       "       'городской поселок Большая Ижора', nan,\n",
       "       'городской посёлок Павлово', 'деревня Агалатово',\n",
       "       'посёлок Новогорелово', 'городской посёлок Лесогорский',\n",
       "       'деревня Лаголово', 'поселок Цвелодубово',\n",
       "       'поселок городского типа Рахья', 'поселок городского типа Вырица',\n",
       "       'деревня Белогорка', 'поселок Заводской',\n",
       "       'городской посёлок Новоселье', 'деревня Большие Колпаны',\n",
       "       'деревня Горбунки', 'деревня Батово', 'деревня Заневка',\n",
       "       'деревня Иссад', 'Приморск', 'городской посёлок Фёдоровское',\n",
       "       'деревня Мистолово', 'Новая Ладога', 'поселок Зимитицы',\n",
       "       'поселок Барышево', 'деревня Разметелево',\n",
       "       'поселок городского типа имени Свердлова', 'деревня Пеники',\n",
       "       'поселок Рябово', 'деревня Пудомяги', 'поселок станции Корнево',\n",
       "       'деревня Низино', 'деревня Бегуницы', 'посёлок Поляны',\n",
       "       'городской посёлок Мга', 'поселок Елизаветино',\n",
       "       'посёлок городского типа Кузнечное', 'деревня Колтуши',\n",
       "       'поселок Запорожское', 'посёлок городского типа Рощино',\n",
       "       'деревня Гостилицы', 'деревня Малое Карлино',\n",
       "       'посёлок Мичуринское', 'посёлок городского типа имени Морозова',\n",
       "       'посёлок Песочный', 'посёлок Сосново', 'деревня Аро',\n",
       "       'поселок Ильичёво', 'посёлок городского типа Тайцы',\n",
       "       'деревня Малое Верево', 'деревня Извара', 'поселок станции Вещево',\n",
       "       'село Паша', 'деревня Калитино',\n",
       "       'посёлок городского типа Ульяновка', 'деревня Чудской Бор',\n",
       "       'поселок городского типа Дубровка', 'деревня Мины',\n",
       "       'поселок Войсковицы', 'посёлок городского типа имени Свердлова',\n",
       "       'деревня Коркино', 'посёлок Ропша',\n",
       "       'поселок городского типа Приладожский', 'посёлок Щеглово',\n",
       "       'посёлок Гаврилово', 'Лодейное Поле', 'деревня Рабитицы',\n",
       "       'поселок городского типа Никольский', 'деревня Кузьмолово',\n",
       "       'деревня Малые Колпаны', 'поселок Тельмана',\n",
       "       'посёлок Петро-Славянка', 'городской посёлок Назия',\n",
       "       'посёлок Репино', 'посёлок Ильичёво', 'поселок Углово',\n",
       "       'поселок Старая Малукса', 'садовое товарищество Рахья',\n",
       "       'поселок Аннино', 'поселок Победа', 'деревня Меньково',\n",
       "       'деревня Старые Бегуницы', 'посёлок Сапёрный', 'поселок Семрино',\n",
       "       'поселок Гаврилово', 'поселок Глажево', 'поселок Кобринское',\n",
       "       'деревня Гарболово', 'деревня Юкки',\n",
       "       'поселок станции Приветнинское', 'деревня Мануйлово',\n",
       "       'деревня Пчева', 'поселок Поляны', 'поселок Цвылёво',\n",
       "       'поселок Мельниково', 'посёлок Пудость', 'посёлок Усть-Луга',\n",
       "       'Светогорск', 'Любань', 'поселок Селезнёво',\n",
       "       'поселок городского типа Рябово', 'Каменногорск', 'деревня Кривко',\n",
       "       'поселок Глебычево', 'деревня Парицы', 'поселок Жилпосёлок',\n",
       "       'посёлок городского типа Мга', 'городской поселок Янино-1',\n",
       "       'посёлок Войскорово', 'село Никольское', 'посёлок Терволово',\n",
       "       'поселок Стеклянный', 'посёлок городского типа Важины',\n",
       "       'посёлок Мыза-Ивановка', 'село Русско-Высоцкое',\n",
       "       'поселок городского типа Лебяжье',\n",
       "       'поселок городского типа Форносово', 'село Старая Ладога',\n",
       "       'поселок Житково', 'городской посёлок Виллози', 'деревня Лампово',\n",
       "       'деревня Шпаньково', 'деревня Лаврики', 'посёлок Сумино',\n",
       "       'посёлок Возрождение', 'деревня Старосиверская',\n",
       "       'посёлок Кикерино', 'поселок Возрождение',\n",
       "       'деревня Старое Хинколово', 'посёлок Пригородный',\n",
       "       'посёлок Торфяное', 'городской посёлок Будогощь',\n",
       "       'поселок Суходолье', 'поселок Красная Долина', 'деревня Хапо-Ое',\n",
       "       'поселок городского типа Дружная Горка', 'поселок Лисий Нос',\n",
       "       'деревня Яльгелево', 'посёлок Стеклянный', 'село Рождествено',\n",
       "       'деревня Старополье', 'посёлок Левашово', 'деревня Сяськелево',\n",
       "       'деревня Камышовка',\n",
       "       'садоводческое некоммерческое товарищество Лесная Поляна',\n",
       "       'деревня Хязельки', 'поселок Жилгородок',\n",
       "       'посёлок городского типа Павлово', 'деревня Ялгино',\n",
       "       'поселок Новый Учхоз', 'городской посёлок Рощино',\n",
       "       'поселок Гончарово', 'поселок Почап', 'посёлок Сапёрное',\n",
       "       'посёлок Платформа 69-й километр', 'поселок Каложицы',\n",
       "       'деревня Фалилеево', 'деревня Пельгора',\n",
       "       'поселок городского типа Лесогорский', 'деревня Торошковичи',\n",
       "       'посёлок Белоостров', 'посёлок Алексеевка', 'поселок Серебрянский',\n",
       "       'поселок Лукаши', 'поселок Петровское', 'деревня Щеглово',\n",
       "       'поселок Мичуринское', 'деревня Тарасово', 'поселок Кингисеппский',\n",
       "       'посёлок при железнодорожной станции Вещево', 'поселок Ушаки',\n",
       "       'деревня Котлы', 'деревня Сижно', 'деревня Торосово',\n",
       "       'посёлок Форт Красная Горка', 'поселок городского типа Токсово',\n",
       "       'деревня Новолисино', 'посёлок станции Громово', 'деревня Глинка',\n",
       "       'посёлок Мельниково', 'поселок городского типа Назия',\n",
       "       'деревня Старая Пустошь', 'поселок Коммунары', 'поселок Починок',\n",
       "       'посёлок городского типа Вознесенье', 'деревня Разбегаево',\n",
       "       'посёлок городского типа Рябово', 'поселок Гладкое',\n",
       "       'посёлок при железнодорожной станции Приветнинское',\n",
       "       'поселок Тёсово-4', 'посёлок Жилгородок', 'деревня Бор',\n",
       "       'посёлок Коробицыно', 'деревня Большая Вруда', 'деревня Курковицы',\n",
       "       'посёлок Лисий Нос', 'городской посёлок Советский',\n",
       "       'посёлок Кобралово', 'деревня Суоранда', 'поселок Кобралово',\n",
       "       'поселок городского типа Кондратьево',\n",
       "       'коттеджный поселок Счастье', 'поселок Любань', 'деревня Реброво',\n",
       "       'деревня Зимитицы', 'деревня Тойворово', 'поселок Семиозерье',\n",
       "       'поселок Лесное', 'поселок Совхозный', 'поселок Усть-Луга',\n",
       "       'посёлок Ленинское', 'посёлок Суйда',\n",
       "       'посёлок городского типа Форносово', 'деревня Нижние Осельки',\n",
       "       'посёлок станции Свирь', 'поселок Перово', 'Высоцк',\n",
       "       'поселок Гарболово', 'село Шум', 'поселок Котельский',\n",
       "       'поселок станции Лужайка', 'деревня Большая Пустомержа',\n",
       "       'поселок Красносельское', 'деревня Вахнова Кара', 'деревня Пижма',\n",
       "       'коттеджный поселок Кивеннапа Север', 'поселок Коробицыно',\n",
       "       'поселок Ромашки', 'посёлок Перово', 'деревня Каськово',\n",
       "       'деревня Куровицы', 'посёлок Плоское', 'поселок Сумино',\n",
       "       'поселок городского типа Большая Ижора', 'поселок Кирпичное',\n",
       "       'деревня Ям-Тесово', 'деревня Раздолье', 'деревня Терпилицы',\n",
       "       'посёлок Шугозеро', 'деревня Ваганово', 'поселок Пушное',\n",
       "       'садовое товарищество Садко', 'посёлок Усть-Ижора',\n",
       "       'деревня Выскатка', 'городской посёлок Свирьстрой',\n",
       "       'поселок Громово', 'деревня Кисельня', 'посёлок Старая Малукса',\n",
       "       'деревня Трубников Бор', 'поселок Калитино',\n",
       "       'посёлок Высокоключевой', 'садовое товарищество Приладожский',\n",
       "       'посёлок Пансионат Зелёный Бор', 'деревня Ненимяки',\n",
       "       'поселок Пансионат Зелёный Бор', 'деревня Снегирёвка',\n",
       "       'деревня Рапполово', 'деревня Пустынка', 'поселок Рабитицы',\n",
       "       'деревня Большой Сабск', 'деревня Русско', 'деревня Лупполово',\n",
       "       'деревня Большое Рейзино', 'деревня Малая Романовка',\n",
       "       'поселок Дружноселье', 'поселок Пчевжа', 'поселок Володарское',\n",
       "       'деревня Нижняя', 'коттеджный посёлок Лесное', 'деревня Тихковицы',\n",
       "       'деревня Борисова Грива', 'посёлок Дзержинского'], dtype=object)"
      ]
     },
     "execution_count": 15,
     "metadata": {},
     "output_type": "execute_result"
    }
   ],
   "source": [
    "# уникальные значения в столбце 'locality_name':\n",
    "data['locality_name'].unique()"
   ]
  },
  {
   "cell_type": "code",
   "execution_count": 16,
   "metadata": {},
   "outputs": [],
   "source": [
    "# устраняем неявные дубликаты по поселку Мурино:\n",
    "data['locality_name'] = (data['locality_name']\n",
    "                         .str.replace('ё','е')\n",
    "                         .replace(['Мурино', 'поселок Рябово'],\n",
    "                                  ['поселок Мурино', 'поселок городского типа Рябово'])\n",
    ")"
   ]
  },
  {
   "cell_type": "code",
   "execution_count": 17,
   "metadata": {},
   "outputs": [
    {
     "data": {
      "text/plain": [
       "array(['Санкт-Петербург', 'поселок Шушары', 'городской поселок Янино-1',\n",
       "       'поселок Парголово', 'поселок Мурино', 'Ломоносов', 'Сертолово',\n",
       "       'Петергоф', 'Пушкин', 'деревня Кудрово', 'Коммунар', 'Колпино',\n",
       "       'поселок городского типа Красный Бор', 'Гатчина',\n",
       "       'деревня Федоровское', 'Выборг', 'Кронштадт', 'Кировск',\n",
       "       'деревня Новое Девяткино', 'поселок Металлострой',\n",
       "       'поселок городского типа Лебяжье',\n",
       "       'поселок городского типа Сиверский', 'поселок Молодцово',\n",
       "       'поселок городского типа Кузьмоловский',\n",
       "       'садовое товарищество Новая Ропша', 'Павловск',\n",
       "       'деревня Пикколово', 'Всеволожск', 'Волхов', 'Кингисепп',\n",
       "       'Приозерск', 'Сестрорецк', 'деревня Куттузи', 'поселок Аннино',\n",
       "       'поселок городского типа Ефимовский', 'поселок Плодовое',\n",
       "       'деревня Заклинье', 'поселок Торковичи', 'поселок Первомайское',\n",
       "       'Красное Село', 'поселок Понтонный', 'Сясьстрой', 'деревня Старая',\n",
       "       'деревня Лесколово', 'поселок Новый Свет', 'Сланцы',\n",
       "       'село Путилово', 'Ивангород', 'Шлиссельбург', 'Никольское',\n",
       "       'Зеленогорск', 'Сосновый Бор', 'деревня Оржицы',\n",
       "       'деревня Кальтино', 'Кудрово', 'поселок Романовка',\n",
       "       'поселок Бугры', 'поселок городского типа Рощино', 'Кириши',\n",
       "       'Луга', 'Волосово', 'Отрадное', 'село Павлово', 'поселок Оредеж',\n",
       "       'село Копорье', 'поселок Молодежное', 'Тихвин', 'поселок Победа',\n",
       "       'деревня Нурма', 'поселок городского типа Синявино', 'Тосно',\n",
       "       'поселок Стрельна', 'Бокситогорск', 'поселок Александровская',\n",
       "       'деревня Лопухинка', 'Пикалево', 'поселок Терволово',\n",
       "       'поселок городского типа Советский', 'Подпорожье',\n",
       "       'поселок Петровское', 'поселок городского типа Токсово',\n",
       "       'поселок Сельцо', 'поселок городского типа Вырица',\n",
       "       'деревня Кипень', 'деревня Келози', 'деревня Вартемяги',\n",
       "       'поселок Тельмана', 'поселок Севастьяново',\n",
       "       'городской поселок Большая Ижора', nan,\n",
       "       'городской поселок Павлово', 'деревня Агалатово',\n",
       "       'поселок Новогорелово', 'городской поселок Лесогорский',\n",
       "       'деревня Лаголово', 'поселок Цвелодубово',\n",
       "       'поселок городского типа Рахья', 'деревня Белогорка',\n",
       "       'поселок Заводской', 'городской поселок Новоселье',\n",
       "       'деревня Большие Колпаны', 'деревня Горбунки', 'деревня Батово',\n",
       "       'деревня Заневка', 'деревня Иссад', 'Приморск',\n",
       "       'городской поселок Федоровское', 'деревня Мистолово',\n",
       "       'Новая Ладога', 'поселок Зимитицы', 'поселок Барышево',\n",
       "       'деревня Разметелево', 'поселок городского типа имени Свердлова',\n",
       "       'деревня Пеники', 'поселок городского типа Рябово',\n",
       "       'деревня Пудомяги', 'поселок станции Корнево', 'деревня Низино',\n",
       "       'деревня Бегуницы', 'поселок Поляны', 'городской поселок Мга',\n",
       "       'поселок Елизаветино', 'поселок городского типа Кузнечное',\n",
       "       'деревня Колтуши', 'поселок Запорожское', 'деревня Гостилицы',\n",
       "       'деревня Малое Карлино', 'поселок Мичуринское',\n",
       "       'поселок городского типа имени Морозова', 'поселок Песочный',\n",
       "       'поселок Сосново', 'деревня Аро', 'поселок Ильичево',\n",
       "       'поселок городского типа Тайцы', 'деревня Малое Верево',\n",
       "       'деревня Извара', 'поселок станции Вещево', 'село Паша',\n",
       "       'деревня Калитино', 'поселок городского типа Ульяновка',\n",
       "       'деревня Чудской Бор', 'поселок городского типа Дубровка',\n",
       "       'деревня Мины', 'поселок Войсковицы', 'деревня Коркино',\n",
       "       'поселок Ропша', 'поселок городского типа Приладожский',\n",
       "       'поселок Щеглово', 'поселок Гаврилово', 'Лодейное Поле',\n",
       "       'деревня Рабитицы', 'поселок городского типа Никольский',\n",
       "       'деревня Кузьмолово', 'деревня Малые Колпаны',\n",
       "       'поселок Петро-Славянка', 'городской поселок Назия',\n",
       "       'поселок Репино', 'поселок Углово', 'поселок Старая Малукса',\n",
       "       'садовое товарищество Рахья', 'деревня Меньково',\n",
       "       'деревня Старые Бегуницы', 'поселок Саперный', 'поселок Семрино',\n",
       "       'поселок Глажево', 'поселок Кобринское', 'деревня Гарболово',\n",
       "       'деревня Юкки', 'поселок станции Приветнинское',\n",
       "       'деревня Мануйлово', 'деревня Пчева', 'поселок Цвылево',\n",
       "       'поселок Мельниково', 'поселок Пудость', 'поселок Усть-Луга',\n",
       "       'Светогорск', 'Любань', 'поселок Селезнево', 'Каменногорск',\n",
       "       'деревня Кривко', 'поселок Глебычево', 'деревня Парицы',\n",
       "       'поселок Жилпоселок', 'поселок городского типа Мга',\n",
       "       'поселок Войскорово', 'село Никольское', 'поселок Стеклянный',\n",
       "       'поселок городского типа Важины', 'поселок Мыза-Ивановка',\n",
       "       'село Русско-Высоцкое', 'поселок городского типа Форносово',\n",
       "       'село Старая Ладога', 'поселок Житково',\n",
       "       'городской поселок Виллози', 'деревня Лампово',\n",
       "       'деревня Шпаньково', 'деревня Лаврики', 'поселок Сумино',\n",
       "       'поселок Возрождение', 'деревня Старосиверская',\n",
       "       'поселок Кикерино', 'деревня Старое Хинколово',\n",
       "       'поселок Пригородный', 'поселок Торфяное',\n",
       "       'городской поселок Будогощь', 'поселок Суходолье',\n",
       "       'поселок Красная Долина', 'деревня Хапо-Ое',\n",
       "       'поселок городского типа Дружная Горка', 'поселок Лисий Нос',\n",
       "       'деревня Яльгелево', 'село Рождествено', 'деревня Старополье',\n",
       "       'поселок Левашово', 'деревня Сяськелево', 'деревня Камышовка',\n",
       "       'садоводческое некоммерческое товарищество Лесная Поляна',\n",
       "       'деревня Хязельки', 'поселок Жилгородок',\n",
       "       'поселок городского типа Павлово', 'деревня Ялгино',\n",
       "       'поселок Новый Учхоз', 'городской поселок Рощино',\n",
       "       'поселок Гончарово', 'поселок Почап', 'поселок Саперное',\n",
       "       'поселок Платформа 69-й километр', 'поселок Каложицы',\n",
       "       'деревня Фалилеево', 'деревня Пельгора',\n",
       "       'поселок городского типа Лесогорский', 'деревня Торошковичи',\n",
       "       'поселок Белоостров', 'поселок Алексеевка', 'поселок Серебрянский',\n",
       "       'поселок Лукаши', 'деревня Щеглово', 'деревня Тарасово',\n",
       "       'поселок Кингисеппский',\n",
       "       'поселок при железнодорожной станции Вещево', 'поселок Ушаки',\n",
       "       'деревня Котлы', 'деревня Сижно', 'деревня Торосово',\n",
       "       'поселок Форт Красная Горка', 'деревня Новолисино',\n",
       "       'поселок станции Громово', 'деревня Глинка',\n",
       "       'поселок городского типа Назия', 'деревня Старая Пустошь',\n",
       "       'поселок Коммунары', 'поселок Починок',\n",
       "       'поселок городского типа Вознесенье', 'деревня Разбегаево',\n",
       "       'поселок Гладкое',\n",
       "       'поселок при железнодорожной станции Приветнинское',\n",
       "       'поселок Тесово-4', 'деревня Бор', 'поселок Коробицыно',\n",
       "       'деревня Большая Вруда', 'деревня Курковицы',\n",
       "       'городской поселок Советский', 'поселок Кобралово',\n",
       "       'деревня Суоранда', 'поселок городского типа Кондратьево',\n",
       "       'коттеджный поселок Счастье', 'поселок Любань', 'деревня Реброво',\n",
       "       'деревня Зимитицы', 'деревня Тойворово', 'поселок Семиозерье',\n",
       "       'поселок Лесное', 'поселок Совхозный', 'поселок Ленинское',\n",
       "       'поселок Суйда', 'деревня Нижние Осельки', 'поселок станции Свирь',\n",
       "       'поселок Перово', 'Высоцк', 'поселок Гарболово', 'село Шум',\n",
       "       'поселок Котельский', 'поселок станции Лужайка',\n",
       "       'деревня Большая Пустомержа', 'поселок Красносельское',\n",
       "       'деревня Вахнова Кара', 'деревня Пижма',\n",
       "       'коттеджный поселок Кивеннапа Север', 'поселок Ромашки',\n",
       "       'деревня Каськово', 'деревня Куровицы', 'поселок Плоское',\n",
       "       'поселок городского типа Большая Ижора', 'поселок Кирпичное',\n",
       "       'деревня Ям-Тесово', 'деревня Раздолье', 'деревня Терпилицы',\n",
       "       'поселок Шугозеро', 'деревня Ваганово', 'поселок Пушное',\n",
       "       'садовое товарищество Садко', 'поселок Усть-Ижора',\n",
       "       'деревня Выскатка', 'городской поселок Свирьстрой',\n",
       "       'поселок Громово', 'деревня Кисельня', 'деревня Трубников Бор',\n",
       "       'поселок Калитино', 'поселок Высокоключевой',\n",
       "       'садовое товарищество Приладожский',\n",
       "       'поселок Пансионат Зеленый Бор', 'деревня Ненимяки',\n",
       "       'деревня Снегиревка', 'деревня Рапполово', 'деревня Пустынка',\n",
       "       'поселок Рабитицы', 'деревня Большой Сабск', 'деревня Русско',\n",
       "       'деревня Лупполово', 'деревня Большое Рейзино',\n",
       "       'деревня Малая Романовка', 'поселок Дружноселье', 'поселок Пчевжа',\n",
       "       'поселок Володарское', 'деревня Нижняя',\n",
       "       'коттеджный поселок Лесное', 'деревня Тихковицы',\n",
       "       'деревня Борисова Грива', 'поселок Дзержинского'], dtype=object)"
      ]
     },
     "execution_count": 17,
     "metadata": {},
     "output_type": "execute_result"
    }
   ],
   "source": [
    "# проверяем уникальные значения в столбце 'locality_name':\n",
    "data['locality_name'].unique()"
   ]
  },
  {
   "cell_type": "markdown",
   "metadata": {
    "id": "QCcvyY6YAwb-"
   },
   "source": [
    "### Добавьте в таблицу новые столбцы"
   ]
  },
  {
   "cell_type": "code",
   "execution_count": 18,
   "metadata": {
    "id": "Z8eJek3IAwb-"
   },
   "outputs": [],
   "source": [
    "# добавляем столбец c ценой одного квадратного метра:\n",
    "data['price_per_1m'] = round((data['last_price'] / data['total_area']), 2)"
   ]
  },
  {
   "cell_type": "code",
   "execution_count": 19,
   "metadata": {},
   "outputs": [],
   "source": [
    "# добавляем столбец с днем недели публикации объявления:\n",
    "data['day_exposition'] = data['first_day_exposition'].apply(lambda x: x.weekday())"
   ]
  },
  {
   "cell_type": "code",
   "execution_count": 20,
   "metadata": {},
   "outputs": [],
   "source": [
    "# добавляем столбец с месяцем публикации объявления:\n",
    "data['month_exposition'] = data['first_day_exposition'].dt.month"
   ]
  },
  {
   "cell_type": "code",
   "execution_count": 21,
   "metadata": {},
   "outputs": [],
   "source": [
    "# добавляем столбец с годом публикации объявления:\n",
    "data['year_exposition'] = data['first_day_exposition'].dt.year"
   ]
  },
  {
   "cell_type": "code",
   "execution_count": 22,
   "metadata": {},
   "outputs": [],
   "source": [
    "# добавляем столбец с типом этажа квартиры:\n",
    "data['floor_apartment_type'] = 'другой'"
   ]
  },
  {
   "cell_type": "code",
   "execution_count": 23,
   "metadata": {},
   "outputs": [],
   "source": [
    "data.loc[data['floor'] == 1, 'floor_apartment_type'] = 'первый'  "
   ]
  },
  {
   "cell_type": "code",
   "execution_count": 24,
   "metadata": {},
   "outputs": [],
   "source": [
    "data.loc[data['floor'] == data['floors_total'], 'floor_apartment_type'] = 'последний'"
   ]
  },
  {
   "cell_type": "code",
   "execution_count": 25,
   "metadata": {},
   "outputs": [],
   "source": [
    "# добавляем столбец с расстоянием до центра города в км:\n",
    "data['cityCenters_nearest_km'] = round(data['cityCenters_nearest'] / 1000)"
   ]
  },
  {
   "cell_type": "markdown",
   "metadata": {
    "id": "pPyxrKWTAwb-"
   },
   "source": [
    "### Проведите исследовательский анализ данных"
   ]
  },
  {
   "cell_type": "markdown",
   "metadata": {},
   "source": [
    "#### Изучаем параметры объектов и строим отдельные гистограммы для каждого из этих параметров"
   ]
  },
  {
   "cell_type": "markdown",
   "metadata": {},
   "source": [
    "##### Параметр \"общая площадь\""
   ]
  },
  {
   "cell_type": "code",
   "execution_count": 26,
   "metadata": {},
   "outputs": [],
   "source": [
    "# вычисление межквартильного размаха:  \n",
    "Q1 = data['total_area'].quantile(0.25)  \n",
    "Q3 = data['total_area'].quantile(0.75)  \n",
    "IQR = Q3 - Q1\n",
    "\n",
    "# границы для аномалий:\n",
    "lower_bound = Q1 - 1.5 * IQR  \n",
    "upper_bound = Q3 + 1.5 * IQR"
   ]
  },
  {
   "cell_type": "code",
   "execution_count": 27,
   "metadata": {},
   "outputs": [],
   "source": [
    "# удаляем аномальные значения:\n",
    "data = data[(data['total_area'] >= lower_bound) & (data['total_area'] <= upper_bound)]"
   ]
  },
  {
   "cell_type": "code",
   "execution_count": 28,
   "metadata": {},
   "outputs": [
    {
     "data": {
      "image/png": "[encoded data removed]",
      "text/plain": [
       "<Figure size 640x480 with 1 Axes>"
      ]
     },
     "metadata": {},
     "output_type": "display_data"
    }
   ],
   "source": [
    "# строим гистограмму для параметра общая площадь:\n",
    "data['total_area'].hist();"
   ]
  },
  {
   "cell_type": "markdown",
   "metadata": {},
   "source": [
    "##### Параметр \"жилая площадь\""
   ]
  },
  {
   "cell_type": "markdown",
   "metadata": {},
   "source": [
    "В столбце 'жилая площадь' имеются пропуски. Заполним их цифрами из соотношения суммы всех жилых площадей к сумме всех общих площадей."
   ]
  },
  {
   "cell_type": "code",
   "execution_count": 29,
   "metadata": {},
   "outputs": [],
   "source": [
    "# рассчитаем соотношение суммы жилых площадей к сумме общих площадей:\n",
    "living_per_total = data['living_area'].sum()/data['total_area'].sum()"
   ]
  },
  {
   "cell_type": "code",
   "execution_count": 30,
   "metadata": {},
   "outputs": [],
   "source": [
    "# заполняем пропуски:\n",
    "data['living_area'] = data['living_area'].fillna(data['total_area']*living_per_total)"
   ]
  },
  {
   "cell_type": "code",
   "execution_count": 31,
   "metadata": {},
   "outputs": [],
   "source": [
    "# вычисление межквартильного размаха:  \n",
    "Q1 = data['living_area'].quantile(0.25)  \n",
    "Q3 = data['living_area'].quantile(0.75)  \n",
    "IQR = Q3 - Q1  \n",
    "\n",
    "# границы для аномалий:\n",
    "lower_bound = Q1 - 1.5 * IQR  \n",
    "upper_bound = Q3 + 1.5 * IQR"
   ]
  },
  {
   "cell_type": "code",
   "execution_count": 32,
   "metadata": {},
   "outputs": [],
   "source": [
    "# удаляем аномальные значения:\n",
    "data = data[(data['living_area'] >= lower_bound) & (data['living_area'] <= upper_bound)]"
   ]
  },
  {
   "cell_type": "code",
   "execution_count": 33,
   "metadata": {},
   "outputs": [
    {
     "data": {
      "image/png": "[encoded data removed]",
      "text/plain": [
       "<Figure size 640x480 with 1 Axes>"
      ]
     },
     "metadata": {},
     "output_type": "display_data"
    }
   ],
   "source": [
    "# строим гистограмму для параметра жилая площадь:\n",
    "data['living_area'].hist();"
   ]
  },
  {
   "cell_type": "markdown",
   "metadata": {},
   "source": [
    "##### Параметр \"площадь кухни\""
   ]
  },
  {
   "cell_type": "markdown",
   "metadata": {},
   "source": [
    "В столбце 'площадь кухни' имеются пропуски. Заполним их цифрами из соотношения суммы всех площадей кухни к сумме всех общих площадей."
   ]
  },
  {
   "cell_type": "code",
   "execution_count": 34,
   "metadata": {},
   "outputs": [],
   "source": [
    "# рассчитаем соотношение суммы площадей кухни к сумме общих площадей:\n",
    "kitchen_per_total = data['kitchen_area'].sum()/data['total_area'].sum()"
   ]
  },
  {
   "cell_type": "code",
   "execution_count": 35,
   "metadata": {},
   "outputs": [],
   "source": [
    "# заполняем пропуски:\n",
    "data['kitchen_area'] = data['kitchen_area'].fillna(data['total_area']*kitchen_per_total)"
   ]
  },
  {
   "cell_type": "code",
   "execution_count": 36,
   "metadata": {},
   "outputs": [],
   "source": [
    "# вычисление межквартильного размаха:  \n",
    "Q1 = data['kitchen_area'].quantile(0.25)  \n",
    "Q3 = data['kitchen_area'].quantile(0.75)  \n",
    "IQR = Q3 - Q1  \n",
    "\n",
    "# границы для аномалий:\n",
    "lower_bound = Q1 - 1.5 * IQR  \n",
    "upper_bound = Q3 + 1.5 * IQR"
   ]
  },
  {
   "cell_type": "code",
   "execution_count": 37,
   "metadata": {},
   "outputs": [],
   "source": [
    "# удаляем аномальные значения:\n",
    "data = data[(data['kitchen_area'] >= lower_bound) & (data['kitchen_area'] <= upper_bound)]"
   ]
  },
  {
   "cell_type": "code",
   "execution_count": 38,
   "metadata": {},
   "outputs": [
    {
     "data": {
      "image/png": "[encoded data removed]",
      "text/plain": [
       "<Figure size 640x480 with 1 Axes>"
      ]
     },
     "metadata": {},
     "output_type": "display_data"
    }
   ],
   "source": [
    "# строим гистограмму для параметра площадь кухни:\n",
    "data['kitchen_area'].hist();"
   ]
  },
  {
   "cell_type": "markdown",
   "metadata": {},
   "source": [
    "##### Параметр \"цена объекта\""
   ]
  },
  {
   "cell_type": "code",
   "execution_count": 39,
   "metadata": {},
   "outputs": [],
   "source": [
    "# для наглядности рассчитаем цены квартир в млн.:\n",
    "data['last_price_mln'] = data['last_price'] / 1000000"
   ]
  },
  {
   "cell_type": "code",
   "execution_count": 40,
   "metadata": {},
   "outputs": [
    {
     "data": {
      "text/plain": [
       "1        3.350\n",
       "2        5.196\n",
       "5        2.890\n",
       "6        3.700\n",
       "8        2.900\n",
       "         ...  \n",
       "23692    1.350\n",
       "23693    4.600\n",
       "23695    3.100\n",
       "23696    2.500\n",
       "23698    1.350\n",
       "Name: last_price_mln, Length: 21310, dtype: float64"
      ]
     },
     "execution_count": 40,
     "metadata": {},
     "output_type": "execute_result"
    }
   ],
   "source": [
    "data['last_price_mln']"
   ]
  },
  {
   "cell_type": "code",
   "execution_count": 41,
   "metadata": {},
   "outputs": [
    {
     "data": {
      "text/plain": [
       "total_images                  0\n",
       "last_price                    0\n",
       "total_area                    0\n",
       "first_day_exposition          0\n",
       "rooms                         0\n",
       "ceiling_height             8381\n",
       "floors_total                 76\n",
       "living_area                   0\n",
       "floor                         0\n",
       "is_apartment                  0\n",
       "studio                        0\n",
       "open_plan                     0\n",
       "kitchen_area                  0\n",
       "balcony                       0\n",
       "locality_name                42\n",
       "airports_nearest           5343\n",
       "cityCenters_nearest        5328\n",
       "parks_around3000              0\n",
       "parks_nearest             14566\n",
       "ponds_around3000              0\n",
       "ponds_nearest             13594\n",
       "days_exposition            2648\n",
       "price_per_1m                  0\n",
       "day_exposition                0\n",
       "month_exposition              0\n",
       "year_exposition               0\n",
       "floor_apartment_type          0\n",
       "cityCenters_nearest_km     5328\n",
       "last_price_mln                0\n",
       "dtype: int64"
      ]
     },
     "execution_count": 41,
     "metadata": {},
     "output_type": "execute_result"
    }
   ],
   "source": [
    "data.isna().sum()"
   ]
  },
  {
   "cell_type": "code",
   "execution_count": 42,
   "metadata": {},
   "outputs": [
    {
     "data": {
      "image/png": "[encoded data removed]",
      "text/plain": [
       "<Figure size 640x480 with 1 Axes>"
      ]
     },
     "metadata": {},
     "output_type": "display_data"
    }
   ],
   "source": [
    "# строим гистограмму для параметра цена объекта:\n",
    "data['last_price_mln'].hist(range=(0, 50));"
   ]
  },
  {
   "cell_type": "code",
   "execution_count": 43,
   "metadata": {},
   "outputs": [],
   "source": [
    "pd.set_option('display.max_columns', None)"
   ]
  },
  {
   "cell_type": "code",
   "execution_count": 44,
   "metadata": {},
   "outputs": [
    {
     "data": {
      "text/plain": [
       "1        3.350\n",
       "2        5.196\n",
       "5        2.890\n",
       "6        3.700\n",
       "8        2.900\n",
       "         ...  \n",
       "23692    1.350\n",
       "23693    4.600\n",
       "23695    3.100\n",
       "23696    2.500\n",
       "23698    1.350\n",
       "Name: last_price_mln, Length: 21310, dtype: float64"
      ]
     },
     "execution_count": 44,
     "metadata": {},
     "output_type": "execute_result"
    }
   ],
   "source": [
    "data['last_price_mln']"
   ]
  },
  {
   "cell_type": "markdown",
   "metadata": {},
   "source": [
    "##### Параметр \"количество комнат\""
   ]
  },
  {
   "cell_type": "code",
   "execution_count": 45,
   "metadata": {},
   "outputs": [],
   "source": [
    "# вычисление межквартильного размаха:  \n",
    "Q1 = data['rooms'].quantile(0.25)  \n",
    "Q3 = data['rooms'].quantile(0.75)  \n",
    "IQR = Q3 - Q1  \n",
    "\n",
    "# границы для аномалий:\n",
    "lower_bound = Q1 - 1.5 * IQR  \n",
    "upper_bound = Q3 + 1.5 * IQR"
   ]
  },
  {
   "cell_type": "code",
   "execution_count": 46,
   "metadata": {},
   "outputs": [],
   "source": [
    "# удаляем аномальные значения:\n",
    "data = data[(data['rooms'] >= lower_bound) & (data['rooms'] <= upper_bound)]"
   ]
  },
  {
   "cell_type": "code",
   "execution_count": 47,
   "metadata": {},
   "outputs": [
    {
     "data": {
      "image/png": "[encoded data removed]",
      "text/plain": [
       "<Figure size 640x480 with 1 Axes>"
      ]
     },
     "metadata": {},
     "output_type": "display_data"
    }
   ],
   "source": [
    "# строим гистограмму для параметра количество комнат:\n",
    "data['rooms'].hist();"
   ]
  },
  {
   "cell_type": "code",
   "execution_count": 48,
   "metadata": {},
   "outputs": [
    {
     "data": {
      "text/plain": [
       "array([1, 2, 3, 4, 0, 5, 6], dtype=int64)"
      ]
     },
     "execution_count": 48,
     "metadata": {},
     "output_type": "execute_result"
    }
   ],
   "source": [
    "data['rooms'].unique()"
   ]
  },
  {
   "cell_type": "markdown",
   "metadata": {},
   "source": [
    "##### Параметр \"высота потолков\""
   ]
  },
  {
   "cell_type": "code",
   "execution_count": 49,
   "metadata": {},
   "outputs": [],
   "source": [
    "# замена NaN на медианное значение в 'ceiling_height':\n",
    "data['ceiling_height'] = data['ceiling_height'].fillna(data['ceiling_height'].median())"
   ]
  },
  {
   "cell_type": "code",
   "execution_count": 50,
   "metadata": {},
   "outputs": [
    {
     "data": {
      "text/plain": [
       "22869    100.0\n",
       "3148      32.0\n",
       "22336     32.0\n",
       "21377     27.5\n",
       "5807      27.0\n",
       "5246      27.0\n",
       "21824     27.0\n",
       "17857     27.0\n",
       "4876      27.0\n",
       "20478     27.0\n",
       "10773     27.0\n",
       "5669      26.0\n",
       "9379      25.0\n",
       "6246      25.0\n",
       "4643      25.0\n",
       "355       25.0\n",
       "14382     25.0\n",
       "11285     25.0\n",
       "18545     25.0\n",
       "5076      24.0\n",
       "20507     22.6\n",
       "17496     20.0\n",
       "15061     14.0\n",
       "22309     10.3\n",
       "5863       8.3\n",
       "15743      8.0\n",
       "17442      8.0\n",
       "3474       8.0\n",
       "21227      5.8\n",
       "12628      5.3\n",
       "Name: ceiling_height, dtype: float64"
      ]
     },
     "execution_count": 50,
     "metadata": {},
     "output_type": "execute_result"
    }
   ],
   "source": [
    "# просмотр значений 'ceiling_height':\n",
    "data['ceiling_height'].sort_values(ascending=False).head(30)"
   ]
  },
  {
   "cell_type": "code",
   "execution_count": 51,
   "metadata": {},
   "outputs": [],
   "source": [
    "# замена явных ошибок в 'ceiling_height', перенос запятой:\n",
    "data.loc[data['ceiling_height'] >= 20.0, 'ceiling_height'] = data['ceiling_height']/10"
   ]
  },
  {
   "cell_type": "code",
   "execution_count": 52,
   "metadata": {},
   "outputs": [],
   "source": [
    "# вычисление межквартильного размаха:  \n",
    "Q1 = data['ceiling_height'].quantile(0.25)  \n",
    "Q3 = data['ceiling_height'].quantile(0.75)  \n",
    "IQR = Q3 - Q1  \n",
    "\n",
    "# границы для аномалий:\n",
    "lower_bound = Q1 - 1.5 * IQR  \n",
    "upper_bound = Q3 + 1.5 * IQR"
   ]
  },
  {
   "cell_type": "code",
   "execution_count": 53,
   "metadata": {},
   "outputs": [],
   "source": [
    "# удаляем аномальные значения:\n",
    "data = data[(data['ceiling_height'] >= lower_bound) & (data['ceiling_height'] <= upper_bound)]"
   ]
  },
  {
   "cell_type": "code",
   "execution_count": 54,
   "metadata": {},
   "outputs": [
    {
     "data": {
      "image/png": "[encoded data removed]",
      "text/plain": [
       "<Figure size 640x480 with 1 Axes>"
      ]
     },
     "metadata": {},
     "output_type": "display_data"
    }
   ],
   "source": [
    "# строим гистограмму:\n",
    "data['ceiling_height'].hist();"
   ]
  },
  {
   "cell_type": "markdown",
   "metadata": {},
   "source": [
    "##### Параметр \"тип этажа квартиры («первый», «последний», «другой»)\""
   ]
  },
  {
   "cell_type": "code",
   "execution_count": 55,
   "metadata": {},
   "outputs": [
    {
     "data": {
      "image/png": "[encoded data removed]",
      "text/plain": [
       "<Figure size 640x480 with 1 Axes>"
      ]
     },
     "metadata": {},
     "output_type": "display_data"
    }
   ],
   "source": [
    "# строим гистограмму:\n",
    "data['floor_apartment_type'].hist();"
   ]
  },
  {
   "cell_type": "markdown",
   "metadata": {},
   "source": [
    "#####  Параметр \"общее количество этажей в доме\""
   ]
  },
  {
   "cell_type": "code",
   "execution_count": 56,
   "metadata": {},
   "outputs": [
    {
     "data": {
      "image/png": "[encoded data removed]",
      "text/plain": [
       "<Figure size 640x480 with 1 Axes>"
      ]
     },
     "metadata": {},
     "output_type": "display_data"
    }
   ],
   "source": [
    "# удаляем строки с пустыми значениями:\n",
    "data['floors_total'] = data['floors_total'].fillna(0)\n",
    "\n",
    "# строим гистограмму:\n",
    "data['floors_total'].hist();"
   ]
  },
  {
   "cell_type": "markdown",
   "metadata": {},
   "source": [
    "#####  Параметр \"расстояние до центра города в метрах\""
   ]
  },
  {
   "cell_type": "code",
   "execution_count": 57,
   "metadata": {},
   "outputs": [
    {
     "data": {
      "image/png": "[encoded data removed]",
      "text/plain": [
       "<Figure size 640x480 with 1 Axes>"
      ]
     },
     "metadata": {},
     "output_type": "display_data"
    }
   ],
   "source": [
    "# строим гистограмму:\n",
    "data['cityCenters_nearest'].hist();"
   ]
  },
  {
   "cell_type": "markdown",
   "metadata": {},
   "source": [
    "#####  Параметр \"расстояние до ближайшего парка\""
   ]
  },
  {
   "cell_type": "code",
   "execution_count": 58,
   "metadata": {},
   "outputs": [
    {
     "data": {
      "image/png": "[encoded data removed]",
      "text/plain": [
       "<Figure size 640x480 with 1 Axes>"
      ]
     },
     "metadata": {},
     "output_type": "display_data"
    }
   ],
   "source": [
    "# строим гистограмму:\n",
    "data['parks_nearest'].hist();"
   ]
  },
  {
   "cell_type": "markdown",
   "metadata": {},
   "source": [
    "**Вывод:**  \n",
    "\n",
    "Больше всего квартир с:\n",
    "1. общей площадью до 30-45м2.\n",
    "2. жилой площадью до 15-25м2.\n",
    "3. площадью кухни до 7-9м2.\n",
    "4. ценой до 5млн.\n",
    "5. количеством комнат 1 комната.\n",
    "6. высотой потолков 2,6м.\n",
    "7. типом этажа квартиры \"другой\".\n",
    "8. общим количеством этажей до 5.\n",
    "9. расстоянием до центра города до 15000м.\n",
    "10. расстоянием до ближайшего парка до 250м."
   ]
  },
  {
   "cell_type": "code",
   "execution_count": 59,
   "metadata": {},
   "outputs": [
    {
     "data": {
      "text/plain": [
       "2.85"
      ]
     },
     "execution_count": 59,
     "metadata": {},
     "output_type": "execute_result"
    }
   ],
   "source": [
    "#код ревьюера\n",
    "data.ceiling_height.max()"
   ]
  },
  {
   "cell_type": "markdown",
   "metadata": {},
   "source": [
    "#### Изучаем как быстро продавались квартиры"
   ]
  },
  {
   "cell_type": "code",
   "execution_count": 60,
   "metadata": {},
   "outputs": [
    {
     "data": {
      "image/png": "[encoded data removed]",
      "text/plain": [
       "<Figure size 640x480 with 1 Axes>"
      ]
     },
     "metadata": {},
     "output_type": "display_data"
    }
   ],
   "source": [
    "# строим гистограмму:\n",
    "data['days_exposition'].hist();"
   ]
  },
  {
   "cell_type": "code",
   "execution_count": 61,
   "metadata": {},
   "outputs": [
    {
     "data": {
      "text/plain": [
       "167.71797272780478"
      ]
     },
     "execution_count": 61,
     "metadata": {},
     "output_type": "execute_result"
    }
   ],
   "source": [
    "# считаем среднее значение:\n",
    "data['days_exposition'].mean()"
   ]
  },
  {
   "cell_type": "code",
   "execution_count": 62,
   "metadata": {},
   "outputs": [
    {
     "data": {
      "text/plain": [
       "89.00000000000001"
      ]
     },
     "execution_count": 62,
     "metadata": {},
     "output_type": "execute_result"
    }
   ],
   "source": [
    "# считаем медиану:\n",
    "data['days_exposition'].median()"
   ]
  },
  {
   "cell_type": "markdown",
   "metadata": {},
   "source": [
    "**Вывод:**  \n",
    "Обычно время продажи квартиры составляет до 180 дней.\\\n",
    "Продажи квартиры до 90 дней можно считать быстрыми.\\\n",
    "Продажи квартиры от 180 дней можно считать необычно долгими.\n"
   ]
  },
  {
   "cell_type": "markdown",
   "metadata": {},
   "source": [
    "#### Определяем факторы, которые больше всего влияют на общую (полную) стоимость объекта"
   ]
  },
  {
   "cell_type": "markdown",
   "metadata": {},
   "source": [
    "#####  Зависимость цены от общей площади"
   ]
  },
  {
   "cell_type": "code",
   "execution_count": 63,
   "metadata": {},
   "outputs": [
    {
     "data": {
      "text/plain": [
       "1          (38.0, 47.0]\n",
       "2          (47.0, 61.7]\n",
       "5        (11.999, 38.0]\n",
       "6        (11.999, 38.0]\n",
       "8        (11.999, 38.0]\n",
       "              ...      \n",
       "23692    (11.999, 38.0]\n",
       "23693     (61.7, 114.2]\n",
       "23695      (47.0, 61.7]\n",
       "23696      (47.0, 61.7]\n",
       "23698    (11.999, 38.0]\n",
       "Name: total_area, Length: 19358, dtype: category\n",
       "Categories (4, interval[float64, right]): [(11.999, 38.0] < (38.0, 47.0] < (47.0, 61.7] < (61.7, 114.2]]"
      ]
     },
     "execution_count": 63,
     "metadata": {},
     "output_type": "execute_result"
    }
   ],
   "source": [
    "# делим на категории общие площади квартир:\n",
    "pd.qcut(data['total_area'], 4)"
   ]
  },
  {
   "cell_type": "code",
   "execution_count": 64,
   "metadata": {},
   "outputs": [],
   "source": [
    "# создаем категории 'общие площади квартир' с помощью pd.qcut:\n",
    "data['total_area_category'] = pd.qcut(data['total_area'], 4, \n",
    "                                      labels=['<40m2', '41-52m2',\n",
    "                                              '53-70m2','>70m2'])"
   ]
  },
  {
   "cell_type": "code",
   "execution_count": 65,
   "metadata": {},
   "outputs": [
    {
     "name": "stderr",
     "output_type": "stream",
     "text": [
      "C:\\Users\\klime\\AppData\\Local\\Temp\\ipykernel_179672\\4288540228.py:2: FutureWarning: The default of observed=False is deprecated and will be changed to True in a future version of pandas. Pass observed=False to retain current behavior or observed=True to adopt the future default and silence this warning.\n",
      "  pivot_table_total_area = data.groupby('total_area_category').agg(\n"
     ]
    }
   ],
   "source": [
    "# группируем данные по новому столбцу 'total_area_category'\n",
    "pivot_table_total_area = data.groupby('total_area_category').agg(\n",
    "    median_last_price=('last_price', 'median')\n",
    ").reset_index()"
   ]
  },
  {
   "cell_type": "code",
   "execution_count": 66,
   "metadata": {},
   "outputs": [
    {
     "data": {
      "text/html": [
       "<div>\n",
       "<style scoped>\n",
       "    .dataframe tbody tr th:only-of-type {\n",
       "        vertical-align: middle;\n",
       "    }\n",
       "\n",
       "    .dataframe tbody tr th {\n",
       "        vertical-align: top;\n",
       "    }\n",
       "\n",
       "    .dataframe thead th {\n",
       "        text-align: right;\n",
       "    }\n",
       "</style>\n",
       "<table border=\"1\" class=\"dataframe\">\n",
       "  <thead>\n",
       "    <tr style=\"text-align: right;\">\n",
       "      <th></th>\n",
       "      <th>total_area_category</th>\n",
       "      <th>median_last_price</th>\n",
       "    </tr>\n",
       "  </thead>\n",
       "  <tbody>\n",
       "    <tr>\n",
       "      <th>0</th>\n",
       "      <td>&lt;40m2</td>\n",
       "      <td>3200000.0</td>\n",
       "    </tr>\n",
       "    <tr>\n",
       "      <th>1</th>\n",
       "      <td>41-52m2</td>\n",
       "      <td>3900000.0</td>\n",
       "    </tr>\n",
       "    <tr>\n",
       "      <th>2</th>\n",
       "      <td>53-70m2</td>\n",
       "      <td>4750000.0</td>\n",
       "    </tr>\n",
       "    <tr>\n",
       "      <th>3</th>\n",
       "      <td>&gt;70m2</td>\n",
       "      <td>6600000.0</td>\n",
       "    </tr>\n",
       "  </tbody>\n",
       "</table>\n",
       "</div>"
      ],
      "text/plain": [
       "  total_area_category  median_last_price\n",
       "0               <40m2          3200000.0\n",
       "1             41-52m2          3900000.0\n",
       "2             53-70m2          4750000.0\n",
       "3               >70m2          6600000.0"
      ]
     },
     "execution_count": 66,
     "metadata": {},
     "output_type": "execute_result"
    }
   ],
   "source": [
    "# формируем сводную таблицу:\n",
    "pivot_table_total_area"
   ]
  },
  {
   "cell_type": "code",
   "execution_count": 67,
   "metadata": {},
   "outputs": [
    {
     "data": {
      "image/png": "[encoded data removed]",
      "text/plain": [
       "<Figure size 640x480 with 1 Axes>"
      ]
     },
     "metadata": {},
     "output_type": "display_data"
    }
   ],
   "source": [
    "# строим график:\n",
    "pivot_table_total_area.plot(kind='bar');"
   ]
  },
  {
   "cell_type": "markdown",
   "metadata": {},
   "source": [
    "**Вывод:**  \n",
    "Как показывает график, цена квартиры зависит от общей площади: чем больше общая площадь квартиры, тем выше ее цена."
   ]
  },
  {
   "cell_type": "markdown",
   "metadata": {},
   "source": [
    "#####  Зависимость цены от жилой площади"
   ]
  },
  {
   "cell_type": "code",
   "execution_count": 68,
   "metadata": {},
   "outputs": [
    {
     "data": {
      "text/plain": [
       "1         (18.0, 28.4]\n",
       "2         (28.4, 37.7]\n",
       "5        (1.999, 18.0]\n",
       "6        (1.999, 18.0]\n",
       "8        (1.999, 18.0]\n",
       "             ...      \n",
       "23692    (1.999, 18.0]\n",
       "23693     (37.7, 72.2]\n",
       "23695     (37.7, 72.2]\n",
       "23696     (28.4, 37.7]\n",
       "23698    (1.999, 18.0]\n",
       "Name: living_area, Length: 19358, dtype: category\n",
       "Categories (4, interval[float64, right]): [(1.999, 18.0] < (18.0, 28.4] < (28.4, 37.7] < (37.7, 72.2]]"
      ]
     },
     "execution_count": 68,
     "metadata": {},
     "output_type": "execute_result"
    }
   ],
   "source": [
    "# делим на категории жилые площади квартир:\n",
    "pd.qcut(data['living_area'], 4)"
   ]
  },
  {
   "cell_type": "code",
   "execution_count": 69,
   "metadata": {},
   "outputs": [],
   "source": [
    "# создаем категории 'жилые площади квартир' с помощью pd.qcut:\n",
    "data['living_area_category'] = pd.qcut(data['living_area'], 4, \n",
    "                                      labels=['<18,6m2', '19,6-30m2',\n",
    "                                              '31-42,3m2','>43,3m2'])"
   ]
  },
  {
   "cell_type": "code",
   "execution_count": 70,
   "metadata": {},
   "outputs": [
    {
     "name": "stderr",
     "output_type": "stream",
     "text": [
      "C:\\Users\\klime\\AppData\\Local\\Temp\\ipykernel_179672\\555956660.py:2: FutureWarning: The default of observed=False is deprecated and will be changed to True in a future version of pandas. Pass observed=False to retain current behavior or observed=True to adopt the future default and silence this warning.\n",
      "  pivot_table_living_area = data.groupby('living_area_category').agg(\n"
     ]
    }
   ],
   "source": [
    "# группируем данные по новому столбцу 'living_area_category'\n",
    "pivot_table_living_area = data.groupby('living_area_category').agg(\n",
    "    median_last_price=('last_price', 'median')\n",
    ").reset_index()"
   ]
  },
  {
   "cell_type": "code",
   "execution_count": 71,
   "metadata": {},
   "outputs": [
    {
     "data": {
      "text/html": [
       "<div>\n",
       "<style scoped>\n",
       "    .dataframe tbody tr th:only-of-type {\n",
       "        vertical-align: middle;\n",
       "    }\n",
       "\n",
       "    .dataframe tbody tr th {\n",
       "        vertical-align: top;\n",
       "    }\n",
       "\n",
       "    .dataframe thead th {\n",
       "        text-align: right;\n",
       "    }\n",
       "</style>\n",
       "<table border=\"1\" class=\"dataframe\">\n",
       "  <thead>\n",
       "    <tr style=\"text-align: right;\">\n",
       "      <th></th>\n",
       "      <th>living_area_category</th>\n",
       "      <th>median_last_price</th>\n",
       "    </tr>\n",
       "  </thead>\n",
       "  <tbody>\n",
       "    <tr>\n",
       "      <th>0</th>\n",
       "      <td>&lt;18,6m2</td>\n",
       "      <td>3300000.0</td>\n",
       "    </tr>\n",
       "    <tr>\n",
       "      <th>1</th>\n",
       "      <td>19,6-30m2</td>\n",
       "      <td>3950000.0</td>\n",
       "    </tr>\n",
       "    <tr>\n",
       "      <th>2</th>\n",
       "      <td>31-42,3m2</td>\n",
       "      <td>4680000.0</td>\n",
       "    </tr>\n",
       "    <tr>\n",
       "      <th>3</th>\n",
       "      <td>&gt;43,3m2</td>\n",
       "      <td>5995000.0</td>\n",
       "    </tr>\n",
       "  </tbody>\n",
       "</table>\n",
       "</div>"
      ],
      "text/plain": [
       "  living_area_category  median_last_price\n",
       "0              <18,6m2          3300000.0\n",
       "1            19,6-30m2          3950000.0\n",
       "2            31-42,3m2          4680000.0\n",
       "3              >43,3m2          5995000.0"
      ]
     },
     "execution_count": 71,
     "metadata": {},
     "output_type": "execute_result"
    }
   ],
   "source": [
    "# формируем сводную таблицу:\n",
    "pivot_table_living_area"
   ]
  },
  {
   "cell_type": "code",
   "execution_count": 72,
   "metadata": {},
   "outputs": [
    {
     "data": {
      "image/png": "[encoded data removed]",
      "text/plain": [
       "<Figure size 640x480 with 1 Axes>"
      ]
     },
     "metadata": {},
     "output_type": "display_data"
    }
   ],
   "source": [
    "# строим график:\n",
    "pivot_table_living_area.plot(kind='bar');"
   ]
  },
  {
   "cell_type": "markdown",
   "metadata": {},
   "source": [
    "**Вывод:**  \n",
    "Как показывает график, цена квартиры зависит от жилой площади: чем больше жилая площадь квартиры, тем выше ее цена."
   ]
  },
  {
   "cell_type": "markdown",
   "metadata": {},
   "source": [
    "#####  Зависимость цены от площади кухни"
   ]
  },
  {
   "cell_type": "code",
   "execution_count": 73,
   "metadata": {},
   "outputs": [
    {
     "data": {
      "text/plain": [
       "1                     (10.8, 17.1]\n",
       "2                     (6.7, 8.587]\n",
       "5                    (8.587, 10.8]\n",
       "6                     (10.8, 17.1]\n",
       "8                    (8.587, 10.8]\n",
       "                   ...            \n",
       "23692    (1.2990000000000002, 6.7]\n",
       "23693                 (6.7, 8.587]\n",
       "23695                 (6.7, 8.587]\n",
       "23696                (8.587, 10.8]\n",
       "23698                (8.587, 10.8]\n",
       "Name: kitchen_area, Length: 19358, dtype: category\n",
       "Categories (4, interval[float64, right]): [(1.2990000000000002, 6.7] < (6.7, 8.587] < (8.587, 10.8] < (10.8, 17.1]]"
      ]
     },
     "execution_count": 73,
     "metadata": {},
     "output_type": "execute_result"
    }
   ],
   "source": [
    "# делим на категории площади кухни квартир:\n",
    "pd.qcut(data['kitchen_area'], 4)"
   ]
  },
  {
   "cell_type": "code",
   "execution_count": 74,
   "metadata": {},
   "outputs": [],
   "source": [
    "# создаем категории 'площади кухни' с помощью pd.qcut:\n",
    "data['kitchen_area_category'] = pd.qcut(data['kitchen_area'], 4, \n",
    "                                      labels=['<7m2', '8-9,1m2',\n",
    "                                              '10,1-12m2','>13m2'])"
   ]
  },
  {
   "cell_type": "code",
   "execution_count": 75,
   "metadata": {},
   "outputs": [
    {
     "name": "stderr",
     "output_type": "stream",
     "text": [
      "C:\\Users\\klime\\AppData\\Local\\Temp\\ipykernel_179672\\49644338.py:2: FutureWarning: The default of observed=False is deprecated and will be changed to True in a future version of pandas. Pass observed=False to retain current behavior or observed=True to adopt the future default and silence this warning.\n",
      "  pivot_table_kitchen_area = data.groupby('kitchen_area_category').agg(\n"
     ]
    }
   ],
   "source": [
    "# группируем данные по новому столбцу 'kitchen_area_category'\n",
    "pivot_table_kitchen_area = data.groupby('kitchen_area_category').agg(\n",
    "    median_last_price=('last_price', 'median')\n",
    ").reset_index()"
   ]
  },
  {
   "cell_type": "code",
   "execution_count": 76,
   "metadata": {},
   "outputs": [
    {
     "data": {
      "text/html": [
       "<div>\n",
       "<style scoped>\n",
       "    .dataframe tbody tr th:only-of-type {\n",
       "        vertical-align: middle;\n",
       "    }\n",
       "\n",
       "    .dataframe tbody tr th {\n",
       "        vertical-align: top;\n",
       "    }\n",
       "\n",
       "    .dataframe thead th {\n",
       "        text-align: right;\n",
       "    }\n",
       "</style>\n",
       "<table border=\"1\" class=\"dataframe\">\n",
       "  <thead>\n",
       "    <tr style=\"text-align: right;\">\n",
       "      <th></th>\n",
       "      <th>kitchen_area_category</th>\n",
       "      <th>median_last_price</th>\n",
       "    </tr>\n",
       "  </thead>\n",
       "  <tbody>\n",
       "    <tr>\n",
       "      <th>0</th>\n",
       "      <td>&lt;7m2</td>\n",
       "      <td>3350000.0</td>\n",
       "    </tr>\n",
       "    <tr>\n",
       "      <th>1</th>\n",
       "      <td>8-9,1m2</td>\n",
       "      <td>4000000.0</td>\n",
       "    </tr>\n",
       "    <tr>\n",
       "      <th>2</th>\n",
       "      <td>10,1-12m2</td>\n",
       "      <td>4499499.5</td>\n",
       "    </tr>\n",
       "    <tr>\n",
       "      <th>3</th>\n",
       "      <td>&gt;13m2</td>\n",
       "      <td>5950000.0</td>\n",
       "    </tr>\n",
       "  </tbody>\n",
       "</table>\n",
       "</div>"
      ],
      "text/plain": [
       "  kitchen_area_category  median_last_price\n",
       "0                  <7m2          3350000.0\n",
       "1               8-9,1m2          4000000.0\n",
       "2             10,1-12m2          4499499.5\n",
       "3                 >13m2          5950000.0"
      ]
     },
     "execution_count": 76,
     "metadata": {},
     "output_type": "execute_result"
    }
   ],
   "source": [
    "# формируем сводную таблицу:\n",
    "pivot_table_kitchen_area"
   ]
  },
  {
   "cell_type": "code",
   "execution_count": 77,
   "metadata": {},
   "outputs": [
    {
     "data": {
      "image/png": "[encoded data removed]",
      "text/plain": [
       "<Figure size 640x480 with 1 Axes>"
      ]
     },
     "metadata": {},
     "output_type": "display_data"
    }
   ],
   "source": [
    "# строим график:\n",
    "pivot_table_kitchen_area.plot(kind='bar');"
   ]
  },
  {
   "cell_type": "markdown",
   "metadata": {},
   "source": [
    "**Вывод:**  \n",
    "Как показывает график, цена квартиры зависит от площади кухни: чем больше площади кухни квартиры, тем выше ее цена."
   ]
  },
  {
   "cell_type": "markdown",
   "metadata": {},
   "source": [
    "#####  Зависимость цены от количества комнат"
   ]
  },
  {
   "cell_type": "code",
   "execution_count": 78,
   "metadata": {},
   "outputs": [
    {
     "data": {
      "text/plain": [
       "array([1, 2, 3, 4, 0, 5, 6], dtype=int64)"
      ]
     },
     "execution_count": 78,
     "metadata": {},
     "output_type": "execute_result"
    }
   ],
   "source": [
    "# обнаруживаем квартиру с 0 комнат:\n",
    "data['rooms'].unique()"
   ]
  },
  {
   "cell_type": "code",
   "execution_count": 79,
   "metadata": {},
   "outputs": [
    {
     "name": "stderr",
     "output_type": "stream",
     "text": [
      "C:\\Users\\klime\\AppData\\Local\\Temp\\ipykernel_179672\\1466295559.py:2: FutureWarning: A value is trying to be set on a copy of a DataFrame or Series through chained assignment using an inplace method.\n",
      "The behavior will change in pandas 3.0. This inplace method will never work because the intermediate object on which we are setting values always behaves as a copy.\n",
      "\n",
      "For example, when doing 'df[col].method(value, inplace=True)', try using 'df.method({col: value}, inplace=True)' or df[col] = df[col].method(value) instead, to perform the operation inplace on the original object.\n",
      "\n",
      "\n",
      "  data['rooms'].replace(0, 1, inplace=True)\n"
     ]
    }
   ],
   "source": [
    "# предполагаем, что это однокомнатная квартира, так и запишем:\n",
    "data['rooms'].replace(0, 1, inplace=True)"
   ]
  },
  {
   "cell_type": "code",
   "execution_count": 80,
   "metadata": {},
   "outputs": [],
   "source": [
    "# создание сводной таблицы:\n",
    "data_pivot_rooms = data.pivot_table(index = 'rooms', values = 'last_price',\n",
    "                                    aggfunc = 'median')"
   ]
  },
  {
   "cell_type": "code",
   "execution_count": 81,
   "metadata": {},
   "outputs": [],
   "source": [
    "# выборка квартир с 6 и более комнат:\n",
    "data_6_or_more = data_pivot_rooms.loc[6:].median()"
   ]
  },
  {
   "cell_type": "code",
   "execution_count": 82,
   "metadata": {},
   "outputs": [],
   "source": [
    "# сводная таблица квартир с 1-5 комнатами:\n",
    "data_pivot_rooms = data_pivot_rooms.loc[:5]"
   ]
  },
  {
   "cell_type": "code",
   "execution_count": 83,
   "metadata": {},
   "outputs": [],
   "source": [
    "# присоединение к сводной таблице квартир с 6 и более комнатами:\n",
    "data_pivot_rooms.loc['6_or_more'] = data_6_or_more"
   ]
  },
  {
   "cell_type": "code",
   "execution_count": 84,
   "metadata": {},
   "outputs": [
    {
     "data": {
      "text/html": [
       "<div>\n",
       "<style scoped>\n",
       "    .dataframe tbody tr th:only-of-type {\n",
       "        vertical-align: middle;\n",
       "    }\n",
       "\n",
       "    .dataframe tbody tr th {\n",
       "        vertical-align: top;\n",
       "    }\n",
       "\n",
       "    .dataframe thead th {\n",
       "        text-align: right;\n",
       "    }\n",
       "</style>\n",
       "<table border=\"1\" class=\"dataframe\">\n",
       "  <thead>\n",
       "    <tr style=\"text-align: right;\">\n",
       "      <th></th>\n",
       "      <th>last_price</th>\n",
       "    </tr>\n",
       "    <tr>\n",
       "      <th>rooms</th>\n",
       "      <th></th>\n",
       "    </tr>\n",
       "  </thead>\n",
       "  <tbody>\n",
       "    <tr>\n",
       "      <th>1</th>\n",
       "      <td>3500000.0</td>\n",
       "    </tr>\n",
       "    <tr>\n",
       "      <th>2</th>\n",
       "      <td>4500000.0</td>\n",
       "    </tr>\n",
       "    <tr>\n",
       "      <th>3</th>\n",
       "      <td>5550000.0</td>\n",
       "    </tr>\n",
       "    <tr>\n",
       "      <th>4</th>\n",
       "      <td>6146000.0</td>\n",
       "    </tr>\n",
       "    <tr>\n",
       "      <th>5</th>\n",
       "      <td>5800000.0</td>\n",
       "    </tr>\n",
       "    <tr>\n",
       "      <th>6_or_more</th>\n",
       "      <td>13000000.0</td>\n",
       "    </tr>\n",
       "  </tbody>\n",
       "</table>\n",
       "</div>"
      ],
      "text/plain": [
       "           last_price\n",
       "rooms                \n",
       "1           3500000.0\n",
       "2           4500000.0\n",
       "3           5550000.0\n",
       "4           6146000.0\n",
       "5           5800000.0\n",
       "6_or_more  13000000.0"
      ]
     },
     "execution_count": 84,
     "metadata": {},
     "output_type": "execute_result"
    }
   ],
   "source": [
    "# просмотр сводной таблицы:\n",
    "data_pivot_rooms"
   ]
  },
  {
   "cell_type": "code",
   "execution_count": 85,
   "metadata": {},
   "outputs": [
    {
     "data": {
      "image/png": "[encoded data removed]",
      "text/plain": [
       "<Figure size 640x480 with 1 Axes>"
      ]
     },
     "metadata": {},
     "output_type": "display_data"
    }
   ],
   "source": [
    "# строим график:\n",
    "data_pivot_rooms.plot(kind='bar');"
   ]
  },
  {
   "cell_type": "markdown",
   "metadata": {},
   "source": [
    "**Вывод:**  \n",
    "Как показывает график, цена квартиры зависит от количества комнат: чем больше комнат, тем выше ее цена."
   ]
  },
  {
   "cell_type": "markdown",
   "metadata": {},
   "source": [
    "#####  Зависимость цены от этажа, на котором расположена квартира (первый, последний, другой)"
   ]
  },
  {
   "cell_type": "code",
   "execution_count": 86,
   "metadata": {},
   "outputs": [],
   "source": [
    "# формируем сводную таблицу:\n",
    "data_pivot_floors_type = data.pivot_table(index = 'floor_apartment_type',\n",
    "                                          values = 'last_price',\n",
    "                                          aggfunc = 'median')"
   ]
  },
  {
   "cell_type": "code",
   "execution_count": 87,
   "metadata": {},
   "outputs": [
    {
     "data": {
      "text/html": [
       "<div>\n",
       "<style scoped>\n",
       "    .dataframe tbody tr th:only-of-type {\n",
       "        vertical-align: middle;\n",
       "    }\n",
       "\n",
       "    .dataframe tbody tr th {\n",
       "        vertical-align: top;\n",
       "    }\n",
       "\n",
       "    .dataframe thead th {\n",
       "        text-align: right;\n",
       "    }\n",
       "</style>\n",
       "<table border=\"1\" class=\"dataframe\">\n",
       "  <thead>\n",
       "    <tr style=\"text-align: right;\">\n",
       "      <th></th>\n",
       "      <th>last_price</th>\n",
       "    </tr>\n",
       "    <tr>\n",
       "      <th>floor_apartment_type</th>\n",
       "      <th></th>\n",
       "    </tr>\n",
       "  </thead>\n",
       "  <tbody>\n",
       "    <tr>\n",
       "      <th>другой</th>\n",
       "      <td>4450000.0</td>\n",
       "    </tr>\n",
       "    <tr>\n",
       "      <th>первый</th>\n",
       "      <td>3600000.0</td>\n",
       "    </tr>\n",
       "    <tr>\n",
       "      <th>последний</th>\n",
       "      <td>3800000.0</td>\n",
       "    </tr>\n",
       "  </tbody>\n",
       "</table>\n",
       "</div>"
      ],
      "text/plain": [
       "                      last_price\n",
       "floor_apartment_type            \n",
       "другой                 4450000.0\n",
       "первый                 3600000.0\n",
       "последний              3800000.0"
      ]
     },
     "execution_count": 87,
     "metadata": {},
     "output_type": "execute_result"
    }
   ],
   "source": [
    "data_pivot_floors_type"
   ]
  },
  {
   "cell_type": "code",
   "execution_count": 88,
   "metadata": {},
   "outputs": [
    {
     "data": {
      "image/png": "[encoded data removed]",
      "text/plain": [
       "<Figure size 640x480 with 1 Axes>"
      ]
     },
     "metadata": {},
     "output_type": "display_data"
    }
   ],
   "source": [
    "# строим график:\n",
    "data_pivot_floors_type.plot(kind='bar');"
   ]
  },
  {
   "cell_type": "markdown",
   "metadata": {},
   "source": [
    "**Вывод:**  \n",
    "Как показывает график, цена квартиры на первом этаже ниже, чем на последнем этаже. В свою очередь, квартиры на последнем этаже дешевле, чем квартиры на каком-либо другом этаже. Таким образом, выгоднее приобретать квартиры на первом этаже."
   ]
  },
  {
   "cell_type": "markdown",
   "metadata": {},
   "source": [
    "#####  Зависимость цены от даты размещения (день недели, месяц, год)"
   ]
  },
  {
   "cell_type": "markdown",
   "metadata": {},
   "source": [
    "*день недели размещения публикации*"
   ]
  },
  {
   "cell_type": "code",
   "execution_count": 89,
   "metadata": {},
   "outputs": [],
   "source": [
    "# формируем сводную таблицу для дня недели публикации:\n",
    "data_pivot_day_exposition = data.pivot_table(index = 'day_exposition',\n",
    "                                          values = 'last_price',\n",
    "                                          aggfunc = 'median')"
   ]
  },
  {
   "cell_type": "code",
   "execution_count": 90,
   "metadata": {},
   "outputs": [
    {
     "data": {
      "text/html": [
       "<div>\n",
       "<style scoped>\n",
       "    .dataframe tbody tr th:only-of-type {\n",
       "        vertical-align: middle;\n",
       "    }\n",
       "\n",
       "    .dataframe tbody tr th {\n",
       "        vertical-align: top;\n",
       "    }\n",
       "\n",
       "    .dataframe thead th {\n",
       "        text-align: right;\n",
       "    }\n",
       "</style>\n",
       "<table border=\"1\" class=\"dataframe\">\n",
       "  <thead>\n",
       "    <tr style=\"text-align: right;\">\n",
       "      <th></th>\n",
       "      <th>last_price</th>\n",
       "    </tr>\n",
       "    <tr>\n",
       "      <th>day_exposition</th>\n",
       "      <th></th>\n",
       "    </tr>\n",
       "  </thead>\n",
       "  <tbody>\n",
       "    <tr>\n",
       "      <th>0</th>\n",
       "      <td>4275000.0</td>\n",
       "    </tr>\n",
       "    <tr>\n",
       "      <th>1</th>\n",
       "      <td>4250000.0</td>\n",
       "    </tr>\n",
       "    <tr>\n",
       "      <th>2</th>\n",
       "      <td>4300000.0</td>\n",
       "    </tr>\n",
       "    <tr>\n",
       "      <th>3</th>\n",
       "      <td>4200000.0</td>\n",
       "    </tr>\n",
       "    <tr>\n",
       "      <th>4</th>\n",
       "      <td>4200000.0</td>\n",
       "    </tr>\n",
       "    <tr>\n",
       "      <th>5</th>\n",
       "      <td>4250000.0</td>\n",
       "    </tr>\n",
       "    <tr>\n",
       "      <th>6</th>\n",
       "      <td>4250000.0</td>\n",
       "    </tr>\n",
       "  </tbody>\n",
       "</table>\n",
       "</div>"
      ],
      "text/plain": [
       "                last_price\n",
       "day_exposition            \n",
       "0                4275000.0\n",
       "1                4250000.0\n",
       "2                4300000.0\n",
       "3                4200000.0\n",
       "4                4200000.0\n",
       "5                4250000.0\n",
       "6                4250000.0"
      ]
     },
     "execution_count": 90,
     "metadata": {},
     "output_type": "execute_result"
    }
   ],
   "source": [
    "# просматриваем сводную таблицу:\n",
    "data_pivot_day_exposition"
   ]
  },
  {
   "cell_type": "code",
   "execution_count": 91,
   "metadata": {},
   "outputs": [
    {
     "data": {
      "image/png": "[encoded data removed]",
      "text/plain": [
       "<Figure size 640x480 with 1 Axes>"
      ]
     },
     "metadata": {},
     "output_type": "display_data"
    }
   ],
   "source": [
    "# строим график:\n",
    "data_pivot_day_exposition.plot(kind='bar');"
   ]
  },
  {
   "cell_type": "markdown",
   "metadata": {},
   "source": [
    "**Вывод:**  \n",
    "Как показывает график, цены на квартиры, объявления по которым размещены по субботам и воскресеньям на 30000 ниже, чем цены на квартиры, объявления по которым опубликованы по пятницам.\\\n",
    "Цены на квартиры с объявлениями по пятницам ниже цен на квартиры, по которым публикации сделаны в понедельник и четверг на 1,3% (на 65000).\\\n",
    "Самые высокие цены на квартиры, объявления о продаже по которым сделаны по вторникам, немного ниже (на 30000) цены на квартиры с публикациями сделанными в среду.\\\n",
    "Таким образом, самые высокие цены на квартиры, объявления по которым размещены во вторник. "
   ]
  },
  {
   "cell_type": "markdown",
   "metadata": {},
   "source": [
    "*месяц размещения публикации*"
   ]
  },
  {
   "cell_type": "code",
   "execution_count": 92,
   "metadata": {},
   "outputs": [],
   "source": [
    "# формируем сводную таблицу для месяца публикации:\n",
    "data_pivot_month_exposition = data.pivot_table(index = 'month_exposition',\n",
    "                                          values = 'last_price',\n",
    "                                          aggfunc = 'median')"
   ]
  },
  {
   "cell_type": "code",
   "execution_count": 93,
   "metadata": {},
   "outputs": [
    {
     "data": {
      "text/html": [
       "<div>\n",
       "<style scoped>\n",
       "    .dataframe tbody tr th:only-of-type {\n",
       "        vertical-align: middle;\n",
       "    }\n",
       "\n",
       "    .dataframe tbody tr th {\n",
       "        vertical-align: top;\n",
       "    }\n",
       "\n",
       "    .dataframe thead th {\n",
       "        text-align: right;\n",
       "    }\n",
       "</style>\n",
       "<table border=\"1\" class=\"dataframe\">\n",
       "  <thead>\n",
       "    <tr style=\"text-align: right;\">\n",
       "      <th></th>\n",
       "      <th>last_price</th>\n",
       "    </tr>\n",
       "    <tr>\n",
       "      <th>month_exposition</th>\n",
       "      <th></th>\n",
       "    </tr>\n",
       "  </thead>\n",
       "  <tbody>\n",
       "    <tr>\n",
       "      <th>1</th>\n",
       "      <td>4200000.0</td>\n",
       "    </tr>\n",
       "    <tr>\n",
       "      <th>2</th>\n",
       "      <td>4200000.0</td>\n",
       "    </tr>\n",
       "    <tr>\n",
       "      <th>3</th>\n",
       "      <td>4300000.0</td>\n",
       "    </tr>\n",
       "    <tr>\n",
       "      <th>4</th>\n",
       "      <td>4435000.0</td>\n",
       "    </tr>\n",
       "    <tr>\n",
       "      <th>5</th>\n",
       "      <td>4200000.0</td>\n",
       "    </tr>\n",
       "    <tr>\n",
       "      <th>6</th>\n",
       "      <td>4100000.0</td>\n",
       "    </tr>\n",
       "    <tr>\n",
       "      <th>7</th>\n",
       "      <td>4165000.0</td>\n",
       "    </tr>\n",
       "    <tr>\n",
       "      <th>8</th>\n",
       "      <td>4200000.0</td>\n",
       "    </tr>\n",
       "    <tr>\n",
       "      <th>9</th>\n",
       "      <td>4286650.0</td>\n",
       "    </tr>\n",
       "    <tr>\n",
       "      <th>10</th>\n",
       "      <td>4200000.0</td>\n",
       "    </tr>\n",
       "    <tr>\n",
       "      <th>11</th>\n",
       "      <td>4300000.0</td>\n",
       "    </tr>\n",
       "    <tr>\n",
       "      <th>12</th>\n",
       "      <td>4200000.0</td>\n",
       "    </tr>\n",
       "  </tbody>\n",
       "</table>\n",
       "</div>"
      ],
      "text/plain": [
       "                  last_price\n",
       "month_exposition            \n",
       "1                  4200000.0\n",
       "2                  4200000.0\n",
       "3                  4300000.0\n",
       "4                  4435000.0\n",
       "5                  4200000.0\n",
       "6                  4100000.0\n",
       "7                  4165000.0\n",
       "8                  4200000.0\n",
       "9                  4286650.0\n",
       "10                 4200000.0\n",
       "11                 4300000.0\n",
       "12                 4200000.0"
      ]
     },
     "execution_count": 93,
     "metadata": {},
     "output_type": "execute_result"
    }
   ],
   "source": [
    "# просматриваем сводную таблицу:\n",
    "data_pivot_month_exposition"
   ]
  },
  {
   "cell_type": "code",
   "execution_count": 94,
   "metadata": {},
   "outputs": [
    {
     "data": {
      "image/png": "[encoded data removed]",
      "text/plain": [
       "<Figure size 640x480 with 1 Axes>"
      ]
     },
     "metadata": {},
     "output_type": "display_data"
    }
   ],
   "source": [
    "# строим график:\n",
    "data_pivot_month_exposition.plot(kind='bar');"
   ]
  },
  {
   "cell_type": "markdown",
   "metadata": {},
   "source": [
    "**Вывод:**  \n",
    "Как показывает график, цены на квартиры, объявления по которым размещены в июне самые низкие.\\\n",
    "Самые высокие цены на квартиры, размещенные в апреле.\\\n",
    "Таким образом, мы наблюдаем ровную картину по ценам на квартиры с января по март, рост в апреле и снижение в мае и июне. Далее, до ноября, наблюдаются  скачки цен вверх и вниз от 1,7 до 2,7%. В декабре цены остаются на уровне ноября. "
   ]
  },
  {
   "cell_type": "markdown",
   "metadata": {},
   "source": [
    "*год размещения публикации*"
   ]
  },
  {
   "cell_type": "code",
   "execution_count": 95,
   "metadata": {},
   "outputs": [],
   "source": [
    "# формируем сводную таблицу для года публикации:\n",
    "data_pivot_year_exposition = data.pivot_table(index = 'year_exposition',\n",
    "                                          values = 'last_price',\n",
    "                                          aggfunc = 'median')"
   ]
  },
  {
   "cell_type": "code",
   "execution_count": 96,
   "metadata": {},
   "outputs": [
    {
     "data": {
      "text/html": [
       "<div>\n",
       "<style scoped>\n",
       "    .dataframe tbody tr th:only-of-type {\n",
       "        vertical-align: middle;\n",
       "    }\n",
       "\n",
       "    .dataframe tbody tr th {\n",
       "        vertical-align: top;\n",
       "    }\n",
       "\n",
       "    .dataframe thead th {\n",
       "        text-align: right;\n",
       "    }\n",
       "</style>\n",
       "<table border=\"1\" class=\"dataframe\">\n",
       "  <thead>\n",
       "    <tr style=\"text-align: right;\">\n",
       "      <th></th>\n",
       "      <th>last_price</th>\n",
       "    </tr>\n",
       "    <tr>\n",
       "      <th>year_exposition</th>\n",
       "      <th></th>\n",
       "    </tr>\n",
       "  </thead>\n",
       "  <tbody>\n",
       "    <tr>\n",
       "      <th>2014</th>\n",
       "      <td>4600000.0</td>\n",
       "    </tr>\n",
       "    <tr>\n",
       "      <th>2015</th>\n",
       "      <td>4530000.0</td>\n",
       "    </tr>\n",
       "    <tr>\n",
       "      <th>2016</th>\n",
       "      <td>4150000.0</td>\n",
       "    </tr>\n",
       "    <tr>\n",
       "      <th>2017</th>\n",
       "      <td>4100000.0</td>\n",
       "    </tr>\n",
       "    <tr>\n",
       "      <th>2018</th>\n",
       "      <td>4200000.0</td>\n",
       "    </tr>\n",
       "    <tr>\n",
       "      <th>2019</th>\n",
       "      <td>4600000.0</td>\n",
       "    </tr>\n",
       "  </tbody>\n",
       "</table>\n",
       "</div>"
      ],
      "text/plain": [
       "                 last_price\n",
       "year_exposition            \n",
       "2014              4600000.0\n",
       "2015              4530000.0\n",
       "2016              4150000.0\n",
       "2017              4100000.0\n",
       "2018              4200000.0\n",
       "2019              4600000.0"
      ]
     },
     "execution_count": 96,
     "metadata": {},
     "output_type": "execute_result"
    }
   ],
   "source": [
    "# просматриваем сводную таблицу:\n",
    "data_pivot_year_exposition"
   ]
  },
  {
   "cell_type": "code",
   "execution_count": 97,
   "metadata": {},
   "outputs": [
    {
     "data": {
      "image/png": "[encoded data removed]",
      "text/plain": [
       "<Figure size 640x480 with 1 Axes>"
      ]
     },
     "metadata": {},
     "output_type": "display_data"
    }
   ],
   "source": [
    "# строим график:\n",
    "data_pivot_year_exposition.plot(kind='bar');"
   ]
  },
  {
   "cell_type": "markdown",
   "metadata": {},
   "source": [
    "**Вывод:**  \n",
    "Как показывает график, цены на квартиры, объявления по которым размещены в 2014 году, самые высокие.\\\n",
    "В 2015 году наблюдается снижение цен на 30,5%.\\\n",
    "В 2016 году по сравнению с 2015 годом цены снизились на 15%.\\\n",
    "В 2017 году наблюдается небольшое снижение - 1,1%.\\\n",
    "В 2018 году цены возвращаются на уровень 2016 года (рост на те же 1,1%).\\\n",
    "В 2019 году отмечается рост цен на 9,9% по сравнению с 2018 годом.\\\n",
    "Таким образом, самые высокие цены на квартиры отмечаются в 2014 году."
   ]
  },
  {
   "cell_type": "markdown",
   "metadata": {},
   "source": [
    "#### Считаем среднюю цену одного квадратного метра в 10 населённых пунктах с наибольшим числом объявлений"
   ]
  },
  {
   "cell_type": "code",
   "execution_count": 98,
   "metadata": {},
   "outputs": [],
   "source": [
    "# рассчитаем цену одного квадратного метра:\n",
    "data['price_per_1m'] = data['last_price'] / data['total_area']"
   ]
  },
  {
   "cell_type": "code",
   "execution_count": 99,
   "metadata": {},
   "outputs": [],
   "source": [
    "# группируем данные по населенным пунктам \n",
    "# и считаем средние цены квадратного метра\n",
    "pivot_table_price_per_m2 = data.groupby('locality_name').agg(\n",
    "    count_locality=('locality_name', 'size'),\n",
    "    mean_last_price=('price_per_1m', 'mean')\n",
    ").reset_index()"
   ]
  },
  {
   "cell_type": "code",
   "execution_count": 100,
   "metadata": {},
   "outputs": [],
   "source": [
    "# сортируем по количеству объявлений, отбираем  10 населенных пунктов:\n",
    "top_locality = pivot_table_price_per_m2.nlargest(10, 'count_locality')"
   ]
  },
  {
   "cell_type": "code",
   "execution_count": 101,
   "metadata": {},
   "outputs": [
    {
     "data": {
      "text/html": [
       "<div>\n",
       "<style scoped>\n",
       "    .dataframe tbody tr th:only-of-type {\n",
       "        vertical-align: middle;\n",
       "    }\n",
       "\n",
       "    .dataframe tbody tr th {\n",
       "        vertical-align: top;\n",
       "    }\n",
       "\n",
       "    .dataframe thead th {\n",
       "        text-align: right;\n",
       "    }\n",
       "</style>\n",
       "<table border=\"1\" class=\"dataframe\">\n",
       "  <thead>\n",
       "    <tr style=\"text-align: right;\">\n",
       "      <th></th>\n",
       "      <th>locality_name</th>\n",
       "      <th>count_locality</th>\n",
       "      <th>mean_last_price</th>\n",
       "    </tr>\n",
       "  </thead>\n",
       "  <tbody>\n",
       "    <tr>\n",
       "      <th>32</th>\n",
       "      <td>Санкт-Петербург</td>\n",
       "      <td>12027</td>\n",
       "      <td>106292.312981</td>\n",
       "    </tr>\n",
       "    <tr>\n",
       "      <th>208</th>\n",
       "      <td>поселок Мурино</td>\n",
       "      <td>564</td>\n",
       "      <td>86387.283776</td>\n",
       "    </tr>\n",
       "    <tr>\n",
       "      <th>266</th>\n",
       "      <td>поселок Шушары</td>\n",
       "      <td>428</td>\n",
       "      <td>78710.397883</td>\n",
       "    </tr>\n",
       "    <tr>\n",
       "      <th>3</th>\n",
       "      <td>Всеволожск</td>\n",
       "      <td>370</td>\n",
       "      <td>68429.806038</td>\n",
       "    </tr>\n",
       "    <tr>\n",
       "      <th>215</th>\n",
       "      <td>поселок Парголово</td>\n",
       "      <td>313</td>\n",
       "      <td>90868.203895</td>\n",
       "    </tr>\n",
       "    <tr>\n",
       "      <th>13</th>\n",
       "      <td>Колпино</td>\n",
       "      <td>312</td>\n",
       "      <td>75525.535689</td>\n",
       "    </tr>\n",
       "    <tr>\n",
       "      <th>31</th>\n",
       "      <td>Пушкин</td>\n",
       "      <td>295</td>\n",
       "      <td>100498.051165</td>\n",
       "    </tr>\n",
       "    <tr>\n",
       "      <th>6</th>\n",
       "      <td>Гатчина</td>\n",
       "      <td>283</td>\n",
       "      <td>68583.229215</td>\n",
       "    </tr>\n",
       "    <tr>\n",
       "      <th>89</th>\n",
       "      <td>деревня Кудрово</td>\n",
       "      <td>274</td>\n",
       "      <td>93011.047104</td>\n",
       "    </tr>\n",
       "    <tr>\n",
       "      <th>4</th>\n",
       "      <td>Выборг</td>\n",
       "      <td>202</td>\n",
       "      <td>57427.486856</td>\n",
       "    </tr>\n",
       "  </tbody>\n",
       "</table>\n",
       "</div>"
      ],
      "text/plain": [
       "         locality_name  count_locality  mean_last_price\n",
       "32     Санкт-Петербург           12027    106292.312981\n",
       "208     поселок Мурино             564     86387.283776\n",
       "266     поселок Шушары             428     78710.397883\n",
       "3           Всеволожск             370     68429.806038\n",
       "215  поселок Парголово             313     90868.203895\n",
       "13             Колпино             312     75525.535689\n",
       "31              Пушкин             295    100498.051165\n",
       "6              Гатчина             283     68583.229215\n",
       "89     деревня Кудрово             274     93011.047104\n",
       "4               Выборг             202     57427.486856"
      ]
     },
     "execution_count": 101,
     "metadata": {},
     "output_type": "execute_result"
    }
   ],
   "source": [
    "# просматриваем сводную таблицу:\n",
    "top_locality"
   ]
  },
  {
   "cell_type": "code",
   "execution_count": 102,
   "metadata": {},
   "outputs": [
    {
     "data": {
      "image/png": "[encoded data removed]",
      "text/plain": [
       "<Figure size 640x480 with 1 Axes>"
      ]
     },
     "metadata": {},
     "output_type": "display_data"
    }
   ],
   "source": [
    "# строим график:\n",
    "top_locality.plot(kind='bar', x='locality_name');"
   ]
  },
  {
   "cell_type": "markdown",
   "metadata": {},
   "source": [
    "**Вывод:**  \n",
    "Как показывает график, самая высокая стоимость квадратного метра в Санкт-Петербурге, самая низкая стоимость - в Выборге."
   ]
  },
  {
   "cell_type": "markdown",
   "metadata": {},
   "source": [
    "#### Считаем среднюю стоимость квартиры в Санкт-Петербурге на разном удалении от центра"
   ]
  },
  {
   "cell_type": "code",
   "execution_count": 103,
   "metadata": {},
   "outputs": [],
   "source": [
    "# находим квартиры только из Санкт-Петербурга:\n",
    "apartment_in_petersburg = data[data['locality_name'] == 'Санкт-Петербург']"
   ]
  },
  {
   "cell_type": "code",
   "execution_count": 104,
   "metadata": {},
   "outputs": [],
   "source": [
    "# группируем по расстоянию до центра и считаем среднюю стоимость:\n",
    "avg_price_per_km = apartment_in_petersburg.groupby('cityCenters_nearest_km')['last_price'].mean().reset_index()"
   ]
  },
  {
   "cell_type": "code",
   "execution_count": 105,
   "metadata": {},
   "outputs": [
    {
     "data": {
      "image/png": "[encoded data removed]",
      "text/plain": [
       "<Figure size 640x480 with 1 Axes>"
      ]
     },
     "metadata": {},
     "output_type": "display_data"
    }
   ],
   "source": [
    "# строим график:\n",
    "avg_price_per_km.plot(kind='bar');"
   ]
  },
  {
   "cell_type": "markdown",
   "metadata": {},
   "source": [
    "**Вывод:**  \n",
    "Как показывает график, средняя цена на расстоянии от центра до 1 км самая высокая. Отдаляясь от центра до 3-х км средняя цена снижается. Далее, до 6 км от центра наблюдается рост цены. Затем снова снижение до удаленности от центра до 10 км. Далее особых скачков цены не наблюдается. Заметен рост цены на расстоянии 27 км до центра города."
   ]
  },
  {
   "cell_type": "markdown",
   "metadata": {
    "id": "h7VpzkIDAwb-"
   },
   "source": [
    "### Напишите общий вывод"
   ]
  },
  {
   "cell_type": "markdown",
   "metadata": {},
   "source": [
    "Исходя из проведенного исследования объявлений о продаже квартир можно сделать следующие выводы:\n",
    "1. Поиск и изучение пропущенных значений.\\\n",
    "Пропуски в данных могли возникнуть из-за того, что продавец не указал необходимую информацию или ошибся при вводе данных, а также в связи с возникновением технических неполадок в автоматическом получении информации на основе картографических данных.\n",
    "2. Рассмотрение типов данных.\\\n",
    "Изменяем тип данных в столбцах 'parks_around3000', 'ponds_around3000' с float на int, поскольку количество парков и прудов обычно указывается в целых числах, а также преобразовываем столбец 'first_day_exposition' с object на datetime для отображения столбца как даты, а не строки.\n",
    "3. Изучение параметров квартир.\\\n",
    "Больше всего квартир с общей площадью 30-45 м2, жилой площадью до 15-25 м2, площадью кухни до 7-9 м2, ценой до 5 млн, количеством комнат 1 комната, высотой потолков 2,6 м, типом этажа квартиры \"другой\" (не первый, и не последний этажи), общим количеством этажей до 5, расстоянием до центра города до 15 000 м, расстоянием до ближайшего парка до 250 м.\n",
    "4. Изучение скорости продажи квартир.\\\n",
    "Обычно время продажи квартиры составляет до 180 дней. Продажи квартиры до 90 дней можно считать быстрыми. Продажи квартиры от 180 дней можно считать необычно долгими.\n",
    "5. Определение факторов, которые больше всего влияют на общую (полную) стоимость объекта.  \n",
    "- Цена квартиры зависит от общей площади: чем больше общая площадь квартиры, тем выше ее цена.\n",
    "- Цена квартиры также зависит от жилой площади: чем больше жилая площадь квартиры, тем выше ее цена.\n",
    "- От площади кухни цена квартиры также имеет прямую зависимость: чем больше площади кухни квартиры, тем выше ее цена.\n",
    "- Также цена квартиры зависит от количества комнат: чем больше комнат, тем выше ее цена.\n",
    "- Цена квартиры на первом этаже ниже, чем на последнем этаже. В свою очередь, квартиры на последнем этаже дешевле, чем квартиры на каком-либо другом этаже. Таким образом, выгоднее приобретать квартиры на первом этаже.\n",
    "- Цены на квартиры, объявления по которым размещены по субботам и воскресеньям на 30000 ниже, чем цены на квартиры, объявления по которым опубликованы по пятницам. Цены на квартиры с объявлениями по пятницам ниже цен на квартиры, по которым публикации сделаны в понедельник и четверг на 1,3% (на 65000). Самые высокие цены на квартиры, объявления о продаже по которым сделаны по вторникам, немного ниже (на 30000) цены на квартиры с публикациями сделанными в среду. Таким образом, самые высокие цены на квартиры, объявления по которым размещены во вторник.\n",
    "- Цены на квартиры, объявления по которым размещены в июне самые низкие. Самые высокие цены на квартиры, размещенные в апреле. Таким образом, мы наблюдаем ровную картину по ценам на квартиры с января по март, рост в апреле и снижение в мае и июне. Далее, до ноября, наблюдаются  скачки цен вверх и вниз от 1,7 до 2,7%. В декабре цены остаются на уровне ноября. \n",
    "- На квартиры, объявления по которым размещены в 2014 году, цены самые высокие. В 2015 году наблюдается снижение цен на 30,5%. В 2016 году по сравнению с 2015 годом цены снизились на 15%. В 2017 году наблюдается небольшое снижение - 1,1%. В 2018 году цены возвращаются на уровень 2016 года (рост на те же 1,1%). В 2019 году отмечается рост цен на 9,9% по сравнению с 2018 годом. Таким образом, самые высокие цены на квартиры отмечаются в 2014 году.\n",
    "6. Выделение населённых пунктов с самой высокой и низкой стоимостью квадратного метра.\\\n",
    "Самая высокая стоимость квадратного метра в Санкт-Петербурге, самая низкая стоимость - в Выборге.\n",
    "7. Изменение средней цены для каждого километра от центра Санкт-Петербурга.\\\n",
    "Средняя цена на расстоянии от центра до 1 км самая высокая. Отдаляясь от центра до 3-х км средняя цена снижается. Далее, до 6 км от центра наблюдается рост цены. Затем снова снижение до удаленности от центра до 10 км. Далее особых скачков цены не наблюдается. Заметен рост цены на расстоянии 27 км до центра города.\n"
   ]
  }
 ],
 "metadata": {
  "ExecuteTimeLog": [
   {
    "duration": 729,
    "start_time": "2024-09-10T10:02:08.228Z"
   },
   {
    "duration": 100,
    "start_time": "2024-09-10T10:02:14.948Z"
   },
   {
    "duration": 56,
    "start_time": "2024-09-10T10:08:45.567Z"
   },
   {
    "duration": 110,
    "start_time": "2024-09-10T10:09:39.579Z"
   },
   {
    "duration": 14,
    "start_time": "2024-09-10T10:13:33.996Z"
   },
   {
    "duration": 104,
    "start_time": "2024-09-10T10:15:16.361Z"
   },
   {
    "duration": 54,
    "start_time": "2024-09-10T10:15:46.447Z"
   },
   {
    "duration": 2344,
    "start_time": "2024-09-10T10:18:15.513Z"
   },
   {
    "duration": 41,
    "start_time": "2024-09-10T10:18:28.295Z"
   },
   {
    "duration": 16,
    "start_time": "2024-09-10T10:20:22.410Z"
   },
   {
    "duration": 2690,
    "start_time": "2024-09-10T10:21:58.815Z"
   },
   {
    "duration": 2,
    "start_time": "2024-09-10T10:23:21.213Z"
   },
   {
    "duration": 10,
    "start_time": "2024-09-10T10:23:42.634Z"
   },
   {
    "duration": 15,
    "start_time": "2024-09-10T10:30:21.157Z"
   },
   {
    "duration": 2528,
    "start_time": "2024-09-10T10:31:54.158Z"
   },
   {
    "duration": 7,
    "start_time": "2024-09-10T10:39:24.904Z"
   },
   {
    "duration": 5,
    "start_time": "2024-09-10T10:40:35.784Z"
   },
   {
    "duration": 6,
    "start_time": "2024-09-10T10:45:54.510Z"
   },
   {
    "duration": 5,
    "start_time": "2024-09-10T10:45:59.020Z"
   },
   {
    "duration": 6,
    "start_time": "2024-09-10T10:47:46.081Z"
   },
   {
    "duration": 3,
    "start_time": "2024-09-10T10:49:13.102Z"
   },
   {
    "duration": 5,
    "start_time": "2024-09-10T10:49:17.702Z"
   },
   {
    "duration": 6,
    "start_time": "2024-09-10T10:49:44.530Z"
   },
   {
    "duration": 5,
    "start_time": "2024-09-10T10:50:01.909Z"
   },
   {
    "duration": 13,
    "start_time": "2024-09-10T10:50:19.974Z"
   },
   {
    "duration": 5,
    "start_time": "2024-09-10T10:50:33.019Z"
   },
   {
    "duration": 6,
    "start_time": "2024-09-10T11:01:26.628Z"
   },
   {
    "duration": 5,
    "start_time": "2024-09-10T11:01:42.626Z"
   },
   {
    "duration": 7,
    "start_time": "2024-09-10T11:01:55.384Z"
   },
   {
    "duration": 5,
    "start_time": "2024-09-10T11:03:14.517Z"
   },
   {
    "duration": 7,
    "start_time": "2024-09-10T11:03:34.293Z"
   },
   {
    "duration": 4,
    "start_time": "2024-09-10T11:04:47.687Z"
   },
   {
    "duration": 50,
    "start_time": "2024-09-10T16:39:19.216Z"
   },
   {
    "duration": 2856,
    "start_time": "2024-09-10T16:39:32.025Z"
   },
   {
    "duration": 0,
    "start_time": "2024-09-10T16:39:34.883Z"
   },
   {
    "duration": 0,
    "start_time": "2024-09-10T16:39:34.885Z"
   },
   {
    "duration": 0,
    "start_time": "2024-09-10T16:39:34.886Z"
   },
   {
    "duration": 0,
    "start_time": "2024-09-10T16:39:34.888Z"
   },
   {
    "duration": 0,
    "start_time": "2024-09-10T16:39:34.889Z"
   },
   {
    "duration": 0,
    "start_time": "2024-09-10T16:39:34.891Z"
   },
   {
    "duration": 0,
    "start_time": "2024-09-10T16:39:34.892Z"
   },
   {
    "duration": 7,
    "start_time": "2024-09-10T16:40:27.842Z"
   },
   {
    "duration": 2571,
    "start_time": "2024-09-10T16:40:34.861Z"
   },
   {
    "duration": 7,
    "start_time": "2024-09-10T16:40:40.598Z"
   },
   {
    "duration": 2713,
    "start_time": "2024-09-10T16:40:46.107Z"
   },
   {
    "duration": 7,
    "start_time": "2024-09-10T16:40:52.855Z"
   },
   {
    "duration": 1126,
    "start_time": "2024-09-10T16:41:11.916Z"
   },
   {
    "duration": 56,
    "start_time": "2024-09-10T16:44:19.306Z"
   },
   {
    "duration": 8,
    "start_time": "2024-09-10T16:44:26.816Z"
   },
   {
    "duration": 7,
    "start_time": "2024-09-10T16:44:29.787Z"
   },
   {
    "duration": 59,
    "start_time": "2024-09-10T16:45:26.259Z"
   },
   {
    "duration": 47,
    "start_time": "2024-09-10T16:45:32.449Z"
   },
   {
    "duration": 7,
    "start_time": "2024-09-10T16:45:35.090Z"
   },
   {
    "duration": 51,
    "start_time": "2024-09-10T16:45:46.474Z"
   },
   {
    "duration": 0,
    "start_time": "2024-09-10T16:45:46.526Z"
   },
   {
    "duration": 0,
    "start_time": "2024-09-10T16:45:46.527Z"
   },
   {
    "duration": 0,
    "start_time": "2024-09-10T16:45:46.529Z"
   },
   {
    "duration": 0,
    "start_time": "2024-09-10T16:45:46.529Z"
   },
   {
    "duration": 0,
    "start_time": "2024-09-10T16:45:46.530Z"
   },
   {
    "duration": 0,
    "start_time": "2024-09-10T16:45:46.531Z"
   },
   {
    "duration": 43,
    "start_time": "2024-09-10T16:45:46.534Z"
   },
   {
    "duration": 46,
    "start_time": "2024-09-10T16:47:25.153Z"
   },
   {
    "duration": 45,
    "start_time": "2024-09-10T16:47:41.401Z"
   },
   {
    "duration": 56,
    "start_time": "2024-09-10T16:48:15.180Z"
   },
   {
    "duration": 1425,
    "start_time": "2024-09-10T16:48:29.958Z"
   },
   {
    "duration": 1007,
    "start_time": "2024-09-10T16:48:43.746Z"
   },
   {
    "duration": 7,
    "start_time": "2024-09-10T16:48:49.594Z"
   },
   {
    "duration": 7,
    "start_time": "2024-09-10T16:48:55.863Z"
   },
   {
    "duration": 6,
    "start_time": "2024-09-10T16:56:08.936Z"
   },
   {
    "duration": 83,
    "start_time": "2024-09-10T16:57:03.522Z"
   },
   {
    "duration": 6,
    "start_time": "2024-09-10T16:57:09.306Z"
   },
   {
    "duration": 54,
    "start_time": "2024-09-10T16:57:24.772Z"
   },
   {
    "duration": 1127,
    "start_time": "2024-09-10T16:57:35.904Z"
   },
   {
    "duration": 7,
    "start_time": "2024-09-10T16:57:49.810Z"
   },
   {
    "duration": 7,
    "start_time": "2024-09-10T16:57:52.508Z"
   },
   {
    "duration": 7,
    "start_time": "2024-09-10T16:57:56.058Z"
   },
   {
    "duration": 275,
    "start_time": "2024-09-10T16:59:16.769Z"
   },
   {
    "duration": 15,
    "start_time": "2024-09-10T16:59:22.249Z"
   },
   {
    "duration": 1197,
    "start_time": "2024-09-10T16:59:59.886Z"
   },
   {
    "duration": 7,
    "start_time": "2024-09-10T17:00:05.618Z"
   },
   {
    "duration": 110,
    "start_time": "2024-09-10T17:00:37.533Z"
   },
   {
    "duration": 42,
    "start_time": "2024-09-10T17:00:41.602Z"
   },
   {
    "duration": 67,
    "start_time": "2024-09-10T17:01:15.519Z"
   },
   {
    "duration": 39,
    "start_time": "2024-09-10T17:01:21.527Z"
   },
   {
    "duration": 50,
    "start_time": "2024-09-10T17:02:12.118Z"
   },
   {
    "duration": 40,
    "start_time": "2024-09-10T17:02:15.099Z"
   },
   {
    "duration": 50,
    "start_time": "2024-09-10T17:02:32.972Z"
   },
   {
    "duration": 41,
    "start_time": "2024-09-10T17:02:35.882Z"
   },
   {
    "duration": 16,
    "start_time": "2024-09-10T17:05:32.401Z"
   },
   {
    "duration": 2429,
    "start_time": "2024-09-10T17:06:27.709Z"
   },
   {
    "duration": 50,
    "start_time": "2024-09-11T08:06:11.911Z"
   },
   {
    "duration": 49,
    "start_time": "2024-09-11T08:06:29.592Z"
   },
   {
    "duration": 0,
    "start_time": "2024-09-11T08:06:29.643Z"
   },
   {
    "duration": 0,
    "start_time": "2024-09-11T08:06:29.644Z"
   },
   {
    "duration": 0,
    "start_time": "2024-09-11T08:06:29.646Z"
   },
   {
    "duration": 0,
    "start_time": "2024-09-11T08:06:29.647Z"
   },
   {
    "duration": 0,
    "start_time": "2024-09-11T08:06:29.648Z"
   },
   {
    "duration": 0,
    "start_time": "2024-09-11T08:06:29.649Z"
   },
   {
    "duration": 0,
    "start_time": "2024-09-11T08:06:29.649Z"
   },
   {
    "duration": 38,
    "start_time": "2024-09-11T08:06:35.737Z"
   },
   {
    "duration": 5,
    "start_time": "2024-09-11T08:06:43.373Z"
   },
   {
    "duration": 48,
    "start_time": "2024-09-11T08:08:27.706Z"
   },
   {
    "duration": 5,
    "start_time": "2024-09-11T08:08:31.430Z"
   },
   {
    "duration": 5,
    "start_time": "2024-09-11T08:08:34.252Z"
   },
   {
    "duration": 5,
    "start_time": "2024-09-11T08:08:38.574Z"
   },
   {
    "duration": 657,
    "start_time": "2024-09-11T08:09:38.372Z"
   },
   {
    "duration": 37,
    "start_time": "2024-09-11T08:09:41.883Z"
   },
   {
    "duration": 14,
    "start_time": "2024-09-11T08:09:49.230Z"
   },
   {
    "duration": 1958,
    "start_time": "2024-09-11T08:09:53.345Z"
   },
   {
    "duration": 8,
    "start_time": "2024-09-11T08:10:00.833Z"
   },
   {
    "duration": 6,
    "start_time": "2024-09-11T08:10:20.838Z"
   },
   {
    "duration": 3,
    "start_time": "2024-09-11T08:10:24.289Z"
   },
   {
    "duration": 6,
    "start_time": "2024-09-11T08:11:52.698Z"
   },
   {
    "duration": 4,
    "start_time": "2024-09-11T08:16:56.647Z"
   },
   {
    "duration": 3,
    "start_time": "2024-09-11T08:30:02.855Z"
   },
   {
    "duration": 4,
    "start_time": "2024-09-11T08:30:04.607Z"
   },
   {
    "duration": 8,
    "start_time": "2024-09-11T08:30:16.337Z"
   },
   {
    "duration": 4,
    "start_time": "2024-09-11T08:33:17.193Z"
   },
   {
    "duration": 7,
    "start_time": "2024-09-11T08:33:20.701Z"
   },
   {
    "duration": 4,
    "start_time": "2024-09-11T08:33:44.163Z"
   },
   {
    "duration": 5,
    "start_time": "2024-09-11T08:33:56.172Z"
   },
   {
    "duration": 5,
    "start_time": "2024-09-11T08:34:30.026Z"
   },
   {
    "duration": 6,
    "start_time": "2024-09-11T08:35:30.072Z"
   },
   {
    "duration": 6,
    "start_time": "2024-09-11T08:35:50.250Z"
   },
   {
    "duration": 4,
    "start_time": "2024-09-11T08:36:42.889Z"
   },
   {
    "duration": 37,
    "start_time": "2024-09-11T08:37:48.402Z"
   },
   {
    "duration": 47,
    "start_time": "2024-09-11T08:38:09.697Z"
   },
   {
    "duration": 3,
    "start_time": "2024-09-11T08:39:04.993Z"
   },
   {
    "duration": 34,
    "start_time": "2024-09-11T08:40:55.805Z"
   },
   {
    "duration": 13,
    "start_time": "2024-09-11T08:46:24.125Z"
   },
   {
    "duration": 10,
    "start_time": "2024-09-11T08:46:33.598Z"
   },
   {
    "duration": 10,
    "start_time": "2024-09-11T08:47:24.533Z"
   },
   {
    "duration": 18,
    "start_time": "2024-09-11T08:47:58.062Z"
   },
   {
    "duration": 32,
    "start_time": "2024-09-11T08:49:54.020Z"
   },
   {
    "duration": 7,
    "start_time": "2024-09-11T08:50:07.524Z"
   },
   {
    "duration": 11,
    "start_time": "2024-09-11T08:50:13.004Z"
   },
   {
    "duration": 10,
    "start_time": "2024-09-11T08:50:22.283Z"
   },
   {
    "duration": 4,
    "start_time": "2024-09-11T08:56:03.836Z"
   },
   {
    "duration": 12,
    "start_time": "2024-09-11T08:56:08.376Z"
   },
   {
    "duration": 5,
    "start_time": "2024-09-11T08:57:19.362Z"
   },
   {
    "duration": 13,
    "start_time": "2024-09-11T08:57:21.868Z"
   },
   {
    "duration": 4,
    "start_time": "2024-09-11T08:58:18.487Z"
   },
   {
    "duration": 14,
    "start_time": "2024-09-11T08:58:20.569Z"
   },
   {
    "duration": 45,
    "start_time": "2024-09-11T09:06:54.009Z"
   },
   {
    "duration": 7,
    "start_time": "2024-09-11T09:07:10.697Z"
   },
   {
    "duration": 13,
    "start_time": "2024-09-11T09:07:15.245Z"
   },
   {
    "duration": 772,
    "start_time": "2024-09-11T09:07:39.017Z"
   },
   {
    "duration": 5,
    "start_time": "2024-09-11T09:07:43.513Z"
   },
   {
    "duration": 30,
    "start_time": "2024-09-11T09:15:59.903Z"
   },
   {
    "duration": 5,
    "start_time": "2024-09-11T09:21:56.456Z"
   },
   {
    "duration": 18,
    "start_time": "2024-09-11T09:54:55.769Z"
   },
   {
    "duration": 29,
    "start_time": "2024-09-11T09:56:01.413Z"
   },
   {
    "duration": 6,
    "start_time": "2024-09-11T09:56:20.313Z"
   },
   {
    "duration": 30,
    "start_time": "2024-09-11T09:57:24.006Z"
   },
   {
    "duration": 5,
    "start_time": "2024-09-11T09:57:27.915Z"
   },
   {
    "duration": 48,
    "start_time": "2024-09-11T09:58:36.648Z"
   },
   {
    "duration": 6,
    "start_time": "2024-09-11T09:58:39.694Z"
   },
   {
    "duration": 29,
    "start_time": "2024-09-11T09:59:42.344Z"
   },
   {
    "duration": 6,
    "start_time": "2024-09-11T09:59:43.153Z"
   },
   {
    "duration": 29,
    "start_time": "2024-09-11T10:00:54.106Z"
   },
   {
    "duration": 31,
    "start_time": "2024-09-11T10:00:56.557Z"
   },
   {
    "duration": 30,
    "start_time": "2024-09-11T10:00:58.346Z"
   },
   {
    "duration": 6,
    "start_time": "2024-09-11T10:01:00.471Z"
   },
   {
    "duration": 31,
    "start_time": "2024-09-11T10:02:05.688Z"
   },
   {
    "duration": 29,
    "start_time": "2024-09-11T10:02:07.984Z"
   },
   {
    "duration": 6,
    "start_time": "2024-09-11T10:02:27.339Z"
   },
   {
    "duration": 12,
    "start_time": "2024-09-11T11:07:34.733Z"
   },
   {
    "duration": 7,
    "start_time": "2024-09-11T11:07:37.783Z"
   },
   {
    "duration": 6,
    "start_time": "2024-09-11T11:07:50.619Z"
   },
   {
    "duration": 12,
    "start_time": "2024-09-11T11:08:03.062Z"
   },
   {
    "duration": 6,
    "start_time": "2024-09-11T11:08:04.780Z"
   },
   {
    "duration": 518,
    "start_time": "2024-09-11T11:08:13.439Z"
   },
   {
    "duration": 45,
    "start_time": "2024-09-11T11:08:13.959Z"
   },
   {
    "duration": 15,
    "start_time": "2024-09-11T11:08:14.005Z"
   },
   {
    "duration": 2014,
    "start_time": "2024-09-11T11:08:14.022Z"
   },
   {
    "duration": 10,
    "start_time": "2024-09-11T11:08:16.038Z"
   },
   {
    "duration": 5,
    "start_time": "2024-09-11T11:08:16.049Z"
   },
   {
    "duration": 5,
    "start_time": "2024-09-11T11:08:16.055Z"
   },
   {
    "duration": 6,
    "start_time": "2024-09-11T11:08:16.062Z"
   },
   {
    "duration": 23,
    "start_time": "2024-09-11T11:08:16.069Z"
   },
   {
    "duration": 18,
    "start_time": "2024-09-11T11:08:16.094Z"
   },
   {
    "duration": 8,
    "start_time": "2024-09-11T11:08:16.114Z"
   },
   {
    "duration": 6,
    "start_time": "2024-09-11T11:08:16.123Z"
   },
   {
    "duration": 7,
    "start_time": "2024-09-11T11:08:16.130Z"
   },
   {
    "duration": 12,
    "start_time": "2024-09-11T11:08:16.139Z"
   },
   {
    "duration": 16,
    "start_time": "2024-09-11T11:08:16.152Z"
   },
   {
    "duration": 8,
    "start_time": "2024-09-11T11:08:16.169Z"
   },
   {
    "duration": 32,
    "start_time": "2024-09-11T11:10:38.378Z"
   },
   {
    "duration": 7,
    "start_time": "2024-09-11T11:10:41.072Z"
   },
   {
    "duration": 13,
    "start_time": "2024-09-11T11:11:04.340Z"
   },
   {
    "duration": 13,
    "start_time": "2024-09-11T11:11:07.240Z"
   },
   {
    "duration": 7,
    "start_time": "2024-09-11T11:11:09.818Z"
   },
   {
    "duration": 32,
    "start_time": "2024-09-11T11:11:43.522Z"
   },
   {
    "duration": 6,
    "start_time": "2024-09-11T11:11:46.788Z"
   },
   {
    "duration": 13,
    "start_time": "2024-09-11T11:11:56.505Z"
   },
   {
    "duration": 6,
    "start_time": "2024-09-11T11:12:00.743Z"
   },
   {
    "duration": 12,
    "start_time": "2024-09-11T11:12:11.914Z"
   },
   {
    "duration": 7,
    "start_time": "2024-09-11T11:12:14.338Z"
   },
   {
    "duration": 514,
    "start_time": "2024-09-11T11:12:22.042Z"
   },
   {
    "duration": 43,
    "start_time": "2024-09-11T11:12:22.558Z"
   },
   {
    "duration": 19,
    "start_time": "2024-09-11T11:12:22.602Z"
   },
   {
    "duration": 2110,
    "start_time": "2024-09-11T11:12:22.622Z"
   },
   {
    "duration": 9,
    "start_time": "2024-09-11T11:12:24.734Z"
   },
   {
    "duration": 5,
    "start_time": "2024-09-11T11:12:24.744Z"
   },
   {
    "duration": 5,
    "start_time": "2024-09-11T11:12:24.751Z"
   },
   {
    "duration": 4,
    "start_time": "2024-09-11T11:12:24.757Z"
   },
   {
    "duration": 11,
    "start_time": "2024-09-11T11:12:24.762Z"
   },
   {
    "duration": 8,
    "start_time": "2024-09-11T11:12:24.775Z"
   },
   {
    "duration": 7,
    "start_time": "2024-09-11T11:12:24.785Z"
   },
   {
    "duration": 4,
    "start_time": "2024-09-11T11:12:24.794Z"
   },
   {
    "duration": 9,
    "start_time": "2024-09-11T11:12:24.799Z"
   },
   {
    "duration": 9,
    "start_time": "2024-09-11T11:12:24.809Z"
   },
   {
    "duration": 13,
    "start_time": "2024-09-11T11:12:24.820Z"
   },
   {
    "duration": 6,
    "start_time": "2024-09-11T11:12:24.834Z"
   },
   {
    "duration": 15,
    "start_time": "2024-09-11T11:15:10.468Z"
   },
   {
    "duration": 6,
    "start_time": "2024-09-11T11:15:19.744Z"
   },
   {
    "duration": 16,
    "start_time": "2024-09-11T11:22:40.160Z"
   },
   {
    "duration": 31,
    "start_time": "2024-09-11T11:23:03.390Z"
   },
   {
    "duration": 68,
    "start_time": "2024-09-11T11:36:03.058Z"
   },
   {
    "duration": 7,
    "start_time": "2024-09-11T11:38:41.207Z"
   },
   {
    "duration": 59,
    "start_time": "2024-09-11T11:41:36.870Z"
   },
   {
    "duration": 29,
    "start_time": "2024-09-11T11:41:42.986Z"
   },
   {
    "duration": 8,
    "start_time": "2024-09-11T11:52:27.692Z"
   },
   {
    "duration": 258,
    "start_time": "2024-09-11T11:52:46.688Z"
   },
   {
    "duration": 5,
    "start_time": "2024-09-11T11:54:24.138Z"
   },
   {
    "duration": 27,
    "start_time": "2024-09-11T11:54:26.374Z"
   },
   {
    "duration": 5,
    "start_time": "2024-09-11T11:55:06.983Z"
   },
   {
    "duration": 4,
    "start_time": "2024-09-11T11:55:09.604Z"
   },
   {
    "duration": 29,
    "start_time": "2024-09-11T11:55:12.332Z"
   },
   {
    "duration": 123,
    "start_time": "2024-09-11T11:55:26.504Z"
   },
   {
    "duration": 41,
    "start_time": "2024-09-11T11:55:30.626Z"
   },
   {
    "duration": 6,
    "start_time": "2024-09-11T11:56:10.080Z"
   },
   {
    "duration": 27,
    "start_time": "2024-09-11T11:56:17.812Z"
   },
   {
    "duration": 45,
    "start_time": "2024-09-11T12:06:32.587Z"
   },
   {
    "duration": 8,
    "start_time": "2024-09-11T12:07:52.236Z"
   },
   {
    "duration": 7,
    "start_time": "2024-09-11T12:08:28.485Z"
   },
   {
    "duration": 8,
    "start_time": "2024-09-11T12:09:03.817Z"
   },
   {
    "duration": 9,
    "start_time": "2024-09-11T12:13:04.998Z"
   },
   {
    "duration": 10,
    "start_time": "2024-09-11T12:14:27.568Z"
   },
   {
    "duration": 7,
    "start_time": "2024-09-11T12:17:00.731Z"
   },
   {
    "duration": 28,
    "start_time": "2024-09-11T12:17:04.692Z"
   },
   {
    "duration": 5,
    "start_time": "2024-09-11T12:26:23.907Z"
   },
   {
    "duration": 26,
    "start_time": "2024-09-11T12:26:44.559Z"
   },
   {
    "duration": 4,
    "start_time": "2024-09-11T12:27:09.192Z"
   },
   {
    "duration": 3,
    "start_time": "2024-09-11T12:27:28.899Z"
   },
   {
    "duration": 38,
    "start_time": "2024-09-11T12:27:30.616Z"
   },
   {
    "duration": 37,
    "start_time": "2024-09-11T12:30:03.382Z"
   },
   {
    "duration": 3,
    "start_time": "2024-09-11T12:31:50.093Z"
   },
   {
    "duration": 29,
    "start_time": "2024-09-11T12:31:57.837Z"
   },
   {
    "duration": 4,
    "start_time": "2024-09-11T12:33:51.008Z"
   },
   {
    "duration": 28,
    "start_time": "2024-09-11T12:33:55.181Z"
   },
   {
    "duration": 3,
    "start_time": "2024-09-11T12:35:56.146Z"
   },
   {
    "duration": 28,
    "start_time": "2024-09-11T12:35:58.626Z"
   },
   {
    "duration": 29,
    "start_time": "2024-09-11T12:36:36.711Z"
   },
   {
    "duration": 6,
    "start_time": "2024-09-11T12:37:10.296Z"
   },
   {
    "duration": 3,
    "start_time": "2024-09-11T12:38:09.083Z"
   },
   {
    "duration": 3,
    "start_time": "2024-09-11T12:38:12.896Z"
   },
   {
    "duration": 6,
    "start_time": "2024-09-11T12:38:15.725Z"
   },
   {
    "duration": 28,
    "start_time": "2024-09-11T12:38:28.127Z"
   },
   {
    "duration": 479,
    "start_time": "2024-09-11T12:38:40.778Z"
   },
   {
    "duration": 40,
    "start_time": "2024-09-11T12:38:41.258Z"
   },
   {
    "duration": 14,
    "start_time": "2024-09-11T12:38:41.300Z"
   },
   {
    "duration": 1913,
    "start_time": "2024-09-11T12:38:41.315Z"
   },
   {
    "duration": 8,
    "start_time": "2024-09-11T12:38:43.230Z"
   },
   {
    "duration": 5,
    "start_time": "2024-09-11T12:38:43.240Z"
   },
   {
    "duration": 6,
    "start_time": "2024-09-11T12:38:43.246Z"
   },
   {
    "duration": 11,
    "start_time": "2024-09-11T12:38:43.253Z"
   },
   {
    "duration": 4,
    "start_time": "2024-09-11T12:38:43.265Z"
   },
   {
    "duration": 11,
    "start_time": "2024-09-11T12:38:43.271Z"
   },
   {
    "duration": 7,
    "start_time": "2024-09-11T12:38:43.283Z"
   },
   {
    "duration": 19,
    "start_time": "2024-09-11T12:38:43.291Z"
   },
   {
    "duration": 7,
    "start_time": "2024-09-11T12:38:43.311Z"
   },
   {
    "duration": 8,
    "start_time": "2024-09-11T12:38:43.320Z"
   },
   {
    "duration": 14,
    "start_time": "2024-09-11T12:38:43.329Z"
   },
   {
    "duration": 6,
    "start_time": "2024-09-11T12:38:43.344Z"
   },
   {
    "duration": 11,
    "start_time": "2024-09-11T12:38:43.352Z"
   },
   {
    "duration": 71,
    "start_time": "2024-09-11T12:38:43.365Z"
   },
   {
    "duration": 5,
    "start_time": "2024-09-11T12:38:43.437Z"
   },
   {
    "duration": 4,
    "start_time": "2024-09-11T12:38:43.444Z"
   },
   {
    "duration": 6,
    "start_time": "2024-09-11T12:38:43.449Z"
   },
   {
    "duration": 20,
    "start_time": "2024-09-11T12:38:43.457Z"
   },
   {
    "duration": 27,
    "start_time": "2024-09-11T12:38:43.479Z"
   },
   {
    "duration": 4,
    "start_time": "2024-09-11T12:39:05.768Z"
   },
   {
    "duration": 30,
    "start_time": "2024-09-11T12:39:09.888Z"
   },
   {
    "duration": 97,
    "start_time": "2024-09-11T12:47:29.738Z"
   },
   {
    "duration": 6,
    "start_time": "2024-09-11T12:48:07.181Z"
   },
   {
    "duration": 4,
    "start_time": "2024-09-11T12:48:40.048Z"
   },
   {
    "duration": 8,
    "start_time": "2024-09-11T12:50:19.668Z"
   },
   {
    "duration": 127,
    "start_time": "2024-09-11T12:50:32.227Z"
   },
   {
    "duration": 61,
    "start_time": "2024-09-11T13:06:28.994Z"
   },
   {
    "duration": 3,
    "start_time": "2024-09-11T13:08:45.035Z"
   },
   {
    "duration": 3,
    "start_time": "2024-09-11T13:09:04.066Z"
   },
   {
    "duration": 3,
    "start_time": "2024-09-11T13:26:44.498Z"
   },
   {
    "duration": 11,
    "start_time": "2024-09-11T13:27:37.527Z"
   },
   {
    "duration": 129,
    "start_time": "2024-09-11T13:28:54.337Z"
   },
   {
    "duration": 4,
    "start_time": "2024-09-11T13:35:20.720Z"
   },
   {
    "duration": 4,
    "start_time": "2024-09-11T13:36:19.905Z"
   },
   {
    "duration": 3,
    "start_time": "2024-09-11T13:36:22.139Z"
   },
   {
    "duration": 185,
    "start_time": "2024-09-11T13:36:25.055Z"
   },
   {
    "duration": 25,
    "start_time": "2024-09-11T13:37:25.274Z"
   },
   {
    "duration": 10,
    "start_time": "2024-09-11T13:37:54.340Z"
   },
   {
    "duration": 121,
    "start_time": "2024-09-11T13:50:11.399Z"
   },
   {
    "duration": 137,
    "start_time": "2024-09-11T13:51:38.371Z"
   },
   {
    "duration": 5,
    "start_time": "2024-09-11T13:52:01.551Z"
   },
   {
    "duration": 4,
    "start_time": "2024-09-11T13:52:21.636Z"
   },
   {
    "duration": 5,
    "start_time": "2024-09-11T13:52:54.256Z"
   },
   {
    "duration": 76,
    "start_time": "2024-09-11T14:24:34.725Z"
   },
   {
    "duration": 22,
    "start_time": "2024-09-11T14:25:05.145Z"
   },
   {
    "duration": 6,
    "start_time": "2024-09-11T14:25:08.649Z"
   },
   {
    "duration": 17,
    "start_time": "2024-09-11T14:33:50.086Z"
   },
   {
    "duration": 5,
    "start_time": "2024-09-11T14:33:53.075Z"
   },
   {
    "duration": 17,
    "start_time": "2024-09-11T14:34:23.471Z"
   },
   {
    "duration": 18,
    "start_time": "2024-09-11T14:34:50.548Z"
   },
   {
    "duration": 5,
    "start_time": "2024-09-11T14:34:55.226Z"
   },
   {
    "duration": 9,
    "start_time": "2024-09-11T14:36:06.933Z"
   },
   {
    "duration": 7,
    "start_time": "2024-09-11T14:36:11.408Z"
   },
   {
    "duration": 4,
    "start_time": "2024-09-11T14:39:41.105Z"
   },
   {
    "duration": 4,
    "start_time": "2024-09-11T14:39:44.060Z"
   },
   {
    "duration": 4,
    "start_time": "2024-09-11T14:39:48.874Z"
   },
   {
    "duration": 2,
    "start_time": "2024-09-11T14:40:38.880Z"
   },
   {
    "duration": 3,
    "start_time": "2024-09-11T14:40:42.110Z"
   },
   {
    "duration": 119,
    "start_time": "2024-09-11T14:43:49.294Z"
   },
   {
    "duration": 9,
    "start_time": "2024-09-11T14:45:16.184Z"
   },
   {
    "duration": 114,
    "start_time": "2024-09-11T14:46:40.671Z"
   },
   {
    "duration": 122,
    "start_time": "2024-09-11T14:48:30.824Z"
   },
   {
    "duration": 9,
    "start_time": "2024-09-11T14:48:37.620Z"
   },
   {
    "duration": 4,
    "start_time": "2024-09-11T14:56:12.347Z"
   },
   {
    "duration": 8,
    "start_time": "2024-09-11T14:56:17.826Z"
   },
   {
    "duration": 118,
    "start_time": "2024-09-11T15:00:43.911Z"
   },
   {
    "duration": 143,
    "start_time": "2024-09-11T15:03:48.079Z"
   },
   {
    "duration": 4,
    "start_time": "2024-09-11T15:06:13.036Z"
   },
   {
    "duration": 3,
    "start_time": "2024-09-11T15:06:39.944Z"
   },
   {
    "duration": 3,
    "start_time": "2024-09-11T15:06:46.193Z"
   },
   {
    "duration": 10,
    "start_time": "2024-09-11T15:06:50.502Z"
   },
   {
    "duration": 3,
    "start_time": "2024-09-11T15:06:59.287Z"
   },
   {
    "duration": 4,
    "start_time": "2024-09-11T15:07:01.556Z"
   },
   {
    "duration": 11,
    "start_time": "2024-09-11T15:07:05.762Z"
   },
   {
    "duration": 113,
    "start_time": "2024-09-11T15:16:59.523Z"
   },
   {
    "duration": 120,
    "start_time": "2024-09-11T15:17:22.053Z"
   },
   {
    "duration": 138,
    "start_time": "2024-09-11T15:25:50.447Z"
   },
   {
    "duration": 7,
    "start_time": "2024-09-11T15:30:50.648Z"
   },
   {
    "duration": 5,
    "start_time": "2024-09-11T15:40:11.012Z"
   },
   {
    "duration": 5,
    "start_time": "2024-09-11T15:40:22.328Z"
   },
   {
    "duration": 5,
    "start_time": "2024-09-11T15:41:29.002Z"
   },
   {
    "duration": 61,
    "start_time": "2024-09-12T08:47:58.855Z"
   },
   {
    "duration": 804,
    "start_time": "2024-09-12T08:48:09.375Z"
   },
   {
    "duration": 47,
    "start_time": "2024-09-12T08:48:10.181Z"
   },
   {
    "duration": 16,
    "start_time": "2024-09-12T08:48:10.230Z"
   },
   {
    "duration": 2526,
    "start_time": "2024-09-12T08:48:10.248Z"
   },
   {
    "duration": 12,
    "start_time": "2024-09-12T08:48:12.776Z"
   },
   {
    "duration": 10,
    "start_time": "2024-09-12T08:48:12.790Z"
   },
   {
    "duration": 5,
    "start_time": "2024-09-12T08:48:12.802Z"
   },
   {
    "duration": 17,
    "start_time": "2024-09-12T08:48:12.809Z"
   },
   {
    "duration": 6,
    "start_time": "2024-09-12T08:48:12.827Z"
   },
   {
    "duration": 18,
    "start_time": "2024-09-12T08:48:12.836Z"
   },
   {
    "duration": 93,
    "start_time": "2024-09-12T08:48:12.855Z"
   },
   {
    "duration": 0,
    "start_time": "2024-09-12T08:48:12.950Z"
   },
   {
    "duration": 0,
    "start_time": "2024-09-12T08:48:12.951Z"
   },
   {
    "duration": 0,
    "start_time": "2024-09-12T08:48:12.952Z"
   },
   {
    "duration": 0,
    "start_time": "2024-09-12T08:48:12.954Z"
   },
   {
    "duration": 0,
    "start_time": "2024-09-12T08:48:12.956Z"
   },
   {
    "duration": 0,
    "start_time": "2024-09-12T08:48:12.957Z"
   },
   {
    "duration": 0,
    "start_time": "2024-09-12T08:48:12.959Z"
   },
   {
    "duration": 0,
    "start_time": "2024-09-12T08:48:12.960Z"
   },
   {
    "duration": 0,
    "start_time": "2024-09-12T08:48:12.962Z"
   },
   {
    "duration": 0,
    "start_time": "2024-09-12T08:48:12.964Z"
   },
   {
    "duration": 0,
    "start_time": "2024-09-12T08:48:12.965Z"
   },
   {
    "duration": 0,
    "start_time": "2024-09-12T08:48:12.967Z"
   },
   {
    "duration": 0,
    "start_time": "2024-09-12T08:48:12.969Z"
   },
   {
    "duration": 0,
    "start_time": "2024-09-12T08:48:13.006Z"
   },
   {
    "duration": 0,
    "start_time": "2024-09-12T08:48:13.007Z"
   },
   {
    "duration": 0,
    "start_time": "2024-09-12T08:48:13.008Z"
   },
   {
    "duration": 0,
    "start_time": "2024-09-12T08:48:13.009Z"
   },
   {
    "duration": 0,
    "start_time": "2024-09-12T08:48:13.011Z"
   },
   {
    "duration": 0,
    "start_time": "2024-09-12T08:48:13.012Z"
   },
   {
    "duration": 0,
    "start_time": "2024-09-12T08:48:13.013Z"
   },
   {
    "duration": 0,
    "start_time": "2024-09-12T08:48:13.014Z"
   },
   {
    "duration": 0,
    "start_time": "2024-09-12T08:48:13.015Z"
   },
   {
    "duration": 0,
    "start_time": "2024-09-12T08:48:13.016Z"
   },
   {
    "duration": 0,
    "start_time": "2024-09-12T08:48:13.017Z"
   },
   {
    "duration": 1,
    "start_time": "2024-09-12T08:48:13.018Z"
   },
   {
    "duration": 0,
    "start_time": "2024-09-12T08:48:13.020Z"
   },
   {
    "duration": 0,
    "start_time": "2024-09-12T08:48:13.021Z"
   },
   {
    "duration": 0,
    "start_time": "2024-09-12T08:48:13.022Z"
   },
   {
    "duration": 0,
    "start_time": "2024-09-12T08:48:13.023Z"
   },
   {
    "duration": 0,
    "start_time": "2024-09-12T08:48:13.024Z"
   },
   {
    "duration": 0,
    "start_time": "2024-09-12T08:48:13.025Z"
   },
   {
    "duration": 19,
    "start_time": "2024-09-12T08:48:16.778Z"
   },
   {
    "duration": 5,
    "start_time": "2024-09-12T08:49:49.408Z"
   },
   {
    "duration": 10,
    "start_time": "2024-09-12T08:54:09.429Z"
   },
   {
    "duration": 13,
    "start_time": "2024-09-12T08:54:23.381Z"
   },
   {
    "duration": 9,
    "start_time": "2024-09-12T09:01:24.274Z"
   },
   {
    "duration": 5,
    "start_time": "2024-09-12T09:01:38.741Z"
   },
   {
    "duration": 49,
    "start_time": "2024-09-12T09:02:14.086Z"
   },
   {
    "duration": 17,
    "start_time": "2024-09-12T09:03:36.441Z"
   },
   {
    "duration": 11,
    "start_time": "2024-09-12T09:05:18.319Z"
   },
   {
    "duration": 10,
    "start_time": "2024-09-12T09:05:21.719Z"
   },
   {
    "duration": 8,
    "start_time": "2024-09-12T09:05:29.109Z"
   },
   {
    "duration": 11,
    "start_time": "2024-09-12T09:09:05.261Z"
   },
   {
    "duration": 13,
    "start_time": "2024-09-12T09:09:07.652Z"
   },
   {
    "duration": 8,
    "start_time": "2024-09-12T09:09:09.440Z"
   },
   {
    "duration": 12,
    "start_time": "2024-09-12T09:09:34.315Z"
   },
   {
    "duration": 11,
    "start_time": "2024-09-12T09:09:37.723Z"
   },
   {
    "duration": 13,
    "start_time": "2024-09-12T09:13:46.583Z"
   },
   {
    "duration": 8,
    "start_time": "2024-09-12T09:13:47.922Z"
   },
   {
    "duration": 122,
    "start_time": "2024-09-12T09:14:54.213Z"
   },
   {
    "duration": 50,
    "start_time": "2024-09-12T09:16:36.444Z"
   },
   {
    "duration": 115,
    "start_time": "2024-09-12T09:16:44.770Z"
   },
   {
    "duration": 154,
    "start_time": "2024-09-12T09:16:54.176Z"
   },
   {
    "duration": 119,
    "start_time": "2024-09-12T09:17:04.770Z"
   },
   {
    "duration": 15,
    "start_time": "2024-09-12T09:18:07.138Z"
   },
   {
    "duration": 7,
    "start_time": "2024-09-12T09:18:12.334Z"
   },
   {
    "duration": 18,
    "start_time": "2024-09-12T09:18:33.281Z"
   },
   {
    "duration": 117,
    "start_time": "2024-09-12T09:18:40.671Z"
   },
   {
    "duration": 11,
    "start_time": "2024-09-12T09:22:54.642Z"
   },
   {
    "duration": 12,
    "start_time": "2024-09-12T09:22:57.141Z"
   },
   {
    "duration": 12,
    "start_time": "2024-09-12T09:24:07.792Z"
   },
   {
    "duration": 9,
    "start_time": "2024-09-12T09:24:12.919Z"
   },
   {
    "duration": 8,
    "start_time": "2024-09-12T09:24:15.552Z"
   },
   {
    "duration": 12,
    "start_time": "2024-09-12T09:24:17.681Z"
   },
   {
    "duration": 7,
    "start_time": "2024-09-12T09:24:21.145Z"
   },
   {
    "duration": 196,
    "start_time": "2024-09-12T09:24:26.823Z"
   },
   {
    "duration": 12,
    "start_time": "2024-09-12T09:26:00.910Z"
   },
   {
    "duration": 8,
    "start_time": "2024-09-12T09:26:50.401Z"
   },
   {
    "duration": 8,
    "start_time": "2024-09-12T09:26:52.888Z"
   },
   {
    "duration": 11,
    "start_time": "2024-09-12T09:26:55.422Z"
   },
   {
    "duration": 8,
    "start_time": "2024-09-12T09:26:58.780Z"
   },
   {
    "duration": 8,
    "start_time": "2024-09-12T09:27:28.182Z"
   },
   {
    "duration": 11,
    "start_time": "2024-09-12T09:27:30.721Z"
   },
   {
    "duration": 9,
    "start_time": "2024-09-12T09:27:35.865Z"
   },
   {
    "duration": 8,
    "start_time": "2024-09-12T09:29:28.230Z"
   },
   {
    "duration": 12,
    "start_time": "2024-09-12T09:30:29.343Z"
   },
   {
    "duration": 7,
    "start_time": "2024-09-12T09:31:08.591Z"
   },
   {
    "duration": 135,
    "start_time": "2024-09-12T09:31:38.689Z"
   },
   {
    "duration": 13,
    "start_time": "2024-09-12T09:37:41.562Z"
   },
   {
    "duration": 7,
    "start_time": "2024-09-12T09:39:11.523Z"
   },
   {
    "duration": 11,
    "start_time": "2024-09-12T09:40:04.122Z"
   },
   {
    "duration": 7,
    "start_time": "2024-09-12T09:40:26.572Z"
   },
   {
    "duration": 131,
    "start_time": "2024-09-12T09:40:48.778Z"
   },
   {
    "duration": 12,
    "start_time": "2024-09-12T09:41:42.468Z"
   },
   {
    "duration": 12,
    "start_time": "2024-09-12T09:41:51.721Z"
   },
   {
    "duration": 13,
    "start_time": "2024-09-12T09:41:58.656Z"
   },
   {
    "duration": 12,
    "start_time": "2024-09-12T09:42:11.107Z"
   },
   {
    "duration": 12,
    "start_time": "2024-09-12T09:42:31.486Z"
   },
   {
    "duration": 8,
    "start_time": "2024-09-12T09:42:38.018Z"
   },
   {
    "duration": 8,
    "start_time": "2024-09-12T09:42:43.431Z"
   },
   {
    "duration": 12,
    "start_time": "2024-09-12T09:42:53.521Z"
   },
   {
    "duration": 12,
    "start_time": "2024-09-12T09:43:06.872Z"
   },
   {
    "duration": 12,
    "start_time": "2024-09-12T09:46:40.762Z"
   },
   {
    "duration": 12,
    "start_time": "2024-09-12T09:46:55.790Z"
   },
   {
    "duration": 10,
    "start_time": "2024-09-12T09:47:04.029Z"
   },
   {
    "duration": 13,
    "start_time": "2024-09-12T09:47:15.965Z"
   },
   {
    "duration": 10,
    "start_time": "2024-09-12T09:47:27.438Z"
   },
   {
    "duration": 10,
    "start_time": "2024-09-12T09:47:38.938Z"
   },
   {
    "duration": 11,
    "start_time": "2024-09-12T09:54:46.212Z"
   },
   {
    "duration": 8,
    "start_time": "2024-09-12T09:54:55.961Z"
   },
   {
    "duration": 5,
    "start_time": "2024-09-12T10:03:22.352Z"
   },
   {
    "duration": 5,
    "start_time": "2024-09-12T10:08:19.531Z"
   },
   {
    "duration": 107,
    "start_time": "2024-09-12T10:10:27.217Z"
   },
   {
    "duration": 23,
    "start_time": "2024-09-12T10:10:40.739Z"
   },
   {
    "duration": 58,
    "start_time": "2024-09-12T10:11:14.165Z"
   },
   {
    "duration": 6,
    "start_time": "2024-09-12T10:13:59.975Z"
   },
   {
    "duration": 5,
    "start_time": "2024-09-12T10:14:06.210Z"
   },
   {
    "duration": 4,
    "start_time": "2024-09-12T10:14:24.790Z"
   },
   {
    "duration": 4,
    "start_time": "2024-09-12T10:14:29.520Z"
   },
   {
    "duration": 8,
    "start_time": "2024-09-12T10:32:29.819Z"
   },
   {
    "duration": 8,
    "start_time": "2024-09-12T10:33:49.596Z"
   },
   {
    "duration": 8,
    "start_time": "2024-09-12T10:34:32.108Z"
   },
   {
    "duration": 5,
    "start_time": "2024-09-12T10:34:42.704Z"
   },
   {
    "duration": 4,
    "start_time": "2024-09-12T10:35:50.399Z"
   },
   {
    "duration": 8,
    "start_time": "2024-09-12T10:35:53.706Z"
   },
   {
    "duration": 4,
    "start_time": "2024-09-12T10:36:12.806Z"
   },
   {
    "duration": 10,
    "start_time": "2024-09-12T10:36:14.470Z"
   },
   {
    "duration": 5,
    "start_time": "2024-09-12T10:36:16.155Z"
   },
   {
    "duration": 3,
    "start_time": "2024-09-12T10:36:17.693Z"
   },
   {
    "duration": 5,
    "start_time": "2024-09-12T10:36:19.658Z"
   },
   {
    "duration": 6,
    "start_time": "2024-09-12T10:36:22.276Z"
   },
   {
    "duration": 15,
    "start_time": "2024-09-12T10:36:47.966Z"
   },
   {
    "duration": 9,
    "start_time": "2024-09-12T10:36:52.160Z"
   },
   {
    "duration": 9,
    "start_time": "2024-09-12T10:36:56.628Z"
   },
   {
    "duration": 5,
    "start_time": "2024-09-12T10:37:01.712Z"
   },
   {
    "duration": 3,
    "start_time": "2024-09-12T10:37:04.088Z"
   },
   {
    "duration": 4,
    "start_time": "2024-09-12T10:37:05.948Z"
   },
   {
    "duration": 6,
    "start_time": "2024-09-12T10:37:08.262Z"
   },
   {
    "duration": 10,
    "start_time": "2024-09-12T10:37:35.726Z"
   },
   {
    "duration": 6,
    "start_time": "2024-09-12T10:37:37.499Z"
   },
   {
    "duration": 3,
    "start_time": "2024-09-12T10:37:39.282Z"
   },
   {
    "duration": 4,
    "start_time": "2024-09-12T10:37:41.082Z"
   },
   {
    "duration": 7,
    "start_time": "2024-09-12T10:37:42.934Z"
   },
   {
    "duration": 9,
    "start_time": "2024-09-12T10:37:56.195Z"
   },
   {
    "duration": 4,
    "start_time": "2024-09-12T10:37:57.892Z"
   },
   {
    "duration": 2,
    "start_time": "2024-09-12T10:37:59.726Z"
   },
   {
    "duration": 5,
    "start_time": "2024-09-12T10:38:01.606Z"
   },
   {
    "duration": 7,
    "start_time": "2024-09-12T10:38:03.558Z"
   },
   {
    "duration": 4,
    "start_time": "2024-09-12T10:40:20.794Z"
   },
   {
    "duration": 9,
    "start_time": "2024-09-12T10:40:21.761Z"
   },
   {
    "duration": 5,
    "start_time": "2024-09-12T10:40:23.233Z"
   },
   {
    "duration": 2,
    "start_time": "2024-09-12T10:40:24.727Z"
   },
   {
    "duration": 5,
    "start_time": "2024-09-12T10:40:26.243Z"
   },
   {
    "duration": 6,
    "start_time": "2024-09-12T10:40:28.385Z"
   },
   {
    "duration": 131,
    "start_time": "2024-09-12T10:41:08.727Z"
   },
   {
    "duration": 15,
    "start_time": "2024-09-12T10:51:21.032Z"
   },
   {
    "duration": 14,
    "start_time": "2024-09-12T10:51:43.782Z"
   },
   {
    "duration": 7,
    "start_time": "2024-09-12T10:51:55.660Z"
   },
   {
    "duration": 14,
    "start_time": "2024-09-12T10:52:09.079Z"
   },
   {
    "duration": 7,
    "start_time": "2024-09-12T10:52:09.180Z"
   },
   {
    "duration": 4,
    "start_time": "2024-09-12T10:53:05.631Z"
   },
   {
    "duration": 5,
    "start_time": "2024-09-12T10:53:07.916Z"
   },
   {
    "duration": 4,
    "start_time": "2024-09-12T10:53:09.320Z"
   },
   {
    "duration": 14,
    "start_time": "2024-09-12T10:53:34.999Z"
   },
   {
    "duration": 6,
    "start_time": "2024-09-12T10:53:38.977Z"
   },
   {
    "duration": 127,
    "start_time": "2024-09-12T10:54:20.795Z"
   },
   {
    "duration": 13,
    "start_time": "2024-09-12T10:59:41.623Z"
   },
   {
    "duration": 3,
    "start_time": "2024-09-12T11:00:10.643Z"
   },
   {
    "duration": 6,
    "start_time": "2024-09-12T11:00:16.805Z"
   },
   {
    "duration": 7,
    "start_time": "2024-09-12T11:02:22.895Z"
   },
   {
    "duration": 14,
    "start_time": "2024-09-12T11:02:26.078Z"
   },
   {
    "duration": 15,
    "start_time": "2024-09-12T11:02:35.258Z"
   },
   {
    "duration": 5,
    "start_time": "2024-09-12T11:02:46.200Z"
   },
   {
    "duration": 240,
    "start_time": "2024-09-12T11:02:47.632Z"
   },
   {
    "duration": 544,
    "start_time": "2024-09-12T11:02:58.237Z"
   },
   {
    "duration": 45,
    "start_time": "2024-09-12T11:02:58.782Z"
   },
   {
    "duration": 63,
    "start_time": "2024-09-12T11:02:58.828Z"
   },
   {
    "duration": 2376,
    "start_time": "2024-09-12T11:02:58.893Z"
   },
   {
    "duration": 10,
    "start_time": "2024-09-12T11:03:01.271Z"
   },
   {
    "duration": 22,
    "start_time": "2024-09-12T11:03:01.283Z"
   },
   {
    "duration": 33,
    "start_time": "2024-09-12T11:03:01.306Z"
   },
   {
    "duration": 13,
    "start_time": "2024-09-12T11:03:01.340Z"
   },
   {
    "duration": 11,
    "start_time": "2024-09-12T11:03:01.355Z"
   },
   {
    "duration": 37,
    "start_time": "2024-09-12T11:03:01.369Z"
   },
   {
    "duration": 6,
    "start_time": "2024-09-12T11:03:01.408Z"
   },
   {
    "duration": 5,
    "start_time": "2024-09-12T11:03:01.416Z"
   },
   {
    "duration": 30,
    "start_time": "2024-09-12T11:03:01.423Z"
   },
   {
    "duration": 66,
    "start_time": "2024-09-12T11:03:01.455Z"
   },
   {
    "duration": 53,
    "start_time": "2024-09-12T11:03:01.523Z"
   },
   {
    "duration": 36,
    "start_time": "2024-09-12T11:03:01.578Z"
   },
   {
    "duration": 28,
    "start_time": "2024-09-12T11:03:01.615Z"
   },
   {
    "duration": 101,
    "start_time": "2024-09-12T11:03:01.644Z"
   },
   {
    "duration": 6,
    "start_time": "2024-09-12T11:03:01.746Z"
   },
   {
    "duration": 26,
    "start_time": "2024-09-12T11:03:01.753Z"
   },
   {
    "duration": 21,
    "start_time": "2024-09-12T11:03:01.781Z"
   },
   {
    "duration": 8,
    "start_time": "2024-09-12T11:03:01.803Z"
   },
   {
    "duration": 32,
    "start_time": "2024-09-12T11:03:01.813Z"
   },
   {
    "duration": 15,
    "start_time": "2024-09-12T11:03:01.847Z"
   },
   {
    "duration": 127,
    "start_time": "2024-09-12T11:03:01.864Z"
   },
   {
    "duration": 5,
    "start_time": "2024-09-12T11:03:01.992Z"
   },
   {
    "duration": 13,
    "start_time": "2024-09-12T11:03:01.999Z"
   },
   {
    "duration": 167,
    "start_time": "2024-09-12T11:03:02.016Z"
   },
   {
    "duration": 4,
    "start_time": "2024-09-12T11:03:02.184Z"
   },
   {
    "duration": 45,
    "start_time": "2024-09-12T11:03:02.190Z"
   },
   {
    "duration": 170,
    "start_time": "2024-09-12T11:03:02.237Z"
   },
   {
    "duration": 222,
    "start_time": "2024-09-12T11:03:02.409Z"
   },
   {
    "duration": 163,
    "start_time": "2024-09-12T11:03:02.633Z"
   },
   {
    "duration": 152,
    "start_time": "2024-09-12T11:03:02.798Z"
   },
   {
    "duration": 137,
    "start_time": "2024-09-12T11:03:02.952Z"
   },
   {
    "duration": 163,
    "start_time": "2024-09-12T11:03:03.091Z"
   },
   {
    "duration": 150,
    "start_time": "2024-09-12T11:03:03.256Z"
   },
   {
    "duration": 158,
    "start_time": "2024-09-12T11:03:03.408Z"
   },
   {
    "duration": 153,
    "start_time": "2024-09-12T11:03:03.567Z"
   },
   {
    "duration": 4,
    "start_time": "2024-09-12T11:03:03.721Z"
   },
   {
    "duration": 27,
    "start_time": "2024-09-12T11:03:03.727Z"
   },
   {
    "duration": 25,
    "start_time": "2024-09-12T11:03:03.756Z"
   },
   {
    "duration": 7,
    "start_time": "2024-09-12T11:03:03.783Z"
   },
   {
    "duration": 32,
    "start_time": "2024-09-12T11:03:03.792Z"
   },
   {
    "duration": 15,
    "start_time": "2024-09-12T11:03:03.825Z"
   },
   {
    "duration": 131,
    "start_time": "2024-09-12T11:03:03.842Z"
   },
   {
    "duration": 12,
    "start_time": "2024-09-12T11:03:03.974Z"
   },
   {
    "duration": 23,
    "start_time": "2024-09-12T11:03:03.988Z"
   },
   {
    "duration": 29,
    "start_time": "2024-09-12T11:03:04.013Z"
   },
   {
    "duration": 26,
    "start_time": "2024-09-12T11:03:04.044Z"
   },
   {
    "duration": 143,
    "start_time": "2024-09-12T11:03:04.072Z"
   },
   {
    "duration": 11,
    "start_time": "2024-09-12T11:03:04.217Z"
   },
   {
    "duration": 7,
    "start_time": "2024-09-12T11:03:04.230Z"
   },
   {
    "duration": 19,
    "start_time": "2024-09-12T11:03:04.238Z"
   },
   {
    "duration": 38,
    "start_time": "2024-09-12T11:03:04.259Z"
   },
   {
    "duration": 145,
    "start_time": "2024-09-12T11:03:04.298Z"
   },
   {
    "duration": 4,
    "start_time": "2024-09-12T11:03:04.445Z"
   },
   {
    "duration": 24,
    "start_time": "2024-09-12T11:03:04.451Z"
   },
   {
    "duration": 34,
    "start_time": "2024-09-12T11:03:04.477Z"
   },
   {
    "duration": 25,
    "start_time": "2024-09-12T11:03:04.513Z"
   },
   {
    "duration": 30,
    "start_time": "2024-09-12T11:03:04.540Z"
   },
   {
    "duration": 24,
    "start_time": "2024-09-12T11:03:04.571Z"
   },
   {
    "duration": 19,
    "start_time": "2024-09-12T11:03:04.596Z"
   },
   {
    "duration": 158,
    "start_time": "2024-09-12T11:03:04.617Z"
   },
   {
    "duration": 13,
    "start_time": "2024-09-12T11:03:04.777Z"
   },
   {
    "duration": 73,
    "start_time": "2024-09-12T11:03:04.791Z"
   },
   {
    "duration": 143,
    "start_time": "2024-09-12T11:03:04.866Z"
   },
   {
    "duration": 19,
    "start_time": "2024-09-12T11:03:05.023Z"
   },
   {
    "duration": 20,
    "start_time": "2024-09-12T11:03:05.044Z"
   },
   {
    "duration": 26,
    "start_time": "2024-09-12T11:03:05.066Z"
   },
   {
    "duration": 12,
    "start_time": "2024-09-12T11:03:05.093Z"
   },
   {
    "duration": 38,
    "start_time": "2024-09-12T11:03:05.107Z"
   },
   {
    "duration": 25,
    "start_time": "2024-09-12T11:03:05.149Z"
   },
   {
    "duration": 7,
    "start_time": "2024-09-12T11:03:06.457Z"
   },
   {
    "duration": 229,
    "start_time": "2024-09-12T11:03:44.762Z"
   },
   {
    "duration": 9,
    "start_time": "2024-09-12T11:19:25.390Z"
   },
   {
    "duration": 8,
    "start_time": "2024-09-12T11:19:34.999Z"
   },
   {
    "duration": 8,
    "start_time": "2024-09-12T11:19:44.601Z"
   },
   {
    "duration": 189,
    "start_time": "2024-09-12T11:20:13.600Z"
   },
   {
    "duration": 9,
    "start_time": "2024-09-12T11:28:40.694Z"
   },
   {
    "duration": 7,
    "start_time": "2024-09-12T11:28:55.726Z"
   },
   {
    "duration": 148,
    "start_time": "2024-09-12T11:29:11.752Z"
   },
   {
    "duration": 79,
    "start_time": "2024-09-12T11:40:14.251Z"
   },
   {
    "duration": 66,
    "start_time": "2024-09-12T11:40:20.910Z"
   },
   {
    "duration": 13,
    "start_time": "2024-09-12T11:41:45.470Z"
   },
   {
    "duration": 8,
    "start_time": "2024-09-12T11:41:55.419Z"
   },
   {
    "duration": 20,
    "start_time": "2024-09-12T11:43:44.503Z"
   },
   {
    "duration": 16,
    "start_time": "2024-09-12T11:43:47.181Z"
   },
   {
    "duration": 41,
    "start_time": "2024-09-12T11:43:55.551Z"
   },
   {
    "duration": 25,
    "start_time": "2024-09-12T11:44:37.796Z"
   },
   {
    "duration": 15,
    "start_time": "2024-09-12T11:45:14.261Z"
   },
   {
    "duration": 8,
    "start_time": "2024-09-12T11:46:01.717Z"
   },
   {
    "duration": 11,
    "start_time": "2024-09-12T11:46:03.951Z"
   },
   {
    "duration": 8,
    "start_time": "2024-09-12T11:46:07.261Z"
   },
   {
    "duration": 12,
    "start_time": "2024-09-12T11:46:10.848Z"
   },
   {
    "duration": 7,
    "start_time": "2024-09-12T11:46:16.262Z"
   },
   {
    "duration": 4,
    "start_time": "2024-09-12T11:47:54.321Z"
   },
   {
    "duration": 3,
    "start_time": "2024-09-12T11:48:06.282Z"
   },
   {
    "duration": 12,
    "start_time": "2024-09-12T11:48:07.803Z"
   },
   {
    "duration": 19,
    "start_time": "2024-09-12T11:48:27.764Z"
   },
   {
    "duration": 16,
    "start_time": "2024-09-12T11:48:44.137Z"
   },
   {
    "duration": 4,
    "start_time": "2024-09-12T11:48:48.485Z"
   },
   {
    "duration": 12,
    "start_time": "2024-09-12T11:48:50.304Z"
   },
   {
    "duration": 4,
    "start_time": "2024-09-12T11:49:05.350Z"
   },
   {
    "duration": 10,
    "start_time": "2024-09-12T11:52:40.821Z"
   },
   {
    "duration": 11,
    "start_time": "2024-09-12T11:52:54.211Z"
   },
   {
    "duration": 10,
    "start_time": "2024-09-12T11:53:00.459Z"
   },
   {
    "duration": 10,
    "start_time": "2024-09-12T11:54:19.986Z"
   },
   {
    "duration": 11,
    "start_time": "2024-09-12T11:54:22.863Z"
   },
   {
    "duration": 10,
    "start_time": "2024-09-12T11:54:24.835Z"
   },
   {
    "duration": 12,
    "start_time": "2024-09-12T11:54:51.307Z"
   },
   {
    "duration": 12,
    "start_time": "2024-09-12T11:54:53.722Z"
   },
   {
    "duration": 11,
    "start_time": "2024-09-12T11:54:55.318Z"
   },
   {
    "duration": 11,
    "start_time": "2024-09-12T11:56:57.231Z"
   },
   {
    "duration": 9,
    "start_time": "2024-09-12T11:56:59.431Z"
   },
   {
    "duration": 4,
    "start_time": "2024-09-12T11:58:50.406Z"
   },
   {
    "duration": 42,
    "start_time": "2024-09-12T11:58:56.145Z"
   },
   {
    "duration": 4,
    "start_time": "2024-09-12T11:59:14.553Z"
   },
   {
    "duration": 4,
    "start_time": "2024-09-12T11:59:17.111Z"
   },
   {
    "duration": 44,
    "start_time": "2024-09-12T11:59:18.510Z"
   },
   {
    "duration": 12,
    "start_time": "2024-09-12T12:00:15.647Z"
   },
   {
    "duration": 10,
    "start_time": "2024-09-12T12:00:17.580Z"
   },
   {
    "duration": 12,
    "start_time": "2024-09-12T12:00:41.402Z"
   },
   {
    "duration": 13,
    "start_time": "2024-09-12T12:00:44.630Z"
   },
   {
    "duration": 11,
    "start_time": "2024-09-12T12:00:45.570Z"
   },
   {
    "duration": 13,
    "start_time": "2024-09-12T12:01:07.644Z"
   },
   {
    "duration": 11,
    "start_time": "2024-09-12T12:01:09.507Z"
   },
   {
    "duration": 10,
    "start_time": "2024-09-12T12:01:11.075Z"
   },
   {
    "duration": 48,
    "start_time": "2024-09-12T12:03:25.522Z"
   },
   {
    "duration": 800,
    "start_time": "2024-09-12T14:39:06.604Z"
   },
   {
    "duration": 46,
    "start_time": "2024-09-12T14:39:07.406Z"
   },
   {
    "duration": 15,
    "start_time": "2024-09-12T14:39:07.453Z"
   },
   {
    "duration": 2538,
    "start_time": "2024-09-12T14:39:07.470Z"
   },
   {
    "duration": 12,
    "start_time": "2024-09-12T14:39:10.010Z"
   },
   {
    "duration": 12,
    "start_time": "2024-09-12T14:39:10.024Z"
   },
   {
    "duration": 5,
    "start_time": "2024-09-12T14:39:10.038Z"
   },
   {
    "duration": 8,
    "start_time": "2024-09-12T14:39:10.044Z"
   },
   {
    "duration": 4,
    "start_time": "2024-09-12T14:39:10.054Z"
   },
   {
    "duration": 18,
    "start_time": "2024-09-12T14:39:10.060Z"
   },
   {
    "duration": 27,
    "start_time": "2024-09-12T14:39:10.080Z"
   },
   {
    "duration": 6,
    "start_time": "2024-09-12T14:39:10.110Z"
   },
   {
    "duration": 46,
    "start_time": "2024-09-12T14:39:10.117Z"
   },
   {
    "duration": 18,
    "start_time": "2024-09-12T14:39:10.165Z"
   },
   {
    "duration": 21,
    "start_time": "2024-09-12T14:39:10.184Z"
   },
   {
    "duration": 25,
    "start_time": "2024-09-12T14:39:10.207Z"
   },
   {
    "duration": 17,
    "start_time": "2024-09-12T14:39:10.234Z"
   },
   {
    "duration": 99,
    "start_time": "2024-09-12T14:39:10.252Z"
   },
   {
    "duration": 5,
    "start_time": "2024-09-12T14:39:10.353Z"
   },
   {
    "duration": 36,
    "start_time": "2024-09-12T14:39:10.360Z"
   },
   {
    "duration": 17,
    "start_time": "2024-09-12T14:39:10.398Z"
   },
   {
    "duration": 42,
    "start_time": "2024-09-12T14:39:10.416Z"
   },
   {
    "duration": 23,
    "start_time": "2024-09-12T14:39:10.459Z"
   },
   {
    "duration": 40,
    "start_time": "2024-09-12T14:39:10.484Z"
   },
   {
    "duration": 141,
    "start_time": "2024-09-12T14:39:10.525Z"
   },
   {
    "duration": 4,
    "start_time": "2024-09-12T14:39:10.668Z"
   },
   {
    "duration": 16,
    "start_time": "2024-09-12T14:39:10.673Z"
   },
   {
    "duration": 174,
    "start_time": "2024-09-12T14:39:10.693Z"
   },
   {
    "duration": 5,
    "start_time": "2024-09-12T14:39:10.868Z"
   },
   {
    "duration": 15,
    "start_time": "2024-09-12T14:39:10.875Z"
   },
   {
    "duration": 231,
    "start_time": "2024-09-12T14:39:10.892Z"
   },
   {
    "duration": 141,
    "start_time": "2024-09-12T14:39:11.125Z"
   },
   {
    "duration": 155,
    "start_time": "2024-09-12T14:39:11.268Z"
   },
   {
    "duration": 146,
    "start_time": "2024-09-12T14:39:11.424Z"
   },
   {
    "duration": 137,
    "start_time": "2024-09-12T14:39:11.572Z"
   },
   {
    "duration": 154,
    "start_time": "2024-09-12T14:39:11.710Z"
   },
   {
    "duration": 148,
    "start_time": "2024-09-12T14:39:11.866Z"
   },
   {
    "duration": 155,
    "start_time": "2024-09-12T14:39:12.015Z"
   },
   {
    "duration": 157,
    "start_time": "2024-09-12T14:39:12.171Z"
   },
   {
    "duration": 5,
    "start_time": "2024-09-12T14:39:12.329Z"
   },
   {
    "duration": 21,
    "start_time": "2024-09-12T14:39:12.335Z"
   },
   {
    "duration": 22,
    "start_time": "2024-09-12T14:39:12.358Z"
   },
   {
    "duration": 7,
    "start_time": "2024-09-12T14:39:12.382Z"
   },
   {
    "duration": 33,
    "start_time": "2024-09-12T14:39:12.390Z"
   },
   {
    "duration": 22,
    "start_time": "2024-09-12T14:39:12.424Z"
   },
   {
    "duration": 144,
    "start_time": "2024-09-12T14:39:12.448Z"
   },
   {
    "duration": 22,
    "start_time": "2024-09-12T14:39:12.594Z"
   },
   {
    "duration": 23,
    "start_time": "2024-09-12T14:39:12.618Z"
   },
   {
    "duration": 17,
    "start_time": "2024-09-12T14:39:12.642Z"
   },
   {
    "duration": 12,
    "start_time": "2024-09-12T14:39:12.660Z"
   },
   {
    "duration": 144,
    "start_time": "2024-09-12T14:39:12.674Z"
   },
   {
    "duration": 12,
    "start_time": "2024-09-12T14:39:12.819Z"
   },
   {
    "duration": 19,
    "start_time": "2024-09-12T14:39:12.833Z"
   },
   {
    "duration": 33,
    "start_time": "2024-09-12T14:39:12.854Z"
   },
   {
    "duration": 9,
    "start_time": "2024-09-12T14:39:12.890Z"
   },
   {
    "duration": 143,
    "start_time": "2024-09-12T14:39:12.901Z"
   },
   {
    "duration": 5,
    "start_time": "2024-09-12T14:39:13.045Z"
   },
   {
    "duration": 23,
    "start_time": "2024-09-12T14:39:13.051Z"
   },
   {
    "duration": 12,
    "start_time": "2024-09-12T14:39:13.076Z"
   },
   {
    "duration": 6,
    "start_time": "2024-09-12T14:39:13.089Z"
   },
   {
    "duration": 11,
    "start_time": "2024-09-12T14:39:13.096Z"
   },
   {
    "duration": 31,
    "start_time": "2024-09-12T14:39:13.109Z"
   },
   {
    "duration": 45,
    "start_time": "2024-09-12T14:39:13.142Z"
   },
   {
    "duration": 234,
    "start_time": "2024-09-12T14:39:13.189Z"
   },
   {
    "duration": 12,
    "start_time": "2024-09-12T14:39:13.425Z"
   },
   {
    "duration": 41,
    "start_time": "2024-09-12T14:39:13.439Z"
   },
   {
    "duration": 125,
    "start_time": "2024-09-12T14:39:13.482Z"
   },
   {
    "duration": 10,
    "start_time": "2024-09-12T14:39:13.609Z"
   },
   {
    "duration": 14,
    "start_time": "2024-09-12T14:39:13.621Z"
   },
   {
    "duration": 154,
    "start_time": "2024-09-12T14:39:13.636Z"
   },
   {
    "duration": 21,
    "start_time": "2024-09-12T14:39:13.792Z"
   },
   {
    "duration": 28,
    "start_time": "2024-09-12T14:39:13.815Z"
   },
   {
    "duration": 186,
    "start_time": "2024-09-12T14:39:13.845Z"
   },
   {
    "duration": 10,
    "start_time": "2024-09-12T14:39:14.033Z"
   },
   {
    "duration": 9,
    "start_time": "2024-09-12T14:39:14.045Z"
   },
   {
    "duration": 169,
    "start_time": "2024-09-12T14:39:14.055Z"
   },
   {
    "duration": 45,
    "start_time": "2024-09-12T14:39:14.226Z"
   },
   {
    "duration": 36,
    "start_time": "2024-09-12T14:39:14.273Z"
   },
   {
    "duration": 11,
    "start_time": "2024-09-12T14:39:14.311Z"
   },
   {
    "duration": 17,
    "start_time": "2024-09-12T14:39:14.324Z"
   },
   {
    "duration": 13,
    "start_time": "2024-09-12T14:39:14.343Z"
   },
   {
    "duration": 6,
    "start_time": "2024-09-12T14:52:02.152Z"
   },
   {
    "duration": 45,
    "start_time": "2024-09-12T14:52:04.231Z"
   },
   {
    "duration": 4,
    "start_time": "2024-09-12T14:58:22.290Z"
   },
   {
    "duration": 15,
    "start_time": "2024-09-12T14:58:23.711Z"
   },
   {
    "duration": 15,
    "start_time": "2024-09-12T15:03:35.288Z"
   },
   {
    "duration": 76,
    "start_time": "2024-09-12T15:03:37.762Z"
   },
   {
    "duration": 5,
    "start_time": "2024-09-12T15:03:55.491Z"
   },
   {
    "duration": 8,
    "start_time": "2024-09-12T15:04:03.317Z"
   },
   {
    "duration": 184,
    "start_time": "2024-09-12T15:05:16.960Z"
   },
   {
    "duration": 10,
    "start_time": "2024-09-12T15:41:28.167Z"
   },
   {
    "duration": 41,
    "start_time": "2024-09-12T15:41:48.061Z"
   },
   {
    "duration": 11,
    "start_time": "2024-09-12T15:44:46.548Z"
   },
   {
    "duration": 11,
    "start_time": "2024-09-12T15:45:24.815Z"
   },
   {
    "duration": 11,
    "start_time": "2024-09-12T15:45:42.963Z"
   },
   {
    "duration": 11,
    "start_time": "2024-09-12T15:45:54.819Z"
   },
   {
    "duration": 10,
    "start_time": "2024-09-12T15:46:00.587Z"
   },
   {
    "duration": 10,
    "start_time": "2024-09-12T15:46:10.077Z"
   },
   {
    "duration": 10,
    "start_time": "2024-09-12T15:51:10.510Z"
   },
   {
    "duration": 5,
    "start_time": "2024-09-12T15:51:43.323Z"
   },
   {
    "duration": 5,
    "start_time": "2024-09-12T15:54:45.923Z"
   },
   {
    "duration": 10,
    "start_time": "2024-09-12T15:54:54.591Z"
   },
   {
    "duration": 8,
    "start_time": "2024-09-12T16:01:52.600Z"
   },
   {
    "duration": 8,
    "start_time": "2024-09-12T16:01:57.808Z"
   },
   {
    "duration": 561,
    "start_time": "2024-09-12T16:02:12.608Z"
   },
   {
    "duration": 43,
    "start_time": "2024-09-12T16:02:13.171Z"
   },
   {
    "duration": 15,
    "start_time": "2024-09-12T16:02:13.215Z"
   },
   {
    "duration": 2224,
    "start_time": "2024-09-12T16:02:13.232Z"
   },
   {
    "duration": 11,
    "start_time": "2024-09-12T16:02:15.457Z"
   },
   {
    "duration": 23,
    "start_time": "2024-09-12T16:02:15.470Z"
   },
   {
    "duration": 57,
    "start_time": "2024-09-12T16:02:15.494Z"
   },
   {
    "duration": 54,
    "start_time": "2024-09-12T16:02:15.552Z"
   },
   {
    "duration": 65,
    "start_time": "2024-09-12T16:02:15.607Z"
   },
   {
    "duration": 43,
    "start_time": "2024-09-12T16:02:15.674Z"
   },
   {
    "duration": 12,
    "start_time": "2024-09-12T16:02:15.718Z"
   },
   {
    "duration": 8,
    "start_time": "2024-09-12T16:02:15.731Z"
   },
   {
    "duration": 40,
    "start_time": "2024-09-12T16:02:15.741Z"
   },
   {
    "duration": 22,
    "start_time": "2024-09-12T16:02:15.783Z"
   },
   {
    "duration": 44,
    "start_time": "2024-09-12T16:02:15.806Z"
   },
   {
    "duration": 66,
    "start_time": "2024-09-12T16:02:15.852Z"
   },
   {
    "duration": 7,
    "start_time": "2024-09-12T16:02:15.919Z"
   },
   {
    "duration": 68,
    "start_time": "2024-09-12T16:02:15.927Z"
   },
   {
    "duration": 11,
    "start_time": "2024-09-12T16:02:15.996Z"
   },
   {
    "duration": 6,
    "start_time": "2024-09-12T16:02:16.008Z"
   },
   {
    "duration": 3,
    "start_time": "2024-09-12T16:02:16.015Z"
   },
   {
    "duration": 12,
    "start_time": "2024-09-12T16:02:16.019Z"
   },
   {
    "duration": 3,
    "start_time": "2024-09-12T16:02:16.033Z"
   },
   {
    "duration": 44,
    "start_time": "2024-09-12T16:02:16.038Z"
   },
   {
    "duration": 130,
    "start_time": "2024-09-12T16:02:16.083Z"
   },
   {
    "duration": 3,
    "start_time": "2024-09-12T16:02:16.215Z"
   },
   {
    "duration": 82,
    "start_time": "2024-09-12T16:02:16.219Z"
   },
   {
    "duration": 151,
    "start_time": "2024-09-12T16:02:16.306Z"
   },
   {
    "duration": 4,
    "start_time": "2024-09-12T16:02:16.459Z"
   },
   {
    "duration": 32,
    "start_time": "2024-09-12T16:02:16.465Z"
   },
   {
    "duration": 149,
    "start_time": "2024-09-12T16:02:16.499Z"
   },
   {
    "duration": 202,
    "start_time": "2024-09-12T16:02:16.650Z"
   },
   {
    "duration": 153,
    "start_time": "2024-09-12T16:02:16.854Z"
   },
   {
    "duration": 133,
    "start_time": "2024-09-12T16:02:17.009Z"
   },
   {
    "duration": 125,
    "start_time": "2024-09-12T16:02:17.143Z"
   },
   {
    "duration": 170,
    "start_time": "2024-09-12T16:02:17.270Z"
   },
   {
    "duration": 147,
    "start_time": "2024-09-12T16:02:17.442Z"
   },
   {
    "duration": 154,
    "start_time": "2024-09-12T16:02:17.591Z"
   },
   {
    "duration": 155,
    "start_time": "2024-09-12T16:02:17.746Z"
   },
   {
    "duration": 4,
    "start_time": "2024-09-12T16:02:17.907Z"
   },
   {
    "duration": 8,
    "start_time": "2024-09-12T16:02:17.916Z"
   },
   {
    "duration": 25,
    "start_time": "2024-09-12T16:02:17.926Z"
   },
   {
    "duration": 14,
    "start_time": "2024-09-12T16:02:17.953Z"
   },
   {
    "duration": 11,
    "start_time": "2024-09-12T16:02:17.969Z"
   },
   {
    "duration": 13,
    "start_time": "2024-09-12T16:02:17.981Z"
   },
   {
    "duration": 126,
    "start_time": "2024-09-12T16:02:17.996Z"
   },
   {
    "duration": 11,
    "start_time": "2024-09-12T16:02:18.124Z"
   },
   {
    "duration": 10,
    "start_time": "2024-09-12T16:02:18.137Z"
   },
   {
    "duration": 10,
    "start_time": "2024-09-12T16:02:18.148Z"
   },
   {
    "duration": 7,
    "start_time": "2024-09-12T16:02:18.159Z"
   },
   {
    "duration": 153,
    "start_time": "2024-09-12T16:02:18.167Z"
   },
   {
    "duration": 11,
    "start_time": "2024-09-12T16:02:18.321Z"
   },
   {
    "duration": 19,
    "start_time": "2024-09-12T16:02:18.334Z"
   },
   {
    "duration": 11,
    "start_time": "2024-09-12T16:02:18.354Z"
   },
   {
    "duration": 7,
    "start_time": "2024-09-12T16:02:18.367Z"
   },
   {
    "duration": 137,
    "start_time": "2024-09-12T16:02:18.375Z"
   },
   {
    "duration": 4,
    "start_time": "2024-09-12T16:02:18.514Z"
   },
   {
    "duration": 11,
    "start_time": "2024-09-12T16:02:18.520Z"
   },
   {
    "duration": 16,
    "start_time": "2024-09-12T16:02:18.532Z"
   },
   {
    "duration": 12,
    "start_time": "2024-09-12T16:02:18.549Z"
   },
   {
    "duration": 5,
    "start_time": "2024-09-12T16:02:18.562Z"
   },
   {
    "duration": 10,
    "start_time": "2024-09-12T16:02:18.569Z"
   },
   {
    "duration": 13,
    "start_time": "2024-09-12T16:02:18.581Z"
   },
   {
    "duration": 143,
    "start_time": "2024-09-12T16:02:18.595Z"
   },
   {
    "duration": 11,
    "start_time": "2024-09-12T16:02:18.739Z"
   },
   {
    "duration": 6,
    "start_time": "2024-09-12T16:02:18.752Z"
   },
   {
    "duration": 138,
    "start_time": "2024-09-12T16:02:18.759Z"
   },
   {
    "duration": 14,
    "start_time": "2024-09-12T16:02:18.899Z"
   },
   {
    "duration": 8,
    "start_time": "2024-09-12T16:02:18.914Z"
   },
   {
    "duration": 224,
    "start_time": "2024-09-12T16:02:18.923Z"
   },
   {
    "duration": 9,
    "start_time": "2024-09-12T16:02:19.148Z"
   },
   {
    "duration": 12,
    "start_time": "2024-09-12T16:02:19.158Z"
   },
   {
    "duration": 177,
    "start_time": "2024-09-12T16:02:19.171Z"
   },
   {
    "duration": 9,
    "start_time": "2024-09-12T16:02:19.349Z"
   },
   {
    "duration": 6,
    "start_time": "2024-09-12T16:02:19.359Z"
   },
   {
    "duration": 160,
    "start_time": "2024-09-12T16:02:19.366Z"
   },
   {
    "duration": 4,
    "start_time": "2024-09-12T16:02:19.528Z"
   },
   {
    "duration": 22,
    "start_time": "2024-09-12T16:02:19.533Z"
   },
   {
    "duration": 15,
    "start_time": "2024-09-12T16:02:19.556Z"
   },
   {
    "duration": 16,
    "start_time": "2024-09-12T16:02:19.572Z"
   },
   {
    "duration": 194,
    "start_time": "2024-09-12T16:02:19.590Z"
   },
   {
    "duration": 6,
    "start_time": "2024-09-12T16:02:19.808Z"
   },
   {
    "duration": 13,
    "start_time": "2024-09-12T16:02:19.815Z"
   },
   {
    "duration": 10,
    "start_time": "2024-09-12T16:02:19.829Z"
   },
   {
    "duration": 9,
    "start_time": "2024-09-12T16:02:19.840Z"
   },
   {
    "duration": 6,
    "start_time": "2024-09-12T16:02:22.865Z"
   },
   {
    "duration": 42,
    "start_time": "2024-09-12T16:02:43.127Z"
   },
   {
    "duration": 7,
    "start_time": "2024-09-12T16:03:53.019Z"
   },
   {
    "duration": 8,
    "start_time": "2024-09-12T16:03:56.453Z"
   },
   {
    "duration": 6,
    "start_time": "2024-09-12T16:03:58.396Z"
   },
   {
    "duration": 547,
    "start_time": "2024-09-12T16:04:10.084Z"
   },
   {
    "duration": 44,
    "start_time": "2024-09-12T16:04:10.633Z"
   },
   {
    "duration": 15,
    "start_time": "2024-09-12T16:04:10.678Z"
   },
   {
    "duration": 2150,
    "start_time": "2024-09-12T16:04:10.706Z"
   },
   {
    "duration": 10,
    "start_time": "2024-09-12T16:04:12.857Z"
   },
   {
    "duration": 21,
    "start_time": "2024-09-12T16:04:12.869Z"
   },
   {
    "duration": 6,
    "start_time": "2024-09-12T16:04:12.892Z"
   },
   {
    "duration": 8,
    "start_time": "2024-09-12T16:04:12.899Z"
   },
   {
    "duration": 18,
    "start_time": "2024-09-12T16:04:12.909Z"
   },
   {
    "duration": 40,
    "start_time": "2024-09-12T16:04:12.930Z"
   },
   {
    "duration": 7,
    "start_time": "2024-09-12T16:04:12.972Z"
   },
   {
    "duration": 13,
    "start_time": "2024-09-12T16:04:12.981Z"
   },
   {
    "duration": 24,
    "start_time": "2024-09-12T16:04:12.996Z"
   },
   {
    "duration": 12,
    "start_time": "2024-09-12T16:04:13.022Z"
   },
   {
    "duration": 44,
    "start_time": "2024-09-12T16:04:13.035Z"
   },
   {
    "duration": 22,
    "start_time": "2024-09-12T16:04:13.081Z"
   },
   {
    "duration": 8,
    "start_time": "2024-09-12T16:04:13.105Z"
   },
   {
    "duration": 68,
    "start_time": "2024-09-12T16:04:13.114Z"
   },
   {
    "duration": 5,
    "start_time": "2024-09-12T16:04:13.184Z"
   },
   {
    "duration": 17,
    "start_time": "2024-09-12T16:04:13.190Z"
   },
   {
    "duration": 3,
    "start_time": "2024-09-12T16:04:13.209Z"
   },
   {
    "duration": 10,
    "start_time": "2024-09-12T16:04:13.213Z"
   },
   {
    "duration": 27,
    "start_time": "2024-09-12T16:04:13.225Z"
   },
   {
    "duration": 25,
    "start_time": "2024-09-12T16:04:13.254Z"
   },
   {
    "duration": 137,
    "start_time": "2024-09-12T16:04:13.281Z"
   },
   {
    "duration": 4,
    "start_time": "2024-09-12T16:04:13.420Z"
   },
   {
    "duration": 9,
    "start_time": "2024-09-12T16:04:13.426Z"
   },
   {
    "duration": 161,
    "start_time": "2024-09-12T16:04:13.439Z"
   },
   {
    "duration": 6,
    "start_time": "2024-09-12T16:04:13.602Z"
   },
   {
    "duration": 51,
    "start_time": "2024-09-12T16:04:13.610Z"
   },
   {
    "duration": 146,
    "start_time": "2024-09-12T16:04:13.663Z"
   },
   {
    "duration": 198,
    "start_time": "2024-09-12T16:04:13.810Z"
   },
   {
    "duration": 142,
    "start_time": "2024-09-12T16:04:14.010Z"
   },
   {
    "duration": 139,
    "start_time": "2024-09-12T16:04:14.154Z"
   },
   {
    "duration": 133,
    "start_time": "2024-09-12T16:04:14.295Z"
   },
   {
    "duration": 140,
    "start_time": "2024-09-12T16:04:14.430Z"
   },
   {
    "duration": 140,
    "start_time": "2024-09-12T16:04:14.572Z"
   },
   {
    "duration": 148,
    "start_time": "2024-09-12T16:04:14.713Z"
   },
   {
    "duration": 147,
    "start_time": "2024-09-12T16:04:14.863Z"
   },
   {
    "duration": 4,
    "start_time": "2024-09-12T16:04:15.012Z"
   },
   {
    "duration": 61,
    "start_time": "2024-09-12T16:04:15.018Z"
   },
   {
    "duration": 29,
    "start_time": "2024-09-12T16:04:15.080Z"
   },
   {
    "duration": 19,
    "start_time": "2024-09-12T16:04:15.111Z"
   },
   {
    "duration": 22,
    "start_time": "2024-09-12T16:04:15.132Z"
   },
   {
    "duration": 22,
    "start_time": "2024-09-12T16:04:15.156Z"
   },
   {
    "duration": 151,
    "start_time": "2024-09-12T16:04:15.179Z"
   },
   {
    "duration": 12,
    "start_time": "2024-09-12T16:04:15.331Z"
   },
   {
    "duration": 32,
    "start_time": "2024-09-12T16:04:15.344Z"
   },
   {
    "duration": 10,
    "start_time": "2024-09-12T16:04:15.378Z"
   },
   {
    "duration": 19,
    "start_time": "2024-09-12T16:04:15.389Z"
   },
   {
    "duration": 137,
    "start_time": "2024-09-12T16:04:15.409Z"
   },
   {
    "duration": 11,
    "start_time": "2024-09-12T16:04:15.548Z"
   },
   {
    "duration": 17,
    "start_time": "2024-09-12T16:04:15.560Z"
   },
   {
    "duration": 135,
    "start_time": "2024-09-12T16:04:15.578Z"
   },
   {
    "duration": 32,
    "start_time": "2024-09-12T16:04:15.714Z"
   },
   {
    "duration": 136,
    "start_time": "2024-09-12T16:04:15.747Z"
   },
   {
    "duration": 5,
    "start_time": "2024-09-12T16:04:15.886Z"
   },
   {
    "duration": 28,
    "start_time": "2024-09-12T16:04:15.893Z"
   },
   {
    "duration": 11,
    "start_time": "2024-09-12T16:04:15.923Z"
   },
   {
    "duration": 33,
    "start_time": "2024-09-12T16:04:15.935Z"
   },
   {
    "duration": 35,
    "start_time": "2024-09-12T16:04:15.969Z"
   },
   {
    "duration": 22,
    "start_time": "2024-09-12T16:04:16.006Z"
   },
   {
    "duration": 19,
    "start_time": "2024-09-12T16:04:16.030Z"
   },
   {
    "duration": 147,
    "start_time": "2024-09-12T16:04:16.050Z"
   },
   {
    "duration": 19,
    "start_time": "2024-09-12T16:04:16.198Z"
   },
   {
    "duration": 35,
    "start_time": "2024-09-12T16:04:16.219Z"
   },
   {
    "duration": 139,
    "start_time": "2024-09-12T16:04:16.256Z"
   },
   {
    "duration": 15,
    "start_time": "2024-09-12T16:04:16.396Z"
   },
   {
    "duration": 16,
    "start_time": "2024-09-12T16:04:16.413Z"
   },
   {
    "duration": 241,
    "start_time": "2024-09-12T16:04:16.431Z"
   },
   {
    "duration": 9,
    "start_time": "2024-09-12T16:04:16.674Z"
   },
   {
    "duration": 37,
    "start_time": "2024-09-12T16:04:16.684Z"
   },
   {
    "duration": 161,
    "start_time": "2024-09-12T16:04:16.723Z"
   },
   {
    "duration": 8,
    "start_time": "2024-09-12T16:04:16.886Z"
   },
   {
    "duration": 13,
    "start_time": "2024-09-12T16:04:16.896Z"
   },
   {
    "duration": 153,
    "start_time": "2024-09-12T16:04:16.911Z"
   },
   {
    "duration": 3,
    "start_time": "2024-09-12T16:04:17.067Z"
   },
   {
    "duration": 40,
    "start_time": "2024-09-12T16:04:17.072Z"
   },
   {
    "duration": 4,
    "start_time": "2024-09-12T16:04:17.113Z"
   },
   {
    "duration": 27,
    "start_time": "2024-09-12T16:04:17.119Z"
   },
   {
    "duration": 230,
    "start_time": "2024-09-12T16:04:17.148Z"
   },
   {
    "duration": 53,
    "start_time": "2024-09-12T16:04:17.394Z"
   },
   {
    "duration": 5,
    "start_time": "2024-09-12T16:04:17.449Z"
   },
   {
    "duration": 12,
    "start_time": "2024-09-12T16:04:17.456Z"
   },
   {
    "duration": 28,
    "start_time": "2024-09-12T16:04:17.470Z"
   },
   {
    "duration": 8,
    "start_time": "2024-09-12T16:04:17.499Z"
   },
   {
    "duration": 5,
    "start_time": "2024-09-12T16:05:03.982Z"
   },
   {
    "duration": 10,
    "start_time": "2024-09-12T16:05:09.208Z"
   },
   {
    "duration": 50,
    "start_time": "2024-09-12T16:05:56.884Z"
   },
   {
    "duration": 9,
    "start_time": "2024-09-12T16:06:00.453Z"
   },
   {
    "duration": 8,
    "start_time": "2024-09-12T16:06:24.307Z"
   },
   {
    "duration": 11,
    "start_time": "2024-09-12T16:06:26.964Z"
   },
   {
    "duration": 6,
    "start_time": "2024-09-12T16:07:02.449Z"
   },
   {
    "duration": 10,
    "start_time": "2024-09-12T16:07:06.500Z"
   },
   {
    "duration": 68,
    "start_time": "2024-09-12T16:19:09.780Z"
   },
   {
    "duration": 10,
    "start_time": "2024-09-12T16:19:15.221Z"
   },
   {
    "duration": 5,
    "start_time": "2024-09-12T16:19:17.271Z"
   },
   {
    "duration": 2,
    "start_time": "2024-09-12T16:19:19.392Z"
   },
   {
    "duration": 11,
    "start_time": "2024-09-12T16:19:30.411Z"
   },
   {
    "duration": 5,
    "start_time": "2024-09-12T16:24:38.734Z"
   },
   {
    "duration": 10,
    "start_time": "2024-09-12T16:24:41.605Z"
   },
   {
    "duration": 294,
    "start_time": "2024-09-12T16:26:23.299Z"
   },
   {
    "duration": 747,
    "start_time": "2024-09-12T17:51:32.280Z"
   },
   {
    "duration": 44,
    "start_time": "2024-09-12T17:51:33.028Z"
   },
   {
    "duration": 15,
    "start_time": "2024-09-12T17:51:33.073Z"
   },
   {
    "duration": 2096,
    "start_time": "2024-09-12T17:51:33.090Z"
   },
   {
    "duration": 10,
    "start_time": "2024-09-12T17:51:35.188Z"
   },
   {
    "duration": 11,
    "start_time": "2024-09-12T17:51:35.199Z"
   },
   {
    "duration": 13,
    "start_time": "2024-09-12T17:51:35.212Z"
   },
   {
    "duration": 4,
    "start_time": "2024-09-12T17:51:35.226Z"
   },
   {
    "duration": 3,
    "start_time": "2024-09-12T17:51:35.231Z"
   },
   {
    "duration": 14,
    "start_time": "2024-09-12T17:51:35.236Z"
   },
   {
    "duration": 4,
    "start_time": "2024-09-12T17:51:35.252Z"
   },
   {
    "duration": 7,
    "start_time": "2024-09-12T17:51:35.258Z"
   },
   {
    "duration": 25,
    "start_time": "2024-09-12T17:51:35.266Z"
   },
   {
    "duration": 21,
    "start_time": "2024-09-12T17:51:35.293Z"
   },
   {
    "duration": 15,
    "start_time": "2024-09-12T17:51:35.315Z"
   },
   {
    "duration": 6,
    "start_time": "2024-09-12T17:51:35.331Z"
   },
   {
    "duration": 5,
    "start_time": "2024-09-12T17:51:35.339Z"
   },
   {
    "duration": 72,
    "start_time": "2024-09-12T17:51:35.345Z"
   },
   {
    "duration": 6,
    "start_time": "2024-09-12T17:51:35.418Z"
   },
   {
    "duration": 5,
    "start_time": "2024-09-12T17:51:35.425Z"
   },
   {
    "duration": 3,
    "start_time": "2024-09-12T17:51:35.431Z"
   },
   {
    "duration": 11,
    "start_time": "2024-09-12T17:51:35.435Z"
   },
   {
    "duration": 4,
    "start_time": "2024-09-12T17:51:35.447Z"
   },
   {
    "duration": 5,
    "start_time": "2024-09-12T17:51:35.452Z"
   },
   {
    "duration": 124,
    "start_time": "2024-09-12T17:51:35.458Z"
   },
   {
    "duration": 3,
    "start_time": "2024-09-12T17:51:35.589Z"
   },
   {
    "duration": 10,
    "start_time": "2024-09-12T17:51:35.594Z"
   },
   {
    "duration": 172,
    "start_time": "2024-09-12T17:51:35.608Z"
   },
   {
    "duration": 8,
    "start_time": "2024-09-12T17:51:35.782Z"
   },
   {
    "duration": 21,
    "start_time": "2024-09-12T17:51:35.792Z"
   },
   {
    "duration": 147,
    "start_time": "2024-09-12T17:51:35.815Z"
   },
   {
    "duration": 207,
    "start_time": "2024-09-12T17:51:35.963Z"
   },
   {
    "duration": 142,
    "start_time": "2024-09-12T17:51:36.171Z"
   },
   {
    "duration": 138,
    "start_time": "2024-09-12T17:51:36.314Z"
   },
   {
    "duration": 118,
    "start_time": "2024-09-12T17:51:36.454Z"
   },
   {
    "duration": 141,
    "start_time": "2024-09-12T17:51:36.574Z"
   },
   {
    "duration": 139,
    "start_time": "2024-09-12T17:51:36.716Z"
   },
   {
    "duration": 140,
    "start_time": "2024-09-12T17:51:36.857Z"
   },
   {
    "duration": 140,
    "start_time": "2024-09-12T17:51:36.998Z"
   },
   {
    "duration": 4,
    "start_time": "2024-09-12T17:51:37.139Z"
   },
   {
    "duration": 5,
    "start_time": "2024-09-12T17:51:37.144Z"
   },
   {
    "duration": 12,
    "start_time": "2024-09-12T17:51:37.150Z"
   },
   {
    "duration": 27,
    "start_time": "2024-09-12T17:51:37.163Z"
   },
   {
    "duration": 11,
    "start_time": "2024-09-12T17:51:37.192Z"
   },
   {
    "duration": 25,
    "start_time": "2024-09-12T17:51:37.204Z"
   },
   {
    "duration": 123,
    "start_time": "2024-09-12T17:51:37.231Z"
   },
   {
    "duration": 11,
    "start_time": "2024-09-12T17:51:37.356Z"
   },
   {
    "duration": 21,
    "start_time": "2024-09-12T17:51:37.369Z"
   },
   {
    "duration": 13,
    "start_time": "2024-09-12T17:51:37.391Z"
   },
   {
    "duration": 20,
    "start_time": "2024-09-12T17:51:37.406Z"
   },
   {
    "duration": 129,
    "start_time": "2024-09-12T17:51:37.427Z"
   },
   {
    "duration": 11,
    "start_time": "2024-09-12T17:51:37.557Z"
   },
   {
    "duration": 20,
    "start_time": "2024-09-12T17:51:37.570Z"
   },
   {
    "duration": 9,
    "start_time": "2024-09-12T17:51:37.591Z"
   },
   {
    "duration": 16,
    "start_time": "2024-09-12T17:51:37.602Z"
   },
   {
    "duration": 131,
    "start_time": "2024-09-12T17:51:37.620Z"
   },
   {
    "duration": 4,
    "start_time": "2024-09-12T17:51:37.753Z"
   },
   {
    "duration": 10,
    "start_time": "2024-09-12T17:51:37.758Z"
   },
   {
    "duration": 11,
    "start_time": "2024-09-12T17:51:37.770Z"
   },
   {
    "duration": 8,
    "start_time": "2024-09-12T17:51:37.783Z"
   },
   {
    "duration": 15,
    "start_time": "2024-09-12T17:51:37.793Z"
   },
   {
    "duration": 18,
    "start_time": "2024-09-12T17:51:37.810Z"
   },
   {
    "duration": 12,
    "start_time": "2024-09-12T17:51:37.829Z"
   },
   {
    "duration": 130,
    "start_time": "2024-09-12T17:51:37.843Z"
   },
   {
    "duration": 10,
    "start_time": "2024-09-12T17:51:37.974Z"
   },
   {
    "duration": 13,
    "start_time": "2024-09-12T17:51:37.985Z"
   },
   {
    "duration": 122,
    "start_time": "2024-09-12T17:51:37.999Z"
   },
   {
    "duration": 9,
    "start_time": "2024-09-12T17:51:38.122Z"
   },
   {
    "duration": 6,
    "start_time": "2024-09-12T17:51:38.132Z"
   },
   {
    "duration": 230,
    "start_time": "2024-09-12T17:51:38.139Z"
   },
   {
    "duration": 18,
    "start_time": "2024-09-12T17:51:38.371Z"
   },
   {
    "duration": 7,
    "start_time": "2024-09-12T17:51:38.391Z"
   },
   {
    "duration": 157,
    "start_time": "2024-09-12T17:51:38.399Z"
   },
   {
    "duration": 8,
    "start_time": "2024-09-12T17:51:38.558Z"
   },
   {
    "duration": 9,
    "start_time": "2024-09-12T17:51:38.567Z"
   },
   {
    "duration": 142,
    "start_time": "2024-09-12T17:51:38.589Z"
   },
   {
    "duration": 4,
    "start_time": "2024-09-12T17:51:38.732Z"
   },
   {
    "duration": 21,
    "start_time": "2024-09-12T17:51:38.737Z"
   },
   {
    "duration": 3,
    "start_time": "2024-09-12T17:51:38.760Z"
   },
   {
    "duration": 8,
    "start_time": "2024-09-12T17:51:38.764Z"
   },
   {
    "duration": 186,
    "start_time": "2024-09-12T17:51:38.774Z"
   },
   {
    "duration": 8,
    "start_time": "2024-09-12T17:51:38.964Z"
   },
   {
    "duration": 16,
    "start_time": "2024-09-12T17:51:38.974Z"
   },
   {
    "duration": 305,
    "start_time": "2024-09-12T17:51:38.991Z"
   },
   {
    "duration": 8,
    "start_time": "2024-09-12T19:09:49.085Z"
   },
   {
    "duration": 87,
    "start_time": "2024-09-12T19:10:23.595Z"
   },
   {
    "duration": 73,
    "start_time": "2024-09-12T19:10:37.704Z"
   },
   {
    "duration": 67,
    "start_time": "2024-09-13T09:34:35.352Z"
   },
   {
    "duration": 475,
    "start_time": "2024-09-13T09:34:55.005Z"
   },
   {
    "duration": 188,
    "start_time": "2024-09-13T09:34:55.484Z"
   },
   {
    "duration": 45,
    "start_time": "2024-09-13T09:34:55.682Z"
   },
   {
    "duration": 3,
    "start_time": "2024-09-13T09:34:55.729Z"
   },
   {
    "duration": 36,
    "start_time": "2024-09-13T09:34:55.733Z"
   },
   {
    "duration": 2702,
    "start_time": "2024-09-13T09:34:55.781Z"
   },
   {
    "duration": 10,
    "start_time": "2024-09-13T09:34:58.485Z"
   },
   {
    "duration": 15,
    "start_time": "2024-09-13T09:34:58.497Z"
   },
   {
    "duration": 9,
    "start_time": "2024-09-13T09:34:58.513Z"
   },
   {
    "duration": 5,
    "start_time": "2024-09-13T09:34:58.524Z"
   },
   {
    "duration": 8,
    "start_time": "2024-09-13T09:34:58.531Z"
   },
   {
    "duration": 23,
    "start_time": "2024-09-13T09:34:58.541Z"
   },
   {
    "duration": 8,
    "start_time": "2024-09-13T09:34:58.565Z"
   },
   {
    "duration": 7,
    "start_time": "2024-09-13T09:34:58.576Z"
   },
   {
    "duration": 10,
    "start_time": "2024-09-13T09:34:58.585Z"
   },
   {
    "duration": 9,
    "start_time": "2024-09-13T09:34:58.596Z"
   },
   {
    "duration": 14,
    "start_time": "2024-09-13T09:34:58.607Z"
   },
   {
    "duration": 21,
    "start_time": "2024-09-13T09:34:58.623Z"
   },
   {
    "duration": 28,
    "start_time": "2024-09-13T09:34:58.645Z"
   },
   {
    "duration": 64,
    "start_time": "2024-09-13T09:34:58.681Z"
   },
   {
    "duration": 30,
    "start_time": "2024-09-13T09:34:58.747Z"
   },
   {
    "duration": 5,
    "start_time": "2024-09-13T09:34:58.778Z"
   },
   {
    "duration": 3,
    "start_time": "2024-09-13T09:34:58.785Z"
   },
   {
    "duration": 7,
    "start_time": "2024-09-13T09:34:58.789Z"
   },
   {
    "duration": 5,
    "start_time": "2024-09-13T09:34:58.797Z"
   },
   {
    "duration": 4,
    "start_time": "2024-09-13T09:34:58.803Z"
   },
   {
    "duration": 139,
    "start_time": "2024-09-13T09:34:58.808Z"
   },
   {
    "duration": 18,
    "start_time": "2024-09-13T09:34:58.952Z"
   },
   {
    "duration": 7,
    "start_time": "2024-09-13T09:34:58.972Z"
   },
   {
    "duration": 155,
    "start_time": "2024-09-13T09:34:58.981Z"
   },
   {
    "duration": 5,
    "start_time": "2024-09-13T09:34:59.138Z"
   },
   {
    "duration": 24,
    "start_time": "2024-09-13T09:34:59.144Z"
   },
   {
    "duration": 238,
    "start_time": "2024-09-13T09:34:59.174Z"
   },
   {
    "duration": 171,
    "start_time": "2024-09-13T09:34:59.414Z"
   },
   {
    "duration": 170,
    "start_time": "2024-09-13T09:34:59.587Z"
   },
   {
    "duration": 207,
    "start_time": "2024-09-13T09:34:59.759Z"
   },
   {
    "duration": 162,
    "start_time": "2024-09-13T09:34:59.976Z"
   },
   {
    "duration": 166,
    "start_time": "2024-09-13T09:35:00.140Z"
   },
   {
    "duration": 153,
    "start_time": "2024-09-13T09:35:00.307Z"
   },
   {
    "duration": 158,
    "start_time": "2024-09-13T09:35:00.465Z"
   },
   {
    "duration": 187,
    "start_time": "2024-09-13T09:35:00.624Z"
   },
   {
    "duration": 7,
    "start_time": "2024-09-13T09:35:00.813Z"
   },
   {
    "duration": 11,
    "start_time": "2024-09-13T09:35:00.821Z"
   },
   {
    "duration": 12,
    "start_time": "2024-09-13T09:35:00.834Z"
   },
   {
    "duration": 14,
    "start_time": "2024-09-13T09:35:00.865Z"
   },
   {
    "duration": 20,
    "start_time": "2024-09-13T09:35:00.881Z"
   },
   {
    "duration": 7,
    "start_time": "2024-09-13T09:35:00.903Z"
   },
   {
    "duration": 147,
    "start_time": "2024-09-13T09:35:00.912Z"
   },
   {
    "duration": 23,
    "start_time": "2024-09-13T09:35:01.060Z"
   },
   {
    "duration": 11,
    "start_time": "2024-09-13T09:35:01.085Z"
   },
   {
    "duration": 19,
    "start_time": "2024-09-13T09:35:01.098Z"
   },
   {
    "duration": 12,
    "start_time": "2024-09-13T09:35:01.120Z"
   },
   {
    "duration": 182,
    "start_time": "2024-09-13T09:35:01.134Z"
   },
   {
    "duration": 13,
    "start_time": "2024-09-13T09:35:01.318Z"
   },
   {
    "duration": 9,
    "start_time": "2024-09-13T09:35:01.333Z"
   },
   {
    "duration": 44,
    "start_time": "2024-09-13T09:35:01.344Z"
   },
   {
    "duration": 8,
    "start_time": "2024-09-13T09:35:01.390Z"
   },
   {
    "duration": 179,
    "start_time": "2024-09-13T09:35:01.399Z"
   },
   {
    "duration": 8,
    "start_time": "2024-09-13T09:35:01.579Z"
   },
   {
    "duration": 11,
    "start_time": "2024-09-13T09:35:01.589Z"
   },
   {
    "duration": 168,
    "start_time": "2024-09-13T09:35:01.602Z"
   },
   {
    "duration": 7,
    "start_time": "2024-09-13T09:35:01.782Z"
   },
   {
    "duration": 18,
    "start_time": "2024-09-13T09:35:01.791Z"
   },
   {
    "duration": 18,
    "start_time": "2024-09-13T09:35:01.811Z"
   },
   {
    "duration": 34,
    "start_time": "2024-09-13T09:35:01.832Z"
   },
   {
    "duration": 269,
    "start_time": "2024-09-13T09:35:01.868Z"
   },
   {
    "duration": 12,
    "start_time": "2024-09-13T09:35:02.139Z"
   },
   {
    "duration": 33,
    "start_time": "2024-09-13T09:35:02.152Z"
   },
   {
    "duration": 129,
    "start_time": "2024-09-13T09:35:02.186Z"
   },
   {
    "duration": 9,
    "start_time": "2024-09-13T09:35:02.317Z"
   },
   {
    "duration": 28,
    "start_time": "2024-09-13T09:35:02.328Z"
   },
   {
    "duration": 180,
    "start_time": "2024-09-13T09:35:02.358Z"
   },
   {
    "duration": 11,
    "start_time": "2024-09-13T09:35:02.540Z"
   },
   {
    "duration": 30,
    "start_time": "2024-09-13T09:35:02.552Z"
   },
   {
    "duration": 178,
    "start_time": "2024-09-13T09:35:02.584Z"
   },
   {
    "duration": 18,
    "start_time": "2024-09-13T09:35:02.765Z"
   },
   {
    "duration": 7,
    "start_time": "2024-09-13T09:35:02.785Z"
   },
   {
    "duration": 164,
    "start_time": "2024-09-13T09:35:02.793Z"
   },
   {
    "duration": 7,
    "start_time": "2024-09-13T09:35:02.959Z"
   },
   {
    "duration": 23,
    "start_time": "2024-09-13T09:35:02.968Z"
   },
   {
    "duration": 4,
    "start_time": "2024-09-13T09:35:02.993Z"
   },
   {
    "duration": 14,
    "start_time": "2024-09-13T09:35:03.003Z"
   },
   {
    "duration": 231,
    "start_time": "2024-09-13T09:35:03.018Z"
   },
   {
    "duration": 24,
    "start_time": "2024-09-13T09:35:03.251Z"
   },
   {
    "duration": 17,
    "start_time": "2024-09-13T09:35:03.277Z"
   },
   {
    "duration": 351,
    "start_time": "2024-09-13T09:35:03.296Z"
   },
   {
    "duration": 3,
    "start_time": "2024-09-13T09:36:34.780Z"
   },
   {
    "duration": 43,
    "start_time": "2024-09-13T09:36:40.220Z"
   },
   {
    "duration": 2915,
    "start_time": "2024-09-13T09:37:13.370Z"
   },
   {
    "duration": 2859,
    "start_time": "2024-09-13T09:37:42.772Z"
   },
   {
    "duration": 2823,
    "start_time": "2024-09-13T09:37:52.931Z"
   },
   {
    "duration": 244,
    "start_time": "2024-09-13T09:39:34.359Z"
   },
   {
    "duration": 132,
    "start_time": "2024-09-13T09:39:40.621Z"
   },
   {
    "duration": 124,
    "start_time": "2024-09-13T09:39:47.402Z"
   },
   {
    "duration": 160,
    "start_time": "2024-09-13T09:39:55.531Z"
   },
   {
    "duration": 132,
    "start_time": "2024-09-13T09:40:29.479Z"
   },
   {
    "duration": 457,
    "start_time": "2024-09-13T09:46:27.502Z"
   },
   {
    "duration": 120,
    "start_time": "2024-09-13T09:46:27.966Z"
   },
   {
    "duration": 2,
    "start_time": "2024-09-13T09:46:28.088Z"
   },
   {
    "duration": 44,
    "start_time": "2024-09-13T09:46:28.092Z"
   },
   {
    "duration": 44,
    "start_time": "2024-09-13T09:46:28.137Z"
   },
   {
    "duration": 2545,
    "start_time": "2024-09-13T09:46:28.183Z"
   },
   {
    "duration": 10,
    "start_time": "2024-09-13T09:46:30.730Z"
   },
   {
    "duration": 12,
    "start_time": "2024-09-13T09:46:30.741Z"
   },
   {
    "duration": 27,
    "start_time": "2024-09-13T09:46:30.755Z"
   },
   {
    "duration": 5,
    "start_time": "2024-09-13T09:46:30.789Z"
   },
   {
    "duration": 5,
    "start_time": "2024-09-13T09:46:30.796Z"
   },
   {
    "duration": 13,
    "start_time": "2024-09-13T09:46:30.802Z"
   },
   {
    "duration": 5,
    "start_time": "2024-09-13T09:46:30.816Z"
   },
   {
    "duration": 7,
    "start_time": "2024-09-13T09:46:30.823Z"
   },
   {
    "duration": 13,
    "start_time": "2024-09-13T09:46:30.832Z"
   },
   {
    "duration": 21,
    "start_time": "2024-09-13T09:46:30.846Z"
   },
   {
    "duration": 26,
    "start_time": "2024-09-13T09:46:30.869Z"
   },
   {
    "duration": 9,
    "start_time": "2024-09-13T09:46:30.897Z"
   },
   {
    "duration": 21,
    "start_time": "2024-09-13T09:46:30.907Z"
   },
   {
    "duration": 74,
    "start_time": "2024-09-13T09:46:30.931Z"
   },
   {
    "duration": 5,
    "start_time": "2024-09-13T09:46:31.007Z"
   },
   {
    "duration": 11,
    "start_time": "2024-09-13T09:46:31.014Z"
   },
   {
    "duration": 4,
    "start_time": "2024-09-13T09:46:31.026Z"
   },
   {
    "duration": 5,
    "start_time": "2024-09-13T09:46:31.031Z"
   },
   {
    "duration": 5,
    "start_time": "2024-09-13T09:46:31.037Z"
   },
   {
    "duration": 10,
    "start_time": "2024-09-13T09:46:31.043Z"
   },
   {
    "duration": 169,
    "start_time": "2024-09-13T09:46:31.055Z"
   },
   {
    "duration": 43,
    "start_time": "2024-09-13T09:46:31.228Z"
   },
   {
    "duration": 7,
    "start_time": "2024-09-13T09:46:31.273Z"
   },
   {
    "duration": 302,
    "start_time": "2024-09-13T09:46:31.282Z"
   },
   {
    "duration": 4,
    "start_time": "2024-09-13T09:46:31.586Z"
   },
   {
    "duration": 15,
    "start_time": "2024-09-13T09:46:31.592Z"
   },
   {
    "duration": 162,
    "start_time": "2024-09-13T09:46:31.609Z"
   },
   {
    "duration": 276,
    "start_time": "2024-09-13T09:46:31.773Z"
   },
   {
    "duration": 167,
    "start_time": "2024-09-13T09:46:32.050Z"
   },
   {
    "duration": 163,
    "start_time": "2024-09-13T09:46:32.219Z"
   },
   {
    "duration": 187,
    "start_time": "2024-09-13T09:46:32.385Z"
   },
   {
    "duration": 169,
    "start_time": "2024-09-13T09:46:32.574Z"
   },
   {
    "duration": 148,
    "start_time": "2024-09-13T09:46:32.744Z"
   },
   {
    "duration": 163,
    "start_time": "2024-09-13T09:46:32.894Z"
   },
   {
    "duration": 155,
    "start_time": "2024-09-13T09:46:33.059Z"
   },
   {
    "duration": 5,
    "start_time": "2024-09-13T09:46:33.216Z"
   },
   {
    "duration": 7,
    "start_time": "2024-09-13T09:46:33.223Z"
   },
   {
    "duration": 42,
    "start_time": "2024-09-13T09:46:33.232Z"
   },
   {
    "duration": 7,
    "start_time": "2024-09-13T09:46:33.276Z"
   },
   {
    "duration": 13,
    "start_time": "2024-09-13T09:46:33.285Z"
   },
   {
    "duration": 13,
    "start_time": "2024-09-13T09:46:33.300Z"
   },
   {
    "duration": 127,
    "start_time": "2024-09-13T09:46:33.314Z"
   },
   {
    "duration": 13,
    "start_time": "2024-09-13T09:46:33.442Z"
   },
   {
    "duration": 11,
    "start_time": "2024-09-13T09:46:33.469Z"
   },
   {
    "duration": 11,
    "start_time": "2024-09-13T09:46:33.483Z"
   },
   {
    "duration": 7,
    "start_time": "2024-09-13T09:46:33.496Z"
   },
   {
    "duration": 155,
    "start_time": "2024-09-13T09:46:33.505Z"
   },
   {
    "duration": 17,
    "start_time": "2024-09-13T09:46:33.665Z"
   },
   {
    "duration": 49,
    "start_time": "2024-09-13T09:46:33.684Z"
   },
   {
    "duration": 31,
    "start_time": "2024-09-13T09:46:33.735Z"
   },
   {
    "duration": 61,
    "start_time": "2024-09-13T09:46:33.769Z"
   },
   {
    "duration": 160,
    "start_time": "2024-09-13T09:46:33.832Z"
   },
   {
    "duration": 6,
    "start_time": "2024-09-13T09:46:33.993Z"
   },
   {
    "duration": 9,
    "start_time": "2024-09-13T09:46:34.001Z"
   },
   {
    "duration": 15,
    "start_time": "2024-09-13T09:46:34.012Z"
   },
   {
    "duration": 5,
    "start_time": "2024-09-13T09:46:34.029Z"
   },
   {
    "duration": 16,
    "start_time": "2024-09-13T09:46:34.035Z"
   },
   {
    "duration": 21,
    "start_time": "2024-09-13T09:46:34.053Z"
   },
   {
    "duration": 12,
    "start_time": "2024-09-13T09:46:34.077Z"
   },
   {
    "duration": 219,
    "start_time": "2024-09-13T09:46:34.090Z"
   },
   {
    "duration": 12,
    "start_time": "2024-09-13T09:46:34.311Z"
   },
   {
    "duration": 7,
    "start_time": "2024-09-13T09:46:34.324Z"
   },
   {
    "duration": 151,
    "start_time": "2024-09-13T09:46:34.333Z"
   },
   {
    "duration": 12,
    "start_time": "2024-09-13T09:46:34.486Z"
   },
   {
    "duration": 9,
    "start_time": "2024-09-13T09:46:34.500Z"
   },
   {
    "duration": 190,
    "start_time": "2024-09-13T09:46:34.511Z"
   },
   {
    "duration": 11,
    "start_time": "2024-09-13T09:46:34.704Z"
   },
   {
    "duration": 24,
    "start_time": "2024-09-13T09:46:34.717Z"
   },
   {
    "duration": 187,
    "start_time": "2024-09-13T09:46:34.743Z"
   },
   {
    "duration": 9,
    "start_time": "2024-09-13T09:46:34.932Z"
   },
   {
    "duration": 14,
    "start_time": "2024-09-13T09:46:34.943Z"
   },
   {
    "duration": 164,
    "start_time": "2024-09-13T09:46:34.973Z"
   },
   {
    "duration": 4,
    "start_time": "2024-09-13T09:46:35.139Z"
   },
   {
    "duration": 35,
    "start_time": "2024-09-13T09:46:35.145Z"
   },
   {
    "duration": 5,
    "start_time": "2024-09-13T09:46:35.182Z"
   },
   {
    "duration": 12,
    "start_time": "2024-09-13T09:46:35.196Z"
   },
   {
    "duration": 228,
    "start_time": "2024-09-13T09:46:35.210Z"
   },
   {
    "duration": 10,
    "start_time": "2024-09-13T09:46:35.440Z"
   },
   {
    "duration": 42,
    "start_time": "2024-09-13T09:46:35.451Z"
   },
   {
    "duration": 356,
    "start_time": "2024-09-13T09:46:35.495Z"
   },
   {
    "duration": 5,
    "start_time": "2024-09-13T09:48:26.349Z"
   },
   {
    "duration": 1683,
    "start_time": "2024-09-13T09:48:28.260Z"
   },
   {
    "duration": 5,
    "start_time": "2024-09-13T09:48:48.772Z"
   },
   {
    "duration": 7,
    "start_time": "2024-09-13T09:48:52.374Z"
   },
   {
    "duration": 157,
    "start_time": "2024-09-13T09:48:54.873Z"
   },
   {
    "duration": 131,
    "start_time": "2024-09-13T09:49:31.796Z"
   },
   {
    "duration": 150,
    "start_time": "2024-09-13T09:49:46.606Z"
   },
   {
    "duration": 230,
    "start_time": "2024-09-13T09:50:07.803Z"
   },
   {
    "duration": 4,
    "start_time": "2024-09-13T09:52:28.411Z"
   },
   {
    "duration": 5,
    "start_time": "2024-09-13T09:52:51.157Z"
   },
   {
    "duration": 6,
    "start_time": "2024-09-13T09:53:14.239Z"
   },
   {
    "duration": 5,
    "start_time": "2024-09-13T09:53:25.615Z"
   },
   {
    "duration": 157,
    "start_time": "2024-09-13T09:53:57.129Z"
   },
   {
    "duration": 164,
    "start_time": "2024-09-13T09:54:50.832Z"
   },
   {
    "duration": 6,
    "start_time": "2024-09-13T09:55:09.681Z"
   },
   {
    "duration": 161,
    "start_time": "2024-09-13T09:55:23.434Z"
   },
   {
    "duration": 151,
    "start_time": "2024-09-13T09:55:51.215Z"
   },
   {
    "duration": 4,
    "start_time": "2024-09-13T09:56:56.503Z"
   },
   {
    "duration": 18,
    "start_time": "2024-09-13T09:56:58.158Z"
   },
   {
    "duration": 7,
    "start_time": "2024-09-13T09:56:59.873Z"
   },
   {
    "duration": 4,
    "start_time": "2024-09-13T09:57:51.193Z"
   },
   {
    "duration": 19,
    "start_time": "2024-09-13T09:57:52.778Z"
   },
   {
    "duration": 11,
    "start_time": "2024-09-13T09:57:54.867Z"
   },
   {
    "duration": 9,
    "start_time": "2024-09-13T09:57:57.191Z"
   },
   {
    "duration": 189,
    "start_time": "2024-09-13T09:58:02.445Z"
   },
   {
    "duration": 109,
    "start_time": "2024-09-13T10:02:09.798Z"
   },
   {
    "duration": 72,
    "start_time": "2024-09-13T10:02:14.838Z"
   },
   {
    "duration": 102,
    "start_time": "2024-09-13T10:04:07.676Z"
   },
   {
    "duration": 130,
    "start_time": "2024-09-13T10:04:36.683Z"
   },
   {
    "duration": 145,
    "start_time": "2024-09-13T10:04:42.079Z"
   },
   {
    "duration": 134,
    "start_time": "2024-09-13T10:04:48.575Z"
   },
   {
    "duration": 143,
    "start_time": "2024-09-13T10:04:57.236Z"
   },
   {
    "duration": 168,
    "start_time": "2024-09-13T10:06:31.985Z"
   },
   {
    "duration": 135,
    "start_time": "2024-09-13T10:06:39.952Z"
   },
   {
    "duration": 134,
    "start_time": "2024-09-13T10:06:48.202Z"
   },
   {
    "duration": 165,
    "start_time": "2024-09-13T10:06:52.821Z"
   },
   {
    "duration": 257,
    "start_time": "2024-09-13T10:06:57.999Z"
   },
   {
    "duration": 178,
    "start_time": "2024-09-13T10:07:02.109Z"
   },
   {
    "duration": 11,
    "start_time": "2024-09-13T10:08:07.576Z"
   },
   {
    "duration": 28,
    "start_time": "2024-09-13T10:12:18.836Z"
   },
   {
    "duration": 11,
    "start_time": "2024-09-13T10:12:56.995Z"
   },
   {
    "duration": 19,
    "start_time": "2024-09-13T10:13:00.038Z"
   },
   {
    "duration": 4,
    "start_time": "2024-09-13T10:16:12.893Z"
   },
   {
    "duration": 141,
    "start_time": "2024-09-13T10:16:18.453Z"
   },
   {
    "duration": 10,
    "start_time": "2024-09-13T10:16:22.396Z"
   },
   {
    "duration": 4,
    "start_time": "2024-09-13T10:18:23.421Z"
   },
   {
    "duration": 5,
    "start_time": "2024-09-13T10:18:39.424Z"
   },
   {
    "duration": 11,
    "start_time": "2024-09-13T10:19:00.702Z"
   },
   {
    "duration": 2,
    "start_time": "2024-09-13T10:19:28.536Z"
   },
   {
    "duration": 13,
    "start_time": "2024-09-13T10:19:45.289Z"
   },
   {
    "duration": 12,
    "start_time": "2024-09-13T10:19:52.772Z"
   },
   {
    "duration": 11,
    "start_time": "2024-09-13T10:19:54.879Z"
   },
   {
    "duration": 6,
    "start_time": "2024-09-13T10:21:07.784Z"
   },
   {
    "duration": 6,
    "start_time": "2024-09-13T10:21:12.269Z"
   },
   {
    "duration": 10,
    "start_time": "2024-09-13T10:21:18.577Z"
   },
   {
    "duration": 136,
    "start_time": "2024-09-13T10:21:38.356Z"
   },
   {
    "duration": 8,
    "start_time": "2024-09-13T10:22:00.158Z"
   },
   {
    "duration": 6,
    "start_time": "2024-09-13T10:22:02.155Z"
   },
   {
    "duration": 4,
    "start_time": "2024-09-13T10:22:04.680Z"
   },
   {
    "duration": 132,
    "start_time": "2024-09-13T10:22:06.175Z"
   },
   {
    "duration": 8,
    "start_time": "2024-09-13T10:26:52.059Z"
   },
   {
    "duration": 10,
    "start_time": "2024-09-13T10:28:09.859Z"
   },
   {
    "duration": 5,
    "start_time": "2024-09-13T10:29:59.039Z"
   },
   {
    "duration": 5,
    "start_time": "2024-09-13T10:30:10.738Z"
   },
   {
    "duration": 6,
    "start_time": "2024-09-13T10:30:49.940Z"
   },
   {
    "duration": 6,
    "start_time": "2024-09-13T10:31:03.184Z"
   },
   {
    "duration": 6,
    "start_time": "2024-09-13T10:33:55.075Z"
   },
   {
    "duration": 7,
    "start_time": "2024-09-13T10:34:03.757Z"
   },
   {
    "duration": 8,
    "start_time": "2024-09-13T10:35:33.917Z"
   },
   {
    "duration": 19,
    "start_time": "2024-09-13T10:35:35.822Z"
   },
   {
    "duration": 8,
    "start_time": "2024-09-13T10:37:06.683Z"
   },
   {
    "duration": 15,
    "start_time": "2024-09-13T10:37:08.069Z"
   },
   {
    "duration": 47,
    "start_time": "2024-09-13T10:37:09.479Z"
   },
   {
    "duration": 8,
    "start_time": "2024-09-13T10:37:36.180Z"
   },
   {
    "duration": 8,
    "start_time": "2024-09-13T10:37:44.416Z"
   },
   {
    "duration": 8,
    "start_time": "2024-09-13T10:37:45.575Z"
   },
   {
    "duration": 53,
    "start_time": "2024-09-13T10:37:51.700Z"
   },
   {
    "duration": 93,
    "start_time": "2024-09-13T10:38:19.440Z"
   },
   {
    "duration": 7,
    "start_time": "2024-09-13T10:38:20.710Z"
   },
   {
    "duration": 48,
    "start_time": "2024-09-13T10:38:27.091Z"
   },
   {
    "duration": 4,
    "start_time": "2024-09-13T10:43:54.711Z"
   },
   {
    "duration": 6,
    "start_time": "2024-09-13T10:43:57.057Z"
   },
   {
    "duration": 21,
    "start_time": "2024-09-13T10:44:25.176Z"
   },
   {
    "duration": 6,
    "start_time": "2024-09-13T10:47:44.617Z"
   },
   {
    "duration": 10,
    "start_time": "2024-09-13T10:51:50.768Z"
   },
   {
    "duration": 21,
    "start_time": "2024-09-13T10:51:52.263Z"
   },
   {
    "duration": 57,
    "start_time": "2024-09-13T10:51:55.247Z"
   },
   {
    "duration": 1367,
    "start_time": "2024-09-13T10:53:01.663Z"
   },
   {
    "duration": 14,
    "start_time": "2024-09-13T10:53:05.803Z"
   },
   {
    "duration": 1185,
    "start_time": "2024-09-13T10:53:14.837Z"
   },
   {
    "duration": 1191,
    "start_time": "2024-09-13T10:53:42.717Z"
   },
   {
    "duration": 7,
    "start_time": "2024-09-13T10:53:49.656Z"
   },
   {
    "duration": 45,
    "start_time": "2024-09-16T10:21:35.154Z"
   },
   {
    "duration": 417,
    "start_time": "2024-09-16T10:21:46.664Z"
   },
   {
    "duration": 2,
    "start_time": "2024-09-16T10:21:47.083Z"
   },
   {
    "duration": 348,
    "start_time": "2024-09-16T10:21:47.089Z"
   },
   {
    "duration": 3,
    "start_time": "2024-09-16T10:21:47.438Z"
   },
   {
    "duration": 43,
    "start_time": "2024-09-16T10:21:47.443Z"
   },
   {
    "duration": 15,
    "start_time": "2024-09-16T10:21:47.489Z"
   },
   {
    "duration": 2225,
    "start_time": "2024-09-16T10:21:47.505Z"
   },
   {
    "duration": 10,
    "start_time": "2024-09-16T10:21:49.731Z"
   },
   {
    "duration": 21,
    "start_time": "2024-09-16T10:21:49.742Z"
   },
   {
    "duration": 14,
    "start_time": "2024-09-16T10:21:49.764Z"
   },
   {
    "duration": 4,
    "start_time": "2024-09-16T10:21:49.780Z"
   },
   {
    "duration": 10,
    "start_time": "2024-09-16T10:21:49.786Z"
   },
   {
    "duration": 26,
    "start_time": "2024-09-16T10:21:49.798Z"
   },
   {
    "duration": 8,
    "start_time": "2024-09-16T10:21:49.827Z"
   },
   {
    "duration": 25,
    "start_time": "2024-09-16T10:21:49.836Z"
   },
   {
    "duration": 40,
    "start_time": "2024-09-16T10:21:49.862Z"
   },
   {
    "duration": 20,
    "start_time": "2024-09-16T10:21:49.904Z"
   },
   {
    "duration": 28,
    "start_time": "2024-09-16T10:21:49.925Z"
   },
   {
    "duration": 22,
    "start_time": "2024-09-16T10:21:49.954Z"
   },
   {
    "duration": 15,
    "start_time": "2024-09-16T10:21:49.978Z"
   },
   {
    "duration": 80,
    "start_time": "2024-09-16T10:21:49.995Z"
   },
   {
    "duration": 5,
    "start_time": "2024-09-16T10:21:50.076Z"
   },
   {
    "duration": 11,
    "start_time": "2024-09-16T10:21:50.083Z"
   },
   {
    "duration": 19,
    "start_time": "2024-09-16T10:21:50.095Z"
   },
   {
    "duration": 13,
    "start_time": "2024-09-16T10:21:50.115Z"
   },
   {
    "duration": 13,
    "start_time": "2024-09-16T10:21:50.130Z"
   },
   {
    "duration": 6,
    "start_time": "2024-09-16T10:21:50.144Z"
   },
   {
    "duration": 142,
    "start_time": "2024-09-16T10:21:50.152Z"
   },
   {
    "duration": 4,
    "start_time": "2024-09-16T10:21:50.295Z"
   },
   {
    "duration": 19,
    "start_time": "2024-09-16T10:21:50.300Z"
   },
   {
    "duration": 157,
    "start_time": "2024-09-16T10:21:50.321Z"
   },
   {
    "duration": 3,
    "start_time": "2024-09-16T10:21:50.480Z"
   },
   {
    "duration": 5,
    "start_time": "2024-09-16T10:21:50.489Z"
   },
   {
    "duration": 206,
    "start_time": "2024-09-16T10:21:50.495Z"
   },
   {
    "duration": 4,
    "start_time": "2024-09-16T10:21:50.702Z"
   },
   {
    "duration": 20,
    "start_time": "2024-09-16T10:21:50.707Z"
   },
   {
    "duration": 24,
    "start_time": "2024-09-16T10:21:50.728Z"
   },
   {
    "duration": 112,
    "start_time": "2024-09-16T10:21:50.754Z"
   },
   {
    "duration": 128,
    "start_time": "2024-09-16T10:21:50.867Z"
   },
   {
    "duration": 4,
    "start_time": "2024-09-16T10:21:50.996Z"
   },
   {
    "duration": 31,
    "start_time": "2024-09-16T10:21:51.004Z"
   },
   {
    "duration": 1154,
    "start_time": "2024-09-16T10:21:51.036Z"
   },
   {
    "duration": 0,
    "start_time": "2024-09-16T10:21:52.191Z"
   },
   {
    "duration": 0,
    "start_time": "2024-09-16T10:21:52.192Z"
   },
   {
    "duration": 0,
    "start_time": "2024-09-16T10:21:52.193Z"
   },
   {
    "duration": 0,
    "start_time": "2024-09-16T10:21:52.195Z"
   },
   {
    "duration": 0,
    "start_time": "2024-09-16T10:21:52.196Z"
   },
   {
    "duration": 0,
    "start_time": "2024-09-16T10:21:52.197Z"
   },
   {
    "duration": 0,
    "start_time": "2024-09-16T10:21:52.198Z"
   },
   {
    "duration": 0,
    "start_time": "2024-09-16T10:21:52.199Z"
   },
   {
    "duration": 0,
    "start_time": "2024-09-16T10:21:52.199Z"
   },
   {
    "duration": 0,
    "start_time": "2024-09-16T10:21:52.200Z"
   },
   {
    "duration": 0,
    "start_time": "2024-09-16T10:21:52.201Z"
   },
   {
    "duration": 0,
    "start_time": "2024-09-16T10:21:52.202Z"
   },
   {
    "duration": 0,
    "start_time": "2024-09-16T10:21:52.203Z"
   },
   {
    "duration": 0,
    "start_time": "2024-09-16T10:21:52.203Z"
   },
   {
    "duration": 0,
    "start_time": "2024-09-16T10:21:52.204Z"
   },
   {
    "duration": 0,
    "start_time": "2024-09-16T10:21:52.205Z"
   },
   {
    "duration": 0,
    "start_time": "2024-09-16T10:21:52.206Z"
   },
   {
    "duration": 0,
    "start_time": "2024-09-16T10:21:52.207Z"
   },
   {
    "duration": 0,
    "start_time": "2024-09-16T10:21:52.208Z"
   },
   {
    "duration": 0,
    "start_time": "2024-09-16T10:21:52.209Z"
   },
   {
    "duration": 0,
    "start_time": "2024-09-16T10:21:52.210Z"
   },
   {
    "duration": 0,
    "start_time": "2024-09-16T10:21:52.211Z"
   },
   {
    "duration": 0,
    "start_time": "2024-09-16T10:21:52.211Z"
   },
   {
    "duration": 0,
    "start_time": "2024-09-16T10:21:52.212Z"
   },
   {
    "duration": 0,
    "start_time": "2024-09-16T10:21:52.213Z"
   },
   {
    "duration": 0,
    "start_time": "2024-09-16T10:21:52.214Z"
   },
   {
    "duration": 0,
    "start_time": "2024-09-16T10:21:52.215Z"
   },
   {
    "duration": 0,
    "start_time": "2024-09-16T10:21:52.216Z"
   },
   {
    "duration": 0,
    "start_time": "2024-09-16T10:21:52.217Z"
   },
   {
    "duration": 0,
    "start_time": "2024-09-16T10:21:52.218Z"
   },
   {
    "duration": 0,
    "start_time": "2024-09-16T10:21:52.219Z"
   },
   {
    "duration": 0,
    "start_time": "2024-09-16T10:21:52.220Z"
   },
   {
    "duration": 0,
    "start_time": "2024-09-16T10:21:52.221Z"
   },
   {
    "duration": 0,
    "start_time": "2024-09-16T10:21:52.222Z"
   },
   {
    "duration": 0,
    "start_time": "2024-09-16T10:21:52.223Z"
   },
   {
    "duration": 0,
    "start_time": "2024-09-16T10:21:52.224Z"
   },
   {
    "duration": 0,
    "start_time": "2024-09-16T10:21:52.225Z"
   },
   {
    "duration": 0,
    "start_time": "2024-09-16T10:21:52.226Z"
   },
   {
    "duration": 0,
    "start_time": "2024-09-16T10:21:52.227Z"
   },
   {
    "duration": 0,
    "start_time": "2024-09-16T10:21:52.227Z"
   },
   {
    "duration": 0,
    "start_time": "2024-09-16T10:21:52.228Z"
   },
   {
    "duration": 0,
    "start_time": "2024-09-16T10:21:52.229Z"
   },
   {
    "duration": 0,
    "start_time": "2024-09-16T10:21:52.230Z"
   },
   {
    "duration": 0,
    "start_time": "2024-09-16T10:21:52.290Z"
   },
   {
    "duration": 0,
    "start_time": "2024-09-16T10:21:52.291Z"
   },
   {
    "duration": 0,
    "start_time": "2024-09-16T10:21:52.292Z"
   },
   {
    "duration": 0,
    "start_time": "2024-09-16T10:21:52.293Z"
   },
   {
    "duration": 0,
    "start_time": "2024-09-16T10:21:52.294Z"
   },
   {
    "duration": 0,
    "start_time": "2024-09-16T10:21:52.295Z"
   },
   {
    "duration": 1,
    "start_time": "2024-09-16T10:21:52.295Z"
   },
   {
    "duration": 0,
    "start_time": "2024-09-16T10:21:52.296Z"
   },
   {
    "duration": 0,
    "start_time": "2024-09-16T10:21:52.297Z"
   },
   {
    "duration": 0,
    "start_time": "2024-09-16T10:21:52.298Z"
   },
   {
    "duration": 3,
    "start_time": "2024-09-16T10:22:08.121Z"
   },
   {
    "duration": 13,
    "start_time": "2024-09-16T10:22:09.951Z"
   },
   {
    "duration": 9,
    "start_time": "2024-09-16T10:22:12.023Z"
   },
   {
    "duration": 4,
    "start_time": "2024-09-16T10:22:18.630Z"
   },
   {
    "duration": 7,
    "start_time": "2024-09-16T10:22:21.385Z"
   },
   {
    "duration": 184,
    "start_time": "2024-09-16T10:22:44.319Z"
   },
   {
    "duration": 896,
    "start_time": "2024-09-16T10:23:06.239Z"
   },
   {
    "duration": 7,
    "start_time": "2024-09-16T10:23:09.472Z"
   },
   {
    "duration": 834,
    "start_time": "2024-09-16T10:23:29.312Z"
   },
   {
    "duration": 6,
    "start_time": "2024-09-16T10:23:35.064Z"
   },
   {
    "duration": 943,
    "start_time": "2024-09-16T10:23:38.431Z"
   },
   {
    "duration": 181,
    "start_time": "2024-09-16T10:24:55.034Z"
   },
   {
    "duration": 7,
    "start_time": "2024-09-16T11:13:46.110Z"
   },
   {
    "duration": 6,
    "start_time": "2024-09-16T11:13:53.600Z"
   },
   {
    "duration": 1836,
    "start_time": "2024-09-16T11:14:05.483Z"
   },
   {
    "duration": 120,
    "start_time": "2024-09-16T11:14:48.316Z"
   },
   {
    "duration": 6,
    "start_time": "2024-09-16T11:42:55.637Z"
   },
   {
    "duration": 6,
    "start_time": "2024-09-16T11:42:57.432Z"
   },
   {
    "duration": 196,
    "start_time": "2024-09-16T11:42:59.634Z"
   },
   {
    "duration": 6,
    "start_time": "2024-09-16T11:44:45.983Z"
   },
   {
    "duration": 7,
    "start_time": "2024-09-16T11:44:54.992Z"
   },
   {
    "duration": 5,
    "start_time": "2024-09-16T11:44:57.735Z"
   },
   {
    "duration": 6,
    "start_time": "2024-09-16T11:44:59.489Z"
   },
   {
    "duration": 113,
    "start_time": "2024-09-16T11:45:01.569Z"
   },
   {
    "duration": 9,
    "start_time": "2024-09-16T11:46:13.494Z"
   },
   {
    "duration": 124,
    "start_time": "2024-09-16T11:46:17.205Z"
   },
   {
    "duration": 104,
    "start_time": "2024-09-16T11:46:47.080Z"
   },
   {
    "duration": 6,
    "start_time": "2024-09-16T11:54:34.009Z"
   },
   {
    "duration": 6,
    "start_time": "2024-09-16T11:54:35.661Z"
   },
   {
    "duration": 130,
    "start_time": "2024-09-16T11:54:38.880Z"
   },
   {
    "duration": 5,
    "start_time": "2024-09-16T11:55:25.055Z"
   },
   {
    "duration": 7,
    "start_time": "2024-09-16T11:55:27.231Z"
   },
   {
    "duration": 5,
    "start_time": "2024-09-16T11:56:26.203Z"
   },
   {
    "duration": 6,
    "start_time": "2024-09-16T11:56:27.694Z"
   },
   {
    "duration": 127,
    "start_time": "2024-09-16T11:56:31.366Z"
   },
   {
    "duration": 5,
    "start_time": "2024-09-16T11:56:54.709Z"
   },
   {
    "duration": 7,
    "start_time": "2024-09-16T11:56:56.427Z"
   },
   {
    "duration": 108,
    "start_time": "2024-09-16T11:56:58.360Z"
   },
   {
    "duration": 7,
    "start_time": "2024-09-16T11:58:11.403Z"
   },
   {
    "duration": 9,
    "start_time": "2024-09-16T11:58:12.788Z"
   },
   {
    "duration": 130,
    "start_time": "2024-09-16T11:58:14.677Z"
   },
   {
    "duration": 5,
    "start_time": "2024-09-16T11:58:50.241Z"
   },
   {
    "duration": 3,
    "start_time": "2024-09-16T11:58:52.128Z"
   },
   {
    "duration": 6,
    "start_time": "2024-09-16T11:58:53.871Z"
   },
   {
    "duration": 6,
    "start_time": "2024-09-16T11:58:55.963Z"
   },
   {
    "duration": 121,
    "start_time": "2024-09-16T11:58:58.338Z"
   },
   {
    "duration": 5,
    "start_time": "2024-09-16T12:03:29.349Z"
   },
   {
    "duration": 3,
    "start_time": "2024-09-16T12:04:41.412Z"
   },
   {
    "duration": 5,
    "start_time": "2024-09-16T12:04:43.479Z"
   },
   {
    "duration": 50,
    "start_time": "2024-09-16T12:06:24.240Z"
   },
   {
    "duration": 49,
    "start_time": "2024-09-16T12:06:38.385Z"
   },
   {
    "duration": 73,
    "start_time": "2024-09-16T12:07:00.832Z"
   },
   {
    "duration": 52,
    "start_time": "2024-09-16T12:07:03.233Z"
   },
   {
    "duration": 64,
    "start_time": "2024-09-16T12:07:10.942Z"
   },
   {
    "duration": 5,
    "start_time": "2024-09-16T12:10:43.437Z"
   },
   {
    "duration": 112,
    "start_time": "2024-09-16T12:11:04.671Z"
   },
   {
    "duration": 135,
    "start_time": "2024-09-16T12:11:07.972Z"
   },
   {
    "duration": 191,
    "start_time": "2024-09-16T12:11:12.114Z"
   },
   {
    "duration": 125,
    "start_time": "2024-09-16T12:11:14.801Z"
   },
   {
    "duration": 431,
    "start_time": "2024-09-16T12:11:37.467Z"
   },
   {
    "duration": 3,
    "start_time": "2024-09-16T12:11:37.899Z"
   },
   {
    "duration": 110,
    "start_time": "2024-09-16T12:11:37.903Z"
   },
   {
    "duration": 3,
    "start_time": "2024-09-16T12:11:38.015Z"
   },
   {
    "duration": 43,
    "start_time": "2024-09-16T12:11:38.020Z"
   },
   {
    "duration": 41,
    "start_time": "2024-09-16T12:11:38.065Z"
   },
   {
    "duration": 2134,
    "start_time": "2024-09-16T12:11:38.108Z"
   },
   {
    "duration": 15,
    "start_time": "2024-09-16T12:11:40.245Z"
   },
   {
    "duration": 8,
    "start_time": "2024-09-16T12:11:40.262Z"
   },
   {
    "duration": 5,
    "start_time": "2024-09-16T12:11:40.273Z"
   },
   {
    "duration": 3,
    "start_time": "2024-09-16T12:11:40.289Z"
   },
   {
    "duration": 9,
    "start_time": "2024-09-16T12:11:40.294Z"
   },
   {
    "duration": 10,
    "start_time": "2024-09-16T12:11:40.305Z"
   },
   {
    "duration": 6,
    "start_time": "2024-09-16T12:11:40.316Z"
   },
   {
    "duration": 6,
    "start_time": "2024-09-16T12:11:40.323Z"
   },
   {
    "duration": 9,
    "start_time": "2024-09-16T12:11:40.330Z"
   },
   {
    "duration": 11,
    "start_time": "2024-09-16T12:11:40.341Z"
   },
   {
    "duration": 41,
    "start_time": "2024-09-16T12:11:40.353Z"
   },
   {
    "duration": 9,
    "start_time": "2024-09-16T12:11:40.396Z"
   },
   {
    "duration": 9,
    "start_time": "2024-09-16T12:11:40.406Z"
   },
   {
    "duration": 67,
    "start_time": "2024-09-16T12:11:40.417Z"
   },
   {
    "duration": 5,
    "start_time": "2024-09-16T12:11:40.486Z"
   },
   {
    "duration": 6,
    "start_time": "2024-09-16T12:11:40.492Z"
   },
   {
    "duration": 3,
    "start_time": "2024-09-16T12:11:40.500Z"
   },
   {
    "duration": 77,
    "start_time": "2024-09-16T12:11:40.504Z"
   },
   {
    "duration": 7,
    "start_time": "2024-09-16T12:11:40.583Z"
   },
   {
    "duration": 13,
    "start_time": "2024-09-16T12:11:40.592Z"
   },
   {
    "duration": 6,
    "start_time": "2024-09-16T12:11:40.609Z"
   },
   {
    "duration": 14,
    "start_time": "2024-09-16T12:11:40.617Z"
   },
   {
    "duration": 127,
    "start_time": "2024-09-16T12:11:40.632Z"
   },
   {
    "duration": 3,
    "start_time": "2024-09-16T12:11:40.761Z"
   },
   {
    "duration": 7,
    "start_time": "2024-09-16T12:11:40.766Z"
   },
   {
    "duration": 15,
    "start_time": "2024-09-16T12:11:40.775Z"
   },
   {
    "duration": 12,
    "start_time": "2024-09-16T12:11:40.791Z"
   },
   {
    "duration": 150,
    "start_time": "2024-09-16T12:11:40.804Z"
   },
   {
    "duration": 3,
    "start_time": "2024-09-16T12:11:40.956Z"
   },
   {
    "duration": 5,
    "start_time": "2024-09-16T12:11:40.961Z"
   },
   {
    "duration": 22,
    "start_time": "2024-09-16T12:11:40.967Z"
   },
   {
    "duration": 9,
    "start_time": "2024-09-16T12:11:40.991Z"
   },
   {
    "duration": 152,
    "start_time": "2024-09-16T12:11:41.001Z"
   },
   {
    "duration": 3,
    "start_time": "2024-09-16T12:11:41.155Z"
   },
   {
    "duration": 11,
    "start_time": "2024-09-16T12:11:41.159Z"
   },
   {
    "duration": 20,
    "start_time": "2024-09-16T12:11:41.172Z"
   },
   {
    "duration": 224,
    "start_time": "2024-09-16T12:11:41.193Z"
   },
   {
    "duration": 2,
    "start_time": "2024-09-16T12:11:41.419Z"
   },
   {
    "duration": 7,
    "start_time": "2024-09-16T12:11:41.423Z"
   },
   {
    "duration": 10,
    "start_time": "2024-09-16T12:11:41.433Z"
   },
   {
    "duration": 12,
    "start_time": "2024-09-16T12:11:41.444Z"
   },
   {
    "duration": 160,
    "start_time": "2024-09-16T12:11:41.457Z"
   },
   {
    "duration": 4,
    "start_time": "2024-09-16T12:11:41.619Z"
   },
   {
    "duration": 8,
    "start_time": "2024-09-16T12:11:41.625Z"
   },
   {
    "duration": 7,
    "start_time": "2024-09-16T12:11:41.634Z"
   },
   {
    "duration": 155,
    "start_time": "2024-09-16T12:11:41.643Z"
   },
   {
    "duration": 141,
    "start_time": "2024-09-16T12:11:41.799Z"
   },
   {
    "duration": 148,
    "start_time": "2024-09-16T12:11:41.942Z"
   },
   {
    "duration": 146,
    "start_time": "2024-09-16T12:11:42.091Z"
   },
   {
    "duration": 145,
    "start_time": "2024-09-16T12:11:42.239Z"
   },
   {
    "duration": 164,
    "start_time": "2024-09-16T12:11:42.386Z"
   },
   {
    "duration": 5,
    "start_time": "2024-09-16T12:11:42.552Z"
   },
   {
    "duration": 10,
    "start_time": "2024-09-16T12:11:42.559Z"
   },
   {
    "duration": 25,
    "start_time": "2024-09-16T12:11:42.570Z"
   },
   {
    "duration": 7,
    "start_time": "2024-09-16T12:11:42.597Z"
   },
   {
    "duration": 13,
    "start_time": "2024-09-16T12:11:42.606Z"
   },
   {
    "duration": 7,
    "start_time": "2024-09-16T12:11:42.622Z"
   },
   {
    "duration": 141,
    "start_time": "2024-09-16T12:11:42.630Z"
   },
   {
    "duration": 18,
    "start_time": "2024-09-16T12:11:42.773Z"
   },
   {
    "duration": 14,
    "start_time": "2024-09-16T12:11:42.792Z"
   },
   {
    "duration": 11,
    "start_time": "2024-09-16T12:11:42.808Z"
   },
   {
    "duration": 8,
    "start_time": "2024-09-16T12:11:42.820Z"
   },
   {
    "duration": 160,
    "start_time": "2024-09-16T12:11:42.830Z"
   },
   {
    "duration": 14,
    "start_time": "2024-09-16T12:11:42.991Z"
   },
   {
    "duration": 8,
    "start_time": "2024-09-16T12:11:43.007Z"
   },
   {
    "duration": 11,
    "start_time": "2024-09-16T12:11:43.016Z"
   },
   {
    "duration": 6,
    "start_time": "2024-09-16T12:11:43.029Z"
   },
   {
    "duration": 179,
    "start_time": "2024-09-16T12:11:43.037Z"
   },
   {
    "duration": 5,
    "start_time": "2024-09-16T12:11:43.219Z"
   },
   {
    "duration": 6,
    "start_time": "2024-09-16T12:11:43.226Z"
   },
   {
    "duration": 16,
    "start_time": "2024-09-16T12:11:43.234Z"
   },
   {
    "duration": 8,
    "start_time": "2024-09-16T12:11:43.251Z"
   },
   {
    "duration": 5,
    "start_time": "2024-09-16T12:11:43.260Z"
   },
   {
    "duration": 28,
    "start_time": "2024-09-16T12:11:43.266Z"
   },
   {
    "duration": 6,
    "start_time": "2024-09-16T12:11:43.299Z"
   },
   {
    "duration": 218,
    "start_time": "2024-09-16T12:11:43.307Z"
   },
   {
    "duration": 10,
    "start_time": "2024-09-16T12:11:43.527Z"
   },
   {
    "duration": 13,
    "start_time": "2024-09-16T12:11:43.539Z"
   },
   {
    "duration": 139,
    "start_time": "2024-09-16T12:11:43.553Z"
   },
   {
    "duration": 10,
    "start_time": "2024-09-16T12:11:43.694Z"
   },
   {
    "duration": 18,
    "start_time": "2024-09-16T12:11:43.705Z"
   },
   {
    "duration": 147,
    "start_time": "2024-09-16T12:11:43.725Z"
   },
   {
    "duration": 17,
    "start_time": "2024-09-16T12:11:43.874Z"
   },
   {
    "duration": 8,
    "start_time": "2024-09-16T12:11:43.892Z"
   },
   {
    "duration": 193,
    "start_time": "2024-09-16T12:11:43.902Z"
   },
   {
    "duration": 11,
    "start_time": "2024-09-16T12:11:44.097Z"
   },
   {
    "duration": 7,
    "start_time": "2024-09-16T12:11:44.109Z"
   },
   {
    "duration": 174,
    "start_time": "2024-09-16T12:11:44.118Z"
   },
   {
    "duration": 4,
    "start_time": "2024-09-16T12:11:44.294Z"
   },
   {
    "duration": 20,
    "start_time": "2024-09-16T12:11:44.300Z"
   },
   {
    "duration": 25,
    "start_time": "2024-09-16T12:11:44.322Z"
   },
   {
    "duration": 26,
    "start_time": "2024-09-16T12:11:44.348Z"
   },
   {
    "duration": 210,
    "start_time": "2024-09-16T12:11:44.375Z"
   },
   {
    "duration": 9,
    "start_time": "2024-09-16T12:11:44.586Z"
   },
   {
    "duration": 9,
    "start_time": "2024-09-16T12:11:44.597Z"
   },
   {
    "duration": 323,
    "start_time": "2024-09-16T12:11:44.607Z"
   },
   {
    "duration": 400,
    "start_time": "2024-09-16T12:12:30.326Z"
   },
   {
    "duration": 3,
    "start_time": "2024-09-16T12:12:30.728Z"
   },
   {
    "duration": 129,
    "start_time": "2024-09-16T12:12:30.732Z"
   },
   {
    "duration": 3,
    "start_time": "2024-09-16T12:12:30.863Z"
   },
   {
    "duration": 64,
    "start_time": "2024-09-16T12:12:30.867Z"
   },
   {
    "duration": 31,
    "start_time": "2024-09-16T12:12:30.932Z"
   },
   {
    "duration": 2069,
    "start_time": "2024-09-16T12:12:30.965Z"
   },
   {
    "duration": 10,
    "start_time": "2024-09-16T12:12:33.035Z"
   },
   {
    "duration": 7,
    "start_time": "2024-09-16T12:12:33.046Z"
   },
   {
    "duration": 7,
    "start_time": "2024-09-16T12:12:33.056Z"
   },
   {
    "duration": 25,
    "start_time": "2024-09-16T12:12:33.065Z"
   },
   {
    "duration": 21,
    "start_time": "2024-09-16T12:12:33.092Z"
   },
   {
    "duration": 23,
    "start_time": "2024-09-16T12:12:33.115Z"
   },
   {
    "duration": 7,
    "start_time": "2024-09-16T12:12:33.139Z"
   },
   {
    "duration": 8,
    "start_time": "2024-09-16T12:12:33.147Z"
   },
   {
    "duration": 8,
    "start_time": "2024-09-16T12:12:33.157Z"
   },
   {
    "duration": 38,
    "start_time": "2024-09-16T12:12:33.167Z"
   },
   {
    "duration": 38,
    "start_time": "2024-09-16T12:12:33.207Z"
   },
   {
    "duration": 8,
    "start_time": "2024-09-16T12:12:33.247Z"
   },
   {
    "duration": 8,
    "start_time": "2024-09-16T12:12:33.256Z"
   },
   {
    "duration": 67,
    "start_time": "2024-09-16T12:12:33.265Z"
   },
   {
    "duration": 5,
    "start_time": "2024-09-16T12:12:33.333Z"
   },
   {
    "duration": 5,
    "start_time": "2024-09-16T12:12:33.340Z"
   },
   {
    "duration": 15,
    "start_time": "2024-09-16T12:12:33.346Z"
   },
   {
    "duration": 8,
    "start_time": "2024-09-16T12:12:33.362Z"
   },
   {
    "duration": 18,
    "start_time": "2024-09-16T12:12:33.372Z"
   },
   {
    "duration": 27,
    "start_time": "2024-09-16T12:12:33.391Z"
   },
   {
    "duration": 24,
    "start_time": "2024-09-16T12:12:33.422Z"
   },
   {
    "duration": 12,
    "start_time": "2024-09-16T12:12:33.447Z"
   },
   {
    "duration": 134,
    "start_time": "2024-09-16T12:12:33.460Z"
   },
   {
    "duration": 3,
    "start_time": "2024-09-16T12:12:33.596Z"
   },
   {
    "duration": 36,
    "start_time": "2024-09-16T12:12:33.600Z"
   },
   {
    "duration": 23,
    "start_time": "2024-09-16T12:12:33.638Z"
   },
   {
    "duration": 18,
    "start_time": "2024-09-16T12:12:33.663Z"
   },
   {
    "duration": 144,
    "start_time": "2024-09-16T12:12:33.682Z"
   },
   {
    "duration": 3,
    "start_time": "2024-09-16T12:12:33.827Z"
   },
   {
    "duration": 11,
    "start_time": "2024-09-16T12:12:33.832Z"
   },
   {
    "duration": 10,
    "start_time": "2024-09-16T12:12:33.844Z"
   },
   {
    "duration": 15,
    "start_time": "2024-09-16T12:12:33.855Z"
   },
   {
    "duration": 137,
    "start_time": "2024-09-16T12:12:33.872Z"
   },
   {
    "duration": 3,
    "start_time": "2024-09-16T12:12:34.011Z"
   },
   {
    "duration": 31,
    "start_time": "2024-09-16T12:12:34.016Z"
   },
   {
    "duration": 14,
    "start_time": "2024-09-16T12:12:34.048Z"
   },
   {
    "duration": 190,
    "start_time": "2024-09-16T12:12:34.064Z"
   },
   {
    "duration": 3,
    "start_time": "2024-09-16T12:12:34.255Z"
   },
   {
    "duration": 7,
    "start_time": "2024-09-16T12:12:34.259Z"
   },
   {
    "duration": 24,
    "start_time": "2024-09-16T12:12:34.267Z"
   },
   {
    "duration": 23,
    "start_time": "2024-09-16T12:12:34.292Z"
   },
   {
    "duration": 154,
    "start_time": "2024-09-16T12:12:34.317Z"
   },
   {
    "duration": 3,
    "start_time": "2024-09-16T12:12:34.473Z"
   },
   {
    "duration": 26,
    "start_time": "2024-09-16T12:12:34.478Z"
   },
   {
    "duration": 73,
    "start_time": "2024-09-16T12:12:34.505Z"
   },
   {
    "duration": 140,
    "start_time": "2024-09-16T12:12:34.579Z"
   },
   {
    "duration": 123,
    "start_time": "2024-09-16T12:12:34.721Z"
   },
   {
    "duration": 132,
    "start_time": "2024-09-16T12:12:34.845Z"
   },
   {
    "duration": 122,
    "start_time": "2024-09-16T12:12:34.978Z"
   },
   {
    "duration": 141,
    "start_time": "2024-09-16T12:12:35.102Z"
   },
   {
    "duration": 139,
    "start_time": "2024-09-16T12:12:35.245Z"
   },
   {
    "duration": 5,
    "start_time": "2024-09-16T12:12:35.389Z"
   },
   {
    "duration": 33,
    "start_time": "2024-09-16T12:12:35.395Z"
   },
   {
    "duration": 29,
    "start_time": "2024-09-16T12:12:35.429Z"
   },
   {
    "duration": 6,
    "start_time": "2024-09-16T12:12:35.460Z"
   },
   {
    "duration": 40,
    "start_time": "2024-09-16T12:12:35.468Z"
   },
   {
    "duration": 25,
    "start_time": "2024-09-16T12:12:35.509Z"
   },
   {
    "duration": 109,
    "start_time": "2024-09-16T12:12:35.536Z"
   },
   {
    "duration": 12,
    "start_time": "2024-09-16T12:12:35.646Z"
   },
   {
    "duration": 13,
    "start_time": "2024-09-16T12:12:35.659Z"
   },
   {
    "duration": 28,
    "start_time": "2024-09-16T12:12:35.673Z"
   },
   {
    "duration": 35,
    "start_time": "2024-09-16T12:12:35.703Z"
   },
   {
    "duration": 139,
    "start_time": "2024-09-16T12:12:35.739Z"
   },
   {
    "duration": 16,
    "start_time": "2024-09-16T12:12:35.880Z"
   },
   {
    "duration": 7,
    "start_time": "2024-09-16T12:12:35.897Z"
   },
   {
    "duration": 39,
    "start_time": "2024-09-16T12:12:35.906Z"
   },
   {
    "duration": 7,
    "start_time": "2024-09-16T12:12:35.946Z"
   },
   {
    "duration": 121,
    "start_time": "2024-09-16T12:12:35.955Z"
   },
   {
    "duration": 13,
    "start_time": "2024-09-16T12:12:36.078Z"
   },
   {
    "duration": 30,
    "start_time": "2024-09-16T12:12:36.092Z"
   },
   {
    "duration": 16,
    "start_time": "2024-09-16T12:12:36.123Z"
   },
   {
    "duration": 13,
    "start_time": "2024-09-16T12:12:36.141Z"
   },
   {
    "duration": 5,
    "start_time": "2024-09-16T12:12:36.155Z"
   },
   {
    "duration": 8,
    "start_time": "2024-09-16T12:12:36.161Z"
   },
   {
    "duration": 14,
    "start_time": "2024-09-16T12:12:36.174Z"
   },
   {
    "duration": 214,
    "start_time": "2024-09-16T12:12:36.189Z"
   },
   {
    "duration": 10,
    "start_time": "2024-09-16T12:12:36.404Z"
   },
   {
    "duration": 29,
    "start_time": "2024-09-16T12:12:36.415Z"
   },
   {
    "duration": 127,
    "start_time": "2024-09-16T12:12:36.445Z"
   },
   {
    "duration": 11,
    "start_time": "2024-09-16T12:12:36.573Z"
   },
   {
    "duration": 59,
    "start_time": "2024-09-16T12:12:36.589Z"
   },
   {
    "duration": 139,
    "start_time": "2024-09-16T12:12:36.650Z"
   },
   {
    "duration": 8,
    "start_time": "2024-09-16T12:12:36.791Z"
   },
   {
    "duration": 43,
    "start_time": "2024-09-16T12:12:36.801Z"
   },
   {
    "duration": 155,
    "start_time": "2024-09-16T12:12:36.846Z"
   },
   {
    "duration": 8,
    "start_time": "2024-09-16T12:12:37.002Z"
   },
   {
    "duration": 18,
    "start_time": "2024-09-16T12:12:37.011Z"
   },
   {
    "duration": 134,
    "start_time": "2024-09-16T12:12:37.031Z"
   },
   {
    "duration": 4,
    "start_time": "2024-09-16T12:12:37.167Z"
   },
   {
    "duration": 37,
    "start_time": "2024-09-16T12:12:37.172Z"
   },
   {
    "duration": 26,
    "start_time": "2024-09-16T12:12:37.211Z"
   },
   {
    "duration": 13,
    "start_time": "2024-09-16T12:12:37.239Z"
   },
   {
    "duration": 191,
    "start_time": "2024-09-16T12:12:37.254Z"
   },
   {
    "duration": 8,
    "start_time": "2024-09-16T12:12:37.446Z"
   },
   {
    "duration": 20,
    "start_time": "2024-09-16T12:12:37.455Z"
   },
   {
    "duration": 301,
    "start_time": "2024-09-16T12:12:37.476Z"
   },
   {
    "duration": 674,
    "start_time": "2024-09-16T17:07:57.660Z"
   },
   {
    "duration": 2,
    "start_time": "2024-09-16T17:07:58.336Z"
   },
   {
    "duration": 201,
    "start_time": "2024-09-16T17:07:58.339Z"
   },
   {
    "duration": 6,
    "start_time": "2024-09-16T17:07:58.542Z"
   },
   {
    "duration": 165,
    "start_time": "2024-09-16T17:07:58.549Z"
   },
   {
    "duration": 16,
    "start_time": "2024-09-16T17:07:58.716Z"
   },
   {
    "duration": 4615,
    "start_time": "2024-09-16T17:07:58.734Z"
   },
   {
    "duration": 63,
    "start_time": "2024-09-16T17:08:03.351Z"
   },
   {
    "duration": 90,
    "start_time": "2024-09-16T17:08:03.416Z"
   },
   {
    "duration": 13,
    "start_time": "2024-09-16T17:08:03.509Z"
   },
   {
    "duration": 29,
    "start_time": "2024-09-16T17:08:03.523Z"
   },
   {
    "duration": 13,
    "start_time": "2024-09-16T17:08:03.553Z"
   },
   {
    "duration": 12,
    "start_time": "2024-09-16T17:08:03.606Z"
   },
   {
    "duration": 104,
    "start_time": "2024-09-16T17:08:03.620Z"
   },
   {
    "duration": 83,
    "start_time": "2024-09-16T17:08:03.726Z"
   },
   {
    "duration": 228,
    "start_time": "2024-09-16T17:08:03.810Z"
   },
   {
    "duration": 27,
    "start_time": "2024-09-16T17:08:04.040Z"
   },
   {
    "duration": 56,
    "start_time": "2024-09-16T17:08:04.069Z"
   },
   {
    "duration": 13,
    "start_time": "2024-09-16T17:08:04.127Z"
   },
   {
    "duration": 67,
    "start_time": "2024-09-16T17:08:04.142Z"
   },
   {
    "duration": 196,
    "start_time": "2024-09-16T17:08:04.210Z"
   },
   {
    "duration": 6,
    "start_time": "2024-09-16T17:08:04.408Z"
   },
   {
    "duration": 54,
    "start_time": "2024-09-16T17:08:04.416Z"
   },
   {
    "duration": 35,
    "start_time": "2024-09-16T17:08:04.472Z"
   },
   {
    "duration": 7,
    "start_time": "2024-09-16T17:08:04.509Z"
   },
   {
    "duration": 32,
    "start_time": "2024-09-16T17:08:04.518Z"
   },
   {
    "duration": 54,
    "start_time": "2024-09-16T17:08:04.552Z"
   },
   {
    "duration": 13,
    "start_time": "2024-09-16T17:08:04.611Z"
   },
   {
    "duration": 90,
    "start_time": "2024-09-16T17:08:04.626Z"
   },
   {
    "duration": 228,
    "start_time": "2024-09-16T17:08:04.719Z"
   },
   {
    "duration": 58,
    "start_time": "2024-09-16T17:08:04.949Z"
   },
   {
    "duration": 9,
    "start_time": "2024-09-16T17:08:05.009Z"
   },
   {
    "duration": 21,
    "start_time": "2024-09-16T17:08:05.020Z"
   },
   {
    "duration": 13,
    "start_time": "2024-09-16T17:08:05.042Z"
   },
   {
    "duration": 246,
    "start_time": "2024-09-16T17:08:05.105Z"
   },
   {
    "duration": 4,
    "start_time": "2024-09-16T17:08:05.406Z"
   },
   {
    "duration": 23,
    "start_time": "2024-09-16T17:08:05.411Z"
   },
   {
    "duration": 76,
    "start_time": "2024-09-16T17:08:05.435Z"
   },
   {
    "duration": 98,
    "start_time": "2024-09-16T17:08:05.512Z"
   },
   {
    "duration": 295,
    "start_time": "2024-09-16T17:08:05.612Z"
   },
   {
    "duration": 4,
    "start_time": "2024-09-16T17:08:05.909Z"
   },
   {
    "duration": 43,
    "start_time": "2024-09-16T17:08:05.914Z"
   },
   {
    "duration": 54,
    "start_time": "2024-09-16T17:08:05.959Z"
   },
   {
    "duration": 416,
    "start_time": "2024-09-16T17:08:06.015Z"
   },
   {
    "duration": 3,
    "start_time": "2024-09-16T17:08:06.433Z"
   },
   {
    "duration": 80,
    "start_time": "2024-09-16T17:08:06.437Z"
   },
   {
    "duration": 54,
    "start_time": "2024-09-16T17:08:06.518Z"
   },
   {
    "duration": 39,
    "start_time": "2024-09-16T17:08:06.574Z"
   },
   {
    "duration": 322,
    "start_time": "2024-09-16T17:08:06.614Z"
   },
   {
    "duration": 5,
    "start_time": "2024-09-16T17:08:06.938Z"
   },
   {
    "duration": 62,
    "start_time": "2024-09-16T17:08:06.944Z"
   },
   {
    "duration": 19,
    "start_time": "2024-09-16T17:08:07.008Z"
   },
   {
    "duration": 278,
    "start_time": "2024-09-16T17:08:07.029Z"
   },
   {
    "duration": 300,
    "start_time": "2024-09-16T17:08:07.309Z"
   },
   {
    "duration": 236,
    "start_time": "2024-09-16T17:08:07.611Z"
   },
   {
    "duration": 246,
    "start_time": "2024-09-16T17:08:07.905Z"
   },
   {
    "duration": 286,
    "start_time": "2024-09-16T17:08:08.153Z"
   },
   {
    "duration": 293,
    "start_time": "2024-09-16T17:08:08.441Z"
   },
   {
    "duration": 5,
    "start_time": "2024-09-16T17:08:08.736Z"
   },
   {
    "duration": 65,
    "start_time": "2024-09-16T17:08:08.743Z"
   },
   {
    "duration": 12,
    "start_time": "2024-09-16T17:08:08.810Z"
   },
   {
    "duration": 91,
    "start_time": "2024-09-16T17:08:08.823Z"
   },
   {
    "duration": 14,
    "start_time": "2024-09-16T17:08:08.916Z"
   },
   {
    "duration": 20,
    "start_time": "2024-09-16T17:08:08.932Z"
   },
   {
    "duration": 293,
    "start_time": "2024-09-16T17:08:08.954Z"
   },
   {
    "duration": 13,
    "start_time": "2024-09-16T17:08:09.304Z"
   },
   {
    "duration": 7,
    "start_time": "2024-09-16T17:08:09.318Z"
   },
   {
    "duration": 92,
    "start_time": "2024-09-16T17:08:09.327Z"
   },
   {
    "duration": 8,
    "start_time": "2024-09-16T17:08:09.421Z"
   },
   {
    "duration": 387,
    "start_time": "2024-09-16T17:08:09.431Z"
   },
   {
    "duration": 12,
    "start_time": "2024-09-16T17:08:09.819Z"
   },
   {
    "duration": 73,
    "start_time": "2024-09-16T17:08:09.833Z"
   },
   {
    "duration": 11,
    "start_time": "2024-09-16T17:08:09.907Z"
   },
   {
    "duration": 7,
    "start_time": "2024-09-16T17:08:09.919Z"
   },
   {
    "duration": 290,
    "start_time": "2024-09-16T17:08:09.928Z"
   },
   {
    "duration": 5,
    "start_time": "2024-09-16T17:08:10.220Z"
   },
   {
    "duration": 19,
    "start_time": "2024-09-16T17:08:10.227Z"
   },
   {
    "duration": 65,
    "start_time": "2024-09-16T17:08:10.249Z"
   },
   {
    "duration": 5,
    "start_time": "2024-09-16T17:08:10.316Z"
   },
   {
    "duration": 12,
    "start_time": "2024-09-16T17:08:10.323Z"
   },
   {
    "duration": 72,
    "start_time": "2024-09-16T17:08:10.337Z"
   },
   {
    "duration": 9,
    "start_time": "2024-09-16T17:08:10.418Z"
   },
   {
    "duration": 485,
    "start_time": "2024-09-16T17:08:10.429Z"
   },
   {
    "duration": 10,
    "start_time": "2024-09-16T17:08:10.916Z"
   },
   {
    "duration": 20,
    "start_time": "2024-09-16T17:08:10.928Z"
   },
   {
    "duration": 295,
    "start_time": "2024-09-16T17:08:10.950Z"
   },
   {
    "duration": 9,
    "start_time": "2024-09-16T17:08:11.306Z"
   },
   {
    "duration": 18,
    "start_time": "2024-09-16T17:08:11.316Z"
   },
   {
    "duration": 301,
    "start_time": "2024-09-16T17:08:11.336Z"
   },
   {
    "duration": 9,
    "start_time": "2024-09-16T17:08:11.638Z"
   },
   {
    "duration": 72,
    "start_time": "2024-09-16T17:08:11.705Z"
   },
   {
    "duration": 333,
    "start_time": "2024-09-16T17:08:11.779Z"
   },
   {
    "duration": 13,
    "start_time": "2024-09-16T17:08:12.114Z"
   },
   {
    "duration": 8,
    "start_time": "2024-09-16T17:08:12.130Z"
   },
   {
    "duration": 376,
    "start_time": "2024-09-16T17:08:12.140Z"
   },
   {
    "duration": 4,
    "start_time": "2024-09-16T17:08:12.517Z"
   },
   {
    "duration": 26,
    "start_time": "2024-09-16T17:08:12.523Z"
   },
   {
    "duration": 58,
    "start_time": "2024-09-16T17:08:12.550Z"
   },
   {
    "duration": 12,
    "start_time": "2024-09-16T17:08:12.610Z"
   },
   {
    "duration": 485,
    "start_time": "2024-09-16T17:08:12.623Z"
   },
   {
    "duration": 9,
    "start_time": "2024-09-16T17:08:13.109Z"
   },
   {
    "duration": 9,
    "start_time": "2024-09-16T17:08:13.119Z"
   },
   {
    "duration": 685,
    "start_time": "2024-09-16T17:08:13.130Z"
   },
   {
    "duration": 102,
    "start_time": "2024-09-16T17:11:08.939Z"
   },
   {
    "duration": 45,
    "start_time": "2024-09-17T08:05:14.574Z"
   },
   {
    "duration": 411,
    "start_time": "2024-09-17T08:05:24.107Z"
   },
   {
    "duration": 2,
    "start_time": "2024-09-17T08:05:24.520Z"
   },
   {
    "duration": 335,
    "start_time": "2024-09-17T08:05:24.523Z"
   },
   {
    "duration": 2,
    "start_time": "2024-09-17T08:05:24.860Z"
   },
   {
    "duration": 49,
    "start_time": "2024-09-17T08:05:24.864Z"
   },
   {
    "duration": 16,
    "start_time": "2024-09-17T08:05:24.915Z"
   },
   {
    "duration": 2169,
    "start_time": "2024-09-17T08:05:24.933Z"
   },
   {
    "duration": 12,
    "start_time": "2024-09-17T08:05:27.104Z"
   },
   {
    "duration": 6,
    "start_time": "2024-09-17T08:05:27.117Z"
   },
   {
    "duration": 5,
    "start_time": "2024-09-17T08:05:27.126Z"
   },
   {
    "duration": 7,
    "start_time": "2024-09-17T08:05:27.132Z"
   },
   {
    "duration": 8,
    "start_time": "2024-09-17T08:05:27.140Z"
   },
   {
    "duration": 31,
    "start_time": "2024-09-17T08:05:27.149Z"
   },
   {
    "duration": 6,
    "start_time": "2024-09-17T08:05:27.182Z"
   },
   {
    "duration": 8,
    "start_time": "2024-09-17T08:05:27.190Z"
   },
   {
    "duration": 11,
    "start_time": "2024-09-17T08:05:27.200Z"
   },
   {
    "duration": 46,
    "start_time": "2024-09-17T08:05:27.212Z"
   },
   {
    "duration": 21,
    "start_time": "2024-09-17T08:05:27.259Z"
   },
   {
    "duration": 14,
    "start_time": "2024-09-17T08:05:27.282Z"
   },
   {
    "duration": 6,
    "start_time": "2024-09-17T08:05:27.298Z"
   },
   {
    "duration": 66,
    "start_time": "2024-09-17T08:05:27.305Z"
   },
   {
    "duration": 18,
    "start_time": "2024-09-17T08:05:27.373Z"
   },
   {
    "duration": 26,
    "start_time": "2024-09-17T08:05:27.393Z"
   },
   {
    "duration": 11,
    "start_time": "2024-09-17T08:05:27.420Z"
   },
   {
    "duration": 11,
    "start_time": "2024-09-17T08:05:27.432Z"
   },
   {
    "duration": 8,
    "start_time": "2024-09-17T08:05:27.445Z"
   },
   {
    "duration": 6,
    "start_time": "2024-09-17T08:05:27.455Z"
   },
   {
    "duration": 8,
    "start_time": "2024-09-17T08:05:27.465Z"
   },
   {
    "duration": 12,
    "start_time": "2024-09-17T08:05:27.475Z"
   },
   {
    "duration": 107,
    "start_time": "2024-09-17T08:05:27.489Z"
   },
   {
    "duration": 9,
    "start_time": "2024-09-17T08:05:27.598Z"
   },
   {
    "duration": 123,
    "start_time": "2024-09-17T08:05:27.608Z"
   },
   {
    "duration": 3,
    "start_time": "2024-09-17T08:05:27.733Z"
   },
   {
    "duration": 12,
    "start_time": "2024-09-17T08:05:27.737Z"
   },
   {
    "duration": 5,
    "start_time": "2024-09-17T08:05:27.751Z"
   },
   {
    "duration": 8,
    "start_time": "2024-09-17T08:05:27.757Z"
   },
   {
    "duration": 195,
    "start_time": "2024-09-17T08:05:27.766Z"
   },
   {
    "duration": 3,
    "start_time": "2024-09-17T08:05:27.963Z"
   },
   {
    "duration": 12,
    "start_time": "2024-09-17T08:05:27.967Z"
   },
   {
    "duration": 16,
    "start_time": "2024-09-17T08:05:27.981Z"
   },
   {
    "duration": 10,
    "start_time": "2024-09-17T08:05:27.999Z"
   },
   {
    "duration": 116,
    "start_time": "2024-09-17T08:05:28.010Z"
   },
   {
    "duration": 3,
    "start_time": "2024-09-17T08:05:28.128Z"
   },
   {
    "duration": 19,
    "start_time": "2024-09-17T08:05:28.133Z"
   },
   {
    "duration": 13,
    "start_time": "2024-09-17T08:05:28.153Z"
   },
   {
    "duration": 121,
    "start_time": "2024-09-17T08:05:28.168Z"
   },
   {
    "duration": 2,
    "start_time": "2024-09-17T08:05:28.291Z"
   },
   {
    "duration": 6,
    "start_time": "2024-09-17T08:05:28.295Z"
   },
   {
    "duration": 5,
    "start_time": "2024-09-17T08:05:28.303Z"
   },
   {
    "duration": 13,
    "start_time": "2024-09-17T08:05:28.309Z"
   },
   {
    "duration": 140,
    "start_time": "2024-09-17T08:05:28.323Z"
   },
   {
    "duration": 3,
    "start_time": "2024-09-17T08:05:28.465Z"
   },
   {
    "duration": 22,
    "start_time": "2024-09-17T08:05:28.470Z"
   },
   {
    "duration": 15,
    "start_time": "2024-09-17T08:05:28.493Z"
   },
   {
    "duration": 113,
    "start_time": "2024-09-17T08:05:28.510Z"
   },
   {
    "duration": 120,
    "start_time": "2024-09-17T08:05:28.624Z"
   },
   {
    "duration": 131,
    "start_time": "2024-09-17T08:05:28.745Z"
   },
   {
    "duration": 131,
    "start_time": "2024-09-17T08:05:28.878Z"
   },
   {
    "duration": 125,
    "start_time": "2024-09-17T08:05:29.010Z"
   },
   {
    "duration": 136,
    "start_time": "2024-09-17T08:05:29.136Z"
   },
   {
    "duration": 4,
    "start_time": "2024-09-17T08:05:29.273Z"
   },
   {
    "duration": 12,
    "start_time": "2024-09-17T08:05:29.278Z"
   },
   {
    "duration": 11,
    "start_time": "2024-09-17T08:05:29.292Z"
   },
   {
    "duration": 29,
    "start_time": "2024-09-17T08:05:29.304Z"
   },
   {
    "duration": 26,
    "start_time": "2024-09-17T08:05:29.335Z"
   },
   {
    "duration": 6,
    "start_time": "2024-09-17T08:05:29.363Z"
   },
   {
    "duration": 120,
    "start_time": "2024-09-17T08:05:29.371Z"
   },
   {
    "duration": 11,
    "start_time": "2024-09-17T08:05:29.493Z"
   },
   {
    "duration": 9,
    "start_time": "2024-09-17T08:05:29.505Z"
   },
   {
    "duration": 17,
    "start_time": "2024-09-17T08:05:29.516Z"
   },
   {
    "duration": 9,
    "start_time": "2024-09-17T08:05:29.535Z"
   },
   {
    "duration": 197,
    "start_time": "2024-09-17T08:05:29.545Z"
   },
   {
    "duration": 12,
    "start_time": "2024-09-17T08:05:29.744Z"
   },
   {
    "duration": 8,
    "start_time": "2024-09-17T08:05:29.757Z"
   },
   {
    "duration": 31,
    "start_time": "2024-09-17T08:05:29.766Z"
   },
   {
    "duration": 13,
    "start_time": "2024-09-17T08:05:29.799Z"
   },
   {
    "duration": 129,
    "start_time": "2024-09-17T08:05:29.814Z"
   },
   {
    "duration": 4,
    "start_time": "2024-09-17T08:05:29.945Z"
   },
   {
    "duration": 12,
    "start_time": "2024-09-17T08:05:29.951Z"
   },
   {
    "duration": 15,
    "start_time": "2024-09-17T08:05:29.964Z"
   },
   {
    "duration": 12,
    "start_time": "2024-09-17T08:05:29.980Z"
   },
   {
    "duration": 2,
    "start_time": "2024-09-17T08:05:29.997Z"
   },
   {
    "duration": 45,
    "start_time": "2024-09-17T08:05:30.001Z"
   },
   {
    "duration": 46,
    "start_time": "2024-09-17T08:05:30.048Z"
   },
   {
    "duration": 170,
    "start_time": "2024-09-17T08:05:30.096Z"
   },
   {
    "duration": 9,
    "start_time": "2024-09-17T08:05:30.268Z"
   },
   {
    "duration": 41,
    "start_time": "2024-09-17T08:05:30.278Z"
   },
   {
    "duration": 130,
    "start_time": "2024-09-17T08:05:30.321Z"
   },
   {
    "duration": 9,
    "start_time": "2024-09-17T08:05:30.452Z"
   },
   {
    "duration": 26,
    "start_time": "2024-09-17T08:05:30.462Z"
   },
   {
    "duration": 140,
    "start_time": "2024-09-17T08:05:30.489Z"
   },
   {
    "duration": 8,
    "start_time": "2024-09-17T08:05:30.631Z"
   },
   {
    "duration": 21,
    "start_time": "2024-09-17T08:05:30.640Z"
   },
   {
    "duration": 170,
    "start_time": "2024-09-17T08:05:30.663Z"
   },
   {
    "duration": 8,
    "start_time": "2024-09-17T08:05:30.834Z"
   },
   {
    "duration": 16,
    "start_time": "2024-09-17T08:05:30.844Z"
   },
   {
    "duration": 148,
    "start_time": "2024-09-17T08:05:30.861Z"
   },
   {
    "duration": 3,
    "start_time": "2024-09-17T08:05:31.010Z"
   },
   {
    "duration": 62,
    "start_time": "2024-09-17T08:05:31.015Z"
   },
   {
    "duration": 25,
    "start_time": "2024-09-17T08:05:31.079Z"
   },
   {
    "duration": 32,
    "start_time": "2024-09-17T08:05:31.105Z"
   },
   {
    "duration": 173,
    "start_time": "2024-09-17T08:05:31.138Z"
   },
   {
    "duration": 8,
    "start_time": "2024-09-17T08:05:31.312Z"
   },
   {
    "duration": 17,
    "start_time": "2024-09-17T08:05:31.321Z"
   },
   {
    "duration": 285,
    "start_time": "2024-09-17T08:05:31.340Z"
   },
   {
    "duration": 5,
    "start_time": "2024-09-17T08:05:59.331Z"
   },
   {
    "duration": 102,
    "start_time": "2024-09-17T08:06:07.533Z"
   },
   {
    "duration": 4,
    "start_time": "2024-09-17T08:06:19.045Z"
   },
   {
    "duration": 2,
    "start_time": "2024-09-17T08:06:33.101Z"
   },
   {
    "duration": 2,
    "start_time": "2024-09-17T08:06:34.710Z"
   },
   {
    "duration": 4,
    "start_time": "2024-09-17T08:06:40.149Z"
   },
   {
    "duration": 170,
    "start_time": "2024-09-17T08:06:41.549Z"
   },
   {
    "duration": 6,
    "start_time": "2024-09-17T08:07:14.909Z"
   },
   {
    "duration": 109,
    "start_time": "2024-09-17T08:07:17.730Z"
   },
   {
    "duration": 4,
    "start_time": "2024-09-17T08:07:21.971Z"
   },
   {
    "duration": 6,
    "start_time": "2024-09-17T08:07:34.841Z"
   },
   {
    "duration": 108,
    "start_time": "2024-09-17T08:07:36.884Z"
   },
   {
    "duration": 4,
    "start_time": "2024-09-17T08:07:44.782Z"
   },
   {
    "duration": 116,
    "start_time": "2024-09-17T08:07:46.789Z"
   },
   {
    "duration": 4,
    "start_time": "2024-09-17T08:11:49.442Z"
   },
   {
    "duration": 112,
    "start_time": "2024-09-17T08:11:52.338Z"
   },
   {
    "duration": 3,
    "start_time": "2024-09-17T08:13:06.807Z"
   },
   {
    "duration": 109,
    "start_time": "2024-09-17T08:13:09.303Z"
   },
   {
    "duration": 6,
    "start_time": "2024-09-17T08:14:10.667Z"
   },
   {
    "duration": 105,
    "start_time": "2024-09-17T08:14:11.430Z"
   },
   {
    "duration": 5,
    "start_time": "2024-09-17T08:17:23.712Z"
   },
   {
    "duration": 74,
    "start_time": "2024-09-17T08:17:25.742Z"
   },
   {
    "duration": 12,
    "start_time": "2024-09-17T08:17:36.802Z"
   },
   {
    "duration": 4,
    "start_time": "2024-09-17T08:18:03.066Z"
   },
   {
    "duration": 5,
    "start_time": "2024-09-17T08:18:10.446Z"
   },
   {
    "duration": 13,
    "start_time": "2024-09-17T08:18:11.066Z"
   },
   {
    "duration": 121,
    "start_time": "2024-09-17T08:45:50.778Z"
   },
   {
    "duration": 4,
    "start_time": "2024-09-17T08:45:52.923Z"
   },
   {
    "duration": 112,
    "start_time": "2024-09-17T08:45:56.766Z"
   },
   {
    "duration": 4,
    "start_time": "2024-09-17T08:46:19.203Z"
   },
   {
    "duration": 3,
    "start_time": "2024-09-17T08:46:21.484Z"
   },
   {
    "duration": 4,
    "start_time": "2024-09-17T08:46:24.011Z"
   },
   {
    "duration": 109,
    "start_time": "2024-09-17T08:46:26.344Z"
   },
   {
    "duration": 107,
    "start_time": "2024-09-17T08:47:32.303Z"
   },
   {
    "duration": 217,
    "start_time": "2024-09-17T08:47:43.123Z"
   },
   {
    "duration": 361,
    "start_time": "2024-09-17T08:48:44.246Z"
   },
   {
    "duration": 3,
    "start_time": "2024-09-17T08:48:44.608Z"
   },
   {
    "duration": 122,
    "start_time": "2024-09-17T08:48:44.612Z"
   },
   {
    "duration": 2,
    "start_time": "2024-09-17T08:48:44.736Z"
   },
   {
    "duration": 49,
    "start_time": "2024-09-17T08:48:44.740Z"
   },
   {
    "duration": 16,
    "start_time": "2024-09-17T08:48:44.791Z"
   },
   {
    "duration": 2053,
    "start_time": "2024-09-17T08:48:44.809Z"
   },
   {
    "duration": 10,
    "start_time": "2024-09-17T08:48:46.864Z"
   },
   {
    "duration": 6,
    "start_time": "2024-09-17T08:48:46.876Z"
   },
   {
    "duration": 15,
    "start_time": "2024-09-17T08:48:46.883Z"
   },
   {
    "duration": 13,
    "start_time": "2024-09-17T08:48:46.899Z"
   },
   {
    "duration": 18,
    "start_time": "2024-09-17T08:48:46.913Z"
   },
   {
    "duration": 16,
    "start_time": "2024-09-17T08:48:46.932Z"
   },
   {
    "duration": 9,
    "start_time": "2024-09-17T08:48:46.951Z"
   },
   {
    "duration": 6,
    "start_time": "2024-09-17T08:48:46.961Z"
   },
   {
    "duration": 8,
    "start_time": "2024-09-17T08:48:46.969Z"
   },
   {
    "duration": 20,
    "start_time": "2024-09-17T08:48:46.978Z"
   },
   {
    "duration": 35,
    "start_time": "2024-09-17T08:48:46.999Z"
   },
   {
    "duration": 17,
    "start_time": "2024-09-17T08:48:47.036Z"
   },
   {
    "duration": 6,
    "start_time": "2024-09-17T08:48:47.054Z"
   },
   {
    "duration": 65,
    "start_time": "2024-09-17T08:48:47.061Z"
   },
   {
    "duration": 5,
    "start_time": "2024-09-17T08:48:47.127Z"
   },
   {
    "duration": 8,
    "start_time": "2024-09-17T08:48:47.133Z"
   },
   {
    "duration": 8,
    "start_time": "2024-09-17T08:48:47.142Z"
   },
   {
    "duration": 18,
    "start_time": "2024-09-17T08:48:47.152Z"
   },
   {
    "duration": 13,
    "start_time": "2024-09-17T08:48:47.171Z"
   },
   {
    "duration": 5,
    "start_time": "2024-09-17T08:48:47.185Z"
   },
   {
    "duration": 10,
    "start_time": "2024-09-17T08:48:47.192Z"
   },
   {
    "duration": 18,
    "start_time": "2024-09-17T08:48:47.204Z"
   },
   {
    "duration": 8,
    "start_time": "2024-09-17T08:48:47.223Z"
   },
   {
    "duration": 5,
    "start_time": "2024-09-17T08:48:47.233Z"
   },
   {
    "duration": 22,
    "start_time": "2024-09-17T08:48:47.239Z"
   },
   {
    "duration": 118,
    "start_time": "2024-09-17T08:48:47.263Z"
   },
   {
    "duration": 8,
    "start_time": "2024-09-17T08:48:47.383Z"
   },
   {
    "duration": 7,
    "start_time": "2024-09-17T08:48:47.392Z"
   },
   {
    "duration": 7,
    "start_time": "2024-09-17T08:48:47.400Z"
   },
   {
    "duration": 8,
    "start_time": "2024-09-17T08:48:47.408Z"
   },
   {
    "duration": 134,
    "start_time": "2024-09-17T08:48:47.417Z"
   },
   {
    "duration": 4,
    "start_time": "2024-09-17T08:48:47.552Z"
   },
   {
    "duration": 17,
    "start_time": "2024-09-17T08:48:47.558Z"
   },
   {
    "duration": 26,
    "start_time": "2024-09-17T08:48:47.580Z"
   },
   {
    "duration": 23,
    "start_time": "2024-09-17T08:48:47.608Z"
   },
   {
    "duration": 134,
    "start_time": "2024-09-17T08:48:47.633Z"
   },
   {
    "duration": 4,
    "start_time": "2024-09-17T08:48:47.768Z"
   },
   {
    "duration": 9,
    "start_time": "2024-09-17T08:48:47.774Z"
   },
   {
    "duration": 15,
    "start_time": "2024-09-17T08:48:47.784Z"
   },
   {
    "duration": 215,
    "start_time": "2024-09-17T08:48:47.800Z"
   },
   {
    "duration": 3,
    "start_time": "2024-09-17T08:48:48.017Z"
   },
   {
    "duration": 65,
    "start_time": "2024-09-17T08:48:48.021Z"
   },
   {
    "duration": 15,
    "start_time": "2024-09-17T08:48:48.088Z"
   },
   {
    "duration": 20,
    "start_time": "2024-09-17T08:48:48.105Z"
   },
   {
    "duration": 145,
    "start_time": "2024-09-17T08:48:48.126Z"
   },
   {
    "duration": 4,
    "start_time": "2024-09-17T08:48:48.272Z"
   },
   {
    "duration": 18,
    "start_time": "2024-09-17T08:48:48.277Z"
   },
   {
    "duration": 9,
    "start_time": "2024-09-17T08:48:48.296Z"
   },
   {
    "duration": 127,
    "start_time": "2024-09-17T08:48:48.306Z"
   },
   {
    "duration": 121,
    "start_time": "2024-09-17T08:48:48.434Z"
   },
   {
    "duration": 138,
    "start_time": "2024-09-17T08:48:48.556Z"
   },
   {
    "duration": 135,
    "start_time": "2024-09-17T08:48:48.696Z"
   },
   {
    "duration": 134,
    "start_time": "2024-09-17T08:48:48.833Z"
   },
   {
    "duration": 142,
    "start_time": "2024-09-17T08:48:48.968Z"
   },
   {
    "duration": 5,
    "start_time": "2024-09-17T08:48:49.111Z"
   },
   {
    "duration": 5,
    "start_time": "2024-09-17T08:48:49.118Z"
   },
   {
    "duration": 13,
    "start_time": "2024-09-17T08:48:49.125Z"
   },
   {
    "duration": 8,
    "start_time": "2024-09-17T08:48:49.139Z"
   },
   {
    "duration": 44,
    "start_time": "2024-09-17T08:48:49.148Z"
   },
   {
    "duration": 7,
    "start_time": "2024-09-17T08:48:49.194Z"
   },
   {
    "duration": 158,
    "start_time": "2024-09-17T08:48:49.203Z"
   },
   {
    "duration": 12,
    "start_time": "2024-09-17T08:48:49.362Z"
   },
   {
    "duration": 18,
    "start_time": "2024-09-17T08:48:49.376Z"
   },
   {
    "duration": 10,
    "start_time": "2024-09-17T08:48:49.395Z"
   },
   {
    "duration": 12,
    "start_time": "2024-09-17T08:48:49.406Z"
   },
   {
    "duration": 134,
    "start_time": "2024-09-17T08:48:49.419Z"
   },
   {
    "duration": 11,
    "start_time": "2024-09-17T08:48:49.554Z"
   },
   {
    "duration": 22,
    "start_time": "2024-09-17T08:48:49.567Z"
   },
   {
    "duration": 10,
    "start_time": "2024-09-17T08:48:49.591Z"
   },
   {
    "duration": 11,
    "start_time": "2024-09-17T08:48:49.603Z"
   },
   {
    "duration": 136,
    "start_time": "2024-09-17T08:48:49.616Z"
   },
   {
    "duration": 4,
    "start_time": "2024-09-17T08:48:49.754Z"
   },
   {
    "duration": 10,
    "start_time": "2024-09-17T08:48:49.760Z"
   },
   {
    "duration": 21,
    "start_time": "2024-09-17T08:48:49.771Z"
   },
   {
    "duration": 4,
    "start_time": "2024-09-17T08:48:49.793Z"
   },
   {
    "duration": 6,
    "start_time": "2024-09-17T08:48:49.798Z"
   },
   {
    "duration": 8,
    "start_time": "2024-09-17T08:48:49.805Z"
   },
   {
    "duration": 6,
    "start_time": "2024-09-17T08:48:49.814Z"
   },
   {
    "duration": 221,
    "start_time": "2024-09-17T08:48:49.822Z"
   },
   {
    "duration": 10,
    "start_time": "2024-09-17T08:48:50.045Z"
   },
   {
    "duration": 25,
    "start_time": "2024-09-17T08:48:50.056Z"
   },
   {
    "duration": 126,
    "start_time": "2024-09-17T08:48:50.083Z"
   },
   {
    "duration": 13,
    "start_time": "2024-09-17T08:48:50.211Z"
   },
   {
    "duration": 9,
    "start_time": "2024-09-17T08:48:50.228Z"
   },
   {
    "duration": 154,
    "start_time": "2024-09-17T08:48:50.239Z"
   },
   {
    "duration": 9,
    "start_time": "2024-09-17T08:48:50.394Z"
   },
   {
    "duration": 8,
    "start_time": "2024-09-17T08:48:50.404Z"
   },
   {
    "duration": 169,
    "start_time": "2024-09-17T08:48:50.413Z"
   },
   {
    "duration": 13,
    "start_time": "2024-09-17T08:48:50.584Z"
   },
   {
    "duration": 7,
    "start_time": "2024-09-17T08:48:50.598Z"
   },
   {
    "duration": 154,
    "start_time": "2024-09-17T08:48:50.607Z"
   },
   {
    "duration": 3,
    "start_time": "2024-09-17T08:48:50.762Z"
   },
   {
    "duration": 22,
    "start_time": "2024-09-17T08:48:50.767Z"
   },
   {
    "duration": 3,
    "start_time": "2024-09-17T08:48:50.791Z"
   },
   {
    "duration": 8,
    "start_time": "2024-09-17T08:48:50.795Z"
   },
   {
    "duration": 189,
    "start_time": "2024-09-17T08:48:50.804Z"
   },
   {
    "duration": 8,
    "start_time": "2024-09-17T08:48:50.994Z"
   },
   {
    "duration": 10,
    "start_time": "2024-09-17T08:48:51.003Z"
   },
   {
    "duration": 298,
    "start_time": "2024-09-17T08:48:51.014Z"
   },
   {
    "duration": 4,
    "start_time": "2024-09-17T08:49:16.322Z"
   },
   {
    "duration": 126,
    "start_time": "2024-09-17T08:49:18.172Z"
   },
   {
    "duration": 367,
    "start_time": "2024-09-17T08:49:25.943Z"
   },
   {
    "duration": 3,
    "start_time": "2024-09-17T08:49:26.312Z"
   },
   {
    "duration": 104,
    "start_time": "2024-09-17T08:49:26.317Z"
   },
   {
    "duration": 3,
    "start_time": "2024-09-17T08:49:26.422Z"
   },
   {
    "duration": 44,
    "start_time": "2024-09-17T08:49:26.427Z"
   },
   {
    "duration": 16,
    "start_time": "2024-09-17T08:49:26.489Z"
   },
   {
    "duration": 2188,
    "start_time": "2024-09-17T08:49:26.507Z"
   },
   {
    "duration": 9,
    "start_time": "2024-09-17T08:49:28.697Z"
   },
   {
    "duration": 40,
    "start_time": "2024-09-17T08:49:28.707Z"
   },
   {
    "duration": 27,
    "start_time": "2024-09-17T08:49:28.749Z"
   },
   {
    "duration": 13,
    "start_time": "2024-09-17T08:49:28.777Z"
   },
   {
    "duration": 13,
    "start_time": "2024-09-17T08:49:28.791Z"
   },
   {
    "duration": 49,
    "start_time": "2024-09-17T08:49:28.806Z"
   },
   {
    "duration": 4,
    "start_time": "2024-09-17T08:49:28.857Z"
   },
   {
    "duration": 14,
    "start_time": "2024-09-17T08:49:28.863Z"
   },
   {
    "duration": 17,
    "start_time": "2024-09-17T08:49:28.879Z"
   },
   {
    "duration": 9,
    "start_time": "2024-09-17T08:49:28.898Z"
   },
   {
    "duration": 14,
    "start_time": "2024-09-17T08:49:28.909Z"
   },
   {
    "duration": 37,
    "start_time": "2024-09-17T08:49:28.925Z"
   },
   {
    "duration": 17,
    "start_time": "2024-09-17T08:49:28.964Z"
   },
   {
    "duration": 74,
    "start_time": "2024-09-17T08:49:28.982Z"
   },
   {
    "duration": 5,
    "start_time": "2024-09-17T08:49:29.057Z"
   },
   {
    "duration": 32,
    "start_time": "2024-09-17T08:49:29.063Z"
   },
   {
    "duration": 4,
    "start_time": "2024-09-17T08:49:29.097Z"
   },
   {
    "duration": 5,
    "start_time": "2024-09-17T08:49:29.102Z"
   },
   {
    "duration": 4,
    "start_time": "2024-09-17T08:49:29.108Z"
   },
   {
    "duration": 4,
    "start_time": "2024-09-17T08:49:29.113Z"
   },
   {
    "duration": 5,
    "start_time": "2024-09-17T08:49:29.121Z"
   },
   {
    "duration": 16,
    "start_time": "2024-09-17T08:49:29.128Z"
   },
   {
    "duration": 4,
    "start_time": "2024-09-17T08:49:29.145Z"
   },
   {
    "duration": 3,
    "start_time": "2024-09-17T08:49:29.150Z"
   },
   {
    "duration": 13,
    "start_time": "2024-09-17T08:49:29.154Z"
   },
   {
    "duration": 127,
    "start_time": "2024-09-17T08:49:29.168Z"
   },
   {
    "duration": 3,
    "start_time": "2024-09-17T08:49:29.297Z"
   },
   {
    "duration": 9,
    "start_time": "2024-09-17T08:49:29.302Z"
   },
   {
    "duration": 7,
    "start_time": "2024-09-17T08:49:29.312Z"
   },
   {
    "duration": 8,
    "start_time": "2024-09-17T08:49:29.321Z"
   },
   {
    "duration": 153,
    "start_time": "2024-09-17T08:49:29.331Z"
   },
   {
    "duration": 4,
    "start_time": "2024-09-17T08:49:29.489Z"
   },
   {
    "duration": 7,
    "start_time": "2024-09-17T08:49:29.494Z"
   },
   {
    "duration": 15,
    "start_time": "2024-09-17T08:49:29.502Z"
   },
   {
    "duration": 18,
    "start_time": "2024-09-17T08:49:29.518Z"
   },
   {
    "duration": 117,
    "start_time": "2024-09-17T08:49:29.538Z"
   },
   {
    "duration": 5,
    "start_time": "2024-09-17T08:49:29.656Z"
   },
   {
    "duration": 7,
    "start_time": "2024-09-17T08:49:29.662Z"
   },
   {
    "duration": 27,
    "start_time": "2024-09-17T08:49:29.670Z"
   },
   {
    "duration": 209,
    "start_time": "2024-09-17T08:49:29.698Z"
   },
   {
    "duration": 3,
    "start_time": "2024-09-17T08:49:29.909Z"
   },
   {
    "duration": 8,
    "start_time": "2024-09-17T08:49:29.914Z"
   },
   {
    "duration": 10,
    "start_time": "2024-09-17T08:49:29.924Z"
   },
   {
    "duration": 15,
    "start_time": "2024-09-17T08:49:29.936Z"
   },
   {
    "duration": 197,
    "start_time": "2024-09-17T08:49:29.953Z"
   },
   {
    "duration": 4,
    "start_time": "2024-09-17T08:49:30.152Z"
   },
   {
    "duration": 54,
    "start_time": "2024-09-17T08:49:30.157Z"
   },
   {
    "duration": 43,
    "start_time": "2024-09-17T08:49:30.213Z"
   },
   {
    "duration": 159,
    "start_time": "2024-09-17T08:49:30.258Z"
   },
   {
    "duration": 132,
    "start_time": "2024-09-17T08:49:30.419Z"
   },
   {
    "duration": 144,
    "start_time": "2024-09-17T08:49:30.552Z"
   },
   {
    "duration": 131,
    "start_time": "2024-09-17T08:49:30.697Z"
   },
   {
    "duration": 138,
    "start_time": "2024-09-17T08:49:30.830Z"
   },
   {
    "duration": 149,
    "start_time": "2024-09-17T08:49:30.969Z"
   },
   {
    "duration": 4,
    "start_time": "2024-09-17T08:49:31.120Z"
   },
   {
    "duration": 21,
    "start_time": "2024-09-17T08:49:31.125Z"
   },
   {
    "duration": 15,
    "start_time": "2024-09-17T08:49:31.148Z"
   },
   {
    "duration": 6,
    "start_time": "2024-09-17T08:49:31.165Z"
   },
   {
    "duration": 60,
    "start_time": "2024-09-17T08:49:31.173Z"
   },
   {
    "duration": 7,
    "start_time": "2024-09-17T08:49:31.235Z"
   },
   {
    "duration": 150,
    "start_time": "2024-09-17T08:49:31.243Z"
   },
   {
    "duration": 12,
    "start_time": "2024-09-17T08:49:31.394Z"
   },
   {
    "duration": 16,
    "start_time": "2024-09-17T08:49:31.407Z"
   },
   {
    "duration": 15,
    "start_time": "2024-09-17T08:49:31.424Z"
   },
   {
    "duration": 7,
    "start_time": "2024-09-17T08:49:31.440Z"
   },
   {
    "duration": 146,
    "start_time": "2024-09-17T08:49:31.448Z"
   },
   {
    "duration": 11,
    "start_time": "2024-09-17T08:49:31.595Z"
   },
   {
    "duration": 18,
    "start_time": "2024-09-17T08:49:31.607Z"
   },
   {
    "duration": 15,
    "start_time": "2024-09-17T08:49:31.626Z"
   },
   {
    "duration": 11,
    "start_time": "2024-09-17T08:49:31.642Z"
   },
   {
    "duration": 139,
    "start_time": "2024-09-17T08:49:31.654Z"
   },
   {
    "duration": 5,
    "start_time": "2024-09-17T08:49:31.794Z"
   },
   {
    "duration": 14,
    "start_time": "2024-09-17T08:49:31.800Z"
   },
   {
    "duration": 24,
    "start_time": "2024-09-17T08:49:31.815Z"
   },
   {
    "duration": 5,
    "start_time": "2024-09-17T08:49:31.845Z"
   },
   {
    "duration": 5,
    "start_time": "2024-09-17T08:49:31.851Z"
   },
   {
    "duration": 8,
    "start_time": "2024-09-17T08:49:31.858Z"
   },
   {
    "duration": 34,
    "start_time": "2024-09-17T08:49:31.868Z"
   },
   {
    "duration": 216,
    "start_time": "2024-09-17T08:49:31.904Z"
   },
   {
    "duration": 9,
    "start_time": "2024-09-17T08:49:32.122Z"
   },
   {
    "duration": 15,
    "start_time": "2024-09-17T08:49:32.132Z"
   },
   {
    "duration": 146,
    "start_time": "2024-09-17T08:49:32.148Z"
   },
   {
    "duration": 10,
    "start_time": "2024-09-17T08:49:32.296Z"
   },
   {
    "duration": 30,
    "start_time": "2024-09-17T08:49:32.307Z"
   },
   {
    "duration": 140,
    "start_time": "2024-09-17T08:49:32.339Z"
   },
   {
    "duration": 15,
    "start_time": "2024-09-17T08:49:32.481Z"
   },
   {
    "duration": 28,
    "start_time": "2024-09-17T08:49:32.498Z"
   },
   {
    "duration": 161,
    "start_time": "2024-09-17T08:49:32.528Z"
   },
   {
    "duration": 10,
    "start_time": "2024-09-17T08:49:32.690Z"
   },
   {
    "duration": 32,
    "start_time": "2024-09-17T08:49:32.701Z"
   },
   {
    "duration": 129,
    "start_time": "2024-09-17T08:49:32.734Z"
   },
   {
    "duration": 4,
    "start_time": "2024-09-17T08:49:32.864Z"
   },
   {
    "duration": 49,
    "start_time": "2024-09-17T08:49:32.870Z"
   },
   {
    "duration": 34,
    "start_time": "2024-09-17T08:49:32.920Z"
   },
   {
    "duration": 25,
    "start_time": "2024-09-17T08:49:32.956Z"
   },
   {
    "duration": 203,
    "start_time": "2024-09-17T08:49:32.982Z"
   },
   {
    "duration": 9,
    "start_time": "2024-09-17T08:49:33.187Z"
   },
   {
    "duration": 17,
    "start_time": "2024-09-17T08:49:33.198Z"
   },
   {
    "duration": 324,
    "start_time": "2024-09-17T08:49:33.217Z"
   },
   {
    "duration": 4,
    "start_time": "2024-09-17T08:51:16.338Z"
   },
   {
    "duration": 118,
    "start_time": "2024-09-17T08:51:18.067Z"
   },
   {
    "duration": 405,
    "start_time": "2024-09-17T08:51:24.555Z"
   },
   {
    "duration": 2,
    "start_time": "2024-09-17T08:51:24.962Z"
   },
   {
    "duration": 107,
    "start_time": "2024-09-17T08:51:24.966Z"
   },
   {
    "duration": 2,
    "start_time": "2024-09-17T08:51:25.075Z"
   },
   {
    "duration": 52,
    "start_time": "2024-09-17T08:51:25.079Z"
   },
   {
    "duration": 16,
    "start_time": "2024-09-17T08:51:25.132Z"
   },
   {
    "duration": 2072,
    "start_time": "2024-09-17T08:51:25.150Z"
   },
   {
    "duration": 11,
    "start_time": "2024-09-17T08:51:27.224Z"
   },
   {
    "duration": 5,
    "start_time": "2024-09-17T08:51:27.237Z"
   },
   {
    "duration": 10,
    "start_time": "2024-09-17T08:51:27.246Z"
   },
   {
    "duration": 9,
    "start_time": "2024-09-17T08:51:27.257Z"
   },
   {
    "duration": 7,
    "start_time": "2024-09-17T08:51:27.268Z"
   },
   {
    "duration": 20,
    "start_time": "2024-09-17T08:51:27.277Z"
   },
   {
    "duration": 6,
    "start_time": "2024-09-17T08:51:27.299Z"
   },
   {
    "duration": 29,
    "start_time": "2024-09-17T08:51:27.306Z"
   },
   {
    "duration": 20,
    "start_time": "2024-09-17T08:51:27.337Z"
   },
   {
    "duration": 14,
    "start_time": "2024-09-17T08:51:27.359Z"
   },
   {
    "duration": 17,
    "start_time": "2024-09-17T08:51:27.375Z"
   },
   {
    "duration": 7,
    "start_time": "2024-09-17T08:51:27.394Z"
   },
   {
    "duration": 6,
    "start_time": "2024-09-17T08:51:27.402Z"
   },
   {
    "duration": 64,
    "start_time": "2024-09-17T08:51:27.409Z"
   },
   {
    "duration": 18,
    "start_time": "2024-09-17T08:51:27.475Z"
   },
   {
    "duration": 5,
    "start_time": "2024-09-17T08:51:27.495Z"
   },
   {
    "duration": 3,
    "start_time": "2024-09-17T08:51:27.501Z"
   },
   {
    "duration": 6,
    "start_time": "2024-09-17T08:51:27.506Z"
   },
   {
    "duration": 4,
    "start_time": "2024-09-17T08:51:27.513Z"
   },
   {
    "duration": 15,
    "start_time": "2024-09-17T08:51:27.518Z"
   },
   {
    "duration": 7,
    "start_time": "2024-09-17T08:51:27.537Z"
   },
   {
    "duration": 22,
    "start_time": "2024-09-17T08:51:27.546Z"
   },
   {
    "duration": 120,
    "start_time": "2024-09-17T08:51:27.569Z"
   },
   {
    "duration": 4,
    "start_time": "2024-09-17T08:51:27.691Z"
   },
   {
    "duration": 6,
    "start_time": "2024-09-17T08:51:27.696Z"
   },
   {
    "duration": 6,
    "start_time": "2024-09-17T08:51:27.703Z"
   },
   {
    "duration": 5,
    "start_time": "2024-09-17T08:51:27.711Z"
   },
   {
    "duration": 140,
    "start_time": "2024-09-17T08:51:27.717Z"
   },
   {
    "duration": 3,
    "start_time": "2024-09-17T08:51:27.859Z"
   },
   {
    "duration": 4,
    "start_time": "2024-09-17T08:51:27.864Z"
   },
   {
    "duration": 20,
    "start_time": "2024-09-17T08:51:27.869Z"
   },
   {
    "duration": 7,
    "start_time": "2024-09-17T08:51:27.891Z"
   },
   {
    "duration": 134,
    "start_time": "2024-09-17T08:51:27.899Z"
   },
   {
    "duration": 4,
    "start_time": "2024-09-17T08:51:28.034Z"
   },
   {
    "duration": 53,
    "start_time": "2024-09-17T08:51:28.039Z"
   },
   {
    "duration": 22,
    "start_time": "2024-09-17T08:51:28.093Z"
   },
   {
    "duration": 197,
    "start_time": "2024-09-17T08:51:28.117Z"
   },
   {
    "duration": 3,
    "start_time": "2024-09-17T08:51:28.315Z"
   },
   {
    "duration": 7,
    "start_time": "2024-09-17T08:51:28.319Z"
   },
   {
    "duration": 6,
    "start_time": "2024-09-17T08:51:28.327Z"
   },
   {
    "duration": 9,
    "start_time": "2024-09-17T08:51:28.334Z"
   },
   {
    "duration": 148,
    "start_time": "2024-09-17T08:51:28.345Z"
   },
   {
    "duration": 4,
    "start_time": "2024-09-17T08:51:28.494Z"
   },
   {
    "duration": 6,
    "start_time": "2024-09-17T08:51:28.500Z"
   },
   {
    "duration": 8,
    "start_time": "2024-09-17T08:51:28.507Z"
   },
   {
    "duration": 130,
    "start_time": "2024-09-17T08:51:28.516Z"
   },
   {
    "duration": 124,
    "start_time": "2024-09-17T08:51:28.647Z"
   },
   {
    "duration": 143,
    "start_time": "2024-09-17T08:51:28.773Z"
   },
   {
    "duration": 136,
    "start_time": "2024-09-17T08:51:28.917Z"
   },
   {
    "duration": 137,
    "start_time": "2024-09-17T08:51:29.055Z"
   },
   {
    "duration": 149,
    "start_time": "2024-09-17T08:51:29.193Z"
   },
   {
    "duration": 5,
    "start_time": "2024-09-17T08:51:29.343Z"
   },
   {
    "duration": 8,
    "start_time": "2024-09-17T08:51:29.350Z"
   },
   {
    "duration": 12,
    "start_time": "2024-09-17T08:51:29.360Z"
   },
   {
    "duration": 8,
    "start_time": "2024-09-17T08:51:29.390Z"
   },
   {
    "duration": 11,
    "start_time": "2024-09-17T08:51:29.400Z"
   },
   {
    "duration": 11,
    "start_time": "2024-09-17T08:51:29.412Z"
   },
   {
    "duration": 144,
    "start_time": "2024-09-17T08:51:29.424Z"
   },
   {
    "duration": 21,
    "start_time": "2024-09-17T08:51:29.570Z"
   },
   {
    "duration": 7,
    "start_time": "2024-09-17T08:51:29.592Z"
   },
   {
    "duration": 10,
    "start_time": "2024-09-17T08:51:29.600Z"
   },
   {
    "duration": 7,
    "start_time": "2024-09-17T08:51:29.612Z"
   },
   {
    "duration": 142,
    "start_time": "2024-09-17T08:51:29.621Z"
   },
   {
    "duration": 13,
    "start_time": "2024-09-17T08:51:29.764Z"
   },
   {
    "duration": 8,
    "start_time": "2024-09-17T08:51:29.790Z"
   },
   {
    "duration": 20,
    "start_time": "2024-09-17T08:51:29.800Z"
   },
   {
    "duration": 24,
    "start_time": "2024-09-17T08:51:29.821Z"
   },
   {
    "duration": 128,
    "start_time": "2024-09-17T08:51:29.847Z"
   },
   {
    "duration": 13,
    "start_time": "2024-09-17T08:51:29.977Z"
   },
   {
    "duration": 4,
    "start_time": "2024-09-17T08:51:29.991Z"
   },
   {
    "duration": 9,
    "start_time": "2024-09-17T08:51:29.997Z"
   },
   {
    "duration": 77,
    "start_time": "2024-09-17T08:51:30.008Z"
   },
   {
    "duration": 42,
    "start_time": "2024-09-17T08:51:30.086Z"
   },
   {
    "duration": 29,
    "start_time": "2024-09-17T08:51:30.129Z"
   },
   {
    "duration": 36,
    "start_time": "2024-09-17T08:51:30.163Z"
   },
   {
    "duration": 253,
    "start_time": "2024-09-17T08:51:30.201Z"
   },
   {
    "duration": 10,
    "start_time": "2024-09-17T08:51:30.455Z"
   },
   {
    "duration": 30,
    "start_time": "2024-09-17T08:51:30.467Z"
   },
   {
    "duration": 144,
    "start_time": "2024-09-17T08:51:30.498Z"
   },
   {
    "duration": 9,
    "start_time": "2024-09-17T08:51:30.643Z"
   },
   {
    "duration": 16,
    "start_time": "2024-09-17T08:51:30.654Z"
   },
   {
    "duration": 145,
    "start_time": "2024-09-17T08:51:30.672Z"
   },
   {
    "duration": 9,
    "start_time": "2024-09-17T08:51:30.818Z"
   },
   {
    "duration": 19,
    "start_time": "2024-09-17T08:51:30.829Z"
   },
   {
    "duration": 160,
    "start_time": "2024-09-17T08:51:30.850Z"
   },
   {
    "duration": 9,
    "start_time": "2024-09-17T08:51:31.011Z"
   },
   {
    "duration": 22,
    "start_time": "2024-09-17T08:51:31.021Z"
   },
   {
    "duration": 137,
    "start_time": "2024-09-17T08:51:31.045Z"
   },
   {
    "duration": 6,
    "start_time": "2024-09-17T08:51:31.184Z"
   },
   {
    "duration": 28,
    "start_time": "2024-09-17T08:51:31.192Z"
   },
   {
    "duration": 7,
    "start_time": "2024-09-17T08:51:31.222Z"
   },
   {
    "duration": 31,
    "start_time": "2024-09-17T08:51:31.231Z"
   },
   {
    "duration": 190,
    "start_time": "2024-09-17T08:51:31.264Z"
   },
   {
    "duration": 8,
    "start_time": "2024-09-17T08:51:31.455Z"
   },
   {
    "duration": 5,
    "start_time": "2024-09-17T08:51:31.464Z"
   },
   {
    "duration": 336,
    "start_time": "2024-09-17T08:51:31.470Z"
   },
   {
    "duration": 5,
    "start_time": "2024-09-17T09:04:21.202Z"
   },
   {
    "duration": 124,
    "start_time": "2024-09-17T09:04:23.727Z"
   },
   {
    "duration": 420,
    "start_time": "2024-09-17T09:04:46.658Z"
   },
   {
    "duration": 9,
    "start_time": "2024-09-17T09:04:47.080Z"
   },
   {
    "duration": 101,
    "start_time": "2024-09-17T09:04:47.091Z"
   },
   {
    "duration": 2,
    "start_time": "2024-09-17T09:04:47.194Z"
   },
   {
    "duration": 76,
    "start_time": "2024-09-17T09:04:47.198Z"
   },
   {
    "duration": 14,
    "start_time": "2024-09-17T09:04:47.276Z"
   },
   {
    "duration": 2118,
    "start_time": "2024-09-17T09:04:47.292Z"
   },
   {
    "duration": 12,
    "start_time": "2024-09-17T09:04:49.412Z"
   },
   {
    "duration": 8,
    "start_time": "2024-09-17T09:04:49.425Z"
   },
   {
    "duration": 8,
    "start_time": "2024-09-17T09:04:49.436Z"
   },
   {
    "duration": 6,
    "start_time": "2024-09-17T09:04:49.445Z"
   },
   {
    "duration": 3,
    "start_time": "2024-09-17T09:04:49.452Z"
   },
   {
    "duration": 9,
    "start_time": "2024-09-17T09:04:49.456Z"
   },
   {
    "duration": 4,
    "start_time": "2024-09-17T09:04:49.467Z"
   },
   {
    "duration": 8,
    "start_time": "2024-09-17T09:04:49.489Z"
   },
   {
    "duration": 9,
    "start_time": "2024-09-17T09:04:49.499Z"
   },
   {
    "duration": 12,
    "start_time": "2024-09-17T09:04:49.510Z"
   },
   {
    "duration": 19,
    "start_time": "2024-09-17T09:04:49.524Z"
   },
   {
    "duration": 15,
    "start_time": "2024-09-17T09:04:49.545Z"
   },
   {
    "duration": 6,
    "start_time": "2024-09-17T09:04:49.561Z"
   },
   {
    "duration": 78,
    "start_time": "2024-09-17T09:04:49.569Z"
   },
   {
    "duration": 6,
    "start_time": "2024-09-17T09:04:49.648Z"
   },
   {
    "duration": 6,
    "start_time": "2024-09-17T09:04:49.655Z"
   },
   {
    "duration": 3,
    "start_time": "2024-09-17T09:04:49.662Z"
   },
   {
    "duration": 26,
    "start_time": "2024-09-17T09:04:49.666Z"
   },
   {
    "duration": 9,
    "start_time": "2024-09-17T09:04:49.694Z"
   },
   {
    "duration": 24,
    "start_time": "2024-09-17T09:04:49.705Z"
   },
   {
    "duration": 6,
    "start_time": "2024-09-17T09:04:49.733Z"
   },
   {
    "duration": 12,
    "start_time": "2024-09-17T09:04:49.741Z"
   },
   {
    "duration": 114,
    "start_time": "2024-09-17T09:04:49.755Z"
   },
   {
    "duration": 4,
    "start_time": "2024-09-17T09:04:49.871Z"
   },
   {
    "duration": 15,
    "start_time": "2024-09-17T09:04:49.876Z"
   },
   {
    "duration": 8,
    "start_time": "2024-09-17T09:04:49.893Z"
   },
   {
    "duration": 10,
    "start_time": "2024-09-17T09:04:49.903Z"
   },
   {
    "duration": 130,
    "start_time": "2024-09-17T09:04:49.914Z"
   },
   {
    "duration": 3,
    "start_time": "2024-09-17T09:04:50.046Z"
   },
   {
    "duration": 25,
    "start_time": "2024-09-17T09:04:50.051Z"
   },
   {
    "duration": 15,
    "start_time": "2024-09-17T09:04:50.078Z"
   },
   {
    "duration": 81,
    "start_time": "2024-09-17T09:04:50.094Z"
   },
   {
    "duration": 178,
    "start_time": "2024-09-17T09:04:50.177Z"
   },
   {
    "duration": 4,
    "start_time": "2024-09-17T09:04:50.356Z"
   },
   {
    "duration": 31,
    "start_time": "2024-09-17T09:04:50.361Z"
   },
   {
    "duration": 43,
    "start_time": "2024-09-17T09:04:50.394Z"
   },
   {
    "duration": 205,
    "start_time": "2024-09-17T09:04:50.439Z"
   },
   {
    "duration": 3,
    "start_time": "2024-09-17T09:04:50.647Z"
   },
   {
    "duration": 39,
    "start_time": "2024-09-17T09:04:50.651Z"
   },
   {
    "duration": 16,
    "start_time": "2024-09-17T09:04:50.692Z"
   },
   {
    "duration": 42,
    "start_time": "2024-09-17T09:04:50.709Z"
   },
   {
    "duration": 139,
    "start_time": "2024-09-17T09:04:50.753Z"
   },
   {
    "duration": 3,
    "start_time": "2024-09-17T09:04:50.894Z"
   },
   {
    "duration": 40,
    "start_time": "2024-09-17T09:04:50.899Z"
   },
   {
    "duration": 59,
    "start_time": "2024-09-17T09:04:50.940Z"
   },
   {
    "duration": 130,
    "start_time": "2024-09-17T09:04:51.000Z"
   },
   {
    "duration": 133,
    "start_time": "2024-09-17T09:04:51.131Z"
   },
   {
    "duration": 134,
    "start_time": "2024-09-17T09:04:51.265Z"
   },
   {
    "duration": 149,
    "start_time": "2024-09-17T09:04:51.401Z"
   },
   {
    "duration": 130,
    "start_time": "2024-09-17T09:04:51.551Z"
   },
   {
    "duration": 166,
    "start_time": "2024-09-17T09:04:51.683Z"
   },
   {
    "duration": 5,
    "start_time": "2024-09-17T09:04:51.851Z"
   },
   {
    "duration": 31,
    "start_time": "2024-09-17T09:04:51.857Z"
   },
   {
    "duration": 27,
    "start_time": "2024-09-17T09:04:51.891Z"
   },
   {
    "duration": 16,
    "start_time": "2024-09-17T09:04:51.920Z"
   },
   {
    "duration": 30,
    "start_time": "2024-09-17T09:04:51.937Z"
   },
   {
    "duration": 34,
    "start_time": "2024-09-17T09:04:51.969Z"
   },
   {
    "duration": 138,
    "start_time": "2024-09-17T09:04:52.005Z"
   },
   {
    "duration": 10,
    "start_time": "2024-09-17T09:04:52.145Z"
   },
   {
    "duration": 21,
    "start_time": "2024-09-17T09:04:52.157Z"
   },
   {
    "duration": 16,
    "start_time": "2024-09-17T09:04:52.180Z"
   },
   {
    "duration": 34,
    "start_time": "2024-09-17T09:04:52.198Z"
   },
   {
    "duration": 160,
    "start_time": "2024-09-17T09:04:52.234Z"
   },
   {
    "duration": 16,
    "start_time": "2024-09-17T09:04:52.396Z"
   },
   {
    "duration": 17,
    "start_time": "2024-09-17T09:04:52.414Z"
   },
   {
    "duration": 52,
    "start_time": "2024-09-17T09:04:52.432Z"
   },
   {
    "duration": 24,
    "start_time": "2024-09-17T09:04:52.485Z"
   },
   {
    "duration": 185,
    "start_time": "2024-09-17T09:04:52.511Z"
   },
   {
    "duration": 4,
    "start_time": "2024-09-17T09:04:52.697Z"
   },
   {
    "duration": 27,
    "start_time": "2024-09-17T09:04:52.703Z"
   },
   {
    "duration": 21,
    "start_time": "2024-09-17T09:04:52.732Z"
   },
   {
    "duration": 4,
    "start_time": "2024-09-17T09:04:52.756Z"
   },
   {
    "duration": 60,
    "start_time": "2024-09-17T09:04:52.761Z"
   },
   {
    "duration": 21,
    "start_time": "2024-09-17T09:04:52.823Z"
   },
   {
    "duration": 15,
    "start_time": "2024-09-17T09:04:52.850Z"
   },
   {
    "duration": 214,
    "start_time": "2024-09-17T09:04:52.867Z"
   },
   {
    "duration": 10,
    "start_time": "2024-09-17T09:04:53.089Z"
   },
   {
    "duration": 14,
    "start_time": "2024-09-17T09:04:53.101Z"
   },
   {
    "duration": 163,
    "start_time": "2024-09-17T09:04:53.117Z"
   },
   {
    "duration": 14,
    "start_time": "2024-09-17T09:04:53.281Z"
   },
   {
    "duration": 11,
    "start_time": "2024-09-17T09:04:53.296Z"
   },
   {
    "duration": 144,
    "start_time": "2024-09-17T09:04:53.309Z"
   },
   {
    "duration": 9,
    "start_time": "2024-09-17T09:04:53.454Z"
   },
   {
    "duration": 12,
    "start_time": "2024-09-17T09:04:53.465Z"
   },
   {
    "duration": 160,
    "start_time": "2024-09-17T09:04:53.489Z"
   },
   {
    "duration": 8,
    "start_time": "2024-09-17T09:04:53.651Z"
   },
   {
    "duration": 22,
    "start_time": "2024-09-17T09:04:53.661Z"
   },
   {
    "duration": 142,
    "start_time": "2024-09-17T09:04:53.684Z"
   },
   {
    "duration": 4,
    "start_time": "2024-09-17T09:04:53.828Z"
   },
   {
    "duration": 29,
    "start_time": "2024-09-17T09:04:53.834Z"
   },
   {
    "duration": 25,
    "start_time": "2024-09-17T09:04:53.864Z"
   },
   {
    "duration": 66,
    "start_time": "2024-09-17T09:04:53.891Z"
   },
   {
    "duration": 189,
    "start_time": "2024-09-17T09:04:53.959Z"
   },
   {
    "duration": 9,
    "start_time": "2024-09-17T09:04:54.149Z"
   },
   {
    "duration": 14,
    "start_time": "2024-09-17T09:04:54.160Z"
   },
   {
    "duration": 316,
    "start_time": "2024-09-17T09:04:54.175Z"
   },
   {
    "duration": 401,
    "start_time": "2024-09-17T09:08:25.617Z"
   },
   {
    "duration": 2,
    "start_time": "2024-09-17T09:08:26.020Z"
   },
   {
    "duration": 105,
    "start_time": "2024-09-17T09:08:26.024Z"
   },
   {
    "duration": 2,
    "start_time": "2024-09-17T09:08:26.130Z"
   },
   {
    "duration": 68,
    "start_time": "2024-09-17T09:08:26.134Z"
   },
   {
    "duration": 14,
    "start_time": "2024-09-17T09:08:26.203Z"
   },
   {
    "duration": 2072,
    "start_time": "2024-09-17T09:08:26.218Z"
   },
   {
    "duration": 10,
    "start_time": "2024-09-17T09:08:28.292Z"
   },
   {
    "duration": 21,
    "start_time": "2024-09-17T09:08:28.303Z"
   },
   {
    "duration": 4,
    "start_time": "2024-09-17T09:08:28.326Z"
   },
   {
    "duration": 4,
    "start_time": "2024-09-17T09:08:28.331Z"
   },
   {
    "duration": 3,
    "start_time": "2024-09-17T09:08:28.337Z"
   },
   {
    "duration": 12,
    "start_time": "2024-09-17T09:08:28.342Z"
   },
   {
    "duration": 5,
    "start_time": "2024-09-17T09:08:28.357Z"
   },
   {
    "duration": 15,
    "start_time": "2024-09-17T09:08:28.363Z"
   },
   {
    "duration": 15,
    "start_time": "2024-09-17T09:08:28.380Z"
   },
   {
    "duration": 7,
    "start_time": "2024-09-17T09:08:28.397Z"
   },
   {
    "duration": 18,
    "start_time": "2024-09-17T09:08:28.406Z"
   },
   {
    "duration": 7,
    "start_time": "2024-09-17T09:08:28.425Z"
   },
   {
    "duration": 5,
    "start_time": "2024-09-17T09:08:28.433Z"
   },
   {
    "duration": 85,
    "start_time": "2024-09-17T09:08:28.439Z"
   },
   {
    "duration": 5,
    "start_time": "2024-09-17T09:08:28.525Z"
   },
   {
    "duration": 17,
    "start_time": "2024-09-17T09:08:28.531Z"
   },
   {
    "duration": 3,
    "start_time": "2024-09-17T09:08:28.549Z"
   },
   {
    "duration": 4,
    "start_time": "2024-09-17T09:08:28.554Z"
   },
   {
    "duration": 3,
    "start_time": "2024-09-17T09:08:28.559Z"
   },
   {
    "duration": 9,
    "start_time": "2024-09-17T09:08:28.564Z"
   },
   {
    "duration": 19,
    "start_time": "2024-09-17T09:08:28.574Z"
   },
   {
    "duration": 16,
    "start_time": "2024-09-17T09:08:28.595Z"
   },
   {
    "duration": 116,
    "start_time": "2024-09-17T09:08:28.612Z"
   },
   {
    "duration": 4,
    "start_time": "2024-09-17T09:08:28.729Z"
   },
   {
    "duration": 4,
    "start_time": "2024-09-17T09:08:28.734Z"
   },
   {
    "duration": 7,
    "start_time": "2024-09-17T09:08:28.740Z"
   },
   {
    "duration": 8,
    "start_time": "2024-09-17T09:08:28.748Z"
   },
   {
    "duration": 143,
    "start_time": "2024-09-17T09:08:28.758Z"
   },
   {
    "duration": 3,
    "start_time": "2024-09-17T09:08:28.903Z"
   },
   {
    "duration": 4,
    "start_time": "2024-09-17T09:08:28.908Z"
   },
   {
    "duration": 5,
    "start_time": "2024-09-17T09:08:28.913Z"
   },
   {
    "duration": 5,
    "start_time": "2024-09-17T09:08:28.920Z"
   },
   {
    "duration": 139,
    "start_time": "2024-09-17T09:08:28.927Z"
   },
   {
    "duration": 4,
    "start_time": "2024-09-17T09:08:29.147Z"
   },
   {
    "duration": 7,
    "start_time": "2024-09-17T09:08:29.152Z"
   },
   {
    "duration": 11,
    "start_time": "2024-09-17T09:08:29.160Z"
   },
   {
    "duration": 124,
    "start_time": "2024-09-17T09:08:29.173Z"
   },
   {
    "duration": 2,
    "start_time": "2024-09-17T09:08:29.298Z"
   },
   {
    "duration": 24,
    "start_time": "2024-09-17T09:08:29.302Z"
   },
   {
    "duration": 7,
    "start_time": "2024-09-17T09:08:29.328Z"
   },
   {
    "duration": 10,
    "start_time": "2024-09-17T09:08:29.336Z"
   },
   {
    "duration": 127,
    "start_time": "2024-09-17T09:08:29.347Z"
   },
   {
    "duration": 4,
    "start_time": "2024-09-17T09:08:29.476Z"
   },
   {
    "duration": 25,
    "start_time": "2024-09-17T09:08:29.481Z"
   },
   {
    "duration": 5,
    "start_time": "2024-09-17T09:08:29.507Z"
   },
   {
    "duration": 104,
    "start_time": "2024-09-17T09:08:29.513Z"
   },
   {
    "duration": 118,
    "start_time": "2024-09-17T09:08:29.619Z"
   },
   {
    "duration": 136,
    "start_time": "2024-09-17T09:08:29.739Z"
   },
   {
    "duration": 129,
    "start_time": "2024-09-17T09:08:29.877Z"
   },
   {
    "duration": 136,
    "start_time": "2024-09-17T09:08:30.008Z"
   },
   {
    "duration": 164,
    "start_time": "2024-09-17T09:08:30.145Z"
   },
   {
    "duration": 4,
    "start_time": "2024-09-17T09:08:30.311Z"
   },
   {
    "duration": 39,
    "start_time": "2024-09-17T09:08:30.317Z"
   },
   {
    "duration": 45,
    "start_time": "2024-09-17T09:08:30.358Z"
   },
   {
    "duration": 9,
    "start_time": "2024-09-17T09:08:30.405Z"
   },
   {
    "duration": 46,
    "start_time": "2024-09-17T09:08:30.415Z"
   },
   {
    "duration": 27,
    "start_time": "2024-09-17T09:08:30.462Z"
   },
   {
    "duration": 132,
    "start_time": "2024-09-17T09:08:30.491Z"
   },
   {
    "duration": 11,
    "start_time": "2024-09-17T09:08:30.625Z"
   },
   {
    "duration": 7,
    "start_time": "2024-09-17T09:08:30.637Z"
   },
   {
    "duration": 24,
    "start_time": "2024-09-17T09:08:30.645Z"
   },
   {
    "duration": 46,
    "start_time": "2024-09-17T09:08:30.671Z"
   },
   {
    "duration": 130,
    "start_time": "2024-09-17T09:08:30.719Z"
   },
   {
    "duration": 11,
    "start_time": "2024-09-17T09:08:30.851Z"
   },
   {
    "duration": 7,
    "start_time": "2024-09-17T09:08:30.863Z"
   },
   {
    "duration": 25,
    "start_time": "2024-09-17T09:08:30.871Z"
   },
   {
    "duration": 28,
    "start_time": "2024-09-17T09:08:30.898Z"
   },
   {
    "duration": 131,
    "start_time": "2024-09-17T09:08:30.928Z"
   },
   {
    "duration": 4,
    "start_time": "2024-09-17T09:08:31.060Z"
   },
   {
    "duration": 27,
    "start_time": "2024-09-17T09:08:31.066Z"
   },
   {
    "duration": 47,
    "start_time": "2024-09-17T09:08:31.094Z"
   },
   {
    "duration": 14,
    "start_time": "2024-09-17T09:08:31.142Z"
   },
   {
    "duration": 32,
    "start_time": "2024-09-17T09:08:31.157Z"
   },
   {
    "duration": 34,
    "start_time": "2024-09-17T09:08:31.191Z"
   },
   {
    "duration": 13,
    "start_time": "2024-09-17T09:08:31.226Z"
   },
   {
    "duration": 194,
    "start_time": "2024-09-17T09:08:31.241Z"
   },
   {
    "duration": 10,
    "start_time": "2024-09-17T09:08:31.436Z"
   },
   {
    "duration": 29,
    "start_time": "2024-09-17T09:08:31.447Z"
   },
   {
    "duration": 153,
    "start_time": "2024-09-17T09:08:31.478Z"
   },
   {
    "duration": 8,
    "start_time": "2024-09-17T09:08:31.633Z"
   },
   {
    "duration": 7,
    "start_time": "2024-09-17T09:08:31.642Z"
   },
   {
    "duration": 142,
    "start_time": "2024-09-17T09:08:31.650Z"
   },
   {
    "duration": 9,
    "start_time": "2024-09-17T09:08:31.794Z"
   },
   {
    "duration": 18,
    "start_time": "2024-09-17T09:08:31.805Z"
   },
   {
    "duration": 172,
    "start_time": "2024-09-17T09:08:31.825Z"
   },
   {
    "duration": 8,
    "start_time": "2024-09-17T09:08:31.999Z"
   },
   {
    "duration": 29,
    "start_time": "2024-09-17T09:08:32.008Z"
   },
   {
    "duration": 125,
    "start_time": "2024-09-17T09:08:32.038Z"
   },
   {
    "duration": 4,
    "start_time": "2024-09-17T09:08:32.164Z"
   },
   {
    "duration": 69,
    "start_time": "2024-09-17T09:08:32.169Z"
   },
   {
    "duration": 3,
    "start_time": "2024-09-17T09:08:32.240Z"
   },
   {
    "duration": 12,
    "start_time": "2024-09-17T09:08:32.245Z"
   },
   {
    "duration": 183,
    "start_time": "2024-09-17T09:08:32.258Z"
   },
   {
    "duration": 7,
    "start_time": "2024-09-17T09:08:32.443Z"
   },
   {
    "duration": 5,
    "start_time": "2024-09-17T09:08:32.452Z"
   },
   {
    "duration": 320,
    "start_time": "2024-09-17T09:08:32.458Z"
   },
   {
    "duration": 66,
    "start_time": "2024-09-17T10:19:12.870Z"
   },
   {
    "duration": 129,
    "start_time": "2024-09-17T10:20:22.402Z"
   },
   {
    "duration": 129,
    "start_time": "2024-09-17T10:20:30.250Z"
   },
   {
    "duration": 114,
    "start_time": "2024-09-17T10:20:37.502Z"
   },
   {
    "duration": 176,
    "start_time": "2024-09-17T10:20:42.992Z"
   },
   {
    "duration": 120,
    "start_time": "2024-09-17T10:20:48.553Z"
   },
   {
    "duration": 103,
    "start_time": "2024-09-17T10:20:58.464Z"
   },
   {
    "duration": 122,
    "start_time": "2024-09-17T10:21:04.381Z"
   },
   {
    "duration": 143,
    "start_time": "2024-09-17T10:21:11.307Z"
   },
   {
    "duration": 126,
    "start_time": "2024-09-17T10:21:16.259Z"
   },
   {
    "duration": 281,
    "start_time": "2024-09-17T10:21:26.483Z"
   },
   {
    "duration": 429,
    "start_time": "2024-09-17T10:29:18.084Z"
   },
   {
    "duration": 2,
    "start_time": "2024-09-17T10:29:18.515Z"
   },
   {
    "duration": 129,
    "start_time": "2024-09-17T10:29:18.518Z"
   },
   {
    "duration": 3,
    "start_time": "2024-09-17T10:29:18.648Z"
   },
   {
    "duration": 52,
    "start_time": "2024-09-17T10:29:18.653Z"
   },
   {
    "duration": 13,
    "start_time": "2024-09-17T10:29:18.706Z"
   },
   {
    "duration": 2085,
    "start_time": "2024-09-17T10:29:18.721Z"
   },
   {
    "duration": 9,
    "start_time": "2024-09-17T10:29:20.808Z"
   },
   {
    "duration": 27,
    "start_time": "2024-09-17T10:29:20.818Z"
   },
   {
    "duration": 32,
    "start_time": "2024-09-17T10:29:20.847Z"
   },
   {
    "duration": 40,
    "start_time": "2024-09-17T10:29:20.880Z"
   },
   {
    "duration": 21,
    "start_time": "2024-09-17T10:29:20.922Z"
   },
   {
    "duration": 24,
    "start_time": "2024-09-17T10:29:20.944Z"
   },
   {
    "duration": 5,
    "start_time": "2024-09-17T10:29:20.970Z"
   },
   {
    "duration": 19,
    "start_time": "2024-09-17T10:29:20.976Z"
   },
   {
    "duration": 11,
    "start_time": "2024-09-17T10:29:20.997Z"
   },
   {
    "duration": 13,
    "start_time": "2024-09-17T10:29:21.009Z"
   },
   {
    "duration": 31,
    "start_time": "2024-09-17T10:29:21.024Z"
   },
   {
    "duration": 15,
    "start_time": "2024-09-17T10:29:21.057Z"
   },
   {
    "duration": 15,
    "start_time": "2024-09-17T10:29:21.073Z"
   },
   {
    "duration": 67,
    "start_time": "2024-09-17T10:29:21.090Z"
   },
   {
    "duration": 5,
    "start_time": "2024-09-17T10:29:21.158Z"
   },
   {
    "duration": 16,
    "start_time": "2024-09-17T10:29:21.165Z"
   },
   {
    "duration": 3,
    "start_time": "2024-09-17T10:29:21.183Z"
   },
   {
    "duration": 27,
    "start_time": "2024-09-17T10:29:21.189Z"
   },
   {
    "duration": 4,
    "start_time": "2024-09-17T10:29:21.218Z"
   },
   {
    "duration": 4,
    "start_time": "2024-09-17T10:29:21.223Z"
   },
   {
    "duration": 14,
    "start_time": "2024-09-17T10:29:21.231Z"
   },
   {
    "duration": 14,
    "start_time": "2024-09-17T10:29:21.246Z"
   },
   {
    "duration": 108,
    "start_time": "2024-09-17T10:29:21.262Z"
   },
   {
    "duration": 2,
    "start_time": "2024-09-17T10:29:21.372Z"
   },
   {
    "duration": 4,
    "start_time": "2024-09-17T10:29:21.376Z"
   },
   {
    "duration": 14,
    "start_time": "2024-09-17T10:29:21.381Z"
   },
   {
    "duration": 5,
    "start_time": "2024-09-17T10:29:21.396Z"
   },
   {
    "duration": 127,
    "start_time": "2024-09-17T10:29:21.402Z"
   },
   {
    "duration": 3,
    "start_time": "2024-09-17T10:29:21.531Z"
   },
   {
    "duration": 22,
    "start_time": "2024-09-17T10:29:21.535Z"
   },
   {
    "duration": 24,
    "start_time": "2024-09-17T10:29:21.558Z"
   },
   {
    "duration": 5,
    "start_time": "2024-09-17T10:29:21.583Z"
   },
   {
    "duration": 120,
    "start_time": "2024-09-17T10:29:21.590Z"
   },
   {
    "duration": 4,
    "start_time": "2024-09-17T10:29:21.711Z"
   },
   {
    "duration": 17,
    "start_time": "2024-09-17T10:29:21.716Z"
   },
   {
    "duration": 17,
    "start_time": "2024-09-17T10:29:21.734Z"
   },
   {
    "duration": 210,
    "start_time": "2024-09-17T10:29:21.752Z"
   },
   {
    "duration": 3,
    "start_time": "2024-09-17T10:29:21.963Z"
   },
   {
    "duration": 12,
    "start_time": "2024-09-17T10:29:21.967Z"
   },
   {
    "duration": 14,
    "start_time": "2024-09-17T10:29:21.980Z"
   },
   {
    "duration": 10,
    "start_time": "2024-09-17T10:29:21.995Z"
   },
   {
    "duration": 136,
    "start_time": "2024-09-17T10:29:22.006Z"
   },
   {
    "duration": 4,
    "start_time": "2024-09-17T10:29:22.143Z"
   },
   {
    "duration": 12,
    "start_time": "2024-09-17T10:29:22.148Z"
   },
   {
    "duration": 11,
    "start_time": "2024-09-17T10:29:22.161Z"
   },
   {
    "duration": 119,
    "start_time": "2024-09-17T10:29:22.174Z"
   },
   {
    "duration": 119,
    "start_time": "2024-09-17T10:29:22.294Z"
   },
   {
    "duration": 130,
    "start_time": "2024-09-17T10:29:22.414Z"
   },
   {
    "duration": 130,
    "start_time": "2024-09-17T10:29:22.545Z"
   },
   {
    "duration": 123,
    "start_time": "2024-09-17T10:29:22.676Z"
   },
   {
    "duration": 144,
    "start_time": "2024-09-17T10:29:22.801Z"
   },
   {
    "duration": 4,
    "start_time": "2024-09-17T10:29:22.947Z"
   },
   {
    "duration": 14,
    "start_time": "2024-09-17T10:29:22.952Z"
   },
   {
    "duration": 32,
    "start_time": "2024-09-17T10:29:22.967Z"
   },
   {
    "duration": 5,
    "start_time": "2024-09-17T10:29:23.001Z"
   },
   {
    "duration": 34,
    "start_time": "2024-09-17T10:29:23.008Z"
   },
   {
    "duration": 10,
    "start_time": "2024-09-17T10:29:23.043Z"
   },
   {
    "duration": 132,
    "start_time": "2024-09-17T10:29:23.054Z"
   },
   {
    "duration": 10,
    "start_time": "2024-09-17T10:29:23.189Z"
   },
   {
    "duration": 7,
    "start_time": "2024-09-17T10:29:23.201Z"
   },
   {
    "duration": 10,
    "start_time": "2024-09-17T10:29:23.210Z"
   },
   {
    "duration": 9,
    "start_time": "2024-09-17T10:29:23.222Z"
   },
   {
    "duration": 136,
    "start_time": "2024-09-17T10:29:23.232Z"
   },
   {
    "duration": 10,
    "start_time": "2024-09-17T10:29:23.369Z"
   },
   {
    "duration": 6,
    "start_time": "2024-09-17T10:29:23.390Z"
   },
   {
    "duration": 30,
    "start_time": "2024-09-17T10:29:23.397Z"
   },
   {
    "duration": 20,
    "start_time": "2024-09-17T10:29:23.428Z"
   },
   {
    "duration": 109,
    "start_time": "2024-09-17T10:29:23.449Z"
   },
   {
    "duration": 4,
    "start_time": "2024-09-17T10:29:23.559Z"
   },
   {
    "duration": 12,
    "start_time": "2024-09-17T10:29:23.564Z"
   },
   {
    "duration": 25,
    "start_time": "2024-09-17T10:29:23.577Z"
   },
   {
    "duration": 5,
    "start_time": "2024-09-17T10:29:23.603Z"
   },
   {
    "duration": 11,
    "start_time": "2024-09-17T10:29:23.610Z"
   },
   {
    "duration": 7,
    "start_time": "2024-09-17T10:29:23.623Z"
   },
   {
    "duration": 6,
    "start_time": "2024-09-17T10:29:23.635Z"
   },
   {
    "duration": 195,
    "start_time": "2024-09-17T10:29:23.643Z"
   },
   {
    "duration": 9,
    "start_time": "2024-09-17T10:29:23.839Z"
   },
   {
    "duration": 14,
    "start_time": "2024-09-17T10:29:23.850Z"
   },
   {
    "duration": 114,
    "start_time": "2024-09-17T10:29:23.865Z"
   },
   {
    "duration": 12,
    "start_time": "2024-09-17T10:29:23.981Z"
   },
   {
    "duration": 7,
    "start_time": "2024-09-17T10:29:23.995Z"
   },
   {
    "duration": 139,
    "start_time": "2024-09-17T10:29:24.003Z"
   },
   {
    "duration": 9,
    "start_time": "2024-09-17T10:29:24.144Z"
   },
   {
    "duration": 16,
    "start_time": "2024-09-17T10:29:24.154Z"
   },
   {
    "duration": 157,
    "start_time": "2024-09-17T10:29:24.171Z"
   },
   {
    "duration": 9,
    "start_time": "2024-09-17T10:29:24.329Z"
   },
   {
    "duration": 61,
    "start_time": "2024-09-17T10:29:24.340Z"
   },
   {
    "duration": 118,
    "start_time": "2024-09-17T10:29:24.402Z"
   },
   {
    "duration": 3,
    "start_time": "2024-09-17T10:29:24.522Z"
   },
   {
    "duration": 19,
    "start_time": "2024-09-17T10:29:24.527Z"
   },
   {
    "duration": 4,
    "start_time": "2024-09-17T10:29:24.548Z"
   },
   {
    "duration": 13,
    "start_time": "2024-09-17T10:29:24.554Z"
   },
   {
    "duration": 189,
    "start_time": "2024-09-17T10:29:24.569Z"
   },
   {
    "duration": 8,
    "start_time": "2024-09-17T10:29:24.760Z"
   },
   {
    "duration": 6,
    "start_time": "2024-09-17T10:29:24.769Z"
   },
   {
    "duration": 287,
    "start_time": "2024-09-17T10:29:24.790Z"
   },
   {
    "duration": 434,
    "start_time": "2024-09-17T10:29:49.676Z"
   },
   {
    "duration": 105,
    "start_time": "2024-09-17T10:29:50.111Z"
   },
   {
    "duration": 4,
    "start_time": "2024-09-17T10:29:50.218Z"
   },
   {
    "duration": 66,
    "start_time": "2024-09-17T10:29:50.224Z"
   },
   {
    "duration": 13,
    "start_time": "2024-09-17T10:29:50.292Z"
   },
   {
    "duration": 2052,
    "start_time": "2024-09-17T10:29:50.306Z"
   },
   {
    "duration": 9,
    "start_time": "2024-09-17T10:29:52.360Z"
   },
   {
    "duration": 41,
    "start_time": "2024-09-17T10:29:52.370Z"
   },
   {
    "duration": 30,
    "start_time": "2024-09-17T10:29:52.413Z"
   },
   {
    "duration": 13,
    "start_time": "2024-09-17T10:29:52.445Z"
   },
   {
    "duration": 20,
    "start_time": "2024-09-17T10:29:52.459Z"
   },
   {
    "duration": 24,
    "start_time": "2024-09-17T10:29:52.480Z"
   },
   {
    "duration": 5,
    "start_time": "2024-09-17T10:29:52.506Z"
   },
   {
    "duration": 18,
    "start_time": "2024-09-17T10:29:52.512Z"
   },
   {
    "duration": 32,
    "start_time": "2024-09-17T10:29:52.531Z"
   },
   {
    "duration": 21,
    "start_time": "2024-09-17T10:29:52.564Z"
   },
   {
    "duration": 23,
    "start_time": "2024-09-17T10:29:52.586Z"
   },
   {
    "duration": 24,
    "start_time": "2024-09-17T10:29:52.610Z"
   },
   {
    "duration": 19,
    "start_time": "2024-09-17T10:29:52.636Z"
   },
   {
    "duration": 89,
    "start_time": "2024-09-17T10:29:52.657Z"
   },
   {
    "duration": 6,
    "start_time": "2024-09-17T10:29:52.747Z"
   },
   {
    "duration": 31,
    "start_time": "2024-09-17T10:29:52.754Z"
   },
   {
    "duration": 13,
    "start_time": "2024-09-17T10:29:52.786Z"
   },
   {
    "duration": 20,
    "start_time": "2024-09-17T10:29:52.800Z"
   },
   {
    "duration": 14,
    "start_time": "2024-09-17T10:29:52.822Z"
   },
   {
    "duration": 19,
    "start_time": "2024-09-17T10:29:52.838Z"
   },
   {
    "duration": 21,
    "start_time": "2024-09-17T10:29:52.858Z"
   },
   {
    "duration": 18,
    "start_time": "2024-09-17T10:29:52.883Z"
   },
   {
    "duration": 132,
    "start_time": "2024-09-17T10:29:52.902Z"
   },
   {
    "duration": 4,
    "start_time": "2024-09-17T10:29:53.036Z"
   },
   {
    "duration": 8,
    "start_time": "2024-09-17T10:29:53.041Z"
   },
   {
    "duration": 10,
    "start_time": "2024-09-17T10:29:53.050Z"
   },
   {
    "duration": 44,
    "start_time": "2024-09-17T10:29:53.061Z"
   },
   {
    "duration": 166,
    "start_time": "2024-09-17T10:29:53.107Z"
   },
   {
    "duration": 4,
    "start_time": "2024-09-17T10:29:53.274Z"
   },
   {
    "duration": 12,
    "start_time": "2024-09-17T10:29:53.279Z"
   },
   {
    "duration": 22,
    "start_time": "2024-09-17T10:29:53.293Z"
   },
   {
    "duration": 7,
    "start_time": "2024-09-17T10:29:53.316Z"
   },
   {
    "duration": 123,
    "start_time": "2024-09-17T10:29:53.324Z"
   },
   {
    "duration": 4,
    "start_time": "2024-09-17T10:29:53.450Z"
   },
   {
    "duration": 8,
    "start_time": "2024-09-17T10:29:53.455Z"
   },
   {
    "duration": 10,
    "start_time": "2024-09-17T10:29:53.464Z"
   },
   {
    "duration": 201,
    "start_time": "2024-09-17T10:29:53.490Z"
   },
   {
    "duration": 3,
    "start_time": "2024-09-17T10:29:53.692Z"
   },
   {
    "duration": 36,
    "start_time": "2024-09-17T10:29:53.697Z"
   },
   {
    "duration": 19,
    "start_time": "2024-09-17T10:29:53.735Z"
   },
   {
    "duration": 12,
    "start_time": "2024-09-17T10:29:53.756Z"
   },
   {
    "duration": 133,
    "start_time": "2024-09-17T10:29:53.769Z"
   },
   {
    "duration": 4,
    "start_time": "2024-09-17T10:29:53.903Z"
   },
   {
    "duration": 32,
    "start_time": "2024-09-17T10:29:53.908Z"
   },
   {
    "duration": 22,
    "start_time": "2024-09-17T10:29:53.941Z"
   },
   {
    "duration": 101,
    "start_time": "2024-09-17T10:29:53.964Z"
   },
   {
    "duration": 114,
    "start_time": "2024-09-17T10:29:54.066Z"
   },
   {
    "duration": 127,
    "start_time": "2024-09-17T10:29:54.182Z"
   },
   {
    "duration": 129,
    "start_time": "2024-09-17T10:29:54.310Z"
   },
   {
    "duration": 126,
    "start_time": "2024-09-17T10:29:54.440Z"
   },
   {
    "duration": 142,
    "start_time": "2024-09-17T10:29:54.567Z"
   },
   {
    "duration": 4,
    "start_time": "2024-09-17T10:29:54.711Z"
   },
   {
    "duration": 11,
    "start_time": "2024-09-17T10:29:54.716Z"
   },
   {
    "duration": 31,
    "start_time": "2024-09-17T10:29:54.728Z"
   },
   {
    "duration": 21,
    "start_time": "2024-09-17T10:29:54.761Z"
   },
   {
    "duration": 32,
    "start_time": "2024-09-17T10:29:54.784Z"
   },
   {
    "duration": 18,
    "start_time": "2024-09-17T10:29:54.818Z"
   },
   {
    "duration": 160,
    "start_time": "2024-09-17T10:29:54.838Z"
   },
   {
    "duration": 12,
    "start_time": "2024-09-17T10:29:54.999Z"
   },
   {
    "duration": 37,
    "start_time": "2024-09-17T10:29:55.013Z"
   },
   {
    "duration": 24,
    "start_time": "2024-09-17T10:29:55.051Z"
   },
   {
    "duration": 7,
    "start_time": "2024-09-17T10:29:55.077Z"
   },
   {
    "duration": 119,
    "start_time": "2024-09-17T10:29:55.086Z"
   },
   {
    "duration": 12,
    "start_time": "2024-09-17T10:29:55.207Z"
   },
   {
    "duration": 24,
    "start_time": "2024-09-17T10:29:55.221Z"
   },
   {
    "duration": 21,
    "start_time": "2024-09-17T10:29:55.247Z"
   },
   {
    "duration": 23,
    "start_time": "2024-09-17T10:29:55.270Z"
   },
   {
    "duration": 114,
    "start_time": "2024-09-17T10:29:55.295Z"
   },
   {
    "duration": 5,
    "start_time": "2024-09-17T10:29:55.411Z"
   },
   {
    "duration": 14,
    "start_time": "2024-09-17T10:29:55.417Z"
   },
   {
    "duration": 25,
    "start_time": "2024-09-17T10:29:55.432Z"
   },
   {
    "duration": 13,
    "start_time": "2024-09-17T10:29:55.459Z"
   },
   {
    "duration": 6,
    "start_time": "2024-09-17T10:29:55.473Z"
   },
   {
    "duration": 8,
    "start_time": "2024-09-17T10:29:55.480Z"
   },
   {
    "duration": 18,
    "start_time": "2024-09-17T10:29:55.489Z"
   },
   {
    "duration": 187,
    "start_time": "2024-09-17T10:29:55.513Z"
   },
   {
    "duration": 11,
    "start_time": "2024-09-17T10:29:55.702Z"
   },
   {
    "duration": 20,
    "start_time": "2024-09-17T10:29:55.715Z"
   },
   {
    "duration": 125,
    "start_time": "2024-09-17T10:29:55.736Z"
   },
   {
    "duration": 9,
    "start_time": "2024-09-17T10:29:55.863Z"
   },
   {
    "duration": 16,
    "start_time": "2024-09-17T10:29:55.874Z"
   },
   {
    "duration": 127,
    "start_time": "2024-09-17T10:29:55.892Z"
   },
   {
    "duration": 8,
    "start_time": "2024-09-17T10:29:56.021Z"
   },
   {
    "duration": 6,
    "start_time": "2024-09-17T10:29:56.031Z"
   },
   {
    "duration": 155,
    "start_time": "2024-09-17T10:29:56.038Z"
   },
   {
    "duration": 8,
    "start_time": "2024-09-17T10:29:56.195Z"
   },
   {
    "duration": 6,
    "start_time": "2024-09-17T10:29:56.204Z"
   },
   {
    "duration": 134,
    "start_time": "2024-09-17T10:29:56.212Z"
   },
   {
    "duration": 3,
    "start_time": "2024-09-17T10:29:56.348Z"
   },
   {
    "duration": 72,
    "start_time": "2024-09-17T10:29:56.353Z"
   },
   {
    "duration": 17,
    "start_time": "2024-09-17T10:29:56.427Z"
   },
   {
    "duration": 14,
    "start_time": "2024-09-17T10:29:56.445Z"
   },
   {
    "duration": 175,
    "start_time": "2024-09-17T10:29:56.461Z"
   },
   {
    "duration": 7,
    "start_time": "2024-09-17T10:29:56.638Z"
   },
   {
    "duration": 8,
    "start_time": "2024-09-17T10:29:56.647Z"
   },
   {
    "duration": 303,
    "start_time": "2024-09-17T10:29:56.657Z"
   },
   {
    "duration": 1013,
    "start_time": "2024-09-17T19:05:12.998Z"
   },
   {
    "duration": 290,
    "start_time": "2024-09-17T19:05:14.014Z"
   },
   {
    "duration": 5,
    "start_time": "2024-09-17T19:05:14.305Z"
   },
   {
    "duration": 193,
    "start_time": "2024-09-17T19:05:14.311Z"
   },
   {
    "duration": 84,
    "start_time": "2024-09-17T19:05:14.507Z"
   },
   {
    "duration": 8000,
    "start_time": "2024-09-17T19:05:14.601Z"
   },
   {
    "duration": 12,
    "start_time": "2024-09-17T19:05:22.603Z"
   },
   {
    "duration": 98,
    "start_time": "2024-09-17T19:05:22.617Z"
   },
   {
    "duration": 75,
    "start_time": "2024-09-17T19:05:22.716Z"
   },
   {
    "duration": 3,
    "start_time": "2024-09-17T19:05:22.793Z"
   },
   {
    "duration": 88,
    "start_time": "2024-09-17T19:05:22.802Z"
   },
   {
    "duration": 22,
    "start_time": "2024-09-17T19:05:22.893Z"
   },
   {
    "duration": 5,
    "start_time": "2024-09-17T19:05:22.917Z"
   },
   {
    "duration": 7,
    "start_time": "2024-09-17T19:05:22.991Z"
   },
   {
    "duration": 13,
    "start_time": "2024-09-17T19:05:23.000Z"
   },
   {
    "duration": 85,
    "start_time": "2024-09-17T19:05:23.014Z"
   },
   {
    "duration": 92,
    "start_time": "2024-09-17T19:05:23.103Z"
   },
   {
    "duration": 10,
    "start_time": "2024-09-17T19:05:23.197Z"
   },
   {
    "duration": 84,
    "start_time": "2024-09-17T19:05:23.209Z"
   },
   {
    "duration": 307,
    "start_time": "2024-09-17T19:05:23.294Z"
   },
   {
    "duration": 8,
    "start_time": "2024-09-17T19:05:23.605Z"
   },
   {
    "duration": 4,
    "start_time": "2024-09-17T19:05:23.615Z"
   },
   {
    "duration": 11,
    "start_time": "2024-09-17T19:05:23.690Z"
   },
   {
    "duration": 13,
    "start_time": "2024-09-17T19:05:23.703Z"
   },
   {
    "duration": 79,
    "start_time": "2024-09-17T19:05:23.718Z"
   },
   {
    "duration": 10,
    "start_time": "2024-09-17T19:05:23.799Z"
   },
   {
    "duration": 84,
    "start_time": "2024-09-17T19:05:23.815Z"
   },
   {
    "duration": 85,
    "start_time": "2024-09-17T19:05:23.909Z"
   },
   {
    "duration": 406,
    "start_time": "2024-09-17T19:05:23.998Z"
   },
   {
    "duration": 7,
    "start_time": "2024-09-17T19:05:24.405Z"
   },
   {
    "duration": 5,
    "start_time": "2024-09-17T19:05:24.414Z"
   },
   {
    "duration": 87,
    "start_time": "2024-09-17T19:05:24.420Z"
   },
   {
    "duration": 85,
    "start_time": "2024-09-17T19:05:24.510Z"
   },
   {
    "duration": 499,
    "start_time": "2024-09-17T19:05:24.602Z"
   },
   {
    "duration": 7,
    "start_time": "2024-09-17T19:05:25.105Z"
   },
   {
    "duration": 79,
    "start_time": "2024-09-17T19:05:25.114Z"
   },
   {
    "duration": 15,
    "start_time": "2024-09-17T19:05:25.194Z"
   },
   {
    "duration": 6,
    "start_time": "2024-09-17T19:05:25.210Z"
   },
   {
    "duration": 581,
    "start_time": "2024-09-17T19:05:25.217Z"
   },
   {
    "duration": 4,
    "start_time": "2024-09-17T19:05:25.805Z"
   },
   {
    "duration": 11,
    "start_time": "2024-09-17T19:05:26.107Z"
   },
   {
    "duration": 77,
    "start_time": "2024-09-17T19:05:26.120Z"
   },
   {
    "duration": 411,
    "start_time": "2024-09-17T19:05:26.203Z"
   },
   {
    "duration": 2,
    "start_time": "2024-09-17T19:05:26.616Z"
   },
   {
    "duration": 8,
    "start_time": "2024-09-17T19:05:26.692Z"
   },
   {
    "duration": 91,
    "start_time": "2024-09-17T19:05:26.702Z"
   },
   {
    "duration": 12,
    "start_time": "2024-09-17T19:05:26.801Z"
   },
   {
    "duration": 496,
    "start_time": "2024-09-17T19:05:26.814Z"
   },
   {
    "duration": 5,
    "start_time": "2024-09-17T19:05:27.314Z"
   },
   {
    "duration": 16,
    "start_time": "2024-09-17T19:05:27.393Z"
   },
   {
    "duration": 7,
    "start_time": "2024-09-17T19:05:27.411Z"
   },
   {
    "duration": 485,
    "start_time": "2024-09-17T19:05:27.420Z"
   },
   {
    "duration": 495,
    "start_time": "2024-09-17T19:05:27.906Z"
   },
   {
    "duration": 592,
    "start_time": "2024-09-17T19:05:28.403Z"
   },
   {
    "duration": 507,
    "start_time": "2024-09-17T19:05:28.997Z"
   },
   {
    "duration": 412,
    "start_time": "2024-09-17T19:05:29.506Z"
   },
   {
    "duration": 509,
    "start_time": "2024-09-17T19:05:29.989Z"
   },
   {
    "duration": 4,
    "start_time": "2024-09-17T19:05:30.499Z"
   },
   {
    "duration": 87,
    "start_time": "2024-09-17T19:05:30.507Z"
   },
   {
    "duration": 111,
    "start_time": "2024-09-17T19:05:30.598Z"
   },
   {
    "duration": 14,
    "start_time": "2024-09-17T19:05:30.711Z"
   },
   {
    "duration": 23,
    "start_time": "2024-09-17T19:05:30.795Z"
   },
   {
    "duration": 99,
    "start_time": "2024-09-17T19:05:30.821Z"
   },
   {
    "duration": 577,
    "start_time": "2024-09-17T19:05:30.922Z"
   },
   {
    "duration": 13,
    "start_time": "2024-09-17T19:05:31.504Z"
   },
   {
    "duration": 82,
    "start_time": "2024-09-17T19:05:31.518Z"
   },
   {
    "duration": 22,
    "start_time": "2024-09-17T19:05:31.602Z"
   },
   {
    "duration": 19,
    "start_time": "2024-09-17T19:05:31.691Z"
   },
   {
    "duration": 483,
    "start_time": "2024-09-17T19:05:31.712Z"
   },
   {
    "duration": 18,
    "start_time": "2024-09-17T19:05:32.201Z"
   },
   {
    "duration": 17,
    "start_time": "2024-09-17T19:05:32.290Z"
   },
   {
    "duration": 106,
    "start_time": "2024-09-17T19:05:32.312Z"
   },
   {
    "duration": 75,
    "start_time": "2024-09-17T19:05:32.419Z"
   },
   {
    "duration": 503,
    "start_time": "2024-09-17T19:05:32.498Z"
   },
   {
    "duration": 8,
    "start_time": "2024-09-17T19:05:33.003Z"
   },
   {
    "duration": 79,
    "start_time": "2024-09-17T19:05:33.013Z"
   },
   {
    "duration": 115,
    "start_time": "2024-09-17T19:05:33.094Z"
   },
   {
    "duration": 86,
    "start_time": "2024-09-17T19:05:33.211Z"
   },
   {
    "duration": 8,
    "start_time": "2024-09-17T19:05:33.300Z"
   },
   {
    "duration": 24,
    "start_time": "2024-09-17T19:05:33.310Z"
   },
   {
    "duration": 21,
    "start_time": "2024-09-17T19:05:33.392Z"
   },
   {
    "duration": 802,
    "start_time": "2024-09-17T19:05:33.415Z"
   },
   {
    "duration": 26,
    "start_time": "2024-09-17T19:05:34.290Z"
   },
   {
    "duration": 75,
    "start_time": "2024-09-17T19:05:34.318Z"
   },
   {
    "duration": 418,
    "start_time": "2024-09-17T19:05:34.396Z"
   },
   {
    "duration": 86,
    "start_time": "2024-09-17T19:05:34.817Z"
   },
   {
    "duration": 90,
    "start_time": "2024-09-17T19:05:34.904Z"
   },
   {
    "duration": 593,
    "start_time": "2024-09-17T19:05:35.000Z"
   },
   {
    "duration": 12,
    "start_time": "2024-09-17T19:05:35.600Z"
   },
   {
    "duration": 85,
    "start_time": "2024-09-17T19:05:35.614Z"
   },
   {
    "duration": 594,
    "start_time": "2024-09-17T19:05:35.703Z"
   },
   {
    "duration": 16,
    "start_time": "2024-09-17T19:05:36.302Z"
   },
   {
    "duration": 76,
    "start_time": "2024-09-17T19:05:36.320Z"
   },
   {
    "duration": 597,
    "start_time": "2024-09-17T19:05:36.398Z"
   },
   {
    "duration": 13,
    "start_time": "2024-09-17T19:05:37.000Z"
   },
   {
    "duration": 92,
    "start_time": "2024-09-17T19:05:37.015Z"
   },
   {
    "duration": 4,
    "start_time": "2024-09-17T19:05:37.109Z"
   },
   {
    "duration": 86,
    "start_time": "2024-09-17T19:05:37.115Z"
   },
   {
    "duration": 811,
    "start_time": "2024-09-17T19:05:37.203Z"
   },
   {
    "duration": 85,
    "start_time": "2024-09-17T19:05:38.017Z"
   },
   {
    "duration": 20,
    "start_time": "2024-09-17T19:05:38.104Z"
   },
   {
    "duration": 1121,
    "start_time": "2024-09-17T19:05:38.190Z"
   },
   {
    "duration": 88,
    "start_time": "2024-09-17T19:10:27.578Z"
   },
   {
    "duration": 91,
    "start_time": "2024-09-17T19:10:31.817Z"
   },
   {
    "duration": 5,
    "start_time": "2024-09-17T19:10:39.045Z"
   },
   {
    "duration": 50,
    "start_time": "2024-09-18T11:58:08.849Z"
   },
   {
    "duration": 503,
    "start_time": "2024-09-18T11:58:33.417Z"
   },
   {
    "duration": 168,
    "start_time": "2024-09-18T11:58:33.923Z"
   },
   {
    "duration": 3,
    "start_time": "2024-09-18T11:58:34.093Z"
   },
   {
    "duration": 74,
    "start_time": "2024-09-18T11:58:34.099Z"
   },
   {
    "duration": 15,
    "start_time": "2024-09-18T11:58:34.175Z"
   },
   {
    "duration": 2433,
    "start_time": "2024-09-18T11:58:34.191Z"
   },
   {
    "duration": 11,
    "start_time": "2024-09-18T11:58:36.626Z"
   },
   {
    "duration": 44,
    "start_time": "2024-09-18T11:58:36.638Z"
   },
   {
    "duration": 6,
    "start_time": "2024-09-18T11:58:36.683Z"
   },
   {
    "duration": 16,
    "start_time": "2024-09-18T11:58:36.692Z"
   },
   {
    "duration": 13,
    "start_time": "2024-09-18T11:58:36.711Z"
   },
   {
    "duration": 13,
    "start_time": "2024-09-18T11:58:36.726Z"
   },
   {
    "duration": 17,
    "start_time": "2024-09-18T11:58:36.740Z"
   },
   {
    "duration": 21,
    "start_time": "2024-09-18T11:58:36.758Z"
   },
   {
    "duration": 12,
    "start_time": "2024-09-18T11:58:36.780Z"
   },
   {
    "duration": 24,
    "start_time": "2024-09-18T11:58:36.794Z"
   },
   {
    "duration": 30,
    "start_time": "2024-09-18T11:58:36.820Z"
   },
   {
    "duration": 25,
    "start_time": "2024-09-18T11:58:36.851Z"
   },
   {
    "duration": 12,
    "start_time": "2024-09-18T11:58:36.878Z"
   },
   {
    "duration": 79,
    "start_time": "2024-09-18T11:58:36.892Z"
   },
   {
    "duration": 33,
    "start_time": "2024-09-18T11:58:36.973Z"
   },
   {
    "duration": 59,
    "start_time": "2024-09-18T11:58:37.008Z"
   },
   {
    "duration": 31,
    "start_time": "2024-09-18T11:58:37.069Z"
   },
   {
    "duration": 13,
    "start_time": "2024-09-18T11:58:37.102Z"
   },
   {
    "duration": 20,
    "start_time": "2024-09-18T11:58:37.117Z"
   },
   {
    "duration": 21,
    "start_time": "2024-09-18T11:58:37.139Z"
   },
   {
    "duration": 36,
    "start_time": "2024-09-18T11:58:37.161Z"
   },
   {
    "duration": 27,
    "start_time": "2024-09-18T11:58:37.201Z"
   },
   {
    "duration": 133,
    "start_time": "2024-09-18T11:58:37.230Z"
   },
   {
    "duration": 4,
    "start_time": "2024-09-18T11:58:37.365Z"
   },
   {
    "duration": 23,
    "start_time": "2024-09-18T11:58:37.371Z"
   },
   {
    "duration": 20,
    "start_time": "2024-09-18T11:58:37.396Z"
   },
   {
    "duration": 8,
    "start_time": "2024-09-18T11:58:37.418Z"
   },
   {
    "duration": 156,
    "start_time": "2024-09-18T11:58:37.427Z"
   },
   {
    "duration": 4,
    "start_time": "2024-09-18T11:58:37.585Z"
   },
   {
    "duration": 26,
    "start_time": "2024-09-18T11:58:37.591Z"
   },
   {
    "duration": 12,
    "start_time": "2024-09-18T11:58:37.619Z"
   },
   {
    "duration": 8,
    "start_time": "2024-09-18T11:58:37.632Z"
   },
   {
    "duration": 246,
    "start_time": "2024-09-18T11:58:37.642Z"
   },
   {
    "duration": 4,
    "start_time": "2024-09-18T11:58:37.890Z"
   },
   {
    "duration": 88,
    "start_time": "2024-09-18T11:58:37.896Z"
   },
   {
    "duration": 36,
    "start_time": "2024-09-18T11:58:37.985Z"
   },
   {
    "duration": 131,
    "start_time": "2024-09-18T11:58:38.022Z"
   },
   {
    "duration": 3,
    "start_time": "2024-09-18T11:58:38.154Z"
   },
   {
    "duration": 7,
    "start_time": "2024-09-18T11:58:38.158Z"
   },
   {
    "duration": 7,
    "start_time": "2024-09-18T11:58:38.166Z"
   },
   {
    "duration": 9,
    "start_time": "2024-09-18T11:58:38.175Z"
   },
   {
    "duration": 160,
    "start_time": "2024-09-18T11:58:38.185Z"
   },
   {
    "duration": 4,
    "start_time": "2024-09-18T11:58:38.347Z"
   },
   {
    "duration": 11,
    "start_time": "2024-09-18T11:58:38.352Z"
   },
   {
    "duration": 13,
    "start_time": "2024-09-18T11:58:38.364Z"
   },
   {
    "duration": 122,
    "start_time": "2024-09-18T11:58:38.378Z"
   },
   {
    "duration": 138,
    "start_time": "2024-09-18T11:58:38.502Z"
   },
   {
    "duration": 139,
    "start_time": "2024-09-18T11:58:38.642Z"
   },
   {
    "duration": 144,
    "start_time": "2024-09-18T11:58:38.783Z"
   },
   {
    "duration": 133,
    "start_time": "2024-09-18T11:58:38.929Z"
   },
   {
    "duration": 4,
    "start_time": "2024-09-18T11:58:39.064Z"
   },
   {
    "duration": 8,
    "start_time": "2024-09-18T11:58:39.069Z"
   },
   {
    "duration": 150,
    "start_time": "2024-09-18T11:58:39.079Z"
   },
   {
    "duration": 5,
    "start_time": "2024-09-18T11:58:39.230Z"
   },
   {
    "duration": 17,
    "start_time": "2024-09-18T11:58:39.236Z"
   },
   {
    "duration": 33,
    "start_time": "2024-09-18T11:58:39.255Z"
   },
   {
    "duration": 14,
    "start_time": "2024-09-18T11:58:39.290Z"
   },
   {
    "duration": 12,
    "start_time": "2024-09-18T11:58:39.305Z"
   },
   {
    "duration": 8,
    "start_time": "2024-09-18T11:58:39.318Z"
   },
   {
    "duration": 132,
    "start_time": "2024-09-18T11:58:39.327Z"
   },
   {
    "duration": 10,
    "start_time": "2024-09-18T11:58:39.461Z"
   },
   {
    "duration": 9,
    "start_time": "2024-09-18T11:58:39.473Z"
   },
   {
    "duration": 15,
    "start_time": "2024-09-18T11:58:39.483Z"
   },
   {
    "duration": 7,
    "start_time": "2024-09-18T11:58:39.499Z"
   },
   {
    "duration": 119,
    "start_time": "2024-09-18T11:58:39.521Z"
   },
   {
    "duration": 11,
    "start_time": "2024-09-18T11:58:39.642Z"
   },
   {
    "duration": 14,
    "start_time": "2024-09-18T11:58:39.655Z"
   },
   {
    "duration": 11,
    "start_time": "2024-09-18T11:58:39.670Z"
   },
   {
    "duration": 15,
    "start_time": "2024-09-18T11:58:39.682Z"
   },
   {
    "duration": 222,
    "start_time": "2024-09-18T11:58:39.699Z"
   },
   {
    "duration": 5,
    "start_time": "2024-09-18T11:58:39.923Z"
   },
   {
    "duration": 90,
    "start_time": "2024-09-18T11:58:39.930Z"
   },
   {
    "duration": 16,
    "start_time": "2024-09-18T11:58:40.022Z"
   },
   {
    "duration": 33,
    "start_time": "2024-09-18T11:58:40.039Z"
   },
   {
    "duration": 9,
    "start_time": "2024-09-18T11:58:40.073Z"
   },
   {
    "duration": 6,
    "start_time": "2024-09-18T11:58:40.088Z"
   },
   {
    "duration": 16,
    "start_time": "2024-09-18T11:58:40.096Z"
   },
   {
    "duration": 140,
    "start_time": "2024-09-18T11:58:40.113Z"
   },
   {
    "duration": 11,
    "start_time": "2024-09-18T11:58:40.254Z"
   },
   {
    "duration": 7,
    "start_time": "2024-09-18T11:58:40.266Z"
   },
   {
    "duration": 142,
    "start_time": "2024-09-18T11:58:40.274Z"
   },
   {
    "duration": 9,
    "start_time": "2024-09-18T11:58:40.420Z"
   },
   {
    "duration": 11,
    "start_time": "2024-09-18T11:58:40.431Z"
   },
   {
    "duration": 162,
    "start_time": "2024-09-18T11:58:40.443Z"
   },
   {
    "duration": 14,
    "start_time": "2024-09-18T11:58:40.607Z"
   },
   {
    "duration": 8,
    "start_time": "2024-09-18T11:58:40.623Z"
   },
   {
    "duration": 168,
    "start_time": "2024-09-18T11:58:40.633Z"
   },
   {
    "duration": 19,
    "start_time": "2024-09-18T11:58:40.802Z"
   },
   {
    "duration": 14,
    "start_time": "2024-09-18T11:58:40.822Z"
   },
   {
    "duration": 146,
    "start_time": "2024-09-18T11:58:40.837Z"
   },
   {
    "duration": 3,
    "start_time": "2024-09-18T11:58:40.985Z"
   },
   {
    "duration": 49,
    "start_time": "2024-09-18T11:58:40.990Z"
   },
   {
    "duration": 4,
    "start_time": "2024-09-18T11:58:41.041Z"
   },
   {
    "duration": 13,
    "start_time": "2024-09-18T11:58:41.047Z"
   },
   {
    "duration": 215,
    "start_time": "2024-09-18T11:58:41.061Z"
   },
   {
    "duration": 8,
    "start_time": "2024-09-18T11:58:41.278Z"
   },
   {
    "duration": 12,
    "start_time": "2024-09-18T11:58:41.287Z"
   },
   {
    "duration": 310,
    "start_time": "2024-09-18T11:58:41.300Z"
   },
   {
    "duration": 9,
    "start_time": "2024-09-18T12:01:01.969Z"
   },
   {
    "duration": 116,
    "start_time": "2024-09-18T12:01:04.161Z"
   },
   {
    "duration": 7,
    "start_time": "2024-09-18T12:15:28.976Z"
   },
   {
    "duration": 5,
    "start_time": "2024-09-18T12:16:15.532Z"
   },
   {
    "duration": 4,
    "start_time": "2024-09-18T12:17:13.649Z"
   },
   {
    "duration": 5,
    "start_time": "2024-09-18T12:17:27.804Z"
   },
   {
    "duration": 5,
    "start_time": "2024-09-18T12:18:26.960Z"
   },
   {
    "duration": 6,
    "start_time": "2024-09-18T13:14:31.485Z"
   },
   {
    "duration": 4,
    "start_time": "2024-09-18T13:15:48.032Z"
   },
   {
    "duration": 461,
    "start_time": "2024-09-18T13:16:26.691Z"
   },
   {
    "duration": 108,
    "start_time": "2024-09-18T13:16:27.154Z"
   },
   {
    "duration": 3,
    "start_time": "2024-09-18T13:16:27.263Z"
   },
   {
    "duration": 172,
    "start_time": "2024-09-18T13:16:27.268Z"
   },
   {
    "duration": 41,
    "start_time": "2024-09-18T13:16:27.443Z"
   },
   {
    "duration": 2399,
    "start_time": "2024-09-18T13:16:27.485Z"
   },
   {
    "duration": 12,
    "start_time": "2024-09-18T13:16:29.886Z"
   },
   {
    "duration": 27,
    "start_time": "2024-09-18T13:16:29.900Z"
   },
   {
    "duration": 20,
    "start_time": "2024-09-18T13:16:29.929Z"
   },
   {
    "duration": 25,
    "start_time": "2024-09-18T13:16:29.950Z"
   },
   {
    "duration": 10,
    "start_time": "2024-09-18T13:16:29.977Z"
   },
   {
    "duration": 10,
    "start_time": "2024-09-18T13:16:29.989Z"
   },
   {
    "duration": 18,
    "start_time": "2024-09-18T13:16:30.001Z"
   },
   {
    "duration": 37,
    "start_time": "2024-09-18T13:16:30.022Z"
   },
   {
    "duration": 68,
    "start_time": "2024-09-18T13:16:30.061Z"
   },
   {
    "duration": 41,
    "start_time": "2024-09-18T13:16:30.131Z"
   },
   {
    "duration": 129,
    "start_time": "2024-09-18T13:16:30.174Z"
   },
   {
    "duration": 77,
    "start_time": "2024-09-18T13:16:30.305Z"
   },
   {
    "duration": 26,
    "start_time": "2024-09-18T13:16:30.384Z"
   },
   {
    "duration": 119,
    "start_time": "2024-09-18T13:16:30.412Z"
   },
   {
    "duration": 6,
    "start_time": "2024-09-18T13:16:30.532Z"
   },
   {
    "duration": 15,
    "start_time": "2024-09-18T13:16:30.539Z"
   },
   {
    "duration": 28,
    "start_time": "2024-09-18T13:16:30.555Z"
   },
   {
    "duration": 23,
    "start_time": "2024-09-18T13:16:30.585Z"
   },
   {
    "duration": 11,
    "start_time": "2024-09-18T13:16:30.610Z"
   },
   {
    "duration": 21,
    "start_time": "2024-09-18T13:16:30.623Z"
   },
   {
    "duration": 41,
    "start_time": "2024-09-18T13:16:30.645Z"
   },
   {
    "duration": 15,
    "start_time": "2024-09-18T13:16:30.687Z"
   },
   {
    "duration": 124,
    "start_time": "2024-09-18T13:16:30.704Z"
   },
   {
    "duration": 4,
    "start_time": "2024-09-18T13:16:30.830Z"
   },
   {
    "duration": 50,
    "start_time": "2024-09-18T13:16:30.835Z"
   },
   {
    "duration": 52,
    "start_time": "2024-09-18T13:16:30.886Z"
   },
   {
    "duration": 97,
    "start_time": "2024-09-18T13:16:30.940Z"
   },
   {
    "duration": 183,
    "start_time": "2024-09-18T13:16:31.039Z"
   },
   {
    "duration": 4,
    "start_time": "2024-09-18T13:16:31.223Z"
   },
   {
    "duration": 24,
    "start_time": "2024-09-18T13:16:31.228Z"
   },
   {
    "duration": 121,
    "start_time": "2024-09-18T13:16:31.253Z"
   },
   {
    "duration": 23,
    "start_time": "2024-09-18T13:16:31.376Z"
   },
   {
    "duration": 143,
    "start_time": "2024-09-18T13:16:31.401Z"
   },
   {
    "duration": 3,
    "start_time": "2024-09-18T13:16:31.546Z"
   },
   {
    "duration": 6,
    "start_time": "2024-09-18T13:16:31.644Z"
   },
   {
    "duration": 40,
    "start_time": "2024-09-18T13:16:31.651Z"
   },
   {
    "duration": 247,
    "start_time": "2024-09-18T13:16:31.693Z"
   },
   {
    "duration": 3,
    "start_time": "2024-09-18T13:16:31.942Z"
   },
   {
    "duration": 38,
    "start_time": "2024-09-18T13:16:31.946Z"
   },
   {
    "duration": 38,
    "start_time": "2024-09-18T13:16:31.985Z"
   },
   {
    "duration": 33,
    "start_time": "2024-09-18T13:16:32.024Z"
   },
   {
    "duration": 209,
    "start_time": "2024-09-18T13:16:32.059Z"
   },
   {
    "duration": 4,
    "start_time": "2024-09-18T13:16:32.270Z"
   },
   {
    "duration": 33,
    "start_time": "2024-09-18T13:16:32.275Z"
   },
   {
    "duration": 6,
    "start_time": "2024-09-18T13:16:32.310Z"
   },
   {
    "duration": 129,
    "start_time": "2024-09-18T13:16:32.320Z"
   },
   {
    "duration": 109,
    "start_time": "2024-09-18T13:16:32.451Z"
   },
   {
    "duration": 146,
    "start_time": "2024-09-18T13:16:32.562Z"
   },
   {
    "duration": 141,
    "start_time": "2024-09-18T13:16:32.710Z"
   },
   {
    "duration": 143,
    "start_time": "2024-09-18T13:16:32.853Z"
   },
   {
    "duration": 4,
    "start_time": "2024-09-18T13:16:32.998Z"
   },
   {
    "duration": 172,
    "start_time": "2024-09-18T13:16:33.004Z"
   },
   {
    "duration": 4,
    "start_time": "2024-09-18T13:16:33.178Z"
   },
   {
    "duration": 15,
    "start_time": "2024-09-18T13:16:33.183Z"
   },
   {
    "duration": 29,
    "start_time": "2024-09-18T13:16:33.199Z"
   },
   {
    "duration": 20,
    "start_time": "2024-09-18T13:16:33.229Z"
   },
   {
    "duration": 114,
    "start_time": "2024-09-18T13:16:33.250Z"
   },
   {
    "duration": 32,
    "start_time": "2024-09-18T13:16:33.365Z"
   },
   {
    "duration": 150,
    "start_time": "2024-09-18T13:16:33.399Z"
   },
   {
    "duration": 11,
    "start_time": "2024-09-18T13:16:33.551Z"
   },
   {
    "duration": 23,
    "start_time": "2024-09-18T13:16:33.563Z"
   },
   {
    "duration": 30,
    "start_time": "2024-09-18T13:16:33.588Z"
   },
   {
    "duration": 16,
    "start_time": "2024-09-18T13:16:33.619Z"
   },
   {
    "duration": 150,
    "start_time": "2024-09-18T13:16:33.636Z"
   },
   {
    "duration": 11,
    "start_time": "2024-09-18T13:16:33.788Z"
   },
   {
    "duration": 45,
    "start_time": "2024-09-18T13:16:33.800Z"
   },
   {
    "duration": 39,
    "start_time": "2024-09-18T13:16:33.847Z"
   },
   {
    "duration": 14,
    "start_time": "2024-09-18T13:16:33.887Z"
   },
   {
    "duration": 142,
    "start_time": "2024-09-18T13:16:33.903Z"
   },
   {
    "duration": 4,
    "start_time": "2024-09-18T13:16:34.047Z"
   },
   {
    "duration": 33,
    "start_time": "2024-09-18T13:16:34.052Z"
   },
   {
    "duration": 39,
    "start_time": "2024-09-18T13:16:34.087Z"
   },
   {
    "duration": 10,
    "start_time": "2024-09-18T13:16:34.127Z"
   },
   {
    "duration": 125,
    "start_time": "2024-09-18T13:16:34.139Z"
   },
   {
    "duration": 50,
    "start_time": "2024-09-18T13:16:34.266Z"
   },
   {
    "duration": 28,
    "start_time": "2024-09-18T13:16:34.318Z"
   },
   {
    "duration": 224,
    "start_time": "2024-09-18T13:16:34.347Z"
   },
   {
    "duration": 10,
    "start_time": "2024-09-18T13:16:34.572Z"
   },
   {
    "duration": 25,
    "start_time": "2024-09-18T13:16:34.583Z"
   },
   {
    "duration": 127,
    "start_time": "2024-09-18T13:16:34.609Z"
   },
   {
    "duration": 8,
    "start_time": "2024-09-18T13:16:34.738Z"
   },
   {
    "duration": 50,
    "start_time": "2024-09-18T13:16:34.748Z"
   },
   {
    "duration": 156,
    "start_time": "2024-09-18T13:16:34.800Z"
   },
   {
    "duration": 9,
    "start_time": "2024-09-18T13:16:34.958Z"
   },
   {
    "duration": 47,
    "start_time": "2024-09-18T13:16:34.969Z"
   },
   {
    "duration": 235,
    "start_time": "2024-09-18T13:16:35.017Z"
   },
   {
    "duration": 9,
    "start_time": "2024-09-18T13:16:35.254Z"
   },
   {
    "duration": 140,
    "start_time": "2024-09-18T13:16:35.264Z"
   },
   {
    "duration": 160,
    "start_time": "2024-09-18T13:16:35.406Z"
   },
   {
    "duration": 3,
    "start_time": "2024-09-18T13:16:35.568Z"
   },
   {
    "duration": 33,
    "start_time": "2024-09-18T13:16:35.573Z"
   },
   {
    "duration": 13,
    "start_time": "2024-09-18T13:16:35.607Z"
   },
   {
    "duration": 33,
    "start_time": "2024-09-18T13:16:35.622Z"
   },
   {
    "duration": 261,
    "start_time": "2024-09-18T13:16:35.656Z"
   },
   {
    "duration": 7,
    "start_time": "2024-09-18T13:16:35.919Z"
   },
   {
    "duration": 25,
    "start_time": "2024-09-18T13:16:35.927Z"
   },
   {
    "duration": 322,
    "start_time": "2024-09-18T13:16:35.954Z"
   },
   {
    "duration": 75,
    "start_time": "2024-09-18T13:17:14.635Z"
   },
   {
    "duration": 4,
    "start_time": "2024-09-18T13:17:32.979Z"
   },
   {
    "duration": 403,
    "start_time": "2024-09-18T15:24:25.058Z"
   },
   {
    "duration": 109,
    "start_time": "2024-09-18T15:24:25.463Z"
   },
   {
    "duration": 2,
    "start_time": "2024-09-18T15:24:25.574Z"
   },
   {
    "duration": 78,
    "start_time": "2024-09-18T15:24:25.577Z"
   },
   {
    "duration": 14,
    "start_time": "2024-09-18T15:24:25.658Z"
   },
   {
    "duration": 2873,
    "start_time": "2024-09-18T15:24:25.674Z"
   },
   {
    "duration": 10,
    "start_time": "2024-09-18T15:24:28.548Z"
   },
   {
    "duration": 26,
    "start_time": "2024-09-18T15:24:28.559Z"
   },
   {
    "duration": 86,
    "start_time": "2024-09-18T15:24:28.586Z"
   },
   {
    "duration": 51,
    "start_time": "2024-09-18T15:24:28.674Z"
   },
   {
    "duration": 96,
    "start_time": "2024-09-18T15:24:28.727Z"
   },
   {
    "duration": 14,
    "start_time": "2024-09-18T15:24:28.825Z"
   },
   {
    "duration": 5,
    "start_time": "2024-09-18T15:24:28.841Z"
   },
   {
    "duration": 66,
    "start_time": "2024-09-18T15:24:28.849Z"
   },
   {
    "duration": 14,
    "start_time": "2024-09-18T15:24:28.917Z"
   },
   {
    "duration": 15,
    "start_time": "2024-09-18T15:24:28.932Z"
   },
   {
    "duration": 82,
    "start_time": "2024-09-18T15:24:28.948Z"
   },
   {
    "duration": 7,
    "start_time": "2024-09-18T15:24:29.032Z"
   },
   {
    "duration": 7,
    "start_time": "2024-09-18T15:24:29.040Z"
   },
   {
    "duration": 277,
    "start_time": "2024-09-18T15:24:29.048Z"
   },
   {
    "duration": 6,
    "start_time": "2024-09-18T15:24:29.330Z"
   },
   {
    "duration": 37,
    "start_time": "2024-09-18T15:24:29.337Z"
   },
   {
    "duration": 45,
    "start_time": "2024-09-18T15:24:29.376Z"
   },
   {
    "duration": 10,
    "start_time": "2024-09-18T15:24:29.422Z"
   },
   {
    "duration": 26,
    "start_time": "2024-09-18T15:24:29.433Z"
   },
   {
    "duration": 10,
    "start_time": "2024-09-18T15:24:29.460Z"
   },
   {
    "duration": 54,
    "start_time": "2024-09-18T15:24:29.472Z"
   },
   {
    "duration": 13,
    "start_time": "2024-09-18T15:24:29.529Z"
   },
   {
    "duration": 285,
    "start_time": "2024-09-18T15:24:29.544Z"
   },
   {
    "duration": 3,
    "start_time": "2024-09-18T15:24:29.831Z"
   },
   {
    "duration": 27,
    "start_time": "2024-09-18T15:24:29.835Z"
   },
   {
    "duration": 15,
    "start_time": "2024-09-18T15:24:29.864Z"
   },
   {
    "duration": 44,
    "start_time": "2024-09-18T15:24:29.881Z"
   },
   {
    "duration": 414,
    "start_time": "2024-09-18T15:24:29.928Z"
   },
   {
    "duration": 5,
    "start_time": "2024-09-18T15:24:30.344Z"
   },
   {
    "duration": 683,
    "start_time": "2024-09-18T15:24:32.651Z"
   },
   {
    "duration": 202,
    "start_time": "2024-09-18T15:24:33.336Z"
   },
   {
    "duration": 3,
    "start_time": "2024-09-18T15:24:33.539Z"
   },
   {
    "duration": 111,
    "start_time": "2024-09-18T15:24:33.544Z"
   },
   {
    "duration": 78,
    "start_time": "2024-09-18T15:24:33.656Z"
   },
   {
    "duration": 4805,
    "start_time": "2024-09-18T15:24:33.736Z"
   },
   {
    "duration": 72,
    "start_time": "2024-09-18T15:24:38.543Z"
   },
   {
    "duration": 8,
    "start_time": "2024-09-18T15:24:38.622Z"
   },
   {
    "duration": 87,
    "start_time": "2024-09-18T15:24:38.632Z"
   },
   {
    "duration": 4,
    "start_time": "2024-09-18T15:24:38.723Z"
   },
   {
    "duration": 4,
    "start_time": "2024-09-18T15:24:38.733Z"
   },
   {
    "duration": 91,
    "start_time": "2024-09-18T15:24:38.738Z"
   },
   {
    "duration": 6,
    "start_time": "2024-09-18T15:24:38.830Z"
   },
   {
    "duration": 5,
    "start_time": "2024-09-18T15:24:38.837Z"
   },
   {
    "duration": 10,
    "start_time": "2024-09-18T15:24:38.844Z"
   },
   {
    "duration": 74,
    "start_time": "2024-09-18T15:24:38.856Z"
   },
   {
    "duration": 37,
    "start_time": "2024-09-18T15:24:38.931Z"
   },
   {
    "duration": 12,
    "start_time": "2024-09-18T15:24:39.014Z"
   },
   {
    "duration": 24,
    "start_time": "2024-09-18T15:24:39.028Z"
   },
   {
    "duration": 182,
    "start_time": "2024-09-18T15:24:39.054Z"
   },
   {
    "duration": 5,
    "start_time": "2024-09-18T15:24:39.237Z"
   },
   {
    "duration": 21,
    "start_time": "2024-09-18T15:24:39.244Z"
   },
   {
    "duration": 63,
    "start_time": "2024-09-18T15:24:39.321Z"
   },
   {
    "duration": 31,
    "start_time": "2024-09-18T15:24:39.386Z"
   },
   {
    "duration": 6,
    "start_time": "2024-09-18T15:24:39.426Z"
   },
   {
    "duration": 22,
    "start_time": "2024-09-18T15:24:39.434Z"
   },
   {
    "duration": 58,
    "start_time": "2024-09-18T15:24:39.457Z"
   },
   {
    "duration": 18,
    "start_time": "2024-09-18T15:24:39.522Z"
   },
   {
    "duration": 294,
    "start_time": "2024-09-18T15:24:39.542Z"
   },
   {
    "duration": 4,
    "start_time": "2024-09-18T15:24:39.837Z"
   },
   {
    "duration": 16,
    "start_time": "2024-09-18T15:24:39.842Z"
   },
   {
    "duration": 60,
    "start_time": "2024-09-18T15:24:39.860Z"
   },
   {
    "duration": 8,
    "start_time": "2024-09-18T15:24:39.926Z"
   },
   {
    "duration": 312,
    "start_time": "2024-09-18T15:24:39.936Z"
   },
   {
    "duration": 4,
    "start_time": "2024-09-18T15:24:40.249Z"
   },
   {
    "duration": 66,
    "start_time": "2024-09-18T15:24:40.254Z"
   },
   {
    "duration": 35,
    "start_time": "2024-09-18T15:24:40.328Z"
   },
   {
    "duration": 7,
    "start_time": "2024-09-18T15:24:40.365Z"
   },
   {
    "duration": 284,
    "start_time": "2024-09-18T15:24:40.373Z"
   },
   {
    "duration": 63,
    "start_time": "2024-09-18T15:24:40.658Z"
   },
   {
    "duration": 8,
    "start_time": "2024-09-18T15:24:40.726Z"
   },
   {
    "duration": 88,
    "start_time": "2024-09-18T15:24:40.735Z"
   },
   {
    "duration": 431,
    "start_time": "2024-09-18T15:24:40.824Z"
   },
   {
    "duration": 2,
    "start_time": "2024-09-18T15:24:41.257Z"
   },
   {
    "duration": 58,
    "start_time": "2024-09-18T15:24:41.261Z"
   },
   {
    "duration": 51,
    "start_time": "2024-09-18T15:24:41.328Z"
   },
   {
    "duration": 49,
    "start_time": "2024-09-18T15:24:41.380Z"
   },
   {
    "duration": 299,
    "start_time": "2024-09-18T15:24:41.431Z"
   },
   {
    "duration": 4,
    "start_time": "2024-09-18T15:24:41.732Z"
   },
   {
    "duration": 9,
    "start_time": "2024-09-18T15:24:41.738Z"
   },
   {
    "duration": 7,
    "start_time": "2024-09-18T15:24:41.749Z"
   },
   {
    "duration": 285,
    "start_time": "2024-09-18T15:24:41.757Z"
   },
   {
    "duration": 212,
    "start_time": "2024-09-18T15:24:42.043Z"
   },
   {
    "duration": 301,
    "start_time": "2024-09-18T15:24:42.256Z"
   },
   {
    "duration": 368,
    "start_time": "2024-09-18T15:24:42.558Z"
   },
   {
    "duration": 307,
    "start_time": "2024-09-18T15:24:42.930Z"
   },
   {
    "duration": 4,
    "start_time": "2024-09-18T15:24:43.238Z"
   },
   {
    "duration": 309,
    "start_time": "2024-09-18T15:24:43.244Z"
   },
   {
    "duration": 4,
    "start_time": "2024-09-18T15:24:43.554Z"
   },
   {
    "duration": 58,
    "start_time": "2024-09-18T15:24:43.559Z"
   },
   {
    "duration": 27,
    "start_time": "2024-09-18T15:24:43.619Z"
   },
   {
    "duration": 77,
    "start_time": "2024-09-18T15:24:43.647Z"
   },
   {
    "duration": 11,
    "start_time": "2024-09-18T15:24:43.726Z"
   },
   {
    "duration": 36,
    "start_time": "2024-09-18T15:24:43.738Z"
   },
   {
    "duration": 235,
    "start_time": "2024-09-18T15:24:43.815Z"
   },
   {
    "duration": 72,
    "start_time": "2024-09-18T15:24:44.052Z"
   },
   {
    "duration": 7,
    "start_time": "2024-09-18T15:24:44.126Z"
   },
   {
    "duration": 11,
    "start_time": "2024-09-18T15:24:44.134Z"
   },
   {
    "duration": 9,
    "start_time": "2024-09-18T15:24:44.146Z"
   },
   {
    "duration": 288,
    "start_time": "2024-09-18T15:24:44.156Z"
   },
   {
    "duration": 10,
    "start_time": "2024-09-18T15:24:44.445Z"
   },
   {
    "duration": 69,
    "start_time": "2024-09-18T15:24:44.457Z"
   },
   {
    "duration": 14,
    "start_time": "2024-09-18T15:24:44.527Z"
   },
   {
    "duration": 7,
    "start_time": "2024-09-18T15:24:44.543Z"
   },
   {
    "duration": 292,
    "start_time": "2024-09-18T15:24:44.551Z"
   },
   {
    "duration": 5,
    "start_time": "2024-09-18T15:24:44.845Z"
   },
   {
    "duration": 5,
    "start_time": "2024-09-18T15:24:44.853Z"
   },
   {
    "duration": 11,
    "start_time": "2024-09-18T15:24:44.920Z"
   },
   {
    "duration": 9,
    "start_time": "2024-09-18T15:24:44.933Z"
   },
   {
    "duration": 9,
    "start_time": "2024-09-18T15:24:44.944Z"
   },
   {
    "duration": 6,
    "start_time": "2024-09-18T15:24:44.955Z"
   },
   {
    "duration": 13,
    "start_time": "2024-09-18T15:24:45.018Z"
   },
   {
    "duration": 484,
    "start_time": "2024-09-18T15:24:45.032Z"
   },
   {
    "duration": 13,
    "start_time": "2024-09-18T15:24:45.518Z"
   },
   {
    "duration": 7,
    "start_time": "2024-09-18T15:24:45.533Z"
   },
   {
    "duration": 288,
    "start_time": "2024-09-18T15:24:45.541Z"
   },
   {
    "duration": 11,
    "start_time": "2024-09-18T15:24:45.832Z"
   },
   {
    "duration": 72,
    "start_time": "2024-09-18T15:24:45.845Z"
   },
   {
    "duration": 238,
    "start_time": "2024-09-18T15:24:45.919Z"
   },
   {
    "duration": 66,
    "start_time": "2024-09-18T15:24:46.158Z"
   },
   {
    "duration": 7,
    "start_time": "2024-09-18T15:24:46.230Z"
   },
   {
    "duration": 387,
    "start_time": "2024-09-18T15:24:46.238Z"
   },
   {
    "duration": 11,
    "start_time": "2024-09-18T15:24:46.626Z"
   },
   {
    "duration": 91,
    "start_time": "2024-09-18T15:24:46.638Z"
   },
   {
    "duration": 328,
    "start_time": "2024-09-18T15:24:46.731Z"
   },
   {
    "duration": 10,
    "start_time": "2024-09-18T15:24:47.118Z"
   },
   {
    "duration": 33,
    "start_time": "2024-09-18T15:24:47.130Z"
   },
   {
    "duration": 53,
    "start_time": "2024-09-18T15:24:47.165Z"
   },
   {
    "duration": 8,
    "start_time": "2024-09-18T15:24:47.224Z"
   },
   {
    "duration": 425,
    "start_time": "2024-09-18T15:24:47.233Z"
   },
   {
    "duration": 18,
    "start_time": "2024-09-18T15:24:47.714Z"
   },
   {
    "duration": 6,
    "start_time": "2024-09-18T15:24:47.735Z"
   },
   {
    "duration": 687,
    "start_time": "2024-09-18T15:24:47.743Z"
   },
   {
    "duration": 88,
    "start_time": "2024-09-18T15:31:27.990Z"
   },
   {
    "duration": 423,
    "start_time": "2024-09-18T15:31:33.327Z"
   },
   {
    "duration": 116,
    "start_time": "2024-09-18T15:31:33.752Z"
   },
   {
    "duration": 2,
    "start_time": "2024-09-18T15:31:33.870Z"
   },
   {
    "duration": 69,
    "start_time": "2024-09-18T15:31:33.874Z"
   },
   {
    "duration": 15,
    "start_time": "2024-09-18T15:31:33.946Z"
   },
   {
    "duration": 2408,
    "start_time": "2024-09-18T15:31:33.962Z"
   },
   {
    "duration": 10,
    "start_time": "2024-09-18T15:31:36.372Z"
   },
   {
    "duration": 19,
    "start_time": "2024-09-18T15:31:36.383Z"
   },
   {
    "duration": 12,
    "start_time": "2024-09-18T15:31:36.404Z"
   },
   {
    "duration": 46,
    "start_time": "2024-09-18T15:31:36.419Z"
   },
   {
    "duration": 16,
    "start_time": "2024-09-18T15:31:36.467Z"
   },
   {
    "duration": 28,
    "start_time": "2024-09-18T15:31:36.484Z"
   },
   {
    "duration": 11,
    "start_time": "2024-09-18T15:31:36.518Z"
   },
   {
    "duration": 23,
    "start_time": "2024-09-18T15:31:36.535Z"
   },
   {
    "duration": 19,
    "start_time": "2024-09-18T15:31:36.560Z"
   },
   {
    "duration": 24,
    "start_time": "2024-09-18T15:31:36.581Z"
   },
   {
    "duration": 34,
    "start_time": "2024-09-18T15:31:36.607Z"
   },
   {
    "duration": 87,
    "start_time": "2024-09-18T15:31:36.643Z"
   },
   {
    "duration": 18,
    "start_time": "2024-09-18T15:31:36.732Z"
   },
   {
    "duration": 85,
    "start_time": "2024-09-18T15:31:36.751Z"
   },
   {
    "duration": 17,
    "start_time": "2024-09-18T15:31:36.838Z"
   },
   {
    "duration": 27,
    "start_time": "2024-09-18T15:31:36.856Z"
   },
   {
    "duration": 20,
    "start_time": "2024-09-18T15:31:36.884Z"
   },
   {
    "duration": 37,
    "start_time": "2024-09-18T15:31:36.905Z"
   },
   {
    "duration": 50,
    "start_time": "2024-09-18T15:31:36.943Z"
   },
   {
    "duration": 6,
    "start_time": "2024-09-18T15:31:36.995Z"
   },
   {
    "duration": 14,
    "start_time": "2024-09-18T15:31:37.002Z"
   },
   {
    "duration": 24,
    "start_time": "2024-09-18T15:31:37.018Z"
   },
   {
    "duration": 130,
    "start_time": "2024-09-18T15:31:37.044Z"
   },
   {
    "duration": 3,
    "start_time": "2024-09-18T15:31:37.176Z"
   },
   {
    "duration": 27,
    "start_time": "2024-09-18T15:31:37.180Z"
   },
   {
    "duration": 23,
    "start_time": "2024-09-18T15:31:37.208Z"
   },
   {
    "duration": 15,
    "start_time": "2024-09-18T15:31:37.233Z"
   },
   {
    "duration": 178,
    "start_time": "2024-09-18T15:31:37.250Z"
   },
   {
    "duration": 5,
    "start_time": "2024-09-18T15:31:37.430Z"
   },
   {
    "duration": 32,
    "start_time": "2024-09-18T15:31:37.436Z"
   },
   {
    "duration": 26,
    "start_time": "2024-09-18T15:31:37.470Z"
   },
   {
    "duration": 5,
    "start_time": "2024-09-18T15:31:37.498Z"
   },
   {
    "duration": 155,
    "start_time": "2024-09-18T15:31:37.504Z"
   },
   {
    "duration": 4,
    "start_time": "2024-09-18T15:31:37.660Z"
   },
   {
    "duration": 5,
    "start_time": "2024-09-18T15:31:37.763Z"
   },
   {
    "duration": 17,
    "start_time": "2024-09-18T15:31:37.770Z"
   },
   {
    "duration": 149,
    "start_time": "2024-09-18T15:31:37.788Z"
   },
   {
    "duration": 4,
    "start_time": "2024-09-18T15:31:37.939Z"
   },
   {
    "duration": 12,
    "start_time": "2024-09-18T15:31:37.945Z"
   },
   {
    "duration": 16,
    "start_time": "2024-09-18T15:31:37.959Z"
   },
   {
    "duration": 9,
    "start_time": "2024-09-18T15:31:37.976Z"
   },
   {
    "duration": 160,
    "start_time": "2024-09-18T15:31:37.986Z"
   },
   {
    "duration": 5,
    "start_time": "2024-09-18T15:31:38.147Z"
   },
   {
    "duration": 14,
    "start_time": "2024-09-18T15:31:38.153Z"
   },
   {
    "duration": 6,
    "start_time": "2024-09-18T15:31:38.168Z"
   },
   {
    "duration": 131,
    "start_time": "2024-09-18T15:31:38.176Z"
   },
   {
    "duration": 118,
    "start_time": "2024-09-18T15:31:38.313Z"
   },
   {
    "duration": 147,
    "start_time": "2024-09-18T15:31:38.433Z"
   },
   {
    "duration": 159,
    "start_time": "2024-09-18T15:31:38.582Z"
   },
   {
    "duration": 154,
    "start_time": "2024-09-18T15:31:38.742Z"
   },
   {
    "duration": 4,
    "start_time": "2024-09-18T15:31:38.897Z"
   },
   {
    "duration": 98,
    "start_time": "2024-09-18T15:31:38.902Z"
   },
   {
    "duration": 167,
    "start_time": "2024-09-18T15:31:39.001Z"
   },
   {
    "duration": 4,
    "start_time": "2024-09-18T15:31:39.170Z"
   },
   {
    "duration": 14,
    "start_time": "2024-09-18T15:31:39.175Z"
   },
   {
    "duration": 12,
    "start_time": "2024-09-18T15:31:39.191Z"
   },
   {
    "duration": 18,
    "start_time": "2024-09-18T15:31:39.205Z"
   },
   {
    "duration": 25,
    "start_time": "2024-09-18T15:31:39.225Z"
   },
   {
    "duration": 7,
    "start_time": "2024-09-18T15:31:39.252Z"
   },
   {
    "duration": 159,
    "start_time": "2024-09-18T15:31:39.260Z"
   },
   {
    "duration": 15,
    "start_time": "2024-09-18T15:31:39.428Z"
   },
   {
    "duration": 10,
    "start_time": "2024-09-18T15:31:39.444Z"
   },
   {
    "duration": 9,
    "start_time": "2024-09-18T15:31:39.455Z"
   },
   {
    "duration": 22,
    "start_time": "2024-09-18T15:31:39.466Z"
   },
   {
    "duration": 124,
    "start_time": "2024-09-18T15:31:39.489Z"
   },
   {
    "duration": 22,
    "start_time": "2024-09-18T15:31:39.616Z"
   },
   {
    "duration": 30,
    "start_time": "2024-09-18T15:31:39.640Z"
   },
   {
    "duration": 18,
    "start_time": "2024-09-18T15:31:39.671Z"
   },
   {
    "duration": 16,
    "start_time": "2024-09-18T15:31:39.690Z"
   },
   {
    "duration": 143,
    "start_time": "2024-09-18T15:31:39.708Z"
   },
   {
    "duration": 4,
    "start_time": "2024-09-18T15:31:39.853Z"
   },
   {
    "duration": 22,
    "start_time": "2024-09-18T15:31:39.859Z"
   },
   {
    "duration": 21,
    "start_time": "2024-09-18T15:31:39.882Z"
   },
   {
    "duration": 18,
    "start_time": "2024-09-18T15:31:39.905Z"
   },
   {
    "duration": 14,
    "start_time": "2024-09-18T15:31:39.930Z"
   },
   {
    "duration": 23,
    "start_time": "2024-09-18T15:31:39.945Z"
   },
   {
    "duration": 16,
    "start_time": "2024-09-18T15:31:39.969Z"
   },
   {
    "duration": 254,
    "start_time": "2024-09-18T15:31:39.987Z"
   },
   {
    "duration": 9,
    "start_time": "2024-09-18T15:31:40.243Z"
   },
   {
    "duration": 15,
    "start_time": "2024-09-18T15:31:40.253Z"
   },
   {
    "duration": 130,
    "start_time": "2024-09-18T15:31:40.270Z"
   },
   {
    "duration": 14,
    "start_time": "2024-09-18T15:31:40.402Z"
   },
   {
    "duration": 19,
    "start_time": "2024-09-18T15:31:40.420Z"
   },
   {
    "duration": 144,
    "start_time": "2024-09-18T15:31:40.441Z"
   },
   {
    "duration": 9,
    "start_time": "2024-09-18T15:31:40.586Z"
   },
   {
    "duration": 6,
    "start_time": "2024-09-18T15:31:40.597Z"
   },
   {
    "duration": 178,
    "start_time": "2024-09-18T15:31:40.614Z"
   },
   {
    "duration": 8,
    "start_time": "2024-09-18T15:31:40.794Z"
   },
   {
    "duration": 52,
    "start_time": "2024-09-18T15:31:40.804Z"
   },
   {
    "duration": 138,
    "start_time": "2024-09-18T15:31:40.858Z"
   },
   {
    "duration": 4,
    "start_time": "2024-09-18T15:31:40.997Z"
   },
   {
    "duration": 23,
    "start_time": "2024-09-18T15:31:41.002Z"
   },
   {
    "duration": 16,
    "start_time": "2024-09-18T15:31:41.029Z"
   },
   {
    "duration": 8,
    "start_time": "2024-09-18T15:31:41.047Z"
   },
   {
    "duration": 213,
    "start_time": "2024-09-18T15:31:41.056Z"
   },
   {
    "duration": 7,
    "start_time": "2024-09-18T15:31:41.271Z"
   },
   {
    "duration": 6,
    "start_time": "2024-09-18T15:31:41.279Z"
   },
   {
    "duration": 340,
    "start_time": "2024-09-18T15:31:41.287Z"
   },
   {
    "duration": 420,
    "start_time": "2024-09-18T15:32:23.338Z"
   },
   {
    "duration": 113,
    "start_time": "2024-09-18T15:32:23.760Z"
   },
   {
    "duration": 2,
    "start_time": "2024-09-18T15:32:23.875Z"
   },
   {
    "duration": 78,
    "start_time": "2024-09-18T15:32:23.879Z"
   },
   {
    "duration": 31,
    "start_time": "2024-09-18T15:32:23.959Z"
   },
   {
    "duration": 2333,
    "start_time": "2024-09-18T15:32:23.992Z"
   },
   {
    "duration": 21,
    "start_time": "2024-09-18T15:32:26.326Z"
   },
   {
    "duration": 13,
    "start_time": "2024-09-18T15:32:26.348Z"
   },
   {
    "duration": 5,
    "start_time": "2024-09-18T15:32:26.363Z"
   },
   {
    "duration": 4,
    "start_time": "2024-09-18T15:32:26.369Z"
   },
   {
    "duration": 8,
    "start_time": "2024-09-18T15:32:26.375Z"
   },
   {
    "duration": 10,
    "start_time": "2024-09-18T15:32:26.384Z"
   },
   {
    "duration": 17,
    "start_time": "2024-09-18T15:32:26.395Z"
   },
   {
    "duration": 16,
    "start_time": "2024-09-18T15:32:26.416Z"
   },
   {
    "duration": 10,
    "start_time": "2024-09-18T15:32:26.436Z"
   },
   {
    "duration": 19,
    "start_time": "2024-09-18T15:32:26.447Z"
   },
   {
    "duration": 14,
    "start_time": "2024-09-18T15:32:26.468Z"
   },
   {
    "duration": 7,
    "start_time": "2024-09-18T15:32:26.483Z"
   },
   {
    "duration": 5,
    "start_time": "2024-09-18T15:32:26.491Z"
   },
   {
    "duration": 77,
    "start_time": "2024-09-18T15:32:26.498Z"
   },
   {
    "duration": 4,
    "start_time": "2024-09-18T15:32:26.577Z"
   },
   {
    "duration": 5,
    "start_time": "2024-09-18T15:32:26.583Z"
   },
   {
    "duration": 4,
    "start_time": "2024-09-18T15:32:26.589Z"
   },
   {
    "duration": 29,
    "start_time": "2024-09-18T15:32:26.594Z"
   },
   {
    "duration": 16,
    "start_time": "2024-09-18T15:32:26.624Z"
   },
   {
    "duration": 93,
    "start_time": "2024-09-18T15:32:26.641Z"
   },
   {
    "duration": 6,
    "start_time": "2024-09-18T15:32:26.736Z"
   },
   {
    "duration": 11,
    "start_time": "2024-09-18T15:32:26.744Z"
   },
   {
    "duration": 124,
    "start_time": "2024-09-18T15:32:26.757Z"
   },
   {
    "duration": 4,
    "start_time": "2024-09-18T15:32:26.883Z"
   },
   {
    "duration": 11,
    "start_time": "2024-09-18T15:32:26.888Z"
   },
   {
    "duration": 7,
    "start_time": "2024-09-18T15:32:26.901Z"
   },
   {
    "duration": 11,
    "start_time": "2024-09-18T15:32:26.910Z"
   },
   {
    "duration": 130,
    "start_time": "2024-09-18T15:32:26.931Z"
   },
   {
    "duration": 3,
    "start_time": "2024-09-18T15:32:27.063Z"
   },
   {
    "duration": 11,
    "start_time": "2024-09-18T15:32:27.067Z"
   },
   {
    "duration": 7,
    "start_time": "2024-09-18T15:32:27.079Z"
   },
   {
    "duration": 5,
    "start_time": "2024-09-18T15:32:27.087Z"
   },
   {
    "duration": 155,
    "start_time": "2024-09-18T15:32:27.093Z"
   },
   {
    "duration": 4,
    "start_time": "2024-09-18T15:32:27.249Z"
   },
   {
    "duration": 8,
    "start_time": "2024-09-18T15:32:27.371Z"
   },
   {
    "duration": 35,
    "start_time": "2024-09-18T15:32:27.380Z"
   },
   {
    "duration": 139,
    "start_time": "2024-09-18T15:32:27.417Z"
   },
   {
    "duration": 2,
    "start_time": "2024-09-18T15:32:27.558Z"
   },
   {
    "duration": 10,
    "start_time": "2024-09-18T15:32:27.561Z"
   },
   {
    "duration": 15,
    "start_time": "2024-09-18T15:32:27.573Z"
   },
   {
    "duration": 14,
    "start_time": "2024-09-18T15:32:27.589Z"
   },
   {
    "duration": 176,
    "start_time": "2024-09-18T15:32:27.605Z"
   },
   {
    "duration": 4,
    "start_time": "2024-09-18T15:32:27.782Z"
   },
   {
    "duration": 141,
    "start_time": "2024-09-18T15:32:27.787Z"
   },
   {
    "duration": 19,
    "start_time": "2024-09-18T15:32:27.930Z"
   },
   {
    "duration": 6,
    "start_time": "2024-09-18T15:32:27.950Z"
   },
   {
    "duration": 117,
    "start_time": "2024-09-18T15:32:27.957Z"
   },
   {
    "duration": 92,
    "start_time": "2024-09-18T15:32:28.075Z"
   },
   {
    "duration": 110,
    "start_time": "2024-09-18T15:32:28.168Z"
   },
   {
    "duration": 162,
    "start_time": "2024-09-18T15:32:28.279Z"
   },
   {
    "duration": 149,
    "start_time": "2024-09-18T15:32:28.443Z"
   },
   {
    "duration": 154,
    "start_time": "2024-09-18T15:32:28.593Z"
   },
   {
    "duration": 4,
    "start_time": "2024-09-18T15:32:28.748Z"
   },
   {
    "duration": 154,
    "start_time": "2024-09-18T15:32:28.754Z"
   },
   {
    "duration": 5,
    "start_time": "2024-09-18T15:32:28.910Z"
   },
   {
    "duration": 15,
    "start_time": "2024-09-18T15:32:28.920Z"
   },
   {
    "duration": 20,
    "start_time": "2024-09-18T15:32:28.936Z"
   },
   {
    "duration": 5,
    "start_time": "2024-09-18T15:32:28.958Z"
   },
   {
    "duration": 10,
    "start_time": "2024-09-18T15:32:28.964Z"
   },
   {
    "duration": 7,
    "start_time": "2024-09-18T15:32:28.975Z"
   },
   {
    "duration": 157,
    "start_time": "2024-09-18T15:32:28.983Z"
   },
   {
    "duration": 11,
    "start_time": "2024-09-18T15:32:29.142Z"
   },
   {
    "duration": 6,
    "start_time": "2024-09-18T15:32:29.154Z"
   },
   {
    "duration": 16,
    "start_time": "2024-09-18T15:32:29.161Z"
   },
   {
    "duration": 10,
    "start_time": "2024-09-18T15:32:29.179Z"
   },
   {
    "duration": 120,
    "start_time": "2024-09-18T15:32:29.190Z"
   },
   {
    "duration": 15,
    "start_time": "2024-09-18T15:32:29.312Z"
   },
   {
    "duration": 107,
    "start_time": "2024-09-18T15:32:29.329Z"
   },
   {
    "duration": 13,
    "start_time": "2024-09-18T15:32:29.438Z"
   },
   {
    "duration": 6,
    "start_time": "2024-09-18T15:32:29.452Z"
   },
   {
    "duration": 123,
    "start_time": "2024-09-18T15:32:29.460Z"
   },
   {
    "duration": 4,
    "start_time": "2024-09-18T15:32:29.584Z"
   },
   {
    "duration": 35,
    "start_time": "2024-09-18T15:32:29.589Z"
   },
   {
    "duration": 19,
    "start_time": "2024-09-18T15:32:29.626Z"
   },
   {
    "duration": 4,
    "start_time": "2024-09-18T15:32:29.646Z"
   },
   {
    "duration": 4,
    "start_time": "2024-09-18T15:32:29.652Z"
   },
   {
    "duration": 6,
    "start_time": "2024-09-18T15:32:29.657Z"
   },
   {
    "duration": 8,
    "start_time": "2024-09-18T15:32:29.664Z"
   },
   {
    "duration": 218,
    "start_time": "2024-09-18T15:32:29.674Z"
   },
   {
    "duration": 9,
    "start_time": "2024-09-18T15:32:29.893Z"
   },
   {
    "duration": 24,
    "start_time": "2024-09-18T15:32:29.903Z"
   },
   {
    "duration": 122,
    "start_time": "2024-09-18T15:32:29.937Z"
   },
   {
    "duration": 8,
    "start_time": "2024-09-18T15:32:30.060Z"
   },
   {
    "duration": 40,
    "start_time": "2024-09-18T15:32:30.070Z"
   },
   {
    "duration": 163,
    "start_time": "2024-09-18T15:32:30.111Z"
   },
   {
    "duration": 9,
    "start_time": "2024-09-18T15:32:30.276Z"
   },
   {
    "duration": 13,
    "start_time": "2024-09-18T15:32:30.286Z"
   },
   {
    "duration": 185,
    "start_time": "2024-09-18T15:32:30.300Z"
   },
   {
    "duration": 9,
    "start_time": "2024-09-18T15:32:30.486Z"
   },
   {
    "duration": 20,
    "start_time": "2024-09-18T15:32:30.496Z"
   },
   {
    "duration": 140,
    "start_time": "2024-09-18T15:32:30.526Z"
   },
   {
    "duration": 4,
    "start_time": "2024-09-18T15:32:30.668Z"
   },
   {
    "duration": 185,
    "start_time": "2024-09-18T15:32:30.674Z"
   },
   {
    "duration": 19,
    "start_time": "2024-09-18T15:32:30.861Z"
   },
   {
    "duration": 9,
    "start_time": "2024-09-18T15:32:30.881Z"
   },
   {
    "duration": 228,
    "start_time": "2024-09-18T15:32:30.892Z"
   },
   {
    "duration": 12,
    "start_time": "2024-09-18T15:32:31.128Z"
   },
   {
    "duration": 21,
    "start_time": "2024-09-18T15:32:31.142Z"
   },
   {
    "duration": 330,
    "start_time": "2024-09-18T15:32:31.164Z"
   },
   {
    "duration": 472,
    "start_time": "2024-09-19T17:12:04.327Z"
   },
   {
    "duration": 174,
    "start_time": "2024-09-19T17:12:04.801Z"
   },
   {
    "duration": 3,
    "start_time": "2024-09-19T17:12:04.977Z"
   },
   {
    "duration": 62,
    "start_time": "2024-09-19T17:12:04.982Z"
   },
   {
    "duration": 15,
    "start_time": "2024-09-19T17:12:05.045Z"
   },
   {
    "duration": 2401,
    "start_time": "2024-09-19T17:12:05.062Z"
   },
   {
    "duration": 10,
    "start_time": "2024-09-19T17:12:07.465Z"
   },
   {
    "duration": 5,
    "start_time": "2024-09-19T17:12:07.476Z"
   },
   {
    "duration": 20,
    "start_time": "2024-09-19T17:12:07.482Z"
   },
   {
    "duration": 11,
    "start_time": "2024-09-19T17:12:07.504Z"
   },
   {
    "duration": 17,
    "start_time": "2024-09-19T17:12:07.517Z"
   },
   {
    "duration": 36,
    "start_time": "2024-09-19T17:12:07.535Z"
   },
   {
    "duration": 36,
    "start_time": "2024-09-19T17:12:07.572Z"
   },
   {
    "duration": 23,
    "start_time": "2024-09-19T17:12:07.610Z"
   },
   {
    "duration": 14,
    "start_time": "2024-09-19T17:12:07.635Z"
   },
   {
    "duration": 28,
    "start_time": "2024-09-19T17:12:07.650Z"
   },
   {
    "duration": 16,
    "start_time": "2024-09-19T17:12:07.680Z"
   },
   {
    "duration": 7,
    "start_time": "2024-09-19T17:12:07.697Z"
   },
   {
    "duration": 7,
    "start_time": "2024-09-19T17:12:07.706Z"
   },
   {
    "duration": 67,
    "start_time": "2024-09-19T17:12:07.714Z"
   },
   {
    "duration": 5,
    "start_time": "2024-09-19T17:12:07.783Z"
   },
   {
    "duration": 13,
    "start_time": "2024-09-19T17:12:07.789Z"
   },
   {
    "duration": 6,
    "start_time": "2024-09-19T17:12:07.803Z"
   },
   {
    "duration": 21,
    "start_time": "2024-09-19T17:12:07.810Z"
   },
   {
    "duration": 4,
    "start_time": "2024-09-19T17:12:07.833Z"
   },
   {
    "duration": 10,
    "start_time": "2024-09-19T17:12:07.838Z"
   },
   {
    "duration": 9,
    "start_time": "2024-09-19T17:12:07.849Z"
   },
   {
    "duration": 29,
    "start_time": "2024-09-19T17:12:07.862Z"
   },
   {
    "duration": 112,
    "start_time": "2024-09-19T17:12:07.893Z"
   },
   {
    "duration": 4,
    "start_time": "2024-09-19T17:12:08.007Z"
   },
   {
    "duration": 116,
    "start_time": "2024-09-19T17:12:08.012Z"
   },
   {
    "duration": 13,
    "start_time": "2024-09-19T17:12:08.130Z"
   },
   {
    "duration": 7,
    "start_time": "2024-09-19T17:12:08.145Z"
   },
   {
    "duration": 133,
    "start_time": "2024-09-19T17:12:08.154Z"
   },
   {
    "duration": 3,
    "start_time": "2024-09-19T17:12:08.289Z"
   },
   {
    "duration": 8,
    "start_time": "2024-09-19T17:12:08.294Z"
   },
   {
    "duration": 8,
    "start_time": "2024-09-19T17:12:08.304Z"
   },
   {
    "duration": 6,
    "start_time": "2024-09-19T17:12:08.314Z"
   },
   {
    "duration": 213,
    "start_time": "2024-09-19T17:12:08.322Z"
   },
   {
    "duration": 4,
    "start_time": "2024-09-19T17:12:08.537Z"
   },
   {
    "duration": 30,
    "start_time": "2024-09-19T17:12:08.542Z"
   },
   {
    "duration": 26,
    "start_time": "2024-09-19T17:12:08.573Z"
   },
   {
    "duration": 166,
    "start_time": "2024-09-19T17:12:08.600Z"
   },
   {
    "duration": 3,
    "start_time": "2024-09-19T17:12:08.768Z"
   },
   {
    "duration": 25,
    "start_time": "2024-09-19T17:12:08.772Z"
   },
   {
    "duration": 6,
    "start_time": "2024-09-19T17:12:08.799Z"
   },
   {
    "duration": 10,
    "start_time": "2024-09-19T17:12:08.806Z"
   },
   {
    "duration": 130,
    "start_time": "2024-09-19T17:12:08.817Z"
   },
   {
    "duration": 7,
    "start_time": "2024-09-19T17:12:08.948Z"
   },
   {
    "duration": 69,
    "start_time": "2024-09-19T17:12:08.956Z"
   },
   {
    "duration": 115,
    "start_time": "2024-09-19T17:12:09.148Z"
   },
   {
    "duration": 130,
    "start_time": "2024-09-19T17:12:09.264Z"
   },
   {
    "duration": 127,
    "start_time": "2024-09-19T17:12:09.395Z"
   },
   {
    "duration": 129,
    "start_time": "2024-09-19T17:12:09.524Z"
   },
   {
    "duration": 4,
    "start_time": "2024-09-19T17:12:09.654Z"
   },
   {
    "duration": 128,
    "start_time": "2024-09-19T17:12:09.659Z"
   },
   {
    "duration": 4,
    "start_time": "2024-09-19T17:12:09.788Z"
   },
   {
    "duration": 9,
    "start_time": "2024-09-19T17:12:09.793Z"
   },
   {
    "duration": 100,
    "start_time": "2024-09-19T17:12:09.804Z"
   },
   {
    "duration": 0,
    "start_time": "2024-09-19T17:12:09.906Z"
   },
   {
    "duration": 0,
    "start_time": "2024-09-19T17:12:09.907Z"
   },
   {
    "duration": 0,
    "start_time": "2024-09-19T17:12:09.908Z"
   },
   {
    "duration": 0,
    "start_time": "2024-09-19T17:12:09.909Z"
   },
   {
    "duration": 0,
    "start_time": "2024-09-19T17:12:09.910Z"
   },
   {
    "duration": 0,
    "start_time": "2024-09-19T17:12:09.911Z"
   },
   {
    "duration": 0,
    "start_time": "2024-09-19T17:12:09.912Z"
   },
   {
    "duration": 0,
    "start_time": "2024-09-19T17:12:09.913Z"
   },
   {
    "duration": 0,
    "start_time": "2024-09-19T17:12:09.914Z"
   },
   {
    "duration": 0,
    "start_time": "2024-09-19T17:12:09.916Z"
   },
   {
    "duration": 0,
    "start_time": "2024-09-19T17:12:09.916Z"
   },
   {
    "duration": 0,
    "start_time": "2024-09-19T17:12:09.917Z"
   },
   {
    "duration": 0,
    "start_time": "2024-09-19T17:12:09.918Z"
   },
   {
    "duration": 0,
    "start_time": "2024-09-19T17:12:09.919Z"
   },
   {
    "duration": 0,
    "start_time": "2024-09-19T17:12:09.920Z"
   },
   {
    "duration": 0,
    "start_time": "2024-09-19T17:12:09.922Z"
   },
   {
    "duration": 0,
    "start_time": "2024-09-19T17:12:09.954Z"
   },
   {
    "duration": 0,
    "start_time": "2024-09-19T17:12:09.955Z"
   },
   {
    "duration": 0,
    "start_time": "2024-09-19T17:12:09.956Z"
   },
   {
    "duration": 0,
    "start_time": "2024-09-19T17:12:09.958Z"
   },
   {
    "duration": 0,
    "start_time": "2024-09-19T17:12:09.959Z"
   },
   {
    "duration": 0,
    "start_time": "2024-09-19T17:12:09.960Z"
   },
   {
    "duration": 0,
    "start_time": "2024-09-19T17:12:09.962Z"
   },
   {
    "duration": 0,
    "start_time": "2024-09-19T17:12:09.964Z"
   },
   {
    "duration": 0,
    "start_time": "2024-09-19T17:12:09.966Z"
   },
   {
    "duration": 0,
    "start_time": "2024-09-19T17:12:09.967Z"
   },
   {
    "duration": 0,
    "start_time": "2024-09-19T17:12:09.969Z"
   },
   {
    "duration": 0,
    "start_time": "2024-09-19T17:12:09.970Z"
   },
   {
    "duration": 0,
    "start_time": "2024-09-19T17:12:09.972Z"
   },
   {
    "duration": 0,
    "start_time": "2024-09-19T17:12:09.973Z"
   },
   {
    "duration": 0,
    "start_time": "2024-09-19T17:12:09.974Z"
   },
   {
    "duration": 0,
    "start_time": "2024-09-19T17:12:09.975Z"
   },
   {
    "duration": 0,
    "start_time": "2024-09-19T17:12:09.977Z"
   },
   {
    "duration": 0,
    "start_time": "2024-09-19T17:12:09.978Z"
   },
   {
    "duration": 0,
    "start_time": "2024-09-19T17:12:09.979Z"
   },
   {
    "duration": 0,
    "start_time": "2024-09-19T17:12:09.981Z"
   },
   {
    "duration": 0,
    "start_time": "2024-09-19T17:12:09.982Z"
   },
   {
    "duration": 0,
    "start_time": "2024-09-19T17:12:09.984Z"
   },
   {
    "duration": 0,
    "start_time": "2024-09-19T17:12:09.985Z"
   },
   {
    "duration": 0,
    "start_time": "2024-09-19T17:12:09.986Z"
   },
   {
    "duration": 0,
    "start_time": "2024-09-19T17:12:09.987Z"
   },
   {
    "duration": 0,
    "start_time": "2024-09-19T17:12:09.989Z"
   },
   {
    "duration": 5,
    "start_time": "2024-09-19T17:12:34.994Z"
   },
   {
    "duration": 187,
    "start_time": "2024-09-19T17:12:35.000Z"
   },
   {
    "duration": 444,
    "start_time": "2024-09-19T17:12:53.431Z"
   },
   {
    "duration": 101,
    "start_time": "2024-09-19T17:12:53.876Z"
   },
   {
    "duration": 3,
    "start_time": "2024-09-19T17:12:53.978Z"
   },
   {
    "duration": 59,
    "start_time": "2024-09-19T17:12:53.983Z"
   },
   {
    "duration": 21,
    "start_time": "2024-09-19T17:12:54.043Z"
   },
   {
    "duration": 2158,
    "start_time": "2024-09-19T17:12:54.066Z"
   },
   {
    "duration": 10,
    "start_time": "2024-09-19T17:12:56.225Z"
   },
   {
    "duration": 33,
    "start_time": "2024-09-19T17:12:56.237Z"
   },
   {
    "duration": 16,
    "start_time": "2024-09-19T17:12:56.271Z"
   },
   {
    "duration": 21,
    "start_time": "2024-09-19T17:12:56.290Z"
   },
   {
    "duration": 28,
    "start_time": "2024-09-19T17:12:56.312Z"
   },
   {
    "duration": 14,
    "start_time": "2024-09-19T17:12:56.342Z"
   },
   {
    "duration": 13,
    "start_time": "2024-09-19T17:12:56.358Z"
   },
   {
    "duration": 28,
    "start_time": "2024-09-19T17:12:56.373Z"
   },
   {
    "duration": 45,
    "start_time": "2024-09-19T17:12:56.403Z"
   },
   {
    "duration": 27,
    "start_time": "2024-09-19T17:12:56.449Z"
   },
   {
    "duration": 35,
    "start_time": "2024-09-19T17:12:56.478Z"
   },
   {
    "duration": 19,
    "start_time": "2024-09-19T17:12:56.515Z"
   },
   {
    "duration": 29,
    "start_time": "2024-09-19T17:12:56.535Z"
   },
   {
    "duration": 86,
    "start_time": "2024-09-19T17:12:56.565Z"
   },
   {
    "duration": 48,
    "start_time": "2024-09-19T17:12:56.652Z"
   },
   {
    "duration": 9,
    "start_time": "2024-09-19T17:12:56.702Z"
   },
   {
    "duration": 9,
    "start_time": "2024-09-19T17:12:56.713Z"
   },
   {
    "duration": 29,
    "start_time": "2024-09-19T17:12:56.723Z"
   },
   {
    "duration": 28,
    "start_time": "2024-09-19T17:12:56.753Z"
   },
   {
    "duration": 40,
    "start_time": "2024-09-19T17:12:56.783Z"
   },
   {
    "duration": 18,
    "start_time": "2024-09-19T17:12:56.825Z"
   },
   {
    "duration": 33,
    "start_time": "2024-09-19T17:12:56.847Z"
   },
   {
    "duration": 122,
    "start_time": "2024-09-19T17:12:56.882Z"
   },
   {
    "duration": 4,
    "start_time": "2024-09-19T17:12:57.005Z"
   },
   {
    "duration": 49,
    "start_time": "2024-09-19T17:12:57.010Z"
   },
   {
    "duration": 35,
    "start_time": "2024-09-19T17:12:57.061Z"
   },
   {
    "duration": 15,
    "start_time": "2024-09-19T17:12:57.097Z"
   },
   {
    "duration": 167,
    "start_time": "2024-09-19T17:12:57.113Z"
   },
   {
    "duration": 4,
    "start_time": "2024-09-19T17:12:57.281Z"
   },
   {
    "duration": 15,
    "start_time": "2024-09-19T17:12:57.286Z"
   },
   {
    "duration": 37,
    "start_time": "2024-09-19T17:12:57.303Z"
   },
   {
    "duration": 33,
    "start_time": "2024-09-19T17:12:57.342Z"
   },
   {
    "duration": 145,
    "start_time": "2024-09-19T17:12:57.376Z"
   },
   {
    "duration": 4,
    "start_time": "2024-09-19T17:12:57.522Z"
   },
   {
    "duration": 21,
    "start_time": "2024-09-19T17:12:57.527Z"
   },
   {
    "duration": 20,
    "start_time": "2024-09-19T17:12:57.550Z"
   },
   {
    "duration": 226,
    "start_time": "2024-09-19T17:12:57.571Z"
   },
   {
    "duration": 4,
    "start_time": "2024-09-19T17:12:57.799Z"
   },
   {
    "duration": 35,
    "start_time": "2024-09-19T17:12:57.804Z"
   },
   {
    "duration": 30,
    "start_time": "2024-09-19T17:12:57.841Z"
   },
   {
    "duration": 39,
    "start_time": "2024-09-19T17:12:57.873Z"
   },
   {
    "duration": 157,
    "start_time": "2024-09-19T17:12:57.913Z"
   },
   {
    "duration": 3,
    "start_time": "2024-09-19T17:12:58.072Z"
   },
   {
    "duration": 79,
    "start_time": "2024-09-19T17:12:58.077Z"
   },
   {
    "duration": 29,
    "start_time": "2024-09-19T17:12:58.157Z"
   },
   {
    "duration": 147,
    "start_time": "2024-09-19T17:12:58.188Z"
   },
   {
    "duration": 117,
    "start_time": "2024-09-19T17:12:58.336Z"
   },
   {
    "duration": 108,
    "start_time": "2024-09-19T17:12:58.454Z"
   },
   {
    "duration": 122,
    "start_time": "2024-09-19T17:12:58.563Z"
   },
   {
    "duration": 119,
    "start_time": "2024-09-19T17:12:58.686Z"
   },
   {
    "duration": 4,
    "start_time": "2024-09-19T17:12:58.807Z"
   },
   {
    "duration": 185,
    "start_time": "2024-09-19T17:12:58.812Z"
   },
   {
    "duration": 7,
    "start_time": "2024-09-19T17:12:58.999Z"
   },
   {
    "duration": 24,
    "start_time": "2024-09-19T17:12:59.008Z"
   },
   {
    "duration": 84,
    "start_time": "2024-09-19T17:12:59.033Z"
   },
   {
    "duration": 0,
    "start_time": "2024-09-19T17:12:59.119Z"
   },
   {
    "duration": 0,
    "start_time": "2024-09-19T17:12:59.120Z"
   },
   {
    "duration": 0,
    "start_time": "2024-09-19T17:12:59.121Z"
   },
   {
    "duration": 0,
    "start_time": "2024-09-19T17:12:59.122Z"
   },
   {
    "duration": 0,
    "start_time": "2024-09-19T17:12:59.123Z"
   },
   {
    "duration": 0,
    "start_time": "2024-09-19T17:12:59.124Z"
   },
   {
    "duration": 0,
    "start_time": "2024-09-19T17:12:59.125Z"
   },
   {
    "duration": 0,
    "start_time": "2024-09-19T17:12:59.126Z"
   },
   {
    "duration": 0,
    "start_time": "2024-09-19T17:12:59.127Z"
   },
   {
    "duration": 0,
    "start_time": "2024-09-19T17:12:59.128Z"
   },
   {
    "duration": 0,
    "start_time": "2024-09-19T17:12:59.129Z"
   },
   {
    "duration": 0,
    "start_time": "2024-09-19T17:12:59.129Z"
   },
   {
    "duration": 0,
    "start_time": "2024-09-19T17:12:59.130Z"
   },
   {
    "duration": 0,
    "start_time": "2024-09-19T17:12:59.153Z"
   },
   {
    "duration": 0,
    "start_time": "2024-09-19T17:12:59.155Z"
   },
   {
    "duration": 0,
    "start_time": "2024-09-19T17:12:59.156Z"
   },
   {
    "duration": 0,
    "start_time": "2024-09-19T17:12:59.157Z"
   },
   {
    "duration": 0,
    "start_time": "2024-09-19T17:12:59.158Z"
   },
   {
    "duration": 0,
    "start_time": "2024-09-19T17:12:59.159Z"
   },
   {
    "duration": 0,
    "start_time": "2024-09-19T17:12:59.160Z"
   },
   {
    "duration": 0,
    "start_time": "2024-09-19T17:12:59.160Z"
   },
   {
    "duration": 0,
    "start_time": "2024-09-19T17:12:59.161Z"
   },
   {
    "duration": 0,
    "start_time": "2024-09-19T17:12:59.162Z"
   },
   {
    "duration": 0,
    "start_time": "2024-09-19T17:12:59.163Z"
   },
   {
    "duration": 0,
    "start_time": "2024-09-19T17:12:59.164Z"
   },
   {
    "duration": 0,
    "start_time": "2024-09-19T17:12:59.165Z"
   },
   {
    "duration": 0,
    "start_time": "2024-09-19T17:12:59.166Z"
   },
   {
    "duration": 0,
    "start_time": "2024-09-19T17:12:59.167Z"
   },
   {
    "duration": 0,
    "start_time": "2024-09-19T17:12:59.168Z"
   },
   {
    "duration": 0,
    "start_time": "2024-09-19T17:12:59.169Z"
   },
   {
    "duration": 0,
    "start_time": "2024-09-19T17:12:59.170Z"
   },
   {
    "duration": 0,
    "start_time": "2024-09-19T17:12:59.171Z"
   },
   {
    "duration": 0,
    "start_time": "2024-09-19T17:12:59.172Z"
   },
   {
    "duration": 0,
    "start_time": "2024-09-19T17:12:59.173Z"
   },
   {
    "duration": 0,
    "start_time": "2024-09-19T17:12:59.174Z"
   },
   {
    "duration": 0,
    "start_time": "2024-09-19T17:12:59.175Z"
   },
   {
    "duration": 0,
    "start_time": "2024-09-19T17:12:59.176Z"
   },
   {
    "duration": 0,
    "start_time": "2024-09-19T17:12:59.177Z"
   },
   {
    "duration": 0,
    "start_time": "2024-09-19T17:12:59.178Z"
   },
   {
    "duration": 0,
    "start_time": "2024-09-19T17:12:59.179Z"
   },
   {
    "duration": 1,
    "start_time": "2024-09-19T17:12:59.179Z"
   },
   {
    "duration": 0,
    "start_time": "2024-09-19T17:12:59.180Z"
   },
   {
    "duration": 50,
    "start_time": "2024-09-23T11:30:32.236Z"
   },
   {
    "duration": 467,
    "start_time": "2024-09-23T11:30:40.889Z"
   },
   {
    "duration": 163,
    "start_time": "2024-09-23T11:30:41.358Z"
   },
   {
    "duration": 3,
    "start_time": "2024-09-23T11:30:41.523Z"
   },
   {
    "duration": 41,
    "start_time": "2024-09-23T11:30:41.528Z"
   },
   {
    "duration": 38,
    "start_time": "2024-09-23T11:30:41.571Z"
   },
   {
    "duration": 2450,
    "start_time": "2024-09-23T11:30:41.611Z"
   },
   {
    "duration": 11,
    "start_time": "2024-09-23T11:30:44.063Z"
   },
   {
    "duration": 6,
    "start_time": "2024-09-23T11:30:44.075Z"
   },
   {
    "duration": 7,
    "start_time": "2024-09-23T11:30:44.083Z"
   },
   {
    "duration": 17,
    "start_time": "2024-09-23T11:30:44.093Z"
   },
   {
    "duration": 26,
    "start_time": "2024-09-23T11:30:44.112Z"
   },
   {
    "duration": 24,
    "start_time": "2024-09-23T11:30:44.139Z"
   },
   {
    "duration": 5,
    "start_time": "2024-09-23T11:30:44.165Z"
   },
   {
    "duration": 13,
    "start_time": "2024-09-23T11:30:44.172Z"
   },
   {
    "duration": 15,
    "start_time": "2024-09-23T11:30:44.187Z"
   },
   {
    "duration": 9,
    "start_time": "2024-09-23T11:30:44.204Z"
   },
   {
    "duration": 19,
    "start_time": "2024-09-23T11:30:44.214Z"
   },
   {
    "duration": 6,
    "start_time": "2024-09-23T11:30:44.235Z"
   },
   {
    "duration": 5,
    "start_time": "2024-09-23T11:30:44.243Z"
   },
   {
    "duration": 90,
    "start_time": "2024-09-23T11:30:44.250Z"
   },
   {
    "duration": 6,
    "start_time": "2024-09-23T11:30:44.342Z"
   },
   {
    "duration": 21,
    "start_time": "2024-09-23T11:30:44.349Z"
   },
   {
    "duration": 3,
    "start_time": "2024-09-23T11:30:44.372Z"
   },
   {
    "duration": 17,
    "start_time": "2024-09-23T11:30:44.377Z"
   },
   {
    "duration": 4,
    "start_time": "2024-09-23T11:30:44.396Z"
   },
   {
    "duration": 4,
    "start_time": "2024-09-23T11:30:44.401Z"
   },
   {
    "duration": 9,
    "start_time": "2024-09-23T11:30:44.407Z"
   },
   {
    "duration": 17,
    "start_time": "2024-09-23T11:30:44.420Z"
   },
   {
    "duration": 124,
    "start_time": "2024-09-23T11:30:44.438Z"
   },
   {
    "duration": 4,
    "start_time": "2024-09-23T11:30:44.564Z"
   },
   {
    "duration": 6,
    "start_time": "2024-09-23T11:30:44.569Z"
   },
   {
    "duration": 6,
    "start_time": "2024-09-23T11:30:44.576Z"
   },
   {
    "duration": 7,
    "start_time": "2024-09-23T11:30:44.604Z"
   },
   {
    "duration": 147,
    "start_time": "2024-09-23T11:30:44.613Z"
   },
   {
    "duration": 6,
    "start_time": "2024-09-23T11:30:44.762Z"
   },
   {
    "duration": 13,
    "start_time": "2024-09-23T11:30:44.770Z"
   },
   {
    "duration": 14,
    "start_time": "2024-09-23T11:30:44.785Z"
   },
   {
    "duration": 6,
    "start_time": "2024-09-23T11:30:44.805Z"
   },
   {
    "duration": 234,
    "start_time": "2024-09-23T11:30:44.813Z"
   },
   {
    "duration": 4,
    "start_time": "2024-09-23T11:30:45.049Z"
   },
   {
    "duration": 20,
    "start_time": "2024-09-23T11:30:45.055Z"
   },
   {
    "duration": 97,
    "start_time": "2024-09-23T11:30:45.076Z"
   },
   {
    "duration": 127,
    "start_time": "2024-09-23T11:30:45.175Z"
   },
   {
    "duration": 3,
    "start_time": "2024-09-23T11:30:45.304Z"
   },
   {
    "duration": 14,
    "start_time": "2024-09-23T11:30:45.309Z"
   },
   {
    "duration": 12,
    "start_time": "2024-09-23T11:30:45.324Z"
   },
   {
    "duration": 18,
    "start_time": "2024-09-23T11:30:45.337Z"
   },
   {
    "duration": 138,
    "start_time": "2024-09-23T11:30:45.357Z"
   },
   {
    "duration": 9,
    "start_time": "2024-09-23T11:30:45.497Z"
   },
   {
    "duration": 9,
    "start_time": "2024-09-23T11:30:45.507Z"
   },
   {
    "duration": 7,
    "start_time": "2024-09-23T11:30:45.517Z"
   },
   {
    "duration": 125,
    "start_time": "2024-09-23T11:30:45.526Z"
   },
   {
    "duration": 107,
    "start_time": "2024-09-23T11:30:45.652Z"
   },
   {
    "duration": 135,
    "start_time": "2024-09-23T11:30:45.761Z"
   },
   {
    "duration": 159,
    "start_time": "2024-09-23T11:30:45.898Z"
   },
   {
    "duration": 160,
    "start_time": "2024-09-23T11:30:46.059Z"
   },
   {
    "duration": 5,
    "start_time": "2024-09-23T11:30:46.221Z"
   },
   {
    "duration": 154,
    "start_time": "2024-09-23T11:30:46.228Z"
   },
   {
    "duration": 4,
    "start_time": "2024-09-23T11:30:46.384Z"
   },
   {
    "duration": 16,
    "start_time": "2024-09-23T11:30:46.390Z"
   },
   {
    "duration": 13,
    "start_time": "2024-09-23T11:30:46.407Z"
   },
   {
    "duration": 6,
    "start_time": "2024-09-23T11:30:46.421Z"
   },
   {
    "duration": 11,
    "start_time": "2024-09-23T11:30:46.428Z"
   },
   {
    "duration": 7,
    "start_time": "2024-09-23T11:30:46.440Z"
   },
   {
    "duration": 167,
    "start_time": "2024-09-23T11:30:46.449Z"
   },
   {
    "duration": 10,
    "start_time": "2024-09-23T11:30:46.618Z"
   },
   {
    "duration": 85,
    "start_time": "2024-09-23T11:30:46.630Z"
   },
   {
    "duration": 11,
    "start_time": "2024-09-23T11:30:46.717Z"
   },
   {
    "duration": 12,
    "start_time": "2024-09-23T11:30:46.729Z"
   },
   {
    "duration": 137,
    "start_time": "2024-09-23T11:30:46.742Z"
   },
   {
    "duration": 12,
    "start_time": "2024-09-23T11:30:46.880Z"
   },
   {
    "duration": 16,
    "start_time": "2024-09-23T11:30:46.893Z"
   },
   {
    "duration": 12,
    "start_time": "2024-09-23T11:30:46.910Z"
   },
   {
    "duration": 7,
    "start_time": "2024-09-23T11:30:46.924Z"
   },
   {
    "duration": 132,
    "start_time": "2024-09-23T11:30:46.932Z"
   },
   {
    "duration": 4,
    "start_time": "2024-09-23T11:30:47.065Z"
   },
   {
    "duration": 5,
    "start_time": "2024-09-23T11:30:47.071Z"
   },
   {
    "duration": 92,
    "start_time": "2024-09-23T11:30:47.078Z"
   },
   {
    "duration": 19,
    "start_time": "2024-09-23T11:30:47.171Z"
   },
   {
    "duration": 13,
    "start_time": "2024-09-23T11:30:47.192Z"
   },
   {
    "duration": 20,
    "start_time": "2024-09-23T11:30:47.206Z"
   },
   {
    "duration": 66,
    "start_time": "2024-09-23T11:30:47.232Z"
   },
   {
    "duration": 244,
    "start_time": "2024-09-23T11:30:47.300Z"
   },
   {
    "duration": 9,
    "start_time": "2024-09-23T11:30:47.546Z"
   },
   {
    "duration": 49,
    "start_time": "2024-09-23T11:30:47.556Z"
   },
   {
    "duration": 134,
    "start_time": "2024-09-23T11:30:47.606Z"
   },
   {
    "duration": 9,
    "start_time": "2024-09-23T11:30:47.741Z"
   },
   {
    "duration": 31,
    "start_time": "2024-09-23T11:30:47.752Z"
   },
   {
    "duration": 140,
    "start_time": "2024-09-23T11:30:47.785Z"
   },
   {
    "duration": 9,
    "start_time": "2024-09-23T11:30:47.927Z"
   },
   {
    "duration": 14,
    "start_time": "2024-09-23T11:30:47.937Z"
   },
   {
    "duration": 171,
    "start_time": "2024-09-23T11:30:47.952Z"
   },
   {
    "duration": 8,
    "start_time": "2024-09-23T11:30:48.125Z"
   },
   {
    "duration": 7,
    "start_time": "2024-09-23T11:30:48.134Z"
   },
   {
    "duration": 157,
    "start_time": "2024-09-23T11:30:48.142Z"
   },
   {
    "duration": 3,
    "start_time": "2024-09-23T11:30:48.301Z"
   },
   {
    "duration": 11,
    "start_time": "2024-09-23T11:30:48.306Z"
   },
   {
    "duration": 5,
    "start_time": "2024-09-23T11:30:48.319Z"
   },
   {
    "duration": 7,
    "start_time": "2024-09-23T11:30:48.325Z"
   },
   {
    "duration": 199,
    "start_time": "2024-09-23T11:30:48.334Z"
   },
   {
    "duration": 6,
    "start_time": "2024-09-23T11:30:48.534Z"
   },
   {
    "duration": 12,
    "start_time": "2024-09-23T11:30:48.541Z"
   },
   {
    "duration": 292,
    "start_time": "2024-09-23T11:30:48.555Z"
   },
   {
    "duration": 2782,
    "start_time": "2024-09-23T11:31:31.318Z"
   },
   {
    "duration": 47,
    "start_time": "2024-11-05T08:49:44.836Z"
   },
   {
    "duration": 431,
    "start_time": "2024-11-05T08:49:57.006Z"
   },
   {
    "duration": 307,
    "start_time": "2024-11-05T08:49:57.440Z"
   },
   {
    "duration": 3,
    "start_time": "2024-11-05T08:49:57.748Z"
   },
   {
    "duration": 43,
    "start_time": "2024-11-05T08:49:57.752Z"
   },
   {
    "duration": 15,
    "start_time": "2024-11-05T08:49:57.797Z"
   },
   {
    "duration": 2531,
    "start_time": "2024-11-05T08:49:57.813Z"
   },
   {
    "duration": 38,
    "start_time": "2024-11-05T08:50:00.346Z"
   },
   {
    "duration": 24,
    "start_time": "2024-11-05T08:50:00.385Z"
   },
   {
    "duration": 14,
    "start_time": "2024-11-05T08:50:00.410Z"
   },
   {
    "duration": 17,
    "start_time": "2024-11-05T08:50:00.426Z"
   },
   {
    "duration": 23,
    "start_time": "2024-11-05T08:50:00.444Z"
   },
   {
    "duration": 25,
    "start_time": "2024-11-05T08:50:00.468Z"
   },
   {
    "duration": 33,
    "start_time": "2024-11-05T08:50:00.495Z"
   },
   {
    "duration": 17,
    "start_time": "2024-11-05T08:50:00.530Z"
   },
   {
    "duration": 9,
    "start_time": "2024-11-05T08:50:00.548Z"
   },
   {
    "duration": 15,
    "start_time": "2024-11-05T08:50:00.559Z"
   },
   {
    "duration": 46,
    "start_time": "2024-11-05T08:50:00.576Z"
   },
   {
    "duration": 18,
    "start_time": "2024-11-05T08:50:00.624Z"
   },
   {
    "duration": 7,
    "start_time": "2024-11-05T08:50:00.643Z"
   },
   {
    "duration": 68,
    "start_time": "2024-11-05T08:50:00.651Z"
   },
   {
    "duration": 5,
    "start_time": "2024-11-05T08:50:00.720Z"
   },
   {
    "duration": 14,
    "start_time": "2024-11-05T08:50:00.727Z"
   },
   {
    "duration": 3,
    "start_time": "2024-11-05T08:50:00.742Z"
   },
   {
    "duration": 14,
    "start_time": "2024-11-05T08:50:00.747Z"
   },
   {
    "duration": 16,
    "start_time": "2024-11-05T08:50:00.763Z"
   },
   {
    "duration": 7,
    "start_time": "2024-11-05T08:50:00.780Z"
   },
   {
    "duration": 28,
    "start_time": "2024-11-05T08:50:00.788Z"
   },
   {
    "duration": 17,
    "start_time": "2024-11-05T08:50:00.820Z"
   },
   {
    "duration": 114,
    "start_time": "2024-11-05T08:50:00.839Z"
   },
   {
    "duration": 3,
    "start_time": "2024-11-05T08:50:00.955Z"
   },
   {
    "duration": 10,
    "start_time": "2024-11-05T08:50:00.960Z"
   },
   {
    "duration": 13,
    "start_time": "2024-11-05T08:50:00.971Z"
   },
   {
    "duration": 9,
    "start_time": "2024-11-05T08:50:00.986Z"
   },
   {
    "duration": 228,
    "start_time": "2024-11-05T08:50:00.996Z"
   },
   {
    "duration": 4,
    "start_time": "2024-11-05T08:50:01.226Z"
   },
   {
    "duration": 25,
    "start_time": "2024-11-05T08:50:01.231Z"
   },
   {
    "duration": 23,
    "start_time": "2024-11-05T08:50:01.257Z"
   },
   {
    "duration": 39,
    "start_time": "2024-11-05T08:50:01.282Z"
   },
   {
    "duration": 224,
    "start_time": "2024-11-05T08:50:01.323Z"
   },
   {
    "duration": 3,
    "start_time": "2024-11-05T08:50:01.549Z"
   },
   {
    "duration": 18,
    "start_time": "2024-11-05T08:50:01.553Z"
   },
   {
    "duration": 18,
    "start_time": "2024-11-05T08:50:01.573Z"
   },
   {
    "duration": 168,
    "start_time": "2024-11-05T08:50:01.592Z"
   },
   {
    "duration": 3,
    "start_time": "2024-11-05T08:50:01.761Z"
   },
   {
    "duration": 22,
    "start_time": "2024-11-05T08:50:01.765Z"
   },
   {
    "duration": 47,
    "start_time": "2024-11-05T08:50:01.788Z"
   },
   {
    "duration": 17,
    "start_time": "2024-11-05T08:50:01.836Z"
   },
   {
    "duration": 134,
    "start_time": "2024-11-05T08:50:01.855Z"
   },
   {
    "duration": 4,
    "start_time": "2024-11-05T08:50:01.990Z"
   },
   {
    "duration": 34,
    "start_time": "2024-11-05T08:50:01.995Z"
   },
   {
    "duration": 20,
    "start_time": "2024-11-05T08:50:02.031Z"
   },
   {
    "duration": 128,
    "start_time": "2024-11-05T08:50:02.053Z"
   },
   {
    "duration": 5,
    "start_time": "2024-11-05T08:50:02.183Z"
   },
   {
    "duration": 120,
    "start_time": "2024-11-05T08:50:02.190Z"
   },
   {
    "duration": 173,
    "start_time": "2024-11-05T08:50:02.312Z"
   },
   {
    "duration": 145,
    "start_time": "2024-11-05T08:50:02.487Z"
   },
   {
    "duration": 141,
    "start_time": "2024-11-05T08:50:02.634Z"
   },
   {
    "duration": 5,
    "start_time": "2024-11-05T08:50:02.776Z"
   },
   {
    "duration": 192,
    "start_time": "2024-11-05T08:50:02.782Z"
   },
   {
    "duration": 4,
    "start_time": "2024-11-05T08:50:02.975Z"
   },
   {
    "duration": 148,
    "start_time": "2024-11-05T08:50:02.980Z"
   },
   {
    "duration": 32,
    "start_time": "2024-11-05T08:50:03.130Z"
   },
   {
    "duration": 6,
    "start_time": "2024-11-05T08:50:03.164Z"
   },
   {
    "duration": 17,
    "start_time": "2024-11-05T08:50:03.172Z"
   },
   {
    "duration": 15,
    "start_time": "2024-11-05T08:50:03.191Z"
   },
   {
    "duration": 152,
    "start_time": "2024-11-05T08:50:03.208Z"
   },
   {
    "duration": 15,
    "start_time": "2024-11-05T08:50:03.362Z"
   },
   {
    "duration": 30,
    "start_time": "2024-11-05T08:50:03.378Z"
   },
   {
    "duration": 84,
    "start_time": "2024-11-05T08:50:03.410Z"
   },
   {
    "duration": 17,
    "start_time": "2024-11-05T08:50:03.496Z"
   },
   {
    "duration": 145,
    "start_time": "2024-11-05T08:50:03.515Z"
   },
   {
    "duration": 14,
    "start_time": "2024-11-05T08:50:03.662Z"
   },
   {
    "duration": 6,
    "start_time": "2024-11-05T08:50:03.678Z"
   },
   {
    "duration": 13,
    "start_time": "2024-11-05T08:50:03.685Z"
   },
   {
    "duration": 38,
    "start_time": "2024-11-05T08:50:03.700Z"
   },
   {
    "duration": 197,
    "start_time": "2024-11-05T08:50:03.740Z"
   },
   {
    "duration": 5,
    "start_time": "2024-11-05T08:50:03.939Z"
   },
   {
    "duration": 23,
    "start_time": "2024-11-05T08:50:03.945Z"
   },
   {
    "duration": 36,
    "start_time": "2024-11-05T08:50:03.970Z"
   },
   {
    "duration": 27,
    "start_time": "2024-11-05T08:50:04.007Z"
   },
   {
    "duration": 19,
    "start_time": "2024-11-05T08:50:04.035Z"
   },
   {
    "duration": 15,
    "start_time": "2024-11-05T08:50:04.060Z"
   },
   {
    "duration": 13,
    "start_time": "2024-11-05T08:50:04.078Z"
   },
   {
    "duration": 145,
    "start_time": "2024-11-05T08:50:04.093Z"
   },
   {
    "duration": 9,
    "start_time": "2024-11-05T08:50:04.239Z"
   },
   {
    "duration": 23,
    "start_time": "2024-11-05T08:50:04.249Z"
   },
   {
    "duration": 200,
    "start_time": "2024-11-05T08:50:04.274Z"
   },
   {
    "duration": 9,
    "start_time": "2024-11-05T08:50:04.476Z"
   },
   {
    "duration": 22,
    "start_time": "2024-11-05T08:50:04.486Z"
   },
   {
    "duration": 142,
    "start_time": "2024-11-05T08:50:04.509Z"
   },
   {
    "duration": 8,
    "start_time": "2024-11-05T08:50:04.653Z"
   },
   {
    "duration": 32,
    "start_time": "2024-11-05T08:50:04.662Z"
   },
   {
    "duration": 175,
    "start_time": "2024-11-05T08:50:04.696Z"
   },
   {
    "duration": 10,
    "start_time": "2024-11-05T08:50:04.873Z"
   },
   {
    "duration": 10,
    "start_time": "2024-11-05T08:50:04.885Z"
   },
   {
    "duration": 144,
    "start_time": "2024-11-05T08:50:04.897Z"
   },
   {
    "duration": 4,
    "start_time": "2024-11-05T08:50:05.043Z"
   },
   {
    "duration": 48,
    "start_time": "2024-11-05T08:50:05.048Z"
   },
   {
    "duration": 9,
    "start_time": "2024-11-05T08:50:05.098Z"
   },
   {
    "duration": 25,
    "start_time": "2024-11-05T08:50:05.108Z"
   },
   {
    "duration": 203,
    "start_time": "2024-11-05T08:50:05.135Z"
   },
   {
    "duration": 6,
    "start_time": "2024-11-05T08:50:05.340Z"
   },
   {
    "duration": 14,
    "start_time": "2024-11-05T08:50:05.348Z"
   },
   {
    "duration": 306,
    "start_time": "2024-11-05T08:50:05.364Z"
   },
   {
    "duration": 6,
    "start_time": "2024-11-05T09:40:04.019Z"
   },
   {
    "duration": 7,
    "start_time": "2024-11-05T09:40:14.384Z"
   },
   {
    "duration": 7,
    "start_time": "2024-11-05T09:40:16.417Z"
   },
   {
    "duration": 116,
    "start_time": "2024-11-05T09:40:17.756Z"
   },
   {
    "duration": 7,
    "start_time": "2024-11-05T09:40:29.246Z"
   },
   {
    "duration": 6,
    "start_time": "2024-11-05T09:40:38.240Z"
   },
   {
    "duration": 5,
    "start_time": "2024-11-05T09:40:48.989Z"
   },
   {
    "duration": 7,
    "start_time": "2024-11-05T09:40:54.066Z"
   },
   {
    "duration": 6,
    "start_time": "2024-11-05T09:41:11.589Z"
   },
   {
    "duration": 4,
    "start_time": "2024-11-05T09:41:22.110Z"
   },
   {
    "duration": 8,
    "start_time": "2024-11-05T09:41:50.019Z"
   },
   {
    "duration": 3,
    "start_time": "2024-11-05T09:44:23.045Z"
   },
   {
    "duration": 4,
    "start_time": "2024-11-05T09:44:37.253Z"
   },
   {
    "duration": 6,
    "start_time": "2024-11-05T09:46:40.195Z"
   },
   {
    "duration": 5,
    "start_time": "2024-11-05T09:46:49.713Z"
   },
   {
    "duration": 6,
    "start_time": "2024-11-05T09:47:06.612Z"
   },
   {
    "duration": 112,
    "start_time": "2024-11-05T09:47:10.091Z"
   },
   {
    "duration": 4,
    "start_time": "2024-11-05T09:47:29.138Z"
   },
   {
    "duration": 7,
    "start_time": "2024-11-05T09:50:41.047Z"
   },
   {
    "duration": 2,
    "start_time": "2024-11-05T09:51:00.915Z"
   },
   {
    "duration": 4,
    "start_time": "2024-11-05T09:51:14.347Z"
   },
   {
    "duration": 50,
    "start_time": "2024-11-05T12:02:34.188Z"
   },
   {
    "duration": 423,
    "start_time": "2024-11-05T12:02:44.405Z"
   },
   {
    "duration": 176,
    "start_time": "2024-11-05T12:02:44.830Z"
   },
   {
    "duration": 3,
    "start_time": "2024-11-05T12:02:45.008Z"
   },
   {
    "duration": 56,
    "start_time": "2024-11-05T12:02:45.013Z"
   },
   {
    "duration": 17,
    "start_time": "2024-11-05T12:02:45.071Z"
   },
   {
    "duration": 2506,
    "start_time": "2024-11-05T12:02:45.090Z"
   },
   {
    "duration": 15,
    "start_time": "2024-11-05T12:02:47.598Z"
   },
   {
    "duration": 11,
    "start_time": "2024-11-05T12:02:47.615Z"
   },
   {
    "duration": 4,
    "start_time": "2024-11-05T12:02:47.628Z"
   },
   {
    "duration": 4,
    "start_time": "2024-11-05T12:02:47.636Z"
   },
   {
    "duration": 4,
    "start_time": "2024-11-05T12:02:47.641Z"
   },
   {
    "duration": 15,
    "start_time": "2024-11-05T12:02:47.647Z"
   },
   {
    "duration": 5,
    "start_time": "2024-11-05T12:02:47.664Z"
   },
   {
    "duration": 13,
    "start_time": "2024-11-05T12:02:47.671Z"
   },
   {
    "duration": 9,
    "start_time": "2024-11-05T12:02:47.686Z"
   },
   {
    "duration": 14,
    "start_time": "2024-11-05T12:02:47.697Z"
   },
   {
    "duration": 24,
    "start_time": "2024-11-05T12:02:47.713Z"
   },
   {
    "duration": 7,
    "start_time": "2024-11-05T12:02:47.739Z"
   },
   {
    "duration": 6,
    "start_time": "2024-11-05T12:02:47.766Z"
   },
   {
    "duration": 82,
    "start_time": "2024-11-05T12:02:47.774Z"
   },
   {
    "duration": 8,
    "start_time": "2024-11-05T12:02:47.857Z"
   },
   {
    "duration": 8,
    "start_time": "2024-11-05T12:02:47.866Z"
   },
   {
    "duration": 4,
    "start_time": "2024-11-05T12:02:47.876Z"
   },
   {
    "duration": 5,
    "start_time": "2024-11-05T12:02:47.882Z"
   },
   {
    "duration": 5,
    "start_time": "2024-11-05T12:02:47.888Z"
   },
   {
    "duration": 6,
    "start_time": "2024-11-05T12:02:47.894Z"
   },
   {
    "duration": 6,
    "start_time": "2024-11-05T12:02:47.901Z"
   },
   {
    "duration": 59,
    "start_time": "2024-11-05T12:02:47.912Z"
   },
   {
    "duration": 127,
    "start_time": "2024-11-05T12:02:47.973Z"
   },
   {
    "duration": 4,
    "start_time": "2024-11-05T12:02:48.102Z"
   },
   {
    "duration": 4,
    "start_time": "2024-11-05T12:02:48.108Z"
   },
   {
    "duration": 11,
    "start_time": "2024-11-05T12:02:48.114Z"
   },
   {
    "duration": 10,
    "start_time": "2024-11-05T12:02:48.127Z"
   },
   {
    "duration": 151,
    "start_time": "2024-11-05T12:02:48.139Z"
   },
   {
    "duration": 4,
    "start_time": "2024-11-05T12:02:48.292Z"
   },
   {
    "duration": 9,
    "start_time": "2024-11-05T12:02:48.298Z"
   },
   {
    "duration": 5,
    "start_time": "2024-11-05T12:02:48.309Z"
   },
   {
    "duration": 7,
    "start_time": "2024-11-05T12:02:48.316Z"
   },
   {
    "duration": 230,
    "start_time": "2024-11-05T12:02:48.325Z"
   },
   {
    "duration": 10,
    "start_time": "2024-11-05T12:02:48.557Z"
   },
   {
    "duration": 7,
    "start_time": "2024-11-05T12:02:48.569Z"
   },
   {
    "duration": 13,
    "start_time": "2024-11-05T12:02:48.577Z"
   },
   {
    "duration": 146,
    "start_time": "2024-11-05T12:02:48.592Z"
   },
   {
    "duration": 3,
    "start_time": "2024-11-05T12:02:48.739Z"
   },
   {
    "duration": 30,
    "start_time": "2024-11-05T12:02:48.743Z"
   },
   {
    "duration": 6,
    "start_time": "2024-11-05T12:02:48.774Z"
   },
   {
    "duration": 9,
    "start_time": "2024-11-05T12:02:48.781Z"
   },
   {
    "duration": 144,
    "start_time": "2024-11-05T12:02:48.791Z"
   },
   {
    "duration": 4,
    "start_time": "2024-11-05T12:02:48.937Z"
   },
   {
    "duration": 23,
    "start_time": "2024-11-05T12:02:48.943Z"
   },
   {
    "duration": 7,
    "start_time": "2024-11-05T12:02:48.968Z"
   },
   {
    "duration": 5,
    "start_time": "2024-11-05T12:02:48.977Z"
   },
   {
    "duration": 160,
    "start_time": "2024-11-05T12:02:48.984Z"
   },
   {
    "duration": 123,
    "start_time": "2024-11-05T12:02:49.146Z"
   },
   {
    "duration": 147,
    "start_time": "2024-11-05T12:02:49.270Z"
   },
   {
    "duration": 154,
    "start_time": "2024-11-05T12:02:49.419Z"
   },
   {
    "duration": 180,
    "start_time": "2024-11-05T12:02:49.575Z"
   },
   {
    "duration": 10,
    "start_time": "2024-11-05T12:02:49.756Z"
   },
   {
    "duration": 158,
    "start_time": "2024-11-05T12:02:49.768Z"
   },
   {
    "duration": 5,
    "start_time": "2024-11-05T12:02:49.927Z"
   },
   {
    "duration": 5,
    "start_time": "2024-11-05T12:02:49.933Z"
   },
   {
    "duration": 29,
    "start_time": "2024-11-05T12:02:49.940Z"
   },
   {
    "duration": 8,
    "start_time": "2024-11-05T12:02:49.971Z"
   },
   {
    "duration": 13,
    "start_time": "2024-11-05T12:02:49.980Z"
   },
   {
    "duration": 9,
    "start_time": "2024-11-05T12:02:49.995Z"
   },
   {
    "duration": 145,
    "start_time": "2024-11-05T12:02:50.005Z"
   },
   {
    "duration": 16,
    "start_time": "2024-11-05T12:02:50.152Z"
   },
   {
    "duration": 6,
    "start_time": "2024-11-05T12:02:50.170Z"
   },
   {
    "duration": 27,
    "start_time": "2024-11-05T12:02:50.177Z"
   },
   {
    "duration": 9,
    "start_time": "2024-11-05T12:02:50.205Z"
   },
   {
    "duration": 132,
    "start_time": "2024-11-05T12:02:50.215Z"
   },
   {
    "duration": 18,
    "start_time": "2024-11-05T12:02:50.348Z"
   },
   {
    "duration": 7,
    "start_time": "2024-11-05T12:02:50.367Z"
   },
   {
    "duration": 18,
    "start_time": "2024-11-05T12:02:50.375Z"
   },
   {
    "duration": 7,
    "start_time": "2024-11-05T12:02:50.394Z"
   },
   {
    "duration": 201,
    "start_time": "2024-11-05T12:02:50.403Z"
   },
   {
    "duration": 4,
    "start_time": "2024-11-05T12:02:50.606Z"
   },
   {
    "duration": 15,
    "start_time": "2024-11-05T12:02:50.611Z"
   },
   {
    "duration": 17,
    "start_time": "2024-11-05T12:02:50.628Z"
   },
   {
    "duration": 14,
    "start_time": "2024-11-05T12:02:50.647Z"
   },
   {
    "duration": 10,
    "start_time": "2024-11-05T12:02:50.663Z"
   },
   {
    "duration": 6,
    "start_time": "2024-11-05T12:02:50.682Z"
   },
   {
    "duration": 18,
    "start_time": "2024-11-05T12:02:50.689Z"
   },
   {
    "duration": 188,
    "start_time": "2024-11-05T12:02:50.709Z"
   },
   {
    "duration": 11,
    "start_time": "2024-11-05T12:02:50.899Z"
   },
   {
    "duration": 7,
    "start_time": "2024-11-05T12:02:50.911Z"
   },
   {
    "duration": 138,
    "start_time": "2024-11-05T12:02:50.920Z"
   },
   {
    "duration": 21,
    "start_time": "2024-11-05T12:02:51.060Z"
   },
   {
    "duration": 11,
    "start_time": "2024-11-05T12:02:51.083Z"
   },
   {
    "duration": 155,
    "start_time": "2024-11-05T12:02:51.096Z"
   },
   {
    "duration": 12,
    "start_time": "2024-11-05T12:02:51.253Z"
   },
   {
    "duration": 34,
    "start_time": "2024-11-05T12:02:51.266Z"
   },
   {
    "duration": 204,
    "start_time": "2024-11-05T12:02:51.302Z"
   },
   {
    "duration": 11,
    "start_time": "2024-11-05T12:02:51.508Z"
   },
   {
    "duration": 25,
    "start_time": "2024-11-05T12:02:51.521Z"
   },
   {
    "duration": 158,
    "start_time": "2024-11-05T12:02:51.547Z"
   },
   {
    "duration": 5,
    "start_time": "2024-11-05T12:02:51.707Z"
   },
   {
    "duration": 17,
    "start_time": "2024-11-05T12:02:51.714Z"
   },
   {
    "duration": 4,
    "start_time": "2024-11-05T12:02:51.733Z"
   },
   {
    "duration": 26,
    "start_time": "2024-11-05T12:02:51.740Z"
   },
   {
    "duration": 210,
    "start_time": "2024-11-05T12:02:51.769Z"
   },
   {
    "duration": 6,
    "start_time": "2024-11-05T12:02:51.981Z"
   },
   {
    "duration": 7,
    "start_time": "2024-11-05T12:02:51.989Z"
   },
   {
    "duration": 333,
    "start_time": "2024-11-05T12:02:51.998Z"
   },
   {
    "duration": 5,
    "start_time": "2024-11-05T12:04:17.337Z"
   },
   {
    "duration": 5,
    "start_time": "2024-11-05T12:04:29.277Z"
   },
   {
    "duration": 3,
    "start_time": "2024-11-05T12:04:50.870Z"
   },
   {
    "duration": 419,
    "start_time": "2024-11-05T12:05:00.325Z"
   },
   {
    "duration": 120,
    "start_time": "2024-11-05T12:05:00.746Z"
   },
   {
    "duration": 4,
    "start_time": "2024-11-05T12:05:00.868Z"
   },
   {
    "duration": 64,
    "start_time": "2024-11-05T12:05:00.874Z"
   },
   {
    "duration": 15,
    "start_time": "2024-11-05T12:05:00.940Z"
   },
   {
    "duration": 2507,
    "start_time": "2024-11-05T12:05:00.957Z"
   },
   {
    "duration": 11,
    "start_time": "2024-11-05T12:05:03.465Z"
   },
   {
    "duration": 8,
    "start_time": "2024-11-05T12:05:03.477Z"
   },
   {
    "duration": 11,
    "start_time": "2024-11-05T12:05:03.487Z"
   },
   {
    "duration": 24,
    "start_time": "2024-11-05T12:05:03.500Z"
   },
   {
    "duration": 15,
    "start_time": "2024-11-05T12:05:03.525Z"
   },
   {
    "duration": 30,
    "start_time": "2024-11-05T12:05:03.541Z"
   },
   {
    "duration": 5,
    "start_time": "2024-11-05T12:05:03.573Z"
   },
   {
    "duration": 5,
    "start_time": "2024-11-05T12:05:03.581Z"
   },
   {
    "duration": 9,
    "start_time": "2024-11-05T12:05:03.587Z"
   },
   {
    "duration": 7,
    "start_time": "2024-11-05T12:05:03.597Z"
   },
   {
    "duration": 19,
    "start_time": "2024-11-05T12:05:03.605Z"
   },
   {
    "duration": 7,
    "start_time": "2024-11-05T12:05:03.626Z"
   },
   {
    "duration": 35,
    "start_time": "2024-11-05T12:05:03.635Z"
   },
   {
    "duration": 68,
    "start_time": "2024-11-05T12:05:03.672Z"
   },
   {
    "duration": 23,
    "start_time": "2024-11-05T12:05:03.742Z"
   },
   {
    "duration": 6,
    "start_time": "2024-11-05T12:05:03.767Z"
   },
   {
    "duration": 17,
    "start_time": "2024-11-05T12:05:03.774Z"
   },
   {
    "duration": 36,
    "start_time": "2024-11-05T12:05:03.792Z"
   },
   {
    "duration": 45,
    "start_time": "2024-11-05T12:05:03.829Z"
   },
   {
    "duration": 7,
    "start_time": "2024-11-05T12:05:03.876Z"
   },
   {
    "duration": 16,
    "start_time": "2024-11-05T12:05:03.885Z"
   },
   {
    "duration": 35,
    "start_time": "2024-11-05T12:05:03.902Z"
   },
   {
    "duration": 146,
    "start_time": "2024-11-05T12:05:03.939Z"
   },
   {
    "duration": 3,
    "start_time": "2024-11-05T12:05:04.087Z"
   },
   {
    "duration": 4,
    "start_time": "2024-11-05T12:05:04.092Z"
   },
   {
    "duration": 7,
    "start_time": "2024-11-05T12:05:04.097Z"
   },
   {
    "duration": 5,
    "start_time": "2024-11-05T12:05:04.106Z"
   },
   {
    "duration": 162,
    "start_time": "2024-11-05T12:05:04.113Z"
   },
   {
    "duration": 4,
    "start_time": "2024-11-05T12:05:04.277Z"
   },
   {
    "duration": 11,
    "start_time": "2024-11-05T12:05:04.283Z"
   },
   {
    "duration": 10,
    "start_time": "2024-11-05T12:05:04.296Z"
   },
   {
    "duration": 7,
    "start_time": "2024-11-05T12:05:04.308Z"
   },
   {
    "duration": 163,
    "start_time": "2024-11-05T12:05:04.317Z"
   },
   {
    "duration": 5,
    "start_time": "2024-11-05T12:05:04.481Z"
   },
   {
    "duration": 6,
    "start_time": "2024-11-05T12:05:04.594Z"
   },
   {
    "duration": 11,
    "start_time": "2024-11-05T12:05:04.602Z"
   },
   {
    "duration": 143,
    "start_time": "2024-11-05T12:05:04.615Z"
   },
   {
    "duration": 3,
    "start_time": "2024-11-05T12:05:04.764Z"
   },
   {
    "duration": 15,
    "start_time": "2024-11-05T12:05:04.769Z"
   },
   {
    "duration": 6,
    "start_time": "2024-11-05T12:05:04.785Z"
   },
   {
    "duration": 8,
    "start_time": "2024-11-05T12:05:04.793Z"
   },
   {
    "duration": 177,
    "start_time": "2024-11-05T12:05:04.802Z"
   },
   {
    "duration": 5,
    "start_time": "2024-11-05T12:05:04.980Z"
   },
   {
    "duration": 3,
    "start_time": "2024-11-05T12:05:04.987Z"
   },
   {
    "duration": 17,
    "start_time": "2024-11-05T12:05:04.992Z"
   },
   {
    "duration": 16,
    "start_time": "2024-11-05T12:05:05.011Z"
   },
   {
    "duration": 153,
    "start_time": "2024-11-05T12:05:05.029Z"
   },
   {
    "duration": 5,
    "start_time": "2024-11-05T12:05:05.184Z"
   },
   {
    "duration": 117,
    "start_time": "2024-11-05T12:05:05.191Z"
   },
   {
    "duration": 170,
    "start_time": "2024-11-05T12:05:05.310Z"
   },
   {
    "duration": 146,
    "start_time": "2024-11-05T12:05:05.482Z"
   },
   {
    "duration": 153,
    "start_time": "2024-11-05T12:05:05.630Z"
   },
   {
    "duration": 5,
    "start_time": "2024-11-05T12:05:05.784Z"
   },
   {
    "duration": 186,
    "start_time": "2024-11-05T12:05:05.791Z"
   },
   {
    "duration": 4,
    "start_time": "2024-11-05T12:05:05.979Z"
   },
   {
    "duration": 5,
    "start_time": "2024-11-05T12:05:05.985Z"
   },
   {
    "duration": 13,
    "start_time": "2024-11-05T12:05:05.991Z"
   },
   {
    "duration": 7,
    "start_time": "2024-11-05T12:05:06.005Z"
   },
   {
    "duration": 17,
    "start_time": "2024-11-05T12:05:06.014Z"
   },
   {
    "duration": 33,
    "start_time": "2024-11-05T12:05:06.033Z"
   },
   {
    "duration": 145,
    "start_time": "2024-11-05T12:05:06.068Z"
   },
   {
    "duration": 12,
    "start_time": "2024-11-05T12:05:06.214Z"
   },
   {
    "duration": 6,
    "start_time": "2024-11-05T12:05:06.228Z"
   },
   {
    "duration": 35,
    "start_time": "2024-11-05T12:05:06.235Z"
   },
   {
    "duration": 18,
    "start_time": "2024-11-05T12:05:06.271Z"
   },
   {
    "duration": 153,
    "start_time": "2024-11-05T12:05:06.291Z"
   },
   {
    "duration": 11,
    "start_time": "2024-11-05T12:05:06.445Z"
   },
   {
    "duration": 25,
    "start_time": "2024-11-05T12:05:06.457Z"
   },
   {
    "duration": 13,
    "start_time": "2024-11-05T12:05:06.484Z"
   },
   {
    "duration": 28,
    "start_time": "2024-11-05T12:05:06.499Z"
   },
   {
    "duration": 147,
    "start_time": "2024-11-05T12:05:06.528Z"
   },
   {
    "duration": 6,
    "start_time": "2024-11-05T12:05:06.676Z"
   },
   {
    "duration": 3,
    "start_time": "2024-11-05T12:05:06.684Z"
   },
   {
    "duration": 11,
    "start_time": "2024-11-05T12:05:06.689Z"
   },
   {
    "duration": 4,
    "start_time": "2024-11-05T12:05:06.702Z"
   },
   {
    "duration": 51,
    "start_time": "2024-11-05T12:05:06.708Z"
   },
   {
    "duration": 24,
    "start_time": "2024-11-05T12:05:06.760Z"
   },
   {
    "duration": 9,
    "start_time": "2024-11-05T12:05:06.786Z"
   },
   {
    "duration": 217,
    "start_time": "2024-11-05T12:05:06.797Z"
   },
   {
    "duration": 11,
    "start_time": "2024-11-05T12:05:07.016Z"
   },
   {
    "duration": 6,
    "start_time": "2024-11-05T12:05:07.029Z"
   },
   {
    "duration": 141,
    "start_time": "2024-11-05T12:05:07.037Z"
   },
   {
    "duration": 11,
    "start_time": "2024-11-05T12:05:07.179Z"
   },
   {
    "duration": 7,
    "start_time": "2024-11-05T12:05:07.192Z"
   },
   {
    "duration": 182,
    "start_time": "2024-11-05T12:05:07.201Z"
   },
   {
    "duration": 12,
    "start_time": "2024-11-05T12:05:07.384Z"
   },
   {
    "duration": 8,
    "start_time": "2024-11-05T12:05:07.398Z"
   },
   {
    "duration": 183,
    "start_time": "2024-11-05T12:05:07.407Z"
   },
   {
    "duration": 12,
    "start_time": "2024-11-05T12:05:07.592Z"
   },
   {
    "duration": 19,
    "start_time": "2024-11-05T12:05:07.606Z"
   },
   {
    "duration": 142,
    "start_time": "2024-11-05T12:05:07.627Z"
   },
   {
    "duration": 4,
    "start_time": "2024-11-05T12:05:07.771Z"
   },
   {
    "duration": 19,
    "start_time": "2024-11-05T12:05:07.778Z"
   },
   {
    "duration": 9,
    "start_time": "2024-11-05T12:05:07.799Z"
   },
   {
    "duration": 11,
    "start_time": "2024-11-05T12:05:07.809Z"
   },
   {
    "duration": 223,
    "start_time": "2024-11-05T12:05:07.822Z"
   },
   {
    "duration": 5,
    "start_time": "2024-11-05T12:05:08.047Z"
   },
   {
    "duration": 16,
    "start_time": "2024-11-05T12:05:08.054Z"
   },
   {
    "duration": 299,
    "start_time": "2024-11-05T12:05:08.071Z"
   },
   {
    "duration": 8,
    "start_time": "2024-11-05T12:05:23.967Z"
   },
   {
    "duration": 8,
    "start_time": "2024-11-05T12:05:27.504Z"
   },
   {
    "duration": 6,
    "start_time": "2024-11-05T12:05:33.885Z"
   },
   {
    "duration": 8,
    "start_time": "2024-11-05T12:06:10.865Z"
   },
   {
    "duration": 428,
    "start_time": "2024-11-05T12:06:28.734Z"
   },
   {
    "duration": 100,
    "start_time": "2024-11-05T12:06:29.164Z"
   },
   {
    "duration": 2,
    "start_time": "2024-11-05T12:06:29.266Z"
   },
   {
    "duration": 43,
    "start_time": "2024-11-05T12:06:29.271Z"
   },
   {
    "duration": 16,
    "start_time": "2024-11-05T12:06:29.316Z"
   },
   {
    "duration": 2238,
    "start_time": "2024-11-05T12:06:29.334Z"
   },
   {
    "duration": 12,
    "start_time": "2024-11-05T12:06:31.574Z"
   },
   {
    "duration": 7,
    "start_time": "2024-11-05T12:06:31.588Z"
   },
   {
    "duration": 5,
    "start_time": "2024-11-05T12:06:31.597Z"
   },
   {
    "duration": 4,
    "start_time": "2024-11-05T12:06:31.606Z"
   },
   {
    "duration": 13,
    "start_time": "2024-11-05T12:06:31.611Z"
   },
   {
    "duration": 13,
    "start_time": "2024-11-05T12:06:31.626Z"
   },
   {
    "duration": 25,
    "start_time": "2024-11-05T12:06:31.640Z"
   },
   {
    "duration": 5,
    "start_time": "2024-11-05T12:06:31.667Z"
   },
   {
    "duration": 8,
    "start_time": "2024-11-05T12:06:31.675Z"
   },
   {
    "duration": 10,
    "start_time": "2024-11-05T12:06:31.685Z"
   },
   {
    "duration": 30,
    "start_time": "2024-11-05T12:06:31.697Z"
   },
   {
    "duration": 21,
    "start_time": "2024-11-05T12:06:31.729Z"
   },
   {
    "duration": 32,
    "start_time": "2024-11-05T12:06:31.751Z"
   },
   {
    "duration": 87,
    "start_time": "2024-11-05T12:06:31.785Z"
   },
   {
    "duration": 5,
    "start_time": "2024-11-05T12:06:31.874Z"
   },
   {
    "duration": 6,
    "start_time": "2024-11-05T12:06:31.881Z"
   },
   {
    "duration": 4,
    "start_time": "2024-11-05T12:06:31.889Z"
   },
   {
    "duration": 10,
    "start_time": "2024-11-05T12:06:31.895Z"
   },
   {
    "duration": 15,
    "start_time": "2024-11-05T12:06:31.906Z"
   },
   {
    "duration": 5,
    "start_time": "2024-11-05T12:06:31.923Z"
   },
   {
    "duration": 14,
    "start_time": "2024-11-05T12:06:31.930Z"
   },
   {
    "duration": 41,
    "start_time": "2024-11-05T12:06:31.967Z"
   },
   {
    "duration": 129,
    "start_time": "2024-11-05T12:06:32.011Z"
   },
   {
    "duration": 4,
    "start_time": "2024-11-05T12:06:32.142Z"
   },
   {
    "duration": 16,
    "start_time": "2024-11-05T12:06:32.147Z"
   },
   {
    "duration": 11,
    "start_time": "2024-11-05T12:06:32.164Z"
   },
   {
    "duration": 7,
    "start_time": "2024-11-05T12:06:32.176Z"
   },
   {
    "duration": 161,
    "start_time": "2024-11-05T12:06:32.184Z"
   },
   {
    "duration": 4,
    "start_time": "2024-11-05T12:06:32.346Z"
   },
   {
    "duration": 16,
    "start_time": "2024-11-05T12:06:32.351Z"
   },
   {
    "duration": 11,
    "start_time": "2024-11-05T12:06:32.369Z"
   },
   {
    "duration": 8,
    "start_time": "2024-11-05T12:06:32.382Z"
   },
   {
    "duration": 180,
    "start_time": "2024-11-05T12:06:32.392Z"
   },
   {
    "duration": 4,
    "start_time": "2024-11-05T12:06:32.574Z"
   },
   {
    "duration": 7,
    "start_time": "2024-11-05T12:06:32.580Z"
   },
   {
    "duration": 9,
    "start_time": "2024-11-05T12:06:32.588Z"
   },
   {
    "duration": 260,
    "start_time": "2024-11-05T12:06:32.599Z"
   },
   {
    "duration": 4,
    "start_time": "2024-11-05T12:06:32.861Z"
   },
   {
    "duration": 7,
    "start_time": "2024-11-05T12:06:32.867Z"
   },
   {
    "duration": 7,
    "start_time": "2024-11-05T12:06:32.876Z"
   },
   {
    "duration": 9,
    "start_time": "2024-11-05T12:06:32.885Z"
   },
   {
    "duration": 201,
    "start_time": "2024-11-05T12:06:32.896Z"
   },
   {
    "duration": 5,
    "start_time": "2024-11-05T12:06:33.098Z"
   },
   {
    "duration": 14,
    "start_time": "2024-11-05T12:06:33.104Z"
   },
   {
    "duration": 14,
    "start_time": "2024-11-05T12:06:33.120Z"
   },
   {
    "duration": 9,
    "start_time": "2024-11-05T12:06:33.136Z"
   },
   {
    "duration": 26,
    "start_time": "2024-11-05T12:06:33.147Z"
   },
   {
    "duration": 129,
    "start_time": "2024-11-05T12:06:33.175Z"
   },
   {
    "duration": 5,
    "start_time": "2024-11-05T12:06:33.306Z"
   },
   {
    "duration": 112,
    "start_time": "2024-11-05T12:06:33.313Z"
   },
   {
    "duration": 140,
    "start_time": "2024-11-05T12:06:33.427Z"
   },
   {
    "duration": 139,
    "start_time": "2024-11-05T12:06:33.569Z"
   },
   {
    "duration": 153,
    "start_time": "2024-11-05T12:06:33.709Z"
   },
   {
    "duration": 4,
    "start_time": "2024-11-05T12:06:33.866Z"
   },
   {
    "duration": 160,
    "start_time": "2024-11-05T12:06:33.872Z"
   },
   {
    "duration": 4,
    "start_time": "2024-11-05T12:06:34.033Z"
   },
   {
    "duration": 27,
    "start_time": "2024-11-05T12:06:34.039Z"
   },
   {
    "duration": 33,
    "start_time": "2024-11-05T12:06:34.068Z"
   },
   {
    "duration": 8,
    "start_time": "2024-11-05T12:06:34.103Z"
   },
   {
    "duration": 23,
    "start_time": "2024-11-05T12:06:34.113Z"
   },
   {
    "duration": 18,
    "start_time": "2024-11-05T12:06:34.137Z"
   },
   {
    "duration": 147,
    "start_time": "2024-11-05T12:06:34.157Z"
   },
   {
    "duration": 11,
    "start_time": "2024-11-05T12:06:34.306Z"
   },
   {
    "duration": 7,
    "start_time": "2024-11-05T12:06:34.319Z"
   },
   {
    "duration": 22,
    "start_time": "2024-11-05T12:06:34.328Z"
   },
   {
    "duration": 36,
    "start_time": "2024-11-05T12:06:34.351Z"
   },
   {
    "duration": 142,
    "start_time": "2024-11-05T12:06:34.389Z"
   },
   {
    "duration": 10,
    "start_time": "2024-11-05T12:06:34.533Z"
   },
   {
    "duration": 29,
    "start_time": "2024-11-05T12:06:34.545Z"
   },
   {
    "duration": 18,
    "start_time": "2024-11-05T12:06:34.576Z"
   },
   {
    "duration": 21,
    "start_time": "2024-11-05T12:06:34.596Z"
   },
   {
    "duration": 163,
    "start_time": "2024-11-05T12:06:34.618Z"
   },
   {
    "duration": 5,
    "start_time": "2024-11-05T12:06:34.784Z"
   },
   {
    "duration": 22,
    "start_time": "2024-11-05T12:06:34.791Z"
   },
   {
    "duration": 41,
    "start_time": "2024-11-05T12:06:34.814Z"
   },
   {
    "duration": 25,
    "start_time": "2024-11-05T12:06:34.861Z"
   },
   {
    "duration": 42,
    "start_time": "2024-11-05T12:06:34.888Z"
   },
   {
    "duration": 33,
    "start_time": "2024-11-05T12:06:34.931Z"
   },
   {
    "duration": 26,
    "start_time": "2024-11-05T12:06:34.966Z"
   },
   {
    "duration": 221,
    "start_time": "2024-11-05T12:06:34.993Z"
   },
   {
    "duration": 11,
    "start_time": "2024-11-05T12:06:35.216Z"
   },
   {
    "duration": 19,
    "start_time": "2024-11-05T12:06:35.228Z"
   },
   {
    "duration": 137,
    "start_time": "2024-11-05T12:06:35.248Z"
   },
   {
    "duration": 10,
    "start_time": "2024-11-05T12:06:35.386Z"
   },
   {
    "duration": 11,
    "start_time": "2024-11-05T12:06:35.397Z"
   },
   {
    "duration": 142,
    "start_time": "2024-11-05T12:06:35.409Z"
   },
   {
    "duration": 14,
    "start_time": "2024-11-05T12:06:35.553Z"
   },
   {
    "duration": 20,
    "start_time": "2024-11-05T12:06:35.568Z"
   },
   {
    "duration": 185,
    "start_time": "2024-11-05T12:06:35.589Z"
   },
   {
    "duration": 9,
    "start_time": "2024-11-05T12:06:35.776Z"
   },
   {
    "duration": 32,
    "start_time": "2024-11-05T12:06:35.787Z"
   },
   {
    "duration": 199,
    "start_time": "2024-11-05T12:06:35.821Z"
   },
   {
    "duration": 4,
    "start_time": "2024-11-05T12:06:36.022Z"
   },
   {
    "duration": 48,
    "start_time": "2024-11-05T12:06:36.028Z"
   },
   {
    "duration": 20,
    "start_time": "2024-11-05T12:06:36.078Z"
   },
   {
    "duration": 38,
    "start_time": "2024-11-05T12:06:36.100Z"
   },
   {
    "duration": 228,
    "start_time": "2024-11-05T12:06:36.140Z"
   },
   {
    "duration": 8,
    "start_time": "2024-11-05T12:06:36.370Z"
   },
   {
    "duration": 36,
    "start_time": "2024-11-05T12:06:36.380Z"
   },
   {
    "duration": 392,
    "start_time": "2024-11-05T12:06:36.418Z"
   },
   {
    "duration": 9,
    "start_time": "2024-11-05T12:07:11.664Z"
   },
   {
    "duration": 11,
    "start_time": "2024-11-05T12:07:19.856Z"
   },
   {
    "duration": 8,
    "start_time": "2024-11-05T12:07:25.690Z"
   },
   {
    "duration": 8,
    "start_time": "2024-11-05T12:07:27.400Z"
   },
   {
    "duration": 121,
    "start_time": "2024-11-05T12:07:29.177Z"
   },
   {
    "duration": 5,
    "start_time": "2024-11-05T12:07:35.436Z"
   },
   {
    "duration": 6,
    "start_time": "2024-11-05T12:07:39.266Z"
   },
   {
    "duration": 412,
    "start_time": "2024-11-05T12:27:25.593Z"
   },
   {
    "duration": 117,
    "start_time": "2024-11-05T12:27:26.007Z"
   },
   {
    "duration": 3,
    "start_time": "2024-11-05T12:27:26.125Z"
   },
   {
    "duration": 57,
    "start_time": "2024-11-05T12:27:26.130Z"
   },
   {
    "duration": 15,
    "start_time": "2024-11-05T12:27:26.190Z"
   },
   {
    "duration": 2369,
    "start_time": "2024-11-05T12:27:26.207Z"
   },
   {
    "duration": 10,
    "start_time": "2024-11-05T12:27:28.578Z"
   },
   {
    "duration": 22,
    "start_time": "2024-11-05T12:27:28.589Z"
   },
   {
    "duration": 29,
    "start_time": "2024-11-05T12:27:28.612Z"
   },
   {
    "duration": 22,
    "start_time": "2024-11-05T12:27:28.642Z"
   },
   {
    "duration": 48,
    "start_time": "2024-11-05T12:27:28.665Z"
   },
   {
    "duration": 22,
    "start_time": "2024-11-05T12:27:28.715Z"
   },
   {
    "duration": 18,
    "start_time": "2024-11-05T12:27:28.738Z"
   },
   {
    "duration": 16,
    "start_time": "2024-11-05T12:27:28.759Z"
   },
   {
    "duration": 38,
    "start_time": "2024-11-05T12:27:28.777Z"
   },
   {
    "duration": 63,
    "start_time": "2024-11-05T12:27:28.816Z"
   },
   {
    "duration": 31,
    "start_time": "2024-11-05T12:27:28.880Z"
   },
   {
    "duration": 23,
    "start_time": "2024-11-05T12:27:28.912Z"
   },
   {
    "duration": 34,
    "start_time": "2024-11-05T12:27:28.937Z"
   },
   {
    "duration": 139,
    "start_time": "2024-11-05T12:27:28.972Z"
   },
   {
    "duration": 6,
    "start_time": "2024-11-05T12:27:29.113Z"
   },
   {
    "duration": 33,
    "start_time": "2024-11-05T12:27:29.121Z"
   },
   {
    "duration": 36,
    "start_time": "2024-11-05T12:27:29.155Z"
   },
   {
    "duration": 31,
    "start_time": "2024-11-05T12:27:29.193Z"
   },
   {
    "duration": 35,
    "start_time": "2024-11-05T12:27:29.226Z"
   },
   {
    "duration": 41,
    "start_time": "2024-11-05T12:27:29.263Z"
   },
   {
    "duration": 32,
    "start_time": "2024-11-05T12:27:29.306Z"
   },
   {
    "duration": 47,
    "start_time": "2024-11-05T12:27:29.340Z"
   },
   {
    "duration": 132,
    "start_time": "2024-11-05T12:27:29.389Z"
   },
   {
    "duration": 4,
    "start_time": "2024-11-05T12:27:29.522Z"
   },
   {
    "duration": 29,
    "start_time": "2024-11-05T12:27:29.528Z"
   },
   {
    "duration": 42,
    "start_time": "2024-11-05T12:27:29.559Z"
   },
   {
    "duration": 38,
    "start_time": "2024-11-05T12:27:29.603Z"
   },
   {
    "duration": 190,
    "start_time": "2024-11-05T12:27:29.643Z"
   },
   {
    "duration": 4,
    "start_time": "2024-11-05T12:27:29.834Z"
   },
   {
    "duration": 24,
    "start_time": "2024-11-05T12:27:29.840Z"
   },
   {
    "duration": 43,
    "start_time": "2024-11-05T12:27:29.865Z"
   },
   {
    "duration": 18,
    "start_time": "2024-11-05T12:27:29.910Z"
   },
   {
    "duration": 124,
    "start_time": "2024-11-05T12:27:29.930Z"
   },
   {
    "duration": 9,
    "start_time": "2024-11-05T12:27:30.056Z"
   },
   {
    "duration": 5,
    "start_time": "2024-11-05T12:27:30.173Z"
   },
   {
    "duration": 28,
    "start_time": "2024-11-05T12:27:30.180Z"
   },
   {
    "duration": 174,
    "start_time": "2024-11-05T12:27:30.210Z"
   },
   {
    "duration": 3,
    "start_time": "2024-11-05T12:27:30.386Z"
   },
   {
    "duration": 43,
    "start_time": "2024-11-05T12:27:30.391Z"
   },
   {
    "duration": 45,
    "start_time": "2024-11-05T12:27:30.436Z"
   },
   {
    "duration": 40,
    "start_time": "2024-11-05T12:27:30.483Z"
   },
   {
    "duration": 178,
    "start_time": "2024-11-05T12:27:30.525Z"
   },
   {
    "duration": 6,
    "start_time": "2024-11-05T12:27:30.704Z"
   },
   {
    "duration": 15,
    "start_time": "2024-11-05T12:27:30.712Z"
   },
   {
    "duration": 13,
    "start_time": "2024-11-05T12:27:30.729Z"
   },
   {
    "duration": 22,
    "start_time": "2024-11-05T12:27:30.743Z"
   },
   {
    "duration": 10,
    "start_time": "2024-11-05T12:27:30.768Z"
   },
   {
    "duration": 137,
    "start_time": "2024-11-05T12:27:30.779Z"
   },
   {
    "duration": 5,
    "start_time": "2024-11-05T12:27:30.918Z"
   },
   {
    "duration": 120,
    "start_time": "2024-11-05T12:27:30.925Z"
   },
   {
    "duration": 143,
    "start_time": "2024-11-05T12:27:31.048Z"
   },
   {
    "duration": 165,
    "start_time": "2024-11-05T12:27:31.193Z"
   },
   {
    "duration": 149,
    "start_time": "2024-11-05T12:27:31.360Z"
   },
   {
    "duration": 4,
    "start_time": "2024-11-05T12:27:31.511Z"
   },
   {
    "duration": 167,
    "start_time": "2024-11-05T12:27:31.517Z"
   },
   {
    "duration": 6,
    "start_time": "2024-11-05T12:27:31.685Z"
   },
   {
    "duration": 24,
    "start_time": "2024-11-05T12:27:31.693Z"
   },
   {
    "duration": 15,
    "start_time": "2024-11-05T12:27:31.719Z"
   },
   {
    "duration": 21,
    "start_time": "2024-11-05T12:27:31.735Z"
   },
   {
    "duration": 23,
    "start_time": "2024-11-05T12:27:31.757Z"
   },
   {
    "duration": 9,
    "start_time": "2024-11-05T12:27:31.782Z"
   },
   {
    "duration": 167,
    "start_time": "2024-11-05T12:27:31.793Z"
   },
   {
    "duration": 15,
    "start_time": "2024-11-05T12:27:31.966Z"
   },
   {
    "duration": 9,
    "start_time": "2024-11-05T12:27:31.983Z"
   },
   {
    "duration": 18,
    "start_time": "2024-11-05T12:27:31.993Z"
   },
   {
    "duration": 10,
    "start_time": "2024-11-05T12:27:32.013Z"
   },
   {
    "duration": 186,
    "start_time": "2024-11-05T12:27:32.024Z"
   },
   {
    "duration": 12,
    "start_time": "2024-11-05T12:27:32.212Z"
   },
   {
    "duration": 8,
    "start_time": "2024-11-05T12:27:32.225Z"
   },
   {
    "duration": 30,
    "start_time": "2024-11-05T12:27:32.235Z"
   },
   {
    "duration": 10,
    "start_time": "2024-11-05T12:27:32.267Z"
   },
   {
    "duration": 140,
    "start_time": "2024-11-05T12:27:32.279Z"
   },
   {
    "duration": 5,
    "start_time": "2024-11-05T12:27:32.420Z"
   },
   {
    "duration": 11,
    "start_time": "2024-11-05T12:27:32.426Z"
   },
   {
    "duration": 9,
    "start_time": "2024-11-05T12:27:32.438Z"
   },
   {
    "duration": 24,
    "start_time": "2024-11-05T12:27:32.448Z"
   },
   {
    "duration": 4,
    "start_time": "2024-11-05T12:27:32.473Z"
   },
   {
    "duration": 7,
    "start_time": "2024-11-05T12:27:32.479Z"
   },
   {
    "duration": 22,
    "start_time": "2024-11-05T12:27:32.487Z"
   },
   {
    "duration": 218,
    "start_time": "2024-11-05T12:27:32.511Z"
   },
   {
    "duration": 8,
    "start_time": "2024-11-05T12:27:32.731Z"
   },
   {
    "duration": 13,
    "start_time": "2024-11-05T12:27:32.740Z"
   },
   {
    "duration": 179,
    "start_time": "2024-11-05T12:27:32.754Z"
   },
   {
    "duration": 8,
    "start_time": "2024-11-05T12:27:32.935Z"
   },
   {
    "duration": 15,
    "start_time": "2024-11-05T12:27:32.945Z"
   },
   {
    "duration": 132,
    "start_time": "2024-11-05T12:27:32.965Z"
   },
   {
    "duration": 9,
    "start_time": "2024-11-05T12:27:33.099Z"
   },
   {
    "duration": 10,
    "start_time": "2024-11-05T12:27:33.109Z"
   },
   {
    "duration": 164,
    "start_time": "2024-11-05T12:27:33.121Z"
   },
   {
    "duration": 10,
    "start_time": "2024-11-05T12:27:33.287Z"
   },
   {
    "duration": 7,
    "start_time": "2024-11-05T12:27:33.299Z"
   },
   {
    "duration": 144,
    "start_time": "2024-11-05T12:27:33.308Z"
   },
   {
    "duration": 4,
    "start_time": "2024-11-05T12:27:33.453Z"
   },
   {
    "duration": 28,
    "start_time": "2024-11-05T12:27:33.458Z"
   },
   {
    "duration": 4,
    "start_time": "2024-11-05T12:27:33.488Z"
   },
   {
    "duration": 31,
    "start_time": "2024-11-05T12:27:33.494Z"
   },
   {
    "duration": 187,
    "start_time": "2024-11-05T12:27:33.528Z"
   },
   {
    "duration": 8,
    "start_time": "2024-11-05T12:27:33.717Z"
   },
   {
    "duration": 5,
    "start_time": "2024-11-05T12:27:33.727Z"
   },
   {
    "duration": 331,
    "start_time": "2024-11-05T12:27:33.734Z"
   },
   {
    "duration": 6,
    "start_time": "2024-11-05T12:35:57.474Z"
   },
   {
    "duration": 471,
    "start_time": "2024-11-05T12:39:37.238Z"
   },
   {
    "duration": 101,
    "start_time": "2024-11-05T12:39:37.711Z"
   },
   {
    "duration": 3,
    "start_time": "2024-11-05T12:39:37.814Z"
   },
   {
    "duration": 50,
    "start_time": "2024-11-05T12:39:37.819Z"
   },
   {
    "duration": 16,
    "start_time": "2024-11-05T12:39:37.871Z"
   },
   {
    "duration": 2655,
    "start_time": "2024-11-05T12:39:37.889Z"
   },
   {
    "duration": 9,
    "start_time": "2024-11-05T12:39:40.546Z"
   },
   {
    "duration": 18,
    "start_time": "2024-11-05T12:39:40.557Z"
   },
   {
    "duration": 13,
    "start_time": "2024-11-05T12:39:40.577Z"
   },
   {
    "duration": 4,
    "start_time": "2024-11-05T12:39:40.592Z"
   },
   {
    "duration": 7,
    "start_time": "2024-11-05T12:39:40.597Z"
   },
   {
    "duration": 10,
    "start_time": "2024-11-05T12:39:40.605Z"
   },
   {
    "duration": 5,
    "start_time": "2024-11-05T12:39:40.617Z"
   },
   {
    "duration": 5,
    "start_time": "2024-11-05T12:39:40.624Z"
   },
   {
    "duration": 8,
    "start_time": "2024-11-05T12:39:40.630Z"
   },
   {
    "duration": 27,
    "start_time": "2024-11-05T12:39:40.640Z"
   },
   {
    "duration": 18,
    "start_time": "2024-11-05T12:39:40.669Z"
   },
   {
    "duration": 6,
    "start_time": "2024-11-05T12:39:40.689Z"
   },
   {
    "duration": 5,
    "start_time": "2024-11-05T12:39:40.697Z"
   },
   {
    "duration": 108,
    "start_time": "2024-11-05T12:39:40.703Z"
   },
   {
    "duration": 5,
    "start_time": "2024-11-05T12:39:40.813Z"
   },
   {
    "duration": 5,
    "start_time": "2024-11-05T12:39:40.820Z"
   },
   {
    "duration": 35,
    "start_time": "2024-11-05T12:39:40.827Z"
   },
   {
    "duration": 36,
    "start_time": "2024-11-05T12:39:40.863Z"
   },
   {
    "duration": 8,
    "start_time": "2024-11-05T12:39:40.901Z"
   },
   {
    "duration": 4,
    "start_time": "2024-11-05T12:39:40.910Z"
   },
   {
    "duration": 6,
    "start_time": "2024-11-05T12:39:40.916Z"
   },
   {
    "duration": 13,
    "start_time": "2024-11-05T12:39:40.926Z"
   },
   {
    "duration": 113,
    "start_time": "2024-11-05T12:39:40.941Z"
   },
   {
    "duration": 10,
    "start_time": "2024-11-05T12:39:41.056Z"
   },
   {
    "duration": 5,
    "start_time": "2024-11-05T12:39:41.067Z"
   },
   {
    "duration": 8,
    "start_time": "2024-11-05T12:39:41.074Z"
   },
   {
    "duration": 6,
    "start_time": "2024-11-05T12:39:41.084Z"
   },
   {
    "duration": 155,
    "start_time": "2024-11-05T12:39:41.092Z"
   },
   {
    "duration": 16,
    "start_time": "2024-11-05T12:39:41.249Z"
   },
   {
    "duration": 6,
    "start_time": "2024-11-05T12:39:41.267Z"
   },
   {
    "duration": 9,
    "start_time": "2024-11-05T12:39:41.274Z"
   },
   {
    "duration": 6,
    "start_time": "2024-11-05T12:39:41.285Z"
   },
   {
    "duration": 148,
    "start_time": "2024-11-05T12:39:41.292Z"
   },
   {
    "duration": 4,
    "start_time": "2024-11-05T12:39:41.442Z"
   },
   {
    "duration": 19,
    "start_time": "2024-11-05T12:39:41.447Z"
   },
   {
    "duration": 13,
    "start_time": "2024-11-05T12:39:41.468Z"
   },
   {
    "duration": 239,
    "start_time": "2024-11-05T12:39:41.482Z"
   },
   {
    "duration": 3,
    "start_time": "2024-11-05T12:39:41.722Z"
   },
   {
    "duration": 7,
    "start_time": "2024-11-05T12:39:41.727Z"
   },
   {
    "duration": 8,
    "start_time": "2024-11-05T12:39:41.736Z"
   },
   {
    "duration": 26,
    "start_time": "2024-11-05T12:39:41.746Z"
   },
   {
    "duration": 208,
    "start_time": "2024-11-05T12:39:41.774Z"
   },
   {
    "duration": 5,
    "start_time": "2024-11-05T12:39:41.984Z"
   },
   {
    "duration": 14,
    "start_time": "2024-11-05T12:39:41.991Z"
   },
   {
    "duration": 7,
    "start_time": "2024-11-05T12:39:42.007Z"
   },
   {
    "duration": 9,
    "start_time": "2024-11-05T12:39:42.015Z"
   },
   {
    "duration": 165,
    "start_time": "2024-11-05T12:39:42.026Z"
   },
   {
    "duration": 5,
    "start_time": "2024-11-05T12:39:42.193Z"
   },
   {
    "duration": 120,
    "start_time": "2024-11-05T12:39:42.200Z"
   },
   {
    "duration": 169,
    "start_time": "2024-11-05T12:39:42.321Z"
   },
   {
    "duration": 144,
    "start_time": "2024-11-05T12:39:42.492Z"
   },
   {
    "duration": 150,
    "start_time": "2024-11-05T12:39:42.638Z"
   },
   {
    "duration": 5,
    "start_time": "2024-11-05T12:39:42.789Z"
   },
   {
    "duration": 162,
    "start_time": "2024-11-05T12:39:42.796Z"
   },
   {
    "duration": 7,
    "start_time": "2024-11-05T12:39:42.960Z"
   },
   {
    "duration": 5,
    "start_time": "2024-11-05T12:39:42.969Z"
   },
   {
    "duration": 12,
    "start_time": "2024-11-05T12:39:42.975Z"
   },
   {
    "duration": 15,
    "start_time": "2024-11-05T12:39:42.989Z"
   },
   {
    "duration": 11,
    "start_time": "2024-11-05T12:39:43.006Z"
   },
   {
    "duration": 7,
    "start_time": "2024-11-05T12:39:43.018Z"
   },
   {
    "duration": 173,
    "start_time": "2024-11-05T12:39:43.027Z"
   },
   {
    "duration": 13,
    "start_time": "2024-11-05T12:39:43.202Z"
   },
   {
    "duration": 9,
    "start_time": "2024-11-05T12:39:43.217Z"
   },
   {
    "duration": 37,
    "start_time": "2024-11-05T12:39:43.228Z"
   },
   {
    "duration": 9,
    "start_time": "2024-11-05T12:39:43.267Z"
   },
   {
    "duration": 147,
    "start_time": "2024-11-05T12:39:43.277Z"
   },
   {
    "duration": 12,
    "start_time": "2024-11-05T12:39:43.426Z"
   },
   {
    "duration": 6,
    "start_time": "2024-11-05T12:39:43.439Z"
   },
   {
    "duration": 13,
    "start_time": "2024-11-05T12:39:43.464Z"
   },
   {
    "duration": 8,
    "start_time": "2024-11-05T12:39:43.478Z"
   },
   {
    "duration": 142,
    "start_time": "2024-11-05T12:39:43.488Z"
   },
   {
    "duration": 5,
    "start_time": "2024-11-05T12:39:43.632Z"
   },
   {
    "duration": 4,
    "start_time": "2024-11-05T12:39:43.639Z"
   },
   {
    "duration": 26,
    "start_time": "2024-11-05T12:39:43.644Z"
   },
   {
    "duration": 6,
    "start_time": "2024-11-05T12:39:43.672Z"
   },
   {
    "duration": 3,
    "start_time": "2024-11-05T12:39:43.685Z"
   },
   {
    "duration": 7,
    "start_time": "2024-11-05T12:39:43.690Z"
   },
   {
    "duration": 9,
    "start_time": "2024-11-05T12:39:43.698Z"
   },
   {
    "duration": 277,
    "start_time": "2024-11-05T12:39:43.709Z"
   },
   {
    "duration": 10,
    "start_time": "2024-11-05T12:39:43.988Z"
   },
   {
    "duration": 14,
    "start_time": "2024-11-05T12:39:44.000Z"
   },
   {
    "duration": 138,
    "start_time": "2024-11-05T12:39:44.016Z"
   },
   {
    "duration": 16,
    "start_time": "2024-11-05T12:39:44.156Z"
   },
   {
    "duration": 7,
    "start_time": "2024-11-05T12:39:44.174Z"
   },
   {
    "duration": 145,
    "start_time": "2024-11-05T12:39:44.182Z"
   },
   {
    "duration": 9,
    "start_time": "2024-11-05T12:39:44.330Z"
   },
   {
    "duration": 7,
    "start_time": "2024-11-05T12:39:44.341Z"
   },
   {
    "duration": 171,
    "start_time": "2024-11-05T12:39:44.365Z"
   },
   {
    "duration": 9,
    "start_time": "2024-11-05T12:39:44.537Z"
   },
   {
    "duration": 20,
    "start_time": "2024-11-05T12:39:44.548Z"
   },
   {
    "duration": 138,
    "start_time": "2024-11-05T12:39:44.570Z"
   },
   {
    "duration": 4,
    "start_time": "2024-11-05T12:39:44.709Z"
   },
   {
    "duration": 22,
    "start_time": "2024-11-05T12:39:44.714Z"
   },
   {
    "duration": 6,
    "start_time": "2024-11-05T12:39:44.738Z"
   },
   {
    "duration": 12,
    "start_time": "2024-11-05T12:39:44.745Z"
   },
   {
    "duration": 200,
    "start_time": "2024-11-05T12:39:44.765Z"
   },
   {
    "duration": 8,
    "start_time": "2024-11-05T12:39:44.967Z"
   },
   {
    "duration": 12,
    "start_time": "2024-11-05T12:39:44.977Z"
   },
   {
    "duration": 332,
    "start_time": "2024-11-05T12:39:44.991Z"
   },
   {
    "duration": 431,
    "start_time": "2024-11-05T12:46:44.175Z"
   },
   {
    "duration": 98,
    "start_time": "2024-11-05T12:46:44.608Z"
   },
   {
    "duration": 2,
    "start_time": "2024-11-05T12:46:44.708Z"
   },
   {
    "duration": 53,
    "start_time": "2024-11-05T12:46:44.713Z"
   },
   {
    "duration": 15,
    "start_time": "2024-11-05T12:46:44.767Z"
   },
   {
    "duration": 2428,
    "start_time": "2024-11-05T12:46:44.784Z"
   },
   {
    "duration": 12,
    "start_time": "2024-11-05T12:46:47.214Z"
   },
   {
    "duration": 7,
    "start_time": "2024-11-05T12:46:47.228Z"
   },
   {
    "duration": 5,
    "start_time": "2024-11-05T12:46:47.236Z"
   },
   {
    "duration": 3,
    "start_time": "2024-11-05T12:46:47.244Z"
   },
   {
    "duration": 4,
    "start_time": "2024-11-05T12:46:47.264Z"
   },
   {
    "duration": 9,
    "start_time": "2024-11-05T12:46:47.270Z"
   },
   {
    "duration": 4,
    "start_time": "2024-11-05T12:46:47.281Z"
   },
   {
    "duration": 8,
    "start_time": "2024-11-05T12:46:47.287Z"
   },
   {
    "duration": 11,
    "start_time": "2024-11-05T12:46:47.296Z"
   },
   {
    "duration": 6,
    "start_time": "2024-11-05T12:46:47.309Z"
   },
   {
    "duration": 51,
    "start_time": "2024-11-05T12:46:47.317Z"
   },
   {
    "duration": 8,
    "start_time": "2024-11-05T12:46:47.369Z"
   },
   {
    "duration": 8,
    "start_time": "2024-11-05T12:46:47.378Z"
   },
   {
    "duration": 91,
    "start_time": "2024-11-05T12:46:47.388Z"
   },
   {
    "duration": 7,
    "start_time": "2024-11-05T12:46:47.481Z"
   },
   {
    "duration": 6,
    "start_time": "2024-11-05T12:46:47.490Z"
   },
   {
    "duration": 4,
    "start_time": "2024-11-05T12:46:47.498Z"
   },
   {
    "duration": 5,
    "start_time": "2024-11-05T12:46:47.504Z"
   },
   {
    "duration": 5,
    "start_time": "2024-11-05T12:46:47.511Z"
   },
   {
    "duration": 4,
    "start_time": "2024-11-05T12:46:47.518Z"
   },
   {
    "duration": 42,
    "start_time": "2024-11-05T12:46:47.523Z"
   },
   {
    "duration": 16,
    "start_time": "2024-11-05T12:46:47.572Z"
   },
   {
    "duration": 145,
    "start_time": "2024-11-05T12:46:47.589Z"
   },
   {
    "duration": 4,
    "start_time": "2024-11-05T12:46:47.736Z"
   },
   {
    "duration": 5,
    "start_time": "2024-11-05T12:46:47.742Z"
   },
   {
    "duration": 23,
    "start_time": "2024-11-05T12:46:47.749Z"
   },
   {
    "duration": 10,
    "start_time": "2024-11-05T12:46:47.774Z"
   },
   {
    "duration": 197,
    "start_time": "2024-11-05T12:46:47.786Z"
   },
   {
    "duration": 4,
    "start_time": "2024-11-05T12:46:47.985Z"
   },
   {
    "duration": 13,
    "start_time": "2024-11-05T12:46:47.991Z"
   },
   {
    "duration": 8,
    "start_time": "2024-11-05T12:46:48.006Z"
   },
   {
    "duration": 6,
    "start_time": "2024-11-05T12:46:48.016Z"
   },
   {
    "duration": 172,
    "start_time": "2024-11-05T12:46:48.024Z"
   },
   {
    "duration": 5,
    "start_time": "2024-11-05T12:46:48.198Z"
   },
   {
    "duration": 9,
    "start_time": "2024-11-05T12:46:48.205Z"
   },
   {
    "duration": 13,
    "start_time": "2024-11-05T12:46:48.215Z"
   },
   {
    "duration": 273,
    "start_time": "2024-11-05T12:46:48.230Z"
   },
   {
    "duration": 3,
    "start_time": "2024-11-05T12:46:48.505Z"
   },
   {
    "duration": 10,
    "start_time": "2024-11-05T12:46:48.509Z"
   },
   {
    "duration": 17,
    "start_time": "2024-11-05T12:46:48.521Z"
   },
   {
    "duration": 13,
    "start_time": "2024-11-05T12:46:48.540Z"
   },
   {
    "duration": 148,
    "start_time": "2024-11-05T12:46:48.555Z"
   },
   {
    "duration": 4,
    "start_time": "2024-11-05T12:46:48.705Z"
   },
   {
    "duration": 12,
    "start_time": "2024-11-05T12:46:48.711Z"
   },
   {
    "duration": 7,
    "start_time": "2024-11-05T12:46:48.725Z"
   },
   {
    "duration": 11,
    "start_time": "2024-11-05T12:46:48.733Z"
   },
   {
    "duration": 120,
    "start_time": "2024-11-05T12:46:48.764Z"
   },
   {
    "duration": 5,
    "start_time": "2024-11-05T12:46:48.886Z"
   },
   {
    "duration": 122,
    "start_time": "2024-11-05T12:46:48.893Z"
   },
   {
    "duration": 144,
    "start_time": "2024-11-05T12:46:49.017Z"
   },
   {
    "duration": 148,
    "start_time": "2024-11-05T12:46:49.164Z"
   },
   {
    "duration": 154,
    "start_time": "2024-11-05T12:46:49.313Z"
   },
   {
    "duration": 5,
    "start_time": "2024-11-05T12:46:49.469Z"
   },
   {
    "duration": 161,
    "start_time": "2024-11-05T12:46:49.476Z"
   },
   {
    "duration": 6,
    "start_time": "2024-11-05T12:46:49.638Z"
   },
   {
    "duration": 20,
    "start_time": "2024-11-05T12:46:49.646Z"
   },
   {
    "duration": 21,
    "start_time": "2024-11-05T12:46:49.668Z"
   },
   {
    "duration": 17,
    "start_time": "2024-11-05T12:46:49.690Z"
   },
   {
    "duration": 33,
    "start_time": "2024-11-05T12:46:49.708Z"
   },
   {
    "duration": 19,
    "start_time": "2024-11-05T12:46:49.742Z"
   },
   {
    "duration": 168,
    "start_time": "2024-11-05T12:46:49.763Z"
   },
   {
    "duration": 11,
    "start_time": "2024-11-05T12:46:49.933Z"
   },
   {
    "duration": 30,
    "start_time": "2024-11-05T12:46:49.945Z"
   },
   {
    "duration": 18,
    "start_time": "2024-11-05T12:46:49.977Z"
   },
   {
    "duration": 30,
    "start_time": "2024-11-05T12:46:49.997Z"
   },
   {
    "duration": 138,
    "start_time": "2024-11-05T12:46:50.029Z"
   },
   {
    "duration": 11,
    "start_time": "2024-11-05T12:46:50.168Z"
   },
   {
    "duration": 9,
    "start_time": "2024-11-05T12:46:50.180Z"
   },
   {
    "duration": 20,
    "start_time": "2024-11-05T12:46:50.191Z"
   },
   {
    "duration": 31,
    "start_time": "2024-11-05T12:46:50.213Z"
   },
   {
    "duration": 164,
    "start_time": "2024-11-05T12:46:50.246Z"
   },
   {
    "duration": 5,
    "start_time": "2024-11-05T12:46:50.412Z"
   },
   {
    "duration": 3,
    "start_time": "2024-11-05T12:46:50.419Z"
   },
   {
    "duration": 30,
    "start_time": "2024-11-05T12:46:50.424Z"
   },
   {
    "duration": 29,
    "start_time": "2024-11-05T12:46:50.456Z"
   },
   {
    "duration": 11,
    "start_time": "2024-11-05T12:46:50.492Z"
   },
   {
    "duration": 36,
    "start_time": "2024-11-05T12:46:50.504Z"
   },
   {
    "duration": 55,
    "start_time": "2024-11-05T12:46:50.541Z"
   },
   {
    "duration": 236,
    "start_time": "2024-11-05T12:46:50.597Z"
   },
   {
    "duration": 9,
    "start_time": "2024-11-05T12:46:50.835Z"
   },
   {
    "duration": 54,
    "start_time": "2024-11-05T12:46:50.845Z"
   },
   {
    "duration": 144,
    "start_time": "2024-11-05T12:46:50.901Z"
   },
   {
    "duration": 8,
    "start_time": "2024-11-05T12:46:51.046Z"
   },
   {
    "duration": 45,
    "start_time": "2024-11-05T12:46:51.056Z"
   },
   {
    "duration": 159,
    "start_time": "2024-11-05T12:46:51.103Z"
   },
   {
    "duration": 10,
    "start_time": "2024-11-05T12:46:51.264Z"
   },
   {
    "duration": 15,
    "start_time": "2024-11-05T12:46:51.276Z"
   },
   {
    "duration": 175,
    "start_time": "2024-11-05T12:46:51.293Z"
   },
   {
    "duration": 10,
    "start_time": "2024-11-05T12:46:51.470Z"
   },
   {
    "duration": 8,
    "start_time": "2024-11-05T12:46:51.482Z"
   },
   {
    "duration": 167,
    "start_time": "2024-11-05T12:46:51.492Z"
   },
   {
    "duration": 6,
    "start_time": "2024-11-05T12:46:51.660Z"
   },
   {
    "duration": 17,
    "start_time": "2024-11-05T12:46:51.668Z"
   },
   {
    "duration": 5,
    "start_time": "2024-11-05T12:46:51.687Z"
   },
   {
    "duration": 28,
    "start_time": "2024-11-05T12:46:51.694Z"
   },
   {
    "duration": 255,
    "start_time": "2024-11-05T12:46:51.724Z"
   },
   {
    "duration": 7,
    "start_time": "2024-11-05T12:46:51.980Z"
   },
   {
    "duration": 7,
    "start_time": "2024-11-05T12:46:51.989Z"
   },
   {
    "duration": 320,
    "start_time": "2024-11-05T12:46:51.998Z"
   },
   {
    "duration": 406,
    "start_time": "2024-11-05T12:50:07.407Z"
   },
   {
    "duration": 118,
    "start_time": "2024-11-05T12:50:07.815Z"
   },
   {
    "duration": 3,
    "start_time": "2024-11-05T12:50:07.935Z"
   },
   {
    "duration": 78,
    "start_time": "2024-11-05T12:50:07.941Z"
   },
   {
    "duration": 15,
    "start_time": "2024-11-05T12:50:08.021Z"
   },
   {
    "duration": 2370,
    "start_time": "2024-11-05T12:50:08.038Z"
   },
   {
    "duration": 10,
    "start_time": "2024-11-05T12:50:10.410Z"
   },
   {
    "duration": 6,
    "start_time": "2024-11-05T12:50:10.423Z"
   },
   {
    "duration": 5,
    "start_time": "2024-11-05T12:50:10.431Z"
   },
   {
    "duration": 3,
    "start_time": "2024-11-05T12:50:10.439Z"
   },
   {
    "duration": 12,
    "start_time": "2024-11-05T12:50:10.444Z"
   },
   {
    "duration": 16,
    "start_time": "2024-11-05T12:50:10.457Z"
   },
   {
    "duration": 13,
    "start_time": "2024-11-05T12:50:10.474Z"
   },
   {
    "duration": 8,
    "start_time": "2024-11-05T12:50:10.488Z"
   },
   {
    "duration": 11,
    "start_time": "2024-11-05T12:50:10.498Z"
   },
   {
    "duration": 10,
    "start_time": "2024-11-05T12:50:10.511Z"
   },
   {
    "duration": 25,
    "start_time": "2024-11-05T12:50:10.523Z"
   },
   {
    "duration": 16,
    "start_time": "2024-11-05T12:50:10.550Z"
   },
   {
    "duration": 6,
    "start_time": "2024-11-05T12:50:10.567Z"
   },
   {
    "duration": 73,
    "start_time": "2024-11-05T12:50:10.575Z"
   },
   {
    "duration": 21,
    "start_time": "2024-11-05T12:50:10.649Z"
   },
   {
    "duration": 6,
    "start_time": "2024-11-05T12:50:10.672Z"
   },
   {
    "duration": 4,
    "start_time": "2024-11-05T12:50:10.680Z"
   },
   {
    "duration": 4,
    "start_time": "2024-11-05T12:50:10.686Z"
   },
   {
    "duration": 4,
    "start_time": "2024-11-05T12:50:10.692Z"
   },
   {
    "duration": 3,
    "start_time": "2024-11-05T12:50:10.698Z"
   },
   {
    "duration": 9,
    "start_time": "2024-11-05T12:50:10.703Z"
   },
   {
    "duration": 52,
    "start_time": "2024-11-05T12:50:10.719Z"
   },
   {
    "duration": 163,
    "start_time": "2024-11-05T12:50:10.773Z"
   },
   {
    "duration": 4,
    "start_time": "2024-11-05T12:50:10.937Z"
   },
   {
    "duration": 11,
    "start_time": "2024-11-05T12:50:10.942Z"
   },
   {
    "duration": 13,
    "start_time": "2024-11-05T12:50:10.955Z"
   },
   {
    "duration": 6,
    "start_time": "2024-11-05T12:50:10.970Z"
   },
   {
    "duration": 168,
    "start_time": "2024-11-05T12:50:10.978Z"
   },
   {
    "duration": 3,
    "start_time": "2024-11-05T12:50:11.148Z"
   },
   {
    "duration": 13,
    "start_time": "2024-11-05T12:50:11.152Z"
   },
   {
    "duration": 7,
    "start_time": "2024-11-05T12:50:11.166Z"
   },
   {
    "duration": 10,
    "start_time": "2024-11-05T12:50:11.175Z"
   },
   {
    "duration": 154,
    "start_time": "2024-11-05T12:50:11.187Z"
   },
   {
    "duration": 4,
    "start_time": "2024-11-05T12:50:11.343Z"
   },
   {
    "duration": 19,
    "start_time": "2024-11-05T12:50:11.348Z"
   },
   {
    "duration": 10,
    "start_time": "2024-11-05T12:50:11.368Z"
   },
   {
    "duration": 217,
    "start_time": "2024-11-05T12:50:11.380Z"
   },
   {
    "duration": 3,
    "start_time": "2024-11-05T12:50:11.599Z"
   },
   {
    "duration": 6,
    "start_time": "2024-11-05T12:50:11.604Z"
   },
   {
    "duration": 6,
    "start_time": "2024-11-05T12:50:11.612Z"
   },
   {
    "duration": 12,
    "start_time": "2024-11-05T12:50:11.620Z"
   },
   {
    "duration": 176,
    "start_time": "2024-11-05T12:50:11.634Z"
   },
   {
    "duration": 4,
    "start_time": "2024-11-05T12:50:11.812Z"
   },
   {
    "duration": 15,
    "start_time": "2024-11-05T12:50:11.818Z"
   },
   {
    "duration": 10,
    "start_time": "2024-11-05T12:50:11.835Z"
   },
   {
    "duration": 22,
    "start_time": "2024-11-05T12:50:11.846Z"
   },
   {
    "duration": 128,
    "start_time": "2024-11-05T12:50:11.869Z"
   },
   {
    "duration": 112,
    "start_time": "2024-11-05T12:50:11.999Z"
   },
   {
    "duration": 158,
    "start_time": "2024-11-05T12:50:12.112Z"
   },
   {
    "duration": 143,
    "start_time": "2024-11-05T12:50:12.272Z"
   },
   {
    "duration": 159,
    "start_time": "2024-11-05T12:50:12.417Z"
   },
   {
    "duration": 5,
    "start_time": "2024-11-05T12:50:12.577Z"
   },
   {
    "duration": 155,
    "start_time": "2024-11-05T12:50:12.584Z"
   },
   {
    "duration": 4,
    "start_time": "2024-11-05T12:50:12.741Z"
   },
   {
    "duration": 5,
    "start_time": "2024-11-05T12:50:12.746Z"
   },
   {
    "duration": 10,
    "start_time": "2024-11-05T12:50:12.765Z"
   },
   {
    "duration": 6,
    "start_time": "2024-11-05T12:50:12.777Z"
   },
   {
    "duration": 21,
    "start_time": "2024-11-05T12:50:12.785Z"
   },
   {
    "duration": 7,
    "start_time": "2024-11-05T12:50:12.808Z"
   },
   {
    "duration": 140,
    "start_time": "2024-11-05T12:50:12.817Z"
   },
   {
    "duration": 14,
    "start_time": "2024-11-05T12:50:12.959Z"
   },
   {
    "duration": 6,
    "start_time": "2024-11-05T12:50:12.975Z"
   },
   {
    "duration": 13,
    "start_time": "2024-11-05T12:50:12.983Z"
   },
   {
    "duration": 7,
    "start_time": "2024-11-05T12:50:12.997Z"
   },
   {
    "duration": 147,
    "start_time": "2024-11-05T12:50:13.005Z"
   },
   {
    "duration": 17,
    "start_time": "2024-11-05T12:50:13.153Z"
   },
   {
    "duration": 7,
    "start_time": "2024-11-05T12:50:13.171Z"
   },
   {
    "duration": 13,
    "start_time": "2024-11-05T12:50:13.180Z"
   },
   {
    "duration": 8,
    "start_time": "2024-11-05T12:50:13.195Z"
   },
   {
    "duration": 180,
    "start_time": "2024-11-05T12:50:13.205Z"
   },
   {
    "duration": 5,
    "start_time": "2024-11-05T12:50:13.387Z"
   },
   {
    "duration": 6,
    "start_time": "2024-11-05T12:50:13.393Z"
   },
   {
    "duration": 12,
    "start_time": "2024-11-05T12:50:13.400Z"
   },
   {
    "duration": 7,
    "start_time": "2024-11-05T12:50:13.413Z"
   },
   {
    "duration": 5,
    "start_time": "2024-11-05T12:50:13.421Z"
   },
   {
    "duration": 5,
    "start_time": "2024-11-05T12:50:13.432Z"
   },
   {
    "duration": 31,
    "start_time": "2024-11-05T12:50:13.438Z"
   },
   {
    "duration": 233,
    "start_time": "2024-11-05T12:50:13.471Z"
   },
   {
    "duration": 11,
    "start_time": "2024-11-05T12:50:13.706Z"
   },
   {
    "duration": 8,
    "start_time": "2024-11-05T12:50:13.719Z"
   },
   {
    "duration": 163,
    "start_time": "2024-11-05T12:50:13.729Z"
   },
   {
    "duration": 13,
    "start_time": "2024-11-05T12:50:13.899Z"
   },
   {
    "duration": 9,
    "start_time": "2024-11-05T12:50:13.920Z"
   },
   {
    "duration": 156,
    "start_time": "2024-11-05T12:50:13.931Z"
   },
   {
    "duration": 9,
    "start_time": "2024-11-05T12:50:14.089Z"
   },
   {
    "duration": 19,
    "start_time": "2024-11-05T12:50:14.101Z"
   },
   {
    "duration": 192,
    "start_time": "2024-11-05T12:50:14.122Z"
   },
   {
    "duration": 10,
    "start_time": "2024-11-05T12:50:14.316Z"
   },
   {
    "duration": 32,
    "start_time": "2024-11-05T12:50:14.328Z"
   },
   {
    "duration": 142,
    "start_time": "2024-11-05T12:50:14.362Z"
   },
   {
    "duration": 3,
    "start_time": "2024-11-05T12:50:14.506Z"
   },
   {
    "duration": 20,
    "start_time": "2024-11-05T12:50:14.511Z"
   },
   {
    "duration": 4,
    "start_time": "2024-11-05T12:50:14.533Z"
   },
   {
    "duration": 32,
    "start_time": "2024-11-05T12:50:14.539Z"
   },
   {
    "duration": 201,
    "start_time": "2024-11-05T12:50:14.573Z"
   },
   {
    "duration": 7,
    "start_time": "2024-11-05T12:50:14.775Z"
   },
   {
    "duration": 6,
    "start_time": "2024-11-05T12:50:14.783Z"
   },
   {
    "duration": 339,
    "start_time": "2024-11-05T12:50:14.791Z"
   },
   {
    "duration": 5,
    "start_time": "2024-11-08T11:25:33.229Z"
   },
   {
    "duration": 16,
    "start_time": "2024-11-08T11:25:35.351Z"
   },
   {
    "duration": 5,
    "start_time": "2024-11-08T11:25:36.992Z"
   },
   {
    "duration": 4,
    "start_time": "2024-11-08T11:25:52.169Z"
   },
   {
    "duration": 492,
    "start_time": "2024-11-08T11:26:02.595Z"
   },
   {
    "duration": 130,
    "start_time": "2024-11-08T11:26:03.089Z"
   },
   {
    "duration": 4,
    "start_time": "2024-11-08T11:26:03.221Z"
   },
   {
    "duration": 56,
    "start_time": "2024-11-08T11:26:03.228Z"
   },
   {
    "duration": 20,
    "start_time": "2024-11-08T11:26:03.286Z"
   },
   {
    "duration": 2614,
    "start_time": "2024-11-08T11:26:03.309Z"
   },
   {
    "duration": 11,
    "start_time": "2024-11-08T11:26:05.925Z"
   },
   {
    "duration": 37,
    "start_time": "2024-11-08T11:26:05.938Z"
   },
   {
    "duration": 50,
    "start_time": "2024-11-08T11:26:05.977Z"
   },
   {
    "duration": 102,
    "start_time": "2024-11-08T11:26:06.030Z"
   },
   {
    "duration": 15,
    "start_time": "2024-11-08T11:26:06.135Z"
   },
   {
    "duration": 28,
    "start_time": "2024-11-08T11:26:06.153Z"
   },
   {
    "duration": 32,
    "start_time": "2024-11-08T11:26:06.183Z"
   },
   {
    "duration": 15,
    "start_time": "2024-11-08T11:26:06.217Z"
   },
   {
    "duration": 34,
    "start_time": "2024-11-08T11:26:06.234Z"
   },
   {
    "duration": 18,
    "start_time": "2024-11-08T11:26:06.270Z"
   },
   {
    "duration": 37,
    "start_time": "2024-11-08T11:26:06.290Z"
   },
   {
    "duration": 26,
    "start_time": "2024-11-08T11:26:06.329Z"
   },
   {
    "duration": 42,
    "start_time": "2024-11-08T11:26:06.359Z"
   },
   {
    "duration": 26,
    "start_time": "2024-11-08T11:26:06.404Z"
   },
   {
    "duration": 74,
    "start_time": "2024-11-08T11:26:06.433Z"
   },
   {
    "duration": 14,
    "start_time": "2024-11-08T11:26:06.509Z"
   },
   {
    "duration": 107,
    "start_time": "2024-11-08T11:26:06.524Z"
   },
   {
    "duration": 6,
    "start_time": "2024-11-08T11:26:06.633Z"
   },
   {
    "duration": 30,
    "start_time": "2024-11-08T11:26:06.640Z"
   },
   {
    "duration": 31,
    "start_time": "2024-11-08T11:26:06.672Z"
   },
   {
    "duration": 8,
    "start_time": "2024-11-08T11:26:06.705Z"
   },
   {
    "duration": 6,
    "start_time": "2024-11-08T11:26:06.719Z"
   },
   {
    "duration": 10,
    "start_time": "2024-11-08T11:26:06.727Z"
   },
   {
    "duration": 32,
    "start_time": "2024-11-08T11:26:06.739Z"
   },
   {
    "duration": 35,
    "start_time": "2024-11-08T11:26:06.773Z"
   },
   {
    "duration": 226,
    "start_time": "2024-11-08T11:26:06.812Z"
   },
   {
    "duration": 6,
    "start_time": "2024-11-08T11:26:07.040Z"
   },
   {
    "duration": 59,
    "start_time": "2024-11-08T11:26:07.049Z"
   },
   {
    "duration": 49,
    "start_time": "2024-11-08T11:26:07.110Z"
   },
   {
    "duration": 32,
    "start_time": "2024-11-08T11:26:07.162Z"
   },
   {
    "duration": 158,
    "start_time": "2024-11-08T11:26:07.196Z"
   },
   {
    "duration": 5,
    "start_time": "2024-11-08T11:26:07.356Z"
   },
   {
    "duration": 71,
    "start_time": "2024-11-08T11:26:07.364Z"
   },
   {
    "duration": 63,
    "start_time": "2024-11-08T11:26:07.436Z"
   },
   {
    "duration": 108,
    "start_time": "2024-11-08T11:26:07.501Z"
   },
   {
    "duration": 204,
    "start_time": "2024-11-08T11:26:07.611Z"
   },
   {
    "duration": 4,
    "start_time": "2024-11-08T11:26:07.817Z"
   },
   {
    "duration": 32,
    "start_time": "2024-11-08T11:26:07.823Z"
   },
   {
    "duration": 20,
    "start_time": "2024-11-08T11:26:07.858Z"
   },
   {
    "duration": 241,
    "start_time": "2024-11-08T11:26:07.880Z"
   },
   {
    "duration": 3,
    "start_time": "2024-11-08T11:26:08.123Z"
   },
   {
    "duration": 35,
    "start_time": "2024-11-08T11:26:08.128Z"
   },
   {
    "duration": 35,
    "start_time": "2024-11-08T11:26:08.166Z"
   },
   {
    "duration": 41,
    "start_time": "2024-11-08T11:26:08.203Z"
   },
   {
    "duration": 250,
    "start_time": "2024-11-08T11:26:08.246Z"
   },
   {
    "duration": 6,
    "start_time": "2024-11-08T11:26:08.498Z"
   },
   {
    "duration": 10,
    "start_time": "2024-11-08T11:26:08.506Z"
   },
   {
    "duration": 12,
    "start_time": "2024-11-08T11:26:08.518Z"
   },
   {
    "duration": 9,
    "start_time": "2024-11-08T11:26:08.551Z"
   },
   {
    "duration": 170,
    "start_time": "2024-11-08T11:26:08.566Z"
   },
   {
    "duration": 149,
    "start_time": "2024-11-08T11:26:08.739Z"
   },
   {
    "duration": 172,
    "start_time": "2024-11-08T11:26:08.890Z"
   },
   {
    "duration": 142,
    "start_time": "2024-11-08T11:26:09.064Z"
   },
   {
    "duration": 156,
    "start_time": "2024-11-08T11:26:09.208Z"
   },
   {
    "duration": 4,
    "start_time": "2024-11-08T11:26:09.366Z"
   },
   {
    "duration": 163,
    "start_time": "2024-11-08T11:26:09.372Z"
   },
   {
    "duration": 24,
    "start_time": "2024-11-08T11:26:09.537Z"
   },
   {
    "duration": 96,
    "start_time": "2024-11-08T11:26:09.563Z"
   },
   {
    "duration": 14,
    "start_time": "2024-11-08T11:26:09.661Z"
   },
   {
    "duration": 9,
    "start_time": "2024-11-08T11:26:09.676Z"
   },
   {
    "duration": 13,
    "start_time": "2024-11-08T11:26:09.686Z"
   },
   {
    "duration": 9,
    "start_time": "2024-11-08T11:26:09.701Z"
   },
   {
    "duration": 179,
    "start_time": "2024-11-08T11:26:09.712Z"
   },
   {
    "duration": 20,
    "start_time": "2024-11-08T11:26:09.894Z"
   },
   {
    "duration": 11,
    "start_time": "2024-11-08T11:26:09.916Z"
   },
   {
    "duration": 29,
    "start_time": "2024-11-08T11:26:09.930Z"
   },
   {
    "duration": 9,
    "start_time": "2024-11-08T11:26:09.962Z"
   },
   {
    "duration": 220,
    "start_time": "2024-11-08T11:26:09.973Z"
   },
   {
    "duration": 16,
    "start_time": "2024-11-08T11:26:10.196Z"
   },
   {
    "duration": 9,
    "start_time": "2024-11-08T11:26:10.214Z"
   },
   {
    "duration": 26,
    "start_time": "2024-11-08T11:26:10.242Z"
   },
   {
    "duration": 9,
    "start_time": "2024-11-08T11:26:10.271Z"
   },
   {
    "duration": 196,
    "start_time": "2024-11-08T11:26:10.282Z"
   },
   {
    "duration": 5,
    "start_time": "2024-11-08T11:26:10.481Z"
   },
   {
    "duration": 34,
    "start_time": "2024-11-08T11:26:10.488Z"
   },
   {
    "duration": 22,
    "start_time": "2024-11-08T11:26:10.531Z"
   },
   {
    "duration": 6,
    "start_time": "2024-11-08T11:26:10.563Z"
   },
   {
    "duration": 12,
    "start_time": "2024-11-08T11:26:10.570Z"
   },
   {
    "duration": 14,
    "start_time": "2024-11-08T11:26:10.584Z"
   },
   {
    "duration": 9,
    "start_time": "2024-11-08T11:26:10.601Z"
   },
   {
    "duration": 266,
    "start_time": "2024-11-08T11:26:10.612Z"
   },
   {
    "duration": 14,
    "start_time": "2024-11-08T11:26:10.880Z"
   },
   {
    "duration": 10,
    "start_time": "2024-11-08T11:26:10.896Z"
   },
   {
    "duration": 160,
    "start_time": "2024-11-08T11:26:10.909Z"
   },
   {
    "duration": 10,
    "start_time": "2024-11-08T11:26:11.070Z"
   },
   {
    "duration": 85,
    "start_time": "2024-11-08T11:26:11.082Z"
   },
   {
    "duration": 160,
    "start_time": "2024-11-08T11:26:11.170Z"
   },
   {
    "duration": 19,
    "start_time": "2024-11-08T11:26:11.332Z"
   },
   {
    "duration": 10,
    "start_time": "2024-11-08T11:26:11.355Z"
   },
   {
    "duration": 197,
    "start_time": "2024-11-08T11:26:11.367Z"
   },
   {
    "duration": 9,
    "start_time": "2024-11-08T11:26:11.566Z"
   },
   {
    "duration": 81,
    "start_time": "2024-11-08T11:26:11.577Z"
   },
   {
    "duration": 168,
    "start_time": "2024-11-08T11:26:11.663Z"
   },
   {
    "duration": 14,
    "start_time": "2024-11-08T11:26:11.834Z"
   },
   {
    "duration": 23,
    "start_time": "2024-11-08T11:26:11.850Z"
   },
   {
    "duration": 11,
    "start_time": "2024-11-08T11:26:11.875Z"
   },
   {
    "duration": 13,
    "start_time": "2024-11-08T11:26:11.888Z"
   },
   {
    "duration": 246,
    "start_time": "2024-11-08T11:26:11.903Z"
   },
   {
    "duration": 14,
    "start_time": "2024-11-08T11:26:12.151Z"
   },
   {
    "duration": 10,
    "start_time": "2024-11-08T11:26:12.167Z"
   },
   {
    "duration": 405,
    "start_time": "2024-11-08T11:26:12.178Z"
   },
   {
    "duration": 7,
    "start_time": "2024-11-08T11:26:45.780Z"
   },
   {
    "duration": 8,
    "start_time": "2024-11-08T11:26:46.614Z"
   },
   {
    "duration": 134,
    "start_time": "2024-11-08T11:26:47.460Z"
   },
   {
    "duration": 199,
    "start_time": "2024-11-08T11:29:01.894Z"
   },
   {
    "duration": 170,
    "start_time": "2024-11-08T11:30:35.230Z"
   },
   {
    "duration": 312,
    "start_time": "2024-11-08T11:31:40.707Z"
   },
   {
    "duration": 204,
    "start_time": "2024-11-08T11:32:21.520Z"
   },
   {
    "duration": 179,
    "start_time": "2024-11-08T11:32:51.075Z"
   },
   {
    "duration": 223,
    "start_time": "2024-11-08T11:35:11.436Z"
   },
   {
    "duration": 484,
    "start_time": "2024-11-08T11:35:23.655Z"
   },
   {
    "duration": 125,
    "start_time": "2024-11-08T11:35:24.141Z"
   },
   {
    "duration": 5,
    "start_time": "2024-11-08T11:35:24.268Z"
   },
   {
    "duration": 89,
    "start_time": "2024-11-08T11:35:24.275Z"
   },
   {
    "duration": 16,
    "start_time": "2024-11-08T11:35:24.366Z"
   },
   {
    "duration": 2575,
    "start_time": "2024-11-08T11:35:24.384Z"
   },
   {
    "duration": 15,
    "start_time": "2024-11-08T11:35:26.961Z"
   },
   {
    "duration": 27,
    "start_time": "2024-11-08T11:35:26.978Z"
   },
   {
    "duration": 30,
    "start_time": "2024-11-08T11:35:27.007Z"
   },
   {
    "duration": 27,
    "start_time": "2024-11-08T11:35:27.041Z"
   },
   {
    "duration": 36,
    "start_time": "2024-11-08T11:35:27.070Z"
   },
   {
    "duration": 39,
    "start_time": "2024-11-08T11:35:27.108Z"
   },
   {
    "duration": 47,
    "start_time": "2024-11-08T11:35:27.150Z"
   },
   {
    "duration": 22,
    "start_time": "2024-11-08T11:35:27.199Z"
   },
   {
    "duration": 17,
    "start_time": "2024-11-08T11:35:27.223Z"
   },
   {
    "duration": 21,
    "start_time": "2024-11-08T11:35:27.242Z"
   },
   {
    "duration": 18,
    "start_time": "2024-11-08T11:35:27.265Z"
   },
   {
    "duration": 50,
    "start_time": "2024-11-08T11:35:27.284Z"
   },
   {
    "duration": 32,
    "start_time": "2024-11-08T11:35:27.336Z"
   },
   {
    "duration": 43,
    "start_time": "2024-11-08T11:35:27.369Z"
   },
   {
    "duration": 45,
    "start_time": "2024-11-08T11:35:27.414Z"
   },
   {
    "duration": 136,
    "start_time": "2024-11-08T11:35:27.461Z"
   },
   {
    "duration": 105,
    "start_time": "2024-11-08T11:35:27.600Z"
   },
   {
    "duration": 10,
    "start_time": "2024-11-08T11:35:27.707Z"
   },
   {
    "duration": 19,
    "start_time": "2024-11-08T11:35:27.719Z"
   },
   {
    "duration": 12,
    "start_time": "2024-11-08T11:35:27.740Z"
   },
   {
    "duration": 33,
    "start_time": "2024-11-08T11:35:27.753Z"
   },
   {
    "duration": 13,
    "start_time": "2024-11-08T11:35:27.790Z"
   },
   {
    "duration": 26,
    "start_time": "2024-11-08T11:35:27.805Z"
   },
   {
    "duration": 15,
    "start_time": "2024-11-08T11:35:27.832Z"
   },
   {
    "duration": 30,
    "start_time": "2024-11-08T11:35:27.849Z"
   },
   {
    "duration": 142,
    "start_time": "2024-11-08T11:35:27.881Z"
   },
   {
    "duration": 4,
    "start_time": "2024-11-08T11:35:28.025Z"
   },
   {
    "duration": 32,
    "start_time": "2024-11-08T11:35:28.030Z"
   },
   {
    "duration": 27,
    "start_time": "2024-11-08T11:35:28.064Z"
   },
   {
    "duration": 26,
    "start_time": "2024-11-08T11:35:28.093Z"
   },
   {
    "duration": 185,
    "start_time": "2024-11-08T11:35:28.120Z"
   },
   {
    "duration": 5,
    "start_time": "2024-11-08T11:35:28.306Z"
   },
   {
    "duration": 36,
    "start_time": "2024-11-08T11:35:28.312Z"
   },
   {
    "duration": 51,
    "start_time": "2024-11-08T11:35:28.350Z"
   },
   {
    "duration": 31,
    "start_time": "2024-11-08T11:35:28.402Z"
   },
   {
    "duration": 156,
    "start_time": "2024-11-08T11:35:28.435Z"
   },
   {
    "duration": 4,
    "start_time": "2024-11-08T11:35:28.593Z"
   },
   {
    "duration": 21,
    "start_time": "2024-11-08T11:35:28.599Z"
   },
   {
    "duration": 21,
    "start_time": "2024-11-08T11:35:28.622Z"
   },
   {
    "duration": 269,
    "start_time": "2024-11-08T11:35:28.645Z"
   },
   {
    "duration": 2,
    "start_time": "2024-11-08T11:35:28.916Z"
   },
   {
    "duration": 20,
    "start_time": "2024-11-08T11:35:28.920Z"
   },
   {
    "duration": 33,
    "start_time": "2024-11-08T11:35:28.942Z"
   },
   {
    "duration": 34,
    "start_time": "2024-11-08T11:35:28.977Z"
   },
   {
    "duration": 165,
    "start_time": "2024-11-08T11:35:29.012Z"
   },
   {
    "duration": 5,
    "start_time": "2024-11-08T11:35:29.179Z"
   },
   {
    "duration": 234,
    "start_time": "2024-11-08T11:35:29.186Z"
   },
   {
    "duration": 156,
    "start_time": "2024-11-08T11:35:29.422Z"
   },
   {
    "duration": 152,
    "start_time": "2024-11-08T11:35:29.580Z"
   },
   {
    "duration": 167,
    "start_time": "2024-11-08T11:35:29.734Z"
   },
   {
    "duration": 176,
    "start_time": "2024-11-08T11:35:29.904Z"
   },
   {
    "duration": 5,
    "start_time": "2024-11-08T11:35:30.082Z"
   },
   {
    "duration": 184,
    "start_time": "2024-11-08T11:35:30.089Z"
   },
   {
    "duration": 4,
    "start_time": "2024-11-08T11:35:30.275Z"
   },
   {
    "duration": 50,
    "start_time": "2024-11-08T11:35:30.281Z"
   },
   {
    "duration": 80,
    "start_time": "2024-11-08T11:35:30.333Z"
   },
   {
    "duration": 36,
    "start_time": "2024-11-08T11:35:30.415Z"
   },
   {
    "duration": 39,
    "start_time": "2024-11-08T11:35:30.453Z"
   },
   {
    "duration": 43,
    "start_time": "2024-11-08T11:35:30.494Z"
   },
   {
    "duration": 194,
    "start_time": "2024-11-08T11:35:30.539Z"
   },
   {
    "duration": 20,
    "start_time": "2024-11-08T11:35:30.735Z"
   },
   {
    "duration": 35,
    "start_time": "2024-11-08T11:35:30.757Z"
   },
   {
    "duration": 23,
    "start_time": "2024-11-08T11:35:30.795Z"
   },
   {
    "duration": 51,
    "start_time": "2024-11-08T11:35:30.821Z"
   },
   {
    "duration": 166,
    "start_time": "2024-11-08T11:35:30.874Z"
   },
   {
    "duration": 19,
    "start_time": "2024-11-08T11:35:31.042Z"
   },
   {
    "duration": 14,
    "start_time": "2024-11-08T11:35:31.063Z"
   },
   {
    "duration": 39,
    "start_time": "2024-11-08T11:35:31.079Z"
   },
   {
    "duration": 82,
    "start_time": "2024-11-08T11:35:31.121Z"
   },
   {
    "duration": 149,
    "start_time": "2024-11-08T11:35:31.204Z"
   },
   {
    "duration": 9,
    "start_time": "2024-11-08T11:35:31.356Z"
   },
   {
    "duration": 44,
    "start_time": "2024-11-08T11:35:31.367Z"
   },
   {
    "duration": 124,
    "start_time": "2024-11-08T11:35:31.412Z"
   },
   {
    "duration": 74,
    "start_time": "2024-11-08T11:35:31.537Z"
   },
   {
    "duration": 36,
    "start_time": "2024-11-08T11:35:31.612Z"
   },
   {
    "duration": 80,
    "start_time": "2024-11-08T11:35:31.657Z"
   },
   {
    "duration": 34,
    "start_time": "2024-11-08T11:35:31.739Z"
   },
   {
    "duration": 258,
    "start_time": "2024-11-08T11:35:31.775Z"
   },
   {
    "duration": 13,
    "start_time": "2024-11-08T11:35:32.035Z"
   },
   {
    "duration": 44,
    "start_time": "2024-11-08T11:35:32.050Z"
   },
   {
    "duration": 136,
    "start_time": "2024-11-08T11:35:32.095Z"
   },
   {
    "duration": 11,
    "start_time": "2024-11-08T11:35:32.233Z"
   },
   {
    "duration": 19,
    "start_time": "2024-11-08T11:35:32.247Z"
   },
   {
    "duration": 165,
    "start_time": "2024-11-08T11:35:32.268Z"
   },
   {
    "duration": 18,
    "start_time": "2024-11-08T11:35:32.435Z"
   },
   {
    "duration": 97,
    "start_time": "2024-11-08T11:35:32.460Z"
   },
   {
    "duration": 231,
    "start_time": "2024-11-08T11:35:32.559Z"
   },
   {
    "duration": 11,
    "start_time": "2024-11-08T11:35:32.792Z"
   },
   {
    "duration": 38,
    "start_time": "2024-11-08T11:35:32.805Z"
   },
   {
    "duration": 170,
    "start_time": "2024-11-08T11:35:32.846Z"
   },
   {
    "duration": 3,
    "start_time": "2024-11-08T11:35:33.018Z"
   },
   {
    "duration": 48,
    "start_time": "2024-11-08T11:35:33.023Z"
   },
   {
    "duration": 35,
    "start_time": "2024-11-08T11:35:33.072Z"
   },
   {
    "duration": 106,
    "start_time": "2024-11-08T11:35:33.109Z"
   },
   {
    "duration": 238,
    "start_time": "2024-11-08T11:35:33.216Z"
   },
   {
    "duration": 9,
    "start_time": "2024-11-08T11:35:33.456Z"
   },
   {
    "duration": 75,
    "start_time": "2024-11-08T11:35:33.467Z"
   },
   {
    "duration": 389,
    "start_time": "2024-11-08T11:35:33.544Z"
   },
   {
    "duration": 7,
    "start_time": "2024-11-08T11:36:54.813Z"
   },
   {
    "duration": 8,
    "start_time": "2024-11-08T11:59:01.581Z"
   },
   {
    "duration": 10,
    "start_time": "2024-11-08T11:59:04.562Z"
   },
   {
    "duration": 194,
    "start_time": "2024-11-08T11:59:07.976Z"
   },
   {
    "duration": 7,
    "start_time": "2024-11-08T11:59:23.963Z"
   },
   {
    "duration": 12,
    "start_time": "2024-11-08T12:00:29.099Z"
   },
   {
    "duration": 152,
    "start_time": "2024-11-08T12:01:03.144Z"
   },
   {
    "duration": 7,
    "start_time": "2024-11-08T12:01:09.735Z"
   },
   {
    "duration": 12,
    "start_time": "2024-11-08T12:01:13.204Z"
   },
   {
    "duration": 4,
    "start_time": "2024-11-08T12:01:42.465Z"
   },
   {
    "duration": 3,
    "start_time": "2024-11-08T12:01:43.700Z"
   },
   {
    "duration": 3,
    "start_time": "2024-11-08T12:01:44.935Z"
   },
   {
    "duration": 14,
    "start_time": "2024-11-08T12:01:46.974Z"
   },
   {
    "duration": 480,
    "start_time": "2024-11-08T12:01:56.000Z"
   },
   {
    "duration": 125,
    "start_time": "2024-11-08T12:01:56.484Z"
   },
   {
    "duration": 3,
    "start_time": "2024-11-08T12:01:56.611Z"
   },
   {
    "duration": 90,
    "start_time": "2024-11-08T12:01:56.617Z"
   },
   {
    "duration": 21,
    "start_time": "2024-11-08T12:01:56.709Z"
   },
   {
    "duration": 2807,
    "start_time": "2024-11-08T12:01:56.732Z"
   },
   {
    "duration": 16,
    "start_time": "2024-11-08T12:01:59.542Z"
   },
   {
    "duration": 34,
    "start_time": "2024-11-08T12:01:59.560Z"
   },
   {
    "duration": 11,
    "start_time": "2024-11-08T12:01:59.596Z"
   },
   {
    "duration": 53,
    "start_time": "2024-11-08T12:01:59.611Z"
   },
   {
    "duration": 23,
    "start_time": "2024-11-08T12:01:59.666Z"
   },
   {
    "duration": 9,
    "start_time": "2024-11-08T12:01:59.691Z"
   },
   {
    "duration": 6,
    "start_time": "2024-11-08T12:01:59.702Z"
   },
   {
    "duration": 5,
    "start_time": "2024-11-08T12:01:59.709Z"
   },
   {
    "duration": 50,
    "start_time": "2024-11-08T12:01:59.716Z"
   },
   {
    "duration": 44,
    "start_time": "2024-11-08T12:01:59.768Z"
   },
   {
    "duration": 11,
    "start_time": "2024-11-08T12:01:59.814Z"
   },
   {
    "duration": 14,
    "start_time": "2024-11-08T12:01:59.827Z"
   },
   {
    "duration": 16,
    "start_time": "2024-11-08T12:01:59.843Z"
   },
   {
    "duration": 26,
    "start_time": "2024-11-08T12:01:59.861Z"
   },
   {
    "duration": 9,
    "start_time": "2024-11-08T12:01:59.890Z"
   },
   {
    "duration": 11,
    "start_time": "2024-11-08T12:01:59.901Z"
   },
   {
    "duration": 145,
    "start_time": "2024-11-08T12:01:59.913Z"
   },
   {
    "duration": 8,
    "start_time": "2024-11-08T12:02:00.061Z"
   },
   {
    "duration": 35,
    "start_time": "2024-11-08T12:02:00.072Z"
   },
   {
    "duration": 29,
    "start_time": "2024-11-08T12:02:00.109Z"
   },
   {
    "duration": 49,
    "start_time": "2024-11-08T12:02:00.140Z"
   },
   {
    "duration": 25,
    "start_time": "2024-11-08T12:02:00.194Z"
   },
   {
    "duration": 45,
    "start_time": "2024-11-08T12:02:00.220Z"
   },
   {
    "duration": 47,
    "start_time": "2024-11-08T12:02:00.268Z"
   },
   {
    "duration": 54,
    "start_time": "2024-11-08T12:02:00.318Z"
   },
   {
    "duration": 162,
    "start_time": "2024-11-08T12:02:00.375Z"
   },
   {
    "duration": 5,
    "start_time": "2024-11-08T12:02:00.539Z"
   },
   {
    "duration": 51,
    "start_time": "2024-11-08T12:02:00.546Z"
   },
   {
    "duration": 52,
    "start_time": "2024-11-08T12:02:00.599Z"
   },
   {
    "duration": 14,
    "start_time": "2024-11-08T12:02:00.654Z"
   },
   {
    "duration": 195,
    "start_time": "2024-11-08T12:02:00.670Z"
   },
   {
    "duration": 5,
    "start_time": "2024-11-08T12:02:00.867Z"
   },
   {
    "duration": 28,
    "start_time": "2024-11-08T12:02:00.873Z"
   },
   {
    "duration": 10,
    "start_time": "2024-11-08T12:02:00.903Z"
   },
   {
    "duration": 17,
    "start_time": "2024-11-08T12:02:00.915Z"
   },
   {
    "duration": 158,
    "start_time": "2024-11-08T12:02:00.934Z"
   },
   {
    "duration": 4,
    "start_time": "2024-11-08T12:02:01.094Z"
   },
   {
    "duration": 34,
    "start_time": "2024-11-08T12:02:01.099Z"
   },
   {
    "duration": 34,
    "start_time": "2024-11-08T12:02:01.135Z"
   },
   {
    "duration": 255,
    "start_time": "2024-11-08T12:02:01.171Z"
   },
   {
    "duration": 3,
    "start_time": "2024-11-08T12:02:01.427Z"
   },
   {
    "duration": 29,
    "start_time": "2024-11-08T12:02:01.432Z"
   },
   {
    "duration": 34,
    "start_time": "2024-11-08T12:02:01.463Z"
   },
   {
    "duration": 16,
    "start_time": "2024-11-08T12:02:01.499Z"
   },
   {
    "duration": 218,
    "start_time": "2024-11-08T12:02:01.518Z"
   },
   {
    "duration": 5,
    "start_time": "2024-11-08T12:02:01.739Z"
   },
   {
    "duration": 83,
    "start_time": "2024-11-08T12:02:01.746Z"
   },
   {
    "duration": 63,
    "start_time": "2024-11-08T12:02:01.830Z"
   },
   {
    "duration": 145,
    "start_time": "2024-11-08T12:02:01.895Z"
   },
   {
    "duration": 7,
    "start_time": "2024-11-08T12:02:02.042Z"
   },
   {
    "duration": 55,
    "start_time": "2024-11-08T12:02:02.051Z"
   },
   {
    "duration": 177,
    "start_time": "2024-11-08T12:02:02.108Z"
   },
   {
    "duration": 180,
    "start_time": "2024-11-08T12:02:02.287Z"
   },
   {
    "duration": 188,
    "start_time": "2024-11-08T12:02:02.469Z"
   },
   {
    "duration": 194,
    "start_time": "2024-11-08T12:02:02.663Z"
   },
   {
    "duration": 10,
    "start_time": "2024-11-08T12:02:02.859Z"
   },
   {
    "duration": 229,
    "start_time": "2024-11-08T12:02:02.871Z"
   },
   {
    "duration": 5,
    "start_time": "2024-11-08T12:02:03.101Z"
   },
   {
    "duration": 66,
    "start_time": "2024-11-08T12:02:03.108Z"
   },
   {
    "duration": 42,
    "start_time": "2024-11-08T12:02:03.177Z"
   },
   {
    "duration": 89,
    "start_time": "2024-11-08T12:02:03.221Z"
   },
   {
    "duration": 52,
    "start_time": "2024-11-08T12:02:03.313Z"
   },
   {
    "duration": 29,
    "start_time": "2024-11-08T12:02:03.367Z"
   },
   {
    "duration": 182,
    "start_time": "2024-11-08T12:02:03.399Z"
   },
   {
    "duration": 12,
    "start_time": "2024-11-08T12:02:03.583Z"
   },
   {
    "duration": 87,
    "start_time": "2024-11-08T12:02:03.597Z"
   },
   {
    "duration": 30,
    "start_time": "2024-11-08T12:02:03.686Z"
   },
   {
    "duration": 130,
    "start_time": "2024-11-08T12:02:03.719Z"
   },
   {
    "duration": 181,
    "start_time": "2024-11-08T12:02:03.851Z"
   },
   {
    "duration": 17,
    "start_time": "2024-11-08T12:02:04.034Z"
   },
   {
    "duration": 29,
    "start_time": "2024-11-08T12:02:04.053Z"
   },
   {
    "duration": 55,
    "start_time": "2024-11-08T12:02:04.083Z"
   },
   {
    "duration": 63,
    "start_time": "2024-11-08T12:02:04.139Z"
   },
   {
    "duration": 213,
    "start_time": "2024-11-08T12:02:04.205Z"
   },
   {
    "duration": 5,
    "start_time": "2024-11-08T12:02:04.420Z"
   },
   {
    "duration": 29,
    "start_time": "2024-11-08T12:02:04.431Z"
   },
   {
    "duration": 45,
    "start_time": "2024-11-08T12:02:04.462Z"
   },
   {
    "duration": 47,
    "start_time": "2024-11-08T12:02:04.509Z"
   },
   {
    "duration": 88,
    "start_time": "2024-11-08T12:02:04.558Z"
   },
   {
    "duration": 36,
    "start_time": "2024-11-08T12:02:04.648Z"
   },
   {
    "duration": 71,
    "start_time": "2024-11-08T12:02:04.685Z"
   },
   {
    "duration": 294,
    "start_time": "2024-11-08T12:02:04.758Z"
   },
   {
    "duration": 13,
    "start_time": "2024-11-08T12:02:05.054Z"
   },
   {
    "duration": 30,
    "start_time": "2024-11-08T12:02:05.069Z"
   },
   {
    "duration": 171,
    "start_time": "2024-11-08T12:02:05.101Z"
   },
   {
    "duration": 11,
    "start_time": "2024-11-08T12:02:05.274Z"
   },
   {
    "duration": 64,
    "start_time": "2024-11-08T12:02:05.287Z"
   },
   {
    "duration": 189,
    "start_time": "2024-11-08T12:02:05.354Z"
   },
   {
    "duration": 18,
    "start_time": "2024-11-08T12:02:05.545Z"
   },
   {
    "duration": 72,
    "start_time": "2024-11-08T12:02:05.565Z"
   },
   {
    "duration": 277,
    "start_time": "2024-11-08T12:02:05.639Z"
   },
   {
    "duration": 14,
    "start_time": "2024-11-08T12:02:05.921Z"
   },
   {
    "duration": 37,
    "start_time": "2024-11-08T12:02:05.936Z"
   },
   {
    "duration": 214,
    "start_time": "2024-11-08T12:02:05.975Z"
   },
   {
    "duration": 4,
    "start_time": "2024-11-08T12:02:06.192Z"
   },
   {
    "duration": 84,
    "start_time": "2024-11-08T12:02:06.198Z"
   },
   {
    "duration": 65,
    "start_time": "2024-11-08T12:02:06.284Z"
   },
   {
    "duration": 31,
    "start_time": "2024-11-08T12:02:06.351Z"
   },
   {
    "duration": 242,
    "start_time": "2024-11-08T12:02:06.384Z"
   },
   {
    "duration": 15,
    "start_time": "2024-11-08T12:02:06.628Z"
   },
   {
    "duration": 44,
    "start_time": "2024-11-08T12:02:06.646Z"
   },
   {
    "duration": 385,
    "start_time": "2024-11-08T12:02:06.692Z"
   },
   {
    "duration": 7,
    "start_time": "2024-11-08T12:04:33.400Z"
   },
   {
    "duration": 7,
    "start_time": "2024-11-08T12:04:34.418Z"
   },
   {
    "duration": 146,
    "start_time": "2024-11-08T12:04:37.787Z"
   },
   {
    "duration": 7,
    "start_time": "2024-11-08T12:04:44.315Z"
   },
   {
    "duration": 14,
    "start_time": "2024-11-08T12:04:48.755Z"
   },
   {
    "duration": 8,
    "start_time": "2024-11-08T12:05:01.405Z"
   },
   {
    "duration": 8,
    "start_time": "2024-11-08T12:05:03.257Z"
   },
   {
    "duration": 155,
    "start_time": "2024-11-08T12:05:04.035Z"
   },
   {
    "duration": 7,
    "start_time": "2024-11-08T12:05:08.356Z"
   },
   {
    "duration": 11,
    "start_time": "2024-11-08T12:05:09.122Z"
   },
   {
    "duration": 6,
    "start_time": "2024-11-08T12:05:51.962Z"
   },
   {
    "duration": 15,
    "start_time": "2024-11-08T12:05:56.345Z"
   },
   {
    "duration": 455,
    "start_time": "2024-11-08T12:06:36.774Z"
   },
   {
    "duration": 109,
    "start_time": "2024-11-08T12:06:37.231Z"
   },
   {
    "duration": 3,
    "start_time": "2024-11-08T12:06:37.342Z"
   },
   {
    "duration": 86,
    "start_time": "2024-11-08T12:06:37.354Z"
   },
   {
    "duration": 25,
    "start_time": "2024-11-08T12:06:37.445Z"
   },
   {
    "duration": 2882,
    "start_time": "2024-11-08T12:06:37.472Z"
   },
   {
    "duration": 14,
    "start_time": "2024-11-08T12:06:40.357Z"
   },
   {
    "duration": 34,
    "start_time": "2024-11-08T12:06:40.373Z"
   },
   {
    "duration": 33,
    "start_time": "2024-11-08T12:06:40.409Z"
   },
   {
    "duration": 44,
    "start_time": "2024-11-08T12:06:40.446Z"
   },
   {
    "duration": 37,
    "start_time": "2024-11-08T12:06:40.491Z"
   },
   {
    "duration": 34,
    "start_time": "2024-11-08T12:06:40.530Z"
   },
   {
    "duration": 67,
    "start_time": "2024-11-08T12:06:40.566Z"
   },
   {
    "duration": 36,
    "start_time": "2024-11-08T12:06:40.636Z"
   },
   {
    "duration": 41,
    "start_time": "2024-11-08T12:06:40.674Z"
   },
   {
    "duration": 31,
    "start_time": "2024-11-08T12:06:40.716Z"
   },
   {
    "duration": 30,
    "start_time": "2024-11-08T12:06:40.751Z"
   },
   {
    "duration": 51,
    "start_time": "2024-11-08T12:06:40.784Z"
   },
   {
    "duration": 52,
    "start_time": "2024-11-08T12:06:40.837Z"
   },
   {
    "duration": 53,
    "start_time": "2024-11-08T12:06:40.890Z"
   },
   {
    "duration": 28,
    "start_time": "2024-11-08T12:06:40.945Z"
   },
   {
    "duration": 29,
    "start_time": "2024-11-08T12:06:40.976Z"
   },
   {
    "duration": 105,
    "start_time": "2024-11-08T12:06:41.007Z"
   },
   {
    "duration": 6,
    "start_time": "2024-11-08T12:06:41.114Z"
   },
   {
    "duration": 34,
    "start_time": "2024-11-08T12:06:41.121Z"
   },
   {
    "duration": 14,
    "start_time": "2024-11-08T12:06:41.159Z"
   },
   {
    "duration": 30,
    "start_time": "2024-11-08T12:06:41.174Z"
   },
   {
    "duration": 33,
    "start_time": "2024-11-08T12:06:41.206Z"
   },
   {
    "duration": 49,
    "start_time": "2024-11-08T12:06:41.240Z"
   },
   {
    "duration": 38,
    "start_time": "2024-11-08T12:06:41.291Z"
   },
   {
    "duration": 43,
    "start_time": "2024-11-08T12:06:41.331Z"
   },
   {
    "duration": 158,
    "start_time": "2024-11-08T12:06:41.376Z"
   },
   {
    "duration": 4,
    "start_time": "2024-11-08T12:06:41.536Z"
   },
   {
    "duration": 29,
    "start_time": "2024-11-08T12:06:41.542Z"
   },
   {
    "duration": 25,
    "start_time": "2024-11-08T12:06:41.573Z"
   },
   {
    "duration": 40,
    "start_time": "2024-11-08T12:06:41.599Z"
   },
   {
    "duration": 189,
    "start_time": "2024-11-08T12:06:41.641Z"
   },
   {
    "duration": 5,
    "start_time": "2024-11-08T12:06:41.832Z"
   },
   {
    "duration": 19,
    "start_time": "2024-11-08T12:06:41.838Z"
   },
   {
    "duration": 14,
    "start_time": "2024-11-08T12:06:41.859Z"
   },
   {
    "duration": 9,
    "start_time": "2024-11-08T12:06:41.880Z"
   },
   {
    "duration": 200,
    "start_time": "2024-11-08T12:06:41.891Z"
   },
   {
    "duration": 7,
    "start_time": "2024-11-08T12:06:42.093Z"
   },
   {
    "duration": 16,
    "start_time": "2024-11-08T12:06:42.102Z"
   },
   {
    "duration": 24,
    "start_time": "2024-11-08T12:06:42.120Z"
   },
   {
    "duration": 335,
    "start_time": "2024-11-08T12:06:42.146Z"
   },
   {
    "duration": 3,
    "start_time": "2024-11-08T12:06:42.483Z"
   },
   {
    "duration": 13,
    "start_time": "2024-11-08T12:06:42.488Z"
   },
   {
    "duration": 15,
    "start_time": "2024-11-08T12:06:42.503Z"
   },
   {
    "duration": 13,
    "start_time": "2024-11-08T12:06:42.520Z"
   },
   {
    "duration": 171,
    "start_time": "2024-11-08T12:06:42.535Z"
   },
   {
    "duration": 6,
    "start_time": "2024-11-08T12:06:42.708Z"
   },
   {
    "duration": 63,
    "start_time": "2024-11-08T12:06:42.716Z"
   },
   {
    "duration": 7,
    "start_time": "2024-11-08T12:06:42.781Z"
   },
   {
    "duration": 177,
    "start_time": "2024-11-08T12:06:42.789Z"
   },
   {
    "duration": 5,
    "start_time": "2024-11-08T12:06:42.968Z"
   },
   {
    "duration": 10,
    "start_time": "2024-11-08T12:06:42.974Z"
   },
   {
    "duration": 148,
    "start_time": "2024-11-08T12:06:42.986Z"
   },
   {
    "duration": 164,
    "start_time": "2024-11-08T12:06:43.136Z"
   },
   {
    "duration": 161,
    "start_time": "2024-11-08T12:06:43.301Z"
   },
   {
    "duration": 160,
    "start_time": "2024-11-08T12:06:43.464Z"
   },
   {
    "duration": 5,
    "start_time": "2024-11-08T12:06:43.625Z"
   },
   {
    "duration": 204,
    "start_time": "2024-11-08T12:06:43.632Z"
   },
   {
    "duration": 5,
    "start_time": "2024-11-08T12:06:43.838Z"
   },
   {
    "duration": 19,
    "start_time": "2024-11-08T12:06:43.846Z"
   },
   {
    "duration": 17,
    "start_time": "2024-11-08T12:06:43.868Z"
   },
   {
    "duration": 20,
    "start_time": "2024-11-08T12:06:43.887Z"
   },
   {
    "duration": 17,
    "start_time": "2024-11-08T12:06:43.909Z"
   },
   {
    "duration": 18,
    "start_time": "2024-11-08T12:06:43.943Z"
   },
   {
    "duration": 173,
    "start_time": "2024-11-08T12:06:43.963Z"
   },
   {
    "duration": 16,
    "start_time": "2024-11-08T12:06:44.138Z"
   },
   {
    "duration": 20,
    "start_time": "2024-11-08T12:06:44.157Z"
   },
   {
    "duration": 38,
    "start_time": "2024-11-08T12:06:44.179Z"
   },
   {
    "duration": 15,
    "start_time": "2024-11-08T12:06:44.220Z"
   },
   {
    "duration": 151,
    "start_time": "2024-11-08T12:06:44.236Z"
   },
   {
    "duration": 13,
    "start_time": "2024-11-08T12:06:44.389Z"
   },
   {
    "duration": 8,
    "start_time": "2024-11-08T12:06:44.404Z"
   },
   {
    "duration": 42,
    "start_time": "2024-11-08T12:06:44.414Z"
   },
   {
    "duration": 11,
    "start_time": "2024-11-08T12:06:44.459Z"
   },
   {
    "duration": 150,
    "start_time": "2024-11-08T12:06:44.472Z"
   },
   {
    "duration": 5,
    "start_time": "2024-11-08T12:06:44.623Z"
   },
   {
    "duration": 9,
    "start_time": "2024-11-08T12:06:44.643Z"
   },
   {
    "duration": 27,
    "start_time": "2024-11-08T12:06:44.654Z"
   },
   {
    "duration": 4,
    "start_time": "2024-11-08T12:06:44.683Z"
   },
   {
    "duration": 11,
    "start_time": "2024-11-08T12:06:44.689Z"
   },
   {
    "duration": 10,
    "start_time": "2024-11-08T12:06:44.702Z"
   },
   {
    "duration": 11,
    "start_time": "2024-11-08T12:06:44.714Z"
   },
   {
    "duration": 265,
    "start_time": "2024-11-08T12:06:44.727Z"
   },
   {
    "duration": 10,
    "start_time": "2024-11-08T12:06:44.993Z"
   },
   {
    "duration": 34,
    "start_time": "2024-11-08T12:06:45.005Z"
   },
   {
    "duration": 158,
    "start_time": "2024-11-08T12:06:45.040Z"
   },
   {
    "duration": 9,
    "start_time": "2024-11-08T12:06:45.200Z"
   },
   {
    "duration": 28,
    "start_time": "2024-11-08T12:06:45.210Z"
   },
   {
    "duration": 247,
    "start_time": "2024-11-08T12:06:45.239Z"
   },
   {
    "duration": 10,
    "start_time": "2024-11-08T12:06:45.487Z"
   },
   {
    "duration": 10,
    "start_time": "2024-11-08T12:06:45.499Z"
   },
   {
    "duration": 216,
    "start_time": "2024-11-08T12:06:45.510Z"
   },
   {
    "duration": 15,
    "start_time": "2024-11-08T12:06:45.728Z"
   },
   {
    "duration": 95,
    "start_time": "2024-11-08T12:06:45.744Z"
   },
   {
    "duration": 172,
    "start_time": "2024-11-08T12:06:45.840Z"
   },
   {
    "duration": 5,
    "start_time": "2024-11-08T12:06:46.014Z"
   },
   {
    "duration": 27,
    "start_time": "2024-11-08T12:06:46.020Z"
   },
   {
    "duration": 6,
    "start_time": "2024-11-08T12:06:46.049Z"
   },
   {
    "duration": 19,
    "start_time": "2024-11-08T12:06:46.057Z"
   },
   {
    "duration": 242,
    "start_time": "2024-11-08T12:06:46.078Z"
   },
   {
    "duration": 8,
    "start_time": "2024-11-08T12:06:46.322Z"
   },
   {
    "duration": 32,
    "start_time": "2024-11-08T12:06:46.332Z"
   },
   {
    "duration": 341,
    "start_time": "2024-11-08T12:06:46.365Z"
   },
   {
    "duration": 429,
    "start_time": "2024-11-08T12:09:33.389Z"
   },
   {
    "duration": 115,
    "start_time": "2024-11-08T12:09:33.820Z"
   },
   {
    "duration": 6,
    "start_time": "2024-11-08T12:09:33.937Z"
   },
   {
    "duration": 84,
    "start_time": "2024-11-08T12:09:33.945Z"
   },
   {
    "duration": 20,
    "start_time": "2024-11-08T12:09:34.031Z"
   },
   {
    "duration": 2594,
    "start_time": "2024-11-08T12:09:34.053Z"
   },
   {
    "duration": 13,
    "start_time": "2024-11-08T12:09:36.650Z"
   },
   {
    "duration": 56,
    "start_time": "2024-11-08T12:09:36.665Z"
   },
   {
    "duration": 47,
    "start_time": "2024-11-08T12:09:36.724Z"
   },
   {
    "duration": 50,
    "start_time": "2024-11-08T12:09:36.775Z"
   },
   {
    "duration": 70,
    "start_time": "2024-11-08T12:09:36.827Z"
   },
   {
    "duration": 16,
    "start_time": "2024-11-08T12:09:36.900Z"
   },
   {
    "duration": 32,
    "start_time": "2024-11-08T12:09:36.920Z"
   },
   {
    "duration": 28,
    "start_time": "2024-11-08T12:09:36.954Z"
   },
   {
    "duration": 28,
    "start_time": "2024-11-08T12:09:36.984Z"
   },
   {
    "duration": 6,
    "start_time": "2024-11-08T12:09:37.014Z"
   },
   {
    "duration": 22,
    "start_time": "2024-11-08T12:09:37.022Z"
   },
   {
    "duration": 19,
    "start_time": "2024-11-08T12:09:37.047Z"
   },
   {
    "duration": 17,
    "start_time": "2024-11-08T12:09:37.068Z"
   },
   {
    "duration": 38,
    "start_time": "2024-11-08T12:09:37.087Z"
   },
   {
    "duration": 33,
    "start_time": "2024-11-08T12:09:37.128Z"
   },
   {
    "duration": 26,
    "start_time": "2024-11-08T12:09:37.164Z"
   },
   {
    "duration": 123,
    "start_time": "2024-11-08T12:09:37.192Z"
   },
   {
    "duration": 6,
    "start_time": "2024-11-08T12:09:37.316Z"
   },
   {
    "duration": 55,
    "start_time": "2024-11-08T12:09:37.324Z"
   },
   {
    "duration": 30,
    "start_time": "2024-11-08T12:09:37.381Z"
   },
   {
    "duration": 19,
    "start_time": "2024-11-08T12:09:37.413Z"
   },
   {
    "duration": 22,
    "start_time": "2024-11-08T12:09:37.437Z"
   },
   {
    "duration": 41,
    "start_time": "2024-11-08T12:09:37.461Z"
   },
   {
    "duration": 31,
    "start_time": "2024-11-08T12:09:37.504Z"
   },
   {
    "duration": 26,
    "start_time": "2024-11-08T12:09:37.536Z"
   },
   {
    "duration": 180,
    "start_time": "2024-11-08T12:09:37.564Z"
   },
   {
    "duration": 4,
    "start_time": "2024-11-08T12:09:37.747Z"
   },
   {
    "duration": 87,
    "start_time": "2024-11-08T12:09:37.753Z"
   },
   {
    "duration": 27,
    "start_time": "2024-11-08T12:09:37.842Z"
   },
   {
    "duration": 25,
    "start_time": "2024-11-08T12:09:37.872Z"
   },
   {
    "duration": 153,
    "start_time": "2024-11-08T12:09:37.899Z"
   },
   {
    "duration": 5,
    "start_time": "2024-11-08T12:09:38.054Z"
   },
   {
    "duration": 44,
    "start_time": "2024-11-08T12:09:38.061Z"
   },
   {
    "duration": 35,
    "start_time": "2024-11-08T12:09:38.107Z"
   },
   {
    "duration": 12,
    "start_time": "2024-11-08T12:09:38.144Z"
   },
   {
    "duration": 150,
    "start_time": "2024-11-08T12:09:38.158Z"
   },
   {
    "duration": 5,
    "start_time": "2024-11-08T12:09:38.311Z"
   },
   {
    "duration": 30,
    "start_time": "2024-11-08T12:09:38.318Z"
   },
   {
    "duration": 30,
    "start_time": "2024-11-08T12:09:38.350Z"
   },
   {
    "duration": 256,
    "start_time": "2024-11-08T12:09:38.382Z"
   },
   {
    "duration": 3,
    "start_time": "2024-11-08T12:09:38.643Z"
   },
   {
    "duration": 23,
    "start_time": "2024-11-08T12:09:38.648Z"
   },
   {
    "duration": 18,
    "start_time": "2024-11-08T12:09:38.673Z"
   },
   {
    "duration": 22,
    "start_time": "2024-11-08T12:09:38.693Z"
   },
   {
    "duration": 223,
    "start_time": "2024-11-08T12:09:38.718Z"
   },
   {
    "duration": 5,
    "start_time": "2024-11-08T12:09:38.944Z"
   },
   {
    "duration": 10,
    "start_time": "2024-11-08T12:09:38.951Z"
   },
   {
    "duration": 9,
    "start_time": "2024-11-08T12:09:38.963Z"
   },
   {
    "duration": 183,
    "start_time": "2024-11-08T12:09:38.974Z"
   },
   {
    "duration": 9,
    "start_time": "2024-11-08T12:09:39.159Z"
   },
   {
    "duration": 12,
    "start_time": "2024-11-08T12:09:39.174Z"
   },
   {
    "duration": 180,
    "start_time": "2024-11-08T12:09:39.188Z"
   },
   {
    "duration": 148,
    "start_time": "2024-11-08T12:09:39.370Z"
   },
   {
    "duration": 179,
    "start_time": "2024-11-08T12:09:39.520Z"
   },
   {
    "duration": 156,
    "start_time": "2024-11-08T12:09:39.701Z"
   },
   {
    "duration": 7,
    "start_time": "2024-11-08T12:09:39.859Z"
   },
   {
    "duration": 189,
    "start_time": "2024-11-08T12:09:39.868Z"
   },
   {
    "duration": 5,
    "start_time": "2024-11-08T12:09:40.059Z"
   },
   {
    "duration": 17,
    "start_time": "2024-11-08T12:09:40.066Z"
   },
   {
    "duration": 15,
    "start_time": "2024-11-08T12:09:40.085Z"
   },
   {
    "duration": 9,
    "start_time": "2024-11-08T12:09:40.102Z"
   },
   {
    "duration": 40,
    "start_time": "2024-11-08T12:09:40.113Z"
   },
   {
    "duration": 10,
    "start_time": "2024-11-08T12:09:40.156Z"
   },
   {
    "duration": 159,
    "start_time": "2024-11-08T12:09:40.168Z"
   },
   {
    "duration": 24,
    "start_time": "2024-11-08T12:09:40.330Z"
   },
   {
    "duration": 7,
    "start_time": "2024-11-08T12:09:40.357Z"
   },
   {
    "duration": 11,
    "start_time": "2024-11-08T12:09:40.367Z"
   },
   {
    "duration": 15,
    "start_time": "2024-11-08T12:09:40.380Z"
   },
   {
    "duration": 167,
    "start_time": "2024-11-08T12:09:40.400Z"
   },
   {
    "duration": 13,
    "start_time": "2024-11-08T12:09:40.569Z"
   },
   {
    "duration": 91,
    "start_time": "2024-11-08T12:09:40.583Z"
   },
   {
    "duration": 23,
    "start_time": "2024-11-08T12:09:40.676Z"
   },
   {
    "duration": 9,
    "start_time": "2024-11-08T12:09:40.701Z"
   },
   {
    "duration": 186,
    "start_time": "2024-11-08T12:09:40.713Z"
   },
   {
    "duration": 5,
    "start_time": "2024-11-08T12:09:40.901Z"
   },
   {
    "duration": 12,
    "start_time": "2024-11-08T12:09:40.915Z"
   },
   {
    "duration": 26,
    "start_time": "2024-11-08T12:09:40.928Z"
   },
   {
    "duration": 6,
    "start_time": "2024-11-08T12:09:40.955Z"
   },
   {
    "duration": 7,
    "start_time": "2024-11-08T12:09:40.963Z"
   },
   {
    "duration": 10,
    "start_time": "2024-11-08T12:09:40.972Z"
   },
   {
    "duration": 15,
    "start_time": "2024-11-08T12:09:40.984Z"
   },
   {
    "duration": 258,
    "start_time": "2024-11-08T12:09:41.001Z"
   },
   {
    "duration": 11,
    "start_time": "2024-11-08T12:09:41.261Z"
   },
   {
    "duration": 34,
    "start_time": "2024-11-08T12:09:41.274Z"
   },
   {
    "duration": 182,
    "start_time": "2024-11-08T12:09:41.310Z"
   },
   {
    "duration": 10,
    "start_time": "2024-11-08T12:09:41.494Z"
   },
   {
    "duration": 9,
    "start_time": "2024-11-08T12:09:41.506Z"
   },
   {
    "duration": 186,
    "start_time": "2024-11-08T12:09:41.516Z"
   },
   {
    "duration": 9,
    "start_time": "2024-11-08T12:09:41.704Z"
   },
   {
    "duration": 34,
    "start_time": "2024-11-08T12:09:41.715Z"
   },
   {
    "duration": 273,
    "start_time": "2024-11-08T12:09:41.751Z"
   },
   {
    "duration": 9,
    "start_time": "2024-11-08T12:09:42.026Z"
   },
   {
    "duration": 8,
    "start_time": "2024-11-08T12:09:42.043Z"
   },
   {
    "duration": 210,
    "start_time": "2024-11-08T12:09:42.053Z"
   },
   {
    "duration": 5,
    "start_time": "2024-11-08T12:09:42.265Z"
   },
   {
    "duration": 32,
    "start_time": "2024-11-08T12:09:42.275Z"
   },
   {
    "duration": 6,
    "start_time": "2024-11-08T12:09:42.309Z"
   },
   {
    "duration": 28,
    "start_time": "2024-11-08T12:09:42.317Z"
   },
   {
    "duration": 363,
    "start_time": "2024-11-08T12:09:42.347Z"
   },
   {
    "duration": 10,
    "start_time": "2024-11-08T12:09:42.712Z"
   },
   {
    "duration": 21,
    "start_time": "2024-11-08T12:09:42.724Z"
   },
   {
    "duration": 435,
    "start_time": "2024-11-08T12:09:42.747Z"
   },
   {
    "duration": 479,
    "start_time": "2024-11-08T12:30:09.694Z"
   },
   {
    "duration": 116,
    "start_time": "2024-11-08T12:30:10.175Z"
   },
   {
    "duration": 4,
    "start_time": "2024-11-08T12:30:10.293Z"
   },
   {
    "duration": 65,
    "start_time": "2024-11-08T12:30:10.300Z"
   },
   {
    "duration": 23,
    "start_time": "2024-11-08T12:30:10.367Z"
   },
   {
    "duration": 2567,
    "start_time": "2024-11-08T12:30:10.392Z"
   },
   {
    "duration": 10,
    "start_time": "2024-11-08T12:30:12.961Z"
   },
   {
    "duration": 20,
    "start_time": "2024-11-08T12:30:12.973Z"
   },
   {
    "duration": 4,
    "start_time": "2024-11-08T12:30:12.995Z"
   },
   {
    "duration": 17,
    "start_time": "2024-11-08T12:30:13.002Z"
   },
   {
    "duration": 4,
    "start_time": "2024-11-08T12:30:13.021Z"
   },
   {
    "duration": 8,
    "start_time": "2024-11-08T12:30:13.027Z"
   },
   {
    "duration": 28,
    "start_time": "2024-11-08T12:30:13.037Z"
   },
   {
    "duration": 18,
    "start_time": "2024-11-08T12:30:13.067Z"
   },
   {
    "duration": 18,
    "start_time": "2024-11-08T12:30:13.087Z"
   },
   {
    "duration": 14,
    "start_time": "2024-11-08T12:30:13.107Z"
   },
   {
    "duration": 6,
    "start_time": "2024-11-08T12:30:13.123Z"
   },
   {
    "duration": 13,
    "start_time": "2024-11-08T12:30:13.131Z"
   },
   {
    "duration": 10,
    "start_time": "2024-11-08T12:30:13.147Z"
   },
   {
    "duration": 26,
    "start_time": "2024-11-08T12:30:13.159Z"
   },
   {
    "duration": 58,
    "start_time": "2024-11-08T12:30:13.187Z"
   },
   {
    "duration": 16,
    "start_time": "2024-11-08T12:30:13.247Z"
   },
   {
    "duration": 121,
    "start_time": "2024-11-08T12:30:13.265Z"
   },
   {
    "duration": 5,
    "start_time": "2024-11-08T12:30:13.388Z"
   },
   {
    "duration": 11,
    "start_time": "2024-11-08T12:30:13.395Z"
   },
   {
    "duration": 8,
    "start_time": "2024-11-08T12:30:13.408Z"
   },
   {
    "duration": 5,
    "start_time": "2024-11-08T12:30:13.443Z"
   },
   {
    "duration": 72,
    "start_time": "2024-11-08T12:30:13.453Z"
   },
   {
    "duration": 8,
    "start_time": "2024-11-08T12:30:13.527Z"
   },
   {
    "duration": 14,
    "start_time": "2024-11-08T12:30:13.537Z"
   },
   {
    "duration": 17,
    "start_time": "2024-11-08T12:30:13.552Z"
   },
   {
    "duration": 233,
    "start_time": "2024-11-08T12:30:13.571Z"
   },
   {
    "duration": 4,
    "start_time": "2024-11-08T12:30:13.806Z"
   },
   {
    "duration": 105,
    "start_time": "2024-11-08T12:30:13.812Z"
   },
   {
    "duration": 23,
    "start_time": "2024-11-08T12:30:13.919Z"
   },
   {
    "duration": 7,
    "start_time": "2024-11-08T12:30:13.945Z"
   },
   {
    "duration": 171,
    "start_time": "2024-11-08T12:30:13.954Z"
   },
   {
    "duration": 4,
    "start_time": "2024-11-08T12:30:14.127Z"
   },
   {
    "duration": 5,
    "start_time": "2024-11-08T12:30:14.143Z"
   },
   {
    "duration": 24,
    "start_time": "2024-11-08T12:30:14.151Z"
   },
   {
    "duration": 8,
    "start_time": "2024-11-08T12:30:14.177Z"
   },
   {
    "duration": 184,
    "start_time": "2024-11-08T12:30:14.188Z"
   },
   {
    "duration": 5,
    "start_time": "2024-11-08T12:30:14.374Z"
   },
   {
    "duration": 28,
    "start_time": "2024-11-08T12:30:14.381Z"
   },
   {
    "duration": 16,
    "start_time": "2024-11-08T12:30:14.411Z"
   },
   {
    "duration": 260,
    "start_time": "2024-11-08T12:30:14.429Z"
   },
   {
    "duration": 3,
    "start_time": "2024-11-08T12:30:14.690Z"
   },
   {
    "duration": 67,
    "start_time": "2024-11-08T12:30:14.695Z"
   },
   {
    "duration": 24,
    "start_time": "2024-11-08T12:30:14.764Z"
   },
   {
    "duration": 10,
    "start_time": "2024-11-08T12:30:14.791Z"
   },
   {
    "duration": 173,
    "start_time": "2024-11-08T12:30:14.803Z"
   },
   {
    "duration": 5,
    "start_time": "2024-11-08T12:30:14.977Z"
   },
   {
    "duration": 11,
    "start_time": "2024-11-08T12:30:14.984Z"
   },
   {
    "duration": 26,
    "start_time": "2024-11-08T12:30:14.997Z"
   },
   {
    "duration": 189,
    "start_time": "2024-11-08T12:30:15.024Z"
   },
   {
    "duration": 5,
    "start_time": "2024-11-08T12:30:15.215Z"
   },
   {
    "duration": 42,
    "start_time": "2024-11-08T12:30:15.222Z"
   },
   {
    "duration": 148,
    "start_time": "2024-11-08T12:30:15.266Z"
   },
   {
    "duration": 155,
    "start_time": "2024-11-08T12:30:15.416Z"
   },
   {
    "duration": 143,
    "start_time": "2024-11-08T12:30:15.573Z"
   },
   {
    "duration": 155,
    "start_time": "2024-11-08T12:30:15.717Z"
   },
   {
    "duration": 4,
    "start_time": "2024-11-08T12:30:15.874Z"
   },
   {
    "duration": 162,
    "start_time": "2024-11-08T12:30:15.880Z"
   },
   {
    "duration": 7,
    "start_time": "2024-11-08T12:30:16.048Z"
   },
   {
    "duration": 7,
    "start_time": "2024-11-08T12:30:16.057Z"
   },
   {
    "duration": 23,
    "start_time": "2024-11-08T12:30:16.066Z"
   },
   {
    "duration": 14,
    "start_time": "2024-11-08T12:30:16.091Z"
   },
   {
    "duration": 25,
    "start_time": "2024-11-08T12:30:16.107Z"
   },
   {
    "duration": 9,
    "start_time": "2024-11-08T12:30:16.133Z"
   },
   {
    "duration": 163,
    "start_time": "2024-11-08T12:30:16.145Z"
   },
   {
    "duration": 14,
    "start_time": "2024-11-08T12:30:16.310Z"
   },
   {
    "duration": 17,
    "start_time": "2024-11-08T12:30:16.326Z"
   },
   {
    "duration": 19,
    "start_time": "2024-11-08T12:30:16.345Z"
   },
   {
    "duration": 10,
    "start_time": "2024-11-08T12:30:16.366Z"
   },
   {
    "duration": 158,
    "start_time": "2024-11-08T12:30:16.377Z"
   },
   {
    "duration": 22,
    "start_time": "2024-11-08T12:30:16.537Z"
   },
   {
    "duration": 8,
    "start_time": "2024-11-08T12:30:16.561Z"
   },
   {
    "duration": 17,
    "start_time": "2024-11-08T12:30:16.571Z"
   },
   {
    "duration": 8,
    "start_time": "2024-11-08T12:30:16.590Z"
   },
   {
    "duration": 165,
    "start_time": "2024-11-08T12:30:16.600Z"
   },
   {
    "duration": 5,
    "start_time": "2024-11-08T12:30:16.767Z"
   },
   {
    "duration": 27,
    "start_time": "2024-11-08T12:30:16.779Z"
   },
   {
    "duration": 25,
    "start_time": "2024-11-08T12:30:16.808Z"
   },
   {
    "duration": 23,
    "start_time": "2024-11-08T12:30:16.835Z"
   },
   {
    "duration": 3,
    "start_time": "2024-11-08T12:30:16.860Z"
   },
   {
    "duration": 15,
    "start_time": "2024-11-08T12:30:16.865Z"
   },
   {
    "duration": 15,
    "start_time": "2024-11-08T12:30:16.881Z"
   },
   {
    "duration": 261,
    "start_time": "2024-11-08T12:30:16.898Z"
   },
   {
    "duration": 11,
    "start_time": "2024-11-08T12:30:17.161Z"
   },
   {
    "duration": 8,
    "start_time": "2024-11-08T12:30:17.173Z"
   },
   {
    "duration": 158,
    "start_time": "2024-11-08T12:30:17.182Z"
   },
   {
    "duration": 17,
    "start_time": "2024-11-08T12:30:17.342Z"
   },
   {
    "duration": 11,
    "start_time": "2024-11-08T12:30:17.361Z"
   },
   {
    "duration": 160,
    "start_time": "2024-11-08T12:30:17.374Z"
   },
   {
    "duration": 12,
    "start_time": "2024-11-08T12:30:17.535Z"
   },
   {
    "duration": 15,
    "start_time": "2024-11-08T12:30:17.549Z"
   },
   {
    "duration": 232,
    "start_time": "2024-11-08T12:30:17.566Z"
   },
   {
    "duration": 13,
    "start_time": "2024-11-08T12:30:17.800Z"
   },
   {
    "duration": 92,
    "start_time": "2024-11-08T12:30:17.815Z"
   },
   {
    "duration": 239,
    "start_time": "2024-11-08T12:30:17.908Z"
   },
   {
    "duration": 13,
    "start_time": "2024-11-08T12:30:18.149Z"
   },
   {
    "duration": 38,
    "start_time": "2024-11-08T12:30:18.164Z"
   },
   {
    "duration": 20,
    "start_time": "2024-11-08T12:30:18.205Z"
   },
   {
    "duration": 25,
    "start_time": "2024-11-08T12:30:18.227Z"
   },
   {
    "duration": 262,
    "start_time": "2024-11-08T12:30:18.254Z"
   },
   {
    "duration": 7,
    "start_time": "2024-11-08T12:30:18.518Z"
   },
   {
    "duration": 6,
    "start_time": "2024-11-08T12:30:18.526Z"
   },
   {
    "duration": 397,
    "start_time": "2024-11-08T12:30:18.533Z"
   },
   {
    "duration": 433,
    "start_time": "2024-11-08T12:37:52.958Z"
   },
   {
    "duration": 106,
    "start_time": "2024-11-08T12:37:53.393Z"
   },
   {
    "duration": 3,
    "start_time": "2024-11-08T12:37:53.501Z"
   },
   {
    "duration": 56,
    "start_time": "2024-11-08T12:37:53.506Z"
   },
   {
    "duration": 16,
    "start_time": "2024-11-08T12:37:53.564Z"
   },
   {
    "duration": 2330,
    "start_time": "2024-11-08T12:37:53.581Z"
   },
   {
    "duration": 11,
    "start_time": "2024-11-08T12:37:55.913Z"
   },
   {
    "duration": 17,
    "start_time": "2024-11-08T12:37:55.926Z"
   },
   {
    "duration": 9,
    "start_time": "2024-11-08T12:37:55.944Z"
   },
   {
    "duration": 6,
    "start_time": "2024-11-08T12:37:55.956Z"
   },
   {
    "duration": 7,
    "start_time": "2024-11-08T12:37:55.964Z"
   },
   {
    "duration": 10,
    "start_time": "2024-11-08T12:37:55.972Z"
   },
   {
    "duration": 6,
    "start_time": "2024-11-08T12:37:55.983Z"
   },
   {
    "duration": 6,
    "start_time": "2024-11-08T12:37:55.990Z"
   },
   {
    "duration": 10,
    "start_time": "2024-11-08T12:37:55.997Z"
   },
   {
    "duration": 37,
    "start_time": "2024-11-08T12:37:56.009Z"
   },
   {
    "duration": 16,
    "start_time": "2024-11-08T12:37:56.049Z"
   },
   {
    "duration": 8,
    "start_time": "2024-11-08T12:37:56.067Z"
   },
   {
    "duration": 8,
    "start_time": "2024-11-08T12:37:56.077Z"
   },
   {
    "duration": 98,
    "start_time": "2024-11-08T12:37:56.086Z"
   },
   {
    "duration": 6,
    "start_time": "2024-11-08T12:37:56.186Z"
   },
   {
    "duration": 6,
    "start_time": "2024-11-08T12:37:56.193Z"
   },
   {
    "duration": 4,
    "start_time": "2024-11-08T12:37:56.201Z"
   },
   {
    "duration": 6,
    "start_time": "2024-11-08T12:37:56.206Z"
   },
   {
    "duration": 29,
    "start_time": "2024-11-08T12:37:56.214Z"
   },
   {
    "duration": 6,
    "start_time": "2024-11-08T12:37:56.245Z"
   },
   {
    "duration": 20,
    "start_time": "2024-11-08T12:37:56.253Z"
   },
   {
    "duration": 18,
    "start_time": "2024-11-08T12:37:56.280Z"
   },
   {
    "duration": 145,
    "start_time": "2024-11-08T12:37:56.300Z"
   },
   {
    "duration": 4,
    "start_time": "2024-11-08T12:37:56.447Z"
   },
   {
    "duration": 10,
    "start_time": "2024-11-08T12:37:56.453Z"
   },
   {
    "duration": 19,
    "start_time": "2024-11-08T12:37:56.464Z"
   },
   {
    "duration": 7,
    "start_time": "2024-11-08T12:37:56.484Z"
   },
   {
    "duration": 151,
    "start_time": "2024-11-08T12:37:56.492Z"
   },
   {
    "duration": 3,
    "start_time": "2024-11-08T12:37:56.645Z"
   },
   {
    "duration": 9,
    "start_time": "2024-11-08T12:37:56.650Z"
   },
   {
    "duration": 6,
    "start_time": "2024-11-08T12:37:56.660Z"
   },
   {
    "duration": 15,
    "start_time": "2024-11-08T12:37:56.668Z"
   },
   {
    "duration": 153,
    "start_time": "2024-11-08T12:37:56.685Z"
   },
   {
    "duration": 5,
    "start_time": "2024-11-08T12:37:56.840Z"
   },
   {
    "duration": 27,
    "start_time": "2024-11-08T12:37:56.847Z"
   },
   {
    "duration": 22,
    "start_time": "2024-11-08T12:37:56.875Z"
   },
   {
    "duration": 216,
    "start_time": "2024-11-08T12:37:56.899Z"
   },
   {
    "duration": 2,
    "start_time": "2024-11-08T12:37:57.117Z"
   },
   {
    "duration": 18,
    "start_time": "2024-11-08T12:37:57.121Z"
   },
   {
    "duration": 6,
    "start_time": "2024-11-08T12:37:57.141Z"
   },
   {
    "duration": 8,
    "start_time": "2024-11-08T12:37:57.149Z"
   },
   {
    "duration": 154,
    "start_time": "2024-11-08T12:37:57.159Z"
   },
   {
    "duration": 4,
    "start_time": "2024-11-08T12:37:57.315Z"
   },
   {
    "duration": 23,
    "start_time": "2024-11-08T12:37:57.320Z"
   },
   {
    "duration": 8,
    "start_time": "2024-11-08T12:37:57.344Z"
   },
   {
    "duration": 10,
    "start_time": "2024-11-08T12:37:57.353Z"
   },
   {
    "duration": 6,
    "start_time": "2024-11-08T12:37:57.364Z"
   },
   {
    "duration": 8,
    "start_time": "2024-11-08T12:37:57.371Z"
   },
   {
    "duration": 171,
    "start_time": "2024-11-08T12:37:57.380Z"
   },
   {
    "duration": 6,
    "start_time": "2024-11-08T12:37:57.553Z"
   },
   {
    "duration": 12,
    "start_time": "2024-11-08T12:37:57.561Z"
   },
   {
    "duration": 155,
    "start_time": "2024-11-08T12:37:57.575Z"
   },
   {
    "duration": 137,
    "start_time": "2024-11-08T12:37:57.732Z"
   },
   {
    "duration": 164,
    "start_time": "2024-11-08T12:37:57.871Z"
   },
   {
    "duration": 135,
    "start_time": "2024-11-08T12:37:58.037Z"
   },
   {
    "duration": 5,
    "start_time": "2024-11-08T12:37:58.174Z"
   },
   {
    "duration": 155,
    "start_time": "2024-11-08T12:37:58.180Z"
   },
   {
    "duration": 8,
    "start_time": "2024-11-08T12:37:58.337Z"
   },
   {
    "duration": 19,
    "start_time": "2024-11-08T12:37:58.347Z"
   },
   {
    "duration": 13,
    "start_time": "2024-11-08T12:37:58.368Z"
   },
   {
    "duration": 6,
    "start_time": "2024-11-08T12:37:58.383Z"
   },
   {
    "duration": 16,
    "start_time": "2024-11-08T12:37:58.391Z"
   },
   {
    "duration": 7,
    "start_time": "2024-11-08T12:37:58.409Z"
   },
   {
    "duration": 143,
    "start_time": "2024-11-08T12:37:58.418Z"
   },
   {
    "duration": 11,
    "start_time": "2024-11-08T12:37:58.563Z"
   },
   {
    "duration": 6,
    "start_time": "2024-11-08T12:37:58.576Z"
   },
   {
    "duration": 16,
    "start_time": "2024-11-08T12:37:58.584Z"
   },
   {
    "duration": 7,
    "start_time": "2024-11-08T12:37:58.601Z"
   },
   {
    "duration": 152,
    "start_time": "2024-11-08T12:37:58.610Z"
   },
   {
    "duration": 12,
    "start_time": "2024-11-08T12:37:58.763Z"
   },
   {
    "duration": 37,
    "start_time": "2024-11-08T12:37:58.777Z"
   },
   {
    "duration": 19,
    "start_time": "2024-11-08T12:37:58.816Z"
   },
   {
    "duration": 14,
    "start_time": "2024-11-08T12:37:58.837Z"
   },
   {
    "duration": 144,
    "start_time": "2024-11-08T12:37:58.853Z"
   },
   {
    "duration": 4,
    "start_time": "2024-11-08T12:37:58.999Z"
   },
   {
    "duration": 3,
    "start_time": "2024-11-08T12:37:59.009Z"
   },
   {
    "duration": 15,
    "start_time": "2024-11-08T12:37:59.014Z"
   },
   {
    "duration": 18,
    "start_time": "2024-11-08T12:37:59.031Z"
   },
   {
    "duration": 13,
    "start_time": "2024-11-08T12:37:59.051Z"
   },
   {
    "duration": 10,
    "start_time": "2024-11-08T12:37:59.065Z"
   },
   {
    "duration": 18,
    "start_time": "2024-11-08T12:37:59.077Z"
   },
   {
    "duration": 236,
    "start_time": "2024-11-08T12:37:59.096Z"
   },
   {
    "duration": 16,
    "start_time": "2024-11-08T12:37:59.333Z"
   },
   {
    "duration": 8,
    "start_time": "2024-11-08T12:37:59.350Z"
   },
   {
    "duration": 154,
    "start_time": "2024-11-08T12:37:59.360Z"
   },
   {
    "duration": 9,
    "start_time": "2024-11-08T12:37:59.516Z"
   },
   {
    "duration": 43,
    "start_time": "2024-11-08T12:37:59.527Z"
   },
   {
    "duration": 156,
    "start_time": "2024-11-08T12:37:59.572Z"
   },
   {
    "duration": 15,
    "start_time": "2024-11-08T12:37:59.729Z"
   },
   {
    "duration": 11,
    "start_time": "2024-11-08T12:37:59.745Z"
   },
   {
    "duration": 190,
    "start_time": "2024-11-08T12:37:59.758Z"
   },
   {
    "duration": 14,
    "start_time": "2024-11-08T12:37:59.950Z"
   },
   {
    "duration": 10,
    "start_time": "2024-11-08T12:37:59.966Z"
   },
   {
    "duration": 176,
    "start_time": "2024-11-08T12:37:59.979Z"
   },
   {
    "duration": 4,
    "start_time": "2024-11-08T12:38:00.157Z"
   },
   {
    "duration": 24,
    "start_time": "2024-11-08T12:38:00.163Z"
   },
   {
    "duration": 34,
    "start_time": "2024-11-08T12:38:00.189Z"
   },
   {
    "duration": 30,
    "start_time": "2024-11-08T12:38:00.224Z"
   },
   {
    "duration": 237,
    "start_time": "2024-11-08T12:38:00.256Z"
   },
   {
    "duration": 6,
    "start_time": "2024-11-08T12:38:00.495Z"
   },
   {
    "duration": 33,
    "start_time": "2024-11-08T12:38:00.503Z"
   },
   {
    "duration": 342,
    "start_time": "2024-11-08T12:38:00.538Z"
   },
   {
    "duration": 9,
    "start_time": "2024-11-08T12:49:42.726Z"
   },
   {
    "duration": 425,
    "start_time": "2024-11-08T12:51:05.885Z"
   },
   {
    "duration": 112,
    "start_time": "2024-11-08T12:51:06.312Z"
   },
   {
    "duration": 3,
    "start_time": "2024-11-08T12:51:06.425Z"
   },
   {
    "duration": 68,
    "start_time": "2024-11-08T12:51:06.430Z"
   },
   {
    "duration": 22,
    "start_time": "2024-11-08T12:51:06.500Z"
   },
   {
    "duration": 2512,
    "start_time": "2024-11-08T12:51:06.523Z"
   },
   {
    "duration": 25,
    "start_time": "2024-11-08T12:51:09.037Z"
   },
   {
    "duration": 22,
    "start_time": "2024-11-08T12:51:09.064Z"
   },
   {
    "duration": 11,
    "start_time": "2024-11-08T12:51:09.088Z"
   },
   {
    "duration": 18,
    "start_time": "2024-11-08T12:51:09.101Z"
   },
   {
    "duration": 13,
    "start_time": "2024-11-08T12:51:09.120Z"
   },
   {
    "duration": 33,
    "start_time": "2024-11-08T12:51:09.135Z"
   },
   {
    "duration": 10,
    "start_time": "2024-11-08T12:51:09.170Z"
   },
   {
    "duration": 16,
    "start_time": "2024-11-08T12:51:09.183Z"
   },
   {
    "duration": 13,
    "start_time": "2024-11-08T12:51:09.200Z"
   },
   {
    "duration": 8,
    "start_time": "2024-11-08T12:51:09.215Z"
   },
   {
    "duration": 34,
    "start_time": "2024-11-08T12:51:09.224Z"
   },
   {
    "duration": 7,
    "start_time": "2024-11-08T12:51:09.260Z"
   },
   {
    "duration": 13,
    "start_time": "2024-11-08T12:51:09.269Z"
   },
   {
    "duration": 87,
    "start_time": "2024-11-08T12:51:09.283Z"
   },
   {
    "duration": 6,
    "start_time": "2024-11-08T12:51:09.371Z"
   },
   {
    "duration": 7,
    "start_time": "2024-11-08T12:51:09.378Z"
   },
   {
    "duration": 18,
    "start_time": "2024-11-08T12:51:09.387Z"
   },
   {
    "duration": 19,
    "start_time": "2024-11-08T12:51:09.407Z"
   },
   {
    "duration": 5,
    "start_time": "2024-11-08T12:51:09.428Z"
   },
   {
    "duration": 28,
    "start_time": "2024-11-08T12:51:09.435Z"
   },
   {
    "duration": 9,
    "start_time": "2024-11-08T12:51:09.464Z"
   },
   {
    "duration": 25,
    "start_time": "2024-11-08T12:51:09.475Z"
   },
   {
    "duration": 126,
    "start_time": "2024-11-08T12:51:09.502Z"
   },
   {
    "duration": 4,
    "start_time": "2024-11-08T12:51:09.630Z"
   },
   {
    "duration": 26,
    "start_time": "2024-11-08T12:51:09.636Z"
   },
   {
    "duration": 8,
    "start_time": "2024-11-08T12:51:09.664Z"
   },
   {
    "duration": 7,
    "start_time": "2024-11-08T12:51:09.674Z"
   },
   {
    "duration": 172,
    "start_time": "2024-11-08T12:51:09.683Z"
   },
   {
    "duration": 4,
    "start_time": "2024-11-08T12:51:09.859Z"
   },
   {
    "duration": 6,
    "start_time": "2024-11-08T12:51:09.864Z"
   },
   {
    "duration": 55,
    "start_time": "2024-11-08T12:51:09.872Z"
   },
   {
    "duration": 96,
    "start_time": "2024-11-08T12:51:09.930Z"
   },
   {
    "duration": 149,
    "start_time": "2024-11-08T12:51:10.028Z"
   },
   {
    "duration": 5,
    "start_time": "2024-11-08T12:51:10.178Z"
   },
   {
    "duration": 6,
    "start_time": "2024-11-08T12:51:10.298Z"
   },
   {
    "duration": 11,
    "start_time": "2024-11-08T12:51:10.306Z"
   },
   {
    "duration": 163,
    "start_time": "2024-11-08T12:51:10.319Z"
   },
   {
    "duration": 3,
    "start_time": "2024-11-08T12:51:10.484Z"
   },
   {
    "duration": 18,
    "start_time": "2024-11-08T12:51:10.489Z"
   },
   {
    "duration": 14,
    "start_time": "2024-11-08T12:51:10.509Z"
   },
   {
    "duration": 21,
    "start_time": "2024-11-08T12:51:10.525Z"
   },
   {
    "duration": 168,
    "start_time": "2024-11-08T12:51:10.548Z"
   },
   {
    "duration": 5,
    "start_time": "2024-11-08T12:51:10.718Z"
   },
   {
    "duration": 8,
    "start_time": "2024-11-08T12:51:10.725Z"
   },
   {
    "duration": 9,
    "start_time": "2024-11-08T12:51:10.743Z"
   },
   {
    "duration": 88,
    "start_time": "2024-11-08T12:51:10.754Z"
   },
   {
    "duration": 16,
    "start_time": "2024-11-08T12:51:10.844Z"
   },
   {
    "duration": 18,
    "start_time": "2024-11-08T12:51:10.862Z"
   },
   {
    "duration": 154,
    "start_time": "2024-11-08T12:51:10.881Z"
   },
   {
    "duration": 141,
    "start_time": "2024-11-08T12:51:11.037Z"
   },
   {
    "duration": 137,
    "start_time": "2024-11-08T12:51:11.180Z"
   },
   {
    "duration": 142,
    "start_time": "2024-11-08T12:51:11.319Z"
   },
   {
    "duration": 142,
    "start_time": "2024-11-08T12:51:11.462Z"
   },
   {
    "duration": 5,
    "start_time": "2024-11-08T12:51:11.606Z"
   },
   {
    "duration": 167,
    "start_time": "2024-11-08T12:51:11.612Z"
   },
   {
    "duration": 4,
    "start_time": "2024-11-08T12:51:11.781Z"
   },
   {
    "duration": 8,
    "start_time": "2024-11-08T12:51:11.786Z"
   },
   {
    "duration": 13,
    "start_time": "2024-11-08T12:51:11.795Z"
   },
   {
    "duration": 6,
    "start_time": "2024-11-08T12:51:11.810Z"
   },
   {
    "duration": 37,
    "start_time": "2024-11-08T12:51:11.818Z"
   },
   {
    "duration": 10,
    "start_time": "2024-11-08T12:51:11.856Z"
   },
   {
    "duration": 135,
    "start_time": "2024-11-08T12:51:11.867Z"
   },
   {
    "duration": 12,
    "start_time": "2024-11-08T12:51:12.003Z"
   },
   {
    "duration": 11,
    "start_time": "2024-11-08T12:51:12.017Z"
   },
   {
    "duration": 18,
    "start_time": "2024-11-08T12:51:12.046Z"
   },
   {
    "duration": 8,
    "start_time": "2024-11-08T12:51:12.065Z"
   },
   {
    "duration": 141,
    "start_time": "2024-11-08T12:51:12.074Z"
   },
   {
    "duration": 12,
    "start_time": "2024-11-08T12:51:12.217Z"
   },
   {
    "duration": 17,
    "start_time": "2024-11-08T12:51:12.244Z"
   },
   {
    "duration": 13,
    "start_time": "2024-11-08T12:51:12.263Z"
   },
   {
    "duration": 11,
    "start_time": "2024-11-08T12:51:12.278Z"
   },
   {
    "duration": 150,
    "start_time": "2024-11-08T12:51:12.290Z"
   },
   {
    "duration": 11,
    "start_time": "2024-11-08T12:51:12.442Z"
   },
   {
    "duration": 3,
    "start_time": "2024-11-08T12:51:12.456Z"
   },
   {
    "duration": 18,
    "start_time": "2024-11-08T12:51:12.465Z"
   },
   {
    "duration": 8,
    "start_time": "2024-11-08T12:51:12.489Z"
   },
   {
    "duration": 5,
    "start_time": "2024-11-08T12:51:12.499Z"
   },
   {
    "duration": 9,
    "start_time": "2024-11-08T12:51:12.506Z"
   },
   {
    "duration": 8,
    "start_time": "2024-11-08T12:51:12.517Z"
   },
   {
    "duration": 237,
    "start_time": "2024-11-08T12:51:12.544Z"
   },
   {
    "duration": 10,
    "start_time": "2024-11-08T12:51:12.783Z"
   },
   {
    "duration": 53,
    "start_time": "2024-11-08T12:51:12.795Z"
   },
   {
    "duration": 129,
    "start_time": "2024-11-08T12:51:12.850Z"
   },
   {
    "duration": 10,
    "start_time": "2024-11-08T12:51:12.981Z"
   },
   {
    "duration": 7,
    "start_time": "2024-11-08T12:51:12.992Z"
   },
   {
    "duration": 153,
    "start_time": "2024-11-08T12:51:13.001Z"
   },
   {
    "duration": 10,
    "start_time": "2024-11-08T12:51:13.156Z"
   },
   {
    "duration": 7,
    "start_time": "2024-11-08T12:51:13.168Z"
   },
   {
    "duration": 187,
    "start_time": "2024-11-08T12:51:13.176Z"
   },
   {
    "duration": 9,
    "start_time": "2024-11-08T12:51:13.365Z"
   },
   {
    "duration": 29,
    "start_time": "2024-11-08T12:51:13.375Z"
   },
   {
    "duration": 141,
    "start_time": "2024-11-08T12:51:13.405Z"
   },
   {
    "duration": 15,
    "start_time": "2024-11-08T12:51:13.548Z"
   },
   {
    "duration": 83,
    "start_time": "2024-11-08T12:51:13.564Z"
   },
   {
    "duration": 26,
    "start_time": "2024-11-08T12:51:13.657Z"
   },
   {
    "duration": 125,
    "start_time": "2024-11-08T12:51:13.685Z"
   },
   {
    "duration": 277,
    "start_time": "2024-11-08T12:51:13.811Z"
   },
   {
    "duration": 7,
    "start_time": "2024-11-08T12:51:14.089Z"
   },
   {
    "duration": 33,
    "start_time": "2024-11-08T12:51:14.098Z"
   },
   {
    "duration": 362,
    "start_time": "2024-11-08T12:51:14.133Z"
   },
   {
    "duration": 443,
    "start_time": "2024-11-08T16:54:32.852Z"
   },
   {
    "duration": 106,
    "start_time": "2024-11-08T16:54:33.297Z"
   },
   {
    "duration": 3,
    "start_time": "2024-11-08T16:54:33.404Z"
   },
   {
    "duration": 55,
    "start_time": "2024-11-08T16:54:33.408Z"
   },
   {
    "duration": 15,
    "start_time": "2024-11-08T16:54:33.466Z"
   },
   {
    "duration": 2401,
    "start_time": "2024-11-08T16:54:33.483Z"
   },
   {
    "duration": 10,
    "start_time": "2024-11-08T16:54:35.886Z"
   },
   {
    "duration": 86,
    "start_time": "2024-11-08T16:54:35.897Z"
   },
   {
    "duration": 33,
    "start_time": "2024-11-08T16:54:35.985Z"
   },
   {
    "duration": 11,
    "start_time": "2024-11-08T16:54:36.020Z"
   },
   {
    "duration": 6,
    "start_time": "2024-11-08T16:54:36.033Z"
   },
   {
    "duration": 11,
    "start_time": "2024-11-08T16:54:36.040Z"
   },
   {
    "duration": 13,
    "start_time": "2024-11-08T16:54:36.053Z"
   },
   {
    "duration": 22,
    "start_time": "2024-11-08T16:54:36.069Z"
   },
   {
    "duration": 26,
    "start_time": "2024-11-08T16:54:36.093Z"
   },
   {
    "duration": 6,
    "start_time": "2024-11-08T16:54:36.121Z"
   },
   {
    "duration": 29,
    "start_time": "2024-11-08T16:54:36.128Z"
   },
   {
    "duration": 84,
    "start_time": "2024-11-08T16:54:36.159Z"
   },
   {
    "duration": 24,
    "start_time": "2024-11-08T16:54:36.245Z"
   },
   {
    "duration": 80,
    "start_time": "2024-11-08T16:54:36.271Z"
   },
   {
    "duration": 6,
    "start_time": "2024-11-08T16:54:36.352Z"
   },
   {
    "duration": 18,
    "start_time": "2024-11-08T16:54:36.359Z"
   },
   {
    "duration": 7,
    "start_time": "2024-11-08T16:54:36.379Z"
   },
   {
    "duration": 33,
    "start_time": "2024-11-08T16:54:36.387Z"
   },
   {
    "duration": 30,
    "start_time": "2024-11-08T16:54:36.421Z"
   },
   {
    "duration": 63,
    "start_time": "2024-11-08T16:54:36.452Z"
   },
   {
    "duration": 23,
    "start_time": "2024-11-08T16:54:36.517Z"
   },
   {
    "duration": 28,
    "start_time": "2024-11-08T16:54:36.541Z"
   },
   {
    "duration": 135,
    "start_time": "2024-11-08T16:54:36.571Z"
   },
   {
    "duration": 4,
    "start_time": "2024-11-08T16:54:36.708Z"
   },
   {
    "duration": 72,
    "start_time": "2024-11-08T16:54:36.714Z"
   },
   {
    "duration": 15,
    "start_time": "2024-11-08T16:54:36.788Z"
   },
   {
    "duration": 14,
    "start_time": "2024-11-08T16:54:36.805Z"
   },
   {
    "duration": 154,
    "start_time": "2024-11-08T16:54:36.821Z"
   },
   {
    "duration": 3,
    "start_time": "2024-11-08T16:54:36.977Z"
   },
   {
    "duration": 6,
    "start_time": "2024-11-08T16:54:36.982Z"
   },
   {
    "duration": 32,
    "start_time": "2024-11-08T16:54:36.990Z"
   },
   {
    "duration": 11,
    "start_time": "2024-11-08T16:54:37.024Z"
   },
   {
    "duration": 139,
    "start_time": "2024-11-08T16:54:37.036Z"
   },
   {
    "duration": 4,
    "start_time": "2024-11-08T16:54:37.176Z"
   },
   {
    "duration": 6,
    "start_time": "2024-11-08T16:54:37.283Z"
   },
   {
    "duration": 41,
    "start_time": "2024-11-08T16:54:37.290Z"
   },
   {
    "duration": 132,
    "start_time": "2024-11-08T16:54:37.332Z"
   },
   {
    "duration": 2,
    "start_time": "2024-11-08T16:54:37.466Z"
   },
   {
    "duration": 13,
    "start_time": "2024-11-08T16:54:37.470Z"
   },
   {
    "duration": 7,
    "start_time": "2024-11-08T16:54:37.485Z"
   },
   {
    "duration": 28,
    "start_time": "2024-11-08T16:54:37.493Z"
   },
   {
    "duration": 142,
    "start_time": "2024-11-08T16:54:37.523Z"
   },
   {
    "duration": 4,
    "start_time": "2024-11-08T16:54:37.667Z"
   },
   {
    "duration": 16,
    "start_time": "2024-11-08T16:54:37.673Z"
   },
   {
    "duration": 8,
    "start_time": "2024-11-08T16:54:37.691Z"
   },
   {
    "duration": 19,
    "start_time": "2024-11-08T16:54:37.701Z"
   },
   {
    "duration": 6,
    "start_time": "2024-11-08T16:54:37.722Z"
   },
   {
    "duration": 8,
    "start_time": "2024-11-08T16:54:37.730Z"
   },
   {
    "duration": 177,
    "start_time": "2024-11-08T16:54:37.740Z"
   },
   {
    "duration": 135,
    "start_time": "2024-11-08T16:54:37.920Z"
   },
   {
    "duration": 140,
    "start_time": "2024-11-08T16:54:38.057Z"
   },
   {
    "duration": 146,
    "start_time": "2024-11-08T16:54:38.199Z"
   },
   {
    "duration": 149,
    "start_time": "2024-11-08T16:54:38.348Z"
   },
   {
    "duration": 5,
    "start_time": "2024-11-08T16:54:38.498Z"
   },
   {
    "duration": 150,
    "start_time": "2024-11-08T16:54:38.504Z"
   },
   {
    "duration": 4,
    "start_time": "2024-11-08T16:54:38.656Z"
   },
   {
    "duration": 124,
    "start_time": "2024-11-08T16:54:38.662Z"
   },
   {
    "duration": 13,
    "start_time": "2024-11-08T16:54:38.787Z"
   },
   {
    "duration": 7,
    "start_time": "2024-11-08T16:54:38.801Z"
   },
   {
    "duration": 13,
    "start_time": "2024-11-08T16:54:38.810Z"
   },
   {
    "duration": 20,
    "start_time": "2024-11-08T16:54:38.825Z"
   },
   {
    "duration": 137,
    "start_time": "2024-11-08T16:54:38.847Z"
   },
   {
    "duration": 12,
    "start_time": "2024-11-08T16:54:38.986Z"
   },
   {
    "duration": 7,
    "start_time": "2024-11-08T16:54:39.000Z"
   },
   {
    "duration": 11,
    "start_time": "2024-11-08T16:54:39.020Z"
   },
   {
    "duration": 8,
    "start_time": "2024-11-08T16:54:39.032Z"
   },
   {
    "duration": 148,
    "start_time": "2024-11-08T16:54:39.041Z"
   },
   {
    "duration": 12,
    "start_time": "2024-11-08T16:54:39.191Z"
   },
   {
    "duration": 17,
    "start_time": "2024-11-08T16:54:39.205Z"
   },
   {
    "duration": 10,
    "start_time": "2024-11-08T16:54:39.224Z"
   },
   {
    "duration": 8,
    "start_time": "2024-11-08T16:54:39.236Z"
   },
   {
    "duration": 148,
    "start_time": "2024-11-08T16:54:39.245Z"
   },
   {
    "duration": 4,
    "start_time": "2024-11-08T16:54:39.395Z"
   },
   {
    "duration": 6,
    "start_time": "2024-11-08T16:54:39.400Z"
   },
   {
    "duration": 20,
    "start_time": "2024-11-08T16:54:39.408Z"
   },
   {
    "duration": 10,
    "start_time": "2024-11-08T16:54:39.430Z"
   },
   {
    "duration": 9,
    "start_time": "2024-11-08T16:54:39.442Z"
   },
   {
    "duration": 6,
    "start_time": "2024-11-08T16:54:39.453Z"
   },
   {
    "duration": 11,
    "start_time": "2024-11-08T16:54:39.461Z"
   },
   {
    "duration": 234,
    "start_time": "2024-11-08T16:54:39.474Z"
   },
   {
    "duration": 19,
    "start_time": "2024-11-08T16:54:39.710Z"
   },
   {
    "duration": 12,
    "start_time": "2024-11-08T16:54:39.731Z"
   },
   {
    "duration": 144,
    "start_time": "2024-11-08T16:54:39.744Z"
   },
   {
    "duration": 9,
    "start_time": "2024-11-08T16:54:39.890Z"
   },
   {
    "duration": 25,
    "start_time": "2024-11-08T16:54:39.901Z"
   },
   {
    "duration": 146,
    "start_time": "2024-11-08T16:54:39.927Z"
   },
   {
    "duration": 9,
    "start_time": "2024-11-08T16:54:40.075Z"
   },
   {
    "duration": 16,
    "start_time": "2024-11-08T16:54:40.085Z"
   },
   {
    "duration": 172,
    "start_time": "2024-11-08T16:54:40.103Z"
   },
   {
    "duration": 10,
    "start_time": "2024-11-08T16:54:40.277Z"
   },
   {
    "duration": 25,
    "start_time": "2024-11-08T16:54:40.288Z"
   },
   {
    "duration": 145,
    "start_time": "2024-11-08T16:54:40.315Z"
   },
   {
    "duration": 3,
    "start_time": "2024-11-08T16:54:40.462Z"
   },
   {
    "duration": 43,
    "start_time": "2024-11-08T16:54:40.467Z"
   },
   {
    "duration": 5,
    "start_time": "2024-11-08T16:54:40.512Z"
   },
   {
    "duration": 28,
    "start_time": "2024-11-08T16:54:40.518Z"
   },
   {
    "duration": 236,
    "start_time": "2024-11-08T16:54:40.547Z"
   },
   {
    "duration": 7,
    "start_time": "2024-11-08T16:54:40.784Z"
   },
   {
    "duration": 6,
    "start_time": "2024-11-08T16:54:40.793Z"
   },
   {
    "duration": 333,
    "start_time": "2024-11-08T16:54:40.800Z"
   },
   {
    "duration": 108,
    "start_time": "2024-11-08T16:54:43.758Z"
   },
   {
    "duration": 53,
    "start_time": "2024-11-22T15:19:38.058Z"
   },
   {
    "duration": 5,
    "start_time": "2024-11-22T15:19:45.357Z"
   },
   {
    "duration": 408,
    "start_time": "2024-11-22T15:19:58.335Z"
   },
   {
    "duration": 311,
    "start_time": "2024-11-22T15:19:58.744Z"
   },
   {
    "duration": 2,
    "start_time": "2024-11-22T15:19:59.057Z"
   },
   {
    "duration": 28,
    "start_time": "2024-11-22T15:19:59.060Z"
   },
   {
    "duration": 24,
    "start_time": "2024-11-22T15:19:59.090Z"
   },
   {
    "duration": 449,
    "start_time": "2024-11-22T15:19:59.115Z"
   },
   {
    "duration": 0,
    "start_time": "2024-11-22T15:19:59.569Z"
   },
   {
    "duration": 0,
    "start_time": "2024-11-22T15:19:59.570Z"
   },
   {
    "duration": 0,
    "start_time": "2024-11-22T15:19:59.571Z"
   },
   {
    "duration": 0,
    "start_time": "2024-11-22T15:19:59.572Z"
   },
   {
    "duration": 0,
    "start_time": "2024-11-22T15:19:59.573Z"
   },
   {
    "duration": 0,
    "start_time": "2024-11-22T15:19:59.574Z"
   },
   {
    "duration": 0,
    "start_time": "2024-11-22T15:19:59.575Z"
   },
   {
    "duration": 0,
    "start_time": "2024-11-22T15:19:59.576Z"
   },
   {
    "duration": 0,
    "start_time": "2024-11-22T15:19:59.577Z"
   },
   {
    "duration": 0,
    "start_time": "2024-11-22T15:19:59.578Z"
   },
   {
    "duration": 0,
    "start_time": "2024-11-22T15:19:59.579Z"
   },
   {
    "duration": 0,
    "start_time": "2024-11-22T15:19:59.580Z"
   },
   {
    "duration": 0,
    "start_time": "2024-11-22T15:19:59.581Z"
   },
   {
    "duration": 0,
    "start_time": "2024-11-22T15:19:59.582Z"
   },
   {
    "duration": 0,
    "start_time": "2024-11-22T15:19:59.582Z"
   },
   {
    "duration": 0,
    "start_time": "2024-11-22T15:19:59.583Z"
   },
   {
    "duration": 0,
    "start_time": "2024-11-22T15:19:59.584Z"
   },
   {
    "duration": 0,
    "start_time": "2024-11-22T15:19:59.585Z"
   },
   {
    "duration": 0,
    "start_time": "2024-11-22T15:19:59.586Z"
   },
   {
    "duration": 0,
    "start_time": "2024-11-22T15:19:59.587Z"
   },
   {
    "duration": 0,
    "start_time": "2024-11-22T15:19:59.588Z"
   },
   {
    "duration": 1,
    "start_time": "2024-11-22T15:19:59.588Z"
   },
   {
    "duration": 0,
    "start_time": "2024-11-22T15:19:59.590Z"
   },
   {
    "duration": 0,
    "start_time": "2024-11-22T15:19:59.590Z"
   },
   {
    "duration": 0,
    "start_time": "2024-11-22T15:19:59.591Z"
   },
   {
    "duration": 0,
    "start_time": "2024-11-22T15:19:59.592Z"
   },
   {
    "duration": 0,
    "start_time": "2024-11-22T15:19:59.593Z"
   },
   {
    "duration": 0,
    "start_time": "2024-11-22T15:19:59.594Z"
   },
   {
    "duration": 0,
    "start_time": "2024-11-22T15:19:59.595Z"
   },
   {
    "duration": 0,
    "start_time": "2024-11-22T15:19:59.621Z"
   },
   {
    "duration": 0,
    "start_time": "2024-11-22T15:19:59.622Z"
   },
   {
    "duration": 0,
    "start_time": "2024-11-22T15:19:59.622Z"
   },
   {
    "duration": 0,
    "start_time": "2024-11-22T15:19:59.623Z"
   },
   {
    "duration": 0,
    "start_time": "2024-11-22T15:19:59.624Z"
   },
   {
    "duration": 0,
    "start_time": "2024-11-22T15:19:59.625Z"
   },
   {
    "duration": 0,
    "start_time": "2024-11-22T15:19:59.626Z"
   },
   {
    "duration": 0,
    "start_time": "2024-11-22T15:19:59.627Z"
   },
   {
    "duration": 0,
    "start_time": "2024-11-22T15:19:59.627Z"
   },
   {
    "duration": 0,
    "start_time": "2024-11-22T15:19:59.629Z"
   },
   {
    "duration": 1,
    "start_time": "2024-11-22T15:19:59.629Z"
   },
   {
    "duration": 0,
    "start_time": "2024-11-22T15:19:59.630Z"
   },
   {
    "duration": 0,
    "start_time": "2024-11-22T15:19:59.632Z"
   },
   {
    "duration": 0,
    "start_time": "2024-11-22T15:19:59.633Z"
   },
   {
    "duration": 0,
    "start_time": "2024-11-22T15:19:59.634Z"
   },
   {
    "duration": 0,
    "start_time": "2024-11-22T15:19:59.635Z"
   },
   {
    "duration": 0,
    "start_time": "2024-11-22T15:19:59.636Z"
   },
   {
    "duration": 0,
    "start_time": "2024-11-22T15:19:59.637Z"
   },
   {
    "duration": 0,
    "start_time": "2024-11-22T15:19:59.637Z"
   },
   {
    "duration": 0,
    "start_time": "2024-11-22T15:19:59.638Z"
   },
   {
    "duration": 0,
    "start_time": "2024-11-22T15:19:59.639Z"
   },
   {
    "duration": 0,
    "start_time": "2024-11-22T15:19:59.640Z"
   },
   {
    "duration": 0,
    "start_time": "2024-11-22T15:19:59.641Z"
   },
   {
    "duration": 0,
    "start_time": "2024-11-22T15:19:59.642Z"
   },
   {
    "duration": 0,
    "start_time": "2024-11-22T15:19:59.643Z"
   },
   {
    "duration": 0,
    "start_time": "2024-11-22T15:19:59.644Z"
   },
   {
    "duration": 0,
    "start_time": "2024-11-22T15:19:59.645Z"
   },
   {
    "duration": 0,
    "start_time": "2024-11-22T15:19:59.646Z"
   },
   {
    "duration": 1,
    "start_time": "2024-11-22T15:19:59.646Z"
   },
   {
    "duration": 0,
    "start_time": "2024-11-22T15:19:59.647Z"
   },
   {
    "duration": 0,
    "start_time": "2024-11-22T15:19:59.648Z"
   },
   {
    "duration": 0,
    "start_time": "2024-11-22T15:19:59.649Z"
   },
   {
    "duration": 0,
    "start_time": "2024-11-22T15:19:59.650Z"
   },
   {
    "duration": 0,
    "start_time": "2024-11-22T15:19:59.651Z"
   },
   {
    "duration": 0,
    "start_time": "2024-11-22T15:19:59.652Z"
   },
   {
    "duration": 0,
    "start_time": "2024-11-22T15:19:59.653Z"
   },
   {
    "duration": 0,
    "start_time": "2024-11-22T15:19:59.654Z"
   },
   {
    "duration": 0,
    "start_time": "2024-11-22T15:19:59.655Z"
   },
   {
    "duration": 0,
    "start_time": "2024-11-22T15:19:59.656Z"
   },
   {
    "duration": 0,
    "start_time": "2024-11-22T15:19:59.724Z"
   },
   {
    "duration": 0,
    "start_time": "2024-11-22T15:19:59.725Z"
   },
   {
    "duration": 0,
    "start_time": "2024-11-22T15:19:59.726Z"
   },
   {
    "duration": 0,
    "start_time": "2024-11-22T15:19:59.727Z"
   },
   {
    "duration": 0,
    "start_time": "2024-11-22T15:19:59.728Z"
   },
   {
    "duration": 0,
    "start_time": "2024-11-22T15:19:59.729Z"
   },
   {
    "duration": 0,
    "start_time": "2024-11-22T15:19:59.730Z"
   },
   {
    "duration": 0,
    "start_time": "2024-11-22T15:19:59.731Z"
   },
   {
    "duration": 0,
    "start_time": "2024-11-22T15:19:59.732Z"
   },
   {
    "duration": 0,
    "start_time": "2024-11-22T15:19:59.733Z"
   },
   {
    "duration": 0,
    "start_time": "2024-11-22T15:19:59.734Z"
   },
   {
    "duration": 0,
    "start_time": "2024-11-22T15:19:59.735Z"
   },
   {
    "duration": 0,
    "start_time": "2024-11-22T15:19:59.736Z"
   },
   {
    "duration": 0,
    "start_time": "2024-11-22T15:19:59.738Z"
   },
   {
    "duration": 0,
    "start_time": "2024-11-22T15:19:59.739Z"
   },
   {
    "duration": 0,
    "start_time": "2024-11-22T15:19:59.740Z"
   },
   {
    "duration": 0,
    "start_time": "2024-11-22T15:19:59.741Z"
   },
   {
    "duration": 0,
    "start_time": "2024-11-22T15:19:59.742Z"
   },
   {
    "duration": 0,
    "start_time": "2024-11-22T15:19:59.743Z"
   },
   {
    "duration": 0,
    "start_time": "2024-11-22T15:19:59.743Z"
   },
   {
    "duration": 0,
    "start_time": "2024-11-22T15:19:59.744Z"
   },
   {
    "duration": 0,
    "start_time": "2024-11-22T15:19:59.745Z"
   },
   {
    "duration": 0,
    "start_time": "2024-11-22T15:19:59.746Z"
   },
   {
    "duration": 0,
    "start_time": "2024-11-22T15:19:59.747Z"
   },
   {
    "duration": 0,
    "start_time": "2024-11-22T15:19:59.748Z"
   },
   {
    "duration": 0,
    "start_time": "2024-11-22T15:19:59.749Z"
   },
   {
    "duration": 0,
    "start_time": "2024-11-22T15:19:59.750Z"
   },
   {
    "duration": 0,
    "start_time": "2024-11-22T15:19:59.750Z"
   },
   {
    "duration": 0,
    "start_time": "2024-11-22T15:19:59.751Z"
   },
   {
    "duration": 0,
    "start_time": "2024-11-22T15:19:59.753Z"
   },
   {
    "duration": 0,
    "start_time": "2024-11-22T15:19:59.753Z"
   },
   {
    "duration": 0,
    "start_time": "2024-11-22T15:19:59.754Z"
   },
   {
    "duration": 42,
    "start_time": "2024-11-24T09:27:37.205Z"
   },
   {
    "duration": 363,
    "start_time": "2024-11-24T09:27:43.443Z"
   },
   {
    "duration": 138,
    "start_time": "2024-11-24T09:27:43.808Z"
   },
   {
    "duration": 3,
    "start_time": "2024-11-24T09:27:43.947Z"
   },
   {
    "duration": 13,
    "start_time": "2024-11-24T09:27:43.952Z"
   },
   {
    "duration": 9,
    "start_time": "2024-11-24T09:27:43.967Z"
   },
   {
    "duration": 215,
    "start_time": "2024-11-24T09:27:43.978Z"
   },
   {
    "duration": 0,
    "start_time": "2024-11-24T09:27:44.197Z"
   },
   {
    "duration": 0,
    "start_time": "2024-11-24T09:27:44.199Z"
   },
   {
    "duration": 0,
    "start_time": "2024-11-24T09:27:44.200Z"
   },
   {
    "duration": 0,
    "start_time": "2024-11-24T09:27:44.201Z"
   },
   {
    "duration": 0,
    "start_time": "2024-11-24T09:27:44.212Z"
   },
   {
    "duration": 0,
    "start_time": "2024-11-24T09:27:44.213Z"
   },
   {
    "duration": 0,
    "start_time": "2024-11-24T09:27:44.214Z"
   },
   {
    "duration": 0,
    "start_time": "2024-11-24T09:27:44.215Z"
   },
   {
    "duration": 0,
    "start_time": "2024-11-24T09:27:44.216Z"
   },
   {
    "duration": 0,
    "start_time": "2024-11-24T09:27:44.218Z"
   },
   {
    "duration": 0,
    "start_time": "2024-11-24T09:27:44.219Z"
   },
   {
    "duration": 0,
    "start_time": "2024-11-24T09:27:44.220Z"
   },
   {
    "duration": 0,
    "start_time": "2024-11-24T09:27:44.221Z"
   },
   {
    "duration": 0,
    "start_time": "2024-11-24T09:27:44.222Z"
   },
   {
    "duration": 0,
    "start_time": "2024-11-24T09:27:44.223Z"
   },
   {
    "duration": 0,
    "start_time": "2024-11-24T09:27:44.224Z"
   },
   {
    "duration": 0,
    "start_time": "2024-11-24T09:27:44.226Z"
   },
   {
    "duration": 0,
    "start_time": "2024-11-24T09:27:44.227Z"
   },
   {
    "duration": 0,
    "start_time": "2024-11-24T09:27:44.228Z"
   },
   {
    "duration": 0,
    "start_time": "2024-11-24T09:27:44.229Z"
   },
   {
    "duration": 0,
    "start_time": "2024-11-24T09:27:44.230Z"
   },
   {
    "duration": 0,
    "start_time": "2024-11-24T09:27:44.232Z"
   },
   {
    "duration": 0,
    "start_time": "2024-11-24T09:27:44.233Z"
   },
   {
    "duration": 0,
    "start_time": "2024-11-24T09:27:44.234Z"
   },
   {
    "duration": 0,
    "start_time": "2024-11-24T09:27:44.235Z"
   },
   {
    "duration": 0,
    "start_time": "2024-11-24T09:27:44.236Z"
   },
   {
    "duration": 0,
    "start_time": "2024-11-24T09:27:44.238Z"
   },
   {
    "duration": 0,
    "start_time": "2024-11-24T09:27:44.239Z"
   },
   {
    "duration": 0,
    "start_time": "2024-11-24T09:27:44.240Z"
   },
   {
    "duration": 0,
    "start_time": "2024-11-24T09:27:44.241Z"
   },
   {
    "duration": 0,
    "start_time": "2024-11-24T09:27:44.242Z"
   },
   {
    "duration": 0,
    "start_time": "2024-11-24T09:27:44.242Z"
   },
   {
    "duration": 0,
    "start_time": "2024-11-24T09:27:44.244Z"
   },
   {
    "duration": 0,
    "start_time": "2024-11-24T09:27:44.245Z"
   },
   {
    "duration": 0,
    "start_time": "2024-11-24T09:27:44.246Z"
   },
   {
    "duration": 0,
    "start_time": "2024-11-24T09:27:44.247Z"
   },
   {
    "duration": 0,
    "start_time": "2024-11-24T09:27:44.248Z"
   },
   {
    "duration": 0,
    "start_time": "2024-11-24T09:27:44.249Z"
   },
   {
    "duration": 0,
    "start_time": "2024-11-24T09:27:44.250Z"
   },
   {
    "duration": 0,
    "start_time": "2024-11-24T09:27:44.251Z"
   },
   {
    "duration": 0,
    "start_time": "2024-11-24T09:27:44.312Z"
   },
   {
    "duration": 0,
    "start_time": "2024-11-24T09:27:44.313Z"
   },
   {
    "duration": 0,
    "start_time": "2024-11-24T09:27:44.314Z"
   },
   {
    "duration": 0,
    "start_time": "2024-11-24T09:27:44.315Z"
   },
   {
    "duration": 0,
    "start_time": "2024-11-24T09:27:44.316Z"
   },
   {
    "duration": 0,
    "start_time": "2024-11-24T09:27:44.317Z"
   },
   {
    "duration": 0,
    "start_time": "2024-11-24T09:27:44.317Z"
   },
   {
    "duration": 0,
    "start_time": "2024-11-24T09:27:44.318Z"
   },
   {
    "duration": 0,
    "start_time": "2024-11-24T09:27:44.319Z"
   },
   {
    "duration": 0,
    "start_time": "2024-11-24T09:27:44.320Z"
   },
   {
    "duration": 0,
    "start_time": "2024-11-24T09:27:44.321Z"
   },
   {
    "duration": 0,
    "start_time": "2024-11-24T09:27:44.322Z"
   },
   {
    "duration": 0,
    "start_time": "2024-11-24T09:27:44.323Z"
   },
   {
    "duration": 0,
    "start_time": "2024-11-24T09:27:44.324Z"
   },
   {
    "duration": 0,
    "start_time": "2024-11-24T09:27:44.325Z"
   },
   {
    "duration": 0,
    "start_time": "2024-11-24T09:27:44.326Z"
   },
   {
    "duration": 0,
    "start_time": "2024-11-24T09:27:44.327Z"
   },
   {
    "duration": 0,
    "start_time": "2024-11-24T09:27:44.328Z"
   },
   {
    "duration": 0,
    "start_time": "2024-11-24T09:27:44.329Z"
   },
   {
    "duration": 0,
    "start_time": "2024-11-24T09:27:44.330Z"
   },
   {
    "duration": 0,
    "start_time": "2024-11-24T09:27:44.330Z"
   },
   {
    "duration": 0,
    "start_time": "2024-11-24T09:27:44.331Z"
   },
   {
    "duration": 0,
    "start_time": "2024-11-24T09:27:44.332Z"
   },
   {
    "duration": 0,
    "start_time": "2024-11-24T09:27:44.333Z"
   },
   {
    "duration": 0,
    "start_time": "2024-11-24T09:27:44.334Z"
   },
   {
    "duration": 0,
    "start_time": "2024-11-24T09:27:44.334Z"
   },
   {
    "duration": 0,
    "start_time": "2024-11-24T09:27:44.335Z"
   },
   {
    "duration": 0,
    "start_time": "2024-11-24T09:27:44.336Z"
   },
   {
    "duration": 0,
    "start_time": "2024-11-24T09:27:44.337Z"
   },
   {
    "duration": 0,
    "start_time": "2024-11-24T09:27:44.338Z"
   },
   {
    "duration": 0,
    "start_time": "2024-11-24T09:27:44.339Z"
   },
   {
    "duration": 0,
    "start_time": "2024-11-24T09:27:44.340Z"
   },
   {
    "duration": 0,
    "start_time": "2024-11-24T09:27:44.341Z"
   },
   {
    "duration": 0,
    "start_time": "2024-11-24T09:27:44.342Z"
   },
   {
    "duration": 0,
    "start_time": "2024-11-24T09:27:44.343Z"
   },
   {
    "duration": 0,
    "start_time": "2024-11-24T09:27:44.344Z"
   },
   {
    "duration": 0,
    "start_time": "2024-11-24T09:27:44.345Z"
   },
   {
    "duration": 0,
    "start_time": "2024-11-24T09:27:44.346Z"
   },
   {
    "duration": 0,
    "start_time": "2024-11-24T09:27:44.347Z"
   },
   {
    "duration": 0,
    "start_time": "2024-11-24T09:27:44.348Z"
   },
   {
    "duration": 0,
    "start_time": "2024-11-24T09:27:44.412Z"
   },
   {
    "duration": 0,
    "start_time": "2024-11-24T09:27:44.413Z"
   },
   {
    "duration": 0,
    "start_time": "2024-11-24T09:27:44.414Z"
   },
   {
    "duration": 0,
    "start_time": "2024-11-24T09:27:44.415Z"
   },
   {
    "duration": 0,
    "start_time": "2024-11-24T09:27:44.416Z"
   },
   {
    "duration": 0,
    "start_time": "2024-11-24T09:27:44.417Z"
   },
   {
    "duration": 0,
    "start_time": "2024-11-24T09:27:44.418Z"
   },
   {
    "duration": 0,
    "start_time": "2024-11-24T09:27:44.419Z"
   },
   {
    "duration": 0,
    "start_time": "2024-11-24T09:27:44.420Z"
   },
   {
    "duration": 0,
    "start_time": "2024-11-24T09:27:44.422Z"
   },
   {
    "duration": 0,
    "start_time": "2024-11-24T09:27:44.423Z"
   },
   {
    "duration": 0,
    "start_time": "2024-11-24T09:27:44.424Z"
   },
   {
    "duration": 1,
    "start_time": "2024-11-24T09:27:44.424Z"
   },
   {
    "duration": 0,
    "start_time": "2024-11-24T09:27:44.426Z"
   },
   {
    "duration": 0,
    "start_time": "2024-11-24T09:27:44.426Z"
   },
   {
    "duration": 0,
    "start_time": "2024-11-24T09:27:44.427Z"
   },
   {
    "duration": 0,
    "start_time": "2024-11-24T09:27:44.428Z"
   },
   {
    "duration": 0,
    "start_time": "2024-11-24T09:27:44.429Z"
   },
   {
    "duration": 0,
    "start_time": "2024-11-24T09:27:44.430Z"
   },
   {
    "duration": 0,
    "start_time": "2024-11-24T09:27:44.431Z"
   },
   {
    "duration": 6,
    "start_time": "2024-11-24T09:27:58.735Z"
   },
   {
    "duration": 6,
    "start_time": "2024-11-24T09:28:30.559Z"
   },
   {
    "duration": 47,
    "start_time": "2024-11-25T10:45:41.278Z"
   },
   {
    "duration": 432,
    "start_time": "2024-11-25T10:45:47.610Z"
   },
   {
    "duration": 164,
    "start_time": "2024-11-25T10:45:48.044Z"
   },
   {
    "duration": 5,
    "start_time": "2024-11-25T10:45:48.211Z"
   },
   {
    "duration": 18,
    "start_time": "2024-11-25T10:45:48.219Z"
   },
   {
    "duration": 35,
    "start_time": "2024-11-25T10:45:48.239Z"
   },
   {
    "duration": 271,
    "start_time": "2024-11-25T10:45:48.277Z"
   },
   {
    "duration": 0,
    "start_time": "2024-11-25T10:45:48.552Z"
   },
   {
    "duration": 0,
    "start_time": "2024-11-25T10:45:48.553Z"
   },
   {
    "duration": 0,
    "start_time": "2024-11-25T10:45:48.554Z"
   },
   {
    "duration": 0,
    "start_time": "2024-11-25T10:45:48.555Z"
   },
   {
    "duration": 0,
    "start_time": "2024-11-25T10:45:48.556Z"
   },
   {
    "duration": 0,
    "start_time": "2024-11-25T10:45:48.557Z"
   },
   {
    "duration": 0,
    "start_time": "2024-11-25T10:45:48.559Z"
   },
   {
    "duration": 0,
    "start_time": "2024-11-25T10:45:48.560Z"
   },
   {
    "duration": 0,
    "start_time": "2024-11-25T10:45:48.561Z"
   },
   {
    "duration": 0,
    "start_time": "2024-11-25T10:45:48.562Z"
   },
   {
    "duration": 0,
    "start_time": "2024-11-25T10:45:48.563Z"
   },
   {
    "duration": 0,
    "start_time": "2024-11-25T10:45:48.564Z"
   },
   {
    "duration": 0,
    "start_time": "2024-11-25T10:45:48.565Z"
   },
   {
    "duration": 0,
    "start_time": "2024-11-25T10:45:48.566Z"
   },
   {
    "duration": 0,
    "start_time": "2024-11-25T10:45:48.568Z"
   },
   {
    "duration": 0,
    "start_time": "2024-11-25T10:45:48.570Z"
   },
   {
    "duration": 0,
    "start_time": "2024-11-25T10:45:48.600Z"
   },
   {
    "duration": 0,
    "start_time": "2024-11-25T10:45:48.601Z"
   },
   {
    "duration": 0,
    "start_time": "2024-11-25T10:45:48.602Z"
   },
   {
    "duration": 0,
    "start_time": "2024-11-25T10:45:48.604Z"
   },
   {
    "duration": 0,
    "start_time": "2024-11-25T10:45:48.605Z"
   },
   {
    "duration": 0,
    "start_time": "2024-11-25T10:45:48.606Z"
   },
   {
    "duration": 0,
    "start_time": "2024-11-25T10:45:48.607Z"
   },
   {
    "duration": 0,
    "start_time": "2024-11-25T10:45:48.608Z"
   },
   {
    "duration": 0,
    "start_time": "2024-11-25T10:45:48.609Z"
   },
   {
    "duration": 0,
    "start_time": "2024-11-25T10:45:48.610Z"
   },
   {
    "duration": 0,
    "start_time": "2024-11-25T10:45:48.611Z"
   },
   {
    "duration": 0,
    "start_time": "2024-11-25T10:45:48.613Z"
   },
   {
    "duration": 0,
    "start_time": "2024-11-25T10:45:48.615Z"
   },
   {
    "duration": 0,
    "start_time": "2024-11-25T10:45:48.616Z"
   },
   {
    "duration": 0,
    "start_time": "2024-11-25T10:45:48.617Z"
   },
   {
    "duration": 0,
    "start_time": "2024-11-25T10:45:48.618Z"
   },
   {
    "duration": 0,
    "start_time": "2024-11-25T10:45:48.620Z"
   },
   {
    "duration": 0,
    "start_time": "2024-11-25T10:45:48.623Z"
   },
   {
    "duration": 0,
    "start_time": "2024-11-25T10:45:48.625Z"
   },
   {
    "duration": 0,
    "start_time": "2024-11-25T10:45:48.626Z"
   },
   {
    "duration": 0,
    "start_time": "2024-11-25T10:45:48.628Z"
   },
   {
    "duration": 0,
    "start_time": "2024-11-25T10:45:48.630Z"
   },
   {
    "duration": 0,
    "start_time": "2024-11-25T10:45:48.631Z"
   },
   {
    "duration": 0,
    "start_time": "2024-11-25T10:45:48.632Z"
   },
   {
    "duration": 0,
    "start_time": "2024-11-25T10:45:48.633Z"
   },
   {
    "duration": 0,
    "start_time": "2024-11-25T10:45:48.635Z"
   },
   {
    "duration": 1,
    "start_time": "2024-11-25T10:45:48.636Z"
   },
   {
    "duration": 0,
    "start_time": "2024-11-25T10:45:48.638Z"
   },
   {
    "duration": 0,
    "start_time": "2024-11-25T10:45:48.700Z"
   },
   {
    "duration": 0,
    "start_time": "2024-11-25T10:45:48.701Z"
   },
   {
    "duration": 0,
    "start_time": "2024-11-25T10:45:48.702Z"
   },
   {
    "duration": 0,
    "start_time": "2024-11-25T10:45:48.703Z"
   },
   {
    "duration": 0,
    "start_time": "2024-11-25T10:45:48.704Z"
   },
   {
    "duration": 0,
    "start_time": "2024-11-25T10:45:48.705Z"
   },
   {
    "duration": 0,
    "start_time": "2024-11-25T10:45:48.706Z"
   },
   {
    "duration": 0,
    "start_time": "2024-11-25T10:45:48.707Z"
   },
   {
    "duration": 0,
    "start_time": "2024-11-25T10:45:48.708Z"
   },
   {
    "duration": 0,
    "start_time": "2024-11-25T10:45:48.709Z"
   },
   {
    "duration": 0,
    "start_time": "2024-11-25T10:45:48.710Z"
   },
   {
    "duration": 0,
    "start_time": "2024-11-25T10:45:48.711Z"
   },
   {
    "duration": 0,
    "start_time": "2024-11-25T10:45:48.712Z"
   },
   {
    "duration": 0,
    "start_time": "2024-11-25T10:45:48.714Z"
   },
   {
    "duration": 1,
    "start_time": "2024-11-25T10:45:48.714Z"
   },
   {
    "duration": 0,
    "start_time": "2024-11-25T10:45:48.715Z"
   },
   {
    "duration": 0,
    "start_time": "2024-11-25T10:45:48.717Z"
   },
   {
    "duration": 0,
    "start_time": "2024-11-25T10:45:48.717Z"
   },
   {
    "duration": 0,
    "start_time": "2024-11-25T10:45:48.718Z"
   },
   {
    "duration": 0,
    "start_time": "2024-11-25T10:45:48.719Z"
   },
   {
    "duration": 0,
    "start_time": "2024-11-25T10:45:48.720Z"
   },
   {
    "duration": 0,
    "start_time": "2024-11-25T10:45:48.721Z"
   },
   {
    "duration": 0,
    "start_time": "2024-11-25T10:45:48.722Z"
   },
   {
    "duration": 0,
    "start_time": "2024-11-25T10:45:48.723Z"
   },
   {
    "duration": 0,
    "start_time": "2024-11-25T10:45:48.724Z"
   },
   {
    "duration": 0,
    "start_time": "2024-11-25T10:45:48.725Z"
   },
   {
    "duration": 0,
    "start_time": "2024-11-25T10:45:48.726Z"
   },
   {
    "duration": 0,
    "start_time": "2024-11-25T10:45:48.727Z"
   },
   {
    "duration": 0,
    "start_time": "2024-11-25T10:45:48.728Z"
   },
   {
    "duration": 0,
    "start_time": "2024-11-25T10:45:48.729Z"
   },
   {
    "duration": 0,
    "start_time": "2024-11-25T10:45:48.730Z"
   },
   {
    "duration": 0,
    "start_time": "2024-11-25T10:45:48.732Z"
   },
   {
    "duration": 0,
    "start_time": "2024-11-25T10:45:48.733Z"
   },
   {
    "duration": 0,
    "start_time": "2024-11-25T10:45:48.734Z"
   },
   {
    "duration": 0,
    "start_time": "2024-11-25T10:45:48.735Z"
   },
   {
    "duration": 0,
    "start_time": "2024-11-25T10:45:48.736Z"
   },
   {
    "duration": 0,
    "start_time": "2024-11-25T10:45:48.737Z"
   },
   {
    "duration": 0,
    "start_time": "2024-11-25T10:45:48.801Z"
   },
   {
    "duration": 0,
    "start_time": "2024-11-25T10:45:48.805Z"
   },
   {
    "duration": 0,
    "start_time": "2024-11-25T10:45:48.814Z"
   },
   {
    "duration": 0,
    "start_time": "2024-11-25T10:45:48.816Z"
   },
   {
    "duration": 0,
    "start_time": "2024-11-25T10:45:48.817Z"
   },
   {
    "duration": 0,
    "start_time": "2024-11-25T10:45:48.818Z"
   },
   {
    "duration": 0,
    "start_time": "2024-11-25T10:45:48.820Z"
   },
   {
    "duration": 0,
    "start_time": "2024-11-25T10:45:48.821Z"
   },
   {
    "duration": 0,
    "start_time": "2024-11-25T10:45:48.822Z"
   },
   {
    "duration": 0,
    "start_time": "2024-11-25T10:45:48.824Z"
   },
   {
    "duration": 0,
    "start_time": "2024-11-25T10:45:48.825Z"
   },
   {
    "duration": 0,
    "start_time": "2024-11-25T10:45:48.826Z"
   },
   {
    "duration": 0,
    "start_time": "2024-11-25T10:45:48.827Z"
   },
   {
    "duration": 0,
    "start_time": "2024-11-25T10:45:48.828Z"
   },
   {
    "duration": 0,
    "start_time": "2024-11-25T10:45:48.830Z"
   },
   {
    "duration": 0,
    "start_time": "2024-11-25T10:45:48.831Z"
   },
   {
    "duration": 0,
    "start_time": "2024-11-25T10:45:48.832Z"
   },
   {
    "duration": 0,
    "start_time": "2024-11-25T10:45:48.834Z"
   },
   {
    "duration": 0,
    "start_time": "2024-11-25T10:45:48.835Z"
   },
   {
    "duration": 1038,
    "start_time": "2024-11-25T10:46:07.479Z"
   },
   {
    "duration": 97,
    "start_time": "2024-11-25T10:46:24.119Z"
   },
   {
    "duration": 3,
    "start_time": "2024-11-25T10:46:30.843Z"
   },
   {
    "duration": 13,
    "start_time": "2024-11-25T10:46:36.227Z"
   },
   {
    "duration": 14,
    "start_time": "2024-11-25T10:46:52.142Z"
   },
   {
    "duration": 12,
    "start_time": "2024-11-25T10:46:56.990Z"
   },
   {
    "duration": 10,
    "start_time": "2024-11-25T10:47:21.648Z"
   },
   {
    "duration": 1057,
    "start_time": "2024-11-25T10:47:37.758Z"
   },
   {
    "duration": 472,
    "start_time": "2024-11-25T10:48:02.135Z"
   },
   {
    "duration": 90,
    "start_time": "2024-11-25T10:48:02.609Z"
   },
   {
    "duration": 3,
    "start_time": "2024-11-25T10:48:02.700Z"
   },
   {
    "duration": 54,
    "start_time": "2024-11-25T10:48:02.704Z"
   },
   {
    "duration": 61,
    "start_time": "2024-11-25T10:48:02.760Z"
   },
   {
    "duration": 253,
    "start_time": "2024-11-25T10:48:02.823Z"
   },
   {
    "duration": 0,
    "start_time": "2024-11-25T10:48:03.080Z"
   },
   {
    "duration": 0,
    "start_time": "2024-11-25T10:48:03.081Z"
   },
   {
    "duration": 0,
    "start_time": "2024-11-25T10:48:03.082Z"
   },
   {
    "duration": 0,
    "start_time": "2024-11-25T10:48:03.083Z"
   },
   {
    "duration": 0,
    "start_time": "2024-11-25T10:48:03.084Z"
   },
   {
    "duration": 0,
    "start_time": "2024-11-25T10:48:03.085Z"
   },
   {
    "duration": 0,
    "start_time": "2024-11-25T10:48:03.086Z"
   },
   {
    "duration": 0,
    "start_time": "2024-11-25T10:48:03.100Z"
   },
   {
    "duration": 0,
    "start_time": "2024-11-25T10:48:03.101Z"
   },
   {
    "duration": 0,
    "start_time": "2024-11-25T10:48:03.102Z"
   },
   {
    "duration": 0,
    "start_time": "2024-11-25T10:48:03.103Z"
   },
   {
    "duration": 0,
    "start_time": "2024-11-25T10:48:03.104Z"
   },
   {
    "duration": 0,
    "start_time": "2024-11-25T10:48:03.105Z"
   },
   {
    "duration": 0,
    "start_time": "2024-11-25T10:48:03.106Z"
   },
   {
    "duration": 0,
    "start_time": "2024-11-25T10:48:03.107Z"
   },
   {
    "duration": 0,
    "start_time": "2024-11-25T10:48:03.107Z"
   },
   {
    "duration": 0,
    "start_time": "2024-11-25T10:48:03.108Z"
   },
   {
    "duration": 0,
    "start_time": "2024-11-25T10:48:03.109Z"
   },
   {
    "duration": 0,
    "start_time": "2024-11-25T10:48:03.110Z"
   },
   {
    "duration": 0,
    "start_time": "2024-11-25T10:48:03.111Z"
   },
   {
    "duration": 0,
    "start_time": "2024-11-25T10:48:03.112Z"
   },
   {
    "duration": 0,
    "start_time": "2024-11-25T10:48:03.113Z"
   },
   {
    "duration": 0,
    "start_time": "2024-11-25T10:48:03.114Z"
   },
   {
    "duration": 0,
    "start_time": "2024-11-25T10:48:03.115Z"
   },
   {
    "duration": 0,
    "start_time": "2024-11-25T10:48:03.116Z"
   },
   {
    "duration": 0,
    "start_time": "2024-11-25T10:48:03.117Z"
   },
   {
    "duration": 0,
    "start_time": "2024-11-25T10:48:03.117Z"
   },
   {
    "duration": 0,
    "start_time": "2024-11-25T10:48:03.119Z"
   },
   {
    "duration": 0,
    "start_time": "2024-11-25T10:48:03.119Z"
   },
   {
    "duration": 0,
    "start_time": "2024-11-25T10:48:03.120Z"
   },
   {
    "duration": 0,
    "start_time": "2024-11-25T10:48:03.121Z"
   },
   {
    "duration": 0,
    "start_time": "2024-11-25T10:48:03.122Z"
   },
   {
    "duration": 0,
    "start_time": "2024-11-25T10:48:03.123Z"
   },
   {
    "duration": 0,
    "start_time": "2024-11-25T10:48:03.124Z"
   },
   {
    "duration": 0,
    "start_time": "2024-11-25T10:48:03.125Z"
   },
   {
    "duration": 0,
    "start_time": "2024-11-25T10:48:03.126Z"
   },
   {
    "duration": 0,
    "start_time": "2024-11-25T10:48:03.126Z"
   },
   {
    "duration": 0,
    "start_time": "2024-11-25T10:48:03.127Z"
   },
   {
    "duration": 0,
    "start_time": "2024-11-25T10:48:03.128Z"
   },
   {
    "duration": 0,
    "start_time": "2024-11-25T10:48:03.129Z"
   },
   {
    "duration": 0,
    "start_time": "2024-11-25T10:48:03.130Z"
   },
   {
    "duration": 0,
    "start_time": "2024-11-25T10:48:03.131Z"
   },
   {
    "duration": 0,
    "start_time": "2024-11-25T10:48:03.132Z"
   },
   {
    "duration": 0,
    "start_time": "2024-11-25T10:48:03.133Z"
   },
   {
    "duration": 0,
    "start_time": "2024-11-25T10:48:03.134Z"
   },
   {
    "duration": 0,
    "start_time": "2024-11-25T10:48:03.136Z"
   },
   {
    "duration": 0,
    "start_time": "2024-11-25T10:48:03.137Z"
   },
   {
    "duration": 0,
    "start_time": "2024-11-25T10:48:03.201Z"
   },
   {
    "duration": 0,
    "start_time": "2024-11-25T10:48:03.203Z"
   },
   {
    "duration": 0,
    "start_time": "2024-11-25T10:48:03.204Z"
   },
   {
    "duration": 0,
    "start_time": "2024-11-25T10:48:03.205Z"
   },
   {
    "duration": 0,
    "start_time": "2024-11-25T10:48:03.206Z"
   },
   {
    "duration": 0,
    "start_time": "2024-11-25T10:48:03.207Z"
   },
   {
    "duration": 0,
    "start_time": "2024-11-25T10:48:03.208Z"
   },
   {
    "duration": 0,
    "start_time": "2024-11-25T10:48:03.209Z"
   },
   {
    "duration": 0,
    "start_time": "2024-11-25T10:48:03.210Z"
   },
   {
    "duration": 0,
    "start_time": "2024-11-25T10:48:03.211Z"
   },
   {
    "duration": 0,
    "start_time": "2024-11-25T10:48:03.212Z"
   },
   {
    "duration": 0,
    "start_time": "2024-11-25T10:48:03.213Z"
   },
   {
    "duration": 0,
    "start_time": "2024-11-25T10:48:03.214Z"
   },
   {
    "duration": 0,
    "start_time": "2024-11-25T10:48:03.215Z"
   },
   {
    "duration": 0,
    "start_time": "2024-11-25T10:48:03.216Z"
   },
   {
    "duration": 0,
    "start_time": "2024-11-25T10:48:03.217Z"
   },
   {
    "duration": 0,
    "start_time": "2024-11-25T10:48:03.218Z"
   },
   {
    "duration": 0,
    "start_time": "2024-11-25T10:48:03.219Z"
   },
   {
    "duration": 0,
    "start_time": "2024-11-25T10:48:03.220Z"
   },
   {
    "duration": 0,
    "start_time": "2024-11-25T10:48:03.221Z"
   },
   {
    "duration": 0,
    "start_time": "2024-11-25T10:48:03.222Z"
   },
   {
    "duration": 0,
    "start_time": "2024-11-25T10:48:03.223Z"
   },
   {
    "duration": 0,
    "start_time": "2024-11-25T10:48:03.224Z"
   },
   {
    "duration": 0,
    "start_time": "2024-11-25T10:48:03.225Z"
   },
   {
    "duration": 0,
    "start_time": "2024-11-25T10:48:03.226Z"
   },
   {
    "duration": 0,
    "start_time": "2024-11-25T10:48:03.227Z"
   },
   {
    "duration": 0,
    "start_time": "2024-11-25T10:48:03.228Z"
   },
   {
    "duration": 0,
    "start_time": "2024-11-25T10:48:03.229Z"
   },
   {
    "duration": 0,
    "start_time": "2024-11-25T10:48:03.230Z"
   },
   {
    "duration": 0,
    "start_time": "2024-11-25T10:48:03.231Z"
   },
   {
    "duration": 0,
    "start_time": "2024-11-25T10:48:03.232Z"
   },
   {
    "duration": 0,
    "start_time": "2024-11-25T10:48:03.233Z"
   },
   {
    "duration": 0,
    "start_time": "2024-11-25T10:48:03.235Z"
   },
   {
    "duration": 0,
    "start_time": "2024-11-25T10:48:03.236Z"
   },
   {
    "duration": 0,
    "start_time": "2024-11-25T10:48:03.237Z"
   },
   {
    "duration": 0,
    "start_time": "2024-11-25T10:48:03.238Z"
   },
   {
    "duration": 0,
    "start_time": "2024-11-25T10:48:03.300Z"
   },
   {
    "duration": 0,
    "start_time": "2024-11-25T10:48:03.301Z"
   },
   {
    "duration": 0,
    "start_time": "2024-11-25T10:48:03.302Z"
   },
   {
    "duration": 0,
    "start_time": "2024-11-25T10:48:03.303Z"
   },
   {
    "duration": 0,
    "start_time": "2024-11-25T10:48:03.304Z"
   },
   {
    "duration": 0,
    "start_time": "2024-11-25T10:48:03.305Z"
   },
   {
    "duration": 0,
    "start_time": "2024-11-25T10:48:03.306Z"
   },
   {
    "duration": 0,
    "start_time": "2024-11-25T10:48:03.307Z"
   },
   {
    "duration": 0,
    "start_time": "2024-11-25T10:48:03.308Z"
   },
   {
    "duration": 0,
    "start_time": "2024-11-25T10:48:03.309Z"
   },
   {
    "duration": 0,
    "start_time": "2024-11-25T10:48:03.310Z"
   },
   {
    "duration": 0,
    "start_time": "2024-11-25T10:48:03.310Z"
   },
   {
    "duration": 0,
    "start_time": "2024-11-25T10:48:03.312Z"
   },
   {
    "duration": 0,
    "start_time": "2024-11-25T10:48:03.312Z"
   },
   {
    "duration": 0,
    "start_time": "2024-11-25T10:48:03.313Z"
   },
   {
    "duration": 0,
    "start_time": "2024-11-25T10:48:03.314Z"
   },
   {
    "duration": 0,
    "start_time": "2024-11-25T10:48:03.315Z"
   },
   {
    "duration": 8,
    "start_time": "2024-11-25T10:48:10.806Z"
   },
   {
    "duration": 8,
    "start_time": "2024-11-25T11:04:58.755Z"
   }
  ],
  "colab": {
   "provenance": []
  },
  "kernelspec": {
   "display_name": "base",
   "language": "python",
   "name": "python3"
  },
  "language_info": {
   "codemirror_mode": {
    "name": "ipython",
    "version": 3
   },
   "file_extension": ".py",
   "mimetype": "text/x-python",
   "name": "python",
   "nbconvert_exporter": "python",
   "pygments_lexer": "ipython3",
   "version": "3.12.4"
  },
  "toc": {
   "base_numbering": 1,
   "nav_menu": {},
   "number_sections": true,
   "sideBar": true,
   "skip_h1_title": true,
   "title_cell": "Table of Contents",
   "title_sidebar": "Contents",
   "toc_cell": false,
   "toc_position": {},
   "toc_section_display": true,
   "toc_window_display": false
  }
 },
 "nbformat": 4,
 "nbformat_minor": 1
}
