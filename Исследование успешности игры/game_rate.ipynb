{
 "cells": [
  {
   "cell_type": "markdown",
   "metadata": {},
   "source": [
    "# Сборный проект по определению закономерностей успешности компьютерных игр"
   ]
  },
  {
   "cell_type": "markdown",
   "metadata": {},
   "source": [
    "**Описание проекта:**\\\n",
    "Вы работаете в интернет-магазине «Стримчик», который продаёт по всему миру компьютерные игры. Из открытых источников доступны исторические данные о продажах игр, оценки пользователей и экспертов, жанры и платформы (например, Xbox или PlayStation). Вам нужно выявить определяющие успешность игры закономерности. Это позволит сделать ставку на потенциально популярный продукт и спланировать рекламные кампании.\n",
    "Перед вами данные до 2016 года. Представим, что сейчас декабрь 2016 г., и вы планируете кампанию на 2017-й. Нужно отработать принцип работы с данными. Неважно, прогнозируете ли вы продажи на 2017 год по данным 2016-го или же 2027-й — по данным 2026 года.\n",
    "В наборе данных попадается аббревиатура ESRB (Entertainment Software Rating Board) — это ассоциация, определяющая возрастной рейтинг компьютерных игр. ESRB оценивает игровой контент и присваивает ему подходящую возрастную категорию, например, «Для взрослых», «Для детей младшего возраста» или «Для подростков».\n",
    "\n",
    "**Цель проекта:**\\\n",
    "Выявить определяющие успешность игры закономерности. \n",
    "\n",
    "**Описание данных:**\\\n",
    "Name — название игры\\\n",
    "Platform — платформа\\\n",
    "Year_of_Release — год выпуска\\\n",
    "Genre — жанр игры\\\n",
    "NA_sales — продажи в Северной Америке (миллионы проданных копий)\\\n",
    "EU_sales — продажи в Европе (миллионы проданных копий)\\\n",
    "JP_sales — продажи в Японии (миллионы проданных копий)\\\n",
    "Other_sales — продажи в других странах (миллионы проданных копий)\\\n",
    "Critic_Score — оценка критиков (максимум 100)\\\n",
    "User_Score — оценка пользователей (максимум 10)\\\n",
    "Rating — рейтинг от организации ESRB (англ. Entertainment Software Rating Board). Эта ассоциация определяет рейтинг компьютерных игр и присваивает им подходящую возрастную категорию.\\\n",
    "Данные за 2016 год могут быть неполными.\n",
    "\n",
    "**План исследования:**\n",
    "1. Открытие файла с данными и изучение общей информации.\n",
    "2. Подготовка данных.\n",
    "3. Проведение исследовательского анализа данных.\n",
    "4. Составление портрета пользователя каждого региона.\n",
    "5. Проверка гипотезы.\n",
    "6. Общий вывод."
   ]
  },
  {
   "cell_type": "markdown",
   "metadata": {},
   "source": [
    "#### Загружаем данные из csv-файла в датафреймы c помощью библиотеки pandas"
   ]
  },
  {
   "cell_type": "code",
   "execution_count": 1,
   "metadata": {},
   "outputs": [],
   "source": [
    "import pandas as pd\n",
    "import matplotlib.pyplot as plt\n",
    "import numpy as np \n",
    "from scipy import stats as st\n",
    "from scipy.stats import binom"
   ]
  },
  {
   "cell_type": "markdown",
   "metadata": {},
   "source": [
    "#### Шаг 1. Открытие файла с данными и изучение общей информации."
   ]
  },
  {
   "cell_type": "markdown",
   "metadata": {},
   "source": [
    "1.1 Считываем CSV-файлы с данными с помощью библиотеки pandas и сохраняем их в датафреймы."
   ]
  },
  {
   "cell_type": "code",
   "execution_count": 2,
   "metadata": {},
   "outputs": [],
   "source": [
    "try:\n",
    "    data = pd.read_csv('/datasets/games.csv')\n",
    "except:\n",
    "    data = pd.read_csv('https://code.s3.yandex.net/datasets/games.csv')"
   ]
  },
  {
   "cell_type": "markdown",
   "metadata": {},
   "source": [
    "1.2 Выводим первые строки набора данных. Изучаем общую информацию о датафрейме."
   ]
  },
  {
   "cell_type": "code",
   "execution_count": 3,
   "metadata": {},
   "outputs": [
    {
     "data": {
      "text/html": [
       "<div>\n",
       "<style scoped>\n",
       "    .dataframe tbody tr th:only-of-type {\n",
       "        vertical-align: middle;\n",
       "    }\n",
       "\n",
       "    .dataframe tbody tr th {\n",
       "        vertical-align: top;\n",
       "    }\n",
       "\n",
       "    .dataframe thead th {\n",
       "        text-align: right;\n",
       "    }\n",
       "</style>\n",
       "<table border=\"1\" class=\"dataframe\">\n",
       "  <thead>\n",
       "    <tr style=\"text-align: right;\">\n",
       "      <th></th>\n",
       "      <th>Name</th>\n",
       "      <th>Platform</th>\n",
       "      <th>Year_of_Release</th>\n",
       "      <th>Genre</th>\n",
       "      <th>NA_sales</th>\n",
       "      <th>EU_sales</th>\n",
       "      <th>JP_sales</th>\n",
       "      <th>Other_sales</th>\n",
       "      <th>Critic_Score</th>\n",
       "      <th>User_Score</th>\n",
       "      <th>Rating</th>\n",
       "    </tr>\n",
       "  </thead>\n",
       "  <tbody>\n",
       "    <tr>\n",
       "      <th>0</th>\n",
       "      <td>Wii Sports</td>\n",
       "      <td>Wii</td>\n",
       "      <td>2006.0</td>\n",
       "      <td>Sports</td>\n",
       "      <td>41.36</td>\n",
       "      <td>28.96</td>\n",
       "      <td>3.77</td>\n",
       "      <td>8.45</td>\n",
       "      <td>76.0</td>\n",
       "      <td>8</td>\n",
       "      <td>E</td>\n",
       "    </tr>\n",
       "    <tr>\n",
       "      <th>1</th>\n",
       "      <td>Super Mario Bros.</td>\n",
       "      <td>NES</td>\n",
       "      <td>1985.0</td>\n",
       "      <td>Platform</td>\n",
       "      <td>29.08</td>\n",
       "      <td>3.58</td>\n",
       "      <td>6.81</td>\n",
       "      <td>0.77</td>\n",
       "      <td>NaN</td>\n",
       "      <td>NaN</td>\n",
       "      <td>NaN</td>\n",
       "    </tr>\n",
       "    <tr>\n",
       "      <th>2</th>\n",
       "      <td>Mario Kart Wii</td>\n",
       "      <td>Wii</td>\n",
       "      <td>2008.0</td>\n",
       "      <td>Racing</td>\n",
       "      <td>15.68</td>\n",
       "      <td>12.76</td>\n",
       "      <td>3.79</td>\n",
       "      <td>3.29</td>\n",
       "      <td>82.0</td>\n",
       "      <td>8.3</td>\n",
       "      <td>E</td>\n",
       "    </tr>\n",
       "    <tr>\n",
       "      <th>3</th>\n",
       "      <td>Wii Sports Resort</td>\n",
       "      <td>Wii</td>\n",
       "      <td>2009.0</td>\n",
       "      <td>Sports</td>\n",
       "      <td>15.61</td>\n",
       "      <td>10.93</td>\n",
       "      <td>3.28</td>\n",
       "      <td>2.95</td>\n",
       "      <td>80.0</td>\n",
       "      <td>8</td>\n",
       "      <td>E</td>\n",
       "    </tr>\n",
       "    <tr>\n",
       "      <th>4</th>\n",
       "      <td>Pokemon Red/Pokemon Blue</td>\n",
       "      <td>GB</td>\n",
       "      <td>1996.0</td>\n",
       "      <td>Role-Playing</td>\n",
       "      <td>11.27</td>\n",
       "      <td>8.89</td>\n",
       "      <td>10.22</td>\n",
       "      <td>1.00</td>\n",
       "      <td>NaN</td>\n",
       "      <td>NaN</td>\n",
       "      <td>NaN</td>\n",
       "    </tr>\n",
       "  </tbody>\n",
       "</table>\n",
       "</div>"
      ],
      "text/plain": [
       "                       Name Platform  Year_of_Release         Genre  NA_sales  \\\n",
       "0                Wii Sports      Wii           2006.0        Sports     41.36   \n",
       "1         Super Mario Bros.      NES           1985.0      Platform     29.08   \n",
       "2            Mario Kart Wii      Wii           2008.0        Racing     15.68   \n",
       "3         Wii Sports Resort      Wii           2009.0        Sports     15.61   \n",
       "4  Pokemon Red/Pokemon Blue       GB           1996.0  Role-Playing     11.27   \n",
       "\n",
       "   EU_sales  JP_sales  Other_sales  Critic_Score User_Score Rating  \n",
       "0     28.96      3.77         8.45          76.0          8      E  \n",
       "1      3.58      6.81         0.77           NaN        NaN    NaN  \n",
       "2     12.76      3.79         3.29          82.0        8.3      E  \n",
       "3     10.93      3.28         2.95          80.0          8      E  \n",
       "4      8.89     10.22         1.00           NaN        NaN    NaN  "
      ]
     },
     "execution_count": 3,
     "metadata": {},
     "output_type": "execute_result"
    }
   ],
   "source": [
    "# выводим первые строки датафрейма на экран:\n",
    "data.head()"
   ]
  },
  {
   "cell_type": "code",
   "execution_count": 4,
   "metadata": {},
   "outputs": [
    {
     "name": "stdout",
     "output_type": "stream",
     "text": [
      "<class 'pandas.core.frame.DataFrame'>\n",
      "RangeIndex: 16715 entries, 0 to 16714\n",
      "Data columns (total 11 columns):\n",
      " #   Column           Non-Null Count  Dtype  \n",
      "---  ------           --------------  -----  \n",
      " 0   Name             16713 non-null  object \n",
      " 1   Platform         16715 non-null  object \n",
      " 2   Year_of_Release  16446 non-null  float64\n",
      " 3   Genre            16713 non-null  object \n",
      " 4   NA_sales         16715 non-null  float64\n",
      " 5   EU_sales         16715 non-null  float64\n",
      " 6   JP_sales         16715 non-null  float64\n",
      " 7   Other_sales      16715 non-null  float64\n",
      " 8   Critic_Score     8137 non-null   float64\n",
      " 9   User_Score       10014 non-null  object \n",
      " 10  Rating           9949 non-null   object \n",
      "dtypes: float64(6), object(5)\n",
      "memory usage: 1.4+ MB\n"
     ]
    }
   ],
   "source": [
    "# выводим основную информацию о датафрейме:\n",
    "data.info()"
   ]
  },
  {
   "cell_type": "code",
   "execution_count": 5,
   "metadata": {},
   "outputs": [
    {
     "data": {
      "text/plain": [
       "Name                  2\n",
       "Platform              0\n",
       "Year_of_Release     269\n",
       "Genre                 2\n",
       "NA_sales              0\n",
       "EU_sales              0\n",
       "JP_sales              0\n",
       "Other_sales           0\n",
       "Critic_Score       8578\n",
       "User_Score         6701\n",
       "Rating             6766\n",
       "dtype: int64"
      ]
     },
     "execution_count": 5,
     "metadata": {},
     "output_type": "execute_result"
    }
   ],
   "source": [
    "# проверяем наличие пропущенных значений в датафрейме:\n",
    "data.isna().sum()"
   ]
  },
  {
   "cell_type": "markdown",
   "metadata": {},
   "source": [
    "**Вывод:**\\\n",
    "В датафрейме data 16 715 записей.\\\n",
    "В данных имеются следующие пропуски: 2 пропуска в столбце Name, 269 пропусков в столбце Year_of_Release, 8578 пропусков в столбце Critic_Score, 6701 пропусков в столбце User_Score, 6766 пропусков в столбце Rating.\\\n",
    "Названия столбцов являются некорректными, их необходимо будет привести к нижнему регистру.\\\n",
    "Типы данных в столбцах Year_of_Release, User_Score не соответствуют содержащимся в них данным.  "
   ]
  },
  {
   "cell_type": "markdown",
   "metadata": {},
   "source": [
    "#### Шаг 2. Подготовка данных."
   ]
  },
  {
   "cell_type": "markdown",
   "metadata": {},
   "source": [
    "2.1 Замена названий столбцов (приведение к нижнему регистру)."
   ]
  },
  {
   "cell_type": "code",
   "execution_count": 6,
   "metadata": {},
   "outputs": [],
   "source": [
    "# приведение названий столбцов к нижнему регистру:\n",
    "data.columns = data.columns.str.lower()"
   ]
  },
  {
   "cell_type": "code",
   "execution_count": 7,
   "metadata": {},
   "outputs": [
    {
     "name": "stdout",
     "output_type": "stream",
     "text": [
      "<class 'pandas.core.frame.DataFrame'>\n",
      "RangeIndex: 16715 entries, 0 to 16714\n",
      "Data columns (total 11 columns):\n",
      " #   Column           Non-Null Count  Dtype  \n",
      "---  ------           --------------  -----  \n",
      " 0   name             16713 non-null  object \n",
      " 1   platform         16715 non-null  object \n",
      " 2   year_of_release  16446 non-null  float64\n",
      " 3   genre            16713 non-null  object \n",
      " 4   na_sales         16715 non-null  float64\n",
      " 5   eu_sales         16715 non-null  float64\n",
      " 6   jp_sales         16715 non-null  float64\n",
      " 7   other_sales      16715 non-null  float64\n",
      " 8   critic_score     8137 non-null   float64\n",
      " 9   user_score       10014 non-null  object \n",
      " 10  rating           9949 non-null   object \n",
      "dtypes: float64(6), object(5)\n",
      "memory usage: 1.4+ MB\n"
     ]
    }
   ],
   "source": [
    "# проверяем названия столбцов:\n",
    "data.info()"
   ]
  },
  {
   "cell_type": "markdown",
   "metadata": {},
   "source": [
    "2.2 Преобразование данных в нужные типы. Описание, в каких столбцах заменили тип данных и почему."
   ]
  },
  {
   "cell_type": "code",
   "execution_count": 8,
   "metadata": {},
   "outputs": [
    {
     "data": {
      "text/plain": [
       "array([2006., 1985., 2008., 2009., 1996., 1989., 1984., 2005., 1999.,\n",
       "       2007., 2010., 2013., 2004., 1990., 1988., 2002., 2001., 2011.,\n",
       "       1998., 2015., 2012., 2014., 1992., 1997., 1993., 1994., 1982.,\n",
       "       2016., 2003., 1986., 2000.,   nan, 1995., 1991., 1981., 1987.,\n",
       "       1980., 1983.])"
      ]
     },
     "execution_count": 8,
     "metadata": {},
     "output_type": "execute_result"
    }
   ],
   "source": [
    "# просмотрим уникальные значения столбца year_of_release:\n",
    "data['year_of_release'].unique()"
   ]
  },
  {
   "cell_type": "code",
   "execution_count": 9,
   "metadata": {},
   "outputs": [],
   "source": [
    "# удаляем строки с пропущенными значениями в столбце year_of_release:\n",
    "data = data.dropna(subset=['year_of_release'])"
   ]
  },
  {
   "cell_type": "code",
   "execution_count": 10,
   "metadata": {},
   "outputs": [],
   "source": [
    "# приводим значения к целому числу:\n",
    "data['year_of_release'] = data['year_of_release'].astype('int32')"
   ]
  },
  {
   "cell_type": "code",
   "execution_count": 11,
   "metadata": {},
   "outputs": [
    {
     "data": {
      "text/plain": [
       "array(['8', nan, '8.3', '8.5', '6.6', '8.4', '8.6', '7.7', '6.3', '7.4',\n",
       "       '8.2', '9', '7.9', '8.1', '8.7', '7.1', '3.4', '5.3', '4.8', '3.2',\n",
       "       '8.9', '6.4', '7.8', '7.5', '2.6', '7.2', '9.2', '7', '7.3', '4.3',\n",
       "       '7.6', '5.7', '5', '9.1', '6.5', 'tbd', '8.8', '6.9', '9.4', '6.8',\n",
       "       '6.1', '6.7', '5.4', '4', '4.9', '4.5', '9.3', '6.2', '4.2', '6',\n",
       "       '3.7', '4.1', '5.8', '5.6', '5.5', '4.4', '4.6', '5.9', '3.9',\n",
       "       '3.1', '2.9', '5.2', '3.3', '4.7', '5.1', '3.5', '2.5', '1.9', '3',\n",
       "       '2.7', '2.2', '2', '9.5', '2.1', '3.6', '2.8', '1.8', '3.8', '0',\n",
       "       '1.6', '9.6', '2.4', '1.7', '1.1', '0.3', '1.5', '0.7', '1.2',\n",
       "       '2.3', '0.5', '1.3', '0.2', '0.6', '1.4', '0.9', '1', '9.7'],\n",
       "      dtype=object)"
      ]
     },
     "execution_count": 11,
     "metadata": {},
     "output_type": "execute_result"
    }
   ],
   "source": [
    "# просмотрим уникальные значения столбца user_score:\n",
    "data['user_score'].unique()"
   ]
  },
  {
   "cell_type": "markdown",
   "metadata": {},
   "source": [
    "tbd, встречающееся в столбце, означает — To Be Determined, т.е. \"Будет определено\", т.е. неизвестное значение, которое фактически является NaN. Поскольку среди оценок есть 0, заменяем в столбце user_score NaN и tbd на -1 и меняем тип данных на число с плавающей точкой."
   ]
  },
  {
   "cell_type": "code",
   "execution_count": 12,
   "metadata": {},
   "outputs": [],
   "source": [
    "data['user_score'] = data['user_score'].replace('tbd', -1)\\\n",
    "                                       .fillna(-1)\\\n",
    "                                       .astype('float')"
   ]
  },
  {
   "cell_type": "code",
   "execution_count": 13,
   "metadata": {},
   "outputs": [
    {
     "data": {
      "text/plain": [
       "array([ 8. , -1. ,  8.3,  8.5,  6.6,  8.4,  8.6,  7.7,  6.3,  7.4,  8.2,\n",
       "        9. ,  7.9,  8.1,  8.7,  7.1,  3.4,  5.3,  4.8,  3.2,  8.9,  6.4,\n",
       "        7.8,  7.5,  2.6,  7.2,  9.2,  7. ,  7.3,  4.3,  7.6,  5.7,  5. ,\n",
       "        9.1,  6.5,  8.8,  6.9,  9.4,  6.8,  6.1,  6.7,  5.4,  4. ,  4.9,\n",
       "        4.5,  9.3,  6.2,  4.2,  6. ,  3.7,  4.1,  5.8,  5.6,  5.5,  4.4,\n",
       "        4.6,  5.9,  3.9,  3.1,  2.9,  5.2,  3.3,  4.7,  5.1,  3.5,  2.5,\n",
       "        1.9,  3. ,  2.7,  2.2,  2. ,  9.5,  2.1,  3.6,  2.8,  1.8,  3.8,\n",
       "        0. ,  1.6,  9.6,  2.4,  1.7,  1.1,  0.3,  1.5,  0.7,  1.2,  2.3,\n",
       "        0.5,  1.3,  0.2,  0.6,  1.4,  0.9,  1. ,  9.7])"
      ]
     },
     "execution_count": 13,
     "metadata": {},
     "output_type": "execute_result"
    }
   ],
   "source": [
    "# проверяем уникальные значения столбца user_score:\n",
    "data['user_score'].unique()"
   ]
  },
  {
   "cell_type": "code",
   "execution_count": 14,
   "metadata": {},
   "outputs": [
    {
     "name": "stdout",
     "output_type": "stream",
     "text": [
      "<class 'pandas.core.frame.DataFrame'>\n",
      "Int64Index: 16446 entries, 0 to 16714\n",
      "Data columns (total 11 columns):\n",
      " #   Column           Non-Null Count  Dtype  \n",
      "---  ------           --------------  -----  \n",
      " 0   name             16444 non-null  object \n",
      " 1   platform         16446 non-null  object \n",
      " 2   year_of_release  16446 non-null  int32  \n",
      " 3   genre            16444 non-null  object \n",
      " 4   na_sales         16446 non-null  float64\n",
      " 5   eu_sales         16446 non-null  float64\n",
      " 6   jp_sales         16446 non-null  float64\n",
      " 7   other_sales      16446 non-null  float64\n",
      " 8   critic_score     7983 non-null   float64\n",
      " 9   user_score       16446 non-null  float64\n",
      " 10  rating           9768 non-null   object \n",
      "dtypes: float64(6), int32(1), object(4)\n",
      "memory usage: 1.4+ MB\n"
     ]
    }
   ],
   "source": [
    "# проверяем типы данных:\n",
    "data.info()"
   ]
  },
  {
   "cell_type": "markdown",
   "metadata": {},
   "source": [
    "2.3 Обработка пропусков"
   ]
  },
  {
   "cell_type": "code",
   "execution_count": 15,
   "metadata": {},
   "outputs": [
    {
     "data": {
      "text/plain": [
       "name                  2\n",
       "platform              0\n",
       "year_of_release       0\n",
       "genre                 2\n",
       "na_sales              0\n",
       "eu_sales              0\n",
       "jp_sales              0\n",
       "other_sales           0\n",
       "critic_score       8463\n",
       "user_score            0\n",
       "rating             6678\n",
       "dtype: int64"
      ]
     },
     "execution_count": 15,
     "metadata": {},
     "output_type": "execute_result"
    }
   ],
   "source": [
    "# просмотрим пропущенные значения в датафрейме:\n",
    "data.isna().sum()"
   ]
  },
  {
   "cell_type": "code",
   "execution_count": 16,
   "metadata": {},
   "outputs": [
    {
     "data": {
      "text/plain": [
       "array(['Wii Sports', 'Super Mario Bros.', 'Mario Kart Wii', ...,\n",
       "       'Woody Woodpecker in Crazy Castle 5', 'LMA Manager 2007',\n",
       "       'Haitaka no Psychedelica'], dtype=object)"
      ]
     },
     "execution_count": 16,
     "metadata": {},
     "output_type": "execute_result"
    }
   ],
   "source": [
    "# просмотрим уникальные значения столбца name:\n",
    "data['name'].unique()"
   ]
  },
  {
   "cell_type": "code",
   "execution_count": 17,
   "metadata": {},
   "outputs": [],
   "source": [
    "# удаляем строки с пропущенными значениями в столбце name:\n",
    "data = data.dropna(subset=['name'])"
   ]
  },
  {
   "cell_type": "code",
   "execution_count": 18,
   "metadata": {},
   "outputs": [
    {
     "data": {
      "text/plain": [
       "array(['Sports', 'Platform', 'Racing', 'Role-Playing', 'Puzzle', 'Misc',\n",
       "       'Shooter', 'Simulation', 'Action', 'Fighting', 'Adventure',\n",
       "       'Strategy'], dtype=object)"
      ]
     },
     "execution_count": 18,
     "metadata": {},
     "output_type": "execute_result"
    }
   ],
   "source": [
    "# просмотрим уникальные значения столбца genre:\n",
    "data['genre'].unique()"
   ]
  },
  {
   "cell_type": "code",
   "execution_count": 19,
   "metadata": {},
   "outputs": [
    {
     "data": {
      "text/plain": [
       "array([76., nan, 82., 80., 89., 58., 87., 91., 61., 97., 95., 77., 88.,\n",
       "       83., 94., 93., 85., 86., 98., 96., 90., 84., 73., 74., 78., 92.,\n",
       "       71., 72., 68., 62., 49., 67., 81., 66., 56., 79., 70., 59., 64.,\n",
       "       75., 60., 63., 69., 50., 25., 42., 44., 55., 48., 57., 29., 47.,\n",
       "       65., 54., 20., 53., 37., 38., 33., 52., 30., 32., 43., 45., 51.,\n",
       "       40., 46., 39., 34., 41., 36., 31., 27., 35., 26., 19., 28., 23.,\n",
       "       24., 21., 17., 13.])"
      ]
     },
     "execution_count": 19,
     "metadata": {},
     "output_type": "execute_result"
    }
   ],
   "source": [
    "# просмотрим уникальные значения столбца critic_score:\n",
    "data['critic_score'].unique()"
   ]
  },
  {
   "cell_type": "code",
   "execution_count": 20,
   "metadata": {},
   "outputs": [],
   "source": [
    "# заменяем NaN на 0:\n",
    "data['critic_score'] = data['critic_score'].fillna(-1)"
   ]
  },
  {
   "cell_type": "code",
   "execution_count": 21,
   "metadata": {},
   "outputs": [
    {
     "data": {
      "text/plain": [
       "array(['E', nan, 'M', 'T', 'E10+', 'K-A', 'AO', 'EC', 'RP'], dtype=object)"
      ]
     },
     "execution_count": 21,
     "metadata": {},
     "output_type": "execute_result"
    }
   ],
   "source": [
    "# просмотрим уникальные значения столбца critic_score:\n",
    "data['rating'].unique()"
   ]
  },
  {
   "cell_type": "code",
   "execution_count": 22,
   "metadata": {},
   "outputs": [
    {
     "data": {
      "text/plain": [
       "E       3921\n",
       "T       2905\n",
       "M       1536\n",
       "E10+    1393\n",
       "EC         8\n",
       "K-A        3\n",
       "AO         1\n",
       "RP         1\n",
       "Name: rating, dtype: int64"
      ]
     },
     "execution_count": 22,
     "metadata": {},
     "output_type": "execute_result"
    }
   ],
   "source": [
    "data['rating'].value_counts()"
   ]
  },
  {
   "cell_type": "code",
   "execution_count": 23,
   "metadata": {},
   "outputs": [],
   "source": [
    "# заменяем NaN на 0:\n",
    "data['rating'] = data['rating'].fillna('unknown')"
   ]
  },
  {
   "cell_type": "code",
   "execution_count": 24,
   "metadata": {},
   "outputs": [
    {
     "data": {
      "text/plain": [
       "name               0\n",
       "platform           0\n",
       "year_of_release    0\n",
       "genre              0\n",
       "na_sales           0\n",
       "eu_sales           0\n",
       "jp_sales           0\n",
       "other_sales        0\n",
       "critic_score       0\n",
       "user_score         0\n",
       "rating             0\n",
       "dtype: int64"
      ]
     },
     "execution_count": 24,
     "metadata": {},
     "output_type": "execute_result"
    }
   ],
   "source": [
    "# проверяем наличие пропущенных значений в датафрейме:\n",
    "data.isna().sum()"
   ]
  },
  {
   "cell_type": "markdown",
   "metadata": {},
   "source": [
    "2.4 Посчитаем суммарные продажи во всех регионах и запишем их в отдельный столбец."
   ]
  },
  {
   "cell_type": "code",
   "execution_count": 25,
   "metadata": {},
   "outputs": [
    {
     "data": {
      "text/plain": [
       "array([2006, 1985, 2008, 2009, 1996, 1989, 1984, 2005, 1999, 2007, 2010,\n",
       "       2013, 2004, 1990, 1988, 2002, 2001, 2011, 1998, 2015, 2012, 2014,\n",
       "       1992, 1997, 1993, 1994, 1982, 2016, 2003, 1986, 2000, 1995, 1991,\n",
       "       1981, 1987, 1980, 1983], dtype=int32)"
      ]
     },
     "execution_count": 25,
     "metadata": {},
     "output_type": "execute_result"
    }
   ],
   "source": [
    "# проверяем за какой период данные в датасете:\n",
    "data['year_of_release'].unique()"
   ]
  },
  {
   "cell_type": "markdown",
   "metadata": {},
   "source": [
    "Добавление в датафрейм data столбца с суммарными продажами."
   ]
  },
  {
   "cell_type": "code",
   "execution_count": 28,
   "metadata": {},
   "outputs": [],
   "source": [
    "data['total_sales'] = data['na_sales'] + data['eu_sales'] +\\\n",
    "                      data['jp_sales'] + data['other_sales']"
   ]
  },
  {
   "cell_type": "code",
   "execution_count": 29,
   "metadata": {
    "scrolled": true
   },
   "outputs": [
    {
     "data": {
      "text/html": [
       "<div>\n",
       "<style scoped>\n",
       "    .dataframe tbody tr th:only-of-type {\n",
       "        vertical-align: middle;\n",
       "    }\n",
       "\n",
       "    .dataframe tbody tr th {\n",
       "        vertical-align: top;\n",
       "    }\n",
       "\n",
       "    .dataframe thead th {\n",
       "        text-align: right;\n",
       "    }\n",
       "</style>\n",
       "<table border=\"1\" class=\"dataframe\">\n",
       "  <thead>\n",
       "    <tr style=\"text-align: right;\">\n",
       "      <th></th>\n",
       "      <th>name</th>\n",
       "      <th>platform</th>\n",
       "      <th>year_of_release</th>\n",
       "      <th>genre</th>\n",
       "      <th>na_sales</th>\n",
       "      <th>eu_sales</th>\n",
       "      <th>jp_sales</th>\n",
       "      <th>other_sales</th>\n",
       "      <th>critic_score</th>\n",
       "      <th>user_score</th>\n",
       "      <th>rating</th>\n",
       "      <th>total_sales</th>\n",
       "    </tr>\n",
       "  </thead>\n",
       "  <tbody>\n",
       "    <tr>\n",
       "      <th>0</th>\n",
       "      <td>Wii Sports</td>\n",
       "      <td>Wii</td>\n",
       "      <td>2006</td>\n",
       "      <td>Sports</td>\n",
       "      <td>41.36</td>\n",
       "      <td>28.96</td>\n",
       "      <td>3.77</td>\n",
       "      <td>8.45</td>\n",
       "      <td>76.0</td>\n",
       "      <td>8.0</td>\n",
       "      <td>E</td>\n",
       "      <td>82.54</td>\n",
       "    </tr>\n",
       "    <tr>\n",
       "      <th>1</th>\n",
       "      <td>Super Mario Bros.</td>\n",
       "      <td>NES</td>\n",
       "      <td>1985</td>\n",
       "      <td>Platform</td>\n",
       "      <td>29.08</td>\n",
       "      <td>3.58</td>\n",
       "      <td>6.81</td>\n",
       "      <td>0.77</td>\n",
       "      <td>-1.0</td>\n",
       "      <td>-1.0</td>\n",
       "      <td>unknown</td>\n",
       "      <td>40.24</td>\n",
       "    </tr>\n",
       "    <tr>\n",
       "      <th>2</th>\n",
       "      <td>Mario Kart Wii</td>\n",
       "      <td>Wii</td>\n",
       "      <td>2008</td>\n",
       "      <td>Racing</td>\n",
       "      <td>15.68</td>\n",
       "      <td>12.76</td>\n",
       "      <td>3.79</td>\n",
       "      <td>3.29</td>\n",
       "      <td>82.0</td>\n",
       "      <td>8.3</td>\n",
       "      <td>E</td>\n",
       "      <td>35.52</td>\n",
       "    </tr>\n",
       "    <tr>\n",
       "      <th>3</th>\n",
       "      <td>Wii Sports Resort</td>\n",
       "      <td>Wii</td>\n",
       "      <td>2009</td>\n",
       "      <td>Sports</td>\n",
       "      <td>15.61</td>\n",
       "      <td>10.93</td>\n",
       "      <td>3.28</td>\n",
       "      <td>2.95</td>\n",
       "      <td>80.0</td>\n",
       "      <td>8.0</td>\n",
       "      <td>E</td>\n",
       "      <td>32.77</td>\n",
       "    </tr>\n",
       "    <tr>\n",
       "      <th>4</th>\n",
       "      <td>Pokemon Red/Pokemon Blue</td>\n",
       "      <td>GB</td>\n",
       "      <td>1996</td>\n",
       "      <td>Role-Playing</td>\n",
       "      <td>11.27</td>\n",
       "      <td>8.89</td>\n",
       "      <td>10.22</td>\n",
       "      <td>1.00</td>\n",
       "      <td>-1.0</td>\n",
       "      <td>-1.0</td>\n",
       "      <td>unknown</td>\n",
       "      <td>31.38</td>\n",
       "    </tr>\n",
       "  </tbody>\n",
       "</table>\n",
       "</div>"
      ],
      "text/plain": [
       "                       name platform  year_of_release         genre  na_sales  \\\n",
       "0                Wii Sports      Wii             2006        Sports     41.36   \n",
       "1         Super Mario Bros.      NES             1985      Platform     29.08   \n",
       "2            Mario Kart Wii      Wii             2008        Racing     15.68   \n",
       "3         Wii Sports Resort      Wii             2009        Sports     15.61   \n",
       "4  Pokemon Red/Pokemon Blue       GB             1996  Role-Playing     11.27   \n",
       "\n",
       "   eu_sales  jp_sales  other_sales  critic_score  user_score   rating  \\\n",
       "0     28.96      3.77         8.45          76.0         8.0        E   \n",
       "1      3.58      6.81         0.77          -1.0        -1.0  unknown   \n",
       "2     12.76      3.79         3.29          82.0         8.3        E   \n",
       "3     10.93      3.28         2.95          80.0         8.0        E   \n",
       "4      8.89     10.22         1.00          -1.0        -1.0  unknown   \n",
       "\n",
       "   total_sales  \n",
       "0        82.54  \n",
       "1        40.24  \n",
       "2        35.52  \n",
       "3        32.77  \n",
       "4        31.38  "
      ]
     },
     "execution_count": 29,
     "metadata": {},
     "output_type": "execute_result"
    }
   ],
   "source": [
    "# просмотр первых строк таблицы:\n",
    "data.head()"
   ]
  },
  {
   "cell_type": "markdown",
   "metadata": {},
   "source": [
    "2.5 Обработка дубликатов"
   ]
  },
  {
   "cell_type": "markdown",
   "metadata": {},
   "source": [
    " "
   ]
  },
  {
   "cell_type": "code",
   "execution_count": 30,
   "metadata": {},
   "outputs": [
    {
     "data": {
      "text/plain": [
       "0"
      ]
     },
     "execution_count": 30,
     "metadata": {},
     "output_type": "execute_result"
    }
   ],
   "source": [
    "data.duplicated().sum()"
   ]
  },
  {
   "cell_type": "markdown",
   "metadata": {},
   "source": [
    "Проверка на наличие неявных дубликатов (строки, совпадающие по названию, платформе и году релиза одновременно)."
   ]
  },
  {
   "cell_type": "code",
   "execution_count": 31,
   "metadata": {
    "scrolled": true
   },
   "outputs": [
    {
     "data": {
      "text/html": [
       "<div>\n",
       "<style scoped>\n",
       "    .dataframe tbody tr th:only-of-type {\n",
       "        vertical-align: middle;\n",
       "    }\n",
       "\n",
       "    .dataframe tbody tr th {\n",
       "        vertical-align: top;\n",
       "    }\n",
       "\n",
       "    .dataframe thead th {\n",
       "        text-align: right;\n",
       "    }\n",
       "</style>\n",
       "<table border=\"1\" class=\"dataframe\">\n",
       "  <thead>\n",
       "    <tr style=\"text-align: right;\">\n",
       "      <th></th>\n",
       "      <th>name</th>\n",
       "      <th>platform</th>\n",
       "      <th>year_of_release</th>\n",
       "      <th>genre</th>\n",
       "      <th>na_sales</th>\n",
       "      <th>eu_sales</th>\n",
       "      <th>jp_sales</th>\n",
       "      <th>other_sales</th>\n",
       "      <th>critic_score</th>\n",
       "      <th>user_score</th>\n",
       "      <th>rating</th>\n",
       "      <th>total_sales</th>\n",
       "    </tr>\n",
       "  </thead>\n",
       "  <tbody>\n",
       "    <tr>\n",
       "      <th>604</th>\n",
       "      <td>Madden NFL 13</td>\n",
       "      <td>PS3</td>\n",
       "      <td>2012</td>\n",
       "      <td>Sports</td>\n",
       "      <td>2.11</td>\n",
       "      <td>0.22</td>\n",
       "      <td>0.0</td>\n",
       "      <td>0.23</td>\n",
       "      <td>83.0</td>\n",
       "      <td>5.5</td>\n",
       "      <td>E</td>\n",
       "      <td>2.56</td>\n",
       "    </tr>\n",
       "    <tr>\n",
       "      <th>16230</th>\n",
       "      <td>Madden NFL 13</td>\n",
       "      <td>PS3</td>\n",
       "      <td>2012</td>\n",
       "      <td>Sports</td>\n",
       "      <td>0.00</td>\n",
       "      <td>0.01</td>\n",
       "      <td>0.0</td>\n",
       "      <td>0.00</td>\n",
       "      <td>83.0</td>\n",
       "      <td>5.5</td>\n",
       "      <td>E</td>\n",
       "      <td>0.01</td>\n",
       "    </tr>\n",
       "  </tbody>\n",
       "</table>\n",
       "</div>"
      ],
      "text/plain": [
       "                name platform  year_of_release   genre  na_sales  eu_sales  \\\n",
       "604    Madden NFL 13      PS3             2012  Sports      2.11      0.22   \n",
       "16230  Madden NFL 13      PS3             2012  Sports      0.00      0.01   \n",
       "\n",
       "       jp_sales  other_sales  critic_score  user_score rating  total_sales  \n",
       "604         0.0         0.23          83.0         5.5      E         2.56  \n",
       "16230       0.0         0.00          83.0         5.5      E         0.01  "
      ]
     },
     "execution_count": 31,
     "metadata": {},
     "output_type": "execute_result"
    }
   ],
   "source": [
    "# проверка на наличие неявных дубликатов:\n",
    "data[data.duplicated(subset=['name', 'platform', 'year_of_release'], keep=False)]"
   ]
  },
  {
   "cell_type": "code",
   "execution_count": 32,
   "metadata": {},
   "outputs": [],
   "source": [
    "# удаление неявных дубликатов:\n",
    "data = data.drop_duplicates(subset=['name', 'platform', 'year_of_release'])"
   ]
  },
  {
   "cell_type": "code",
   "execution_count": 33,
   "metadata": {},
   "outputs": [
    {
     "data": {
      "text/html": [
       "<div>\n",
       "<style scoped>\n",
       "    .dataframe tbody tr th:only-of-type {\n",
       "        vertical-align: middle;\n",
       "    }\n",
       "\n",
       "    .dataframe tbody tr th {\n",
       "        vertical-align: top;\n",
       "    }\n",
       "\n",
       "    .dataframe thead th {\n",
       "        text-align: right;\n",
       "    }\n",
       "</style>\n",
       "<table border=\"1\" class=\"dataframe\">\n",
       "  <thead>\n",
       "    <tr style=\"text-align: right;\">\n",
       "      <th></th>\n",
       "      <th>name</th>\n",
       "      <th>platform</th>\n",
       "      <th>year_of_release</th>\n",
       "      <th>genre</th>\n",
       "      <th>na_sales</th>\n",
       "      <th>eu_sales</th>\n",
       "      <th>jp_sales</th>\n",
       "      <th>other_sales</th>\n",
       "      <th>critic_score</th>\n",
       "      <th>user_score</th>\n",
       "      <th>rating</th>\n",
       "      <th>total_sales</th>\n",
       "    </tr>\n",
       "  </thead>\n",
       "  <tbody>\n",
       "  </tbody>\n",
       "</table>\n",
       "</div>"
      ],
      "text/plain": [
       "Empty DataFrame\n",
       "Columns: [name, platform, year_of_release, genre, na_sales, eu_sales, jp_sales, other_sales, critic_score, user_score, rating, total_sales]\n",
       "Index: []"
      ]
     },
     "execution_count": 33,
     "metadata": {},
     "output_type": "execute_result"
    }
   ],
   "source": [
    "# проверка на отсутствие неявных дубликатов:\n",
    "data[data.duplicated(subset=['name', 'platform', 'year_of_release'], keep=False)]"
   ]
  },
  {
   "cell_type": "markdown",
   "metadata": {},
   "source": [
    "**Вывод:**\n",
    "1. Привели названия столбцов к нижнему регистру.\n",
    "2. Заменили типы данных в следующих столбцах:\n",
    "- в столбце year_of_release привели значения к типу данных int, поскольку год выпуска отражается целым числом, предварительно удалив строки с пропущенными значениями;\n",
    "- в столбце user_score привели значения к типу данных float, поскольку оценки игр пользователей являются числовыми по аналогии с оценками критиков. tbd, встречающееся в столбце, означает — To Be Determined, т.е. \"Будет определено\", т.е. неизвестное значение, которое фактически является NaN. Заменяем NaN и tbd на 0 и меняем тип данных на число с плавающей точкой.\n",
    "3. Удаляем строки с пропущенными значениями в столбце name, поскольку без названия игры такие строки не несут никакой информации.\\\n",
    "Так получилось, что пропуски в столбце name совпали с пропусками в столбце genre и эти строки были удалены на предыдущем шаге.\\\n",
    "В столбцах critic_score и rating пропущенные значения заменяем на 0. Пропуски в данных могли возникнуть из-за ошибки при вводе данных или отсутствия необходимой информации.\\\n",
    "tbd в столбце с оценкой пользователей означает — To Be Determined, т.е. \"Будет определено\", т.е. неизвестное значение, которое фактически является NaN. В связи с этим при обработке можем заменить tbd на 0, по аналогии с NaN.\n",
    "4. Посчитали суммарные продажи во всех регионах и записали их в отдельный столбец total_sales.\\\n",
    "5. Явных дубликатов не обнаружено.\\\n",
    "Обнаружено 2 неявных дубликата. Строки, совпадающие по названию, платформе и году релиза одновременно удалены из датафрейма."
   ]
  },
  {
   "cell_type": "markdown",
   "metadata": {},
   "source": [
    "#### Шаг 3. Проведение исследовательского анализа данных."
   ]
  },
  {
   "cell_type": "markdown",
   "metadata": {},
   "source": [
    "3.1 Просмотр, сколько игр выпускалось в разные годы. Важны ли данные за все периоды?"
   ]
  },
  {
   "cell_type": "code",
   "execution_count": 34,
   "metadata": {},
   "outputs": [],
   "source": [
    "# формируем сводную таблицу:\n",
    "games_by_year = data.pivot_table(index='year_of_release',\n",
    "                                values='name',\n",
    "                                aggfunc='count')"
   ]
  },
  {
   "cell_type": "code",
   "execution_count": 35,
   "metadata": {},
   "outputs": [
    {
     "data": {
      "text/html": [
       "<div>\n",
       "<style scoped>\n",
       "    .dataframe tbody tr th:only-of-type {\n",
       "        vertical-align: middle;\n",
       "    }\n",
       "\n",
       "    .dataframe tbody tr th {\n",
       "        vertical-align: top;\n",
       "    }\n",
       "\n",
       "    .dataframe thead th {\n",
       "        text-align: right;\n",
       "    }\n",
       "</style>\n",
       "<table border=\"1\" class=\"dataframe\">\n",
       "  <thead>\n",
       "    <tr style=\"text-align: right;\">\n",
       "      <th></th>\n",
       "      <th>name</th>\n",
       "    </tr>\n",
       "    <tr>\n",
       "      <th>year_of_release</th>\n",
       "      <th></th>\n",
       "    </tr>\n",
       "  </thead>\n",
       "  <tbody>\n",
       "    <tr>\n",
       "      <th>1980</th>\n",
       "      <td>9</td>\n",
       "    </tr>\n",
       "    <tr>\n",
       "      <th>1981</th>\n",
       "      <td>46</td>\n",
       "    </tr>\n",
       "    <tr>\n",
       "      <th>1982</th>\n",
       "      <td>36</td>\n",
       "    </tr>\n",
       "    <tr>\n",
       "      <th>1983</th>\n",
       "      <td>17</td>\n",
       "    </tr>\n",
       "    <tr>\n",
       "      <th>1984</th>\n",
       "      <td>14</td>\n",
       "    </tr>\n",
       "    <tr>\n",
       "      <th>1985</th>\n",
       "      <td>14</td>\n",
       "    </tr>\n",
       "    <tr>\n",
       "      <th>1986</th>\n",
       "      <td>21</td>\n",
       "    </tr>\n",
       "    <tr>\n",
       "      <th>1987</th>\n",
       "      <td>16</td>\n",
       "    </tr>\n",
       "    <tr>\n",
       "      <th>1988</th>\n",
       "      <td>15</td>\n",
       "    </tr>\n",
       "    <tr>\n",
       "      <th>1989</th>\n",
       "      <td>17</td>\n",
       "    </tr>\n",
       "    <tr>\n",
       "      <th>1990</th>\n",
       "      <td>16</td>\n",
       "    </tr>\n",
       "    <tr>\n",
       "      <th>1991</th>\n",
       "      <td>41</td>\n",
       "    </tr>\n",
       "    <tr>\n",
       "      <th>1992</th>\n",
       "      <td>43</td>\n",
       "    </tr>\n",
       "    <tr>\n",
       "      <th>1993</th>\n",
       "      <td>60</td>\n",
       "    </tr>\n",
       "    <tr>\n",
       "      <th>1994</th>\n",
       "      <td>121</td>\n",
       "    </tr>\n",
       "    <tr>\n",
       "      <th>1995</th>\n",
       "      <td>219</td>\n",
       "    </tr>\n",
       "    <tr>\n",
       "      <th>1996</th>\n",
       "      <td>263</td>\n",
       "    </tr>\n",
       "    <tr>\n",
       "      <th>1997</th>\n",
       "      <td>289</td>\n",
       "    </tr>\n",
       "    <tr>\n",
       "      <th>1998</th>\n",
       "      <td>379</td>\n",
       "    </tr>\n",
       "    <tr>\n",
       "      <th>1999</th>\n",
       "      <td>338</td>\n",
       "    </tr>\n",
       "    <tr>\n",
       "      <th>2000</th>\n",
       "      <td>350</td>\n",
       "    </tr>\n",
       "    <tr>\n",
       "      <th>2001</th>\n",
       "      <td>482</td>\n",
       "    </tr>\n",
       "    <tr>\n",
       "      <th>2002</th>\n",
       "      <td>829</td>\n",
       "    </tr>\n",
       "    <tr>\n",
       "      <th>2003</th>\n",
       "      <td>775</td>\n",
       "    </tr>\n",
       "    <tr>\n",
       "      <th>2004</th>\n",
       "      <td>762</td>\n",
       "    </tr>\n",
       "    <tr>\n",
       "      <th>2005</th>\n",
       "      <td>939</td>\n",
       "    </tr>\n",
       "    <tr>\n",
       "      <th>2006</th>\n",
       "      <td>1006</td>\n",
       "    </tr>\n",
       "    <tr>\n",
       "      <th>2007</th>\n",
       "      <td>1197</td>\n",
       "    </tr>\n",
       "    <tr>\n",
       "      <th>2008</th>\n",
       "      <td>1427</td>\n",
       "    </tr>\n",
       "    <tr>\n",
       "      <th>2009</th>\n",
       "      <td>1426</td>\n",
       "    </tr>\n",
       "    <tr>\n",
       "      <th>2010</th>\n",
       "      <td>1255</td>\n",
       "    </tr>\n",
       "    <tr>\n",
       "      <th>2011</th>\n",
       "      <td>1136</td>\n",
       "    </tr>\n",
       "    <tr>\n",
       "      <th>2012</th>\n",
       "      <td>652</td>\n",
       "    </tr>\n",
       "    <tr>\n",
       "      <th>2013</th>\n",
       "      <td>544</td>\n",
       "    </tr>\n",
       "    <tr>\n",
       "      <th>2014</th>\n",
       "      <td>581</td>\n",
       "    </tr>\n",
       "    <tr>\n",
       "      <th>2015</th>\n",
       "      <td>606</td>\n",
       "    </tr>\n",
       "    <tr>\n",
       "      <th>2016</th>\n",
       "      <td>502</td>\n",
       "    </tr>\n",
       "  </tbody>\n",
       "</table>\n",
       "</div>"
      ],
      "text/plain": [
       "                 name\n",
       "year_of_release      \n",
       "1980                9\n",
       "1981               46\n",
       "1982               36\n",
       "1983               17\n",
       "1984               14\n",
       "1985               14\n",
       "1986               21\n",
       "1987               16\n",
       "1988               15\n",
       "1989               17\n",
       "1990               16\n",
       "1991               41\n",
       "1992               43\n",
       "1993               60\n",
       "1994              121\n",
       "1995              219\n",
       "1996              263\n",
       "1997              289\n",
       "1998              379\n",
       "1999              338\n",
       "2000              350\n",
       "2001              482\n",
       "2002              829\n",
       "2003              775\n",
       "2004              762\n",
       "2005              939\n",
       "2006             1006\n",
       "2007             1197\n",
       "2008             1427\n",
       "2009             1426\n",
       "2010             1255\n",
       "2011             1136\n",
       "2012              652\n",
       "2013              544\n",
       "2014              581\n",
       "2015              606\n",
       "2016              502"
      ]
     },
     "execution_count": 35,
     "metadata": {},
     "output_type": "execute_result"
    }
   ],
   "source": [
    "# просмотрим созданную сводную таблицу:\n",
    "games_by_year"
   ]
  },
  {
   "cell_type": "code",
   "execution_count": 36,
   "metadata": {},
   "outputs": [
    {
     "data": {
      "image/png": "[encoded data removed]",
      "text/plain": [
       "<Figure size 720x360 with 1 Axes>"
      ]
     },
     "metadata": {
      "needs_background": "light"
     },
     "output_type": "display_data"
    }
   ],
   "source": [
    "# строим график:\n",
    "games_by_year.plot(kind='bar', figsize=(10, 5))\n",
    "plt.title('Количество игр по годам')\n",
    "plt.xlabel('Годы')\n",
    "#plt.ylabel('Количество пользователей') \n",
    "plt.ylabel('Количество игр')\n",
    "plt.show()"
   ]
  },
  {
   "cell_type": "markdown",
   "metadata": {},
   "source": [
    "**Промежуточный вывод:**\\\n",
    "Наибольшее количество игр было выпущено в 2008 году - 1 427 игр.\\\n",
    "С 1991 по 2008 год количество выпускаемых игр ежегодно росло достаточно быстрыми темпами. Вероятнее всего, это связано с развитием компьютеров и растущей популярностью игровых приставок.\\\n",
    "Начиная с 2009 по 2016 годы наблюдаем на графике снижение выпуска игр. Этому способствовало развитие мобильных технологий. В то время пользователи стали отдавать свое предпочтение мобильным играм. \\\n",
    "Данные за 1980-1990 годы имеют небольшое значение и информативность, так как в эти годы было выпущено совсем немного игр."
   ]
  },
  {
   "cell_type": "markdown",
   "metadata": {},
   "source": [
    "3.2 Просмотр, как менялись продажи по платформам. Выбор платформы с наибольшими суммарными продажами и построение распределения по годам. За какой характерный срок появляются новые и исчезают старые платформы?"
   ]
  },
  {
   "cell_type": "code",
   "execution_count": 37,
   "metadata": {},
   "outputs": [],
   "source": [
    "# формируем сводную таблицу:\n",
    "sales_by_platform = data.pivot_table(index='platform',\\\n",
    "                                     values='total_sales',\\\n",
    "                                     aggfunc='sum')\\\n",
    "                        .sort_values(by='total_sales', ascending=False)"
   ]
  },
  {
   "cell_type": "code",
   "execution_count": 38,
   "metadata": {
    "scrolled": true
   },
   "outputs": [
    {
     "data": {
      "image/png": "[encoded data removed]",
      "text/plain": [
       "<Figure size 432x288 with 1 Axes>"
      ]
     },
     "metadata": {
      "needs_background": "light"
     },
     "output_type": "display_data"
    }
   ],
   "source": [
    "# строим график:\n",
    "sales_by_platform.plot(kind='bar')\n",
    "plt.title('Продажи по платформам')\n",
    "plt.xlabel('Название платформы')\n",
    "plt.ylabel('Количество продаж')    \n",
    "plt.show()"
   ]
  },
  {
   "cell_type": "markdown",
   "metadata": {},
   "source": [
    "**Промежуточный вывод:**\\\n",
    "Исходя из графика, наибольшие суммарные продажи по платформам PS2, X360, PS3.\n",
    "Для построения распределения по годам выбираем платформу с наибольшими суммарными продажами - PS2. "
   ]
  },
  {
   "cell_type": "code",
   "execution_count": 39,
   "metadata": {},
   "outputs": [
    {
     "data": {
      "image/png": "[encoded data removed]",
      "text/plain": [
       "<Figure size 432x288 with 1 Axes>"
      ]
     },
     "metadata": {
      "needs_background": "light"
     },
     "output_type": "display_data"
    }
   ],
   "source": [
    "# построение распределения по годам платформы с наибольшими продажами:\n",
    "salesPS2_by_year = data[data['platform'] == 'PS2'].pivot_table(index='year_of_release',\\\n",
    "                                                               values='total_sales',\\\n",
    "                                                               aggfunc='sum')\\\n",
    "                                                  .plot(kind='bar')\n",
    "plt.title('Распределение суммарных продаж игр для платформы PS2 по годам')\n",
    "plt.xlabel('Годы')\n",
    "plt.ylabel('Количество игр')\n",
    "plt.show()"
   ]
  },
  {
   "cell_type": "markdown",
   "metadata": {},
   "source": [
    "**Промежуточный вывод:**\\\n",
    "Наибольшие суммарные продажи для платформы PS2 наблюдались в 2004 году, далее идет ежегодный резкий спад."
   ]
  },
  {
   "cell_type": "code",
   "execution_count": 40,
   "metadata": {
    "scrolled": true
   },
   "outputs": [
    {
     "data": {
      "image/png": "[encoded data removed]",
      "text/plain": [
       "<Figure size 432x288 with 1 Axes>"
      ]
     },
     "metadata": {
      "needs_background": "light"
     },
     "output_type": "display_data"
    }
   ],
   "source": [
    "# построение распределения по годам платформы X360:\n",
    "salesX360_by_year = data[data['platform'] == 'X360'].pivot_table(index='year_of_release',\\\n",
    "                                                               values='total_sales',\\\n",
    "                                                               aggfunc='sum')\\\n",
    "                                                  .plot(kind='bar')\n",
    "plt.title('Распределение суммарных продаж игр для платформы X360 по годам')\n",
    "plt.xlabel('Годы')\n",
    "plt.ylabel('Количество игр')\n",
    "plt.show()"
   ]
  },
  {
   "cell_type": "code",
   "execution_count": 41,
   "metadata": {},
   "outputs": [
    {
     "data": {
      "image/png": "[encoded data removed]",
      "text/plain": [
       "<Figure size 432x288 with 1 Axes>"
      ]
     },
     "metadata": {
      "needs_background": "light"
     },
     "output_type": "display_data"
    }
   ],
   "source": [
    "# построение распределения по годам платформы PS3:\n",
    "salesPS3_by_year = data[data['platform'] == 'PS3'].pivot_table(index='year_of_release',\\\n",
    "                                                               values='total_sales',\\\n",
    "                                                               aggfunc='sum')\\\n",
    "                                                  .plot(kind='bar')\n",
    "plt.title('Распределение суммарных продаж игр для платформы PS3 по годам')\n",
    "plt.xlabel('Годы')\n",
    "plt.ylabel('Количество игр')\n",
    "plt.show()"
   ]
  },
  {
   "cell_type": "markdown",
   "metadata": {},
   "source": [
    "**Промежуточный вывод:**\\\n",
    "Просмотрев распределения по годам первых трех платформ, лидирующих по суммарным продажам, можно сделать вывод, что платформа набирает популярность примерно 5 лет, достигает своего пика и далее идет на спад 5-7 лет.\n",
    "Таким образом, можно сделать вывод, что срок появления новых платформ и исчезновения старых - примерно за 5-7 лет."
   ]
  },
  {
   "cell_type": "markdown",
   "metadata": {},
   "source": [
    "3.3 Возьмем данные за соответствующий актуальный период. \n",
    "Актуальный период определим в результате исследования предыдущих вопросов. Основной фактор — эти данные помогут построить прогноз на 2017 год.\\\n",
    "Не учитываем данные за предыдущие годы.\\\n",
    "Какие платформы лидируют по продажам, растут или падают? Выберем несколько потенциально прибыльных платформ."
   ]
  },
  {
   "cell_type": "code",
   "execution_count": 43,
   "metadata": {},
   "outputs": [],
   "source": [
    "# выбираем данные за последние 3 года:\n",
    "period_data = data[data['year_of_release'] >= 2014]"
   ]
  },
  {
   "cell_type": "code",
   "execution_count": 46,
   "metadata": {},
   "outputs": [],
   "source": [
    "# формируем сводную таблицу продаж по годам:\n",
    "sales_by_year = period_data.pivot_table(index='year_of_release',\\\n",
    "                                            columns='platform',\\\n",
    "                                            values='total_sales',\\\n",
    "                                            aggfunc='sum')"
   ]
  },
  {
   "cell_type": "code",
   "execution_count": 47,
   "metadata": {},
   "outputs": [
    {
     "data": {
      "text/html": [
       "<div>\n",
       "<style scoped>\n",
       "    .dataframe tbody tr th:only-of-type {\n",
       "        vertical-align: middle;\n",
       "    }\n",
       "\n",
       "    .dataframe tbody tr th {\n",
       "        vertical-align: top;\n",
       "    }\n",
       "\n",
       "    .dataframe thead th {\n",
       "        text-align: right;\n",
       "    }\n",
       "</style>\n",
       "<table border=\"1\" class=\"dataframe\">\n",
       "  <thead>\n",
       "    <tr style=\"text-align: right;\">\n",
       "      <th>platform</th>\n",
       "      <th>3DS</th>\n",
       "      <th>PC</th>\n",
       "      <th>PS3</th>\n",
       "      <th>PS4</th>\n",
       "      <th>PSP</th>\n",
       "      <th>PSV</th>\n",
       "      <th>Wii</th>\n",
       "      <th>WiiU</th>\n",
       "      <th>X360</th>\n",
       "      <th>XOne</th>\n",
       "    </tr>\n",
       "    <tr>\n",
       "      <th>year_of_release</th>\n",
       "      <th></th>\n",
       "      <th></th>\n",
       "      <th></th>\n",
       "      <th></th>\n",
       "      <th></th>\n",
       "      <th></th>\n",
       "      <th></th>\n",
       "      <th></th>\n",
       "      <th></th>\n",
       "      <th></th>\n",
       "    </tr>\n",
       "  </thead>\n",
       "  <tbody>\n",
       "    <tr>\n",
       "      <th>2014</th>\n",
       "      <td>43.76</td>\n",
       "      <td>13.28</td>\n",
       "      <td>47.76</td>\n",
       "      <td>100.00</td>\n",
       "      <td>0.24</td>\n",
       "      <td>11.90</td>\n",
       "      <td>3.75</td>\n",
       "      <td>22.03</td>\n",
       "      <td>34.74</td>\n",
       "      <td>54.07</td>\n",
       "    </tr>\n",
       "    <tr>\n",
       "      <th>2015</th>\n",
       "      <td>27.78</td>\n",
       "      <td>8.52</td>\n",
       "      <td>16.82</td>\n",
       "      <td>118.90</td>\n",
       "      <td>0.12</td>\n",
       "      <td>6.25</td>\n",
       "      <td>1.14</td>\n",
       "      <td>16.35</td>\n",
       "      <td>11.96</td>\n",
       "      <td>60.14</td>\n",
       "    </tr>\n",
       "    <tr>\n",
       "      <th>2016</th>\n",
       "      <td>15.14</td>\n",
       "      <td>5.25</td>\n",
       "      <td>3.60</td>\n",
       "      <td>69.25</td>\n",
       "      <td>NaN</td>\n",
       "      <td>4.25</td>\n",
       "      <td>0.18</td>\n",
       "      <td>4.60</td>\n",
       "      <td>1.52</td>\n",
       "      <td>26.15</td>\n",
       "    </tr>\n",
       "  </tbody>\n",
       "</table>\n",
       "</div>"
      ],
      "text/plain": [
       "platform           3DS     PC    PS3     PS4   PSP    PSV   Wii   WiiU   X360  \\\n",
       "year_of_release                                                                 \n",
       "2014             43.76  13.28  47.76  100.00  0.24  11.90  3.75  22.03  34.74   \n",
       "2015             27.78   8.52  16.82  118.90  0.12   6.25  1.14  16.35  11.96   \n",
       "2016             15.14   5.25   3.60   69.25   NaN   4.25  0.18   4.60   1.52   \n",
       "\n",
       "platform          XOne  \n",
       "year_of_release         \n",
       "2014             54.07  \n",
       "2015             60.14  \n",
       "2016             26.15  "
      ]
     },
     "execution_count": 47,
     "metadata": {},
     "output_type": "execute_result"
    }
   ],
   "source": [
    "sales_by_year"
   ]
  },
  {
   "cell_type": "code",
   "execution_count": 48,
   "metadata": {},
   "outputs": [
    {
     "data": {
      "image/png": "[encoded data removed]",
      "text/plain": [
       "<Figure size 720x360 with 1 Axes>"
      ]
     },
     "metadata": {
      "needs_background": "light"
     },
     "output_type": "display_data"
    }
   ],
   "source": [
    "# строим график:\n",
    "sales_by_year.plot(kind='line', figsize=(10,5))\n",
    "plt.title('Суммарные продажи по платформам по годам')\n",
    "plt.xlabel('Годы')\n",
    "plt.ylabel('Суммарные продажи')\n",
    "plt.legend(title='Платформа') \n",
    "plt.show()"
   ]
  },
  {
   "cell_type": "markdown",
   "metadata": {},
   "source": [
    "**Промежуточный вывод:**\\\n",
    "Учитывая высокую динамичность рынка, возьмем для исследования данные за последние 3 года.\\\n",
    "Формируем сводную таблицу продаж по платформам по годам.\\\n",
    "Исходя из графика, лидирует по продажам платформа PS4, за ней следуют платформы XOne и 3DS. с 2015 года по лидирующим платформам наблюдается спад продаж. Однако, продажи PS и XOne на порядок выше, чем у других, следовательно, их можно считать потенциально прибыльными."
   ]
  },
  {
   "cell_type": "markdown",
   "metadata": {},
   "source": [
    "3.4 Построим график «ящик с усами» по глобальным продажам игр в разбивке по платформам. Опишем результат."
   ]
  },
  {
   "cell_type": "code",
   "execution_count": 49,
   "metadata": {},
   "outputs": [
    {
     "data": {
      "image/png": "[encoded data removed]",
      "text/plain": [
       "<Figure size 720x360 with 1 Axes>"
      ]
     },
     "metadata": {
      "needs_background": "light"
     },
     "output_type": "display_data"
    }
   ],
   "source": [
    "# строим график:\n",
    "period_data.boxplot(column='total_sales', by='platform', figsize=(10,5))\n",
    "plt.ylim(0, 7)\n",
    "plt.xlim(0, 11) \n",
    "plt.suptitle('')\n",
    "plt.title('Ящик с усами')\n",
    "plt.xlabel('Платформа')\n",
    "plt.ylabel('Суммарные продажи')\n",
    "plt.show()"
   ]
  },
  {
   "cell_type": "markdown",
   "metadata": {},
   "source": [
    "**Промежуточный вывод:**\\\n",
    "Исходя из диаграммы размаха, наибольшие продажи у платформ Wii и PS4, самые низкие у PSP. Видно, что есть выбросы, особенно на отрезке 0.5-4 млн."
   ]
  },
  {
   "cell_type": "markdown",
   "metadata": {},
   "source": [
    "3.5 Просмотр, как влияют на продажи внутри одной популярной платформы отзывы пользователей и критиков. Построение диаграммы рассеяния и расчет корреляции между отзывами и продажами. Соотношение выводов с продажами игр на других платформах."
   ]
  },
  {
   "cell_type": "code",
   "execution_count": 50,
   "metadata": {
    "scrolled": true
   },
   "outputs": [
    {
     "data": {
      "image/png": "[encoded data removed]",
      "text/plain": [
       "<Figure size 432x288 with 1 Axes>"
      ]
     },
     "metadata": {
      "needs_background": "light"
     },
     "output_type": "display_data"
    }
   ],
   "source": [
    "# построение диаграммы рассеяния по платформе PS4 по отзывам пользователей:\n",
    "ps4_user_score = period_data[(period_data['platform']=='PS4') &\\\n",
    "                             (period_data['user_score']!=-1)]\n",
    "ps4_user_score.plot(x='user_score',\\\n",
    "                    y='total_sales',\\\n",
    "                    kind='scatter')\n",
    "plt.title('Диаграмма рассеяния по платформе PS4 по отзывам пользователей')\n",
    "plt.xlabel('Оценки пользователей')\n",
    "plt.ylabel('Суммарные продажи')\n",
    "plt.show()"
   ]
  },
  {
   "cell_type": "code",
   "execution_count": 51,
   "metadata": {},
   "outputs": [
    {
     "data": {
      "text/plain": [
       "-0.040131589472697356"
      ]
     },
     "execution_count": 51,
     "metadata": {},
     "output_type": "execute_result"
    }
   ],
   "source": [
    "# корреляция между отзывами пользователей и продажами по платформе PS4:\n",
    "ps4_user_score['user_score'].corr(ps4_user_score['total_sales'])"
   ]
  },
  {
   "cell_type": "code",
   "execution_count": 52,
   "metadata": {},
   "outputs": [
    {
     "data": {
      "image/png": "[encoded data removed]",
      "text/plain": [
       "<Figure size 432x288 with 1 Axes>"
      ]
     },
     "metadata": {
      "needs_background": "light"
     },
     "output_type": "display_data"
    }
   ],
   "source": [
    "# построение диаграммы рассеяния по платформе PS4 по отзывам критиков:\n",
    "ps4_critic_score = period_data[(period_data['platform']=='PS4') &\\\n",
    "                               (period_data['critic_score']!=-1)]\n",
    "ps4_critic_score.plot(x='critic_score',\\\n",
    "                      y='total_sales',\\\n",
    "                      kind='scatter')\n",
    "plt.title('Диаграмма рассеяния по платформе PS4 по отзывам критиков')\n",
    "plt.xlabel('Оценки критиков')\n",
    "plt.ylabel('Суммарные продажи')\n",
    "plt.show()"
   ]
  },
  {
   "cell_type": "code",
   "execution_count": 53,
   "metadata": {},
   "outputs": [
    {
     "data": {
      "text/plain": [
       "0.40266141068104083"
      ]
     },
     "execution_count": 53,
     "metadata": {},
     "output_type": "execute_result"
    }
   ],
   "source": [
    "# корреляция между отзывами критиков и продажами:\n",
    "ps4_critic_score['critic_score'].corr(ps4_critic_score['total_sales'])"
   ]
  },
  {
   "cell_type": "markdown",
   "metadata": {},
   "source": [
    "**Промежуточный вывод:**\\\n",
    "Для просмотра влияния на продажи отзывов пользователей и критиков выбираем платформу с наибольшими суммарными продажами - PS4. \n",
    "Изучив соотношение отзывов покупателей и критиков можно сделать вывод, что большую часть составляют высокие оценки. \n",
    "Корреляция между отзывами пользователей и продажами слабая - -0.040131589472697356.\n",
    "Корреляция между отзывами критиков и продажами умеренная - 0.40266141068104083."
   ]
  },
  {
   "cell_type": "code",
   "execution_count": 54,
   "metadata": {},
   "outputs": [],
   "source": [
    "# топ-7 платформ:\n",
    "platforms = ['Wii', 'PS4', 'XOne', 'WiiU', 'X360', 'PS3', '3DS']"
   ]
  },
  {
   "cell_type": "code",
   "execution_count": 55,
   "metadata": {},
   "outputs": [
    {
     "data": {
      "image/png": "[encoded data removed]",
      "text/plain": [
       "<Figure size 432x288 with 1 Axes>"
      ]
     },
     "metadata": {
      "needs_background": "light"
     },
     "output_type": "display_data"
    },
    {
     "name": "stdout",
     "output_type": "stream",
     "text": [
      "Корреляция по платформе Wii равна  1.0\n",
      "\n"
     ]
    },
    {
     "data": {
      "image/png": "[encoded data removed]",
      "text/plain": [
       "<Figure size 432x288 with 1 Axes>"
      ]
     },
     "metadata": {
      "needs_background": "light"
     },
     "output_type": "display_data"
    },
    {
     "name": "stdout",
     "output_type": "stream",
     "text": [
      "Корреляция по платформе PS4 равна  -0.040131589472697356\n",
      "\n"
     ]
    },
    {
     "data": {
      "image/png": "[encoded data removed]",
      "text/plain": [
       "<Figure size 432x288 with 1 Axes>"
      ]
     },
     "metadata": {
      "needs_background": "light"
     },
     "output_type": "display_data"
    },
    {
     "name": "stdout",
     "output_type": "stream",
     "text": [
      "Корреляция по платформе XOne равна  -0.0703839280647581\n",
      "\n"
     ]
    },
    {
     "data": {
      "image/png": "[encoded data removed]",
      "text/plain": [
       "<Figure size 432x288 with 1 Axes>"
      ]
     },
     "metadata": {
      "needs_background": "light"
     },
     "output_type": "display_data"
    },
    {
     "name": "stdout",
     "output_type": "stream",
     "text": [
      "Корреляция по платформе WiiU равна  0.40792645792170773\n",
      "\n"
     ]
    },
    {
     "data": {
      "image/png": "[encoded data removed]",
      "text/plain": [
       "<Figure size 432x288 with 1 Axes>"
      ]
     },
     "metadata": {
      "needs_background": "light"
     },
     "output_type": "display_data"
    },
    {
     "name": "stdout",
     "output_type": "stream",
     "text": [
      "Корреляция по платформе X360 равна  -0.138444570945665\n",
      "\n"
     ]
    },
    {
     "data": {
      "image/png": "[encoded data removed]",
      "text/plain": [
       "<Figure size 432x288 with 1 Axes>"
      ]
     },
     "metadata": {
      "needs_background": "light"
     },
     "output_type": "display_data"
    },
    {
     "name": "stdout",
     "output_type": "stream",
     "text": [
      "Корреляция по платформе PS3 равна  -0.16676141347662118\n",
      "\n"
     ]
    },
    {
     "data": {
      "image/png": "[encoded data removed]",
      "text/plain": [
       "<Figure size 432x288 with 1 Axes>"
      ]
     },
     "metadata": {
      "needs_background": "light"
     },
     "output_type": "display_data"
    },
    {
     "name": "stdout",
     "output_type": "stream",
     "text": [
      "Корреляция по платформе 3DS равна  0.2151932718527028\n",
      "\n"
     ]
    }
   ],
   "source": [
    "# построение диаграммы рассеяния и расчет корреляции\n",
    "# по топ-7 платформам по отзывам пользователей:\n",
    "for platform in platforms:\n",
    "    top_7_user_score = period_data[(period_data['platform']==platform) &\\\n",
    "                (period_data['user_score']!=-1)]\n",
    "    top_7_user_score.plot(x='user_score',\\\n",
    "                          y='total_sales',\\\n",
    "                          kind='scatter')\n",
    "    plt.title(f'Диаграмма рассеяния по {platform} по отзывам пользователей')\n",
    "    plt.xlabel('Оценки пользователей')\n",
    "    plt.ylabel('Суммарные продажи')\n",
    "    plt.show()\n",
    "    \n",
    "    print(f'Корреляция по платформе {platform} равна ',\\\n",
    "          top_7_user_score['user_score'].corr(top_7_user_score['total_sales']))\n",
    "    print('')"
   ]
  },
  {
   "cell_type": "code",
   "execution_count": 57,
   "metadata": {},
   "outputs": [
    {
     "data": {
      "image/png": "[encoded data removed]",
      "text/plain": [
       "<Figure size 432x288 with 1 Axes>"
      ]
     },
     "metadata": {
      "needs_background": "light"
     },
     "output_type": "display_data"
    },
    {
     "name": "stdout",
     "output_type": "stream",
     "text": [
      "Корреляция по платформе Wii равна  nan\n",
      "\n"
     ]
    },
    {
     "data": {
      "image/png": "[encoded data removed]",
      "text/plain": [
       "<Figure size 432x288 with 1 Axes>"
      ]
     },
     "metadata": {
      "needs_background": "light"
     },
     "output_type": "display_data"
    },
    {
     "name": "stdout",
     "output_type": "stream",
     "text": [
      "Корреляция по платформе PS4 равна  0.40266141068104083\n",
      "\n"
     ]
    },
    {
     "data": {
      "image/png": "[encoded data removed]",
      "text/plain": [
       "<Figure size 432x288 with 1 Axes>"
      ]
     },
     "metadata": {
      "needs_background": "light"
     },
     "output_type": "display_data"
    },
    {
     "name": "stdout",
     "output_type": "stream",
     "text": [
      "Корреляция по платформе XOne равна  0.42867694370333226\n",
      "\n"
     ]
    },
    {
     "data": {
      "image/png": "[encoded data removed]",
      "text/plain": [
       "<Figure size 432x288 with 1 Axes>"
      ]
     },
     "metadata": {
      "needs_background": "light"
     },
     "output_type": "display_data"
    },
    {
     "name": "stdout",
     "output_type": "stream",
     "text": [
      "Корреляция по платформе WiiU равна  0.370201412480884\n",
      "\n"
     ]
    },
    {
     "data": {
      "image/png": "[encoded data removed]",
      "text/plain": [
       "<Figure size 432x288 with 1 Axes>"
      ]
     },
     "metadata": {
      "needs_background": "light"
     },
     "output_type": "display_data"
    },
    {
     "name": "stdout",
     "output_type": "stream",
     "text": [
      "Корреляция по платформе X360 равна  0.5257228356581523\n",
      "\n"
     ]
    },
    {
     "data": {
      "image/png": "[encoded data removed]",
      "text/plain": [
       "<Figure size 432x288 with 1 Axes>"
      ]
     },
     "metadata": {
      "needs_background": "light"
     },
     "output_type": "display_data"
    },
    {
     "name": "stdout",
     "output_type": "stream",
     "text": [
      "Корреляция по платформе PS3 равна  0.44657460493190704\n",
      "\n"
     ]
    },
    {
     "data": {
      "image/png": "[encoded data removed]",
      "text/plain": [
       "<Figure size 432x288 with 1 Axes>"
      ]
     },
     "metadata": {
      "needs_background": "light"
     },
     "output_type": "display_data"
    },
    {
     "name": "stdout",
     "output_type": "stream",
     "text": [
      "Корреляция по платформе 3DS равна  0.314117492869051\n",
      "\n"
     ]
    }
   ],
   "source": [
    "# построение диаграммы рассеяния и расчет корреляции\n",
    "# по топ-7 платформам по отзывам критиков:\n",
    "for platform in platforms:\n",
    "    top_7_critic_score = period_data[(period_data['platform']==platform) &\\\n",
    "                (period_data['critic_score']!=-1)]\n",
    "    top_7_critic_score.plot(x='critic_score',\n",
    "                            y='total_sales',\n",
    "                            kind='scatter')\n",
    "    plt.title(f'Диаграмма рассеяния по {platform} по отзывам критиков')\n",
    "    plt.xlabel('Оценки критиков')\n",
    "    plt.ylabel('Суммарные продажи')\n",
    "    plt.show()\n",
    "    \n",
    "    print(f'Корреляция по платформе {platform} равна ',\\\n",
    "          top_7_critic_score['critic_score'].corr(top_7_critic_score['total_sales']))\n",
    "    print('')"
   ]
  },
  {
   "cell_type": "markdown",
   "metadata": {},
   "source": [
    "**Промежуточный вывод:**\\\n",
    "Исходя из расчета корреляции между отзывами пользователей и суммарными продажами по топ-7 платформам наблюдается сильная связь по платформе Wii, умеренная связь по платформе WiiU и слабая связь по остальным платформам (PS4, XOne, X360, PS3, 3DS).\\\n",
    "Между отзывами критиков и суммарными продажами наблюдается умеренная связь практически по всем платформам (PS4, XOne, WiiU, X360, PS3, 3DS), за исключением платформы Wii. Вероятнее всего, значение NaN при расчете корреляции возникло из-за отсутствия данных.\\\n",
    "Такие показатели могут говорить о том, что покупатели приобретают игры не полагаясь на отзывы пользователей, однако обращают внимание на отзывы критиков."
   ]
  },
  {
   "cell_type": "markdown",
   "metadata": {},
   "source": [
    "3.6 Просмотр общего распределения игр по жанрам. Что можно сказать о самых прибыльных жанрах? Выделяются ли жанры с высокими и низкими продажами?"
   ]
  },
  {
   "cell_type": "markdown",
   "metadata": {},
   "source": [
    "Рассматриваем медианные значения продаж, они являются наиболее объективным показателем прибыльности, так как менее подвержены влиянию выбросов"
   ]
  },
  {
   "cell_type": "code",
   "execution_count": 59,
   "metadata": {},
   "outputs": [],
   "source": [
    "# распределение игр по жанрам:\n",
    "data_by_genre = period_data.pivot_table(index='genre',\\\n",
    "                                        values='total_sales',\\\n",
    "                                        aggfunc='median')\\\n",
    "                           .sort_values(by='total_sales', ascending=False)\\\n",
    "                           .reset_index()"
   ]
  },
  {
   "cell_type": "code",
   "execution_count": 60,
   "metadata": {},
   "outputs": [
    {
     "data": {
      "text/html": [
       "<div>\n",
       "<style scoped>\n",
       "    .dataframe tbody tr th:only-of-type {\n",
       "        vertical-align: middle;\n",
       "    }\n",
       "\n",
       "    .dataframe tbody tr th {\n",
       "        vertical-align: top;\n",
       "    }\n",
       "\n",
       "    .dataframe thead th {\n",
       "        text-align: right;\n",
       "    }\n",
       "</style>\n",
       "<table border=\"1\" class=\"dataframe\">\n",
       "  <thead>\n",
       "    <tr style=\"text-align: right;\">\n",
       "      <th></th>\n",
       "      <th>genre</th>\n",
       "      <th>total_sales</th>\n",
       "    </tr>\n",
       "  </thead>\n",
       "  <tbody>\n",
       "    <tr>\n",
       "      <th>0</th>\n",
       "      <td>Shooter</td>\n",
       "      <td>0.515</td>\n",
       "    </tr>\n",
       "    <tr>\n",
       "      <th>1</th>\n",
       "      <td>Sports</td>\n",
       "      <td>0.180</td>\n",
       "    </tr>\n",
       "    <tr>\n",
       "      <th>2</th>\n",
       "      <td>Platform</td>\n",
       "      <td>0.140</td>\n",
       "    </tr>\n",
       "    <tr>\n",
       "      <th>3</th>\n",
       "      <td>Fighting</td>\n",
       "      <td>0.125</td>\n",
       "    </tr>\n",
       "    <tr>\n",
       "      <th>4</th>\n",
       "      <td>Role-Playing</td>\n",
       "      <td>0.110</td>\n",
       "    </tr>\n",
       "    <tr>\n",
       "      <th>5</th>\n",
       "      <td>Simulation</td>\n",
       "      <td>0.100</td>\n",
       "    </tr>\n",
       "    <tr>\n",
       "      <th>6</th>\n",
       "      <td>Action</td>\n",
       "      <td>0.090</td>\n",
       "    </tr>\n",
       "    <tr>\n",
       "      <th>7</th>\n",
       "      <td>Misc</td>\n",
       "      <td>0.090</td>\n",
       "    </tr>\n",
       "    <tr>\n",
       "      <th>8</th>\n",
       "      <td>Racing</td>\n",
       "      <td>0.090</td>\n",
       "    </tr>\n",
       "    <tr>\n",
       "      <th>9</th>\n",
       "      <td>Strategy</td>\n",
       "      <td>0.060</td>\n",
       "    </tr>\n",
       "    <tr>\n",
       "      <th>10</th>\n",
       "      <td>Puzzle</td>\n",
       "      <td>0.045</td>\n",
       "    </tr>\n",
       "    <tr>\n",
       "      <th>11</th>\n",
       "      <td>Adventure</td>\n",
       "      <td>0.030</td>\n",
       "    </tr>\n",
       "  </tbody>\n",
       "</table>\n",
       "</div>"
      ],
      "text/plain": [
       "           genre  total_sales\n",
       "0        Shooter        0.515\n",
       "1         Sports        0.180\n",
       "2       Platform        0.140\n",
       "3       Fighting        0.125\n",
       "4   Role-Playing        0.110\n",
       "5     Simulation        0.100\n",
       "6         Action        0.090\n",
       "7           Misc        0.090\n",
       "8         Racing        0.090\n",
       "9       Strategy        0.060\n",
       "10        Puzzle        0.045\n",
       "11     Adventure        0.030"
      ]
     },
     "execution_count": 60,
     "metadata": {},
     "output_type": "execute_result"
    }
   ],
   "source": [
    "# просмотр сводной таблицы:\n",
    "data_by_genre"
   ]
  },
  {
   "cell_type": "code",
   "execution_count": 61,
   "metadata": {},
   "outputs": [
    {
     "data": {
      "image/png": "[encoded data removed]",
      "text/plain": [
       "<Figure size 432x288 with 1 Axes>"
      ]
     },
     "metadata": {
      "needs_background": "light"
     },
     "output_type": "display_data"
    }
   ],
   "source": [
    "# строим график:\n",
    "data_by_genre.plot(kind='bar', x='genre', y='total_sales')\n",
    "plt.title('Распределение игр по жанрам ')\n",
    "plt.xlabel('Жанры игр')\n",
    "plt.ylabel('Медианные значения продаж')\n",
    "plt.show()"
   ]
  },
  {
   "cell_type": "markdown",
   "metadata": {},
   "source": [
    "**Промежуточный вывод:**\\\n",
    "На фоне всех игр выделяется жанр Shooter с самым высоким медианным значением продаж, которое составляет 0,52 млн. проданных копий. Меньше всего продаж в жанре Adventure - 0.03 млн. проданных копий."
   ]
  },
  {
   "cell_type": "markdown",
   "metadata": {},
   "source": [
    "**Вывод:**\n",
    "1. Наибольшее количество игр было выпущено в 2008 году - 1 427 игр.\n",
    "С 1991 по 2008 год количество выпускаемых игр ежегодно росло достаточно быстрыми темпами. Вероятнее всего, это связано с развитием компьютеров и растущей популярностью игровых приставок.\\\n",
    "Начиная с 2009 по 2016 годы наблюдаем на графике снижение выпуска игр. Этому способствовало развитие мобильных технологий. В то время пользователи стали отдавать свое предпочтение мобильным играм. \\\n",
    "Данные за 1980-1990 годы имеют небольшое значение и информативность, так как в эти годы было выпущено совсем немного игр.\n",
    "2. Исходя из графика, наибольшие суммарные продажи по платформам PS2, X360, PS3.\n",
    "Для построения распределения по годам выбираем платформу с наибольшими суммарными продажами - PS2.\\\n",
    "Наибольшие суммарные продажи для платформы PS2 наблюдались в 2004 году, далее идет ежегодный резкий спад.\\\n",
    "Просмотрев распределения по годам первых трех платформ, лидирующих по суммарным продажам, можно сделать вывод, что платформа набирает популярность примерно 5 лет, достигает своего пика и далее идет на спад 5-7 лет.\\\n",
    "Таким образом, можно сделать вывод, что срок появления новых платформ и исчезновения старых - примерно за 5-7 лет.\\\n",
    "3. Учитывая высокую динамичность рынка, возьмем для исследования данные за последние 3 года.\\\n",
    "Формируем сводную таблицу продаж по платформам по годам.\\\n",
    "Исходя из графика, лидирует по продажам платформа PS4, за ней следуют платформы XOne и 3DS. с 2015 года по лидирующим платформам наблюдается спад продаж. Однако, продажи PS и XOne на порядок выше, чем у других, следовательно, их можно считать потенциально прибыльными.\n",
    "4. Исходя из диаграммы размаха, наибольшие продажи у платформ PS3 и PS4, самые низкие у DS. Видно, что есть выбросы, особенно на отрезке 1-4 млн.\n",
    "5. Для просмотра влияния на продажи отзывов пользователей и критиков выбираем платформу с наибольшими суммарными продажами - PS4. \n",
    "Изучив соотношение отзывов покупателей и критиков можно сделать вывод, что большую часть составляют высокие оценки. \n",
    "Корреляция между отзывами пользователей и продажами слабая - -0.040131589472697356.\n",
    "Корреляция между отзывами критиков и продажами умеренная - 0.40266141068104083.\\\n",
    "Исходя из расчета корреляции между отзывами пользователей и суммарными продажами по топ-7 платформам наблюдается сильная связь по платформе Wii, умеренная связь по платформе WiiU и слабая связь по остальным платформам (PS4, XOne, X360, PS3, 3DS).\\\n",
    "Между отзывами критиков и суммарными продажами наблюдается умеренная связь практически по всем платформам (PS4, XOne, WiiU, X360, PS3, 3DS), за исключением платформы Wii. Вероятнее всего, значение NaN при расчете корреляции возникло из-за отсутствия данных.\\\n",
    "Такие показатели могут говорить о том, что покупатели приобретают игры не полагаясь на отзывы пользователей, однако обращают внимание на отзывы критиков.\n",
    "6. На фоне всех игр выделяется жанр Shooter с самым высоким медианным значением продаж, которое составляет 0,52 млн. проданных копий. Меньше всего продаж в жанре Adventure - 0.03 млн. проданных копий."
   ]
  },
  {
   "cell_type": "markdown",
   "metadata": {},
   "source": [
    "#### Шаг 4. Составление портрета пользователя каждого региона"
   ]
  },
  {
   "cell_type": "markdown",
   "metadata": {},
   "source": [
    "4.1 Определение для пользователя каждого региона (NA, EU, JP) самых популярных платформ (топ-5). Описание различия в долях продаж."
   ]
  },
  {
   "cell_type": "code",
   "execution_count": 62,
   "metadata": {},
   "outputs": [],
   "source": [
    "# формируем сводную таблицу для пользователя\n",
    "# каждого региона (NA, EU, JP) по платформам:\n",
    "total_sales_by_region = period_data.pivot_table(index = 'platform',\\\n",
    "                                         values = ['na_sales',\\\n",
    "                                                   'eu_sales',\\\n",
    "                                                   'jp_sales'],\\\n",
    "                                         aggfunc = 'sum')\\\n",
    "                            .sort_values(by = ['na_sales',\\\n",
    "                                               'eu_sales',\\\n",
    "                                               'jp_sales'],\\\n",
    "                                        ascending = False)"
   ]
  },
  {
   "cell_type": "code",
   "execution_count": 63,
   "metadata": {},
   "outputs": [
    {
     "data": {
      "text/html": [
       "<div>\n",
       "<style scoped>\n",
       "    .dataframe tbody tr th:only-of-type {\n",
       "        vertical-align: middle;\n",
       "    }\n",
       "\n",
       "    .dataframe tbody tr th {\n",
       "        vertical-align: top;\n",
       "    }\n",
       "\n",
       "    .dataframe thead th {\n",
       "        text-align: right;\n",
       "    }\n",
       "</style>\n",
       "<table border=\"1\" class=\"dataframe\">\n",
       "  <thead>\n",
       "    <tr style=\"text-align: right;\">\n",
       "      <th></th>\n",
       "      <th>eu_sales</th>\n",
       "      <th>jp_sales</th>\n",
       "      <th>na_sales</th>\n",
       "    </tr>\n",
       "    <tr>\n",
       "      <th>platform</th>\n",
       "      <th></th>\n",
       "      <th></th>\n",
       "      <th></th>\n",
       "    </tr>\n",
       "  </thead>\n",
       "  <tbody>\n",
       "    <tr>\n",
       "      <th>PS4</th>\n",
       "      <td>130.04</td>\n",
       "      <td>15.02</td>\n",
       "      <td>98.61</td>\n",
       "    </tr>\n",
       "    <tr>\n",
       "      <th>XOne</th>\n",
       "      <td>46.25</td>\n",
       "      <td>0.32</td>\n",
       "      <td>81.27</td>\n",
       "    </tr>\n",
       "    <tr>\n",
       "      <th>X360</th>\n",
       "      <td>15.49</td>\n",
       "      <td>0.08</td>\n",
       "      <td>28.30</td>\n",
       "    </tr>\n",
       "    <tr>\n",
       "      <th>3DS</th>\n",
       "      <td>16.12</td>\n",
       "      <td>44.24</td>\n",
       "      <td>22.64</td>\n",
       "    </tr>\n",
       "    <tr>\n",
       "      <th>PS3</th>\n",
       "      <td>25.54</td>\n",
       "      <td>11.22</td>\n",
       "      <td>22.05</td>\n",
       "    </tr>\n",
       "    <tr>\n",
       "      <th>WiiU</th>\n",
       "      <td>13.15</td>\n",
       "      <td>7.31</td>\n",
       "      <td>19.36</td>\n",
       "    </tr>\n",
       "    <tr>\n",
       "      <th>PC</th>\n",
       "      <td>17.97</td>\n",
       "      <td>0.00</td>\n",
       "      <td>7.23</td>\n",
       "    </tr>\n",
       "    <tr>\n",
       "      <th>PSV</th>\n",
       "      <td>3.53</td>\n",
       "      <td>14.54</td>\n",
       "      <td>2.52</td>\n",
       "    </tr>\n",
       "    <tr>\n",
       "      <th>Wii</th>\n",
       "      <td>2.59</td>\n",
       "      <td>0.00</td>\n",
       "      <td>2.08</td>\n",
       "    </tr>\n",
       "    <tr>\n",
       "      <th>PSP</th>\n",
       "      <td>0.00</td>\n",
       "      <td>0.36</td>\n",
       "      <td>0.00</td>\n",
       "    </tr>\n",
       "  </tbody>\n",
       "</table>\n",
       "</div>"
      ],
      "text/plain": [
       "          eu_sales  jp_sales  na_sales\n",
       "platform                              \n",
       "PS4         130.04     15.02     98.61\n",
       "XOne         46.25      0.32     81.27\n",
       "X360         15.49      0.08     28.30\n",
       "3DS          16.12     44.24     22.64\n",
       "PS3          25.54     11.22     22.05\n",
       "WiiU         13.15      7.31     19.36\n",
       "PC           17.97      0.00      7.23\n",
       "PSV           3.53     14.54      2.52\n",
       "Wii           2.59      0.00      2.08\n",
       "PSP           0.00      0.36      0.00"
      ]
     },
     "execution_count": 63,
     "metadata": {},
     "output_type": "execute_result"
    }
   ],
   "source": [
    "# просмотр сводной таблицы:\n",
    "total_sales_by_region"
   ]
  },
  {
   "cell_type": "code",
   "execution_count": 64,
   "metadata": {
    "scrolled": false
   },
   "outputs": [
    {
     "data": {
      "image/png": "[encoded data removed]",
      "text/plain": [
       "<Figure size 720x360 with 1 Axes>"
      ]
     },
     "metadata": {
      "needs_background": "light"
     },
     "output_type": "display_data"
    }
   ],
   "source": [
    "# строим график:\n",
    "total_sales_by_region.plot(y=['na_sales','eu_sales','jp_sales'],\\\n",
    "                           kind='bar',\\\n",
    "                           figsize=(10, 5))\n",
    "plt.title('Суммарные продажи по каждому региону (NA, EU, JP) по платформам')\n",
    "plt.xlabel('Платформы')\n",
    "plt.ylabel('Суммарные продажи')\n",
    "plt.show()"
   ]
  },
  {
   "cell_type": "markdown",
   "metadata": {},
   "source": [
    "**Промежуточный вывод:**\\\n",
    "Наибольшие суммарные продажи в регионе Северная Америка (NA) по платформам распределились следующим образом: PS4, XOne, X360, 3DS, PS3.\\\n",
    "Топ-5 продаж по платформам в Европе (EU) составили PS4, XOne, PS3, PC, 3DS по порядку.\n",
    "В регионе Япония (JP) по продажам лидируют платформы 3DS, PS4, PSV, PS3, WiiU."
   ]
  },
  {
   "cell_type": "code",
   "execution_count": 65,
   "metadata": {},
   "outputs": [],
   "source": [
    "# формируем сводную таблицу продаж в Северной Америке (NA) за последние 3 года:\n",
    "na_sales = period_data.pivot_table(index = 'platform',\\\n",
    "                                   values = 'na_sales',\\\n",
    "                                   aggfunc = 'sum')\\\n",
    "                      .sort_values(by='na_sales',\\\n",
    "                                   ascending=False)"
   ]
  },
  {
   "cell_type": "code",
   "execution_count": 66,
   "metadata": {},
   "outputs": [
    {
     "data": {
      "image/png": "[encoded data removed]",
      "text/plain": [
       "<Figure size 432x288 with 1 Axes>"
      ]
     },
     "metadata": {},
     "output_type": "display_data"
    }
   ],
   "source": [
    "# строим диаграмму продаж топ-5 платформ в Северной Америке (NA)\n",
    "# за последние 3 года:\n",
    "na_sales.head().plot(y='na_sales',kind='pie', autopct = '%.1f%%')\n",
    "plt.title('Доля продаж топ-5 платформ в Северной Америке (NA) за последние 3 года')\n",
    "plt.ylabel('')\n",
    "plt.legend().set_visible(False)\n",
    "plt.show()"
   ]
  },
  {
   "cell_type": "code",
   "execution_count": 67,
   "metadata": {},
   "outputs": [],
   "source": [
    "# формируем сводную таблицу продаж в Европе (EU) за последние 3 года:\n",
    "eu_sales = period_data.pivot_table(index = 'platform',\\\n",
    "                                   values = 'eu_sales',\\\n",
    "                                   aggfunc = 'sum')\\\n",
    "                      .sort_values(by='eu_sales',\\\n",
    "                                   ascending=False)"
   ]
  },
  {
   "cell_type": "code",
   "execution_count": 68,
   "metadata": {},
   "outputs": [
    {
     "data": {
      "image/png": "[encoded data removed]",
      "text/plain": [
       "<Figure size 432x288 with 1 Axes>"
      ]
     },
     "metadata": {},
     "output_type": "display_data"
    }
   ],
   "source": [
    "# строим диаграмму продаж топ-5 платформ в Европе (EU) за последние 3 года:\n",
    "eu_sales.head().plot(y='eu_sales',kind='pie', autopct = '%.1f%%')\n",
    "plt.title('Доля продаж топ-5 платформ в Европе (EU) за последние 3 года')\n",
    "plt.ylabel('')\n",
    "plt.legend().set_visible(False)\n",
    "plt.show()"
   ]
  },
  {
   "cell_type": "code",
   "execution_count": 69,
   "metadata": {},
   "outputs": [],
   "source": [
    "# формируем сводную таблицу продаж в Японии (JP) за последние 3 года:\n",
    "jp_sales = period_data.pivot_table(index = 'platform',\\\n",
    "                                   values = 'jp_sales',\\\n",
    "                                   aggfunc = 'sum')\\\n",
    "                      .sort_values(by='jp_sales',\\\n",
    "                                   ascending=False)"
   ]
  },
  {
   "cell_type": "code",
   "execution_count": 70,
   "metadata": {},
   "outputs": [
    {
     "data": {
      "image/png": "[encoded data removed]",
      "text/plain": [
       "<Figure size 432x288 with 1 Axes>"
      ]
     },
     "metadata": {},
     "output_type": "display_data"
    }
   ],
   "source": [
    "# строим диаграмму продаж топ-5 платформ в Японии (JP) за последние 3 года:\n",
    "jp_sales.head().plot(y='jp_sales',kind='pie', autopct = '%.1f%%')\n",
    "plt.title('Доля продаж топ-5 платформ в Японии (JP) за последние 3 года')\n",
    "plt.ylabel('')\n",
    "plt.legend().set_visible(False)\n",
    "plt.show()"
   ]
  },
  {
   "cell_type": "markdown",
   "metadata": {},
   "source": [
    "**Промежуточный вывод:**\\\n",
    "Исходя из диаграммы, за последние 3 года в Северной Америке самая популярная платформа PS4. Доля ее продаж составила 39,0%. Далее идут XOne и X360 с долями 32,1% и 11,2% соответственно.\\\n",
    "В Европе по продажам также лидирует PS4 с долей продаж 55,1%. На втором месте XOne с продажами 19,6%. На третьем месте PS3, где доля продаж составила 10,8%.\n",
    "В Японии самые большие продажи у 3DS - 47,9%. Далее платформа PS4 с долей продаж 16,3%. На третьем месте PSV, доля продаж у которой составила 15,7%."
   ]
  },
  {
   "cell_type": "markdown",
   "metadata": {},
   "source": [
    "4.2 Определение для пользователя каждого региона (NA, EU, JP) самых популярных жанров (топ-5)."
   ]
  },
  {
   "cell_type": "code",
   "execution_count": 71,
   "metadata": {},
   "outputs": [],
   "source": [
    "# формируем сводную таблицу продаж по жанрам в Северной Америке (NA)\n",
    "# за последние 3 года:\n",
    "na_genre = period_data.pivot_table(index = 'genre',\\\n",
    "                                   values= 'na_sales',\\\n",
    "                                   aggfunc = 'sum')\\\n",
    "                      .sort_values(by ='na_sales',\\\n",
    "                                   ascending = False)                                         "
   ]
  },
  {
   "cell_type": "code",
   "execution_count": 72,
   "metadata": {},
   "outputs": [
    {
     "data": {
      "image/png": "[encoded data removed]",
      "text/plain": [
       "<Figure size 432x288 with 1 Axes>"
      ]
     },
     "metadata": {},
     "output_type": "display_data"
    }
   ],
   "source": [
    "# строим диаграмму продаж топ-5 платформ по жанрам\n",
    "# в Северной Америке (NA) за последние 3 года:\n",
    "na_genre.head().plot(y='na_sales', kind='pie', autopct = '%.1f%%')\n",
    "plt.title('Доля продаж по жанрам в Северной Америке (NA) за последние 3 года')\n",
    "plt.ylabel('')\n",
    "plt.legend().set_visible(False)\n",
    "plt.show()"
   ]
  },
  {
   "cell_type": "code",
   "execution_count": 73,
   "metadata": {},
   "outputs": [],
   "source": [
    "# формируем сводную таблицу продаж по жанрам в Европе (EU)\n",
    "# за последние 3 года:\n",
    "eu_genre = period_data.pivot_table(index = 'genre',\\\n",
    "                                   values= 'eu_sales',\\\n",
    "                                   aggfunc = 'sum')\\\n",
    "                      .sort_values(by ='eu_sales',\\\n",
    "                                   ascending = False)                                    "
   ]
  },
  {
   "cell_type": "code",
   "execution_count": 74,
   "metadata": {},
   "outputs": [
    {
     "data": {
      "image/png": "[encoded data removed]",
      "text/plain": [
       "<Figure size 432x288 with 1 Axes>"
      ]
     },
     "metadata": {},
     "output_type": "display_data"
    }
   ],
   "source": [
    "# строим диаграмму продаж топ-5 платформ по жанрам\n",
    "# в Европе (EU) за последние 3 года:\n",
    "eu_genre.head().plot(y='eu_sales', kind='pie', autopct = '%.1f%%')\n",
    "plt.title('Доля продаж по жанрам в Европе (EU) за последние 3 года')\n",
    "plt.ylabel('')\n",
    "plt.legend().set_visible(False)\n",
    "plt.show()"
   ]
  },
  {
   "cell_type": "code",
   "execution_count": 75,
   "metadata": {},
   "outputs": [],
   "source": [
    "# формируем сводную таблицу продаж по жанрам в Японии (JP) за последние 3 года:\n",
    "jp_genre = period_data.pivot_table(index = 'genre',\\\n",
    "                                   values= 'jp_sales',\\\n",
    "                                   aggfunc = 'sum')\\\n",
    "                      .sort_values(by ='jp_sales',\\\n",
    "                                   ascending = False)                                    "
   ]
  },
  {
   "cell_type": "code",
   "execution_count": 76,
   "metadata": {},
   "outputs": [
    {
     "data": {
      "image/png": "[encoded data removed]",
      "text/plain": [
       "<Figure size 432x288 with 1 Axes>"
      ]
     },
     "metadata": {},
     "output_type": "display_data"
    }
   ],
   "source": [
    "# строим диаграмму продаж топ-5 платформ по жанрам\n",
    "# в Японии (JP) за последние 3 года:\n",
    "jp_genre.head().plot(y='jp_sales', kind='pie', autopct = '%.1f%%')\n",
    "plt.title('Доля продаж по жанрам в Японии (JP) за последние 3 года')\n",
    "plt.ylabel('')\n",
    "plt.legend().set_visible(False)\n",
    "plt.show()"
   ]
  },
  {
   "cell_type": "markdown",
   "metadata": {},
   "source": [
    "**Промежуточный вывод:**\\\n",
    "Исходя из диаграммы наибольшая доля продаж в Северной Америке за последние 3 года в жанре Shooter 32,1%. Далее идут продажи в жанре Action - 29,5%. На третьем месте жанр Sports с долей продаж 18,7%.\\\n",
    "В Европе лидирует жанр Action с долей продаж 32,7%. На втором месте продажи игр в жанре Shooter 28,7%, на третьем месте жанр Sports - 20,0%.\\\n",
    "Наибольшая доля продаж в Японии наблюдается в жанре Role-Playing. Здесь доля продаж составила 40,2%. Далее идет жанр Action с долей продаж 38,1%. На третьем месте продажи в жанре Fighting - 8,2%. "
   ]
  },
  {
   "cell_type": "markdown",
   "metadata": {},
   "source": [
    "4.3 Влияние рейтинга ESRB на продажи в каждом регионе (NA, EU, JP)."
   ]
  },
  {
   "cell_type": "code",
   "execution_count": 77,
   "metadata": {},
   "outputs": [],
   "source": [
    "# формируем сводную таблицу продаж по рейтингу ESRB\n",
    "# в Северной Америке (NA) за последние 3 года:\n",
    "na_rating = period_data.pivot_table(index = 'rating',\\\n",
    "                                    values= 'na_sales',\\\n",
    "                                    aggfunc = 'sum')\\\n",
    "                       .sort_values(by ='na_sales',\\\n",
    "                                    ascending = False)   "
   ]
  },
  {
   "cell_type": "code",
   "execution_count": 78,
   "metadata": {},
   "outputs": [
    {
     "data": {
      "image/png": "[encoded data removed]",
      "text/plain": [
       "<Figure size 432x288 with 1 Axes>"
      ]
     },
     "metadata": {},
     "output_type": "display_data"
    }
   ],
   "source": [
    "# строим диаграмму продаж:\n",
    "na_rating.plot(y='na_sales', kind='pie', autopct = '%.1f%%')\n",
    "plt.title('Доля продаж по рейтингу ESRB в Северной Америке (NA) за последние 3 года')\n",
    "plt.ylabel('')\n",
    "plt.legend().set_visible(False)\n",
    "plt.show()"
   ]
  },
  {
   "cell_type": "code",
   "execution_count": 79,
   "metadata": {},
   "outputs": [],
   "source": [
    "# формируем сводную таблицу продаж по рейтингу ESRB\n",
    "# в Европе (EU) за последние 3 года:\n",
    "eu_rating = period_data.pivot_table(index = 'rating',\\\n",
    "                                    values= 'eu_sales',\\\n",
    "                                    aggfunc = 'sum')\\\n",
    "                        .sort_values(by ='eu_sales',\\\n",
    "                                     ascending = False)"
   ]
  },
  {
   "cell_type": "code",
   "execution_count": 80,
   "metadata": {},
   "outputs": [
    {
     "data": {
      "image/png": "[encoded data removed]",
      "text/plain": [
       "<Figure size 432x288 with 1 Axes>"
      ]
     },
     "metadata": {},
     "output_type": "display_data"
    }
   ],
   "source": [
    "# строим диаграмму продаж:\n",
    "eu_rating.plot(y='eu_sales', kind='pie', autopct = '%.1f%%')\n",
    "plt.title('Доля продаж по рейтингу ESRB в Европе (EU) за последние 3 года')\n",
    "plt.ylabel('')\n",
    "plt.legend().set_visible(False)\n",
    "plt.show()"
   ]
  },
  {
   "cell_type": "code",
   "execution_count": 81,
   "metadata": {},
   "outputs": [],
   "source": [
    "# формируем сводную таблицу продаж по рейтингу ESRB\n",
    "# в Японии (JP) за последние 3 года:\n",
    "jp_rating = period_data.pivot_table(index = 'rating',\\\n",
    "                                    values= 'jp_sales',\\\n",
    "                                    aggfunc = 'sum')\\\n",
    "                        .sort_values(by ='jp_sales',\\\n",
    "                                     ascending = False)"
   ]
  },
  {
   "cell_type": "code",
   "execution_count": 82,
   "metadata": {},
   "outputs": [
    {
     "data": {
      "image/png": "[encoded data removed]",
      "text/plain": [
       "<Figure size 432x288 with 1 Axes>"
      ]
     },
     "metadata": {},
     "output_type": "display_data"
    }
   ],
   "source": [
    "# строим диаграмму продаж:\n",
    "jp_rating.plot(y='jp_sales', kind='pie', autopct = '%.1f%%')\n",
    "plt.title('Доля продаж по рейтингу ESRB в Японии (JP) за последние 3 года')\n",
    "plt.ylabel('')\n",
    "plt.legend().set_visible(False)\n",
    "plt.show()"
   ]
  },
  {
   "cell_type": "markdown",
   "metadata": {},
   "source": [
    "**Промежуточный вывод:**\\\n",
    "Наибольшую долю продаж в Северной Америке по рейтингу ESRB составляют игры с рейтингом М - 33,9%. На втором месте игры без рейтинга, доля их продаж составляет 22,8%. Далее идут игры с рейтингом Е - 17,9%.\\\n",
    "В Европе по рейтингу ESRB также наибольшая доля продаж игр с рейтингом М - 34,5%. Далее идут продажи игр без рейтинга - 21,8%. На третьем месте также игры с рейтингом Е и их доля составляет 21,4%.\\\n",
    "На первом месте по рейтингу ESRB в Японии игры без рейтинга и доля их продаж составляет 61,1%. Далее игры с рейтингом Т, доля их продаж - 15,9%. На третьем месте игры с рейтингом Е с долей продаж 9,6%.\\\n",
    "Таким образом, исходя из долей продаж, которые занимают игры без рейтинга, можно сделать вывод, что рейтинг ESRB не оказывает значительного влияния на объемы продаж игры."
   ]
  },
  {
   "cell_type": "markdown",
   "metadata": {},
   "source": [
    "**Вывод:**\n",
    "1. Наибольшие суммарные продажи в регионе Северная Америка (NA) по платформам распределились следующим образом: PS4, XOne, X360, 3DS, PS3.\\\n",
    "Топ-5 продаж по платформам в Европе (EU) составили PS4, XOne, PS3, PC, 3DS по порядку.\n",
    "В регионе Япония (JP) по продажам лидируют платформы 3DS, PS4, PSV, PS3, WiiU.\\\n",
    "Исходя из диаграммы, за последние 3 года в Северной Америке самая популярная платформа PS4. Доля ее продаж составила 39,0%. Далее идут XOne и X360 с долями 32,1% и 11,2% соответственно.\\\n",
    "В Европе по продажам также лидирует PS4 с долей продаж 55,1%. На втором месте XOne с продажами 19,6%. На третьем месте PS3, где доля продаж составила 10,8%.\n",
    "В Японии самые большие продажи у 3DS - 47,9%. Далее платформа PS4 с долей продаж 16,3%. На третьем месте PSV, доля продаж у которой составила 15,7%.\n",
    "2. Исходя из диаграммы наибольшая доля продаж в Северной Америке за последние 3 года в жанре Shooter 32,1%. Далее идут продажи в жанре Action - 29,5%. На третьем месте жанр Sports с долей продаж 18,7%.\\\n",
    "В Европе лидирует жанр Action с долей продаж 32,7%. На втором месте продажи игр в жанре Shooter 28,7%, на третьем месте жанр Sports - 20,0%.\\\n",
    "Наибольшая доля продаж в Японии наблюдается в жанре Role-Playing. Здесь доля продаж составила 40,2%. Далее идет жанр Action с долей продаж 38,1%. На третьем месте продажи в жанре Fighting - 8,2%. \n",
    "3. Наибольшую долю продаж в Северной Америке по рейтингу ESRB составляют игры с рейтингом М - 33,9%. На втором месте игры без рейтинга, доля их продаж составляет 22,8%. Далее идут игры с рейтингом Е - 17,9%.\\\n",
    "В Европе по рейтингу ESRB также наибольшая доля продаж игр с рейтингом М - 34,5%. Далее идут продажи игр без рейтинга - 21,8%. На третьем месте также игры с рейтингом Е и их доля составляет 21,4%.\\\n",
    "На первом месте по рейтингу ESRB в Японии игры без рейтинга и доля их продаж составляет 61,1%. Далее игры с рейтингом Т, доля их продаж - 15,9%. На третьем месте игры с рейтингом Е с долей продаж 9,6%.\\\n",
    "Таким образом, исходя из долей продаж, которые занимают игры без рейтинга, можно сделать вывод, что рейтинг ESRB не оказывает значительного влияния на объемы продаж игры."
   ]
  },
  {
   "cell_type": "markdown",
   "metadata": {},
   "source": [
    "#### Шаг 5. Проверьте гипотезы"
   ]
  },
  {
   "cell_type": "markdown",
   "metadata": {},
   "source": [
    "5.1 Проверка гипотезы: \"Средние пользовательские рейтинги платформ Xbox One и PC одинаковые\"."
   ]
  },
  {
   "cell_type": "markdown",
   "metadata": {},
   "source": [
    "Выдвигаем гипотезы:\\\n",
    "Н0 - Средний пользовательский рейтинг Xbox One равен среднему пользовательскому рейтингу платформы PC.\\\n",
    "Н1 - Средний пользовательский рейтинг Xbox One не равен среднему пользовательскому рейтингу платформы PC."
   ]
  },
  {
   "cell_type": "code",
   "execution_count": 83,
   "metadata": {},
   "outputs": [
    {
     "name": "stdout",
     "output_type": "stream",
     "text": [
      "p-значение: 0.10450507919348415\n",
      "Не получилось отвергнуть нулевую гипотезу\n"
     ]
    }
   ],
   "source": [
    "# проверяем гипотезы методом st.ttest_ind:\n",
    "xone_user_score = period_data[(period_data['platform']== 'XOne') &\\\n",
    "                         (period_data['user_score']!=-1)]['user_score']\n",
    "pc_user_score = period_data[(period_data['platform']=='PC')&\\\n",
    "                       (period_data['user_score']!=-1)]['user_score']\n",
    "\n",
    "alpha = 0.01\n",
    "\n",
    "results = st.ttest_ind(xone_user_score, pc_user_score)\n",
    "print('p-значение:', results.pvalue)\n",
    "\n",
    "if results.pvalue < alpha:\n",
    "    print('Отвергаем нулевую гипотезу')\n",
    "else:\n",
    "    print('Не получилось отвергнуть нулевую гипотезу') "
   ]
  },
  {
   "cell_type": "markdown",
   "metadata": {},
   "source": [
    "**Вывод теста гипотезы:**\\\n",
    "Для проверки гипотезы применяем метод st.ttest_ind, так как это гипотеза о равенстве средних двух генеральных совокупностей.\\\n",
    "Это двустронняя гипотеза.\\\n",
    "Принимаем alpha = 0.01 для получения более точного результата.\\\n",
    "В результате проверки гипотезы p-value равно 10,5%, нулевую гипотезу не получилось отвергнуть.\\\n",
    "С большой долей вероятности средние пользовательские рейтинги платформ XOne и PC не имеют статистически значимых отличий."
   ]
  },
  {
   "cell_type": "markdown",
   "metadata": {},
   "source": [
    "5.2 Проверка гипотезы: \"Средние пользовательские рейтинги жанров Action (англ. «действие», экшен-игры) и Sports (англ. «спортивные соревнования») разные\"."
   ]
  },
  {
   "cell_type": "markdown",
   "metadata": {},
   "source": [
    "Выдвигаем гипотезы:\\\n",
    "Н0 - Средний пользовательский рейтинг жанра Action равен среднему пользовательскому рейтингу жанра Sports.\\\n",
    "Н1 - Средний пользовательский рейтинг жанра Action не равен среднему пользовательскому рейтингу жанра Sports."
   ]
  },
  {
   "cell_type": "code",
   "execution_count": 84,
   "metadata": {},
   "outputs": [
    {
     "name": "stdout",
     "output_type": "stream",
     "text": [
      "p-значение: 2.8711147985105864e-19\n",
      "Отвергаем нулевую гипотезу\n"
     ]
    }
   ],
   "source": [
    "# проверяем гипотезы методом st.ttest_ind:\n",
    "action_user_score = period_data[(period_data['genre']== 'Action') &\\\n",
    "                                (period_data['user_score']!=-1)]['user_score']\n",
    "sports_user_score = period_data[(period_data['genre']=='Sports')&\\\n",
    "                           (period_data['user_score']!=-1)]['user_score']\n",
    "\n",
    "alpha = 0.01\n",
    "\n",
    "results = st.ttest_ind(action_user_score, sports_user_score)\n",
    "print('p-значение:', results.pvalue)\n",
    "\n",
    "if results.pvalue < alpha:\n",
    "    print('Отвергаем нулевую гипотезу')\n",
    "else:\n",
    "    print('Не получилось отвергнуть нулевую гипотезу') "
   ]
  },
  {
   "cell_type": "markdown",
   "metadata": {},
   "source": [
    "**Вывод теста гипотезы:**\\\n",
    "Для проверки гипотезы применяем метод st.ttest_ind, так как это гипотеза о равенстве средних двух генеральных совокупностей.\\\n",
    "Это односторонняя гипотеза.\\\n",
    "Принимаем alpha = 0.01 для получения более точного результата.\\\n",
    "В результате проверки гипотезы, нулевую гипотезу о равенстве средних пользовательских рейтингов жанров Action и Sports отвергаем.\\\n",
    "С большой долей вероятности средние пользовательские рейтинги жанров Action и Sports имеют статистически значимые отличия."
   ]
  },
  {
   "cell_type": "markdown",
   "metadata": {},
   "source": [
    "**Вывод:**\n",
    "1. Для проверки гипотезы применяем метод st.ttest_ind, так как это гипотеза о равенстве средних двух генеральных совокупностей.\\\n",
    "Принимаем alpha = 0.01 для получения более точного результата.\\\n",
    "В результате проверки гипотезы p-value равно 10,5%, нулевую гипотезу не получилось отвергнуть.\\\n",
    "С большой долей вероятности средние пользовательские рейтинги платформ XOne и PC не имеют статистически значимых отличий.\n",
    "2. Для проверки гипотезы применяем метод st.ttest_ind, так как это гипотеза о равенстве средних двух генеральных совокупностей.\\\n",
    "Это односторонняя гипотеза.\\\n",
    "Принимаем alpha = 0.01 для получения более точного результата.\\\n",
    "В результате проверки гипотезы, нулевую гипотезу о равенстве средних пользовательских рейтингов жанров Action и Sports отвергаем.\\\n",
    "С большой долей вероятности средние пользовательские рейтинги жанров Action и Sports имеют статистически значимые отличия."
   ]
  },
  {
   "cell_type": "markdown",
   "metadata": {},
   "source": [
    "#### Шаг 6. Общий вывод"
   ]
  },
  {
   "cell_type": "markdown",
   "metadata": {},
   "source": [
    "**1. Открытие файла с данными и изучение общей информации.**\\\n",
    "В датафрейме data 16 715 записей.\\\n",
    "В данных имеются следующие пропуски: 2 пропуска в столбце Name, 269 пропусков в столбце Year_of_Release, 8578 пропусков в столбце Critic_Score, 6701 пропусков в столбце User_Score, 6766 пропусков в столбце Rating.\\\n",
    "Названия столбцов являются некорректными, их необходимо будет привести к нижнему регистру.\\\n",
    "Типы данных в столбцах Year_of_Release, User_Score не соответствуют содержащимся в них данным. \n",
    "\n",
    "**2. Подготовка данных.**\n",
    "- Привели названия столбцов к нижнему регистру.\n",
    "- Заменили типы данных в следующих столбцах:\n",
    " * в столбце year_of_release привели значения к типу данных int, поскольку год выпуска отражается целым числом, предварительно удалив строки с пропущенными значениями;\n",
    " * в столбце user_score привели значения к типу данных float, поскольку оценки игр пользователей являются числовыми по аналогии с оценками критиков. tbd, встречающееся в столбце, означает — To Be Determined, т.е. \"Будет определено\", т.е. неизвестное значение, которое фактически является NaN. Заменяем NaN и tbd на 0 и меняем тип данных на число с плавающей точкой.\n",
    "- Удаляем строки с пропущенными значениями в столбце name, поскольку без названия игры такие строки не несут никакой информации.\\\n",
    "Так получилось, что пропуски в столбце name совпали с пропусками в столбце genre и эти строки были удалены на предыдущем шаге.\\\n",
    "В столбцах critic_score и rating пропущенные значения заменяем на 0. Пропуски в данных могли возникнуть из-за ошибки при вводе данных или отсутствия необходимой информации.\\\n",
    "tbd в столбце с оценкой пользователей означает — To Be Determined, т.е. \"Будет определено\", т.е. неизвестное значение, которое фактически является NaN. В связи с этим при обработке можем заменить tbd на 0, по аналогии с NaN.\n",
    "- Посчитали суммарные продажи во всех регионах и записали их в отдельный столбец total_sales.\n",
    "- Явных дубликатов не обнаружено.\\\n",
    "Обнаружено 2 неявных дубликата. Строки, совпадающие по названию, платформе и году релиза одновременно удалены из датафрейма.\n",
    "\n",
    " **3. Проведение исследовательского анализа данных.**\n",
    "- Наибольшее количество игр было выпущено в 2008 году - 1 427 игр.\\\n",
    "С 1991 по 2008 год количество выпускаемых игр ежегодно росло достаточно быстрыми темпами. Вероятнее всего, это связано с развитием компьютеров и растущей популярностью игровых приставок.\\\n",
    "Начиная с 2009 по 2016 годы наблюдаем на графике снижение выпуска игр. Этому способствовало развитие мобильных технологий. В то время пользователи стали отдавать свое предпочтение мобильным играм. \\\n",
    "Данные за 1980-1990 годы имеют небольшое значение и информативность, так как в эти годы было выпущено совсем немного игр.\n",
    "- Исходя из графика, наибольшие суммарные продажи по платформам PS2, X360, PS3.\n",
    "Для построения распределения по годам выбираем платформу с наибольшими суммарными продажами - PS2. \n",
    "Наибольшие суммарные продажи для платформы PS2 наблюдались в 2004 году, далее идет ежегодный резкий спад.\n",
    "Просмотрев распределения по годам первых трех платформ, лидирующих по суммарным продажам, можно сделать вывод, что платформа набирает популярность примерно 5 лет, достигает своего пика и далее идет на спад 5-7 лет.\n",
    "Таким образом, можно сделать вывод, что срок появления новых платформ и исчезновения старых - примерно за 5-7 лет.\n",
    "- Учитывая высокую динамичность рынка, возьмем для исследования данные за последние 3 года.\\\n",
    "Формируем сводную таблицу продаж по платформам по годам.\\\n",
    "Исходя из графика, лидирует по продажам платформа PS4, за ней следуют платформы XOne и 3DS. с 2015 года по лидирующим платформам наблюдается спад продаж. Однако, продажи PS и XOne на порядок выше, чем у других, следовательно, их можно считать потенциально прибыльными.\n",
    "- Исходя из диаграммы размаха, наибольшие продажи у платформ PS3 и PS4, самые низкие у DS. Видно, что есть выбросы, особенно на отрезке 1-4 млн.\n",
    "- Для просмотра влияния на продажи отзывов пользователей и критиков выбираем платформу с наибольшими суммарными продажами - PS4. \\\n",
    "Изучив соотношение отзывов покупателей и критиков можно сделать вывод, что большую часть составляют высокие оценки.\\\n",
    "Корреляция между отзывами пользователей и продажами слабая - 0.11311562450852881.\\\n",
    "Корреляция между отзывами критиков и продажами слабая - 0.22754960627752652.\\\n",
    "Исходя из расчета корреляции между отзывами пользователей и суммарными продажами по топ-7 платформам наблюдается сильная связь по платформе Wii, умеренная связь по платформе WiiU и слабая связь по остальным платформам (PS4, XOne, X360, PS3, 3DS).\\\n",
    "Между отзывами критиков и суммарными продажами наблюдается умеренная связь практически по всем платформам (PS4, XOne, WiiU, X360, PS3, 3DS), за исключением платформы Wii. Вероятнее всего, значение NaN при расчете корреляции возникло из-за отсутствия данных.\\\n",
    "Такие показатели могут говорить о том, что покупатели приобретают игры не полагаясь на отзывы пользователей, однако обращают внимание на отзывы критиков.\n",
    "- На фоне всех игр выделяется жанр Shooter с самым высоким медианным значением продаж, которое составляет 0,52 млн. проданных копий. Меньше всего продаж в жанре Adventure - 0.03 млн. проданных копий.\n",
    "\n",
    " **4. Составление портрета пользователя каждого региона.**\n",
    "- Наибольшие суммарные продажи в регионе Северная Америка (NA) по платформам распределились следующим образом: PS4, XOne, X360, 3DS, PS3.\\\n",
    "Топ-5 продаж по платформам в Европе (EU) составили PS4, XOne, PS3, PC, 3DS по порядку.\n",
    "В регионе Япония (JP) по продажам лидируют платформы 3DS, PS4, PSV, PS3, WiiU.\\\n",
    "Исходя из диаграммы, за последние 3 года в Северной Америке самая популярная платформа PS4. Доля ее продаж составила 39,0%. Далее идут XOne и X360 с долями 32,1% и 11,2% соответственно.\\\n",
    "В Европе по продажам также лидирует PS4 с долей продаж 55,1%. На втором месте XOne с продажами 19,6%. На третьем месте PS3, где доля продаж составила 10,8%.\n",
    "В Японии самые большие продажи у 3DS - 47,9%. Далее платформа PS4 с долей продаж 16,3%. На третьем месте PSV, доля продаж у которой составила 15,7%.\n",
    "- Исходя из диаграммы наибольшая доля продаж в Северной Америке за последние 3 года в жанре Shooter 32,1%. Далее идут продажи в жанре Action - 29,5%. На третьем месте жанр Sports с долей продаж 18,7%.\\\n",
    "В Европе лидирует жанр Action с долей продаж 32,7%. На втором месте продажи игр в жанре Shooter 28,7%, на третьем месте жанр Sports - 20,0%.\\\n",
    "Наибольшая доля продаж в Японии наблюдается в жанре Role-Playing. Здесь доля продаж составила 40,2%. Далее идет жанр Action с долей продаж 38,1%. На третьем месте продажи в жанре Fighting - 8,2%. \n",
    "- Наибольшую долю продаж в Северной Америке по рейтингу ESRB составляют игры с рейтингом М - 33,9%. На втором месте игры без рейтинга, доля их продаж составляет 22,8%. Далее идут игры с рейтингом Е - 17,9%.\\\n",
    "В Европе по рейтингу ESRB также наибольшая доля продаж игр с рейтингом М - 34,5%. Далее идут продажи игр без рейтинга - 21,8%. На третьем месте также игры с рейтингом Е и их доля составляет 21,4%.\\\n",
    "На первом месте по рейтингу ESRB в Японии игры без рейтинга и доля их продаж составляет 61,1%. Далее игры с рейтингом Т, доля их продаж - 15,9%. На третьем месте игры с рейтингом Е с долей продаж 9,6%.\\\n",
    "Таким образом, исходя из долей продаж, которые занимают игры без рейтинга, можно сделать вывод, что рейтинг ESRB не оказывает значительного влияния на объемы продаж игры.\n",
    "\n",
    " **5. Проверка гипотезы.**\n",
    "- Для проверки гипотезы применяем метод st.ttest_ind, так как это гипотеза о равенстве средних двух генеральных совокупностей.\\\n",
    "Принимаем alpha = 0.01 для получения более точного результата.\\\n",
    "В результате проверки гипотезы p-value равно 10,5%, нулевую гипотезу не получилось отвергнуть.\\\n",
    "С большой долей вероятности средние пользовательские рейтинги платформ XOne и PC не имеют статистически значимых отличий.\n",
    "- Для проверки гипотезы применяем метод st.ttest_ind, так как это гипотеза о равенстве средних двух генеральных совокупностей.\\\n",
    "Это односторонняя гипотеза.\\\n",
    "Принимаем alpha = 0.01 для получения более точного результата.\\\n",
    "В результате проверки гипотезы, нулевую гипотезу о равенстве средних пользовательских рейтингов жанров Action и Sports отвергаем.\\\n",
    "С большой долей вероятности средние пользовательские рейтинги жанров Action и Sports имеют статистически значимые отличия.\n",
    "\n",
    "**Рекомендации отделу маркетинга:**\n",
    "Для проведения рекламной кампании в 2017 году рекомендуется обратить внимание на такие платформы, как PS4, XOne, 3DS.\\\n",
    "Жанры игр, заслуживающие внимания: Shooter, Action, Sports и Role-Playing.\\\n",
    "Следует обратить внимание на популярность за последние 3 года игр с возрастным ограничением от 17 лет (рейтинг М по ESRB), а также игр без возрастного ограничения (рейтинг E по ESRB).\\\n",
    "Оценки пользователей можно не учитывать, поскольку большинство пользователей не ставит оценки. Оценки критиков рекомендуется учитывать."
   ]
  }
 ],
 "metadata": {
  "ExecuteTimeLog": [
   {
    "duration": 58,
    "start_time": "2024-11-29T08:50:30.480Z"
   },
   {
    "duration": 1459,
    "start_time": "2024-11-29T08:50:34.588Z"
   },
   {
    "duration": 172,
    "start_time": "2024-11-29T08:50:38.366Z"
   },
   {
    "duration": 42,
    "start_time": "2024-11-29T08:50:45.216Z"
   },
   {
    "duration": 56,
    "start_time": "2024-11-29T08:51:04.351Z"
   },
   {
    "duration": 24,
    "start_time": "2024-11-29T08:51:06.609Z"
   },
   {
    "duration": 1481,
    "start_time": "2024-11-29T08:51:24.442Z"
   },
   {
    "duration": 73,
    "start_time": "2024-11-29T08:51:25.925Z"
   },
   {
    "duration": 40,
    "start_time": "2024-11-29T08:51:26.000Z"
   },
   {
    "duration": 15,
    "start_time": "2024-11-29T08:52:47.324Z"
   },
   {
    "duration": 16,
    "start_time": "2024-11-29T08:53:32.248Z"
   },
   {
    "duration": 8,
    "start_time": "2024-11-29T10:29:15.323Z"
   },
   {
    "duration": 4,
    "start_time": "2024-11-29T10:29:33.161Z"
   },
   {
    "duration": 19,
    "start_time": "2024-11-29T11:38:21.468Z"
   },
   {
    "duration": 3,
    "start_time": "2024-11-29T11:49:30.452Z"
   },
   {
    "duration": 121,
    "start_time": "2024-11-29T11:50:13.811Z"
   },
   {
    "duration": 8,
    "start_time": "2024-11-29T11:52:45.430Z"
   },
   {
    "duration": 5,
    "start_time": "2024-11-29T11:53:03.852Z"
   },
   {
    "duration": 88,
    "start_time": "2024-11-29T11:58:29.489Z"
   },
   {
    "duration": 6,
    "start_time": "2024-11-29T12:03:23.180Z"
   },
   {
    "duration": 12,
    "start_time": "2024-11-29T12:09:04.956Z"
   },
   {
    "duration": 14,
    "start_time": "2024-11-29T12:09:33.748Z"
   },
   {
    "duration": 5,
    "start_time": "2024-11-29T12:09:51.948Z"
   },
   {
    "duration": 8,
    "start_time": "2024-11-29T12:09:54.396Z"
   },
   {
    "duration": 8,
    "start_time": "2024-11-29T12:10:31.296Z"
   },
   {
    "duration": 17,
    "start_time": "2024-11-29T12:11:07.856Z"
   },
   {
    "duration": 5,
    "start_time": "2024-11-29T12:11:57.566Z"
   },
   {
    "duration": 94,
    "start_time": "2024-11-29T12:13:07.218Z"
   },
   {
    "duration": 6,
    "start_time": "2024-11-29T12:13:38.569Z"
   },
   {
    "duration": 8,
    "start_time": "2024-11-29T12:14:37.180Z"
   },
   {
    "duration": 8,
    "start_time": "2024-11-29T12:14:55.844Z"
   },
   {
    "duration": 5,
    "start_time": "2024-11-29T12:16:38.011Z"
   },
   {
    "duration": 4,
    "start_time": "2024-11-29T12:17:25.197Z"
   },
   {
    "duration": 7,
    "start_time": "2024-11-29T12:17:36.522Z"
   },
   {
    "duration": 5,
    "start_time": "2024-11-29T12:17:46.318Z"
   },
   {
    "duration": 17,
    "start_time": "2024-11-29T12:17:49.842Z"
   },
   {
    "duration": 6,
    "start_time": "2024-11-29T12:18:42.072Z"
   },
   {
    "duration": 6,
    "start_time": "2024-11-29T12:29:02.848Z"
   },
   {
    "duration": 1175,
    "start_time": "2024-11-29T12:29:18.324Z"
   },
   {
    "duration": 70,
    "start_time": "2024-11-29T12:29:19.501Z"
   },
   {
    "duration": 21,
    "start_time": "2024-11-29T12:29:19.573Z"
   },
   {
    "duration": 16,
    "start_time": "2024-11-29T12:29:19.595Z"
   },
   {
    "duration": 16,
    "start_time": "2024-11-29T12:29:19.622Z"
   },
   {
    "duration": 68,
    "start_time": "2024-11-29T12:29:19.640Z"
   },
   {
    "duration": 10,
    "start_time": "2024-11-29T12:29:19.710Z"
   },
   {
    "duration": 7,
    "start_time": "2024-11-29T12:29:19.723Z"
   },
   {
    "duration": 9,
    "start_time": "2024-11-29T12:29:19.732Z"
   },
   {
    "duration": 17,
    "start_time": "2024-11-29T12:29:19.743Z"
   },
   {
    "duration": 7,
    "start_time": "2024-11-29T12:29:19.762Z"
   },
   {
    "duration": 39,
    "start_time": "2024-11-29T12:29:19.771Z"
   },
   {
    "duration": 5,
    "start_time": "2024-11-29T12:30:29.226Z"
   },
   {
    "duration": 5,
    "start_time": "2024-11-29T12:30:59.182Z"
   },
   {
    "duration": 1360,
    "start_time": "2024-11-29T12:31:24.021Z"
   },
   {
    "duration": 60,
    "start_time": "2024-11-29T12:31:25.383Z"
   },
   {
    "duration": 26,
    "start_time": "2024-11-29T12:31:25.444Z"
   },
   {
    "duration": 59,
    "start_time": "2024-11-29T12:31:25.473Z"
   },
   {
    "duration": 17,
    "start_time": "2024-11-29T12:31:25.534Z"
   },
   {
    "duration": 26,
    "start_time": "2024-11-29T12:31:25.554Z"
   },
   {
    "duration": 7,
    "start_time": "2024-11-29T12:31:25.582Z"
   },
   {
    "duration": 12,
    "start_time": "2024-11-29T12:31:25.591Z"
   },
   {
    "duration": 26,
    "start_time": "2024-11-29T12:31:25.606Z"
   },
   {
    "duration": 9,
    "start_time": "2024-11-29T12:31:25.635Z"
   },
   {
    "duration": 60,
    "start_time": "2024-11-29T12:31:25.646Z"
   },
   {
    "duration": 8,
    "start_time": "2024-11-29T12:31:25.708Z"
   },
   {
    "duration": 16,
    "start_time": "2024-11-29T12:31:25.717Z"
   },
   {
    "duration": 10,
    "start_time": "2024-11-29T12:49:40.070Z"
   },
   {
    "duration": 11,
    "start_time": "2024-11-29T13:16:00.081Z"
   },
   {
    "duration": 12,
    "start_time": "2024-11-29T13:21:32.006Z"
   },
   {
    "duration": 12,
    "start_time": "2024-11-29T13:21:55.274Z"
   },
   {
    "duration": 7,
    "start_time": "2024-11-29T13:22:12.987Z"
   },
   {
    "duration": 20,
    "start_time": "2024-11-29T13:22:13.034Z"
   },
   {
    "duration": 13,
    "start_time": "2024-11-29T13:23:30.142Z"
   },
   {
    "duration": 9,
    "start_time": "2024-11-29T13:23:32.467Z"
   },
   {
    "duration": 6,
    "start_time": "2024-11-29T13:27:42.518Z"
   },
   {
    "duration": 10,
    "start_time": "2024-11-29T13:30:09.683Z"
   },
   {
    "duration": 8,
    "start_time": "2024-11-29T13:30:09.729Z"
   },
   {
    "duration": 14,
    "start_time": "2024-11-29T13:30:09.738Z"
   },
   {
    "duration": 3,
    "start_time": "2024-11-29T13:30:17.261Z"
   },
   {
    "duration": 9,
    "start_time": "2024-11-29T13:30:18.101Z"
   },
   {
    "duration": 7,
    "start_time": "2024-11-29T13:55:10.084Z"
   },
   {
    "duration": 4,
    "start_time": "2024-11-29T13:56:46.077Z"
   },
   {
    "duration": 10,
    "start_time": "2024-11-29T13:56:50.517Z"
   },
   {
    "duration": 6,
    "start_time": "2024-11-29T13:57:21.786Z"
   },
   {
    "duration": 6,
    "start_time": "2024-11-29T13:57:42.888Z"
   },
   {
    "duration": 9,
    "start_time": "2024-11-29T13:58:02.157Z"
   },
   {
    "duration": 5,
    "start_time": "2024-11-29T14:12:58.861Z"
   },
   {
    "duration": 5,
    "start_time": "2024-11-29T14:13:32.950Z"
   },
   {
    "duration": 8,
    "start_time": "2024-11-29T14:14:34.049Z"
   },
   {
    "duration": 7,
    "start_time": "2024-11-29T14:17:13.839Z"
   },
   {
    "duration": 7,
    "start_time": "2024-11-29T14:18:52.659Z"
   },
   {
    "duration": 4,
    "start_time": "2024-11-29T14:28:06.951Z"
   },
   {
    "duration": 7,
    "start_time": "2024-11-29T14:28:09.766Z"
   },
   {
    "duration": 1153,
    "start_time": "2024-11-29T14:28:18.454Z"
   },
   {
    "duration": 57,
    "start_time": "2024-11-29T14:28:19.609Z"
   },
   {
    "duration": 19,
    "start_time": "2024-11-29T14:28:19.667Z"
   },
   {
    "duration": 21,
    "start_time": "2024-11-29T14:28:19.688Z"
   },
   {
    "duration": 12,
    "start_time": "2024-11-29T14:28:19.711Z"
   },
   {
    "duration": 18,
    "start_time": "2024-11-29T14:28:19.725Z"
   },
   {
    "duration": 8,
    "start_time": "2024-11-29T14:28:19.745Z"
   },
   {
    "duration": 10,
    "start_time": "2024-11-29T14:28:19.754Z"
   },
   {
    "duration": 9,
    "start_time": "2024-11-29T14:28:19.766Z"
   },
   {
    "duration": 6,
    "start_time": "2024-11-29T14:28:19.776Z"
   },
   {
    "duration": 37,
    "start_time": "2024-11-29T14:28:19.783Z"
   },
   {
    "duration": 8,
    "start_time": "2024-11-29T14:28:19.822Z"
   },
   {
    "duration": 23,
    "start_time": "2024-11-29T14:28:19.832Z"
   },
   {
    "duration": 13,
    "start_time": "2024-11-29T14:28:19.859Z"
   },
   {
    "duration": 32,
    "start_time": "2024-11-29T14:28:19.874Z"
   },
   {
    "duration": 19,
    "start_time": "2024-11-29T14:28:19.907Z"
   },
   {
    "duration": 7,
    "start_time": "2024-11-29T14:28:19.927Z"
   },
   {
    "duration": 6,
    "start_time": "2024-11-29T14:28:19.935Z"
   },
   {
    "duration": 5,
    "start_time": "2024-11-29T14:28:19.942Z"
   },
   {
    "duration": 8,
    "start_time": "2024-11-29T14:28:19.948Z"
   },
   {
    "duration": 6,
    "start_time": "2024-11-29T14:28:19.958Z"
   },
   {
    "duration": 5,
    "start_time": "2024-11-29T14:28:19.965Z"
   },
   {
    "duration": 57,
    "start_time": "2024-11-29T14:28:19.972Z"
   },
   {
    "duration": 26,
    "start_time": "2024-11-29T14:28:20.031Z"
   },
   {
    "duration": 7,
    "start_time": "2024-11-29T14:28:20.059Z"
   },
   {
    "duration": 14,
    "start_time": "2024-11-29T14:28:20.068Z"
   },
   {
    "duration": 3,
    "start_time": "2024-11-29T14:28:20.085Z"
   },
   {
    "duration": 264,
    "start_time": "2024-11-29T14:28:20.089Z"
   },
   {
    "duration": 51,
    "start_time": "2024-11-29T14:32:36.256Z"
   },
   {
    "duration": 0,
    "start_time": "2024-11-29T14:32:36.309Z"
   },
   {
    "duration": 1190,
    "start_time": "2024-11-29T14:32:36.412Z"
   },
   {
    "duration": 57,
    "start_time": "2024-11-29T14:32:37.604Z"
   },
   {
    "duration": 19,
    "start_time": "2024-11-29T14:32:37.663Z"
   },
   {
    "duration": 14,
    "start_time": "2024-11-29T14:32:37.684Z"
   },
   {
    "duration": 8,
    "start_time": "2024-11-29T14:32:37.700Z"
   },
   {
    "duration": 21,
    "start_time": "2024-11-29T14:32:37.710Z"
   },
   {
    "duration": 9,
    "start_time": "2024-11-29T14:32:37.733Z"
   },
   {
    "duration": 18,
    "start_time": "2024-11-29T14:32:37.744Z"
   },
   {
    "duration": 11,
    "start_time": "2024-11-29T14:32:37.763Z"
   },
   {
    "duration": 7,
    "start_time": "2024-11-29T14:32:37.776Z"
   },
   {
    "duration": 11,
    "start_time": "2024-11-29T14:32:37.784Z"
   },
   {
    "duration": 71,
    "start_time": "2024-11-29T14:32:37.796Z"
   },
   {
    "duration": 27,
    "start_time": "2024-11-29T14:32:37.868Z"
   },
   {
    "duration": 10,
    "start_time": "2024-11-29T14:32:37.898Z"
   },
   {
    "duration": 19,
    "start_time": "2024-11-29T14:32:37.910Z"
   },
   {
    "duration": 14,
    "start_time": "2024-11-29T14:32:37.930Z"
   },
   {
    "duration": 6,
    "start_time": "2024-11-29T14:32:37.946Z"
   },
   {
    "duration": 7,
    "start_time": "2024-11-29T14:32:37.954Z"
   },
   {
    "duration": 9,
    "start_time": "2024-11-29T14:32:37.963Z"
   },
   {
    "duration": 3,
    "start_time": "2024-11-29T14:32:37.974Z"
   },
   {
    "duration": 6,
    "start_time": "2024-11-29T14:32:37.978Z"
   },
   {
    "duration": 5,
    "start_time": "2024-11-29T14:32:37.985Z"
   },
   {
    "duration": 9,
    "start_time": "2024-11-29T14:32:38.020Z"
   },
   {
    "duration": 7,
    "start_time": "2024-11-29T14:32:38.031Z"
   },
   {
    "duration": 6,
    "start_time": "2024-11-29T14:32:38.040Z"
   },
   {
    "duration": 18,
    "start_time": "2024-11-29T14:32:38.048Z"
   },
   {
    "duration": 13,
    "start_time": "2024-11-29T14:32:38.067Z"
   },
   {
    "duration": 270,
    "start_time": "2024-11-29T14:32:38.082Z"
   },
   {
    "duration": 15,
    "start_time": "2024-11-29T14:32:38.353Z"
   },
   {
    "duration": 8,
    "start_time": "2024-11-29T14:34:56.918Z"
   },
   {
    "duration": 8,
    "start_time": "2024-11-29T14:34:56.929Z"
   },
   {
    "duration": 24,
    "start_time": "2024-11-29T14:34:56.939Z"
   },
   {
    "duration": 1213,
    "start_time": "2024-11-29T15:06:09.031Z"
   },
   {
    "duration": 68,
    "start_time": "2024-11-29T15:06:10.246Z"
   },
   {
    "duration": 19,
    "start_time": "2024-11-29T15:06:10.316Z"
   },
   {
    "duration": 23,
    "start_time": "2024-11-29T15:06:10.337Z"
   },
   {
    "duration": 14,
    "start_time": "2024-11-29T15:06:10.362Z"
   },
   {
    "duration": 33,
    "start_time": "2024-11-29T15:06:10.378Z"
   },
   {
    "duration": 6,
    "start_time": "2024-11-29T15:06:10.413Z"
   },
   {
    "duration": 127,
    "start_time": "2024-11-29T15:06:10.421Z"
   },
   {
    "duration": 78,
    "start_time": "2024-11-29T15:06:10.549Z"
   },
   {
    "duration": 22,
    "start_time": "2024-11-29T15:06:10.630Z"
   },
   {
    "duration": 16,
    "start_time": "2024-11-29T15:06:10.654Z"
   },
   {
    "duration": 12,
    "start_time": "2024-11-29T15:06:10.672Z"
   },
   {
    "duration": 56,
    "start_time": "2024-11-29T15:06:10.685Z"
   },
   {
    "duration": 10,
    "start_time": "2024-11-29T15:06:10.743Z"
   },
   {
    "duration": 7,
    "start_time": "2024-11-29T15:06:10.756Z"
   },
   {
    "duration": 21,
    "start_time": "2024-11-29T15:06:10.765Z"
   },
   {
    "duration": 8,
    "start_time": "2024-11-29T15:06:10.788Z"
   },
   {
    "duration": 15,
    "start_time": "2024-11-29T15:06:10.798Z"
   },
   {
    "duration": 19,
    "start_time": "2024-11-29T15:06:10.821Z"
   },
   {
    "duration": 16,
    "start_time": "2024-11-29T15:06:10.842Z"
   },
   {
    "duration": 24,
    "start_time": "2024-11-29T15:06:10.860Z"
   },
   {
    "duration": 23,
    "start_time": "2024-11-29T15:06:10.886Z"
   },
   {
    "duration": 28,
    "start_time": "2024-11-29T15:06:10.912Z"
   },
   {
    "duration": 3,
    "start_time": "2024-11-29T15:06:10.942Z"
   },
   {
    "duration": 15,
    "start_time": "2024-11-29T15:06:10.947Z"
   },
   {
    "duration": 24,
    "start_time": "2024-11-29T15:06:10.963Z"
   },
   {
    "duration": 28,
    "start_time": "2024-11-29T15:06:10.989Z"
   },
   {
    "duration": 272,
    "start_time": "2024-11-29T15:06:11.021Z"
   },
   {
    "duration": 15,
    "start_time": "2024-11-29T15:06:11.295Z"
   },
   {
    "duration": 9,
    "start_time": "2024-11-29T15:06:11.321Z"
   },
   {
    "duration": 32,
    "start_time": "2024-11-29T15:06:11.332Z"
   },
   {
    "duration": 3,
    "start_time": "2024-11-29T15:09:32.867Z"
   },
   {
    "duration": 5,
    "start_time": "2024-11-29T15:09:37.005Z"
   },
   {
    "duration": 46,
    "start_time": "2024-11-30T10:24:33.971Z"
   },
   {
    "duration": 1204,
    "start_time": "2024-11-30T10:24:42.178Z"
   },
   {
    "duration": 187,
    "start_time": "2024-11-30T10:24:43.384Z"
   },
   {
    "duration": 22,
    "start_time": "2024-11-30T10:24:43.573Z"
   },
   {
    "duration": 12,
    "start_time": "2024-11-30T10:24:43.597Z"
   },
   {
    "duration": 3,
    "start_time": "2024-11-30T10:24:43.611Z"
   },
   {
    "duration": 12,
    "start_time": "2024-11-30T10:24:43.615Z"
   },
   {
    "duration": 4,
    "start_time": "2024-11-30T10:24:43.629Z"
   },
   {
    "duration": 3,
    "start_time": "2024-11-30T10:24:43.634Z"
   },
   {
    "duration": 33,
    "start_time": "2024-11-30T10:24:43.638Z"
   },
   {
    "duration": 5,
    "start_time": "2024-11-30T10:24:43.672Z"
   },
   {
    "duration": 5,
    "start_time": "2024-11-30T10:24:43.678Z"
   },
   {
    "duration": 4,
    "start_time": "2024-11-30T10:24:43.685Z"
   },
   {
    "duration": 13,
    "start_time": "2024-11-30T10:24:43.690Z"
   },
   {
    "duration": 8,
    "start_time": "2024-11-30T10:24:43.706Z"
   },
   {
    "duration": 5,
    "start_time": "2024-11-30T10:24:43.715Z"
   },
   {
    "duration": 8,
    "start_time": "2024-11-30T10:24:43.722Z"
   },
   {
    "duration": 40,
    "start_time": "2024-11-30T10:24:43.731Z"
   },
   {
    "duration": 5,
    "start_time": "2024-11-30T10:24:43.773Z"
   },
   {
    "duration": 5,
    "start_time": "2024-11-30T10:24:43.779Z"
   },
   {
    "duration": 2,
    "start_time": "2024-11-30T10:24:43.785Z"
   },
   {
    "duration": 7,
    "start_time": "2024-11-30T10:24:43.789Z"
   },
   {
    "duration": 17,
    "start_time": "2024-11-30T10:24:43.797Z"
   },
   {
    "duration": 8,
    "start_time": "2024-11-30T10:24:43.815Z"
   },
   {
    "duration": 2,
    "start_time": "2024-11-30T10:24:43.824Z"
   },
   {
    "duration": 4,
    "start_time": "2024-11-30T10:24:43.827Z"
   },
   {
    "duration": 4,
    "start_time": "2024-11-30T10:24:43.832Z"
   },
   {
    "duration": 31,
    "start_time": "2024-11-30T10:24:43.837Z"
   },
   {
    "duration": 250,
    "start_time": "2024-11-30T10:24:43.869Z"
   },
   {
    "duration": 11,
    "start_time": "2024-11-30T10:24:44.120Z"
   },
   {
    "duration": 8,
    "start_time": "2024-11-30T10:24:44.132Z"
   },
   {
    "duration": 4,
    "start_time": "2024-11-30T10:24:44.141Z"
   },
   {
    "duration": 6,
    "start_time": "2024-11-30T10:25:11.539Z"
   },
   {
    "duration": 6,
    "start_time": "2024-11-30T10:25:19.581Z"
   },
   {
    "duration": 4,
    "start_time": "2024-11-30T10:25:43.500Z"
   },
   {
    "duration": 3,
    "start_time": "2024-11-30T10:28:50.548Z"
   },
   {
    "duration": 7,
    "start_time": "2024-11-30T10:28:59.378Z"
   },
   {
    "duration": 4,
    "start_time": "2024-11-30T10:29:10.447Z"
   },
   {
    "duration": 4,
    "start_time": "2024-11-30T10:29:16.987Z"
   },
   {
    "duration": 2,
    "start_time": "2024-11-30T10:29:52.000Z"
   },
   {
    "duration": 6,
    "start_time": "2024-11-30T10:29:58.813Z"
   },
   {
    "duration": 5,
    "start_time": "2024-11-30T10:30:14.330Z"
   },
   {
    "duration": 1028,
    "start_time": "2024-11-30T10:30:53.518Z"
   },
   {
    "duration": 58,
    "start_time": "2024-11-30T10:30:54.547Z"
   },
   {
    "duration": 15,
    "start_time": "2024-11-30T10:30:54.607Z"
   },
   {
    "duration": 11,
    "start_time": "2024-11-30T10:30:54.624Z"
   },
   {
    "duration": 3,
    "start_time": "2024-11-30T10:30:54.636Z"
   },
   {
    "duration": 11,
    "start_time": "2024-11-30T10:30:54.640Z"
   },
   {
    "duration": 18,
    "start_time": "2024-11-30T10:30:54.653Z"
   },
   {
    "duration": 130,
    "start_time": "2024-11-30T10:30:54.673Z"
   },
   {
    "duration": 0,
    "start_time": "2024-11-30T10:30:54.806Z"
   },
   {
    "duration": 0,
    "start_time": "2024-11-30T10:30:54.807Z"
   },
   {
    "duration": 0,
    "start_time": "2024-11-30T10:30:54.808Z"
   },
   {
    "duration": 0,
    "start_time": "2024-11-30T10:30:54.808Z"
   },
   {
    "duration": 0,
    "start_time": "2024-11-30T10:30:54.809Z"
   },
   {
    "duration": 0,
    "start_time": "2024-11-30T10:30:54.810Z"
   },
   {
    "duration": 0,
    "start_time": "2024-11-30T10:30:54.810Z"
   },
   {
    "duration": 0,
    "start_time": "2024-11-30T10:30:54.811Z"
   },
   {
    "duration": 0,
    "start_time": "2024-11-30T10:30:54.812Z"
   },
   {
    "duration": 0,
    "start_time": "2024-11-30T10:30:54.813Z"
   },
   {
    "duration": 0,
    "start_time": "2024-11-30T10:30:54.814Z"
   },
   {
    "duration": 0,
    "start_time": "2024-11-30T10:30:54.816Z"
   },
   {
    "duration": 0,
    "start_time": "2024-11-30T10:30:54.817Z"
   },
   {
    "duration": 0,
    "start_time": "2024-11-30T10:30:54.818Z"
   },
   {
    "duration": 0,
    "start_time": "2024-11-30T10:30:54.819Z"
   },
   {
    "duration": 0,
    "start_time": "2024-11-30T10:30:54.820Z"
   },
   {
    "duration": 0,
    "start_time": "2024-11-30T10:30:54.821Z"
   },
   {
    "duration": 1,
    "start_time": "2024-11-30T10:30:54.822Z"
   },
   {
    "duration": 0,
    "start_time": "2024-11-30T10:30:54.823Z"
   },
   {
    "duration": 0,
    "start_time": "2024-11-30T10:30:54.825Z"
   },
   {
    "duration": 0,
    "start_time": "2024-11-30T10:30:54.863Z"
   },
   {
    "duration": 0,
    "start_time": "2024-11-30T10:30:54.864Z"
   },
   {
    "duration": 0,
    "start_time": "2024-11-30T10:30:54.865Z"
   },
   {
    "duration": 0,
    "start_time": "2024-11-30T10:30:54.866Z"
   },
   {
    "duration": 4,
    "start_time": "2024-11-30T10:31:09.614Z"
   },
   {
    "duration": 4,
    "start_time": "2024-11-30T10:31:12.252Z"
   },
   {
    "duration": 5,
    "start_time": "2024-11-30T10:31:25.469Z"
   },
   {
    "duration": 7,
    "start_time": "2024-11-30T10:31:44.323Z"
   },
   {
    "duration": 6,
    "start_time": "2024-11-30T10:31:48.339Z"
   },
   {
    "duration": 4,
    "start_time": "2024-11-30T10:31:53.347Z"
   },
   {
    "duration": 8,
    "start_time": "2024-11-30T10:38:06.156Z"
   },
   {
    "duration": 3,
    "start_time": "2024-11-30T10:38:39.472Z"
   },
   {
    "duration": 8,
    "start_time": "2024-11-30T10:49:33.893Z"
   },
   {
    "duration": 7,
    "start_time": "2024-11-30T10:52:58.347Z"
   },
   {
    "duration": 282,
    "start_time": "2024-11-30T10:53:33.627Z"
   },
   {
    "duration": 465,
    "start_time": "2024-11-30T10:54:42.669Z"
   },
   {
    "duration": 6,
    "start_time": "2024-11-30T10:56:27.189Z"
   },
   {
    "duration": 151,
    "start_time": "2024-11-30T10:56:56.429Z"
   },
   {
    "duration": 138,
    "start_time": "2024-11-30T10:57:23.409Z"
   },
   {
    "duration": 7,
    "start_time": "2024-11-30T11:00:55.677Z"
   },
   {
    "duration": 8,
    "start_time": "2024-11-30T11:01:59.281Z"
   },
   {
    "duration": 6,
    "start_time": "2024-11-30T11:02:41.370Z"
   },
   {
    "duration": 9,
    "start_time": "2024-11-30T11:02:48.480Z"
   },
   {
    "duration": 133,
    "start_time": "2024-11-30T11:02:57.187Z"
   },
   {
    "duration": 266,
    "start_time": "2024-11-30T11:04:02.935Z"
   },
   {
    "duration": 6,
    "start_time": "2024-11-30T11:05:43.201Z"
   },
   {
    "duration": 7,
    "start_time": "2024-11-30T11:06:04.997Z"
   },
   {
    "duration": 1600,
    "start_time": "2024-11-30T11:06:23.454Z"
   },
   {
    "duration": 252,
    "start_time": "2024-11-30T11:32:50.970Z"
   },
   {
    "duration": 988,
    "start_time": "2024-11-30T11:33:04.385Z"
   },
   {
    "duration": 50,
    "start_time": "2024-11-30T11:33:05.376Z"
   },
   {
    "duration": 17,
    "start_time": "2024-11-30T11:33:05.427Z"
   },
   {
    "duration": 11,
    "start_time": "2024-11-30T11:33:05.446Z"
   },
   {
    "duration": 6,
    "start_time": "2024-11-30T11:33:05.459Z"
   },
   {
    "duration": 12,
    "start_time": "2024-11-30T11:33:05.466Z"
   },
   {
    "duration": 4,
    "start_time": "2024-11-30T11:33:05.479Z"
   },
   {
    "duration": 21,
    "start_time": "2024-11-30T11:33:05.484Z"
   },
   {
    "duration": 5,
    "start_time": "2024-11-30T11:33:05.507Z"
   },
   {
    "duration": 4,
    "start_time": "2024-11-30T11:33:05.514Z"
   },
   {
    "duration": 6,
    "start_time": "2024-11-30T11:33:05.520Z"
   },
   {
    "duration": 7,
    "start_time": "2024-11-30T11:33:05.527Z"
   },
   {
    "duration": 32,
    "start_time": "2024-11-30T11:33:05.535Z"
   },
   {
    "duration": 10,
    "start_time": "2024-11-30T11:33:05.568Z"
   },
   {
    "duration": 26,
    "start_time": "2024-11-30T11:33:05.579Z"
   },
   {
    "duration": 56,
    "start_time": "2024-11-30T11:33:05.606Z"
   },
   {
    "duration": 8,
    "start_time": "2024-11-30T11:33:05.663Z"
   },
   {
    "duration": 15,
    "start_time": "2024-11-30T11:33:05.672Z"
   },
   {
    "duration": 34,
    "start_time": "2024-11-30T11:33:05.688Z"
   },
   {
    "duration": 22,
    "start_time": "2024-11-30T11:33:05.723Z"
   },
   {
    "duration": 5,
    "start_time": "2024-11-30T11:33:05.746Z"
   },
   {
    "duration": 21,
    "start_time": "2024-11-30T11:33:05.753Z"
   },
   {
    "duration": 32,
    "start_time": "2024-11-30T11:33:05.776Z"
   },
   {
    "duration": 6,
    "start_time": "2024-11-30T11:33:05.810Z"
   },
   {
    "duration": 18,
    "start_time": "2024-11-30T11:33:05.818Z"
   },
   {
    "duration": 267,
    "start_time": "2024-11-30T11:33:05.838Z"
   },
   {
    "duration": 14,
    "start_time": "2024-11-30T11:33:06.106Z"
   },
   {
    "duration": 18,
    "start_time": "2024-11-30T11:33:06.123Z"
   },
   {
    "duration": 6,
    "start_time": "2024-11-30T11:33:06.143Z"
   },
   {
    "duration": 347,
    "start_time": "2024-11-30T11:33:06.150Z"
   },
   {
    "duration": 86,
    "start_time": "2024-11-30T11:33:06.501Z"
   },
   {
    "duration": 91,
    "start_time": "2024-11-30T11:34:46.983Z"
   },
   {
    "duration": 9,
    "start_time": "2024-11-30T12:06:26.042Z"
   },
   {
    "duration": 220,
    "start_time": "2024-11-30T12:09:21.181Z"
   },
   {
    "duration": 10,
    "start_time": "2024-11-30T12:09:39.832Z"
   },
   {
    "duration": 241,
    "start_time": "2024-11-30T12:09:41.272Z"
   },
   {
    "duration": 162,
    "start_time": "2024-11-30T12:18:15.720Z"
   },
   {
    "duration": 200,
    "start_time": "2024-11-30T12:21:03.803Z"
   },
   {
    "duration": 161,
    "start_time": "2024-11-30T12:24:04.533Z"
   },
   {
    "duration": 190,
    "start_time": "2024-11-30T12:24:24.637Z"
   },
   {
    "duration": 173,
    "start_time": "2024-11-30T12:25:59.748Z"
   },
   {
    "duration": 163,
    "start_time": "2024-11-30T12:27:15.015Z"
   },
   {
    "duration": 166,
    "start_time": "2024-11-30T12:39:16.752Z"
   },
   {
    "duration": 167,
    "start_time": "2024-11-30T12:40:00.044Z"
   },
   {
    "duration": 158,
    "start_time": "2024-11-30T12:42:55.273Z"
   },
   {
    "duration": 152,
    "start_time": "2024-11-30T12:49:36.774Z"
   },
   {
    "duration": 7,
    "start_time": "2024-11-30T13:13:16.064Z"
   },
   {
    "duration": 4,
    "start_time": "2024-11-30T13:13:20.125Z"
   },
   {
    "duration": 7,
    "start_time": "2024-11-30T13:13:21.046Z"
   },
   {
    "duration": 17,
    "start_time": "2024-11-30T13:13:29.928Z"
   },
   {
    "duration": 10,
    "start_time": "2024-11-30T13:14:01.174Z"
   },
   {
    "duration": 12,
    "start_time": "2024-11-30T13:14:55.815Z"
   },
   {
    "duration": 10,
    "start_time": "2024-11-30T13:26:45.155Z"
   },
   {
    "duration": 231,
    "start_time": "2024-11-30T13:26:45.964Z"
   },
   {
    "duration": 242,
    "start_time": "2024-11-30T13:26:56.564Z"
   },
   {
    "duration": 8,
    "start_time": "2024-11-30T13:27:20.783Z"
   },
   {
    "duration": 293,
    "start_time": "2024-11-30T13:27:22.233Z"
   },
   {
    "duration": 124,
    "start_time": "2024-11-30T13:33:37.144Z"
   },
   {
    "duration": 118,
    "start_time": "2024-11-30T13:33:57.497Z"
   },
   {
    "duration": 221,
    "start_time": "2024-11-30T13:35:06.824Z"
   },
   {
    "duration": 254,
    "start_time": "2024-11-30T13:35:18.620Z"
   },
   {
    "duration": 15,
    "start_time": "2024-11-30T13:37:00.375Z"
   },
   {
    "duration": 103,
    "start_time": "2024-11-30T13:39:01.427Z"
   },
   {
    "duration": 77,
    "start_time": "2024-11-30T13:39:18.415Z"
   },
   {
    "duration": 77,
    "start_time": "2024-11-30T13:40:32.827Z"
   },
   {
    "duration": 80,
    "start_time": "2024-11-30T13:44:20.653Z"
   },
   {
    "duration": 11,
    "start_time": "2024-11-30T13:45:51.463Z"
   },
   {
    "duration": 11,
    "start_time": "2024-11-30T13:45:56.886Z"
   },
   {
    "duration": 14,
    "start_time": "2024-11-30T13:46:30.323Z"
   },
   {
    "duration": 11,
    "start_time": "2024-11-30T13:46:33.519Z"
   },
   {
    "duration": 217,
    "start_time": "2024-11-30T13:47:36.997Z"
   },
   {
    "duration": 147,
    "start_time": "2024-11-30T13:48:10.256Z"
   },
   {
    "duration": 156,
    "start_time": "2024-11-30T13:50:57.977Z"
   },
   {
    "duration": 186,
    "start_time": "2024-11-30T13:53:59.506Z"
   },
   {
    "duration": 247,
    "start_time": "2024-11-30T13:54:39.334Z"
   },
   {
    "duration": 13,
    "start_time": "2024-11-30T14:02:28.258Z"
   },
   {
    "duration": 185,
    "start_time": "2024-11-30T14:02:32.394Z"
   },
   {
    "duration": 172,
    "start_time": "2024-11-30T14:03:51.218Z"
   },
   {
    "duration": 175,
    "start_time": "2024-11-30T14:04:49.317Z"
   },
   {
    "duration": 176,
    "start_time": "2024-11-30T14:04:56.525Z"
   },
   {
    "duration": 174,
    "start_time": "2024-11-30T14:05:33.566Z"
   },
   {
    "duration": 13,
    "start_time": "2024-11-30T14:51:14.128Z"
   },
   {
    "duration": 201,
    "start_time": "2024-11-30T14:51:16.527Z"
   },
   {
    "duration": 18,
    "start_time": "2024-11-30T14:54:41.137Z"
   },
   {
    "duration": 13,
    "start_time": "2024-11-30T14:54:56.336Z"
   },
   {
    "duration": 183,
    "start_time": "2024-11-30T14:54:57.098Z"
   },
   {
    "duration": 21,
    "start_time": "2024-11-30T14:55:02.350Z"
   },
   {
    "duration": 102,
    "start_time": "2024-11-30T14:55:57.667Z"
   },
   {
    "duration": 11,
    "start_time": "2024-11-30T14:56:30.518Z"
   },
   {
    "duration": 103,
    "start_time": "2024-11-30T14:58:06.572Z"
   },
   {
    "duration": 130,
    "start_time": "2024-11-30T15:02:13.848Z"
   },
   {
    "duration": 168,
    "start_time": "2024-11-30T15:03:01.357Z"
   },
   {
    "duration": 99,
    "start_time": "2024-11-30T15:05:19.626Z"
   },
   {
    "duration": 72,
    "start_time": "2024-11-30T15:06:05.970Z"
   },
   {
    "duration": 103,
    "start_time": "2024-11-30T15:06:19.690Z"
   },
   {
    "duration": 95,
    "start_time": "2024-11-30T15:06:31.079Z"
   },
   {
    "duration": 84,
    "start_time": "2024-11-30T15:09:20.509Z"
   },
   {
    "duration": 82,
    "start_time": "2024-11-30T15:09:40.969Z"
   },
   {
    "duration": 10,
    "start_time": "2024-11-30T15:09:46.509Z"
   },
   {
    "duration": 4,
    "start_time": "2024-11-30T15:10:13.318Z"
   },
   {
    "duration": 957,
    "start_time": "2024-11-30T15:10:26.918Z"
   },
   {
    "duration": 52,
    "start_time": "2024-11-30T15:10:27.877Z"
   },
   {
    "duration": 21,
    "start_time": "2024-11-30T15:10:27.930Z"
   },
   {
    "duration": 28,
    "start_time": "2024-11-30T15:10:27.953Z"
   },
   {
    "duration": 3,
    "start_time": "2024-11-30T15:10:27.983Z"
   },
   {
    "duration": 12,
    "start_time": "2024-11-30T15:10:27.987Z"
   },
   {
    "duration": 5,
    "start_time": "2024-11-30T15:10:28.000Z"
   },
   {
    "duration": 7,
    "start_time": "2024-11-30T15:10:28.006Z"
   },
   {
    "duration": 4,
    "start_time": "2024-11-30T15:10:28.014Z"
   },
   {
    "duration": 5,
    "start_time": "2024-11-30T15:10:28.021Z"
   },
   {
    "duration": 37,
    "start_time": "2024-11-30T15:10:28.027Z"
   },
   {
    "duration": 5,
    "start_time": "2024-11-30T15:10:28.070Z"
   },
   {
    "duration": 12,
    "start_time": "2024-11-30T15:10:28.076Z"
   },
   {
    "duration": 7,
    "start_time": "2024-11-30T15:10:28.089Z"
   },
   {
    "duration": 5,
    "start_time": "2024-11-30T15:10:28.097Z"
   },
   {
    "duration": 10,
    "start_time": "2024-11-30T15:10:28.103Z"
   },
   {
    "duration": 8,
    "start_time": "2024-11-30T15:10:28.114Z"
   },
   {
    "duration": 23,
    "start_time": "2024-11-30T15:10:28.123Z"
   },
   {
    "duration": 8,
    "start_time": "2024-11-30T15:10:28.147Z"
   },
   {
    "duration": 19,
    "start_time": "2024-11-30T15:10:28.156Z"
   },
   {
    "duration": 4,
    "start_time": "2024-11-30T15:10:28.176Z"
   },
   {
    "duration": 14,
    "start_time": "2024-11-30T15:10:28.181Z"
   },
   {
    "duration": 12,
    "start_time": "2024-11-30T15:10:28.196Z"
   },
   {
    "duration": 7,
    "start_time": "2024-11-30T15:10:28.209Z"
   },
   {
    "duration": 5,
    "start_time": "2024-11-30T15:10:28.217Z"
   },
   {
    "duration": 269,
    "start_time": "2024-11-30T15:10:28.224Z"
   },
   {
    "duration": 13,
    "start_time": "2024-11-30T15:10:28.495Z"
   },
   {
    "duration": 9,
    "start_time": "2024-11-30T15:10:28.512Z"
   },
   {
    "duration": 7,
    "start_time": "2024-11-30T15:10:28.523Z"
   },
   {
    "duration": 292,
    "start_time": "2024-11-30T15:10:28.532Z"
   },
   {
    "duration": 9,
    "start_time": "2024-11-30T15:10:28.825Z"
   },
   {
    "duration": 249,
    "start_time": "2024-11-30T15:10:28.835Z"
   },
   {
    "duration": 203,
    "start_time": "2024-11-30T15:10:29.085Z"
   },
   {
    "duration": 177,
    "start_time": "2024-11-30T15:10:29.290Z"
   },
   {
    "duration": 172,
    "start_time": "2024-11-30T15:10:29.468Z"
   },
   {
    "duration": 3,
    "start_time": "2024-11-30T15:10:29.642Z"
   },
   {
    "duration": 22,
    "start_time": "2024-11-30T15:10:29.647Z"
   },
   {
    "duration": 18,
    "start_time": "2024-11-30T15:10:29.671Z"
   },
   {
    "duration": 19,
    "start_time": "2024-11-30T15:10:29.690Z"
   },
   {
    "duration": 197,
    "start_time": "2024-11-30T15:10:29.710Z"
   },
   {
    "duration": 189,
    "start_time": "2024-11-30T15:10:29.908Z"
   },
   {
    "duration": 0,
    "start_time": "2024-11-30T15:10:30.099Z"
   },
   {
    "duration": 4,
    "start_time": "2024-11-30T15:13:17.151Z"
   },
   {
    "duration": 12,
    "start_time": "2024-11-30T15:13:17.851Z"
   },
   {
    "duration": 238,
    "start_time": "2024-11-30T15:13:35.191Z"
   },
   {
    "duration": 94,
    "start_time": "2024-11-30T15:14:14.798Z"
   },
   {
    "duration": 155,
    "start_time": "2024-11-30T15:14:57.682Z"
   },
   {
    "duration": 200,
    "start_time": "2024-11-30T15:15:30.721Z"
   },
   {
    "duration": 87,
    "start_time": "2024-11-30T15:16:25.721Z"
   },
   {
    "duration": 171,
    "start_time": "2024-11-30T15:16:52.899Z"
   },
   {
    "duration": 156,
    "start_time": "2024-11-30T15:19:25.691Z"
   },
   {
    "duration": 200,
    "start_time": "2024-11-30T15:19:37.105Z"
   },
   {
    "duration": 165,
    "start_time": "2024-11-30T15:19:51.460Z"
   },
   {
    "duration": 168,
    "start_time": "2024-11-30T15:20:21.552Z"
   },
   {
    "duration": 167,
    "start_time": "2024-11-30T15:21:36.331Z"
   },
   {
    "duration": 152,
    "start_time": "2024-11-30T15:21:57.542Z"
   },
   {
    "duration": 253,
    "start_time": "2024-11-30T15:23:49.902Z"
   },
   {
    "duration": 149,
    "start_time": "2024-11-30T15:24:07.380Z"
   },
   {
    "duration": 273,
    "start_time": "2024-11-30T15:24:48.011Z"
   },
   {
    "duration": 171,
    "start_time": "2024-11-30T15:25:02.701Z"
   },
   {
    "duration": 145,
    "start_time": "2024-11-30T15:31:02.003Z"
   },
   {
    "duration": 139,
    "start_time": "2024-11-30T15:31:08.690Z"
   },
   {
    "duration": 122,
    "start_time": "2024-11-30T15:31:17.312Z"
   },
   {
    "duration": 137,
    "start_time": "2024-11-30T15:31:39.580Z"
   },
   {
    "duration": 144,
    "start_time": "2024-11-30T15:31:52.088Z"
   },
   {
    "duration": 159,
    "start_time": "2024-11-30T15:31:59.904Z"
   },
   {
    "duration": 223,
    "start_time": "2024-11-30T15:32:08.493Z"
   },
   {
    "duration": 141,
    "start_time": "2024-11-30T15:32:20.904Z"
   },
   {
    "duration": 143,
    "start_time": "2024-11-30T15:33:09.034Z"
   },
   {
    "duration": 152,
    "start_time": "2024-11-30T15:33:15.512Z"
   },
   {
    "duration": 146,
    "start_time": "2024-11-30T15:33:21.011Z"
   },
   {
    "duration": 174,
    "start_time": "2024-11-30T15:33:27.443Z"
   },
   {
    "duration": 158,
    "start_time": "2024-11-30T15:33:33.199Z"
   },
   {
    "duration": 161,
    "start_time": "2024-11-30T15:33:38.782Z"
   },
   {
    "duration": 169,
    "start_time": "2024-11-30T15:33:43.604Z"
   },
   {
    "duration": 144,
    "start_time": "2024-11-30T15:33:53.659Z"
   },
   {
    "duration": 146,
    "start_time": "2024-11-30T15:34:06.042Z"
   },
   {
    "duration": 6,
    "start_time": "2024-11-30T15:34:30.163Z"
   },
   {
    "duration": 12,
    "start_time": "2024-11-30T15:34:31.192Z"
   },
   {
    "duration": 274,
    "start_time": "2024-11-30T15:34:32.022Z"
   },
   {
    "duration": 144,
    "start_time": "2024-11-30T15:34:34.743Z"
   },
   {
    "duration": 140,
    "start_time": "2024-11-30T15:34:42.398Z"
   },
   {
    "duration": 194,
    "start_time": "2024-11-30T15:34:47.719Z"
   },
   {
    "duration": 142,
    "start_time": "2024-11-30T15:35:55.143Z"
   },
   {
    "duration": 152,
    "start_time": "2024-11-30T15:36:00.684Z"
   },
   {
    "duration": 150,
    "start_time": "2024-11-30T15:36:09.369Z"
   },
   {
    "duration": 155,
    "start_time": "2024-11-30T15:36:19.433Z"
   },
   {
    "duration": 72,
    "start_time": "2024-12-02T11:00:40.855Z"
   },
   {
    "duration": 1427,
    "start_time": "2024-12-02T11:00:48.259Z"
   },
   {
    "duration": 173,
    "start_time": "2024-12-02T11:00:49.688Z"
   },
   {
    "duration": 20,
    "start_time": "2024-12-02T11:00:49.863Z"
   },
   {
    "duration": 16,
    "start_time": "2024-12-02T11:00:49.885Z"
   },
   {
    "duration": 3,
    "start_time": "2024-12-02T11:00:49.903Z"
   },
   {
    "duration": 29,
    "start_time": "2024-12-02T11:00:49.908Z"
   },
   {
    "duration": 5,
    "start_time": "2024-12-02T11:00:49.939Z"
   },
   {
    "duration": 15,
    "start_time": "2024-12-02T11:00:49.946Z"
   },
   {
    "duration": 5,
    "start_time": "2024-12-02T11:00:49.963Z"
   },
   {
    "duration": 6,
    "start_time": "2024-12-02T11:00:49.970Z"
   },
   {
    "duration": 9,
    "start_time": "2024-12-02T11:00:49.978Z"
   },
   {
    "duration": 31,
    "start_time": "2024-12-02T11:00:49.988Z"
   },
   {
    "duration": 45,
    "start_time": "2024-12-02T11:00:50.021Z"
   },
   {
    "duration": 17,
    "start_time": "2024-12-02T11:00:50.071Z"
   },
   {
    "duration": 9,
    "start_time": "2024-12-02T11:00:50.090Z"
   },
   {
    "duration": 10,
    "start_time": "2024-12-02T11:00:50.101Z"
   },
   {
    "duration": 6,
    "start_time": "2024-12-02T11:00:50.113Z"
   },
   {
    "duration": 10,
    "start_time": "2024-12-02T11:00:50.121Z"
   },
   {
    "duration": 18,
    "start_time": "2024-12-02T11:00:50.132Z"
   },
   {
    "duration": 8,
    "start_time": "2024-12-02T11:00:50.152Z"
   },
   {
    "duration": 5,
    "start_time": "2024-12-02T11:00:50.161Z"
   },
   {
    "duration": 18,
    "start_time": "2024-12-02T11:00:50.168Z"
   },
   {
    "duration": 12,
    "start_time": "2024-12-02T11:00:50.188Z"
   },
   {
    "duration": 13,
    "start_time": "2024-12-02T11:00:50.201Z"
   },
   {
    "duration": 18,
    "start_time": "2024-12-02T11:00:50.218Z"
   },
   {
    "duration": 259,
    "start_time": "2024-12-02T11:00:50.237Z"
   },
   {
    "duration": 24,
    "start_time": "2024-12-02T11:00:50.497Z"
   },
   {
    "duration": 55,
    "start_time": "2024-12-02T11:00:50.523Z"
   },
   {
    "duration": 19,
    "start_time": "2024-12-02T11:00:50.580Z"
   },
   {
    "duration": 363,
    "start_time": "2024-12-02T11:00:50.601Z"
   },
   {
    "duration": 11,
    "start_time": "2024-12-02T11:00:50.966Z"
   },
   {
    "duration": 296,
    "start_time": "2024-12-02T11:00:50.979Z"
   },
   {
    "duration": 209,
    "start_time": "2024-12-02T11:00:51.276Z"
   },
   {
    "duration": 252,
    "start_time": "2024-12-02T11:00:51.487Z"
   },
   {
    "duration": 217,
    "start_time": "2024-12-02T11:00:51.741Z"
   },
   {
    "duration": 6,
    "start_time": "2024-12-02T11:00:51.961Z"
   },
   {
    "duration": 35,
    "start_time": "2024-12-02T11:00:51.969Z"
   },
   {
    "duration": 35,
    "start_time": "2024-12-02T11:00:52.006Z"
   },
   {
    "duration": 239,
    "start_time": "2024-12-02T11:00:52.043Z"
   },
   {
    "duration": 193,
    "start_time": "2024-12-02T11:00:52.283Z"
   },
   {
    "duration": 265,
    "start_time": "2024-12-02T11:01:06.224Z"
   },
   {
    "duration": 195,
    "start_time": "2024-12-02T11:01:13.374Z"
   },
   {
    "duration": 192,
    "start_time": "2024-12-02T11:01:26.153Z"
   },
   {
    "duration": 194,
    "start_time": "2024-12-02T11:01:43.245Z"
   },
   {
    "duration": 179,
    "start_time": "2024-12-02T11:01:50.661Z"
   },
   {
    "duration": 182,
    "start_time": "2024-12-02T11:01:58.459Z"
   },
   {
    "duration": 7,
    "start_time": "2024-12-02T11:16:36.607Z"
   },
   {
    "duration": 1162,
    "start_time": "2024-12-02T11:16:45.516Z"
   },
   {
    "duration": 58,
    "start_time": "2024-12-02T11:16:46.680Z"
   },
   {
    "duration": 18,
    "start_time": "2024-12-02T11:16:46.740Z"
   },
   {
    "duration": 39,
    "start_time": "2024-12-02T11:16:46.760Z"
   },
   {
    "duration": 13,
    "start_time": "2024-12-02T11:16:46.802Z"
   },
   {
    "duration": 44,
    "start_time": "2024-12-02T11:16:46.817Z"
   },
   {
    "duration": 18,
    "start_time": "2024-12-02T11:16:46.863Z"
   },
   {
    "duration": 25,
    "start_time": "2024-12-02T11:16:46.883Z"
   },
   {
    "duration": 22,
    "start_time": "2024-12-02T11:16:46.910Z"
   },
   {
    "duration": 30,
    "start_time": "2024-12-02T11:16:46.933Z"
   },
   {
    "duration": 41,
    "start_time": "2024-12-02T11:16:46.964Z"
   },
   {
    "duration": 34,
    "start_time": "2024-12-02T11:16:47.007Z"
   },
   {
    "duration": 34,
    "start_time": "2024-12-02T11:16:47.042Z"
   },
   {
    "duration": 13,
    "start_time": "2024-12-02T11:16:47.080Z"
   },
   {
    "duration": 14,
    "start_time": "2024-12-02T11:16:47.095Z"
   },
   {
    "duration": 14,
    "start_time": "2024-12-02T11:16:47.111Z"
   },
   {
    "duration": 9,
    "start_time": "2024-12-02T11:16:47.127Z"
   },
   {
    "duration": 10,
    "start_time": "2024-12-02T11:16:47.138Z"
   },
   {
    "duration": 12,
    "start_time": "2024-12-02T11:16:47.149Z"
   },
   {
    "duration": 17,
    "start_time": "2024-12-02T11:16:47.163Z"
   },
   {
    "duration": 11,
    "start_time": "2024-12-02T11:16:47.182Z"
   },
   {
    "duration": 15,
    "start_time": "2024-12-02T11:16:47.194Z"
   },
   {
    "duration": 4,
    "start_time": "2024-12-02T11:16:47.210Z"
   },
   {
    "duration": 23,
    "start_time": "2024-12-02T11:16:47.215Z"
   },
   {
    "duration": 4,
    "start_time": "2024-12-02T11:16:47.239Z"
   },
   {
    "duration": 248,
    "start_time": "2024-12-02T11:16:47.244Z"
   },
   {
    "duration": 16,
    "start_time": "2024-12-02T11:16:47.494Z"
   },
   {
    "duration": 13,
    "start_time": "2024-12-02T11:16:47.518Z"
   },
   {
    "duration": 9,
    "start_time": "2024-12-02T11:16:47.532Z"
   },
   {
    "duration": 369,
    "start_time": "2024-12-02T11:16:47.543Z"
   },
   {
    "duration": 10,
    "start_time": "2024-12-02T11:16:47.917Z"
   },
   {
    "duration": 284,
    "start_time": "2024-12-02T11:16:47.929Z"
   },
   {
    "duration": 202,
    "start_time": "2024-12-02T11:16:48.217Z"
   },
   {
    "duration": 186,
    "start_time": "2024-12-02T11:16:48.421Z"
   },
   {
    "duration": 202,
    "start_time": "2024-12-02T11:16:48.608Z"
   },
   {
    "duration": 8,
    "start_time": "2024-12-02T11:16:48.812Z"
   },
   {
    "duration": 23,
    "start_time": "2024-12-02T11:16:48.822Z"
   },
   {
    "duration": 18,
    "start_time": "2024-12-02T11:16:48.847Z"
   },
   {
    "duration": 237,
    "start_time": "2024-12-02T11:16:48.867Z"
   },
   {
    "duration": 221,
    "start_time": "2024-12-02T11:16:49.105Z"
   },
   {
    "duration": 8,
    "start_time": "2024-12-02T11:16:49.329Z"
   },
   {
    "duration": 6,
    "start_time": "2024-12-02T11:17:13.948Z"
   },
   {
    "duration": 7,
    "start_time": "2024-12-02T11:17:27.688Z"
   },
   {
    "duration": 212,
    "start_time": "2024-12-02T11:20:25.379Z"
   },
   {
    "duration": 135,
    "start_time": "2024-12-02T11:22:51.360Z"
   },
   {
    "duration": 143,
    "start_time": "2024-12-02T11:24:12.724Z"
   },
   {
    "duration": 8,
    "start_time": "2024-12-02T11:28:14.299Z"
   },
   {
    "duration": 5,
    "start_time": "2024-12-02T11:31:06.839Z"
   },
   {
    "duration": 12,
    "start_time": "2024-12-02T13:07:10.090Z"
   },
   {
    "duration": 5,
    "start_time": "2024-12-02T13:07:32.615Z"
   },
   {
    "duration": 868,
    "start_time": "2024-12-02T13:10:27.000Z"
   },
   {
    "duration": 1130,
    "start_time": "2024-12-02T13:11:28.941Z"
   },
   {
    "duration": 83,
    "start_time": "2024-12-02T13:18:36.432Z"
   },
   {
    "duration": 951,
    "start_time": "2024-12-02T13:18:48.171Z"
   },
   {
    "duration": 1004,
    "start_time": "2024-12-02T13:20:13.593Z"
   },
   {
    "duration": 935,
    "start_time": "2024-12-02T13:24:44.057Z"
   },
   {
    "duration": 152,
    "start_time": "2024-12-02T13:33:39.123Z"
   },
   {
    "duration": 5,
    "start_time": "2024-12-02T13:33:41.399Z"
   },
   {
    "duration": 22,
    "start_time": "2024-12-02T13:43:05.572Z"
   },
   {
    "duration": 1192,
    "start_time": "2024-12-02T13:43:20.293Z"
   },
   {
    "duration": 57,
    "start_time": "2024-12-02T13:43:21.487Z"
   },
   {
    "duration": 25,
    "start_time": "2024-12-02T13:43:21.545Z"
   },
   {
    "duration": 53,
    "start_time": "2024-12-02T13:43:21.572Z"
   },
   {
    "duration": 4,
    "start_time": "2024-12-02T13:43:21.628Z"
   },
   {
    "duration": 39,
    "start_time": "2024-12-02T13:43:21.634Z"
   },
   {
    "duration": 7,
    "start_time": "2024-12-02T13:43:21.718Z"
   },
   {
    "duration": 25,
    "start_time": "2024-12-02T13:43:21.727Z"
   },
   {
    "duration": 57,
    "start_time": "2024-12-02T13:43:21.754Z"
   },
   {
    "duration": 35,
    "start_time": "2024-12-02T13:43:21.814Z"
   },
   {
    "duration": 52,
    "start_time": "2024-12-02T13:43:21.851Z"
   },
   {
    "duration": 42,
    "start_time": "2024-12-02T13:43:21.906Z"
   },
   {
    "duration": 63,
    "start_time": "2024-12-02T13:43:21.950Z"
   },
   {
    "duration": 32,
    "start_time": "2024-12-02T13:43:22.016Z"
   },
   {
    "duration": 39,
    "start_time": "2024-12-02T13:43:22.050Z"
   },
   {
    "duration": 45,
    "start_time": "2024-12-02T13:43:22.091Z"
   },
   {
    "duration": 44,
    "start_time": "2024-12-02T13:43:22.138Z"
   },
   {
    "duration": 23,
    "start_time": "2024-12-02T13:43:22.184Z"
   },
   {
    "duration": 52,
    "start_time": "2024-12-02T13:43:22.209Z"
   },
   {
    "duration": 23,
    "start_time": "2024-12-02T13:43:22.262Z"
   },
   {
    "duration": 39,
    "start_time": "2024-12-02T13:43:22.288Z"
   },
   {
    "duration": 36,
    "start_time": "2024-12-02T13:43:22.330Z"
   },
   {
    "duration": 54,
    "start_time": "2024-12-02T13:43:22.368Z"
   },
   {
    "duration": 64,
    "start_time": "2024-12-02T13:43:22.424Z"
   },
   {
    "duration": 25,
    "start_time": "2024-12-02T13:43:22.490Z"
   },
   {
    "duration": 253,
    "start_time": "2024-12-02T13:43:22.517Z"
   },
   {
    "duration": 14,
    "start_time": "2024-12-02T13:43:22.772Z"
   },
   {
    "duration": 20,
    "start_time": "2024-12-02T13:43:22.788Z"
   },
   {
    "duration": 7,
    "start_time": "2024-12-02T13:43:22.817Z"
   },
   {
    "duration": 372,
    "start_time": "2024-12-02T13:43:22.826Z"
   },
   {
    "duration": 25,
    "start_time": "2024-12-02T13:43:23.201Z"
   },
   {
    "duration": 309,
    "start_time": "2024-12-02T13:43:23.229Z"
   },
   {
    "duration": 317,
    "start_time": "2024-12-02T13:43:23.540Z"
   },
   {
    "duration": 240,
    "start_time": "2024-12-02T13:43:23.859Z"
   },
   {
    "duration": 210,
    "start_time": "2024-12-02T13:43:24.103Z"
   },
   {
    "duration": 4,
    "start_time": "2024-12-02T13:43:24.314Z"
   },
   {
    "duration": 18,
    "start_time": "2024-12-02T13:43:24.321Z"
   },
   {
    "duration": 25,
    "start_time": "2024-12-02T13:43:24.341Z"
   },
   {
    "duration": 239,
    "start_time": "2024-12-02T13:43:24.369Z"
   },
   {
    "duration": 190,
    "start_time": "2024-12-02T13:43:24.609Z"
   },
   {
    "duration": 246,
    "start_time": "2024-12-02T13:43:24.803Z"
   },
   {
    "duration": 10,
    "start_time": "2024-12-02T13:43:25.051Z"
   },
   {
    "duration": 163,
    "start_time": "2024-12-02T13:43:25.063Z"
   },
   {
    "duration": 6,
    "start_time": "2024-12-02T13:43:25.228Z"
   },
   {
    "duration": 1128,
    "start_time": "2024-12-02T13:43:25.235Z"
   },
   {
    "duration": 20,
    "start_time": "2024-12-02T13:43:26.365Z"
   },
   {
    "duration": 20,
    "start_time": "2024-12-02T13:45:10.316Z"
   },
   {
    "duration": 32,
    "start_time": "2024-12-02T13:46:50.222Z"
   },
   {
    "duration": 33,
    "start_time": "2024-12-02T13:47:07.233Z"
   },
   {
    "duration": 1143,
    "start_time": "2024-12-02T13:47:53.133Z"
   },
   {
    "duration": 57,
    "start_time": "2024-12-02T13:47:54.278Z"
   },
   {
    "duration": 26,
    "start_time": "2024-12-02T13:47:54.337Z"
   },
   {
    "duration": 46,
    "start_time": "2024-12-02T13:47:54.365Z"
   },
   {
    "duration": 4,
    "start_time": "2024-12-02T13:47:54.414Z"
   },
   {
    "duration": 19,
    "start_time": "2024-12-02T13:47:54.420Z"
   },
   {
    "duration": 5,
    "start_time": "2024-12-02T13:47:54.441Z"
   },
   {
    "duration": 8,
    "start_time": "2024-12-02T13:47:54.448Z"
   },
   {
    "duration": 5,
    "start_time": "2024-12-02T13:47:54.457Z"
   },
   {
    "duration": 13,
    "start_time": "2024-12-02T13:47:54.464Z"
   },
   {
    "duration": 15,
    "start_time": "2024-12-02T13:47:54.479Z"
   },
   {
    "duration": 7,
    "start_time": "2024-12-02T13:47:54.519Z"
   },
   {
    "duration": 22,
    "start_time": "2024-12-02T13:47:54.528Z"
   },
   {
    "duration": 13,
    "start_time": "2024-12-02T13:47:54.554Z"
   },
   {
    "duration": 5,
    "start_time": "2024-12-02T13:47:54.569Z"
   },
   {
    "duration": 11,
    "start_time": "2024-12-02T13:47:54.576Z"
   },
   {
    "duration": 8,
    "start_time": "2024-12-02T13:47:54.588Z"
   },
   {
    "duration": 13,
    "start_time": "2024-12-02T13:47:54.618Z"
   },
   {
    "duration": 24,
    "start_time": "2024-12-02T13:47:54.633Z"
   },
   {
    "duration": 23,
    "start_time": "2024-12-02T13:47:54.659Z"
   },
   {
    "duration": 17,
    "start_time": "2024-12-02T13:47:54.684Z"
   },
   {
    "duration": 31,
    "start_time": "2024-12-02T13:47:54.703Z"
   },
   {
    "duration": 16,
    "start_time": "2024-12-02T13:47:54.736Z"
   },
   {
    "duration": 11,
    "start_time": "2024-12-02T13:47:54.753Z"
   },
   {
    "duration": 5,
    "start_time": "2024-12-02T13:47:54.765Z"
   },
   {
    "duration": 272,
    "start_time": "2024-12-02T13:47:54.772Z"
   },
   {
    "duration": 15,
    "start_time": "2024-12-02T13:47:55.045Z"
   },
   {
    "duration": 23,
    "start_time": "2024-12-02T13:47:55.062Z"
   },
   {
    "duration": 9,
    "start_time": "2024-12-02T13:47:55.087Z"
   },
   {
    "duration": 374,
    "start_time": "2024-12-02T13:47:55.097Z"
   },
   {
    "duration": 12,
    "start_time": "2024-12-02T13:47:55.473Z"
   },
   {
    "duration": 326,
    "start_time": "2024-12-02T13:47:55.486Z"
   },
   {
    "duration": 203,
    "start_time": "2024-12-02T13:47:55.817Z"
   },
   {
    "duration": 203,
    "start_time": "2024-12-02T13:47:56.022Z"
   },
   {
    "duration": 192,
    "start_time": "2024-12-02T13:47:56.226Z"
   },
   {
    "duration": 4,
    "start_time": "2024-12-02T13:47:56.420Z"
   },
   {
    "duration": 6,
    "start_time": "2024-12-02T13:47:56.426Z"
   },
   {
    "duration": 14,
    "start_time": "2024-12-02T13:47:56.433Z"
   },
   {
    "duration": 231,
    "start_time": "2024-12-02T13:47:56.448Z"
   },
   {
    "duration": 197,
    "start_time": "2024-12-02T13:47:56.681Z"
   },
   {
    "duration": 236,
    "start_time": "2024-12-02T13:47:56.882Z"
   },
   {
    "duration": 10,
    "start_time": "2024-12-02T13:47:57.121Z"
   },
   {
    "duration": 197,
    "start_time": "2024-12-02T13:47:57.133Z"
   },
   {
    "duration": 5,
    "start_time": "2024-12-02T13:47:57.331Z"
   },
   {
    "duration": 947,
    "start_time": "2024-12-02T13:47:57.338Z"
   },
   {
    "duration": 38,
    "start_time": "2024-12-02T13:47:58.286Z"
   },
   {
    "duration": 33,
    "start_time": "2024-12-02T13:49:47.936Z"
   },
   {
    "duration": 34,
    "start_time": "2024-12-02T13:50:06.975Z"
   },
   {
    "duration": 33,
    "start_time": "2024-12-02T13:50:27.328Z"
   },
   {
    "duration": 37,
    "start_time": "2024-12-02T13:50:39.125Z"
   },
   {
    "duration": 1072,
    "start_time": "2024-12-02T13:53:10.973Z"
   },
   {
    "duration": 52,
    "start_time": "2024-12-02T13:53:56.465Z"
   },
   {
    "duration": 1126,
    "start_time": "2024-12-02T14:09:43.050Z"
   },
   {
    "duration": 58,
    "start_time": "2024-12-02T14:09:44.178Z"
   },
   {
    "duration": 19,
    "start_time": "2024-12-02T14:09:44.237Z"
   },
   {
    "duration": 15,
    "start_time": "2024-12-02T14:09:44.257Z"
   },
   {
    "duration": 3,
    "start_time": "2024-12-02T14:09:44.275Z"
   },
   {
    "duration": 30,
    "start_time": "2024-12-02T14:09:44.279Z"
   },
   {
    "duration": 5,
    "start_time": "2024-12-02T14:09:44.317Z"
   },
   {
    "duration": 13,
    "start_time": "2024-12-02T14:09:44.324Z"
   },
   {
    "duration": 4,
    "start_time": "2024-12-02T14:09:44.339Z"
   },
   {
    "duration": 6,
    "start_time": "2024-12-02T14:09:44.344Z"
   },
   {
    "duration": 10,
    "start_time": "2024-12-02T14:09:44.351Z"
   },
   {
    "duration": 5,
    "start_time": "2024-12-02T14:09:44.362Z"
   },
   {
    "duration": 16,
    "start_time": "2024-12-02T14:09:44.369Z"
   },
   {
    "duration": 9,
    "start_time": "2024-12-02T14:09:44.421Z"
   },
   {
    "duration": 7,
    "start_time": "2024-12-02T14:09:44.432Z"
   },
   {
    "duration": 9,
    "start_time": "2024-12-02T14:09:44.441Z"
   },
   {
    "duration": 15,
    "start_time": "2024-12-02T14:09:44.451Z"
   },
   {
    "duration": 6,
    "start_time": "2024-12-02T14:09:44.468Z"
   },
   {
    "duration": 4,
    "start_time": "2024-12-02T14:09:44.476Z"
   },
   {
    "duration": 38,
    "start_time": "2024-12-02T14:09:44.482Z"
   },
   {
    "duration": 22,
    "start_time": "2024-12-02T14:09:44.522Z"
   },
   {
    "duration": 20,
    "start_time": "2024-12-02T14:09:44.545Z"
   },
   {
    "duration": 27,
    "start_time": "2024-12-02T14:09:44.567Z"
   },
   {
    "duration": 9,
    "start_time": "2024-12-02T14:09:44.596Z"
   },
   {
    "duration": 3,
    "start_time": "2024-12-02T14:09:44.607Z"
   },
   {
    "duration": 263,
    "start_time": "2024-12-02T14:09:44.612Z"
   },
   {
    "duration": 15,
    "start_time": "2024-12-02T14:09:44.877Z"
   },
   {
    "duration": 13,
    "start_time": "2024-12-02T14:09:44.894Z"
   },
   {
    "duration": 6,
    "start_time": "2024-12-02T14:09:44.918Z"
   },
   {
    "duration": 349,
    "start_time": "2024-12-02T14:09:44.926Z"
   },
   {
    "duration": 10,
    "start_time": "2024-12-02T14:09:45.277Z"
   },
   {
    "duration": 292,
    "start_time": "2024-12-02T14:09:45.288Z"
   },
   {
    "duration": 231,
    "start_time": "2024-12-02T14:09:45.583Z"
   },
   {
    "duration": 203,
    "start_time": "2024-12-02T14:09:45.817Z"
   },
   {
    "duration": 200,
    "start_time": "2024-12-02T14:09:46.022Z"
   },
   {
    "duration": 5,
    "start_time": "2024-12-02T14:09:46.224Z"
   },
   {
    "duration": 6,
    "start_time": "2024-12-02T14:09:46.230Z"
   },
   {
    "duration": 14,
    "start_time": "2024-12-02T14:09:46.237Z"
   },
   {
    "duration": 250,
    "start_time": "2024-12-02T14:09:46.253Z"
   },
   {
    "duration": 200,
    "start_time": "2024-12-02T14:09:46.505Z"
   },
   {
    "duration": 223,
    "start_time": "2024-12-02T14:09:46.709Z"
   },
   {
    "duration": 7,
    "start_time": "2024-12-02T14:09:46.933Z"
   },
   {
    "duration": 149,
    "start_time": "2024-12-02T14:09:46.942Z"
   },
   {
    "duration": 6,
    "start_time": "2024-12-02T14:09:47.093Z"
   },
   {
    "duration": 938,
    "start_time": "2024-12-02T14:09:47.101Z"
   },
   {
    "duration": 46,
    "start_time": "2024-12-02T14:09:48.042Z"
   },
   {
    "duration": 1031,
    "start_time": "2024-12-02T14:09:48.090Z"
   },
   {
    "duration": 34,
    "start_time": "2024-12-02T14:09:49.122Z"
   },
   {
    "duration": 12,
    "start_time": "2024-12-02T14:34:38.532Z"
   },
   {
    "duration": 8,
    "start_time": "2024-12-02T14:34:46.455Z"
   },
   {
    "duration": 1177,
    "start_time": "2024-12-02T14:35:15.600Z"
   },
   {
    "duration": 57,
    "start_time": "2024-12-02T14:35:16.778Z"
   },
   {
    "duration": 18,
    "start_time": "2024-12-02T14:35:16.837Z"
   },
   {
    "duration": 30,
    "start_time": "2024-12-02T14:35:16.857Z"
   },
   {
    "duration": 4,
    "start_time": "2024-12-02T14:35:16.890Z"
   },
   {
    "duration": 41,
    "start_time": "2024-12-02T14:35:16.895Z"
   },
   {
    "duration": 14,
    "start_time": "2024-12-02T14:35:16.939Z"
   },
   {
    "duration": 21,
    "start_time": "2024-12-02T14:35:16.955Z"
   },
   {
    "duration": 10,
    "start_time": "2024-12-02T14:35:16.978Z"
   },
   {
    "duration": 17,
    "start_time": "2024-12-02T14:35:16.990Z"
   },
   {
    "duration": 26,
    "start_time": "2024-12-02T14:35:17.009Z"
   },
   {
    "duration": 33,
    "start_time": "2024-12-02T14:35:17.038Z"
   },
   {
    "duration": 29,
    "start_time": "2024-12-02T14:35:17.072Z"
   },
   {
    "duration": 39,
    "start_time": "2024-12-02T14:35:17.106Z"
   },
   {
    "duration": 11,
    "start_time": "2024-12-02T14:35:17.147Z"
   },
   {
    "duration": 19,
    "start_time": "2024-12-02T14:35:17.160Z"
   },
   {
    "duration": 8,
    "start_time": "2024-12-02T14:35:17.181Z"
   },
   {
    "duration": 6,
    "start_time": "2024-12-02T14:35:17.191Z"
   },
   {
    "duration": 16,
    "start_time": "2024-12-02T14:35:17.199Z"
   },
   {
    "duration": 9,
    "start_time": "2024-12-02T14:35:17.216Z"
   },
   {
    "duration": 8,
    "start_time": "2024-12-02T14:35:17.227Z"
   },
   {
    "duration": 16,
    "start_time": "2024-12-02T14:35:17.237Z"
   },
   {
    "duration": 5,
    "start_time": "2024-12-02T14:35:17.255Z"
   },
   {
    "duration": 8,
    "start_time": "2024-12-02T14:35:17.262Z"
   },
   {
    "duration": 4,
    "start_time": "2024-12-02T14:35:17.271Z"
   },
   {
    "duration": 271,
    "start_time": "2024-12-02T14:35:17.276Z"
   },
   {
    "duration": 14,
    "start_time": "2024-12-02T14:35:17.549Z"
   },
   {
    "duration": 17,
    "start_time": "2024-12-02T14:35:17.565Z"
   },
   {
    "duration": 12,
    "start_time": "2024-12-02T14:35:17.584Z"
   },
   {
    "duration": 345,
    "start_time": "2024-12-02T14:35:17.598Z"
   },
   {
    "duration": 10,
    "start_time": "2024-12-02T14:35:17.945Z"
   },
   {
    "duration": 292,
    "start_time": "2024-12-02T14:35:17.956Z"
   },
   {
    "duration": 198,
    "start_time": "2024-12-02T14:35:18.250Z"
   },
   {
    "duration": 212,
    "start_time": "2024-12-02T14:35:18.450Z"
   },
   {
    "duration": 196,
    "start_time": "2024-12-02T14:35:18.664Z"
   },
   {
    "duration": 5,
    "start_time": "2024-12-02T14:35:18.862Z"
   },
   {
    "duration": 14,
    "start_time": "2024-12-02T14:35:18.868Z"
   },
   {
    "duration": 13,
    "start_time": "2024-12-02T14:35:18.883Z"
   },
   {
    "duration": 245,
    "start_time": "2024-12-02T14:35:18.898Z"
   },
   {
    "duration": 191,
    "start_time": "2024-12-02T14:35:19.145Z"
   },
   {
    "duration": 222,
    "start_time": "2024-12-02T14:35:19.340Z"
   },
   {
    "duration": 8,
    "start_time": "2024-12-02T14:35:19.564Z"
   },
   {
    "duration": 160,
    "start_time": "2024-12-02T14:35:19.574Z"
   },
   {
    "duration": 5,
    "start_time": "2024-12-02T14:35:19.736Z"
   },
   {
    "duration": 969,
    "start_time": "2024-12-02T14:35:19.742Z"
   },
   {
    "duration": 35,
    "start_time": "2024-12-02T14:35:20.717Z"
   },
   {
    "duration": 1034,
    "start_time": "2024-12-02T14:35:20.753Z"
   },
   {
    "duration": 56,
    "start_time": "2024-12-02T14:35:21.789Z"
   },
   {
    "duration": 11,
    "start_time": "2024-12-02T14:35:21.847Z"
   },
   {
    "duration": 8,
    "start_time": "2024-12-02T14:35:21.860Z"
   },
   {
    "duration": 5,
    "start_time": "2024-12-02T14:36:13.391Z"
   },
   {
    "duration": 13,
    "start_time": "2024-12-02T14:36:15.014Z"
   },
   {
    "duration": 11,
    "start_time": "2024-12-02T14:36:23.573Z"
   },
   {
    "duration": 8,
    "start_time": "2024-12-02T14:36:26.513Z"
   },
   {
    "duration": 10,
    "start_time": "2024-12-02T14:40:11.987Z"
   },
   {
    "duration": 1157,
    "start_time": "2024-12-02T14:53:44.753Z"
   },
   {
    "duration": 58,
    "start_time": "2024-12-02T14:53:45.912Z"
   },
   {
    "duration": 19,
    "start_time": "2024-12-02T14:53:45.971Z"
   },
   {
    "duration": 14,
    "start_time": "2024-12-02T14:53:45.992Z"
   },
   {
    "duration": 9,
    "start_time": "2024-12-02T14:53:46.009Z"
   },
   {
    "duration": 19,
    "start_time": "2024-12-02T14:53:46.020Z"
   },
   {
    "duration": 5,
    "start_time": "2024-12-02T14:53:46.040Z"
   },
   {
    "duration": 7,
    "start_time": "2024-12-02T14:53:46.047Z"
   },
   {
    "duration": 8,
    "start_time": "2024-12-02T14:53:46.056Z"
   },
   {
    "duration": 8,
    "start_time": "2024-12-02T14:53:46.065Z"
   },
   {
    "duration": 9,
    "start_time": "2024-12-02T14:53:46.075Z"
   },
   {
    "duration": 34,
    "start_time": "2024-12-02T14:53:46.085Z"
   },
   {
    "duration": 13,
    "start_time": "2024-12-02T14:53:46.120Z"
   },
   {
    "duration": 57,
    "start_time": "2024-12-02T14:53:46.136Z"
   },
   {
    "duration": 15,
    "start_time": "2024-12-02T14:53:46.195Z"
   },
   {
    "duration": 10,
    "start_time": "2024-12-02T14:53:46.212Z"
   },
   {
    "duration": 11,
    "start_time": "2024-12-02T14:53:46.224Z"
   },
   {
    "duration": 6,
    "start_time": "2024-12-02T14:53:46.236Z"
   },
   {
    "duration": 8,
    "start_time": "2024-12-02T14:53:46.244Z"
   },
   {
    "duration": 6,
    "start_time": "2024-12-02T14:53:46.253Z"
   },
   {
    "duration": 5,
    "start_time": "2024-12-02T14:53:46.260Z"
   },
   {
    "duration": 15,
    "start_time": "2024-12-02T14:53:46.266Z"
   },
   {
    "duration": 5,
    "start_time": "2024-12-02T14:53:46.282Z"
   },
   {
    "duration": 7,
    "start_time": "2024-12-02T14:53:46.289Z"
   },
   {
    "duration": 4,
    "start_time": "2024-12-02T14:53:46.318Z"
   },
   {
    "duration": 242,
    "start_time": "2024-12-02T14:53:46.323Z"
   },
   {
    "duration": 13,
    "start_time": "2024-12-02T14:53:46.567Z"
   },
   {
    "duration": 11,
    "start_time": "2024-12-02T14:53:46.582Z"
   },
   {
    "duration": 7,
    "start_time": "2024-12-02T14:53:46.595Z"
   },
   {
    "duration": 358,
    "start_time": "2024-12-02T14:53:46.618Z"
   },
   {
    "duration": 17,
    "start_time": "2024-12-02T14:53:46.978Z"
   },
   {
    "duration": 322,
    "start_time": "2024-12-02T14:53:46.997Z"
   },
   {
    "duration": 241,
    "start_time": "2024-12-02T14:53:47.322Z"
   },
   {
    "duration": 210,
    "start_time": "2024-12-02T14:53:47.564Z"
   },
   {
    "duration": 198,
    "start_time": "2024-12-02T14:53:47.776Z"
   },
   {
    "duration": 5,
    "start_time": "2024-12-02T14:53:47.976Z"
   },
   {
    "duration": 17,
    "start_time": "2024-12-02T14:53:47.983Z"
   },
   {
    "duration": 28,
    "start_time": "2024-12-02T14:53:48.001Z"
   },
   {
    "duration": 24,
    "start_time": "2024-12-02T14:53:48.031Z"
   },
   {
    "duration": 214,
    "start_time": "2024-12-02T14:53:48.057Z"
   },
   {
    "duration": 193,
    "start_time": "2024-12-02T14:53:48.276Z"
   },
   {
    "duration": 247,
    "start_time": "2024-12-02T14:53:48.471Z"
   },
   {
    "duration": 10,
    "start_time": "2024-12-02T14:53:48.720Z"
   },
   {
    "duration": 170,
    "start_time": "2024-12-02T14:53:48.732Z"
   },
   {
    "duration": 6,
    "start_time": "2024-12-02T14:53:48.904Z"
   },
   {
    "duration": 994,
    "start_time": "2024-12-02T14:53:48.918Z"
   },
   {
    "duration": 35,
    "start_time": "2024-12-02T14:53:49.913Z"
   },
   {
    "duration": 1060,
    "start_time": "2024-12-02T14:53:49.950Z"
   },
   {
    "duration": 47,
    "start_time": "2024-12-02T14:53:51.011Z"
   },
   {
    "duration": 13,
    "start_time": "2024-12-02T14:53:51.060Z"
   },
   {
    "duration": 15,
    "start_time": "2024-12-02T14:53:51.075Z"
   },
   {
    "duration": 34,
    "start_time": "2024-12-02T14:54:15.760Z"
   },
   {
    "duration": 7,
    "start_time": "2024-12-02T15:18:17.950Z"
   },
   {
    "duration": 17,
    "start_time": "2024-12-02T15:18:18.753Z"
   },
   {
    "duration": 12,
    "start_time": "2024-12-02T15:18:19.748Z"
   },
   {
    "duration": 6,
    "start_time": "2024-12-02T15:18:41.249Z"
   },
   {
    "duration": 3,
    "start_time": "2024-12-02T15:18:41.979Z"
   },
   {
    "duration": 5,
    "start_time": "2024-12-02T15:18:42.695Z"
   },
   {
    "duration": 17,
    "start_time": "2024-12-02T15:18:43.584Z"
   },
   {
    "duration": 234,
    "start_time": "2024-12-02T15:18:44.374Z"
   },
   {
    "duration": 5,
    "start_time": "2024-12-02T15:18:52.896Z"
   },
   {
    "duration": 11,
    "start_time": "2024-12-02T15:18:53.561Z"
   },
   {
    "duration": 8,
    "start_time": "2024-12-02T15:18:54.422Z"
   },
   {
    "duration": 182,
    "start_time": "2024-12-02T15:21:43.408Z"
   },
   {
    "duration": 198,
    "start_time": "2024-12-02T15:22:28.729Z"
   },
   {
    "duration": 5,
    "start_time": "2024-12-02T15:23:53.588Z"
   },
   {
    "duration": 6,
    "start_time": "2024-12-02T15:24:45.449Z"
   },
   {
    "duration": 17,
    "start_time": "2024-12-02T16:10:23.108Z"
   },
   {
    "duration": 14,
    "start_time": "2024-12-02T16:10:28.846Z"
   },
   {
    "duration": 19,
    "start_time": "2024-12-02T16:15:57.716Z"
   },
   {
    "duration": 20,
    "start_time": "2024-12-02T16:16:05.478Z"
   },
   {
    "duration": 90,
    "start_time": "2024-12-02T16:17:16.326Z"
   },
   {
    "duration": 20,
    "start_time": "2024-12-02T16:17:28.318Z"
   },
   {
    "duration": 12,
    "start_time": "2024-12-02T16:17:32.038Z"
   },
   {
    "duration": 12,
    "start_time": "2024-12-02T16:20:57.303Z"
   },
   {
    "duration": 14,
    "start_time": "2024-12-02T16:21:00.288Z"
   },
   {
    "duration": 478,
    "start_time": "2024-12-02T16:21:28.826Z"
   },
   {
    "duration": 78,
    "start_time": "2024-12-02T16:22:36.211Z"
   },
   {
    "duration": 28,
    "start_time": "2024-12-02T16:22:36.936Z"
   },
   {
    "duration": 514,
    "start_time": "2024-12-02T16:22:38.288Z"
   },
   {
    "duration": 627,
    "start_time": "2024-12-02T16:22:43.446Z"
   },
   {
    "duration": 17,
    "start_time": "2024-12-02T16:24:59.369Z"
   },
   {
    "duration": 22,
    "start_time": "2024-12-02T16:25:00.668Z"
   },
   {
    "duration": 614,
    "start_time": "2024-12-02T16:25:01.931Z"
   },
   {
    "duration": 439,
    "start_time": "2024-12-02T16:25:45.266Z"
   },
   {
    "duration": 14,
    "start_time": "2024-12-02T16:28:18.872Z"
   },
   {
    "duration": 600,
    "start_time": "2024-12-02T16:29:25.229Z"
   },
   {
    "duration": 555,
    "start_time": "2024-12-02T16:32:27.456Z"
   },
   {
    "duration": 529,
    "start_time": "2024-12-02T16:32:41.856Z"
   },
   {
    "duration": 47,
    "start_time": "2024-12-03T08:12:07.594Z"
   },
   {
    "duration": 1177,
    "start_time": "2024-12-03T08:12:22.986Z"
   },
   {
    "duration": 165,
    "start_time": "2024-12-03T08:12:24.165Z"
   },
   {
    "duration": 16,
    "start_time": "2024-12-03T08:12:24.331Z"
   },
   {
    "duration": 12,
    "start_time": "2024-12-03T08:12:24.348Z"
   },
   {
    "duration": 3,
    "start_time": "2024-12-03T08:12:24.362Z"
   },
   {
    "duration": 26,
    "start_time": "2024-12-03T08:12:24.366Z"
   },
   {
    "duration": 11,
    "start_time": "2024-12-03T08:12:24.393Z"
   },
   {
    "duration": 19,
    "start_time": "2024-12-03T08:12:24.405Z"
   },
   {
    "duration": 25,
    "start_time": "2024-12-03T08:12:24.426Z"
   },
   {
    "duration": 8,
    "start_time": "2024-12-03T08:12:24.452Z"
   },
   {
    "duration": 20,
    "start_time": "2024-12-03T08:12:24.461Z"
   },
   {
    "duration": 27,
    "start_time": "2024-12-03T08:12:24.482Z"
   },
   {
    "duration": 16,
    "start_time": "2024-12-03T08:12:24.510Z"
   },
   {
    "duration": 7,
    "start_time": "2024-12-03T08:12:24.528Z"
   },
   {
    "duration": 19,
    "start_time": "2024-12-03T08:12:24.537Z"
   },
   {
    "duration": 14,
    "start_time": "2024-12-03T08:12:24.557Z"
   },
   {
    "duration": 13,
    "start_time": "2024-12-03T08:12:24.572Z"
   },
   {
    "duration": 7,
    "start_time": "2024-12-03T08:12:24.586Z"
   },
   {
    "duration": 13,
    "start_time": "2024-12-03T08:12:24.594Z"
   },
   {
    "duration": 7,
    "start_time": "2024-12-03T08:12:24.608Z"
   },
   {
    "duration": 4,
    "start_time": "2024-12-03T08:12:24.616Z"
   },
   {
    "duration": 25,
    "start_time": "2024-12-03T08:12:24.621Z"
   },
   {
    "duration": 49,
    "start_time": "2024-12-03T08:12:24.648Z"
   },
   {
    "duration": 11,
    "start_time": "2024-12-03T08:12:24.699Z"
   },
   {
    "duration": 5,
    "start_time": "2024-12-03T08:12:24.712Z"
   },
   {
    "duration": 242,
    "start_time": "2024-12-03T08:12:24.719Z"
   },
   {
    "duration": 12,
    "start_time": "2024-12-03T08:12:24.962Z"
   },
   {
    "duration": 14,
    "start_time": "2024-12-03T08:12:24.975Z"
   },
   {
    "duration": 9,
    "start_time": "2024-12-03T08:12:24.991Z"
   },
   {
    "duration": 294,
    "start_time": "2024-12-03T08:12:25.002Z"
   },
   {
    "duration": 9,
    "start_time": "2024-12-03T08:12:25.297Z"
   },
   {
    "duration": 244,
    "start_time": "2024-12-03T08:12:25.307Z"
   },
   {
    "duration": 175,
    "start_time": "2024-12-03T08:12:25.552Z"
   },
   {
    "duration": 173,
    "start_time": "2024-12-03T08:12:25.728Z"
   },
   {
    "duration": 171,
    "start_time": "2024-12-03T08:12:25.903Z"
   },
   {
    "duration": 4,
    "start_time": "2024-12-03T08:12:26.076Z"
   },
   {
    "duration": 5,
    "start_time": "2024-12-03T08:12:26.082Z"
   },
   {
    "duration": 10,
    "start_time": "2024-12-03T08:12:26.089Z"
   },
   {
    "duration": 20,
    "start_time": "2024-12-03T08:12:26.100Z"
   },
   {
    "duration": 192,
    "start_time": "2024-12-03T08:12:26.121Z"
   },
   {
    "duration": 172,
    "start_time": "2024-12-03T08:12:26.317Z"
   },
   {
    "duration": 180,
    "start_time": "2024-12-03T08:12:26.490Z"
   },
   {
    "duration": 6,
    "start_time": "2024-12-03T08:12:26.672Z"
   },
   {
    "duration": 130,
    "start_time": "2024-12-03T08:12:26.679Z"
   },
   {
    "duration": 4,
    "start_time": "2024-12-03T08:12:26.810Z"
   },
   {
    "duration": 838,
    "start_time": "2024-12-03T08:12:26.815Z"
   },
   {
    "duration": 30,
    "start_time": "2024-12-03T08:12:27.654Z"
   },
   {
    "duration": 933,
    "start_time": "2024-12-03T08:12:27.685Z"
   },
   {
    "duration": 35,
    "start_time": "2024-12-03T08:12:28.620Z"
   },
   {
    "duration": 7,
    "start_time": "2024-12-03T08:12:28.657Z"
   },
   {
    "duration": 8,
    "start_time": "2024-12-03T08:12:28.666Z"
   },
   {
    "duration": 174,
    "start_time": "2024-12-03T08:12:28.676Z"
   },
   {
    "duration": 111,
    "start_time": "2024-12-03T08:12:28.852Z"
   },
   {
    "duration": 0,
    "start_time": "2024-12-03T08:12:28.965Z"
   },
   {
    "duration": 0,
    "start_time": "2024-12-03T08:12:28.967Z"
   },
   {
    "duration": 0,
    "start_time": "2024-12-03T08:12:28.968Z"
   },
   {
    "duration": 7,
    "start_time": "2024-12-03T08:12:38.199Z"
   },
   {
    "duration": 84,
    "start_time": "2024-12-03T08:13:45.995Z"
   },
   {
    "duration": 81,
    "start_time": "2024-12-03T08:13:57.668Z"
   },
   {
    "duration": 107,
    "start_time": "2024-12-03T08:14:11.036Z"
   },
   {
    "duration": 9,
    "start_time": "2024-12-03T08:14:22.335Z"
   },
   {
    "duration": 10,
    "start_time": "2024-12-03T08:14:35.554Z"
   },
   {
    "duration": 10,
    "start_time": "2024-12-03T08:14:36.403Z"
   },
   {
    "duration": 10,
    "start_time": "2024-12-03T08:15:39.515Z"
   },
   {
    "duration": 11,
    "start_time": "2024-12-03T08:15:48.763Z"
   },
   {
    "duration": 99,
    "start_time": "2024-12-03T08:38:45.719Z"
   },
   {
    "duration": 87,
    "start_time": "2024-12-03T08:39:16.413Z"
   },
   {
    "duration": 92,
    "start_time": "2024-12-03T08:39:27.863Z"
   },
   {
    "duration": 11,
    "start_time": "2024-12-03T08:39:45.162Z"
   },
   {
    "duration": 351,
    "start_time": "2024-12-03T08:42:19.832Z"
   },
   {
    "duration": 82,
    "start_time": "2024-12-03T09:36:07.149Z"
   },
   {
    "duration": 10,
    "start_time": "2024-12-03T09:36:26.428Z"
   },
   {
    "duration": 6,
    "start_time": "2024-12-03T09:36:41.418Z"
   },
   {
    "duration": 235,
    "start_time": "2024-12-03T09:40:47.216Z"
   },
   {
    "duration": 159,
    "start_time": "2024-12-03T09:41:54.408Z"
   },
   {
    "duration": 165,
    "start_time": "2024-12-03T09:43:28.495Z"
   },
   {
    "duration": 159,
    "start_time": "2024-12-03T09:43:54.503Z"
   },
   {
    "duration": 160,
    "start_time": "2024-12-03T09:44:24.132Z"
   },
   {
    "duration": 156,
    "start_time": "2024-12-03T09:44:45.941Z"
   },
   {
    "duration": 9,
    "start_time": "2024-12-03T09:47:37.242Z"
   },
   {
    "duration": 226,
    "start_time": "2024-12-03T09:49:20.583Z"
   },
   {
    "duration": 11,
    "start_time": "2024-12-03T09:55:01.033Z"
   },
   {
    "duration": 151,
    "start_time": "2024-12-03T09:55:02.955Z"
   },
   {
    "duration": 83,
    "start_time": "2024-12-03T10:22:16.079Z"
   },
   {
    "duration": 9,
    "start_time": "2024-12-03T10:24:57.735Z"
   },
   {
    "duration": 152,
    "start_time": "2024-12-03T10:25:00.707Z"
   },
   {
    "duration": 177,
    "start_time": "2024-12-03T10:25:27.054Z"
   },
   {
    "duration": 9,
    "start_time": "2024-12-03T10:36:09.114Z"
   },
   {
    "duration": 153,
    "start_time": "2024-12-03T10:36:09.760Z"
   },
   {
    "duration": 104,
    "start_time": "2024-12-03T10:36:42.843Z"
   },
   {
    "duration": 164,
    "start_time": "2024-12-03T10:36:58.025Z"
   },
   {
    "duration": 160,
    "start_time": "2024-12-03T10:37:11.262Z"
   },
   {
    "duration": 120,
    "start_time": "2024-12-03T10:38:28.302Z"
   },
   {
    "duration": 123,
    "start_time": "2024-12-03T10:38:52.966Z"
   },
   {
    "duration": 9,
    "start_time": "2024-12-03T10:41:16.605Z"
   },
   {
    "duration": 117,
    "start_time": "2024-12-03T10:41:18.275Z"
   },
   {
    "duration": 10,
    "start_time": "2024-12-03T11:08:41.717Z"
   },
   {
    "duration": 125,
    "start_time": "2024-12-03T11:08:42.667Z"
   },
   {
    "duration": 16,
    "start_time": "2024-12-03T11:16:57.246Z"
   },
   {
    "duration": 3,
    "start_time": "2024-12-03T11:17:23.716Z"
   },
   {
    "duration": 16,
    "start_time": "2024-12-03T11:19:01.317Z"
   },
   {
    "duration": 7,
    "start_time": "2024-12-03T11:26:12.656Z"
   },
   {
    "duration": 992,
    "start_time": "2024-12-03T11:35:43.757Z"
   },
   {
    "duration": 52,
    "start_time": "2024-12-03T11:35:44.750Z"
   },
   {
    "duration": 15,
    "start_time": "2024-12-03T11:35:44.804Z"
   },
   {
    "duration": 14,
    "start_time": "2024-12-03T11:35:44.821Z"
   },
   {
    "duration": 20,
    "start_time": "2024-12-03T11:35:44.836Z"
   },
   {
    "duration": 32,
    "start_time": "2024-12-03T11:35:44.857Z"
   },
   {
    "duration": 4,
    "start_time": "2024-12-03T11:35:44.891Z"
   },
   {
    "duration": 13,
    "start_time": "2024-12-03T11:35:44.896Z"
   },
   {
    "duration": 5,
    "start_time": "2024-12-03T11:35:44.910Z"
   },
   {
    "duration": 9,
    "start_time": "2024-12-03T11:35:44.917Z"
   },
   {
    "duration": 7,
    "start_time": "2024-12-03T11:35:44.927Z"
   },
   {
    "duration": 12,
    "start_time": "2024-12-03T11:35:44.935Z"
   },
   {
    "duration": 16,
    "start_time": "2024-12-03T11:35:44.948Z"
   },
   {
    "duration": 15,
    "start_time": "2024-12-03T11:35:44.965Z"
   },
   {
    "duration": 6,
    "start_time": "2024-12-03T11:35:44.981Z"
   },
   {
    "duration": 7,
    "start_time": "2024-12-03T11:35:44.989Z"
   },
   {
    "duration": 4,
    "start_time": "2024-12-03T11:35:44.998Z"
   },
   {
    "duration": 51,
    "start_time": "2024-12-03T11:35:45.003Z"
   },
   {
    "duration": 57,
    "start_time": "2024-12-03T11:35:45.055Z"
   },
   {
    "duration": 18,
    "start_time": "2024-12-03T11:35:45.113Z"
   },
   {
    "duration": 40,
    "start_time": "2024-12-03T11:35:45.132Z"
   },
   {
    "duration": 41,
    "start_time": "2024-12-03T11:35:45.173Z"
   },
   {
    "duration": 34,
    "start_time": "2024-12-03T11:35:45.215Z"
   },
   {
    "duration": 46,
    "start_time": "2024-12-03T11:35:45.251Z"
   },
   {
    "duration": 23,
    "start_time": "2024-12-03T11:35:45.298Z"
   },
   {
    "duration": 4,
    "start_time": "2024-12-03T11:35:45.322Z"
   },
   {
    "duration": 235,
    "start_time": "2024-12-03T11:35:45.327Z"
   },
   {
    "duration": 12,
    "start_time": "2024-12-03T11:35:45.567Z"
   },
   {
    "duration": 40,
    "start_time": "2024-12-03T11:35:45.580Z"
   },
   {
    "duration": 9,
    "start_time": "2024-12-03T11:35:45.621Z"
   },
   {
    "duration": 302,
    "start_time": "2024-12-03T11:35:45.631Z"
   },
   {
    "duration": 8,
    "start_time": "2024-12-03T11:35:45.935Z"
   },
   {
    "duration": 297,
    "start_time": "2024-12-03T11:35:45.945Z"
   },
   {
    "duration": 220,
    "start_time": "2024-12-03T11:35:46.244Z"
   },
   {
    "duration": 195,
    "start_time": "2024-12-03T11:35:46.466Z"
   },
   {
    "duration": 176,
    "start_time": "2024-12-03T11:35:46.663Z"
   },
   {
    "duration": 4,
    "start_time": "2024-12-03T11:35:46.840Z"
   },
   {
    "duration": 3,
    "start_time": "2024-12-03T11:35:46.845Z"
   },
   {
    "duration": 6,
    "start_time": "2024-12-03T11:35:46.849Z"
   },
   {
    "duration": 15,
    "start_time": "2024-12-03T11:35:46.856Z"
   },
   {
    "duration": 208,
    "start_time": "2024-12-03T11:35:46.872Z"
   },
   {
    "duration": 163,
    "start_time": "2024-12-03T11:35:47.082Z"
   },
   {
    "duration": 180,
    "start_time": "2024-12-03T11:35:47.247Z"
   },
   {
    "duration": 6,
    "start_time": "2024-12-03T11:35:47.433Z"
   },
   {
    "duration": 133,
    "start_time": "2024-12-03T11:35:47.441Z"
   },
   {
    "duration": 4,
    "start_time": "2024-12-03T11:35:47.575Z"
   },
   {
    "duration": 801,
    "start_time": "2024-12-03T11:35:47.580Z"
   },
   {
    "duration": 29,
    "start_time": "2024-12-03T11:35:48.382Z"
   },
   {
    "duration": 890,
    "start_time": "2024-12-03T11:35:48.412Z"
   },
   {
    "duration": 39,
    "start_time": "2024-12-03T11:35:49.304Z"
   },
   {
    "duration": 8,
    "start_time": "2024-12-03T11:35:49.344Z"
   },
   {
    "duration": 8,
    "start_time": "2024-12-03T11:35:49.354Z"
   },
   {
    "duration": 177,
    "start_time": "2024-12-03T11:35:49.363Z"
   },
   {
    "duration": 10,
    "start_time": "2024-12-03T11:35:49.542Z"
   },
   {
    "duration": 10,
    "start_time": "2024-12-03T11:35:49.554Z"
   },
   {
    "duration": 347,
    "start_time": "2024-12-03T11:35:49.565Z"
   },
   {
    "duration": 10,
    "start_time": "2024-12-03T11:35:49.913Z"
   },
   {
    "duration": 164,
    "start_time": "2024-12-03T11:35:49.924Z"
   },
   {
    "duration": 9,
    "start_time": "2024-12-03T11:35:50.089Z"
   },
   {
    "duration": 190,
    "start_time": "2024-12-03T11:35:50.100Z"
   },
   {
    "duration": 10,
    "start_time": "2024-12-03T11:35:50.291Z"
   },
   {
    "duration": 160,
    "start_time": "2024-12-03T11:35:50.303Z"
   },
   {
    "duration": 10,
    "start_time": "2024-12-03T11:35:50.465Z"
   },
   {
    "duration": 138,
    "start_time": "2024-12-03T11:35:50.476Z"
   },
   {
    "duration": 17,
    "start_time": "2024-12-03T11:35:50.616Z"
   },
   {
    "duration": 130,
    "start_time": "2024-12-03T11:35:50.634Z"
   },
   {
    "duration": 11,
    "start_time": "2024-12-03T11:35:50.766Z"
   },
   {
    "duration": 136,
    "start_time": "2024-12-03T11:35:50.778Z"
   },
   {
    "duration": 10,
    "start_time": "2024-12-03T11:35:50.915Z"
   },
   {
    "duration": 177,
    "start_time": "2024-12-03T11:35:50.932Z"
   },
   {
    "duration": 10,
    "start_time": "2024-12-03T11:35:51.110Z"
   },
   {
    "duration": 139,
    "start_time": "2024-12-03T11:35:51.121Z"
   },
   {
    "duration": 9,
    "start_time": "2024-12-03T11:35:51.261Z"
   },
   {
    "duration": 129,
    "start_time": "2024-12-03T11:35:51.271Z"
   },
   {
    "duration": 10,
    "start_time": "2024-12-03T12:02:01.386Z"
   },
   {
    "duration": 117,
    "start_time": "2024-12-03T12:02:02.146Z"
   },
   {
    "duration": 9,
    "start_time": "2024-12-03T12:02:23.944Z"
   },
   {
    "duration": 125,
    "start_time": "2024-12-03T12:02:24.623Z"
   },
   {
    "duration": 9,
    "start_time": "2024-12-03T12:06:57.493Z"
   },
   {
    "duration": 114,
    "start_time": "2024-12-03T12:06:58.360Z"
   },
   {
    "duration": 127,
    "start_time": "2024-12-03T12:08:20.831Z"
   },
   {
    "duration": 9,
    "start_time": "2024-12-03T12:08:22.621Z"
   },
   {
    "duration": 9,
    "start_time": "2024-12-03T12:08:31.371Z"
   },
   {
    "duration": 118,
    "start_time": "2024-12-03T12:09:04.763Z"
   },
   {
    "duration": 8,
    "start_time": "2024-12-03T12:46:44.325Z"
   },
   {
    "duration": 8,
    "start_time": "2024-12-03T12:47:53.085Z"
   },
   {
    "duration": 8,
    "start_time": "2024-12-03T12:48:30.441Z"
   },
   {
    "duration": 8,
    "start_time": "2024-12-03T12:57:44.799Z"
   },
   {
    "duration": 1001,
    "start_time": "2024-12-03T13:16:06.847Z"
   },
   {
    "duration": 53,
    "start_time": "2024-12-03T13:16:07.850Z"
   },
   {
    "duration": 17,
    "start_time": "2024-12-03T13:16:07.904Z"
   },
   {
    "duration": 13,
    "start_time": "2024-12-03T13:16:07.922Z"
   },
   {
    "duration": 2,
    "start_time": "2024-12-03T13:16:07.937Z"
   },
   {
    "duration": 12,
    "start_time": "2024-12-03T13:16:07.941Z"
   },
   {
    "duration": 5,
    "start_time": "2024-12-03T13:16:07.955Z"
   },
   {
    "duration": 15,
    "start_time": "2024-12-03T13:16:07.961Z"
   },
   {
    "duration": 30,
    "start_time": "2024-12-03T13:16:07.977Z"
   },
   {
    "duration": 6,
    "start_time": "2024-12-03T13:16:08.009Z"
   },
   {
    "duration": 12,
    "start_time": "2024-12-03T13:16:08.016Z"
   },
   {
    "duration": 13,
    "start_time": "2024-12-03T13:16:08.029Z"
   },
   {
    "duration": 11,
    "start_time": "2024-12-03T13:16:08.043Z"
   },
   {
    "duration": 7,
    "start_time": "2024-12-03T13:16:08.056Z"
   },
   {
    "duration": 10,
    "start_time": "2024-12-03T13:16:08.064Z"
   },
   {
    "duration": 11,
    "start_time": "2024-12-03T13:16:08.076Z"
   },
   {
    "duration": 42,
    "start_time": "2024-12-03T13:16:08.088Z"
   },
   {
    "duration": 5,
    "start_time": "2024-12-03T13:16:08.131Z"
   },
   {
    "duration": 10,
    "start_time": "2024-12-03T13:16:08.137Z"
   },
   {
    "duration": 9,
    "start_time": "2024-12-03T13:16:08.148Z"
   },
   {
    "duration": 9,
    "start_time": "2024-12-03T13:16:08.158Z"
   },
   {
    "duration": 5,
    "start_time": "2024-12-03T13:16:08.168Z"
   },
   {
    "duration": 12,
    "start_time": "2024-12-03T13:16:08.174Z"
   },
   {
    "duration": 6,
    "start_time": "2024-12-03T13:16:08.188Z"
   },
   {
    "duration": 4,
    "start_time": "2024-12-03T13:16:08.195Z"
   },
   {
    "duration": 2,
    "start_time": "2024-12-03T13:16:08.201Z"
   },
   {
    "duration": 241,
    "start_time": "2024-12-03T13:16:08.205Z"
   },
   {
    "duration": 25,
    "start_time": "2024-12-03T13:16:08.447Z"
   },
   {
    "duration": 18,
    "start_time": "2024-12-03T13:16:08.473Z"
   },
   {
    "duration": 10,
    "start_time": "2024-12-03T13:16:08.492Z"
   },
   {
    "duration": 269,
    "start_time": "2024-12-03T13:16:08.503Z"
   },
   {
    "duration": 8,
    "start_time": "2024-12-03T13:16:08.774Z"
   },
   {
    "duration": 242,
    "start_time": "2024-12-03T13:16:08.783Z"
   },
   {
    "duration": 169,
    "start_time": "2024-12-03T13:16:09.032Z"
   },
   {
    "duration": 176,
    "start_time": "2024-12-03T13:16:09.203Z"
   },
   {
    "duration": 175,
    "start_time": "2024-12-03T13:16:09.380Z"
   },
   {
    "duration": 4,
    "start_time": "2024-12-03T13:16:09.557Z"
   },
   {
    "duration": 9,
    "start_time": "2024-12-03T13:16:09.562Z"
   },
   {
    "duration": 9,
    "start_time": "2024-12-03T13:16:09.572Z"
   },
   {
    "duration": 11,
    "start_time": "2024-12-03T13:16:09.582Z"
   },
   {
    "duration": 192,
    "start_time": "2024-12-03T13:16:09.597Z"
   },
   {
    "duration": 159,
    "start_time": "2024-12-03T13:16:09.791Z"
   },
   {
    "duration": 186,
    "start_time": "2024-12-03T13:16:09.952Z"
   },
   {
    "duration": 6,
    "start_time": "2024-12-03T13:16:10.139Z"
   },
   {
    "duration": 134,
    "start_time": "2024-12-03T13:16:10.146Z"
   },
   {
    "duration": 4,
    "start_time": "2024-12-03T13:16:10.281Z"
   },
   {
    "duration": 820,
    "start_time": "2024-12-03T13:16:10.287Z"
   },
   {
    "duration": 40,
    "start_time": "2024-12-03T13:16:11.108Z"
   },
   {
    "duration": 879,
    "start_time": "2024-12-03T13:16:11.150Z"
   },
   {
    "duration": 28,
    "start_time": "2024-12-03T13:16:12.030Z"
   },
   {
    "duration": 8,
    "start_time": "2024-12-03T13:16:12.059Z"
   },
   {
    "duration": 10,
    "start_time": "2024-12-03T13:16:12.069Z"
   },
   {
    "duration": 190,
    "start_time": "2024-12-03T13:16:12.081Z"
   },
   {
    "duration": 13,
    "start_time": "2024-12-03T13:16:12.272Z"
   },
   {
    "duration": 10,
    "start_time": "2024-12-03T13:16:12.287Z"
   },
   {
    "duration": 332,
    "start_time": "2024-12-03T13:16:12.298Z"
   },
   {
    "duration": 9,
    "start_time": "2024-12-03T13:16:12.632Z"
   },
   {
    "duration": 169,
    "start_time": "2024-12-03T13:16:12.642Z"
   },
   {
    "duration": 9,
    "start_time": "2024-12-03T13:16:12.812Z"
   },
   {
    "duration": 163,
    "start_time": "2024-12-03T13:16:12.822Z"
   },
   {
    "duration": 8,
    "start_time": "2024-12-03T13:16:12.986Z"
   },
   {
    "duration": 164,
    "start_time": "2024-12-03T13:16:12.996Z"
   },
   {
    "duration": 9,
    "start_time": "2024-12-03T13:16:13.162Z"
   },
   {
    "duration": 140,
    "start_time": "2024-12-03T13:16:13.173Z"
   },
   {
    "duration": 8,
    "start_time": "2024-12-03T13:16:13.315Z"
   },
   {
    "duration": 128,
    "start_time": "2024-12-03T13:16:13.325Z"
   },
   {
    "duration": 9,
    "start_time": "2024-12-03T13:16:13.454Z"
   },
   {
    "duration": 137,
    "start_time": "2024-12-03T13:16:13.464Z"
   },
   {
    "duration": 9,
    "start_time": "2024-12-03T13:16:13.602Z"
   },
   {
    "duration": 202,
    "start_time": "2024-12-03T13:16:13.613Z"
   },
   {
    "duration": 16,
    "start_time": "2024-12-03T13:16:13.817Z"
   },
   {
    "duration": 126,
    "start_time": "2024-12-03T13:16:13.835Z"
   },
   {
    "duration": 8,
    "start_time": "2024-12-03T13:16:13.963Z"
   },
   {
    "duration": 123,
    "start_time": "2024-12-03T13:16:13.973Z"
   },
   {
    "duration": 6,
    "start_time": "2024-12-03T13:16:14.098Z"
   },
   {
    "duration": 41,
    "start_time": "2024-12-03T13:16:14.105Z"
   },
   {
    "duration": 1362,
    "start_time": "2024-12-03T14:03:23.892Z"
   },
   {
    "duration": 248,
    "start_time": "2024-12-03T14:03:25.256Z"
   },
   {
    "duration": 20,
    "start_time": "2024-12-03T14:03:25.506Z"
   },
   {
    "duration": 16,
    "start_time": "2024-12-03T14:03:25.528Z"
   },
   {
    "duration": 3,
    "start_time": "2024-12-03T14:03:25.546Z"
   },
   {
    "duration": 20,
    "start_time": "2024-12-03T14:03:25.551Z"
   },
   {
    "duration": 7,
    "start_time": "2024-12-03T14:03:25.573Z"
   },
   {
    "duration": 38,
    "start_time": "2024-12-03T14:03:25.582Z"
   },
   {
    "duration": 5,
    "start_time": "2024-12-03T14:03:25.621Z"
   },
   {
    "duration": 6,
    "start_time": "2024-12-03T14:03:25.628Z"
   },
   {
    "duration": 8,
    "start_time": "2024-12-03T14:03:25.635Z"
   },
   {
    "duration": 14,
    "start_time": "2024-12-03T14:03:25.645Z"
   },
   {
    "duration": 14,
    "start_time": "2024-12-03T14:03:25.660Z"
   },
   {
    "duration": 11,
    "start_time": "2024-12-03T14:03:25.676Z"
   },
   {
    "duration": 6,
    "start_time": "2024-12-03T14:03:25.689Z"
   },
   {
    "duration": 37,
    "start_time": "2024-12-03T14:03:25.696Z"
   },
   {
    "duration": 8,
    "start_time": "2024-12-03T14:03:25.734Z"
   },
   {
    "duration": 5,
    "start_time": "2024-12-03T14:03:25.743Z"
   },
   {
    "duration": 4,
    "start_time": "2024-12-03T14:03:25.750Z"
   },
   {
    "duration": 5,
    "start_time": "2024-12-03T14:03:25.762Z"
   },
   {
    "duration": 8,
    "start_time": "2024-12-03T14:03:25.769Z"
   },
   {
    "duration": 28,
    "start_time": "2024-12-03T14:03:25.778Z"
   },
   {
    "duration": 37,
    "start_time": "2024-12-03T14:03:25.808Z"
   },
   {
    "duration": 18,
    "start_time": "2024-12-03T14:03:25.847Z"
   },
   {
    "duration": 9,
    "start_time": "2024-12-03T14:03:25.867Z"
   },
   {
    "duration": 254,
    "start_time": "2024-12-03T14:03:25.878Z"
   },
   {
    "duration": 15,
    "start_time": "2024-12-03T14:03:26.133Z"
   },
   {
    "duration": 16,
    "start_time": "2024-12-03T14:03:26.152Z"
   },
   {
    "duration": 17,
    "start_time": "2024-12-03T14:03:26.169Z"
   },
   {
    "duration": 350,
    "start_time": "2024-12-03T14:03:26.188Z"
   },
   {
    "duration": 11,
    "start_time": "2024-12-03T14:03:26.539Z"
   },
   {
    "duration": 302,
    "start_time": "2024-12-03T14:03:26.562Z"
   },
   {
    "duration": 211,
    "start_time": "2024-12-03T14:03:26.866Z"
   },
   {
    "duration": 222,
    "start_time": "2024-12-03T14:03:27.078Z"
   },
   {
    "duration": 213,
    "start_time": "2024-12-03T14:03:27.301Z"
   },
   {
    "duration": 4,
    "start_time": "2024-12-03T14:03:27.516Z"
   },
   {
    "duration": 14,
    "start_time": "2024-12-03T14:03:27.522Z"
   },
   {
    "duration": 19,
    "start_time": "2024-12-03T14:03:27.538Z"
   },
   {
    "duration": 13,
    "start_time": "2024-12-03T14:03:27.559Z"
   },
   {
    "duration": 224,
    "start_time": "2024-12-03T14:03:27.573Z"
   },
   {
    "duration": 271,
    "start_time": "2024-12-03T14:03:27.798Z"
   },
   {
    "duration": 159,
    "start_time": "2024-12-03T14:03:28.071Z"
   },
   {
    "duration": 7,
    "start_time": "2024-12-03T14:03:28.232Z"
   },
   {
    "duration": 164,
    "start_time": "2024-12-03T14:03:28.241Z"
   },
   {
    "duration": 5,
    "start_time": "2024-12-03T14:03:28.407Z"
   },
   {
    "duration": 1018,
    "start_time": "2024-12-03T14:03:28.413Z"
   },
   {
    "duration": 50,
    "start_time": "2024-12-03T14:03:29.433Z"
   },
   {
    "duration": 1085,
    "start_time": "2024-12-03T14:03:29.485Z"
   },
   {
    "duration": 40,
    "start_time": "2024-12-03T14:03:30.573Z"
   },
   {
    "duration": 12,
    "start_time": "2024-12-03T14:03:30.615Z"
   },
   {
    "duration": 34,
    "start_time": "2024-12-03T14:03:30.629Z"
   },
   {
    "duration": 283,
    "start_time": "2024-12-03T14:03:30.665Z"
   },
   {
    "duration": 17,
    "start_time": "2024-12-03T14:03:30.950Z"
   },
   {
    "duration": 58,
    "start_time": "2024-12-03T14:03:30.969Z"
   },
   {
    "duration": 458,
    "start_time": "2024-12-03T14:03:31.028Z"
   },
   {
    "duration": 11,
    "start_time": "2024-12-03T14:03:31.488Z"
   },
   {
    "duration": 222,
    "start_time": "2024-12-03T14:03:31.500Z"
   },
   {
    "duration": 11,
    "start_time": "2024-12-03T14:03:31.724Z"
   },
   {
    "duration": 216,
    "start_time": "2024-12-03T14:03:31.737Z"
   },
   {
    "duration": 15,
    "start_time": "2024-12-03T14:03:31.955Z"
   },
   {
    "duration": 198,
    "start_time": "2024-12-03T14:03:31.972Z"
   },
   {
    "duration": 11,
    "start_time": "2024-12-03T14:03:32.172Z"
   },
   {
    "duration": 256,
    "start_time": "2024-12-03T14:03:32.185Z"
   },
   {
    "duration": 19,
    "start_time": "2024-12-03T14:03:32.443Z"
   },
   {
    "duration": 155,
    "start_time": "2024-12-03T14:03:32.464Z"
   },
   {
    "duration": 10,
    "start_time": "2024-12-03T14:03:32.621Z"
   },
   {
    "duration": 172,
    "start_time": "2024-12-03T14:03:32.633Z"
   },
   {
    "duration": 11,
    "start_time": "2024-12-03T14:03:32.807Z"
   },
   {
    "duration": 214,
    "start_time": "2024-12-03T14:03:32.820Z"
   },
   {
    "duration": 11,
    "start_time": "2024-12-03T14:03:33.035Z"
   },
   {
    "duration": 182,
    "start_time": "2024-12-03T14:03:33.048Z"
   },
   {
    "duration": 12,
    "start_time": "2024-12-03T14:03:33.231Z"
   },
   {
    "duration": 153,
    "start_time": "2024-12-03T14:03:33.245Z"
   },
   {
    "duration": 9,
    "start_time": "2024-12-03T14:03:33.400Z"
   },
   {
    "duration": 46,
    "start_time": "2024-12-03T14:03:33.411Z"
   },
   {
    "duration": 1169,
    "start_time": "2024-12-03T14:17:15.573Z"
   },
   {
    "duration": 65,
    "start_time": "2024-12-03T14:17:16.746Z"
   },
   {
    "duration": 19,
    "start_time": "2024-12-03T14:17:16.812Z"
   },
   {
    "duration": 15,
    "start_time": "2024-12-03T14:17:16.833Z"
   },
   {
    "duration": 4,
    "start_time": "2024-12-03T14:17:16.850Z"
   },
   {
    "duration": 30,
    "start_time": "2024-12-03T14:17:16.862Z"
   },
   {
    "duration": 12,
    "start_time": "2024-12-03T14:17:16.894Z"
   },
   {
    "duration": 17,
    "start_time": "2024-12-03T14:17:16.907Z"
   },
   {
    "duration": 7,
    "start_time": "2024-12-03T14:17:16.926Z"
   },
   {
    "duration": 6,
    "start_time": "2024-12-03T14:17:16.935Z"
   },
   {
    "duration": 24,
    "start_time": "2024-12-03T14:17:16.942Z"
   },
   {
    "duration": 20,
    "start_time": "2024-12-03T14:17:16.967Z"
   },
   {
    "duration": 19,
    "start_time": "2024-12-03T14:17:16.991Z"
   },
   {
    "duration": 18,
    "start_time": "2024-12-03T14:17:17.012Z"
   },
   {
    "duration": 6,
    "start_time": "2024-12-03T14:17:17.031Z"
   },
   {
    "duration": 22,
    "start_time": "2024-12-03T14:17:17.039Z"
   },
   {
    "duration": 20,
    "start_time": "2024-12-03T14:17:17.063Z"
   },
   {
    "duration": 5,
    "start_time": "2024-12-03T14:17:17.084Z"
   },
   {
    "duration": 4,
    "start_time": "2024-12-03T14:17:17.091Z"
   },
   {
    "duration": 6,
    "start_time": "2024-12-03T14:17:17.097Z"
   },
   {
    "duration": 7,
    "start_time": "2024-12-03T14:17:17.105Z"
   },
   {
    "duration": 8,
    "start_time": "2024-12-03T14:17:17.113Z"
   },
   {
    "duration": 36,
    "start_time": "2024-12-03T14:17:17.123Z"
   },
   {
    "duration": 16,
    "start_time": "2024-12-03T14:17:17.160Z"
   },
   {
    "duration": 12,
    "start_time": "2024-12-03T14:17:17.177Z"
   },
   {
    "duration": 251,
    "start_time": "2024-12-03T14:17:17.190Z"
   },
   {
    "duration": 14,
    "start_time": "2024-12-03T14:17:17.443Z"
   },
   {
    "duration": 15,
    "start_time": "2024-12-03T14:17:17.462Z"
   },
   {
    "duration": 19,
    "start_time": "2024-12-03T14:17:17.479Z"
   },
   {
    "duration": 346,
    "start_time": "2024-12-03T14:17:17.499Z"
   },
   {
    "duration": 15,
    "start_time": "2024-12-03T14:17:17.847Z"
   },
   {
    "duration": 307,
    "start_time": "2024-12-03T14:17:17.863Z"
   },
   {
    "duration": 211,
    "start_time": "2024-12-03T14:17:18.172Z"
   },
   {
    "duration": 212,
    "start_time": "2024-12-03T14:17:18.384Z"
   },
   {
    "duration": 210,
    "start_time": "2024-12-03T14:17:18.598Z"
   },
   {
    "duration": 8,
    "start_time": "2024-12-03T14:17:18.810Z"
   },
   {
    "duration": 7,
    "start_time": "2024-12-03T14:17:18.820Z"
   },
   {
    "duration": 9,
    "start_time": "2024-12-03T14:17:18.829Z"
   },
   {
    "duration": 37,
    "start_time": "2024-12-03T14:17:18.840Z"
   },
   {
    "duration": 238,
    "start_time": "2024-12-03T14:17:18.883Z"
   },
   {
    "duration": 198,
    "start_time": "2024-12-03T14:17:19.122Z"
   },
   {
    "duration": 236,
    "start_time": "2024-12-03T14:17:19.321Z"
   },
   {
    "duration": 8,
    "start_time": "2024-12-03T14:17:19.562Z"
   },
   {
    "duration": 169,
    "start_time": "2024-12-03T14:17:19.572Z"
   },
   {
    "duration": 5,
    "start_time": "2024-12-03T14:17:19.742Z"
   },
   {
    "duration": 1008,
    "start_time": "2024-12-03T14:17:19.749Z"
   },
   {
    "duration": 41,
    "start_time": "2024-12-03T14:17:20.762Z"
   },
   {
    "duration": 1075,
    "start_time": "2024-12-03T14:17:20.804Z"
   },
   {
    "duration": 37,
    "start_time": "2024-12-03T14:17:21.880Z"
   },
   {
    "duration": 9,
    "start_time": "2024-12-03T14:17:21.919Z"
   },
   {
    "duration": 33,
    "start_time": "2024-12-03T14:17:21.930Z"
   },
   {
    "duration": 208,
    "start_time": "2024-12-03T14:17:21.965Z"
   },
   {
    "duration": 13,
    "start_time": "2024-12-03T14:17:22.175Z"
   },
   {
    "duration": 15,
    "start_time": "2024-12-03T14:17:22.189Z"
   },
   {
    "duration": 432,
    "start_time": "2024-12-03T14:17:22.206Z"
   },
   {
    "duration": 10,
    "start_time": "2024-12-03T14:17:22.639Z"
   },
   {
    "duration": 213,
    "start_time": "2024-12-03T14:17:22.661Z"
   },
   {
    "duration": 10,
    "start_time": "2024-12-03T14:17:22.876Z"
   },
   {
    "duration": 208,
    "start_time": "2024-12-03T14:17:22.887Z"
   },
   {
    "duration": 13,
    "start_time": "2024-12-03T14:17:23.097Z"
   },
   {
    "duration": 202,
    "start_time": "2024-12-03T14:17:23.112Z"
   },
   {
    "duration": 11,
    "start_time": "2024-12-03T14:17:23.316Z"
   },
   {
    "duration": 174,
    "start_time": "2024-12-03T14:17:23.329Z"
   },
   {
    "duration": 11,
    "start_time": "2024-12-03T14:17:23.504Z"
   },
   {
    "duration": 163,
    "start_time": "2024-12-03T14:17:23.516Z"
   },
   {
    "duration": 10,
    "start_time": "2024-12-03T14:17:23.681Z"
   },
   {
    "duration": 157,
    "start_time": "2024-12-03T14:17:23.692Z"
   },
   {
    "duration": 18,
    "start_time": "2024-12-03T14:17:23.851Z"
   },
   {
    "duration": 249,
    "start_time": "2024-12-03T14:17:23.871Z"
   },
   {
    "duration": 11,
    "start_time": "2024-12-03T14:17:24.121Z"
   },
   {
    "duration": 163,
    "start_time": "2024-12-03T14:17:24.134Z"
   },
   {
    "duration": 11,
    "start_time": "2024-12-03T14:17:24.299Z"
   },
   {
    "duration": 156,
    "start_time": "2024-12-03T14:17:24.312Z"
   },
   {
    "duration": 10,
    "start_time": "2024-12-03T14:17:24.469Z"
   },
   {
    "duration": 15,
    "start_time": "2024-12-03T14:17:24.481Z"
   },
   {
    "duration": 67,
    "start_time": "2024-12-04T09:46:06.791Z"
   },
   {
    "duration": 1451,
    "start_time": "2024-12-04T09:46:25.397Z"
   },
   {
    "duration": 192,
    "start_time": "2024-12-04T09:46:26.852Z"
   },
   {
    "duration": 27,
    "start_time": "2024-12-04T09:46:27.046Z"
   },
   {
    "duration": 28,
    "start_time": "2024-12-04T09:46:27.075Z"
   },
   {
    "duration": 18,
    "start_time": "2024-12-04T09:46:27.106Z"
   },
   {
    "duration": 7,
    "start_time": "2024-12-04T09:46:27.126Z"
   },
   {
    "duration": 35,
    "start_time": "2024-12-04T09:46:27.135Z"
   },
   {
    "duration": 7,
    "start_time": "2024-12-04T09:46:27.173Z"
   },
   {
    "duration": 16,
    "start_time": "2024-12-04T09:46:27.182Z"
   },
   {
    "duration": 6,
    "start_time": "2024-12-04T09:46:27.200Z"
   },
   {
    "duration": 8,
    "start_time": "2024-12-04T09:46:27.209Z"
   },
   {
    "duration": 39,
    "start_time": "2024-12-04T09:46:27.219Z"
   },
   {
    "duration": 20,
    "start_time": "2024-12-04T09:46:27.261Z"
   },
   {
    "duration": 21,
    "start_time": "2024-12-04T09:46:27.285Z"
   },
   {
    "duration": 13,
    "start_time": "2024-12-04T09:46:27.307Z"
   },
   {
    "duration": 35,
    "start_time": "2024-12-04T09:46:27.322Z"
   },
   {
    "duration": 10,
    "start_time": "2024-12-04T09:46:27.360Z"
   },
   {
    "duration": 6,
    "start_time": "2024-12-04T09:46:27.373Z"
   },
   {
    "duration": 5,
    "start_time": "2024-12-04T09:46:27.381Z"
   },
   {
    "duration": 20,
    "start_time": "2024-12-04T09:46:27.388Z"
   },
   {
    "duration": 13,
    "start_time": "2024-12-04T09:46:27.410Z"
   },
   {
    "duration": 29,
    "start_time": "2024-12-04T09:46:27.427Z"
   },
   {
    "duration": 9,
    "start_time": "2024-12-04T09:46:27.458Z"
   },
   {
    "duration": 17,
    "start_time": "2024-12-04T09:46:27.468Z"
   },
   {
    "duration": 7,
    "start_time": "2024-12-04T09:46:27.487Z"
   },
   {
    "duration": 21,
    "start_time": "2024-12-04T09:46:27.496Z"
   },
   {
    "duration": 276,
    "start_time": "2024-12-04T09:46:27.519Z"
   },
   {
    "duration": 16,
    "start_time": "2024-12-04T09:46:27.797Z"
   },
   {
    "duration": 17,
    "start_time": "2024-12-04T09:46:27.815Z"
   },
   {
    "duration": 22,
    "start_time": "2024-12-04T09:46:27.835Z"
   },
   {
    "duration": 366,
    "start_time": "2024-12-04T09:46:27.858Z"
   },
   {
    "duration": 11,
    "start_time": "2024-12-04T09:46:28.226Z"
   },
   {
    "duration": 309,
    "start_time": "2024-12-04T09:46:28.238Z"
   },
   {
    "duration": 215,
    "start_time": "2024-12-04T09:46:28.551Z"
   },
   {
    "duration": 256,
    "start_time": "2024-12-04T09:46:28.768Z"
   },
   {
    "duration": 211,
    "start_time": "2024-12-04T09:46:29.025Z"
   },
   {
    "duration": 5,
    "start_time": "2024-12-04T09:46:29.238Z"
   },
   {
    "duration": 7,
    "start_time": "2024-12-04T09:46:29.253Z"
   },
   {
    "duration": 6,
    "start_time": "2024-12-04T09:46:29.262Z"
   },
   {
    "duration": 14,
    "start_time": "2024-12-04T09:46:29.270Z"
   },
   {
    "duration": 252,
    "start_time": "2024-12-04T09:46:29.290Z"
   },
   {
    "duration": 202,
    "start_time": "2024-12-04T09:46:29.552Z"
   },
   {
    "duration": 273,
    "start_time": "2024-12-04T09:46:29.756Z"
   },
   {
    "duration": 21,
    "start_time": "2024-12-04T09:46:30.031Z"
   },
   {
    "duration": 189,
    "start_time": "2024-12-04T09:46:30.054Z"
   },
   {
    "duration": 11,
    "start_time": "2024-12-04T09:46:30.244Z"
   },
   {
    "duration": 1035,
    "start_time": "2024-12-04T09:46:30.256Z"
   },
   {
    "duration": 40,
    "start_time": "2024-12-04T09:46:31.293Z"
   },
   {
    "duration": 1157,
    "start_time": "2024-12-04T09:46:31.335Z"
   },
   {
    "duration": 67,
    "start_time": "2024-12-04T09:46:32.494Z"
   },
   {
    "duration": 12,
    "start_time": "2024-12-04T09:46:32.563Z"
   },
   {
    "duration": 23,
    "start_time": "2024-12-04T09:46:32.576Z"
   },
   {
    "duration": 241,
    "start_time": "2024-12-04T09:46:32.601Z"
   },
   {
    "duration": 13,
    "start_time": "2024-12-04T09:46:32.852Z"
   },
   {
    "duration": 25,
    "start_time": "2024-12-04T09:46:32.867Z"
   },
   {
    "duration": 486,
    "start_time": "2024-12-04T09:46:32.893Z"
   },
   {
    "duration": 12,
    "start_time": "2024-12-04T09:46:33.381Z"
   },
   {
    "duration": 223,
    "start_time": "2024-12-04T09:46:33.394Z"
   },
   {
    "duration": 12,
    "start_time": "2024-12-04T09:46:33.619Z"
   },
   {
    "duration": 219,
    "start_time": "2024-12-04T09:46:33.633Z"
   },
   {
    "duration": 12,
    "start_time": "2024-12-04T09:46:33.854Z"
   },
   {
    "duration": 261,
    "start_time": "2024-12-04T09:46:33.869Z"
   },
   {
    "duration": 23,
    "start_time": "2024-12-04T09:46:34.132Z"
   },
   {
    "duration": 199,
    "start_time": "2024-12-04T09:46:34.156Z"
   },
   {
    "duration": 11,
    "start_time": "2024-12-04T09:46:34.357Z"
   },
   {
    "duration": 236,
    "start_time": "2024-12-04T09:46:34.370Z"
   },
   {
    "duration": 11,
    "start_time": "2024-12-04T09:46:34.608Z"
   },
   {
    "duration": 172,
    "start_time": "2024-12-04T09:46:34.621Z"
   },
   {
    "duration": 13,
    "start_time": "2024-12-04T09:46:34.794Z"
   },
   {
    "duration": 304,
    "start_time": "2024-12-04T09:46:34.809Z"
   },
   {
    "duration": 13,
    "start_time": "2024-12-04T09:46:35.115Z"
   },
   {
    "duration": 169,
    "start_time": "2024-12-04T09:46:35.130Z"
   },
   {
    "duration": 12,
    "start_time": "2024-12-04T09:46:35.301Z"
   },
   {
    "duration": 164,
    "start_time": "2024-12-04T09:46:35.315Z"
   },
   {
    "duration": 11,
    "start_time": "2024-12-04T09:46:35.481Z"
   },
   {
    "duration": 36,
    "start_time": "2024-12-04T09:46:35.495Z"
   },
   {
    "duration": 5,
    "start_time": "2024-12-04T10:06:59.565Z"
   },
   {
    "duration": 6,
    "start_time": "2024-12-04T10:07:05.424Z"
   },
   {
    "duration": 4,
    "start_time": "2024-12-04T10:07:59.591Z"
   },
   {
    "duration": 6,
    "start_time": "2024-12-04T10:08:43.709Z"
   },
   {
    "duration": 15,
    "start_time": "2024-12-04T10:08:52.643Z"
   },
   {
    "duration": 9,
    "start_time": "2024-12-04T10:09:02.761Z"
   },
   {
    "duration": 4,
    "start_time": "2024-12-04T10:09:54.401Z"
   },
   {
    "duration": 10,
    "start_time": "2024-12-04T10:09:58.636Z"
   },
   {
    "duration": 9,
    "start_time": "2024-12-04T10:10:42.361Z"
   },
   {
    "duration": 5,
    "start_time": "2024-12-04T10:13:27.429Z"
   },
   {
    "duration": 14,
    "start_time": "2024-12-04T10:22:47.429Z"
   },
   {
    "duration": 20,
    "start_time": "2024-12-04T10:28:00.704Z"
   },
   {
    "duration": 21,
    "start_time": "2024-12-04T10:29:47.850Z"
   },
   {
    "duration": 17,
    "start_time": "2024-12-04T10:30:29.078Z"
   },
   {
    "duration": 7,
    "start_time": "2024-12-04T10:31:02.546Z"
   },
   {
    "duration": 27,
    "start_time": "2024-12-04T10:35:32.608Z"
   },
   {
    "duration": 18,
    "start_time": "2024-12-04T10:36:01.538Z"
   },
   {
    "duration": 9,
    "start_time": "2024-12-04T10:36:15.860Z"
   },
   {
    "duration": 14,
    "start_time": "2024-12-04T10:36:17.830Z"
   },
   {
    "duration": 13,
    "start_time": "2024-12-04T10:36:53.329Z"
   },
   {
    "duration": 331,
    "start_time": "2024-12-04T10:41:10.209Z"
   },
   {
    "duration": 378,
    "start_time": "2024-12-04T10:41:53.631Z"
   },
   {
    "duration": 340,
    "start_time": "2024-12-04T10:42:13.977Z"
   },
   {
    "duration": 5,
    "start_time": "2024-12-04T10:45:07.471Z"
   },
   {
    "duration": 3,
    "start_time": "2024-12-04T10:48:35.863Z"
   },
   {
    "duration": 2,
    "start_time": "2024-12-04T10:48:36.670Z"
   },
   {
    "duration": 16,
    "start_time": "2024-12-04T10:48:38.870Z"
   },
   {
    "duration": 269,
    "start_time": "2024-12-04T10:48:43.600Z"
   },
   {
    "duration": 285,
    "start_time": "2024-12-04T10:49:17.673Z"
   },
   {
    "duration": 1165,
    "start_time": "2024-12-04T10:49:53.773Z"
   },
   {
    "duration": 62,
    "start_time": "2024-12-04T10:49:54.940Z"
   },
   {
    "duration": 19,
    "start_time": "2024-12-04T10:49:55.003Z"
   },
   {
    "duration": 16,
    "start_time": "2024-12-04T10:49:55.025Z"
   },
   {
    "duration": 39,
    "start_time": "2024-12-04T10:49:55.043Z"
   },
   {
    "duration": 69,
    "start_time": "2024-12-04T10:49:55.084Z"
   },
   {
    "duration": 35,
    "start_time": "2024-12-04T10:49:55.155Z"
   },
   {
    "duration": 5,
    "start_time": "2024-12-04T10:49:55.192Z"
   },
   {
    "duration": 57,
    "start_time": "2024-12-04T10:49:55.200Z"
   },
   {
    "duration": 29,
    "start_time": "2024-12-04T10:49:55.260Z"
   },
   {
    "duration": 13,
    "start_time": "2024-12-04T10:49:55.291Z"
   },
   {
    "duration": 24,
    "start_time": "2024-12-04T10:49:55.305Z"
   },
   {
    "duration": 65,
    "start_time": "2024-12-04T10:49:55.331Z"
   },
   {
    "duration": 54,
    "start_time": "2024-12-04T10:49:55.397Z"
   },
   {
    "duration": 18,
    "start_time": "2024-12-04T10:49:55.453Z"
   },
   {
    "duration": 32,
    "start_time": "2024-12-04T10:49:55.473Z"
   },
   {
    "duration": 28,
    "start_time": "2024-12-04T10:49:55.507Z"
   },
   {
    "duration": 22,
    "start_time": "2024-12-04T10:49:55.537Z"
   },
   {
    "duration": 20,
    "start_time": "2024-12-04T10:49:55.561Z"
   },
   {
    "duration": 12,
    "start_time": "2024-12-04T10:49:55.583Z"
   },
   {
    "duration": 23,
    "start_time": "2024-12-04T10:49:55.597Z"
   },
   {
    "duration": 49,
    "start_time": "2024-12-04T10:49:55.622Z"
   },
   {
    "duration": 13,
    "start_time": "2024-12-04T10:49:55.673Z"
   },
   {
    "duration": 11,
    "start_time": "2024-12-04T10:49:55.688Z"
   },
   {
    "duration": 15,
    "start_time": "2024-12-04T10:49:55.701Z"
   },
   {
    "duration": 50,
    "start_time": "2024-12-04T10:49:55.718Z"
   },
   {
    "duration": 10,
    "start_time": "2024-12-04T10:49:55.770Z"
   },
   {
    "duration": 29,
    "start_time": "2024-12-04T10:49:55.785Z"
   },
   {
    "duration": 40,
    "start_time": "2024-12-04T10:49:55.816Z"
   },
   {
    "duration": 36,
    "start_time": "2024-12-04T10:49:55.858Z"
   },
   {
    "duration": 26,
    "start_time": "2024-12-04T10:49:55.895Z"
   },
   {
    "duration": 57,
    "start_time": "2024-12-04T10:49:55.922Z"
   },
   {
    "duration": 24,
    "start_time": "2024-12-04T10:49:55.981Z"
   },
   {
    "duration": 15,
    "start_time": "2024-12-04T10:49:56.007Z"
   },
   {
    "duration": 27,
    "start_time": "2024-12-04T10:49:56.024Z"
   },
   {
    "duration": 358,
    "start_time": "2024-12-04T10:49:56.052Z"
   },
   {
    "duration": 11,
    "start_time": "2024-12-04T10:49:56.412Z"
   },
   {
    "duration": 305,
    "start_time": "2024-12-04T10:49:56.424Z"
   },
   {
    "duration": 214,
    "start_time": "2024-12-04T10:49:56.731Z"
   },
   {
    "duration": 217,
    "start_time": "2024-12-04T10:49:56.946Z"
   },
   {
    "duration": 212,
    "start_time": "2024-12-04T10:49:57.165Z"
   },
   {
    "duration": 3,
    "start_time": "2024-12-04T10:49:57.379Z"
   },
   {
    "duration": 46,
    "start_time": "2024-12-04T10:49:57.384Z"
   },
   {
    "duration": 17,
    "start_time": "2024-12-04T10:49:57.432Z"
   },
   {
    "duration": 22,
    "start_time": "2024-12-04T10:49:57.450Z"
   },
   {
    "duration": 23,
    "start_time": "2024-12-04T10:49:57.474Z"
   },
   {
    "duration": 308,
    "start_time": "2024-12-04T10:49:57.498Z"
   },
   {
    "duration": 113,
    "start_time": "2024-12-04T10:49:57.808Z"
   },
   {
    "duration": 0,
    "start_time": "2024-12-04T10:49:57.922Z"
   },
   {
    "duration": 0,
    "start_time": "2024-12-04T10:49:57.923Z"
   },
   {
    "duration": 0,
    "start_time": "2024-12-04T10:49:57.924Z"
   },
   {
    "duration": 0,
    "start_time": "2024-12-04T10:49:57.925Z"
   },
   {
    "duration": 0,
    "start_time": "2024-12-04T10:49:57.927Z"
   },
   {
    "duration": 0,
    "start_time": "2024-12-04T10:49:57.928Z"
   },
   {
    "duration": 0,
    "start_time": "2024-12-04T10:49:57.929Z"
   },
   {
    "duration": 0,
    "start_time": "2024-12-04T10:49:57.930Z"
   },
   {
    "duration": 0,
    "start_time": "2024-12-04T10:49:57.931Z"
   },
   {
    "duration": 0,
    "start_time": "2024-12-04T10:49:57.932Z"
   },
   {
    "duration": 0,
    "start_time": "2024-12-04T10:49:57.933Z"
   },
   {
    "duration": 0,
    "start_time": "2024-12-04T10:49:57.952Z"
   },
   {
    "duration": 0,
    "start_time": "2024-12-04T10:49:57.953Z"
   },
   {
    "duration": 0,
    "start_time": "2024-12-04T10:49:57.954Z"
   },
   {
    "duration": 0,
    "start_time": "2024-12-04T10:49:57.955Z"
   },
   {
    "duration": 0,
    "start_time": "2024-12-04T10:49:57.956Z"
   },
   {
    "duration": 0,
    "start_time": "2024-12-04T10:49:57.957Z"
   },
   {
    "duration": 0,
    "start_time": "2024-12-04T10:49:57.958Z"
   },
   {
    "duration": 0,
    "start_time": "2024-12-04T10:49:57.959Z"
   },
   {
    "duration": 0,
    "start_time": "2024-12-04T10:49:57.959Z"
   },
   {
    "duration": 0,
    "start_time": "2024-12-04T10:49:57.960Z"
   },
   {
    "duration": 0,
    "start_time": "2024-12-04T10:49:57.962Z"
   },
   {
    "duration": 0,
    "start_time": "2024-12-04T10:49:58.081Z"
   },
   {
    "duration": 0,
    "start_time": "2024-12-04T10:49:58.082Z"
   },
   {
    "duration": 0,
    "start_time": "2024-12-04T10:49:58.083Z"
   },
   {
    "duration": 0,
    "start_time": "2024-12-04T10:49:58.084Z"
   },
   {
    "duration": 0,
    "start_time": "2024-12-04T10:49:58.085Z"
   },
   {
    "duration": 0,
    "start_time": "2024-12-04T10:49:58.086Z"
   },
   {
    "duration": 0,
    "start_time": "2024-12-04T10:49:58.087Z"
   },
   {
    "duration": 0,
    "start_time": "2024-12-04T10:49:58.088Z"
   },
   {
    "duration": 0,
    "start_time": "2024-12-04T10:49:58.088Z"
   },
   {
    "duration": 0,
    "start_time": "2024-12-04T10:49:58.090Z"
   },
   {
    "duration": 0,
    "start_time": "2024-12-04T10:49:58.091Z"
   },
   {
    "duration": 0,
    "start_time": "2024-12-04T10:49:58.092Z"
   },
   {
    "duration": 233,
    "start_time": "2024-12-04T10:52:34.053Z"
   },
   {
    "duration": 286,
    "start_time": "2024-12-04T10:52:43.816Z"
   },
   {
    "duration": 252,
    "start_time": "2024-12-04T10:52:49.244Z"
   },
   {
    "duration": 240,
    "start_time": "2024-12-04T10:52:55.212Z"
   },
   {
    "duration": 236,
    "start_time": "2024-12-04T10:53:07.113Z"
   },
   {
    "duration": 304,
    "start_time": "2024-12-04T10:53:14.111Z"
   },
   {
    "duration": 216,
    "start_time": "2024-12-04T10:53:24.039Z"
   },
   {
    "duration": 217,
    "start_time": "2024-12-04T10:53:30.757Z"
   },
   {
    "duration": 218,
    "start_time": "2024-12-04T10:54:14.408Z"
   },
   {
    "duration": 65,
    "start_time": "2024-12-04T10:54:50.691Z"
   },
   {
    "duration": 234,
    "start_time": "2024-12-04T10:54:58.097Z"
   },
   {
    "duration": 9,
    "start_time": "2024-12-04T10:58:51.852Z"
   },
   {
    "duration": 1176,
    "start_time": "2024-12-04T10:58:59.856Z"
   },
   {
    "duration": 56,
    "start_time": "2024-12-04T10:59:01.034Z"
   },
   {
    "duration": 19,
    "start_time": "2024-12-04T10:59:01.091Z"
   },
   {
    "duration": 20,
    "start_time": "2024-12-04T10:59:01.112Z"
   },
   {
    "duration": 26,
    "start_time": "2024-12-04T10:59:01.134Z"
   },
   {
    "duration": 12,
    "start_time": "2024-12-04T10:59:01.161Z"
   },
   {
    "duration": 21,
    "start_time": "2024-12-04T10:59:01.174Z"
   },
   {
    "duration": 22,
    "start_time": "2024-12-04T10:59:01.196Z"
   },
   {
    "duration": 30,
    "start_time": "2024-12-04T10:59:01.220Z"
   },
   {
    "duration": 23,
    "start_time": "2024-12-04T10:59:01.252Z"
   },
   {
    "duration": 9,
    "start_time": "2024-12-04T10:59:01.276Z"
   },
   {
    "duration": 45,
    "start_time": "2024-12-04T10:59:01.286Z"
   },
   {
    "duration": 80,
    "start_time": "2024-12-04T10:59:01.333Z"
   },
   {
    "duration": 44,
    "start_time": "2024-12-04T10:59:01.417Z"
   },
   {
    "duration": 12,
    "start_time": "2024-12-04T10:59:01.463Z"
   },
   {
    "duration": 11,
    "start_time": "2024-12-04T10:59:01.477Z"
   },
   {
    "duration": 31,
    "start_time": "2024-12-04T10:59:01.490Z"
   },
   {
    "duration": 21,
    "start_time": "2024-12-04T10:59:01.523Z"
   },
   {
    "duration": 31,
    "start_time": "2024-12-04T10:59:01.545Z"
   },
   {
    "duration": 4,
    "start_time": "2024-12-04T10:59:01.577Z"
   },
   {
    "duration": 7,
    "start_time": "2024-12-04T10:59:01.582Z"
   },
   {
    "duration": 34,
    "start_time": "2024-12-04T10:59:01.591Z"
   },
   {
    "duration": 35,
    "start_time": "2024-12-04T10:59:01.627Z"
   },
   {
    "duration": 21,
    "start_time": "2024-12-04T10:59:01.663Z"
   },
   {
    "duration": 31,
    "start_time": "2024-12-04T10:59:01.686Z"
   },
   {
    "duration": 7,
    "start_time": "2024-12-04T10:59:01.719Z"
   },
   {
    "duration": 17,
    "start_time": "2024-12-04T10:59:01.728Z"
   },
   {
    "duration": 40,
    "start_time": "2024-12-04T10:59:01.746Z"
   },
   {
    "duration": 34,
    "start_time": "2024-12-04T10:59:01.788Z"
   },
   {
    "duration": 60,
    "start_time": "2024-12-04T10:59:01.823Z"
   },
   {
    "duration": 18,
    "start_time": "2024-12-04T10:59:01.885Z"
   },
   {
    "duration": 68,
    "start_time": "2024-12-04T10:59:01.905Z"
   },
   {
    "duration": 54,
    "start_time": "2024-12-04T10:59:01.975Z"
   },
   {
    "duration": 28,
    "start_time": "2024-12-04T10:59:02.031Z"
   },
   {
    "duration": 7,
    "start_time": "2024-12-04T10:59:02.060Z"
   },
   {
    "duration": 359,
    "start_time": "2024-12-04T10:59:02.068Z"
   },
   {
    "duration": 10,
    "start_time": "2024-12-04T10:59:02.429Z"
   },
   {
    "duration": 315,
    "start_time": "2024-12-04T10:59:02.451Z"
   },
   {
    "duration": 201,
    "start_time": "2024-12-04T10:59:02.768Z"
   },
   {
    "duration": 207,
    "start_time": "2024-12-04T10:59:02.971Z"
   },
   {
    "duration": 201,
    "start_time": "2024-12-04T10:59:03.182Z"
   },
   {
    "duration": 2,
    "start_time": "2024-12-04T10:59:03.385Z"
   },
   {
    "duration": 86,
    "start_time": "2024-12-04T10:59:03.388Z"
   },
   {
    "duration": 37,
    "start_time": "2024-12-04T10:59:03.476Z"
   },
   {
    "duration": 32,
    "start_time": "2024-12-04T10:59:03.515Z"
   },
   {
    "duration": 44,
    "start_time": "2024-12-04T10:59:03.549Z"
   },
   {
    "duration": 364,
    "start_time": "2024-12-04T10:59:03.595Z"
   },
   {
    "duration": 326,
    "start_time": "2024-12-04T10:59:03.963Z"
   },
   {
    "duration": 162,
    "start_time": "2024-12-04T10:59:04.290Z"
   },
   {
    "duration": 8,
    "start_time": "2024-12-04T10:59:04.453Z"
   },
   {
    "duration": 161,
    "start_time": "2024-12-04T10:59:04.463Z"
   },
   {
    "duration": 5,
    "start_time": "2024-12-04T10:59:04.626Z"
   },
   {
    "duration": 121,
    "start_time": "2024-12-04T10:59:04.632Z"
   },
   {
    "duration": 0,
    "start_time": "2024-12-04T10:59:04.754Z"
   },
   {
    "duration": 0,
    "start_time": "2024-12-04T10:59:04.755Z"
   },
   {
    "duration": 0,
    "start_time": "2024-12-04T10:59:04.757Z"
   },
   {
    "duration": 0,
    "start_time": "2024-12-04T10:59:04.758Z"
   },
   {
    "duration": 0,
    "start_time": "2024-12-04T10:59:04.759Z"
   },
   {
    "duration": 0,
    "start_time": "2024-12-04T10:59:04.760Z"
   },
   {
    "duration": 0,
    "start_time": "2024-12-04T10:59:04.762Z"
   },
   {
    "duration": 0,
    "start_time": "2024-12-04T10:59:04.763Z"
   },
   {
    "duration": 0,
    "start_time": "2024-12-04T10:59:04.764Z"
   },
   {
    "duration": 0,
    "start_time": "2024-12-04T10:59:04.765Z"
   },
   {
    "duration": 0,
    "start_time": "2024-12-04T10:59:04.766Z"
   },
   {
    "duration": 0,
    "start_time": "2024-12-04T10:59:04.767Z"
   },
   {
    "duration": 0,
    "start_time": "2024-12-04T10:59:04.768Z"
   },
   {
    "duration": 1,
    "start_time": "2024-12-04T10:59:04.769Z"
   },
   {
    "duration": 0,
    "start_time": "2024-12-04T10:59:04.771Z"
   },
   {
    "duration": 0,
    "start_time": "2024-12-04T10:59:04.772Z"
   },
   {
    "duration": 0,
    "start_time": "2024-12-04T10:59:04.773Z"
   },
   {
    "duration": 0,
    "start_time": "2024-12-04T10:59:04.774Z"
   },
   {
    "duration": 0,
    "start_time": "2024-12-04T10:59:04.775Z"
   },
   {
    "duration": 0,
    "start_time": "2024-12-04T10:59:04.776Z"
   },
   {
    "duration": 0,
    "start_time": "2024-12-04T10:59:04.777Z"
   },
   {
    "duration": 0,
    "start_time": "2024-12-04T10:59:04.778Z"
   },
   {
    "duration": 0,
    "start_time": "2024-12-04T10:59:04.779Z"
   },
   {
    "duration": 0,
    "start_time": "2024-12-04T10:59:04.780Z"
   },
   {
    "duration": 0,
    "start_time": "2024-12-04T10:59:04.781Z"
   },
   {
    "duration": 0,
    "start_time": "2024-12-04T10:59:04.782Z"
   },
   {
    "duration": 0,
    "start_time": "2024-12-04T10:59:04.783Z"
   },
   {
    "duration": 0,
    "start_time": "2024-12-04T10:59:04.783Z"
   },
   {
    "duration": 0,
    "start_time": "2024-12-04T10:59:04.784Z"
   },
   {
    "duration": 154,
    "start_time": "2024-12-04T11:11:52.740Z"
   },
   {
    "duration": 6,
    "start_time": "2024-12-04T11:12:17.920Z"
   },
   {
    "duration": 151,
    "start_time": "2024-12-04T11:12:42.337Z"
   },
   {
    "duration": 5,
    "start_time": "2024-12-04T11:12:51.716Z"
   },
   {
    "duration": 18,
    "start_time": "2024-12-04T11:23:59.408Z"
   },
   {
    "duration": 13,
    "start_time": "2024-12-04T11:24:18.527Z"
   },
   {
    "duration": 3,
    "start_time": "2024-12-04T11:25:04.288Z"
   },
   {
    "duration": 12,
    "start_time": "2024-12-04T11:25:08.075Z"
   },
   {
    "duration": 3,
    "start_time": "2024-12-04T11:26:52.285Z"
   },
   {
    "duration": 3,
    "start_time": "2024-12-04T11:27:11.026Z"
   },
   {
    "duration": 154,
    "start_time": "2024-12-04T11:27:26.408Z"
   },
   {
    "duration": 3,
    "start_time": "2024-12-04T11:27:30.337Z"
   },
   {
    "duration": 12,
    "start_time": "2024-12-04T11:27:33.511Z"
   },
   {
    "duration": 291,
    "start_time": "2024-12-04T11:28:19.287Z"
   },
   {
    "duration": 4,
    "start_time": "2024-12-04T11:28:58.086Z"
   },
   {
    "duration": 3,
    "start_time": "2024-12-04T11:29:15.018Z"
   },
   {
    "duration": 5,
    "start_time": "2024-12-04T11:29:22.083Z"
   },
   {
    "duration": 16,
    "start_time": "2024-12-04T11:30:33.302Z"
   },
   {
    "duration": 12,
    "start_time": "2024-12-04T11:30:41.841Z"
   },
   {
    "duration": 22,
    "start_time": "2024-12-04T11:30:59.052Z"
   },
   {
    "duration": 4,
    "start_time": "2024-12-04T11:31:56.971Z"
   },
   {
    "duration": 14,
    "start_time": "2024-12-04T11:32:06.043Z"
   },
   {
    "duration": 10,
    "start_time": "2024-12-04T11:32:48.163Z"
   },
   {
    "duration": 4,
    "start_time": "2024-12-04T11:32:52.001Z"
   },
   {
    "duration": 4,
    "start_time": "2024-12-04T11:32:56.593Z"
   },
   {
    "duration": 22,
    "start_time": "2024-12-04T11:32:58.503Z"
   },
   {
    "duration": 4,
    "start_time": "2024-12-04T11:32:59.803Z"
   },
   {
    "duration": 10,
    "start_time": "2024-12-04T11:33:04.025Z"
   },
   {
    "duration": 1537,
    "start_time": "2024-12-04T11:43:07.653Z"
   },
   {
    "duration": 5,
    "start_time": "2024-12-04T11:44:48.966Z"
   },
   {
    "duration": 11,
    "start_time": "2024-12-04T11:45:24.138Z"
   },
   {
    "duration": 22,
    "start_time": "2024-12-04T11:45:52.190Z"
   },
   {
    "duration": 165,
    "start_time": "2024-12-04T12:12:56.662Z"
   },
   {
    "duration": 5,
    "start_time": "2024-12-04T12:14:18.054Z"
   },
   {
    "duration": 164,
    "start_time": "2024-12-04T12:14:32.325Z"
   },
   {
    "duration": 25,
    "start_time": "2024-12-04T12:14:55.708Z"
   },
   {
    "duration": 154,
    "start_time": "2024-12-04T12:17:30.368Z"
   },
   {
    "duration": 6,
    "start_time": "2024-12-04T12:17:49.747Z"
   },
   {
    "duration": 1207,
    "start_time": "2024-12-04T13:38:16.222Z"
   },
   {
    "duration": 59,
    "start_time": "2024-12-04T13:38:17.431Z"
   },
   {
    "duration": 26,
    "start_time": "2024-12-04T13:38:17.492Z"
   },
   {
    "duration": 33,
    "start_time": "2024-12-04T13:38:17.521Z"
   },
   {
    "duration": 11,
    "start_time": "2024-12-04T13:38:17.556Z"
   },
   {
    "duration": 6,
    "start_time": "2024-12-04T13:38:17.569Z"
   },
   {
    "duration": 18,
    "start_time": "2024-12-04T13:38:17.577Z"
   },
   {
    "duration": 6,
    "start_time": "2024-12-04T13:38:17.597Z"
   },
   {
    "duration": 15,
    "start_time": "2024-12-04T13:38:17.604Z"
   },
   {
    "duration": 4,
    "start_time": "2024-12-04T13:38:17.622Z"
   },
   {
    "duration": 27,
    "start_time": "2024-12-04T13:38:17.628Z"
   },
   {
    "duration": 18,
    "start_time": "2024-12-04T13:38:17.657Z"
   },
   {
    "duration": 9,
    "start_time": "2024-12-04T13:38:17.677Z"
   },
   {
    "duration": 19,
    "start_time": "2024-12-04T13:38:17.688Z"
   },
   {
    "duration": 12,
    "start_time": "2024-12-04T13:38:17.709Z"
   },
   {
    "duration": 34,
    "start_time": "2024-12-04T13:38:17.723Z"
   },
   {
    "duration": 8,
    "start_time": "2024-12-04T13:38:17.759Z"
   },
   {
    "duration": 5,
    "start_time": "2024-12-04T13:38:17.769Z"
   },
   {
    "duration": 6,
    "start_time": "2024-12-04T13:38:17.776Z"
   },
   {
    "duration": 3,
    "start_time": "2024-12-04T13:38:17.784Z"
   },
   {
    "duration": 9,
    "start_time": "2024-12-04T13:38:17.789Z"
   },
   {
    "duration": 7,
    "start_time": "2024-12-04T13:38:17.799Z"
   },
   {
    "duration": 10,
    "start_time": "2024-12-04T13:38:17.808Z"
   },
   {
    "duration": 13,
    "start_time": "2024-12-04T13:38:17.851Z"
   },
   {
    "duration": 22,
    "start_time": "2024-12-04T13:38:17.866Z"
   },
   {
    "duration": 6,
    "start_time": "2024-12-04T13:38:17.890Z"
   },
   {
    "duration": 6,
    "start_time": "2024-12-04T13:38:17.898Z"
   },
   {
    "duration": 6,
    "start_time": "2024-12-04T13:38:17.909Z"
   },
   {
    "duration": 26,
    "start_time": "2024-12-04T13:38:17.917Z"
   },
   {
    "duration": 96,
    "start_time": "2024-12-04T13:38:17.945Z"
   },
   {
    "duration": 24,
    "start_time": "2024-12-04T13:38:18.043Z"
   },
   {
    "duration": 12,
    "start_time": "2024-12-04T13:38:18.069Z"
   },
   {
    "duration": 14,
    "start_time": "2024-12-04T13:38:18.082Z"
   },
   {
    "duration": 17,
    "start_time": "2024-12-04T13:38:18.097Z"
   },
   {
    "duration": 13,
    "start_time": "2024-12-04T13:38:18.116Z"
   },
   {
    "duration": 381,
    "start_time": "2024-12-04T13:38:18.131Z"
   },
   {
    "duration": 10,
    "start_time": "2024-12-04T13:38:18.514Z"
   },
   {
    "duration": 331,
    "start_time": "2024-12-04T13:38:18.526Z"
   },
   {
    "duration": 206,
    "start_time": "2024-12-04T13:38:18.859Z"
   },
   {
    "duration": 217,
    "start_time": "2024-12-04T13:38:19.067Z"
   },
   {
    "duration": 212,
    "start_time": "2024-12-04T13:38:19.287Z"
   },
   {
    "duration": 2,
    "start_time": "2024-12-04T13:38:19.501Z"
   },
   {
    "duration": 8,
    "start_time": "2024-12-04T13:38:19.505Z"
   },
   {
    "duration": 12,
    "start_time": "2024-12-04T13:38:19.515Z"
   },
   {
    "duration": 7,
    "start_time": "2024-12-04T13:38:19.528Z"
   },
   {
    "duration": 22,
    "start_time": "2024-12-04T13:38:19.537Z"
   },
   {
    "duration": 298,
    "start_time": "2024-12-04T13:38:19.561Z"
   },
   {
    "duration": 330,
    "start_time": "2024-12-04T13:38:19.860Z"
   },
   {
    "duration": 165,
    "start_time": "2024-12-04T13:38:20.192Z"
   },
   {
    "duration": 5,
    "start_time": "2024-12-04T13:38:20.358Z"
   },
   {
    "duration": 174,
    "start_time": "2024-12-04T13:38:20.364Z"
   },
   {
    "duration": 14,
    "start_time": "2024-12-04T13:38:20.539Z"
   },
   {
    "duration": 117,
    "start_time": "2024-12-04T13:38:20.554Z"
   },
   {
    "duration": 0,
    "start_time": "2024-12-04T13:38:20.672Z"
   },
   {
    "duration": 0,
    "start_time": "2024-12-04T13:38:20.673Z"
   },
   {
    "duration": 0,
    "start_time": "2024-12-04T13:38:20.675Z"
   },
   {
    "duration": 0,
    "start_time": "2024-12-04T13:38:20.675Z"
   },
   {
    "duration": 0,
    "start_time": "2024-12-04T13:38:20.677Z"
   },
   {
    "duration": 0,
    "start_time": "2024-12-04T13:38:20.678Z"
   },
   {
    "duration": 0,
    "start_time": "2024-12-04T13:38:20.679Z"
   },
   {
    "duration": 0,
    "start_time": "2024-12-04T13:38:20.680Z"
   },
   {
    "duration": 0,
    "start_time": "2024-12-04T13:38:20.681Z"
   },
   {
    "duration": 0,
    "start_time": "2024-12-04T13:38:20.682Z"
   },
   {
    "duration": 0,
    "start_time": "2024-12-04T13:38:20.683Z"
   },
   {
    "duration": 0,
    "start_time": "2024-12-04T13:38:20.684Z"
   },
   {
    "duration": 0,
    "start_time": "2024-12-04T13:38:20.685Z"
   },
   {
    "duration": 0,
    "start_time": "2024-12-04T13:38:20.686Z"
   },
   {
    "duration": 0,
    "start_time": "2024-12-04T13:38:20.687Z"
   },
   {
    "duration": 0,
    "start_time": "2024-12-04T13:38:20.688Z"
   },
   {
    "duration": 0,
    "start_time": "2024-12-04T13:38:20.689Z"
   },
   {
    "duration": 0,
    "start_time": "2024-12-04T13:38:20.690Z"
   },
   {
    "duration": 0,
    "start_time": "2024-12-04T13:38:20.691Z"
   },
   {
    "duration": 0,
    "start_time": "2024-12-04T13:38:20.692Z"
   },
   {
    "duration": 0,
    "start_time": "2024-12-04T13:38:20.693Z"
   },
   {
    "duration": 0,
    "start_time": "2024-12-04T13:38:20.694Z"
   },
   {
    "duration": 0,
    "start_time": "2024-12-04T13:38:20.695Z"
   },
   {
    "duration": 0,
    "start_time": "2024-12-04T13:38:20.696Z"
   },
   {
    "duration": 0,
    "start_time": "2024-12-04T13:38:20.697Z"
   },
   {
    "duration": 0,
    "start_time": "2024-12-04T13:38:20.698Z"
   },
   {
    "duration": 0,
    "start_time": "2024-12-04T13:38:20.700Z"
   },
   {
    "duration": 0,
    "start_time": "2024-12-04T13:38:20.700Z"
   },
   {
    "duration": 0,
    "start_time": "2024-12-04T13:38:20.701Z"
   },
   {
    "duration": 3,
    "start_time": "2024-12-04T13:53:47.971Z"
   },
   {
    "duration": 986,
    "start_time": "2024-12-04T13:53:50.470Z"
   },
   {
    "duration": 34,
    "start_time": "2024-12-04T13:54:31.734Z"
   },
   {
    "duration": 1058,
    "start_time": "2024-12-04T13:54:42.576Z"
   },
   {
    "duration": 44,
    "start_time": "2024-12-04T13:54:43.636Z"
   },
   {
    "duration": 36,
    "start_time": "2024-12-04T13:54:51.927Z"
   },
   {
    "duration": 10,
    "start_time": "2024-12-04T14:03:53.681Z"
   },
   {
    "duration": 977,
    "start_time": "2024-12-04T14:05:17.506Z"
   },
   {
    "duration": 30,
    "start_time": "2024-12-04T14:05:50.129Z"
   },
   {
    "duration": 1075,
    "start_time": "2024-12-04T14:06:20.279Z"
   },
   {
    "duration": 20,
    "start_time": "2024-12-04T14:06:39.675Z"
   },
   {
    "duration": 19,
    "start_time": "2024-12-04T14:06:57.458Z"
   },
   {
    "duration": 1185,
    "start_time": "2024-12-04T14:10:36.171Z"
   },
   {
    "duration": 60,
    "start_time": "2024-12-04T14:10:37.358Z"
   },
   {
    "duration": 19,
    "start_time": "2024-12-04T14:10:37.420Z"
   },
   {
    "duration": 55,
    "start_time": "2024-12-04T14:10:37.441Z"
   },
   {
    "duration": 34,
    "start_time": "2024-12-04T14:10:37.498Z"
   },
   {
    "duration": 8,
    "start_time": "2024-12-04T14:10:37.534Z"
   },
   {
    "duration": 19,
    "start_time": "2024-12-04T14:10:37.543Z"
   },
   {
    "duration": 4,
    "start_time": "2024-12-04T14:10:37.564Z"
   },
   {
    "duration": 7,
    "start_time": "2024-12-04T14:10:37.570Z"
   },
   {
    "duration": 32,
    "start_time": "2024-12-04T14:10:37.580Z"
   },
   {
    "duration": 26,
    "start_time": "2024-12-04T14:10:37.614Z"
   },
   {
    "duration": 14,
    "start_time": "2024-12-04T14:10:37.642Z"
   },
   {
    "duration": 9,
    "start_time": "2024-12-04T14:10:37.657Z"
   },
   {
    "duration": 16,
    "start_time": "2024-12-04T14:10:37.668Z"
   },
   {
    "duration": 38,
    "start_time": "2024-12-04T14:10:37.685Z"
   },
   {
    "duration": 15,
    "start_time": "2024-12-04T14:10:37.725Z"
   },
   {
    "duration": 14,
    "start_time": "2024-12-04T14:10:37.741Z"
   },
   {
    "duration": 5,
    "start_time": "2024-12-04T14:10:37.756Z"
   },
   {
    "duration": 8,
    "start_time": "2024-12-04T14:10:37.762Z"
   },
   {
    "duration": 13,
    "start_time": "2024-12-04T14:10:37.771Z"
   },
   {
    "duration": 86,
    "start_time": "2024-12-04T14:10:37.786Z"
   },
   {
    "duration": 10,
    "start_time": "2024-12-04T14:10:37.874Z"
   },
   {
    "duration": 6,
    "start_time": "2024-12-04T14:10:37.885Z"
   },
   {
    "duration": 28,
    "start_time": "2024-12-04T14:10:37.892Z"
   },
   {
    "duration": 27,
    "start_time": "2024-12-04T14:10:37.921Z"
   },
   {
    "duration": 4,
    "start_time": "2024-12-04T14:10:37.949Z"
   },
   {
    "duration": 6,
    "start_time": "2024-12-04T14:10:37.954Z"
   },
   {
    "duration": 14,
    "start_time": "2024-12-04T14:10:37.965Z"
   },
   {
    "duration": 36,
    "start_time": "2024-12-04T14:10:37.980Z"
   },
   {
    "duration": 26,
    "start_time": "2024-12-04T14:10:38.017Z"
   },
   {
    "duration": 19,
    "start_time": "2024-12-04T14:10:38.044Z"
   },
   {
    "duration": 9,
    "start_time": "2024-12-04T14:10:38.065Z"
   },
   {
    "duration": 14,
    "start_time": "2024-12-04T14:10:38.076Z"
   },
   {
    "duration": 11,
    "start_time": "2024-12-04T14:10:38.091Z"
   },
   {
    "duration": 86,
    "start_time": "2024-12-04T14:10:38.103Z"
   },
   {
    "duration": 368,
    "start_time": "2024-12-04T14:10:38.190Z"
   },
   {
    "duration": 11,
    "start_time": "2024-12-04T14:10:38.560Z"
   },
   {
    "duration": 313,
    "start_time": "2024-12-04T14:10:38.572Z"
   },
   {
    "duration": 223,
    "start_time": "2024-12-04T14:10:38.887Z"
   },
   {
    "duration": 213,
    "start_time": "2024-12-04T14:10:39.112Z"
   },
   {
    "duration": 204,
    "start_time": "2024-12-04T14:10:39.326Z"
   },
   {
    "duration": 2,
    "start_time": "2024-12-04T14:10:39.532Z"
   },
   {
    "duration": 16,
    "start_time": "2024-12-04T14:10:39.536Z"
   },
   {
    "duration": 14,
    "start_time": "2024-12-04T14:10:39.553Z"
   },
   {
    "duration": 5,
    "start_time": "2024-12-04T14:10:39.568Z"
   },
   {
    "duration": 14,
    "start_time": "2024-12-04T14:10:39.575Z"
   },
   {
    "duration": 289,
    "start_time": "2024-12-04T14:10:39.591Z"
   },
   {
    "duration": 323,
    "start_time": "2024-12-04T14:10:39.881Z"
   },
   {
    "duration": 165,
    "start_time": "2024-12-04T14:10:40.205Z"
   },
   {
    "duration": 5,
    "start_time": "2024-12-04T14:10:40.372Z"
   },
   {
    "duration": 164,
    "start_time": "2024-12-04T14:10:40.378Z"
   },
   {
    "duration": 4,
    "start_time": "2024-12-04T14:10:40.552Z"
   },
   {
    "duration": 3,
    "start_time": "2024-12-04T14:10:40.558Z"
   },
   {
    "duration": 999,
    "start_time": "2024-12-04T14:10:40.562Z"
   },
   {
    "duration": 20,
    "start_time": "2024-12-04T14:10:41.563Z"
   },
   {
    "duration": 1070,
    "start_time": "2024-12-04T14:10:41.585Z"
   },
   {
    "duration": 20,
    "start_time": "2024-12-04T14:10:42.656Z"
   },
   {
    "duration": 116,
    "start_time": "2024-12-04T14:10:42.677Z"
   },
   {
    "duration": 0,
    "start_time": "2024-12-04T14:10:42.794Z"
   },
   {
    "duration": 0,
    "start_time": "2024-12-04T14:10:42.796Z"
   },
   {
    "duration": 0,
    "start_time": "2024-12-04T14:10:42.797Z"
   },
   {
    "duration": 0,
    "start_time": "2024-12-04T14:10:42.798Z"
   },
   {
    "duration": 0,
    "start_time": "2024-12-04T14:10:42.799Z"
   },
   {
    "duration": 0,
    "start_time": "2024-12-04T14:10:42.801Z"
   },
   {
    "duration": 0,
    "start_time": "2024-12-04T14:10:42.802Z"
   },
   {
    "duration": 0,
    "start_time": "2024-12-04T14:10:42.803Z"
   },
   {
    "duration": 0,
    "start_time": "2024-12-04T14:10:42.804Z"
   },
   {
    "duration": 0,
    "start_time": "2024-12-04T14:10:42.805Z"
   },
   {
    "duration": 0,
    "start_time": "2024-12-04T14:10:42.806Z"
   },
   {
    "duration": 0,
    "start_time": "2024-12-04T14:10:42.807Z"
   },
   {
    "duration": 0,
    "start_time": "2024-12-04T14:10:42.808Z"
   },
   {
    "duration": 0,
    "start_time": "2024-12-04T14:10:42.809Z"
   },
   {
    "duration": 0,
    "start_time": "2024-12-04T14:10:42.811Z"
   },
   {
    "duration": 0,
    "start_time": "2024-12-04T14:10:42.812Z"
   },
   {
    "duration": 0,
    "start_time": "2024-12-04T14:10:42.813Z"
   },
   {
    "duration": 0,
    "start_time": "2024-12-04T14:10:42.814Z"
   },
   {
    "duration": 0,
    "start_time": "2024-12-04T14:10:42.815Z"
   },
   {
    "duration": 0,
    "start_time": "2024-12-04T14:10:42.816Z"
   },
   {
    "duration": 0,
    "start_time": "2024-12-04T14:10:42.817Z"
   },
   {
    "duration": 0,
    "start_time": "2024-12-04T14:10:42.818Z"
   },
   {
    "duration": 0,
    "start_time": "2024-12-04T14:10:42.852Z"
   },
   {
    "duration": 0,
    "start_time": "2024-12-04T14:10:42.854Z"
   },
   {
    "duration": 0,
    "start_time": "2024-12-04T14:10:42.855Z"
   },
   {
    "duration": 13,
    "start_time": "2024-12-04T14:12:01.641Z"
   },
   {
    "duration": 10,
    "start_time": "2024-12-04T14:17:59.765Z"
   },
   {
    "duration": 8,
    "start_time": "2024-12-04T14:18:06.198Z"
   },
   {
    "duration": 187,
    "start_time": "2024-12-04T14:19:46.683Z"
   },
   {
    "duration": 191,
    "start_time": "2024-12-04T14:24:34.655Z"
   },
   {
    "duration": 13,
    "start_time": "2024-12-04T14:28:19.905Z"
   },
   {
    "duration": 9,
    "start_time": "2024-12-04T14:28:20.673Z"
   },
   {
    "duration": 236,
    "start_time": "2024-12-04T14:28:20.895Z"
   },
   {
    "duration": 11,
    "start_time": "2024-12-04T14:40:10.343Z"
   },
   {
    "duration": 251,
    "start_time": "2024-12-04T14:40:33.808Z"
   },
   {
    "duration": 119,
    "start_time": "2024-12-04T14:41:41.661Z"
   },
   {
    "duration": 206,
    "start_time": "2024-12-04T14:42:31.117Z"
   },
   {
    "duration": 10,
    "start_time": "2024-12-04T14:44:54.061Z"
   },
   {
    "duration": 9,
    "start_time": "2024-12-04T14:45:39.321Z"
   },
   {
    "duration": 196,
    "start_time": "2024-12-04T14:46:24.450Z"
   },
   {
    "duration": 116,
    "start_time": "2024-12-04T14:46:40.249Z"
   },
   {
    "duration": 10,
    "start_time": "2024-12-04T14:48:18.756Z"
   },
   {
    "duration": 185,
    "start_time": "2024-12-04T14:48:19.400Z"
   },
   {
    "duration": 108,
    "start_time": "2024-12-04T14:48:32.281Z"
   },
   {
    "duration": 10,
    "start_time": "2024-12-04T14:57:02.804Z"
   },
   {
    "duration": 10,
    "start_time": "2024-12-04T14:57:19.309Z"
   },
   {
    "duration": 161,
    "start_time": "2024-12-04T14:57:20.448Z"
   },
   {
    "duration": 115,
    "start_time": "2024-12-04T14:57:49.768Z"
   },
   {
    "duration": 9,
    "start_time": "2024-12-04T14:58:56.437Z"
   },
   {
    "duration": 115,
    "start_time": "2024-12-04T14:59:36.679Z"
   },
   {
    "duration": 11,
    "start_time": "2024-12-04T15:00:09.357Z"
   },
   {
    "duration": 11,
    "start_time": "2024-12-04T15:01:03.742Z"
   },
   {
    "duration": 110,
    "start_time": "2024-12-04T15:01:04.656Z"
   },
   {
    "duration": 10,
    "start_time": "2024-12-04T15:16:56.444Z"
   },
   {
    "duration": 10,
    "start_time": "2024-12-04T15:17:37.430Z"
   },
   {
    "duration": 116,
    "start_time": "2024-12-04T15:17:37.827Z"
   },
   {
    "duration": 10,
    "start_time": "2024-12-04T15:18:59.094Z"
   },
   {
    "duration": 111,
    "start_time": "2024-12-04T15:19:01.480Z"
   },
   {
    "duration": 11,
    "start_time": "2024-12-04T15:19:06.965Z"
   },
   {
    "duration": 9,
    "start_time": "2024-12-04T15:19:09.553Z"
   },
   {
    "duration": 207,
    "start_time": "2024-12-04T15:19:10.958Z"
   },
   {
    "duration": 10,
    "start_time": "2024-12-04T15:29:24.052Z"
   },
   {
    "duration": 9,
    "start_time": "2024-12-04T15:36:17.084Z"
   },
   {
    "duration": 49,
    "start_time": "2024-12-05T06:14:19.177Z"
   },
   {
    "duration": 93,
    "start_time": "2024-12-05T06:14:19.228Z"
   },
   {
    "duration": 16,
    "start_time": "2024-12-05T06:14:19.323Z"
   },
   {
    "duration": 39,
    "start_time": "2024-12-05T06:14:19.341Z"
   },
   {
    "duration": 19,
    "start_time": "2024-12-05T06:14:19.382Z"
   },
   {
    "duration": 25,
    "start_time": "2024-12-05T06:14:19.403Z"
   },
   {
    "duration": 43,
    "start_time": "2024-12-05T06:14:19.429Z"
   },
   {
    "duration": 46,
    "start_time": "2024-12-05T06:14:19.474Z"
   },
   {
    "duration": 32,
    "start_time": "2024-12-05T06:14:19.522Z"
   },
   {
    "duration": 24,
    "start_time": "2024-12-05T06:14:19.556Z"
   },
   {
    "duration": 13,
    "start_time": "2024-12-05T06:14:19.582Z"
   },
   {
    "duration": 11,
    "start_time": "2024-12-05T06:14:19.597Z"
   },
   {
    "duration": 7,
    "start_time": "2024-12-05T06:14:19.609Z"
   },
   {
    "duration": 17,
    "start_time": "2024-12-05T06:14:19.618Z"
   },
   {
    "duration": 25,
    "start_time": "2024-12-05T06:14:19.637Z"
   },
   {
    "duration": 10,
    "start_time": "2024-12-05T06:14:19.664Z"
   },
   {
    "duration": 10,
    "start_time": "2024-12-05T06:14:19.676Z"
   },
   {
    "duration": 7,
    "start_time": "2024-12-05T06:14:19.687Z"
   },
   {
    "duration": 16,
    "start_time": "2024-12-05T06:14:19.695Z"
   },
   {
    "duration": 21,
    "start_time": "2024-12-05T06:14:19.713Z"
   },
   {
    "duration": 7,
    "start_time": "2024-12-05T06:14:19.736Z"
   },
   {
    "duration": 8,
    "start_time": "2024-12-05T06:14:19.762Z"
   },
   {
    "duration": 31,
    "start_time": "2024-12-05T06:14:19.772Z"
   },
   {
    "duration": 35,
    "start_time": "2024-12-05T06:14:19.805Z"
   },
   {
    "duration": 12,
    "start_time": "2024-12-05T06:14:19.842Z"
   },
   {
    "duration": 24,
    "start_time": "2024-12-05T06:14:19.856Z"
   },
   {
    "duration": 6,
    "start_time": "2024-12-05T06:14:19.883Z"
   },
   {
    "duration": 25,
    "start_time": "2024-12-05T06:14:19.891Z"
   },
   {
    "duration": 37,
    "start_time": "2024-12-05T06:14:19.918Z"
   },
   {
    "duration": 25,
    "start_time": "2024-12-05T06:14:19.957Z"
   },
   {
    "duration": 21,
    "start_time": "2024-12-05T06:14:19.985Z"
   },
   {
    "duration": 11,
    "start_time": "2024-12-05T06:14:20.007Z"
   },
   {
    "duration": 32,
    "start_time": "2024-12-05T06:14:20.019Z"
   },
   {
    "duration": 10,
    "start_time": "2024-12-05T06:14:20.052Z"
   },
   {
    "duration": 23,
    "start_time": "2024-12-05T06:14:20.064Z"
   },
   {
    "duration": 357,
    "start_time": "2024-12-05T06:14:20.088Z"
   },
   {
    "duration": 20,
    "start_time": "2024-12-05T06:14:20.447Z"
   },
   {
    "duration": 322,
    "start_time": "2024-12-05T06:14:20.469Z"
   },
   {
    "duration": 229,
    "start_time": "2024-12-05T06:14:20.792Z"
   },
   {
    "duration": 221,
    "start_time": "2024-12-05T06:14:21.022Z"
   },
   {
    "duration": 310,
    "start_time": "2024-12-05T06:14:21.245Z"
   },
   {
    "duration": 5,
    "start_time": "2024-12-05T06:14:21.557Z"
   },
   {
    "duration": 11,
    "start_time": "2024-12-05T06:14:21.563Z"
   },
   {
    "duration": 5,
    "start_time": "2024-12-05T06:14:21.576Z"
   },
   {
    "duration": 17,
    "start_time": "2024-12-05T06:14:21.583Z"
   },
   {
    "duration": 42,
    "start_time": "2024-12-05T06:14:21.602Z"
   },
   {
    "duration": 15,
    "start_time": "2024-12-05T06:14:21.646Z"
   },
   {
    "duration": 306,
    "start_time": "2024-12-05T06:14:21.663Z"
   },
   {
    "duration": 260,
    "start_time": "2024-12-05T06:14:21.971Z"
   },
   {
    "duration": 173,
    "start_time": "2024-12-05T06:14:22.233Z"
   },
   {
    "duration": 5,
    "start_time": "2024-12-05T06:14:22.408Z"
   },
   {
    "duration": 200,
    "start_time": "2024-12-05T06:14:22.414Z"
   },
   {
    "duration": 5,
    "start_time": "2024-12-05T06:14:22.616Z"
   },
   {
    "duration": 15,
    "start_time": "2024-12-05T06:14:22.622Z"
   },
   {
    "duration": 1096,
    "start_time": "2024-12-05T06:14:22.639Z"
   },
   {
    "duration": 36,
    "start_time": "2024-12-05T06:14:23.737Z"
   },
   {
    "duration": 1004,
    "start_time": "2024-12-05T06:14:23.775Z"
   },
   {
    "duration": 24,
    "start_time": "2024-12-05T06:14:24.781Z"
   },
   {
    "duration": 21,
    "start_time": "2024-12-05T06:14:24.807Z"
   },
   {
    "duration": 21,
    "start_time": "2024-12-05T06:14:24.829Z"
   },
   {
    "duration": 213,
    "start_time": "2024-12-05T06:14:24.852Z"
   },
   {
    "duration": 16,
    "start_time": "2024-12-05T06:14:25.068Z"
   },
   {
    "duration": 30,
    "start_time": "2024-12-05T06:14:25.086Z"
   },
   {
    "duration": 272,
    "start_time": "2024-12-05T06:14:25.118Z"
   },
   {
    "duration": 10,
    "start_time": "2024-12-05T06:14:25.392Z"
   },
   {
    "duration": 146,
    "start_time": "2024-12-05T06:14:25.404Z"
   },
   {
    "duration": 10,
    "start_time": "2024-12-05T06:14:25.552Z"
   },
   {
    "duration": 231,
    "start_time": "2024-12-05T06:14:25.563Z"
   },
   {
    "duration": 10,
    "start_time": "2024-12-05T06:14:25.796Z"
   },
   {
    "duration": 129,
    "start_time": "2024-12-05T06:14:25.807Z"
   },
   {
    "duration": 9,
    "start_time": "2024-12-05T06:14:25.938Z"
   },
   {
    "duration": 187,
    "start_time": "2024-12-05T06:14:25.949Z"
   },
   {
    "duration": 12,
    "start_time": "2024-12-05T06:14:26.138Z"
   },
   {
    "duration": 125,
    "start_time": "2024-12-05T06:14:26.162Z"
   },
   {
    "duration": 10,
    "start_time": "2024-12-05T06:14:26.289Z"
   },
   {
    "duration": 155,
    "start_time": "2024-12-05T06:14:26.301Z"
   },
   {
    "duration": 9,
    "start_time": "2024-12-05T06:14:26.461Z"
   },
   {
    "duration": 126,
    "start_time": "2024-12-05T06:14:26.472Z"
   },
   {
    "duration": 10,
    "start_time": "2024-12-05T06:14:26.600Z"
   },
   {
    "duration": 123,
    "start_time": "2024-12-05T06:14:26.611Z"
   },
   {
    "duration": 10,
    "start_time": "2024-12-05T06:14:26.735Z"
   },
   {
    "duration": 131,
    "start_time": "2024-12-05T06:14:26.747Z"
   },
   {
    "duration": 11,
    "start_time": "2024-12-05T06:14:26.880Z"
   },
   {
    "duration": 12,
    "start_time": "2024-12-05T06:14:26.893Z"
   },
   {
    "duration": 54,
    "start_time": "2024-12-05T09:57:32.742Z"
   },
   {
    "duration": 1435,
    "start_time": "2024-12-05T09:57:45.192Z"
   },
   {
    "duration": 107,
    "start_time": "2024-12-05T09:57:46.630Z"
   },
   {
    "duration": 20,
    "start_time": "2024-12-05T09:57:46.739Z"
   },
   {
    "duration": 18,
    "start_time": "2024-12-05T09:57:46.761Z"
   },
   {
    "duration": 27,
    "start_time": "2024-12-05T09:57:46.781Z"
   },
   {
    "duration": 10,
    "start_time": "2024-12-05T09:57:46.810Z"
   },
   {
    "duration": 27,
    "start_time": "2024-12-05T09:57:46.823Z"
   },
   {
    "duration": 6,
    "start_time": "2024-12-05T09:57:46.852Z"
   },
   {
    "duration": 8,
    "start_time": "2024-12-05T09:57:46.860Z"
   },
   {
    "duration": 13,
    "start_time": "2024-12-05T09:57:46.870Z"
   },
   {
    "duration": 6,
    "start_time": "2024-12-05T09:57:46.885Z"
   },
   {
    "duration": 9,
    "start_time": "2024-12-05T09:57:46.892Z"
   },
   {
    "duration": 8,
    "start_time": "2024-12-05T09:57:46.903Z"
   },
   {
    "duration": 46,
    "start_time": "2024-12-05T09:57:46.915Z"
   },
   {
    "duration": 10,
    "start_time": "2024-12-05T09:57:46.963Z"
   },
   {
    "duration": 10,
    "start_time": "2024-12-05T09:57:46.975Z"
   },
   {
    "duration": 18,
    "start_time": "2024-12-05T09:57:46.987Z"
   },
   {
    "duration": 5,
    "start_time": "2024-12-05T09:57:47.007Z"
   },
   {
    "duration": 37,
    "start_time": "2024-12-05T09:57:47.014Z"
   },
   {
    "duration": 9,
    "start_time": "2024-12-05T09:57:47.053Z"
   },
   {
    "duration": 6,
    "start_time": "2024-12-05T09:57:47.063Z"
   },
   {
    "duration": 10,
    "start_time": "2024-12-05T09:57:47.070Z"
   },
   {
    "duration": 5,
    "start_time": "2024-12-05T09:57:47.082Z"
   },
   {
    "duration": 26,
    "start_time": "2024-12-05T09:57:47.088Z"
   },
   {
    "duration": 35,
    "start_time": "2024-12-05T09:57:47.116Z"
   },
   {
    "duration": 3,
    "start_time": "2024-12-05T09:57:47.153Z"
   },
   {
    "duration": 6,
    "start_time": "2024-12-05T09:57:47.158Z"
   },
   {
    "duration": 10,
    "start_time": "2024-12-05T09:57:47.166Z"
   },
   {
    "duration": 114,
    "start_time": "2024-12-05T09:57:47.178Z"
   },
   {
    "duration": 20,
    "start_time": "2024-12-05T09:57:47.295Z"
   },
   {
    "duration": 23,
    "start_time": "2024-12-05T09:57:47.317Z"
   },
   {
    "duration": 69,
    "start_time": "2024-12-05T09:57:47.341Z"
   },
   {
    "duration": 105,
    "start_time": "2024-12-05T09:57:47.412Z"
   },
   {
    "duration": 10,
    "start_time": "2024-12-05T09:57:47.519Z"
   },
   {
    "duration": 8,
    "start_time": "2024-12-05T09:57:47.530Z"
   },
   {
    "duration": 463,
    "start_time": "2024-12-05T09:57:47.540Z"
   },
   {
    "duration": 13,
    "start_time": "2024-12-05T09:57:48.005Z"
   },
   {
    "duration": 383,
    "start_time": "2024-12-05T09:57:48.020Z"
   },
   {
    "duration": 251,
    "start_time": "2024-12-05T09:57:48.406Z"
   },
   {
    "duration": 238,
    "start_time": "2024-12-05T09:57:48.659Z"
   },
   {
    "duration": 269,
    "start_time": "2024-12-05T09:57:48.902Z"
   },
   {
    "duration": 3,
    "start_time": "2024-12-05T09:57:49.173Z"
   },
   {
    "duration": 86,
    "start_time": "2024-12-05T09:57:49.178Z"
   },
   {
    "duration": 13,
    "start_time": "2024-12-05T09:57:49.266Z"
   },
   {
    "duration": 7,
    "start_time": "2024-12-05T09:57:49.281Z"
   },
   {
    "duration": 15,
    "start_time": "2024-12-05T09:57:49.290Z"
   },
   {
    "duration": 15,
    "start_time": "2024-12-05T09:57:49.307Z"
   },
   {
    "duration": 398,
    "start_time": "2024-12-05T09:57:49.324Z"
   },
   {
    "duration": 362,
    "start_time": "2024-12-05T09:57:49.723Z"
   },
   {
    "duration": 188,
    "start_time": "2024-12-05T09:57:50.087Z"
   },
   {
    "duration": 5,
    "start_time": "2024-12-05T09:57:50.277Z"
   },
   {
    "duration": 195,
    "start_time": "2024-12-05T09:57:50.284Z"
   },
   {
    "duration": 5,
    "start_time": "2024-12-05T09:57:50.480Z"
   },
   {
    "duration": 26,
    "start_time": "2024-12-05T09:57:50.487Z"
   },
   {
    "duration": 1125,
    "start_time": "2024-12-05T09:57:50.515Z"
   },
   {
    "duration": 22,
    "start_time": "2024-12-05T09:57:51.650Z"
   },
   {
    "duration": 1198,
    "start_time": "2024-12-05T09:57:51.674Z"
   },
   {
    "duration": 32,
    "start_time": "2024-12-05T09:57:52.875Z"
   },
   {
    "duration": 12,
    "start_time": "2024-12-05T09:57:52.909Z"
   },
   {
    "duration": 49,
    "start_time": "2024-12-05T09:57:52.923Z"
   },
   {
    "duration": 237,
    "start_time": "2024-12-05T09:57:52.974Z"
   },
   {
    "duration": 15,
    "start_time": "2024-12-05T09:57:53.213Z"
   },
   {
    "duration": 83,
    "start_time": "2024-12-05T09:57:53.230Z"
   },
   {
    "duration": 258,
    "start_time": "2024-12-05T09:57:53.316Z"
   },
   {
    "duration": 17,
    "start_time": "2024-12-05T09:57:53.577Z"
   },
   {
    "duration": 162,
    "start_time": "2024-12-05T09:57:53.596Z"
   },
   {
    "duration": 13,
    "start_time": "2024-12-05T09:57:53.760Z"
   },
   {
    "duration": 141,
    "start_time": "2024-12-05T09:57:53.775Z"
   },
   {
    "duration": 10,
    "start_time": "2024-12-05T09:57:53.918Z"
   },
   {
    "duration": 132,
    "start_time": "2024-12-05T09:57:53.930Z"
   },
   {
    "duration": 12,
    "start_time": "2024-12-05T09:57:54.064Z"
   },
   {
    "duration": 153,
    "start_time": "2024-12-05T09:57:54.078Z"
   },
   {
    "duration": 22,
    "start_time": "2024-12-05T09:57:54.233Z"
   },
   {
    "duration": 237,
    "start_time": "2024-12-05T09:57:54.257Z"
   },
   {
    "duration": 12,
    "start_time": "2024-12-05T09:57:54.496Z"
   },
   {
    "duration": 159,
    "start_time": "2024-12-05T09:57:54.510Z"
   },
   {
    "duration": 11,
    "start_time": "2024-12-05T09:57:54.671Z"
   },
   {
    "duration": 160,
    "start_time": "2024-12-05T09:57:54.684Z"
   },
   {
    "duration": 12,
    "start_time": "2024-12-05T09:57:54.850Z"
   },
   {
    "duration": 175,
    "start_time": "2024-12-05T09:57:54.865Z"
   },
   {
    "duration": 27,
    "start_time": "2024-12-05T09:57:55.043Z"
   },
   {
    "duration": 147,
    "start_time": "2024-12-05T09:57:55.073Z"
   },
   {
    "duration": 10,
    "start_time": "2024-12-05T09:57:55.222Z"
   },
   {
    "duration": 57,
    "start_time": "2024-12-05T09:57:55.234Z"
   },
   {
    "duration": 1197,
    "start_time": "2024-12-05T10:05:22.207Z"
   },
   {
    "duration": 19,
    "start_time": "2024-12-05T10:06:54.772Z"
   },
   {
    "duration": 13,
    "start_time": "2024-12-05T10:08:07.364Z"
   },
   {
    "duration": 11,
    "start_time": "2024-12-05T10:10:24.874Z"
   },
   {
    "duration": 10,
    "start_time": "2024-12-05T10:10:39.263Z"
   },
   {
    "duration": 21,
    "start_time": "2024-12-05T10:18:42.669Z"
   },
   {
    "duration": 1374,
    "start_time": "2024-12-05T10:22:16.331Z"
   },
   {
    "duration": 61,
    "start_time": "2024-12-05T10:22:17.708Z"
   },
   {
    "duration": 40,
    "start_time": "2024-12-05T10:22:17.771Z"
   },
   {
    "duration": 25,
    "start_time": "2024-12-05T10:22:17.814Z"
   },
   {
    "duration": 17,
    "start_time": "2024-12-05T10:22:17.849Z"
   },
   {
    "duration": 25,
    "start_time": "2024-12-05T10:22:17.868Z"
   },
   {
    "duration": 24,
    "start_time": "2024-12-05T10:22:17.899Z"
   },
   {
    "duration": 7,
    "start_time": "2024-12-05T10:22:17.925Z"
   },
   {
    "duration": 40,
    "start_time": "2024-12-05T10:22:17.934Z"
   },
   {
    "duration": 11,
    "start_time": "2024-12-05T10:22:17.977Z"
   },
   {
    "duration": 10,
    "start_time": "2024-12-05T10:22:17.993Z"
   },
   {
    "duration": 16,
    "start_time": "2024-12-05T10:22:18.005Z"
   },
   {
    "duration": 23,
    "start_time": "2024-12-05T10:22:18.023Z"
   },
   {
    "duration": 26,
    "start_time": "2024-12-05T10:22:18.051Z"
   },
   {
    "duration": 30,
    "start_time": "2024-12-05T10:22:18.080Z"
   },
   {
    "duration": 17,
    "start_time": "2024-12-05T10:22:18.112Z"
   },
   {
    "duration": 30,
    "start_time": "2024-12-05T10:22:18.132Z"
   },
   {
    "duration": 67,
    "start_time": "2024-12-05T10:22:18.164Z"
   },
   {
    "duration": 16,
    "start_time": "2024-12-05T10:22:18.233Z"
   },
   {
    "duration": 5,
    "start_time": "2024-12-05T10:22:18.251Z"
   },
   {
    "duration": 11,
    "start_time": "2024-12-05T10:22:18.259Z"
   },
   {
    "duration": 11,
    "start_time": "2024-12-05T10:22:18.274Z"
   },
   {
    "duration": 18,
    "start_time": "2024-12-05T10:22:18.288Z"
   },
   {
    "duration": 54,
    "start_time": "2024-12-05T10:22:18.308Z"
   },
   {
    "duration": 6,
    "start_time": "2024-12-05T10:22:18.364Z"
   },
   {
    "duration": 9,
    "start_time": "2024-12-05T10:22:18.372Z"
   },
   {
    "duration": 29,
    "start_time": "2024-12-05T10:22:18.383Z"
   },
   {
    "duration": 14,
    "start_time": "2024-12-05T10:22:18.414Z"
   },
   {
    "duration": 27,
    "start_time": "2024-12-05T10:22:18.430Z"
   },
   {
    "duration": 25,
    "start_time": "2024-12-05T10:22:18.459Z"
   },
   {
    "duration": 20,
    "start_time": "2024-12-05T10:22:18.486Z"
   },
   {
    "duration": 12,
    "start_time": "2024-12-05T10:22:18.508Z"
   },
   {
    "duration": 19,
    "start_time": "2024-12-05T10:22:18.551Z"
   },
   {
    "duration": 21,
    "start_time": "2024-12-05T10:22:18.573Z"
   },
   {
    "duration": 9,
    "start_time": "2024-12-05T10:22:18.597Z"
   },
   {
    "duration": 467,
    "start_time": "2024-12-05T10:22:18.608Z"
   },
   {
    "duration": 16,
    "start_time": "2024-12-05T10:22:19.078Z"
   },
   {
    "duration": 373,
    "start_time": "2024-12-05T10:22:19.097Z"
   },
   {
    "duration": 252,
    "start_time": "2024-12-05T10:22:19.473Z"
   },
   {
    "duration": 247,
    "start_time": "2024-12-05T10:22:19.728Z"
   },
   {
    "duration": 241,
    "start_time": "2024-12-05T10:22:19.984Z"
   },
   {
    "duration": 2,
    "start_time": "2024-12-05T10:22:20.227Z"
   },
   {
    "duration": 19,
    "start_time": "2024-12-05T10:22:20.231Z"
   },
   {
    "duration": 9,
    "start_time": "2024-12-05T10:22:20.253Z"
   },
   {
    "duration": 42,
    "start_time": "2024-12-05T10:22:20.265Z"
   },
   {
    "duration": 16,
    "start_time": "2024-12-05T10:22:20.309Z"
   },
   {
    "duration": 16,
    "start_time": "2024-12-05T10:22:20.327Z"
   },
   {
    "duration": 357,
    "start_time": "2024-12-05T10:22:20.345Z"
   },
   {
    "duration": 429,
    "start_time": "2024-12-05T10:22:20.705Z"
   },
   {
    "duration": 202,
    "start_time": "2024-12-05T10:22:21.136Z"
   },
   {
    "duration": 14,
    "start_time": "2024-12-05T10:22:21.340Z"
   },
   {
    "duration": 445,
    "start_time": "2024-12-05T10:22:21.356Z"
   },
   {
    "duration": 7,
    "start_time": "2024-12-05T10:22:21.804Z"
   },
   {
    "duration": 14,
    "start_time": "2024-12-05T10:22:21.813Z"
   },
   {
    "duration": 1372,
    "start_time": "2024-12-05T10:22:21.829Z"
   },
   {
    "duration": 33,
    "start_time": "2024-12-05T10:22:23.204Z"
   },
   {
    "duration": 1627,
    "start_time": "2024-12-05T10:22:23.239Z"
   },
   {
    "duration": 28,
    "start_time": "2024-12-05T10:22:24.868Z"
   },
   {
    "duration": 13,
    "start_time": "2024-12-05T10:22:24.899Z"
   },
   {
    "duration": 41,
    "start_time": "2024-12-05T10:22:24.915Z"
   },
   {
    "duration": 278,
    "start_time": "2024-12-05T10:22:24.959Z"
   },
   {
    "duration": 20,
    "start_time": "2024-12-05T10:22:25.239Z"
   },
   {
    "duration": 24,
    "start_time": "2024-12-05T10:22:25.261Z"
   },
   {
    "duration": 286,
    "start_time": "2024-12-05T10:22:25.287Z"
   },
   {
    "duration": 13,
    "start_time": "2024-12-05T10:22:25.575Z"
   },
   {
    "duration": 172,
    "start_time": "2024-12-05T10:22:25.590Z"
   },
   {
    "duration": 15,
    "start_time": "2024-12-05T10:22:25.765Z"
   },
   {
    "duration": 194,
    "start_time": "2024-12-05T10:22:25.782Z"
   },
   {
    "duration": 12,
    "start_time": "2024-12-05T10:22:25.981Z"
   },
   {
    "duration": 157,
    "start_time": "2024-12-05T10:22:25.996Z"
   },
   {
    "duration": 14,
    "start_time": "2024-12-05T10:22:26.155Z"
   },
   {
    "duration": 172,
    "start_time": "2024-12-05T10:22:26.172Z"
   },
   {
    "duration": 13,
    "start_time": "2024-12-05T10:22:26.351Z"
   },
   {
    "duration": 276,
    "start_time": "2024-12-05T10:22:26.367Z"
   },
   {
    "duration": 14,
    "start_time": "2024-12-05T10:22:26.645Z"
   },
   {
    "duration": 188,
    "start_time": "2024-12-05T10:22:26.662Z"
   },
   {
    "duration": 13,
    "start_time": "2024-12-05T10:22:26.853Z"
   },
   {
    "duration": 184,
    "start_time": "2024-12-05T10:22:26.869Z"
   },
   {
    "duration": 20,
    "start_time": "2024-12-05T10:22:27.056Z"
   },
   {
    "duration": 177,
    "start_time": "2024-12-05T10:22:27.079Z"
   },
   {
    "duration": 20,
    "start_time": "2024-12-05T10:22:27.261Z"
   },
   {
    "duration": 156,
    "start_time": "2024-12-05T10:22:27.283Z"
   },
   {
    "duration": 18,
    "start_time": "2024-12-05T10:22:27.441Z"
   },
   {
    "duration": 144,
    "start_time": "2024-12-05T10:22:27.461Z"
   },
   {
    "duration": 3,
    "start_time": "2024-12-05T10:23:33.614Z"
   },
   {
    "duration": 1276,
    "start_time": "2024-12-05T10:23:36.767Z"
   },
   {
    "duration": 131,
    "start_time": "2024-12-05T10:24:43.999Z"
   },
   {
    "duration": 25,
    "start_time": "2024-12-05T10:25:06.847Z"
   },
   {
    "duration": 38,
    "start_time": "2024-12-05T10:26:24.427Z"
   },
   {
    "duration": 1288,
    "start_time": "2024-12-05T10:32:46.310Z"
   },
   {
    "duration": 28,
    "start_time": "2024-12-05T10:35:54.878Z"
   },
   {
    "duration": 1261,
    "start_time": "2024-12-05T10:37:23.398Z"
   },
   {
    "duration": 1446,
    "start_time": "2024-12-05T10:38:02.823Z"
   },
   {
    "duration": 6,
    "start_time": "2024-12-05T10:38:43.183Z"
   },
   {
    "duration": 1326,
    "start_time": "2024-12-05T10:38:57.105Z"
   },
   {
    "duration": 1295,
    "start_time": "2024-12-05T10:39:19.795Z"
   },
   {
    "duration": 1372,
    "start_time": "2024-12-05T10:41:02.505Z"
   },
   {
    "duration": 1267,
    "start_time": "2024-12-05T10:41:33.040Z"
   },
   {
    "duration": 2,
    "start_time": "2024-12-05T10:42:55.917Z"
   },
   {
    "duration": 1358,
    "start_time": "2024-12-05T10:45:30.533Z"
   },
   {
    "duration": 1266,
    "start_time": "2024-12-05T10:59:08.245Z"
   },
   {
    "duration": 57,
    "start_time": "2024-12-05T10:59:09.513Z"
   },
   {
    "duration": 20,
    "start_time": "2024-12-05T10:59:09.572Z"
   },
   {
    "duration": 57,
    "start_time": "2024-12-05T10:59:09.594Z"
   },
   {
    "duration": 17,
    "start_time": "2024-12-05T10:59:09.653Z"
   },
   {
    "duration": 91,
    "start_time": "2024-12-05T10:59:09.672Z"
   },
   {
    "duration": 24,
    "start_time": "2024-12-05T10:59:09.765Z"
   },
   {
    "duration": 36,
    "start_time": "2024-12-05T10:59:09.791Z"
   },
   {
    "duration": 61,
    "start_time": "2024-12-05T10:59:09.829Z"
   },
   {
    "duration": 20,
    "start_time": "2024-12-05T10:59:09.895Z"
   },
   {
    "duration": 9,
    "start_time": "2024-12-05T10:59:09.917Z"
   },
   {
    "duration": 14,
    "start_time": "2024-12-05T10:59:09.928Z"
   },
   {
    "duration": 7,
    "start_time": "2024-12-05T10:59:09.944Z"
   },
   {
    "duration": 21,
    "start_time": "2024-12-05T10:59:09.953Z"
   },
   {
    "duration": 16,
    "start_time": "2024-12-05T10:59:09.976Z"
   },
   {
    "duration": 10,
    "start_time": "2024-12-05T10:59:09.994Z"
   },
   {
    "duration": 43,
    "start_time": "2024-12-05T10:59:10.007Z"
   },
   {
    "duration": 6,
    "start_time": "2024-12-05T10:59:10.052Z"
   },
   {
    "duration": 11,
    "start_time": "2024-12-05T10:59:10.060Z"
   },
   {
    "duration": 5,
    "start_time": "2024-12-05T10:59:10.073Z"
   },
   {
    "duration": 10,
    "start_time": "2024-12-05T10:59:10.080Z"
   },
   {
    "duration": 9,
    "start_time": "2024-12-05T10:59:10.092Z"
   },
   {
    "duration": 15,
    "start_time": "2024-12-05T10:59:10.103Z"
   },
   {
    "duration": 32,
    "start_time": "2024-12-05T10:59:10.119Z"
   },
   {
    "duration": 8,
    "start_time": "2024-12-05T10:59:10.153Z"
   },
   {
    "duration": 8,
    "start_time": "2024-12-05T10:59:10.163Z"
   },
   {
    "duration": 16,
    "start_time": "2024-12-05T10:59:10.173Z"
   },
   {
    "duration": 7,
    "start_time": "2024-12-05T10:59:10.196Z"
   },
   {
    "duration": 22,
    "start_time": "2024-12-05T10:59:10.205Z"
   },
   {
    "duration": 35,
    "start_time": "2024-12-05T10:59:10.229Z"
   },
   {
    "duration": 21,
    "start_time": "2024-12-05T10:59:10.265Z"
   },
   {
    "duration": 11,
    "start_time": "2024-12-05T10:59:10.288Z"
   },
   {
    "duration": 16,
    "start_time": "2024-12-05T10:59:10.301Z"
   },
   {
    "duration": 70,
    "start_time": "2024-12-05T10:59:10.318Z"
   },
   {
    "duration": 8,
    "start_time": "2024-12-05T10:59:10.390Z"
   },
   {
    "duration": 369,
    "start_time": "2024-12-05T10:59:10.400Z"
   },
   {
    "duration": 11,
    "start_time": "2024-12-05T10:59:10.771Z"
   },
   {
    "duration": 308,
    "start_time": "2024-12-05T10:59:10.784Z"
   },
   {
    "duration": 216,
    "start_time": "2024-12-05T10:59:11.094Z"
   },
   {
    "duration": 219,
    "start_time": "2024-12-05T10:59:11.311Z"
   },
   {
    "duration": 209,
    "start_time": "2024-12-05T10:59:11.532Z"
   },
   {
    "duration": 8,
    "start_time": "2024-12-05T10:59:11.742Z"
   },
   {
    "duration": 31,
    "start_time": "2024-12-05T10:59:11.752Z"
   },
   {
    "duration": 84,
    "start_time": "2024-12-05T10:59:11.785Z"
   },
   {
    "duration": 4,
    "start_time": "2024-12-05T10:59:11.871Z"
   },
   {
    "duration": 13,
    "start_time": "2024-12-05T10:59:11.877Z"
   },
   {
    "duration": 14,
    "start_time": "2024-12-05T10:59:11.892Z"
   },
   {
    "duration": 310,
    "start_time": "2024-12-05T10:59:11.908Z"
   },
   {
    "duration": 341,
    "start_time": "2024-12-05T10:59:12.220Z"
   },
   {
    "duration": 176,
    "start_time": "2024-12-05T10:59:12.563Z"
   },
   {
    "duration": 12,
    "start_time": "2024-12-05T10:59:12.740Z"
   },
   {
    "duration": 175,
    "start_time": "2024-12-05T10:59:12.754Z"
   },
   {
    "duration": 5,
    "start_time": "2024-12-05T10:59:12.931Z"
   },
   {
    "duration": 4,
    "start_time": "2024-12-05T10:59:12.950Z"
   },
   {
    "duration": 1121,
    "start_time": "2024-12-05T10:59:12.955Z"
   },
   {
    "duration": 3,
    "start_time": "2024-12-05T10:59:14.077Z"
   },
   {
    "duration": 1263,
    "start_time": "2024-12-05T10:59:14.083Z"
   },
   {
    "duration": 23,
    "start_time": "2024-12-05T10:59:15.348Z"
   },
   {
    "duration": 11,
    "start_time": "2024-12-05T10:59:15.373Z"
   },
   {
    "duration": 22,
    "start_time": "2024-12-05T10:59:15.386Z"
   },
   {
    "duration": 222,
    "start_time": "2024-12-05T10:59:15.409Z"
   },
   {
    "duration": 24,
    "start_time": "2024-12-05T10:59:15.632Z"
   },
   {
    "duration": 111,
    "start_time": "2024-12-05T10:59:15.658Z"
   },
   {
    "duration": 307,
    "start_time": "2024-12-05T10:59:15.771Z"
   },
   {
    "duration": 11,
    "start_time": "2024-12-05T10:59:16.080Z"
   },
   {
    "duration": 157,
    "start_time": "2024-12-05T10:59:16.093Z"
   },
   {
    "duration": 13,
    "start_time": "2024-12-05T10:59:16.252Z"
   },
   {
    "duration": 134,
    "start_time": "2024-12-05T10:59:16.267Z"
   },
   {
    "duration": 10,
    "start_time": "2024-12-05T10:59:16.404Z"
   },
   {
    "duration": 134,
    "start_time": "2024-12-05T10:59:16.416Z"
   },
   {
    "duration": 12,
    "start_time": "2024-12-05T10:59:16.551Z"
   },
   {
    "duration": 233,
    "start_time": "2024-12-05T10:59:16.565Z"
   },
   {
    "duration": 11,
    "start_time": "2024-12-05T10:59:16.801Z"
   },
   {
    "duration": 132,
    "start_time": "2024-12-05T10:59:16.814Z"
   },
   {
    "duration": 12,
    "start_time": "2024-12-05T10:59:16.950Z"
   },
   {
    "duration": 142,
    "start_time": "2024-12-05T10:59:16.964Z"
   },
   {
    "duration": 11,
    "start_time": "2024-12-05T10:59:17.108Z"
   },
   {
    "duration": 134,
    "start_time": "2024-12-05T10:59:17.121Z"
   },
   {
    "duration": 12,
    "start_time": "2024-12-05T10:59:17.258Z"
   },
   {
    "duration": 135,
    "start_time": "2024-12-05T10:59:17.272Z"
   },
   {
    "duration": 10,
    "start_time": "2024-12-05T10:59:17.409Z"
   },
   {
    "duration": 138,
    "start_time": "2024-12-05T10:59:17.425Z"
   },
   {
    "duration": 9,
    "start_time": "2024-12-05T10:59:17.565Z"
   },
   {
    "duration": 52,
    "start_time": "2024-12-05T10:59:17.576Z"
   },
   {
    "duration": 3,
    "start_time": "2024-12-05T11:00:12.000Z"
   },
   {
    "duration": 1313,
    "start_time": "2024-12-05T11:06:44.159Z"
   },
   {
    "duration": 59,
    "start_time": "2024-12-05T11:06:45.474Z"
   },
   {
    "duration": 22,
    "start_time": "2024-12-05T11:06:45.534Z"
   },
   {
    "duration": 17,
    "start_time": "2024-12-05T11:06:45.558Z"
   },
   {
    "duration": 18,
    "start_time": "2024-12-05T11:06:45.576Z"
   },
   {
    "duration": 57,
    "start_time": "2024-12-05T11:06:45.596Z"
   },
   {
    "duration": 31,
    "start_time": "2024-12-05T11:06:45.654Z"
   },
   {
    "duration": 46,
    "start_time": "2024-12-05T11:06:45.687Z"
   },
   {
    "duration": 113,
    "start_time": "2024-12-05T11:06:45.735Z"
   },
   {
    "duration": 69,
    "start_time": "2024-12-05T11:06:45.851Z"
   },
   {
    "duration": 20,
    "start_time": "2024-12-05T11:06:45.922Z"
   },
   {
    "duration": 16,
    "start_time": "2024-12-05T11:06:45.944Z"
   },
   {
    "duration": 18,
    "start_time": "2024-12-05T11:06:45.962Z"
   },
   {
    "duration": 25,
    "start_time": "2024-12-05T11:06:45.982Z"
   },
   {
    "duration": 11,
    "start_time": "2024-12-05T11:06:46.009Z"
   },
   {
    "duration": 19,
    "start_time": "2024-12-05T11:06:46.022Z"
   },
   {
    "duration": 15,
    "start_time": "2024-12-05T11:06:46.043Z"
   },
   {
    "duration": 7,
    "start_time": "2024-12-05T11:06:46.061Z"
   },
   {
    "duration": 20,
    "start_time": "2024-12-05T11:06:46.070Z"
   },
   {
    "duration": 12,
    "start_time": "2024-12-05T11:06:46.092Z"
   },
   {
    "duration": 21,
    "start_time": "2024-12-05T11:06:46.108Z"
   },
   {
    "duration": 12,
    "start_time": "2024-12-05T11:06:46.131Z"
   },
   {
    "duration": 9,
    "start_time": "2024-12-05T11:06:46.145Z"
   },
   {
    "duration": 21,
    "start_time": "2024-12-05T11:06:46.156Z"
   },
   {
    "duration": 5,
    "start_time": "2024-12-05T11:06:46.179Z"
   },
   {
    "duration": 8,
    "start_time": "2024-12-05T11:06:46.186Z"
   },
   {
    "duration": 10,
    "start_time": "2024-12-05T11:06:46.196Z"
   },
   {
    "duration": 7,
    "start_time": "2024-12-05T11:06:46.212Z"
   },
   {
    "duration": 31,
    "start_time": "2024-12-05T11:06:46.221Z"
   },
   {
    "duration": 40,
    "start_time": "2024-12-05T11:06:46.254Z"
   },
   {
    "duration": 21,
    "start_time": "2024-12-05T11:06:46.297Z"
   },
   {
    "duration": 10,
    "start_time": "2024-12-05T11:06:46.320Z"
   },
   {
    "duration": 33,
    "start_time": "2024-12-05T11:06:46.332Z"
   },
   {
    "duration": 82,
    "start_time": "2024-12-05T11:06:46.367Z"
   },
   {
    "duration": 10,
    "start_time": "2024-12-05T11:06:46.451Z"
   },
   {
    "duration": 378,
    "start_time": "2024-12-05T11:06:46.463Z"
   },
   {
    "duration": 16,
    "start_time": "2024-12-05T11:06:46.843Z"
   },
   {
    "duration": 314,
    "start_time": "2024-12-05T11:06:46.861Z"
   },
   {
    "duration": 247,
    "start_time": "2024-12-05T11:06:47.177Z"
   },
   {
    "duration": 218,
    "start_time": "2024-12-05T11:06:47.426Z"
   },
   {
    "duration": 205,
    "start_time": "2024-12-05T11:06:47.649Z"
   },
   {
    "duration": 2,
    "start_time": "2024-12-05T11:06:47.856Z"
   },
   {
    "duration": 44,
    "start_time": "2024-12-05T11:06:47.860Z"
   },
   {
    "duration": 14,
    "start_time": "2024-12-05T11:06:47.906Z"
   },
   {
    "duration": 12,
    "start_time": "2024-12-05T11:06:47.923Z"
   },
   {
    "duration": 27,
    "start_time": "2024-12-05T11:06:47.937Z"
   },
   {
    "duration": 22,
    "start_time": "2024-12-05T11:06:47.966Z"
   },
   {
    "duration": 306,
    "start_time": "2024-12-05T11:06:47.990Z"
   },
   {
    "duration": 357,
    "start_time": "2024-12-05T11:06:48.298Z"
   },
   {
    "duration": 181,
    "start_time": "2024-12-05T11:06:48.657Z"
   },
   {
    "duration": 15,
    "start_time": "2024-12-05T11:06:48.839Z"
   },
   {
    "duration": 175,
    "start_time": "2024-12-05T11:06:48.856Z"
   },
   {
    "duration": 6,
    "start_time": "2024-12-05T11:06:49.032Z"
   },
   {
    "duration": 7,
    "start_time": "2024-12-05T11:06:49.040Z"
   },
   {
    "duration": 1124,
    "start_time": "2024-12-05T11:06:49.051Z"
   },
   {
    "duration": 4,
    "start_time": "2024-12-05T11:06:50.177Z"
   },
   {
    "duration": 1228,
    "start_time": "2024-12-05T11:06:50.183Z"
   },
   {
    "duration": 3,
    "start_time": "2024-12-05T11:06:51.414Z"
   },
   {
    "duration": 13,
    "start_time": "2024-12-05T11:06:51.419Z"
   },
   {
    "duration": 24,
    "start_time": "2024-12-05T11:06:51.434Z"
   },
   {
    "duration": 209,
    "start_time": "2024-12-05T11:06:51.459Z"
   },
   {
    "duration": 14,
    "start_time": "2024-12-05T11:06:51.670Z"
   },
   {
    "duration": 212,
    "start_time": "2024-12-05T11:06:51.686Z"
   },
   {
    "duration": 256,
    "start_time": "2024-12-05T11:06:51.900Z"
   },
   {
    "duration": 10,
    "start_time": "2024-12-05T11:06:52.158Z"
   },
   {
    "duration": 142,
    "start_time": "2024-12-05T11:06:52.170Z"
   },
   {
    "duration": 10,
    "start_time": "2024-12-05T11:06:52.314Z"
   },
   {
    "duration": 158,
    "start_time": "2024-12-05T11:06:52.326Z"
   },
   {
    "duration": 12,
    "start_time": "2024-12-05T11:06:52.486Z"
   },
   {
    "duration": 124,
    "start_time": "2024-12-05T11:06:52.500Z"
   },
   {
    "duration": 24,
    "start_time": "2024-12-05T11:06:52.626Z"
   },
   {
    "duration": 226,
    "start_time": "2024-12-05T11:06:52.652Z"
   },
   {
    "duration": 12,
    "start_time": "2024-12-05T11:06:52.881Z"
   },
   {
    "duration": 136,
    "start_time": "2024-12-05T11:06:52.895Z"
   },
   {
    "duration": 20,
    "start_time": "2024-12-05T11:06:53.034Z"
   },
   {
    "duration": 203,
    "start_time": "2024-12-05T11:06:53.056Z"
   },
   {
    "duration": 10,
    "start_time": "2024-12-05T11:06:53.261Z"
   },
   {
    "duration": 132,
    "start_time": "2024-12-05T11:06:53.273Z"
   },
   {
    "duration": 11,
    "start_time": "2024-12-05T11:06:53.407Z"
   },
   {
    "duration": 135,
    "start_time": "2024-12-05T11:06:53.420Z"
   },
   {
    "duration": 12,
    "start_time": "2024-12-05T11:06:53.557Z"
   },
   {
    "duration": 128,
    "start_time": "2024-12-05T11:06:53.576Z"
   },
   {
    "duration": 10,
    "start_time": "2024-12-05T11:06:53.706Z"
   },
   {
    "duration": 103,
    "start_time": "2024-12-05T11:06:53.719Z"
   },
   {
    "duration": 1245,
    "start_time": "2024-12-05T11:55:26.334Z"
   },
   {
    "duration": 135,
    "start_time": "2024-12-05T11:55:27.582Z"
   },
   {
    "duration": 21,
    "start_time": "2024-12-05T11:55:27.719Z"
   },
   {
    "duration": 42,
    "start_time": "2024-12-05T11:55:27.742Z"
   },
   {
    "duration": 14,
    "start_time": "2024-12-05T11:55:27.786Z"
   },
   {
    "duration": 15,
    "start_time": "2024-12-05T11:55:27.802Z"
   },
   {
    "duration": 36,
    "start_time": "2024-12-05T11:55:27.825Z"
   },
   {
    "duration": 5,
    "start_time": "2024-12-05T11:55:27.863Z"
   },
   {
    "duration": 14,
    "start_time": "2024-12-05T11:55:27.869Z"
   },
   {
    "duration": 6,
    "start_time": "2024-12-05T11:55:27.886Z"
   },
   {
    "duration": 29,
    "start_time": "2024-12-05T11:55:27.894Z"
   },
   {
    "duration": 16,
    "start_time": "2024-12-05T11:55:27.927Z"
   },
   {
    "duration": 22,
    "start_time": "2024-12-05T11:55:27.945Z"
   },
   {
    "duration": 39,
    "start_time": "2024-12-05T11:55:27.969Z"
   },
   {
    "duration": 20,
    "start_time": "2024-12-05T11:55:28.010Z"
   },
   {
    "duration": 24,
    "start_time": "2024-12-05T11:55:28.032Z"
   },
   {
    "duration": 56,
    "start_time": "2024-12-05T11:55:28.058Z"
   },
   {
    "duration": 13,
    "start_time": "2024-12-05T11:55:28.115Z"
   },
   {
    "duration": 19,
    "start_time": "2024-12-05T11:55:28.130Z"
   },
   {
    "duration": 16,
    "start_time": "2024-12-05T11:55:28.150Z"
   },
   {
    "duration": 13,
    "start_time": "2024-12-05T11:55:28.168Z"
   },
   {
    "duration": 32,
    "start_time": "2024-12-05T11:55:28.182Z"
   },
   {
    "duration": 9,
    "start_time": "2024-12-05T11:55:28.220Z"
   },
   {
    "duration": 14,
    "start_time": "2024-12-05T11:55:28.231Z"
   },
   {
    "duration": 27,
    "start_time": "2024-12-05T11:55:28.247Z"
   },
   {
    "duration": 37,
    "start_time": "2024-12-05T11:55:28.276Z"
   },
   {
    "duration": 15,
    "start_time": "2024-12-05T11:55:28.317Z"
   },
   {
    "duration": 40,
    "start_time": "2024-12-05T11:55:28.336Z"
   },
   {
    "duration": 88,
    "start_time": "2024-12-05T11:55:28.379Z"
   },
   {
    "duration": 39,
    "start_time": "2024-12-05T11:55:28.469Z"
   },
   {
    "duration": 34,
    "start_time": "2024-12-05T11:55:28.515Z"
   },
   {
    "duration": 76,
    "start_time": "2024-12-05T11:55:28.551Z"
   },
   {
    "duration": 111,
    "start_time": "2024-12-05T11:55:28.629Z"
   },
   {
    "duration": 209,
    "start_time": "2024-12-05T11:55:28.741Z"
   },
   {
    "duration": 22,
    "start_time": "2024-12-05T11:55:28.951Z"
   },
   {
    "duration": 398,
    "start_time": "2024-12-05T11:55:28.974Z"
   },
   {
    "duration": 30,
    "start_time": "2024-12-05T11:55:29.374Z"
   },
   {
    "duration": 320,
    "start_time": "2024-12-05T11:55:29.409Z"
   },
   {
    "duration": 230,
    "start_time": "2024-12-05T11:55:29.731Z"
   },
   {
    "duration": 235,
    "start_time": "2024-12-05T11:55:29.962Z"
   },
   {
    "duration": 226,
    "start_time": "2024-12-05T11:55:30.204Z"
   },
   {
    "duration": 3,
    "start_time": "2024-12-05T11:55:30.432Z"
   },
   {
    "duration": 94,
    "start_time": "2024-12-05T11:55:30.436Z"
   },
   {
    "duration": 284,
    "start_time": "2024-12-05T11:55:30.532Z"
   },
   {
    "duration": 158,
    "start_time": "2024-12-05T11:55:30.819Z"
   },
   {
    "duration": 149,
    "start_time": "2024-12-05T11:55:30.979Z"
   },
   {
    "duration": 17,
    "start_time": "2024-12-05T11:55:31.130Z"
   },
   {
    "duration": 389,
    "start_time": "2024-12-05T11:55:31.149Z"
   },
   {
    "duration": 342,
    "start_time": "2024-12-05T11:55:31.539Z"
   },
   {
    "duration": 181,
    "start_time": "2024-12-05T11:55:31.887Z"
   },
   {
    "duration": 5,
    "start_time": "2024-12-05T11:55:32.069Z"
   },
   {
    "duration": 204,
    "start_time": "2024-12-05T11:55:32.076Z"
   },
   {
    "duration": 8,
    "start_time": "2024-12-05T11:55:32.289Z"
   },
   {
    "duration": 15,
    "start_time": "2024-12-05T11:55:32.306Z"
   },
   {
    "duration": 1203,
    "start_time": "2024-12-05T11:55:32.322Z"
   },
   {
    "duration": 2,
    "start_time": "2024-12-05T11:55:33.527Z"
   },
   {
    "duration": 1298,
    "start_time": "2024-12-05T11:55:33.531Z"
   },
   {
    "duration": 3,
    "start_time": "2024-12-05T11:55:34.831Z"
   },
   {
    "duration": 106,
    "start_time": "2024-12-05T11:55:34.836Z"
   },
   {
    "duration": 25,
    "start_time": "2024-12-05T11:55:34.944Z"
   },
   {
    "duration": 249,
    "start_time": "2024-12-05T11:55:34.971Z"
   },
   {
    "duration": 12,
    "start_time": "2024-12-05T11:55:35.222Z"
   },
   {
    "duration": 42,
    "start_time": "2024-12-05T11:55:35.236Z"
   },
   {
    "duration": 270,
    "start_time": "2024-12-05T11:55:35.280Z"
   },
   {
    "duration": 9,
    "start_time": "2024-12-05T11:55:35.552Z"
   },
   {
    "duration": 167,
    "start_time": "2024-12-05T11:55:35.562Z"
   },
   {
    "duration": 10,
    "start_time": "2024-12-05T11:55:35.731Z"
   },
   {
    "duration": 214,
    "start_time": "2024-12-05T11:55:35.742Z"
   },
   {
    "duration": 9,
    "start_time": "2024-12-05T11:55:35.958Z"
   },
   {
    "duration": 146,
    "start_time": "2024-12-05T11:55:35.969Z"
   },
   {
    "duration": 15,
    "start_time": "2024-12-05T11:55:36.116Z"
   },
   {
    "duration": 291,
    "start_time": "2024-12-05T11:55:36.133Z"
   },
   {
    "duration": 10,
    "start_time": "2024-12-05T11:55:36.426Z"
   },
   {
    "duration": 189,
    "start_time": "2024-12-05T11:55:36.437Z"
   },
   {
    "duration": 9,
    "start_time": "2024-12-05T11:55:36.628Z"
   },
   {
    "duration": 183,
    "start_time": "2024-12-05T11:55:36.639Z"
   },
   {
    "duration": 10,
    "start_time": "2024-12-05T11:55:36.824Z"
   },
   {
    "duration": 226,
    "start_time": "2024-12-05T11:55:36.836Z"
   },
   {
    "duration": 9,
    "start_time": "2024-12-05T11:55:37.064Z"
   },
   {
    "duration": 177,
    "start_time": "2024-12-05T11:55:37.074Z"
   },
   {
    "duration": 10,
    "start_time": "2024-12-05T11:55:37.253Z"
   },
   {
    "duration": 155,
    "start_time": "2024-12-05T11:55:37.269Z"
   },
   {
    "duration": 9,
    "start_time": "2024-12-05T11:55:37.426Z"
   },
   {
    "duration": 27,
    "start_time": "2024-12-05T11:55:37.437Z"
   }
  ],
  "kernelspec": {
   "display_name": "Python 3 (ipykernel)",
   "language": "python",
   "name": "python3"
  },
  "language_info": {
   "codemirror_mode": {
    "name": "ipython",
    "version": 3
   },
   "file_extension": ".py",
   "mimetype": "text/x-python",
   "name": "python",
   "nbconvert_exporter": "python",
   "pygments_lexer": "ipython3",
   "version": "3.9.5"
  },
  "toc": {
   "base_numbering": 1,
   "nav_menu": {},
   "number_sections": true,
   "sideBar": true,
   "skip_h1_title": true,
   "title_cell": "Table of Contents",
   "title_sidebar": "Contents",
   "toc_cell": false,
   "toc_position": {},
   "toc_section_display": true,
   "toc_window_display": false
  }
 },
 "nbformat": 4,
 "nbformat_minor": 2
}
