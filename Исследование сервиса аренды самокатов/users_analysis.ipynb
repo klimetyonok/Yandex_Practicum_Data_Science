{
 "cells": [
  {
   "cell_type": "markdown",
   "id": "1ed3a94c",
   "metadata": {},
   "source": [
    "# Исследование сервиса аренды самокатов"
   ]
  },
  {
   "cell_type": "markdown",
   "id": "59f97338",
   "metadata": {},
   "source": [
    "**Описание проекта:**\\\n",
    "Чтобы совершать поездки по городу, пользователи сервиса аренды самокатов GoFast пользуются мобильным приложением. Сервисом можно пользоваться:\\\n",
    "без подписки\\\n",
    "абонентская плата отсутствует;\\\n",
    "стоимость одной минуты поездки — 8 рублей;\\\n",
    "стоимость старта (начала поездки) — 50 рублей;\\\n",
    "с подпиской Ultra\\\n",
    "абонентская плата — 199 рублей в месяц;\\\n",
    "стоимость одной минуты поездки — 6 рублей;\\\n",
    "стоимость старта — бесплатно.\n",
    "\n",
    "**Цель проекта:**\\\n",
    "Анализ данных о некоторых пользователях из нескольких городов и их поездках, а также проверка некоторых гипотез, которые могут помочь сервису аренды самокатов GoFast вырасти.\n",
    "\n",
    "**Описание данных:**\\\n",
    "В основных данных есть информация о пользователях, их поездках и подписках.\n",
    "\n",
    "Пользователи — users_go.csv:\\\n",
    "user_id - уникальный идентификатор пользователя\\\n",
    "name - имя пользователя\\\n",
    "age - возраст\\\n",
    "city - город\\\n",
    "subscription_type - тип подписки (free, ultra)\n",
    "\n",
    "Поездки — rides_go.csv\n",
    "user_id - уникальный идентификатор пользователя\\\n",
    "distance - расстояние, которое пользователь проехал в текущей сессии (в метрах)\\\n",
    "duration - продолжительность сессии (в минутах) — время с того момента, как пользователь нажал кнопку «Начать поездку» до момента, как он нажал кнопку «Завершить поездку»\\\n",
    "date - дата совершения поездки\n",
    "\n",
    "Подписки — subscriptions_go.csv\\\n",
    "subscription_type - тип подписки\\\n",
    "minute_price - стоимость одной минуты поездки по данной подписке\\\n",
    "start_ride_price - стоимость начала поездки\\\n",
    "subscription_fee - стоимость ежемесячного платежа\n",
    "\n",
    "**План исследования:**\n",
    "1. Загрузка данных\n",
    "2. Предобработка данных\n",
    "3. Исследовательский анализ данных\n",
    "4. Объединение данных\n",
    "5. Подсчет выручки\n",
    "6. Проверка гипотез\n",
    "7. Распределения"
   ]
  },
  {
   "cell_type": "markdown",
   "id": "facb44c2",
   "metadata": {},
   "source": [
    "#### Загружаем данные из csv-файла в датафреймы c помощью библиотеки pandas"
   ]
  },
  {
   "cell_type": "code",
   "execution_count": 1,
   "id": "ca6b48d9",
   "metadata": {},
   "outputs": [],
   "source": [
    "import pandas as pd\n",
    "import matplotlib.pyplot as plt\n",
    "import numpy as np \n",
    "from scipy import stats as st\n",
    "from scipy.stats import binom"
   ]
  },
  {
   "cell_type": "markdown",
   "id": "c42cbe00",
   "metadata": {},
   "source": [
    "#### Шаг 1. Загрузка данных"
   ]
  },
  {
   "cell_type": "markdown",
   "id": "c2cd5805",
   "metadata": {},
   "source": [
    "1.1 Считываем CSV-файлы с данными с помощью библиотеки pandas и сохраняем их в датафреймы."
   ]
  },
  {
   "cell_type": "code",
   "execution_count": 2,
   "id": "eff9f206",
   "metadata": {},
   "outputs": [],
   "source": [
    "try:\n",
    "    users = pd.read_csv('/datasets/users_go.csv', sep=',')\n",
    "    rides = pd.read_csv('/datasets/rides_go.csv', sep=',')\n",
    "    subscriptions = pd.read_csv('/datasets/subscriptions_go.csv', sep=',')\n",
    "except:\n",
    "    users = pd.read_csv('https://code.s3.yandex.net/datasets/users_go.csv', sep=',')\n",
    "    rides = pd.read_csv('https://code.s3.yandex.net/datasets/rides_go.csv', sep=',')\n",
    "    subscriptions = pd.read_csv('https://code.s3.yandex.net/datasets/subscriptions_go.csv', sep=',')"
   ]
  },
  {
   "cell_type": "markdown",
   "id": "6c49c680",
   "metadata": {},
   "source": [
    "1.2 Выводим первые строки каждого набора данных. Изучаем общую информацию о каждом датафрейме."
   ]
  },
  {
   "cell_type": "code",
   "execution_count": 3,
   "id": "adc068de",
   "metadata": {},
   "outputs": [
    {
     "data": {
      "text/html": [
       "<div>\n",
       "<style scoped>\n",
       "    .dataframe tbody tr th:only-of-type {\n",
       "        vertical-align: middle;\n",
       "    }\n",
       "\n",
       "    .dataframe tbody tr th {\n",
       "        vertical-align: top;\n",
       "    }\n",
       "\n",
       "    .dataframe thead th {\n",
       "        text-align: right;\n",
       "    }\n",
       "</style>\n",
       "<table border=\"1\" class=\"dataframe\">\n",
       "  <thead>\n",
       "    <tr style=\"text-align: right;\">\n",
       "      <th></th>\n",
       "      <th>user_id</th>\n",
       "      <th>name</th>\n",
       "      <th>age</th>\n",
       "      <th>city</th>\n",
       "      <th>subscription_type</th>\n",
       "    </tr>\n",
       "  </thead>\n",
       "  <tbody>\n",
       "    <tr>\n",
       "      <th>0</th>\n",
       "      <td>1</td>\n",
       "      <td>Кира</td>\n",
       "      <td>22</td>\n",
       "      <td>Тюмень</td>\n",
       "      <td>ultra</td>\n",
       "    </tr>\n",
       "    <tr>\n",
       "      <th>1</th>\n",
       "      <td>2</td>\n",
       "      <td>Станислав</td>\n",
       "      <td>31</td>\n",
       "      <td>Омск</td>\n",
       "      <td>ultra</td>\n",
       "    </tr>\n",
       "    <tr>\n",
       "      <th>2</th>\n",
       "      <td>3</td>\n",
       "      <td>Алексей</td>\n",
       "      <td>20</td>\n",
       "      <td>Москва</td>\n",
       "      <td>ultra</td>\n",
       "    </tr>\n",
       "    <tr>\n",
       "      <th>3</th>\n",
       "      <td>4</td>\n",
       "      <td>Константин</td>\n",
       "      <td>26</td>\n",
       "      <td>Ростов-на-Дону</td>\n",
       "      <td>ultra</td>\n",
       "    </tr>\n",
       "    <tr>\n",
       "      <th>4</th>\n",
       "      <td>5</td>\n",
       "      <td>Адель</td>\n",
       "      <td>28</td>\n",
       "      <td>Омск</td>\n",
       "      <td>ultra</td>\n",
       "    </tr>\n",
       "  </tbody>\n",
       "</table>\n",
       "</div>"
      ],
      "text/plain": [
       "   user_id        name  age            city subscription_type\n",
       "0        1        Кира   22          Тюмень             ultra\n",
       "1        2   Станислав   31            Омск             ultra\n",
       "2        3     Алексей   20          Москва             ultra\n",
       "3        4  Константин   26  Ростов-на-Дону             ultra\n",
       "4        5       Адель   28            Омск             ultra"
      ]
     },
     "execution_count": 3,
     "metadata": {},
     "output_type": "execute_result"
    }
   ],
   "source": [
    "# выводим первые строки датафреймов users, rides, subscriptions на экран:\n",
    "users.head()"
   ]
  },
  {
   "cell_type": "code",
   "execution_count": 4,
   "id": "2de4bc5b",
   "metadata": {},
   "outputs": [
    {
     "data": {
      "text/html": [
       "<div>\n",
       "<style scoped>\n",
       "    .dataframe tbody tr th:only-of-type {\n",
       "        vertical-align: middle;\n",
       "    }\n",
       "\n",
       "    .dataframe tbody tr th {\n",
       "        vertical-align: top;\n",
       "    }\n",
       "\n",
       "    .dataframe thead th {\n",
       "        text-align: right;\n",
       "    }\n",
       "</style>\n",
       "<table border=\"1\" class=\"dataframe\">\n",
       "  <thead>\n",
       "    <tr style=\"text-align: right;\">\n",
       "      <th></th>\n",
       "      <th>user_id</th>\n",
       "      <th>distance</th>\n",
       "      <th>duration</th>\n",
       "      <th>date</th>\n",
       "    </tr>\n",
       "  </thead>\n",
       "  <tbody>\n",
       "    <tr>\n",
       "      <th>0</th>\n",
       "      <td>1</td>\n",
       "      <td>4409.919140</td>\n",
       "      <td>25.599769</td>\n",
       "      <td>2021-01-01</td>\n",
       "    </tr>\n",
       "    <tr>\n",
       "      <th>1</th>\n",
       "      <td>1</td>\n",
       "      <td>2617.592153</td>\n",
       "      <td>15.816871</td>\n",
       "      <td>2021-01-18</td>\n",
       "    </tr>\n",
       "    <tr>\n",
       "      <th>2</th>\n",
       "      <td>1</td>\n",
       "      <td>754.159807</td>\n",
       "      <td>6.232113</td>\n",
       "      <td>2021-04-20</td>\n",
       "    </tr>\n",
       "    <tr>\n",
       "      <th>3</th>\n",
       "      <td>1</td>\n",
       "      <td>2694.783254</td>\n",
       "      <td>18.511000</td>\n",
       "      <td>2021-08-11</td>\n",
       "    </tr>\n",
       "    <tr>\n",
       "      <th>4</th>\n",
       "      <td>1</td>\n",
       "      <td>4028.687306</td>\n",
       "      <td>26.265803</td>\n",
       "      <td>2021-08-28</td>\n",
       "    </tr>\n",
       "  </tbody>\n",
       "</table>\n",
       "</div>"
      ],
      "text/plain": [
       "   user_id     distance   duration        date\n",
       "0        1  4409.919140  25.599769  2021-01-01\n",
       "1        1  2617.592153  15.816871  2021-01-18\n",
       "2        1   754.159807   6.232113  2021-04-20\n",
       "3        1  2694.783254  18.511000  2021-08-11\n",
       "4        1  4028.687306  26.265803  2021-08-28"
      ]
     },
     "execution_count": 4,
     "metadata": {},
     "output_type": "execute_result"
    }
   ],
   "source": [
    "rides.head()"
   ]
  },
  {
   "cell_type": "code",
   "execution_count": 5,
   "id": "9a15bfca",
   "metadata": {},
   "outputs": [
    {
     "data": {
      "text/html": [
       "<div>\n",
       "<style scoped>\n",
       "    .dataframe tbody tr th:only-of-type {\n",
       "        vertical-align: middle;\n",
       "    }\n",
       "\n",
       "    .dataframe tbody tr th {\n",
       "        vertical-align: top;\n",
       "    }\n",
       "\n",
       "    .dataframe thead th {\n",
       "        text-align: right;\n",
       "    }\n",
       "</style>\n",
       "<table border=\"1\" class=\"dataframe\">\n",
       "  <thead>\n",
       "    <tr style=\"text-align: right;\">\n",
       "      <th></th>\n",
       "      <th>subscription_type</th>\n",
       "      <th>minute_price</th>\n",
       "      <th>start_ride_price</th>\n",
       "      <th>subscription_fee</th>\n",
       "    </tr>\n",
       "  </thead>\n",
       "  <tbody>\n",
       "    <tr>\n",
       "      <th>0</th>\n",
       "      <td>free</td>\n",
       "      <td>8</td>\n",
       "      <td>50</td>\n",
       "      <td>0</td>\n",
       "    </tr>\n",
       "    <tr>\n",
       "      <th>1</th>\n",
       "      <td>ultra</td>\n",
       "      <td>6</td>\n",
       "      <td>0</td>\n",
       "      <td>199</td>\n",
       "    </tr>\n",
       "  </tbody>\n",
       "</table>\n",
       "</div>"
      ],
      "text/plain": [
       "  subscription_type  minute_price  start_ride_price  subscription_fee\n",
       "0              free             8                50                 0\n",
       "1             ultra             6                 0               199"
      ]
     },
     "execution_count": 5,
     "metadata": {},
     "output_type": "execute_result"
    }
   ],
   "source": [
    "subscriptions.head()"
   ]
  },
  {
   "cell_type": "code",
   "execution_count": 6,
   "id": "af9f84ec",
   "metadata": {},
   "outputs": [
    {
     "name": "stdout",
     "output_type": "stream",
     "text": [
      "<class 'pandas.core.frame.DataFrame'>\n",
      "RangeIndex: 1565 entries, 0 to 1564\n",
      "Data columns (total 5 columns):\n",
      " #   Column             Non-Null Count  Dtype \n",
      "---  ------             --------------  ----- \n",
      " 0   user_id            1565 non-null   int64 \n",
      " 1   name               1565 non-null   object\n",
      " 2   age                1565 non-null   int64 \n",
      " 3   city               1565 non-null   object\n",
      " 4   subscription_type  1565 non-null   object\n",
      "dtypes: int64(2), object(3)\n",
      "memory usage: 61.3+ KB\n"
     ]
    }
   ],
   "source": [
    "# выводим основную информацию о датафреймах users, rides, subscriptions:\n",
    "users.info()"
   ]
  },
  {
   "cell_type": "code",
   "execution_count": 7,
   "id": "92272e18",
   "metadata": {},
   "outputs": [
    {
     "name": "stdout",
     "output_type": "stream",
     "text": [
      "<class 'pandas.core.frame.DataFrame'>\n",
      "RangeIndex: 18068 entries, 0 to 18067\n",
      "Data columns (total 4 columns):\n",
      " #   Column    Non-Null Count  Dtype  \n",
      "---  ------    --------------  -----  \n",
      " 0   user_id   18068 non-null  int64  \n",
      " 1   distance  18068 non-null  float64\n",
      " 2   duration  18068 non-null  float64\n",
      " 3   date      18068 non-null  object \n",
      "dtypes: float64(2), int64(1), object(1)\n",
      "memory usage: 564.8+ KB\n"
     ]
    }
   ],
   "source": [
    "rides.info()"
   ]
  },
  {
   "cell_type": "code",
   "execution_count": 8,
   "id": "eabf9a2a",
   "metadata": {},
   "outputs": [
    {
     "name": "stdout",
     "output_type": "stream",
     "text": [
      "<class 'pandas.core.frame.DataFrame'>\n",
      "RangeIndex: 2 entries, 0 to 1\n",
      "Data columns (total 4 columns):\n",
      " #   Column             Non-Null Count  Dtype \n",
      "---  ------             --------------  ----- \n",
      " 0   subscription_type  2 non-null      object\n",
      " 1   minute_price       2 non-null      int64 \n",
      " 2   start_ride_price   2 non-null      int64 \n",
      " 3   subscription_fee   2 non-null      int64 \n",
      "dtypes: int64(3), object(1)\n",
      "memory usage: 192.0+ bytes\n"
     ]
    }
   ],
   "source": [
    "subscriptions.info()"
   ]
  },
  {
   "cell_type": "markdown",
   "id": "072cbde3",
   "metadata": {},
   "source": [
    "**Вывод:**\\\n",
    "В датафрейме users 1 565 записей, в датафреме rides 18 068 записей, в датафрейме subscriptions 2 записи."
   ]
  },
  {
   "cell_type": "markdown",
   "id": "e95ebca7",
   "metadata": {},
   "source": [
    "#### Шаг 2. Предобработка данных"
   ]
  },
  {
   "cell_type": "markdown",
   "id": "91a248dc",
   "metadata": {},
   "source": [
    "2.1 Приводим столбец date к типу даты pandas."
   ]
  },
  {
   "cell_type": "code",
   "execution_count": 9,
   "id": "1e5a2fee",
   "metadata": {},
   "outputs": [],
   "source": [
    "# приводим столбец date в датафрейме rides к типу даты pandas:\n",
    "rides['date'] = pd.to_datetime(rides['date'], format='%Y-%m-%dT%H:%M:%S')"
   ]
  },
  {
   "cell_type": "code",
   "execution_count": 10,
   "id": "8e502ad5",
   "metadata": {},
   "outputs": [
    {
     "name": "stdout",
     "output_type": "stream",
     "text": [
      "<class 'pandas.core.frame.DataFrame'>\n",
      "RangeIndex: 18068 entries, 0 to 18067\n",
      "Data columns (total 4 columns):\n",
      " #   Column    Non-Null Count  Dtype         \n",
      "---  ------    --------------  -----         \n",
      " 0   user_id   18068 non-null  int64         \n",
      " 1   distance  18068 non-null  float64       \n",
      " 2   duration  18068 non-null  float64       \n",
      " 3   date      18068 non-null  datetime64[ns]\n",
      "dtypes: datetime64[ns](1), float64(2), int64(1)\n",
      "memory usage: 564.8 KB\n"
     ]
    }
   ],
   "source": [
    "# проверим новый тип данных:\n",
    "rides.info()"
   ]
  },
  {
   "cell_type": "markdown",
   "id": "88cbadb3",
   "metadata": {},
   "source": [
    "2.2 Создаем новый столбец с номером месяца на основе столбца date."
   ]
  },
  {
   "cell_type": "code",
   "execution_count": 11,
   "id": "3730b1a2",
   "metadata": {},
   "outputs": [
    {
     "data": {
      "text/plain": [
       "Timestamp('2021-01-01 00:00:00')"
      ]
     },
     "execution_count": 11,
     "metadata": {},
     "output_type": "execute_result"
    }
   ],
   "source": [
    "# проверяем за какой период данные в датасете:\n",
    "rides['date'].min()"
   ]
  },
  {
   "cell_type": "code",
   "execution_count": 12,
   "id": "5d7fe59a",
   "metadata": {},
   "outputs": [
    {
     "data": {
      "text/plain": [
       "Timestamp('2021-12-30 00:00:00')"
      ]
     },
     "execution_count": 12,
     "metadata": {},
     "output_type": "execute_result"
    }
   ],
   "source": [
    "rides['date'].max()"
   ]
  },
  {
   "cell_type": "code",
   "execution_count": 13,
   "id": "1cf9a0f8",
   "metadata": {},
   "outputs": [],
   "source": [
    "# создаем новый столбец с номером месяца:\n",
    "rides['month'] = rides['date'].dt.month"
   ]
  },
  {
   "cell_type": "code",
   "execution_count": 14,
   "id": "d9ef7f9a",
   "metadata": {},
   "outputs": [
    {
     "data": {
      "text/html": [
       "<div>\n",
       "<style scoped>\n",
       "    .dataframe tbody tr th:only-of-type {\n",
       "        vertical-align: middle;\n",
       "    }\n",
       "\n",
       "    .dataframe tbody tr th {\n",
       "        vertical-align: top;\n",
       "    }\n",
       "\n",
       "    .dataframe thead th {\n",
       "        text-align: right;\n",
       "    }\n",
       "</style>\n",
       "<table border=\"1\" class=\"dataframe\">\n",
       "  <thead>\n",
       "    <tr style=\"text-align: right;\">\n",
       "      <th></th>\n",
       "      <th>user_id</th>\n",
       "      <th>distance</th>\n",
       "      <th>duration</th>\n",
       "      <th>date</th>\n",
       "      <th>month</th>\n",
       "    </tr>\n",
       "  </thead>\n",
       "  <tbody>\n",
       "    <tr>\n",
       "      <th>0</th>\n",
       "      <td>1</td>\n",
       "      <td>4409.919140</td>\n",
       "      <td>25.599769</td>\n",
       "      <td>2021-01-01</td>\n",
       "      <td>1</td>\n",
       "    </tr>\n",
       "    <tr>\n",
       "      <th>1</th>\n",
       "      <td>1</td>\n",
       "      <td>2617.592153</td>\n",
       "      <td>15.816871</td>\n",
       "      <td>2021-01-18</td>\n",
       "      <td>1</td>\n",
       "    </tr>\n",
       "    <tr>\n",
       "      <th>2</th>\n",
       "      <td>1</td>\n",
       "      <td>754.159807</td>\n",
       "      <td>6.232113</td>\n",
       "      <td>2021-04-20</td>\n",
       "      <td>4</td>\n",
       "    </tr>\n",
       "    <tr>\n",
       "      <th>3</th>\n",
       "      <td>1</td>\n",
       "      <td>2694.783254</td>\n",
       "      <td>18.511000</td>\n",
       "      <td>2021-08-11</td>\n",
       "      <td>8</td>\n",
       "    </tr>\n",
       "    <tr>\n",
       "      <th>4</th>\n",
       "      <td>1</td>\n",
       "      <td>4028.687306</td>\n",
       "      <td>26.265803</td>\n",
       "      <td>2021-08-28</td>\n",
       "      <td>8</td>\n",
       "    </tr>\n",
       "  </tbody>\n",
       "</table>\n",
       "</div>"
      ],
      "text/plain": [
       "   user_id     distance   duration       date  month\n",
       "0        1  4409.919140  25.599769 2021-01-01      1\n",
       "1        1  2617.592153  15.816871 2021-01-18      1\n",
       "2        1   754.159807   6.232113 2021-04-20      4\n",
       "3        1  2694.783254  18.511000 2021-08-11      8\n",
       "4        1  4028.687306  26.265803 2021-08-28      8"
      ]
     },
     "execution_count": 14,
     "metadata": {},
     "output_type": "execute_result"
    }
   ],
   "source": [
    "# просмотрим первые строки датасета с новым столбцом: \n",
    "rides.head()"
   ]
  },
  {
   "cell_type": "markdown",
   "id": "f06d32bc",
   "metadata": {},
   "source": [
    "2.3 Проверка наличия пропущенных значений и дубликатов в датафреймах, их обработка."
   ]
  },
  {
   "cell_type": "code",
   "execution_count": 15,
   "id": "b92c64f7",
   "metadata": {},
   "outputs": [
    {
     "data": {
      "text/plain": [
       "user_id              0\n",
       "name                 0\n",
       "age                  0\n",
       "city                 0\n",
       "subscription_type    0\n",
       "dtype: int64"
      ]
     },
     "execution_count": 15,
     "metadata": {},
     "output_type": "execute_result"
    }
   ],
   "source": [
    "# проверяем наличие пропущенных значений в датафреймах:\n",
    "users.isna().sum()"
   ]
  },
  {
   "cell_type": "code",
   "execution_count": 16,
   "id": "e7803e99",
   "metadata": {},
   "outputs": [
    {
     "data": {
      "text/plain": [
       "user_id     0\n",
       "distance    0\n",
       "duration    0\n",
       "date        0\n",
       "month       0\n",
       "dtype: int64"
      ]
     },
     "execution_count": 16,
     "metadata": {},
     "output_type": "execute_result"
    }
   ],
   "source": [
    "rides.isna().sum()"
   ]
  },
  {
   "cell_type": "code",
   "execution_count": 17,
   "id": "9140cf17",
   "metadata": {},
   "outputs": [
    {
     "data": {
      "text/plain": [
       "subscription_type    0\n",
       "minute_price         0\n",
       "start_ride_price     0\n",
       "subscription_fee     0\n",
       "dtype: int64"
      ]
     },
     "execution_count": 17,
     "metadata": {},
     "output_type": "execute_result"
    }
   ],
   "source": [
    "subscriptions.isna().sum()"
   ]
  },
  {
   "cell_type": "code",
   "execution_count": 18,
   "id": "44ed619d",
   "metadata": {},
   "outputs": [
    {
     "data": {
      "text/plain": [
       "31"
      ]
     },
     "execution_count": 18,
     "metadata": {},
     "output_type": "execute_result"
    }
   ],
   "source": [
    "# поиск дубликатов в датафреймах:\n",
    "users.duplicated().sum()"
   ]
  },
  {
   "cell_type": "code",
   "execution_count": 19,
   "id": "e76dc1f1",
   "metadata": {},
   "outputs": [
    {
     "data": {
      "text/plain": [
       "0"
      ]
     },
     "execution_count": 19,
     "metadata": {},
     "output_type": "execute_result"
    }
   ],
   "source": [
    "rides.duplicated().sum()"
   ]
  },
  {
   "cell_type": "code",
   "execution_count": 20,
   "id": "c114afc6",
   "metadata": {},
   "outputs": [
    {
     "data": {
      "text/plain": [
       "0"
      ]
     },
     "execution_count": 20,
     "metadata": {},
     "output_type": "execute_result"
    }
   ],
   "source": [
    "subscriptions.duplicated().sum()"
   ]
  },
  {
   "cell_type": "code",
   "execution_count": 21,
   "id": "2f659d94",
   "metadata": {},
   "outputs": [],
   "source": [
    "# удаляем явные дубликаты:\n",
    "users = users.drop_duplicates().reset_index(drop=True) "
   ]
  },
  {
   "cell_type": "code",
   "execution_count": 22,
   "id": "d96c6912",
   "metadata": {},
   "outputs": [
    {
     "data": {
      "text/plain": [
       "0"
      ]
     },
     "execution_count": 22,
     "metadata": {},
     "output_type": "execute_result"
    }
   ],
   "source": [
    "# проверяем удалены ли дубликаты:\n",
    "users.duplicated().sum()"
   ]
  },
  {
   "cell_type": "code",
   "execution_count": 23,
   "id": "cac30cad",
   "metadata": {},
   "outputs": [],
   "source": [
    "# округляем данные в столбце distance в датафрейме rides до 2 знаков:\n",
    "rides['distance'] = rides['distance'].round(2)"
   ]
  },
  {
   "cell_type": "code",
   "execution_count": 24,
   "id": "6d1d423e",
   "metadata": {},
   "outputs": [],
   "source": [
    "# округляем каждое значение в столбце duration с помощью метода np.ceil:\n",
    "rides['duration'] = np.ceil(rides['duration'])"
   ]
  },
  {
   "cell_type": "code",
   "execution_count": 25,
   "id": "c31b23bf",
   "metadata": {},
   "outputs": [
    {
     "data": {
      "text/plain": [
       "count    18068.000000\n",
       "mean        18.303520\n",
       "std          6.094928\n",
       "min          1.000000\n",
       "25%         14.000000\n",
       "50%         18.000000\n",
       "75%         22.000000\n",
       "max         41.000000\n",
       "Name: duration, dtype: float64"
      ]
     },
     "execution_count": 25,
     "metadata": {},
     "output_type": "execute_result"
    }
   ],
   "source": [
    "# описание столбца duration датафрейма rides:\n",
    "rides['duration'].describe()"
   ]
  },
  {
   "cell_type": "markdown",
   "id": "b7949100",
   "metadata": {},
   "source": [
    "**Вывод:**\n",
    "1. Привели столбец date в датафрейме rides к типу даты pandas.\n",
    "2. Создали новый столбец с номером месяца на основе столбца date.\n",
    "3. Пропусков в данных нет, все данные заполнены.\\\n",
    "Однако, в датафрейме users найден 31 дубликат. Удаляем их методом drop_duplicates().\n",
    "Округлили данные в столбце distance в датафрейме rides до 2 знаков.\\\n",
    "Округлили каждое значение в столбце duration с помощью метода np.ceil.\\\n",
    "Аномалий в столбце с длительностью поездок в таблице с информацией о поездках не обнаружено."
   ]
  },
  {
   "cell_type": "markdown",
   "id": "212593c7",
   "metadata": {},
   "source": [
    "#### Шаг 3. Исследовательский анализ данных"
   ]
  },
  {
   "cell_type": "markdown",
   "id": "84df87e8",
   "metadata": {},
   "source": [
    "3.1 Описание и визуализация частоты встречаемости городов."
   ]
  },
  {
   "cell_type": "code",
   "execution_count": 26,
   "id": "b47bb959",
   "metadata": {},
   "outputs": [],
   "source": [
    "# формируем сводную таблицу:\n",
    "pivot_users_city = users.pivot_table(index='city', \n",
    "                                values='user_id',\n",
    "                                aggfunc='count')\\\n",
    "                   .sort_values(by='user_id', ascending=False)"
   ]
  },
  {
   "cell_type": "code",
   "execution_count": 27,
   "id": "e3a4274c",
   "metadata": {},
   "outputs": [
    {
     "data": {
      "image/png": "[encoded data removed]",
      "text/plain": [
       "<Figure size 432x288 with 1 Axes>"
      ]
     },
     "metadata": {
      "needs_background": "light"
     },
     "output_type": "display_data"
    }
   ],
   "source": [
    "# строим график:\n",
    "pivot_users_city.plot(kind='bar')\n",
    "plt.title('Количество пользователей по городам')\n",
    "plt.xlabel('Города')\n",
    "plt.ylabel('Количество пользователей')\n",
    "\n",
    "for index, value in enumerate(pivot_users_city.values):  \n",
    "    plt.text(index, value, str(value), ha='center', va='bottom')\n",
    "\n",
    "plt.show()"
   ]
  },
  {
   "cell_type": "markdown",
   "id": "644f585d",
   "metadata": {},
   "source": [
    "**Промежуточный вывод:**\\\n",
    "Самым часто встречающимся городом является Пятигорск, далее идут Екатеринбург и Ростов-на-Дону."
   ]
  },
  {
   "cell_type": "markdown",
   "id": "11397bab",
   "metadata": {},
   "source": [
    "3.2 Описание и визуализация соотношения пользователей с подпиской и без подписки."
   ]
  },
  {
   "cell_type": "code",
   "execution_count": 28,
   "id": "bb56ca23",
   "metadata": {},
   "outputs": [],
   "source": [
    "# формируем сводную таблицу:\n",
    "pivot_users_subscription = users.pivot_table(index='subscription_type', \n",
    "                                values='user_id',\n",
    "                                aggfunc='count')"
   ]
  },
  {
   "cell_type": "code",
   "execution_count": 29,
   "id": "bc3c1aaa",
   "metadata": {},
   "outputs": [
    {
     "data": {
      "image/png": "[encoded data removed]",
      "text/plain": [
       "<Figure size 432x288 with 1 Axes>"
      ]
     },
     "metadata": {},
     "output_type": "display_data"
    }
   ],
   "source": [
    "# строим диаграмму:\n",
    "pivot_users_subscription.plot(kind='pie',\n",
    "                              subplots=True,\n",
    "                              autopct='%1.1f%%',\n",
    "                              labels=('Пользователи без подписки', 'Пользователи с подпиской'),\n",
    "                              startangle=90)\n",
    "plt.title('Соотношения пользователей с подпиской и без подписки к общему количеству')\n",
    "plt.ylabel('')\n",
    "plt.show()"
   ]
  },
  {
   "cell_type": "markdown",
   "id": "344d27d2",
   "metadata": {},
   "source": [
    "**Промежуточный вывод:**\\\n",
    "Как показывает диаграмма, пользователей без подписки больше, чем пользователей с подпиской. Их соотношение в % равно 54,1% и 45,9% соответственно."
   ]
  },
  {
   "cell_type": "markdown",
   "id": "ae6be841",
   "metadata": {},
   "source": [
    "3.3 Описание и визуализация возраста пользователей."
   ]
  },
  {
   "cell_type": "code",
   "execution_count": 30,
   "id": "84337b31",
   "metadata": {},
   "outputs": [],
   "source": [
    "# формируем сводную таблицу:\n",
    "pivot_users = users.pivot_table(index='age', values='user_id',aggfunc='count')\\\n",
    "                   .sort_values(by='age')"
   ]
  },
  {
   "cell_type": "code",
   "execution_count": 31,
   "id": "1b2cf10a",
   "metadata": {},
   "outputs": [
    {
     "data": {
      "text/plain": [
       "count    1534.000000\n",
       "mean       24.903520\n",
       "std         4.572367\n",
       "min        12.000000\n",
       "25%        22.000000\n",
       "50%        25.000000\n",
       "75%        28.000000\n",
       "max        43.000000\n",
       "Name: age, dtype: float64"
      ]
     },
     "execution_count": 31,
     "metadata": {},
     "output_type": "execute_result"
    }
   ],
   "source": [
    "# описание столбца age датафрейма users:\n",
    "users['age'].describe()"
   ]
  },
  {
   "cell_type": "code",
   "execution_count": 32,
   "id": "22714de3",
   "metadata": {},
   "outputs": [
    {
     "data": {
      "image/png": "[encoded data removed]",
      "text/plain": [
       "<Figure size 432x288 with 1 Axes>"
      ]
     },
     "metadata": {
      "needs_background": "light"
     },
     "output_type": "display_data"
    }
   ],
   "source": [
    "# строим график:\n",
    "pivot_users.plot(kind='bar')\n",
    "plt.title('Количество пользователей по возрасту')\n",
    "plt.xlabel('Возраст')\n",
    "plt.ylabel('Количество пользователей')\n",
    "plt.show()"
   ]
  },
  {
   "cell_type": "markdown",
   "id": "4028b662",
   "metadata": {},
   "source": [
    "**Промежуточный вывод:**\\\n",
    "Наибольшее количество пользователей в возрасте 22-28 лет. Средний возраст пользователя примерно 25 лет. Есть пользователи возраста 12-17 лет, вероятнее всего, использование сервиса услуг аренды самокатов в таком возрасте является нарушением действующих правил аренды самокатов."
   ]
  },
  {
   "cell_type": "markdown",
   "id": "76c46025",
   "metadata": {},
   "source": [
    "3.4 Описание и визуализация расстояния, которое пользователь преодолел за одну поездку."
   ]
  },
  {
   "cell_type": "code",
   "execution_count": 33,
   "id": "697af01f",
   "metadata": {},
   "outputs": [
    {
     "data": {
      "text/plain": [
       "count    18068.000000\n",
       "mean      3070.659992\n",
       "std       1116.831222\n",
       "min          0.860000\n",
       "25%       2543.227500\n",
       "50%       3133.610000\n",
       "75%       3776.220000\n",
       "max       7211.010000\n",
       "Name: distance, dtype: float64"
      ]
     },
     "execution_count": 33,
     "metadata": {},
     "output_type": "execute_result"
    }
   ],
   "source": [
    "# описание столбца distance датафрейма rides:\n",
    "rides['distance'].describe()"
   ]
  },
  {
   "cell_type": "code",
   "execution_count": 34,
   "id": "3bb873fe",
   "metadata": {},
   "outputs": [
    {
     "data": {
      "image/png": "[encoded data removed]",
      "text/plain": [
       "<Figure size 432x288 with 1 Axes>"
      ]
     },
     "metadata": {
      "needs_background": "light"
     },
     "output_type": "display_data"
    }
   ],
   "source": [
    "# строим график:\n",
    "rides['distance'].hist(bins=100)\n",
    "plt.title('Количество пользователей по расстояниям, которые пользователь преодолел за одну поездку')\n",
    "plt.xlabel('Расстояние')\n",
    "plt.ylabel('Количество пользователей')\n",
    "plt.show()"
   ]
  },
  {
   "cell_type": "markdown",
   "id": "a9e53230",
   "metadata": {},
   "source": [
    "**Промежуточный вывод:**\\\n",
    "Среднее растояние, которое пользователь преодолевает за одну поездку, составляет 3 071 метр."
   ]
  },
  {
   "cell_type": "markdown",
   "id": "9f5181b9",
   "metadata": {},
   "source": [
    "3.5 Описание и визуализация продолжительности поездок."
   ]
  },
  {
   "cell_type": "code",
   "execution_count": 35,
   "id": "5fc7f3f7",
   "metadata": {},
   "outputs": [
    {
     "data": {
      "text/plain": [
       "count    18068.000000\n",
       "mean        18.303520\n",
       "std          6.094928\n",
       "min          1.000000\n",
       "25%         14.000000\n",
       "50%         18.000000\n",
       "75%         22.000000\n",
       "max         41.000000\n",
       "Name: duration, dtype: float64"
      ]
     },
     "execution_count": 35,
     "metadata": {},
     "output_type": "execute_result"
    }
   ],
   "source": [
    "# описание столбца duration датафрейма rides:\n",
    "rides['duration'].describe()"
   ]
  },
  {
   "cell_type": "code",
   "execution_count": 36,
   "id": "2c7e7c5d",
   "metadata": {
    "scrolled": false
   },
   "outputs": [
    {
     "data": {
      "image/png": "[encoded data removed]",
      "text/plain": [
       "<Figure size 432x288 with 1 Axes>"
      ]
     },
     "metadata": {
      "needs_background": "light"
     },
     "output_type": "display_data"
    }
   ],
   "source": [
    "# строим график:\n",
    "rides['duration'].hist(bins=100)\n",
    "plt.title('Количество пользователей по продолжительности поездок')\n",
    "plt.xlabel('Продолжительность поездки')\n",
    "plt.ylabel('Количество пользователей')\n",
    "plt.show()"
   ]
  },
  {
   "cell_type": "markdown",
   "id": "4bd14cd3",
   "metadata": {},
   "source": [
    "**Промежуточный вывод:**\\\n",
    "Средняя продолжительность поездки составляет 17 мин."
   ]
  },
  {
   "cell_type": "markdown",
   "id": "950e1667",
   "metadata": {},
   "source": [
    "**Вывод:**\n",
    "1. Самым часто встречающимся городом является Пятигорск, далее идут Екатеринбург и Ростов-на-Дону.\n",
    "2. Как показывает диаграмма, пользователей без подписки больше, чем пользователей с подпиской. Их соотношение в % равно 54,1% и 45,9% соответственно.\n",
    "3. Наибольшее количество пользователей в возрасте 22-28 лет. Средний возраст пользователя примерно 25 лет.\n",
    "4. Среднее растояние, которое пользователь преодолевает за одну поездку, составляет 3071м.\n",
    "5. Средняя продолжительность поездки составляет 17 мин."
   ]
  },
  {
   "cell_type": "markdown",
   "id": "4ef51331",
   "metadata": {},
   "source": [
    "#### Шаг 4. Объединение данных"
   ]
  },
  {
   "cell_type": "markdown",
   "id": "777f41f0",
   "metadata": {},
   "source": [
    "4.1 Объединение данных о пользователях, поездках и подписках в один датафрейм"
   ]
  },
  {
   "cell_type": "code",
   "execution_count": 37,
   "id": "fa1098a8",
   "metadata": {},
   "outputs": [],
   "source": [
    "# объединение данных о пользователях и поездках в один датафрейм \n",
    "# методом merge():\n",
    "data = users.merge(rides, on='user_id')"
   ]
  },
  {
   "cell_type": "code",
   "execution_count": 38,
   "id": "bdf27908",
   "metadata": {},
   "outputs": [],
   "source": [
    "# объединение данных о пользователях, поездках и подписках в один датафрейм\n",
    "# методом merge():\n",
    "data = data.merge(subscriptions, on='subscription_type')"
   ]
  },
  {
   "cell_type": "code",
   "execution_count": 39,
   "id": "673e1eae",
   "metadata": {},
   "outputs": [
    {
     "data": {
      "text/plain": [
       "0"
      ]
     },
     "execution_count": 39,
     "metadata": {},
     "output_type": "execute_result"
    }
   ],
   "source": [
    "# поиск дубликатов в объединенном датафрейме:\n",
    "data.duplicated().sum()"
   ]
  },
  {
   "cell_type": "code",
   "execution_count": 40,
   "id": "610ec234",
   "metadata": {},
   "outputs": [
    {
     "name": "stdout",
     "output_type": "stream",
     "text": [
      "<class 'pandas.core.frame.DataFrame'>\n",
      "Int64Index: 18068 entries, 0 to 18067\n",
      "Data columns (total 12 columns):\n",
      " #   Column             Non-Null Count  Dtype         \n",
      "---  ------             --------------  -----         \n",
      " 0   user_id            18068 non-null  int64         \n",
      " 1   name               18068 non-null  object        \n",
      " 2   age                18068 non-null  int64         \n",
      " 3   city               18068 non-null  object        \n",
      " 4   subscription_type  18068 non-null  object        \n",
      " 5   distance           18068 non-null  float64       \n",
      " 6   duration           18068 non-null  float64       \n",
      " 7   date               18068 non-null  datetime64[ns]\n",
      " 8   month              18068 non-null  int64         \n",
      " 9   minute_price       18068 non-null  int64         \n",
      " 10  start_ride_price   18068 non-null  int64         \n",
      " 11  subscription_fee   18068 non-null  int64         \n",
      "dtypes: datetime64[ns](1), float64(2), int64(6), object(3)\n",
      "memory usage: 1.8+ MB\n"
     ]
    }
   ],
   "source": [
    "# просмотр основной информации об объединенном датафрейме:\n",
    "data.info() "
   ]
  },
  {
   "cell_type": "code",
   "execution_count": 41,
   "id": "1adef8b4",
   "metadata": {},
   "outputs": [
    {
     "data": {
      "text/plain": [
       "0"
      ]
     },
     "execution_count": 41,
     "metadata": {},
     "output_type": "execute_result"
    }
   ],
   "source": [
    "# поиск дубликатов в объединенном датафрейме:\n",
    "data.duplicated().sum()"
   ]
  },
  {
   "cell_type": "code",
   "execution_count": 42,
   "id": "2c11c216",
   "metadata": {},
   "outputs": [
    {
     "data": {
      "text/html": [
       "<div>\n",
       "<style scoped>\n",
       "    .dataframe tbody tr th:only-of-type {\n",
       "        vertical-align: middle;\n",
       "    }\n",
       "\n",
       "    .dataframe tbody tr th {\n",
       "        vertical-align: top;\n",
       "    }\n",
       "\n",
       "    .dataframe thead th {\n",
       "        text-align: right;\n",
       "    }\n",
       "</style>\n",
       "<table border=\"1\" class=\"dataframe\">\n",
       "  <thead>\n",
       "    <tr style=\"text-align: right;\">\n",
       "      <th></th>\n",
       "      <th>user_id</th>\n",
       "      <th>name</th>\n",
       "      <th>age</th>\n",
       "      <th>city</th>\n",
       "      <th>subscription_type</th>\n",
       "      <th>distance</th>\n",
       "      <th>duration</th>\n",
       "      <th>date</th>\n",
       "      <th>month</th>\n",
       "      <th>minute_price</th>\n",
       "      <th>start_ride_price</th>\n",
       "      <th>subscription_fee</th>\n",
       "    </tr>\n",
       "  </thead>\n",
       "  <tbody>\n",
       "    <tr>\n",
       "      <th>0</th>\n",
       "      <td>1</td>\n",
       "      <td>Кира</td>\n",
       "      <td>22</td>\n",
       "      <td>Тюмень</td>\n",
       "      <td>ultra</td>\n",
       "      <td>4409.92</td>\n",
       "      <td>26.0</td>\n",
       "      <td>2021-01-01</td>\n",
       "      <td>1</td>\n",
       "      <td>6</td>\n",
       "      <td>0</td>\n",
       "      <td>199</td>\n",
       "    </tr>\n",
       "    <tr>\n",
       "      <th>1</th>\n",
       "      <td>1</td>\n",
       "      <td>Кира</td>\n",
       "      <td>22</td>\n",
       "      <td>Тюмень</td>\n",
       "      <td>ultra</td>\n",
       "      <td>2617.59</td>\n",
       "      <td>16.0</td>\n",
       "      <td>2021-01-18</td>\n",
       "      <td>1</td>\n",
       "      <td>6</td>\n",
       "      <td>0</td>\n",
       "      <td>199</td>\n",
       "    </tr>\n",
       "    <tr>\n",
       "      <th>2</th>\n",
       "      <td>1</td>\n",
       "      <td>Кира</td>\n",
       "      <td>22</td>\n",
       "      <td>Тюмень</td>\n",
       "      <td>ultra</td>\n",
       "      <td>754.16</td>\n",
       "      <td>7.0</td>\n",
       "      <td>2021-04-20</td>\n",
       "      <td>4</td>\n",
       "      <td>6</td>\n",
       "      <td>0</td>\n",
       "      <td>199</td>\n",
       "    </tr>\n",
       "    <tr>\n",
       "      <th>3</th>\n",
       "      <td>1</td>\n",
       "      <td>Кира</td>\n",
       "      <td>22</td>\n",
       "      <td>Тюмень</td>\n",
       "      <td>ultra</td>\n",
       "      <td>2694.78</td>\n",
       "      <td>19.0</td>\n",
       "      <td>2021-08-11</td>\n",
       "      <td>8</td>\n",
       "      <td>6</td>\n",
       "      <td>0</td>\n",
       "      <td>199</td>\n",
       "    </tr>\n",
       "    <tr>\n",
       "      <th>4</th>\n",
       "      <td>1</td>\n",
       "      <td>Кира</td>\n",
       "      <td>22</td>\n",
       "      <td>Тюмень</td>\n",
       "      <td>ultra</td>\n",
       "      <td>4028.69</td>\n",
       "      <td>27.0</td>\n",
       "      <td>2021-08-28</td>\n",
       "      <td>8</td>\n",
       "      <td>6</td>\n",
       "      <td>0</td>\n",
       "      <td>199</td>\n",
       "    </tr>\n",
       "  </tbody>\n",
       "</table>\n",
       "</div>"
      ],
      "text/plain": [
       "   user_id  name  age    city subscription_type  distance  duration  \\\n",
       "0        1  Кира   22  Тюмень             ultra   4409.92      26.0   \n",
       "1        1  Кира   22  Тюмень             ultra   2617.59      16.0   \n",
       "2        1  Кира   22  Тюмень             ultra    754.16       7.0   \n",
       "3        1  Кира   22  Тюмень             ultra   2694.78      19.0   \n",
       "4        1  Кира   22  Тюмень             ultra   4028.69      27.0   \n",
       "\n",
       "        date  month  minute_price  start_ride_price  subscription_fee  \n",
       "0 2021-01-01      1             6                 0               199  \n",
       "1 2021-01-18      1             6                 0               199  \n",
       "2 2021-04-20      4             6                 0               199  \n",
       "3 2021-08-11      8             6                 0               199  \n",
       "4 2021-08-28      8             6                 0               199  "
      ]
     },
     "execution_count": 42,
     "metadata": {},
     "output_type": "execute_result"
    }
   ],
   "source": [
    "# выводим первые строки объединенного датафрейма:\n",
    "data.head()"
   ]
  },
  {
   "cell_type": "markdown",
   "id": "bde2c41a",
   "metadata": {},
   "source": [
    "4.2 Создание датафреймов c данными о пользователях без подписки и с данными о пользователях с подпиской из датафрейма, созданного на этапе 4.1."
   ]
  },
  {
   "cell_type": "code",
   "execution_count": 43,
   "id": "dd843ada",
   "metadata": {},
   "outputs": [],
   "source": [
    "# создание датафрейма c данными о пользователях без подписки:\n",
    "data_free = data[data['subscription_type'] == 'free']"
   ]
  },
  {
   "cell_type": "code",
   "execution_count": 44,
   "id": "bb7b24c9",
   "metadata": {
    "scrolled": true
   },
   "outputs": [
    {
     "data": {
      "text/html": [
       "<div>\n",
       "<style scoped>\n",
       "    .dataframe tbody tr th:only-of-type {\n",
       "        vertical-align: middle;\n",
       "    }\n",
       "\n",
       "    .dataframe tbody tr th {\n",
       "        vertical-align: top;\n",
       "    }\n",
       "\n",
       "    .dataframe thead th {\n",
       "        text-align: right;\n",
       "    }\n",
       "</style>\n",
       "<table border=\"1\" class=\"dataframe\">\n",
       "  <thead>\n",
       "    <tr style=\"text-align: right;\">\n",
       "      <th></th>\n",
       "      <th>user_id</th>\n",
       "      <th>name</th>\n",
       "      <th>age</th>\n",
       "      <th>city</th>\n",
       "      <th>subscription_type</th>\n",
       "      <th>distance</th>\n",
       "      <th>duration</th>\n",
       "      <th>date</th>\n",
       "      <th>month</th>\n",
       "      <th>minute_price</th>\n",
       "      <th>start_ride_price</th>\n",
       "      <th>subscription_fee</th>\n",
       "    </tr>\n",
       "  </thead>\n",
       "  <tbody>\n",
       "    <tr>\n",
       "      <th>6500</th>\n",
       "      <td>700</td>\n",
       "      <td>Айдар</td>\n",
       "      <td>22</td>\n",
       "      <td>Омск</td>\n",
       "      <td>free</td>\n",
       "      <td>2515.69</td>\n",
       "      <td>15.0</td>\n",
       "      <td>2021-01-02</td>\n",
       "      <td>1</td>\n",
       "      <td>8</td>\n",
       "      <td>50</td>\n",
       "      <td>0</td>\n",
       "    </tr>\n",
       "    <tr>\n",
       "      <th>6501</th>\n",
       "      <td>700</td>\n",
       "      <td>Айдар</td>\n",
       "      <td>22</td>\n",
       "      <td>Омск</td>\n",
       "      <td>free</td>\n",
       "      <td>846.93</td>\n",
       "      <td>17.0</td>\n",
       "      <td>2021-02-01</td>\n",
       "      <td>2</td>\n",
       "      <td>8</td>\n",
       "      <td>50</td>\n",
       "      <td>0</td>\n",
       "    </tr>\n",
       "    <tr>\n",
       "      <th>6502</th>\n",
       "      <td>700</td>\n",
       "      <td>Айдар</td>\n",
       "      <td>22</td>\n",
       "      <td>Омск</td>\n",
       "      <td>free</td>\n",
       "      <td>4004.43</td>\n",
       "      <td>21.0</td>\n",
       "      <td>2021-02-04</td>\n",
       "      <td>2</td>\n",
       "      <td>8</td>\n",
       "      <td>50</td>\n",
       "      <td>0</td>\n",
       "    </tr>\n",
       "    <tr>\n",
       "      <th>6503</th>\n",
       "      <td>700</td>\n",
       "      <td>Айдар</td>\n",
       "      <td>22</td>\n",
       "      <td>Омск</td>\n",
       "      <td>free</td>\n",
       "      <td>1205.91</td>\n",
       "      <td>10.0</td>\n",
       "      <td>2021-02-10</td>\n",
       "      <td>2</td>\n",
       "      <td>8</td>\n",
       "      <td>50</td>\n",
       "      <td>0</td>\n",
       "    </tr>\n",
       "    <tr>\n",
       "      <th>6504</th>\n",
       "      <td>700</td>\n",
       "      <td>Айдар</td>\n",
       "      <td>22</td>\n",
       "      <td>Омск</td>\n",
       "      <td>free</td>\n",
       "      <td>3047.38</td>\n",
       "      <td>18.0</td>\n",
       "      <td>2021-02-14</td>\n",
       "      <td>2</td>\n",
       "      <td>8</td>\n",
       "      <td>50</td>\n",
       "      <td>0</td>\n",
       "    </tr>\n",
       "  </tbody>\n",
       "</table>\n",
       "</div>"
      ],
      "text/plain": [
       "      user_id   name  age  city subscription_type  distance  duration  \\\n",
       "6500      700  Айдар   22  Омск              free   2515.69      15.0   \n",
       "6501      700  Айдар   22  Омск              free    846.93      17.0   \n",
       "6502      700  Айдар   22  Омск              free   4004.43      21.0   \n",
       "6503      700  Айдар   22  Омск              free   1205.91      10.0   \n",
       "6504      700  Айдар   22  Омск              free   3047.38      18.0   \n",
       "\n",
       "           date  month  minute_price  start_ride_price  subscription_fee  \n",
       "6500 2021-01-02      1             8                50                 0  \n",
       "6501 2021-02-01      2             8                50                 0  \n",
       "6502 2021-02-04      2             8                50                 0  \n",
       "6503 2021-02-10      2             8                50                 0  \n",
       "6504 2021-02-14      2             8                50                 0  "
      ]
     },
     "execution_count": 44,
     "metadata": {},
     "output_type": "execute_result"
    }
   ],
   "source": [
    "# выводим первые строки датафрейма data_free:\n",
    "data_free.head()"
   ]
  },
  {
   "cell_type": "code",
   "execution_count": 45,
   "id": "2332c8f7",
   "metadata": {},
   "outputs": [],
   "source": [
    "# создание датафрейма c данными о пользователях с подпиской:\n",
    "data_ultra = data[data['subscription_type'] == 'ultra']"
   ]
  },
  {
   "cell_type": "code",
   "execution_count": 46,
   "id": "67c51fee",
   "metadata": {
    "scrolled": true
   },
   "outputs": [
    {
     "data": {
      "text/html": [
       "<div>\n",
       "<style scoped>\n",
       "    .dataframe tbody tr th:only-of-type {\n",
       "        vertical-align: middle;\n",
       "    }\n",
       "\n",
       "    .dataframe tbody tr th {\n",
       "        vertical-align: top;\n",
       "    }\n",
       "\n",
       "    .dataframe thead th {\n",
       "        text-align: right;\n",
       "    }\n",
       "</style>\n",
       "<table border=\"1\" class=\"dataframe\">\n",
       "  <thead>\n",
       "    <tr style=\"text-align: right;\">\n",
       "      <th></th>\n",
       "      <th>user_id</th>\n",
       "      <th>name</th>\n",
       "      <th>age</th>\n",
       "      <th>city</th>\n",
       "      <th>subscription_type</th>\n",
       "      <th>distance</th>\n",
       "      <th>duration</th>\n",
       "      <th>date</th>\n",
       "      <th>month</th>\n",
       "      <th>minute_price</th>\n",
       "      <th>start_ride_price</th>\n",
       "      <th>subscription_fee</th>\n",
       "    </tr>\n",
       "  </thead>\n",
       "  <tbody>\n",
       "    <tr>\n",
       "      <th>0</th>\n",
       "      <td>1</td>\n",
       "      <td>Кира</td>\n",
       "      <td>22</td>\n",
       "      <td>Тюмень</td>\n",
       "      <td>ultra</td>\n",
       "      <td>4409.92</td>\n",
       "      <td>26.0</td>\n",
       "      <td>2021-01-01</td>\n",
       "      <td>1</td>\n",
       "      <td>6</td>\n",
       "      <td>0</td>\n",
       "      <td>199</td>\n",
       "    </tr>\n",
       "    <tr>\n",
       "      <th>1</th>\n",
       "      <td>1</td>\n",
       "      <td>Кира</td>\n",
       "      <td>22</td>\n",
       "      <td>Тюмень</td>\n",
       "      <td>ultra</td>\n",
       "      <td>2617.59</td>\n",
       "      <td>16.0</td>\n",
       "      <td>2021-01-18</td>\n",
       "      <td>1</td>\n",
       "      <td>6</td>\n",
       "      <td>0</td>\n",
       "      <td>199</td>\n",
       "    </tr>\n",
       "    <tr>\n",
       "      <th>2</th>\n",
       "      <td>1</td>\n",
       "      <td>Кира</td>\n",
       "      <td>22</td>\n",
       "      <td>Тюмень</td>\n",
       "      <td>ultra</td>\n",
       "      <td>754.16</td>\n",
       "      <td>7.0</td>\n",
       "      <td>2021-04-20</td>\n",
       "      <td>4</td>\n",
       "      <td>6</td>\n",
       "      <td>0</td>\n",
       "      <td>199</td>\n",
       "    </tr>\n",
       "    <tr>\n",
       "      <th>3</th>\n",
       "      <td>1</td>\n",
       "      <td>Кира</td>\n",
       "      <td>22</td>\n",
       "      <td>Тюмень</td>\n",
       "      <td>ultra</td>\n",
       "      <td>2694.78</td>\n",
       "      <td>19.0</td>\n",
       "      <td>2021-08-11</td>\n",
       "      <td>8</td>\n",
       "      <td>6</td>\n",
       "      <td>0</td>\n",
       "      <td>199</td>\n",
       "    </tr>\n",
       "    <tr>\n",
       "      <th>4</th>\n",
       "      <td>1</td>\n",
       "      <td>Кира</td>\n",
       "      <td>22</td>\n",
       "      <td>Тюмень</td>\n",
       "      <td>ultra</td>\n",
       "      <td>4028.69</td>\n",
       "      <td>27.0</td>\n",
       "      <td>2021-08-28</td>\n",
       "      <td>8</td>\n",
       "      <td>6</td>\n",
       "      <td>0</td>\n",
       "      <td>199</td>\n",
       "    </tr>\n",
       "  </tbody>\n",
       "</table>\n",
       "</div>"
      ],
      "text/plain": [
       "   user_id  name  age    city subscription_type  distance  duration  \\\n",
       "0        1  Кира   22  Тюмень             ultra   4409.92      26.0   \n",
       "1        1  Кира   22  Тюмень             ultra   2617.59      16.0   \n",
       "2        1  Кира   22  Тюмень             ultra    754.16       7.0   \n",
       "3        1  Кира   22  Тюмень             ultra   2694.78      19.0   \n",
       "4        1  Кира   22  Тюмень             ultra   4028.69      27.0   \n",
       "\n",
       "        date  month  minute_price  start_ride_price  subscription_fee  \n",
       "0 2021-01-01      1             6                 0               199  \n",
       "1 2021-01-18      1             6                 0               199  \n",
       "2 2021-04-20      4             6                 0               199  \n",
       "3 2021-08-11      8             6                 0               199  \n",
       "4 2021-08-28      8             6                 0               199  "
      ]
     },
     "execution_count": 46,
     "metadata": {},
     "output_type": "execute_result"
    }
   ],
   "source": [
    "# выводим первые строки датафрейма data_ultra:\n",
    "data_ultra.head()"
   ]
  },
  {
   "cell_type": "markdown",
   "id": "84879c0f",
   "metadata": {},
   "source": [
    "4.3 Визуализизация информации о расстоянии и времени поездок для пользователей категорий без подписки и с подпиской."
   ]
  },
  {
   "cell_type": "code",
   "execution_count": 47,
   "id": "d2088cc7",
   "metadata": {
    "scrolled": true
   },
   "outputs": [
    {
     "data": {
      "image/png": "[encoded data removed]",
      "text/plain": [
       "<Figure size 432x288 with 1 Axes>"
      ]
     },
     "metadata": {
      "needs_background": "light"
     },
     "output_type": "display_data"
    }
   ],
   "source": [
    "# строим графики расстояний поездок пользователей без подписки и с подпиской:\n",
    "data_free['distance'].hist(bins=50, label='Без подписки')\n",
    "data_ultra['distance'].hist(bins=50, label='С подпиской')\n",
    "plt.title('Количество поездок по расстояниям')\n",
    "plt.xlabel('Расстояние')\n",
    "plt.ylabel('Количество поездок')\n",
    "plt.legend()\n",
    "plt.show()"
   ]
  },
  {
   "cell_type": "code",
   "execution_count": 48,
   "id": "19e0163e",
   "metadata": {},
   "outputs": [
    {
     "data": {
      "text/plain": [
       "count    11568.000000\n",
       "mean      3045.495284\n",
       "std       1246.173810\n",
       "min          0.860000\n",
       "25%       2366.560000\n",
       "50%       3114.650000\n",
       "75%       3905.695000\n",
       "max       7211.010000\n",
       "Name: distance, dtype: float64"
      ]
     },
     "execution_count": 48,
     "metadata": {},
     "output_type": "execute_result"
    }
   ],
   "source": [
    "# описание столбца distance датафрейма data_free:\n",
    "data_free['distance'].describe()"
   ]
  },
  {
   "cell_type": "code",
   "execution_count": 49,
   "id": "874c5a55",
   "metadata": {
    "scrolled": true
   },
   "outputs": [],
   "source": [
    "# строим график расстояний поездок пользователей с подпиской:\n",
    "# data_ultra['distance'].hist();\n",
    "#plt.xlabel('distance');"
   ]
  },
  {
   "cell_type": "code",
   "execution_count": 50,
   "id": "a2d2c815",
   "metadata": {},
   "outputs": [
    {
     "data": {
      "text/plain": [
       "count    6500.000000\n",
       "mean     3115.445431\n",
       "std       836.895369\n",
       "min       244.210000\n",
       "25%      2785.447500\n",
       "50%      3148.640000\n",
       "75%      3560.577500\n",
       "max      5699.770000\n",
       "Name: distance, dtype: float64"
      ]
     },
     "execution_count": 50,
     "metadata": {},
     "output_type": "execute_result"
    }
   ],
   "source": [
    "# описание столбца distance датафрейма data_ultra:\n",
    "data_ultra['distance'].describe()"
   ]
  },
  {
   "cell_type": "code",
   "execution_count": 51,
   "id": "3ad97be3",
   "metadata": {},
   "outputs": [
    {
     "data": {
      "image/png": "[encoded data removed]",
      "text/plain": [
       "<Figure size 432x288 with 1 Axes>"
      ]
     },
     "metadata": {
      "needs_background": "light"
     },
     "output_type": "display_data"
    }
   ],
   "source": [
    "# строим графики времени поездок пользователей без подписки и с подпиской:\n",
    "data_free['duration'].hist(bins=40, label='Без подписки')\n",
    "data_ultra['duration'].hist(bins=40, label='С подпиской')\n",
    "plt.title('Количество поездок по продолжительности времени')\n",
    "plt.xlabel('Продолжительность поездки')\n",
    "plt.ylabel('Количество поездок')\n",
    "plt.legend()\n",
    "plt.show()"
   ]
  },
  {
   "cell_type": "code",
   "execution_count": 52,
   "id": "5cb61368",
   "metadata": {},
   "outputs": [
    {
     "data": {
      "text/plain": [
       "count    11568.000000\n",
       "mean        17.890992\n",
       "std          6.330250\n",
       "min          1.000000\n",
       "25%         13.000000\n",
       "50%         18.000000\n",
       "75%         22.000000\n",
       "max         35.000000\n",
       "Name: duration, dtype: float64"
      ]
     },
     "execution_count": 52,
     "metadata": {},
     "output_type": "execute_result"
    }
   ],
   "source": [
    "# описание столбца duration датафрейма data_free:\n",
    "data_free['duration'].describe()"
   ]
  },
  {
   "cell_type": "code",
   "execution_count": 54,
   "id": "f98b7628",
   "metadata": {},
   "outputs": [
    {
     "data": {
      "text/plain": [
       "count    6500.000000\n",
       "mean       19.037692\n",
       "std         5.577439\n",
       "min         4.000000\n",
       "25%        15.000000\n",
       "50%        19.000000\n",
       "75%        22.000000\n",
       "max        41.000000\n",
       "Name: duration, dtype: float64"
      ]
     },
     "execution_count": 54,
     "metadata": {},
     "output_type": "execute_result"
    }
   ],
   "source": [
    "# описание столбца duration датафрейма data_ultra:\n",
    "data_ultra['duration'].describe()"
   ]
  },
  {
   "cell_type": "markdown",
   "id": "8b6cc5b3",
   "metadata": {},
   "source": [
    "**Вывод:**\n",
    "1. Объединение данных о пользователях, поездках и подписках в один датафрейм проведено успешно. Количество строк объединенной таблицы соответствует количеству строк в таблице с максимальным количеством строк, 18 068 в таблице rides. Явные дубликаты отсутствуют.\n",
    "2. Создали два датафрейма c данными о пользователях без подписки и с данными о пользователях с подпиской из датафрейма, созданного на предыдущем этапе.\n",
    "3. Как показывают графики и описание расстояний поездок пользователей, среднее значение расстояний поездок пользователей с подпиской составляет 3 115 м, что выше среднего значения расстояний поездок пользователей без подписки, которое составило 3 045 м. Таким образом, при наличии подписки пользователи проезжают в среднем большее расстояние.\\\n",
    "Как показывают графики и описание времени поездок пользователей, среднее значение продолжительности поездок пользователей с подпиской составляет 18 мин., что выше среднего значения продолжительности поездок пользователей без подписки, которое составило 17 мин. Таким образом, средняя продолжительность поездки пользователей с подпиской больше, чем пользователей без подписки."
   ]
  },
  {
   "cell_type": "markdown",
   "id": "402d620f",
   "metadata": {},
   "source": [
    "#### Шаг 5. Подсчёт выручки"
   ]
  },
  {
   "cell_type": "markdown",
   "id": "6f374e06",
   "metadata": {},
   "source": [
    "5.1 Создание датафрейма с агрегированными данными о поездках на основе датафрейма с объединёнными данными из шага 4: поиск суммарного расстояния, количества поездок и суммарного времени для каждого пользователя за каждый месяц."
   ]
  },
  {
   "cell_type": "code",
   "execution_count": 55,
   "id": "3e2d06cf",
   "metadata": {},
   "outputs": [],
   "source": [
    "# создание таблицы с суммарным расстоянием, количеством поездок и \n",
    "# суммарным временем для каждого пользователя за каждый месяц:\n",
    "data_month = data.groupby(['user_id', 'month']).agg(\n",
    "    distance = ('distance', 'sum'),\n",
    "    count = ('distance', 'count'),\n",
    "    duration = ('duration', 'sum'),\n",
    "    start_ride_price = ('start_ride_price', 'mean'),\n",
    "    minute_price = ('minute_price', 'mean'),\n",
    "    subscription_fee = ('subscription_fee', 'mean')\n",
    ").reset_index()"
   ]
  },
  {
   "cell_type": "code",
   "execution_count": 56,
   "id": "054c32a9",
   "metadata": {},
   "outputs": [
    {
     "data": {
      "text/plain": [
       "user_id             0\n",
       "month               0\n",
       "distance            0\n",
       "count               0\n",
       "duration            0\n",
       "start_ride_price    0\n",
       "minute_price        0\n",
       "subscription_fee    0\n",
       "dtype: int64"
      ]
     },
     "execution_count": 56,
     "metadata": {},
     "output_type": "execute_result"
    }
   ],
   "source": [
    "# проверяем наличие пропущенных значений:\n",
    "data_month.isna().sum()"
   ]
  },
  {
   "cell_type": "code",
   "execution_count": 57,
   "id": "572bff00",
   "metadata": {
    "scrolled": true
   },
   "outputs": [
    {
     "data": {
      "text/html": [
       "<div>\n",
       "<style scoped>\n",
       "    .dataframe tbody tr th:only-of-type {\n",
       "        vertical-align: middle;\n",
       "    }\n",
       "\n",
       "    .dataframe tbody tr th {\n",
       "        vertical-align: top;\n",
       "    }\n",
       "\n",
       "    .dataframe thead th {\n",
       "        text-align: right;\n",
       "    }\n",
       "</style>\n",
       "<table border=\"1\" class=\"dataframe\">\n",
       "  <thead>\n",
       "    <tr style=\"text-align: right;\">\n",
       "      <th></th>\n",
       "      <th>user_id</th>\n",
       "      <th>month</th>\n",
       "      <th>distance</th>\n",
       "      <th>count</th>\n",
       "      <th>duration</th>\n",
       "      <th>start_ride_price</th>\n",
       "      <th>minute_price</th>\n",
       "      <th>subscription_fee</th>\n",
       "    </tr>\n",
       "  </thead>\n",
       "  <tbody>\n",
       "    <tr>\n",
       "      <th>0</th>\n",
       "      <td>1</td>\n",
       "      <td>1</td>\n",
       "      <td>7027.51</td>\n",
       "      <td>2</td>\n",
       "      <td>42.0</td>\n",
       "      <td>0</td>\n",
       "      <td>6</td>\n",
       "      <td>199</td>\n",
       "    </tr>\n",
       "    <tr>\n",
       "      <th>1</th>\n",
       "      <td>1</td>\n",
       "      <td>4</td>\n",
       "      <td>754.16</td>\n",
       "      <td>1</td>\n",
       "      <td>7.0</td>\n",
       "      <td>0</td>\n",
       "      <td>6</td>\n",
       "      <td>199</td>\n",
       "    </tr>\n",
       "    <tr>\n",
       "      <th>2</th>\n",
       "      <td>1</td>\n",
       "      <td>8</td>\n",
       "      <td>6723.47</td>\n",
       "      <td>2</td>\n",
       "      <td>46.0</td>\n",
       "      <td>0</td>\n",
       "      <td>6</td>\n",
       "      <td>199</td>\n",
       "    </tr>\n",
       "    <tr>\n",
       "      <th>3</th>\n",
       "      <td>1</td>\n",
       "      <td>10</td>\n",
       "      <td>5809.91</td>\n",
       "      <td>2</td>\n",
       "      <td>32.0</td>\n",
       "      <td>0</td>\n",
       "      <td>6</td>\n",
       "      <td>199</td>\n",
       "    </tr>\n",
       "    <tr>\n",
       "      <th>4</th>\n",
       "      <td>1</td>\n",
       "      <td>11</td>\n",
       "      <td>7003.50</td>\n",
       "      <td>3</td>\n",
       "      <td>56.0</td>\n",
       "      <td>0</td>\n",
       "      <td>6</td>\n",
       "      <td>199</td>\n",
       "    </tr>\n",
       "  </tbody>\n",
       "</table>\n",
       "</div>"
      ],
      "text/plain": [
       "   user_id  month  distance  count  duration  start_ride_price  minute_price  \\\n",
       "0        1      1   7027.51      2      42.0                 0             6   \n",
       "1        1      4    754.16      1       7.0                 0             6   \n",
       "2        1      8   6723.47      2      46.0                 0             6   \n",
       "3        1     10   5809.91      2      32.0                 0             6   \n",
       "4        1     11   7003.50      3      56.0                 0             6   \n",
       "\n",
       "   subscription_fee  \n",
       "0               199  \n",
       "1               199  \n",
       "2               199  \n",
       "3               199  \n",
       "4               199  "
      ]
     },
     "execution_count": 57,
     "metadata": {},
     "output_type": "execute_result"
    }
   ],
   "source": [
    "# просмотр первых строк таблицы:\n",
    "data_month.head()"
   ]
  },
  {
   "cell_type": "markdown",
   "id": "39306585",
   "metadata": {},
   "source": [
    "5.2 Добавление в созданную в п. 5.1 таблицу столбца с помесячной выручкой, которую принёс каждый пользователь."
   ]
  },
  {
   "cell_type": "code",
   "execution_count": 59,
   "id": "7c0c6cd9",
   "metadata": {},
   "outputs": [],
   "source": [
    "# функция для расчета выручки:\n",
    "def calculate_revenue(row):\n",
    "    revenue = (row['start_ride_price']*row['count'] + \\\n",
    "               row['minute_price']*row['duration'] + \\\n",
    "               row['subscription_fee'])\n",
    "    return revenue"
   ]
  },
  {
   "cell_type": "code",
   "execution_count": 60,
   "id": "172e7977",
   "metadata": {},
   "outputs": [],
   "source": [
    "# добавление в датафрейм data_month столбца с помесячной выручкой,\n",
    "# которую принёс каждый пользователь:\n",
    "data_month['revenue'] = data_month.apply(calculate_revenue, axis=1)"
   ]
  },
  {
   "cell_type": "code",
   "execution_count": 61,
   "id": "69b687d4",
   "metadata": {},
   "outputs": [
    {
     "data": {
      "text/html": [
       "<div>\n",
       "<style scoped>\n",
       "    .dataframe tbody tr th:only-of-type {\n",
       "        vertical-align: middle;\n",
       "    }\n",
       "\n",
       "    .dataframe tbody tr th {\n",
       "        vertical-align: top;\n",
       "    }\n",
       "\n",
       "    .dataframe thead th {\n",
       "        text-align: right;\n",
       "    }\n",
       "</style>\n",
       "<table border=\"1\" class=\"dataframe\">\n",
       "  <thead>\n",
       "    <tr style=\"text-align: right;\">\n",
       "      <th></th>\n",
       "      <th>user_id</th>\n",
       "      <th>month</th>\n",
       "      <th>distance</th>\n",
       "      <th>count</th>\n",
       "      <th>duration</th>\n",
       "      <th>start_ride_price</th>\n",
       "      <th>minute_price</th>\n",
       "      <th>subscription_fee</th>\n",
       "      <th>revenue</th>\n",
       "    </tr>\n",
       "  </thead>\n",
       "  <tbody>\n",
       "    <tr>\n",
       "      <th>0</th>\n",
       "      <td>1</td>\n",
       "      <td>1</td>\n",
       "      <td>7027.51</td>\n",
       "      <td>2</td>\n",
       "      <td>42.0</td>\n",
       "      <td>0</td>\n",
       "      <td>6</td>\n",
       "      <td>199</td>\n",
       "      <td>451.0</td>\n",
       "    </tr>\n",
       "    <tr>\n",
       "      <th>1</th>\n",
       "      <td>1</td>\n",
       "      <td>4</td>\n",
       "      <td>754.16</td>\n",
       "      <td>1</td>\n",
       "      <td>7.0</td>\n",
       "      <td>0</td>\n",
       "      <td>6</td>\n",
       "      <td>199</td>\n",
       "      <td>241.0</td>\n",
       "    </tr>\n",
       "    <tr>\n",
       "      <th>2</th>\n",
       "      <td>1</td>\n",
       "      <td>8</td>\n",
       "      <td>6723.47</td>\n",
       "      <td>2</td>\n",
       "      <td>46.0</td>\n",
       "      <td>0</td>\n",
       "      <td>6</td>\n",
       "      <td>199</td>\n",
       "      <td>475.0</td>\n",
       "    </tr>\n",
       "    <tr>\n",
       "      <th>3</th>\n",
       "      <td>1</td>\n",
       "      <td>10</td>\n",
       "      <td>5809.91</td>\n",
       "      <td>2</td>\n",
       "      <td>32.0</td>\n",
       "      <td>0</td>\n",
       "      <td>6</td>\n",
       "      <td>199</td>\n",
       "      <td>391.0</td>\n",
       "    </tr>\n",
       "    <tr>\n",
       "      <th>4</th>\n",
       "      <td>1</td>\n",
       "      <td>11</td>\n",
       "      <td>7003.50</td>\n",
       "      <td>3</td>\n",
       "      <td>56.0</td>\n",
       "      <td>0</td>\n",
       "      <td>6</td>\n",
       "      <td>199</td>\n",
       "      <td>535.0</td>\n",
       "    </tr>\n",
       "  </tbody>\n",
       "</table>\n",
       "</div>"
      ],
      "text/plain": [
       "   user_id  month  distance  count  duration  start_ride_price  minute_price  \\\n",
       "0        1      1   7027.51      2      42.0                 0             6   \n",
       "1        1      4    754.16      1       7.0                 0             6   \n",
       "2        1      8   6723.47      2      46.0                 0             6   \n",
       "3        1     10   5809.91      2      32.0                 0             6   \n",
       "4        1     11   7003.50      3      56.0                 0             6   \n",
       "\n",
       "   subscription_fee  revenue  \n",
       "0               199    451.0  \n",
       "1               199    241.0  \n",
       "2               199    475.0  \n",
       "3               199    391.0  \n",
       "4               199    535.0  "
      ]
     },
     "execution_count": 61,
     "metadata": {},
     "output_type": "execute_result"
    }
   ],
   "source": [
    "# просмотр первых строк таблицы:\n",
    "data_month.head()"
   ]
  },
  {
   "cell_type": "markdown",
   "id": "1b1e8e70",
   "metadata": {},
   "source": [
    "**Вывод:**\n",
    "1. Cоздали таблицу с суммарным расстоянием, количеством поездок и суммарным временем для каждого пользователя за каждый месяц и просмотрели ее первые строки.\n",
    "2. Добавили в созданную в предыдущем пункте таблицу столбец с помесячной выручкой, которую принёс каждый пользователь."
   ]
  },
  {
   "cell_type": "markdown",
   "id": "41545ac0",
   "metadata": {},
   "source": [
    "#### Шаг 6. Проверка гипотез"
   ]
  },
  {
   "cell_type": "markdown",
   "id": "21438952",
   "metadata": {},
   "source": [
    "6.1 Проверка тратят ли пользователи с подпиской больше времени на поездки, чем пользователи без подписки."
   ]
  },
  {
   "cell_type": "markdown",
   "id": "be95422b",
   "metadata": {},
   "source": [
    "Выдвигаем гипотезы:\\\n",
    "Н0 - Пользователи с подпиской в среднем тратят столько же времени на поездки, сколько и пользователи без подписки.\\\n",
    "Н1 - Пользователи с подпиской в среднем тратят больше времени на поездки, чем пользователи без подписки."
   ]
  },
  {
   "cell_type": "markdown",
   "id": "4e14fea9",
   "metadata": {},
   "source": [
    "Выдвигаем гипотезы:\\\n",
    "Н0 - Средние значения времени поездок пользователей с подпиской и без подписки равны. \\\n",
    "Н1 - Средние значения времени поездок пользователей с подпиской больше средних значений времени поездок пользователей без подписки."
   ]
  },
  {
   "cell_type": "code",
   "execution_count": 62,
   "id": "d4d4b535",
   "metadata": {},
   "outputs": [
    {
     "name": "stdout",
     "output_type": "stream",
     "text": [
      "p-значение: 2.4959453720736625e-34\n",
      "Отвергаем нулевую гипотезу\n"
     ]
    }
   ],
   "source": [
    "# проверяем гипотезы методом st.ttest_ind:\n",
    "alpha = 0.05 # уровень статистической значимости\n",
    "\n",
    "results = st.ttest_ind(data_ultra['duration'],\n",
    "                       data_free['duration'],\n",
    "                       alternative='greater')\n",
    "\n",
    "print('p-значение:', results.pvalue)\n",
    "\n",
    "if results.pvalue < alpha:\n",
    "    print('Отвергаем нулевую гипотезу')\n",
    "else:\n",
    "    print('Не получилось отвергнуть нулевую гипотезу') "
   ]
  },
  {
   "cell_type": "code",
   "execution_count": 63,
   "id": "cba54c62",
   "metadata": {},
   "outputs": [
    {
     "data": {
      "text/plain": [
       "19.037692307692307"
      ]
     },
     "execution_count": 63,
     "metadata": {},
     "output_type": "execute_result"
    }
   ],
   "source": [
    "# среднее значение времени поездок пользователей с подпиской:\n",
    "data_ultra['duration'].mean()"
   ]
  },
  {
   "cell_type": "code",
   "execution_count": 64,
   "id": "305c72c0",
   "metadata": {},
   "outputs": [
    {
     "data": {
      "text/plain": [
       "17.890992392807746"
      ]
     },
     "execution_count": 64,
     "metadata": {},
     "output_type": "execute_result"
    }
   ],
   "source": [
    "# среднее значения времени поездок пользователей без поездки:\n",
    "data_free['duration'].mean()"
   ]
  },
  {
   "cell_type": "markdown",
   "id": "d750ea73",
   "metadata": {},
   "source": [
    "**Вывод теста гипотезы:**\\\n",
    "Нулевая гипотеза отвергнута. Есть основания утверждать, что средние значения времени поездок пользователей с подпиской больше средних значений времени поездок пользователей без подписки, при установленном уровне статистической значимости 5%."
   ]
  },
  {
   "cell_type": "markdown",
   "id": "23b974e1",
   "metadata": {},
   "source": [
    "6.2 Проверка можно ли сказать, что среднее расстояние, которое проезжают пользователи с подпиской за одну поездку, не превышает 3130 метров - оптимальное расстояние с точки зрения износа самоката."
   ]
  },
  {
   "cell_type": "markdown",
   "id": "61550a4e",
   "metadata": {},
   "source": [
    "Выдвигаем гипотезы:\\\n",
    "Н0 - Среднее расстояние поездок с подпиской равно оптимальному расстоянию 3130 метров.\\\n",
    "Н1 - Среднее расстояние поездок с подпиской больше оптимального расстояния 3130 метров."
   ]
  },
  {
   "cell_type": "code",
   "execution_count": 65,
   "id": "1204e65a",
   "metadata": {},
   "outputs": [
    {
     "name": "stdout",
     "output_type": "stream",
     "text": [
      "0.9195362605842414\n",
      "Не получилось отвергнуть нулевую гипотезу\n"
     ]
    }
   ],
   "source": [
    "# проверяем гипотезы методом st.ttest_1samp:\n",
    "distance = 3130 # оптимальное расстояние\n",
    "alpha = 0.05 # уровень статистической значимости\n",
    "\n",
    "results = st.ttest_1samp(\n",
    "    data_ultra['distance'], \n",
    "    distance,\n",
    "    alternative='greater')\n",
    "\n",
    "print(results.pvalue)\n",
    "\n",
    "if results.pvalue < alpha:\n",
    "    print('Отвергаем нулевую гипотезу')\n",
    "else:\n",
    "    print('Не получилось отвергнуть нулевую гипотезу')"
   ]
  },
  {
   "cell_type": "markdown",
   "id": "088bed77",
   "metadata": {},
   "source": [
    "**Вывод теста гипотезы:**\\\n",
    "Нулевую гипотезу не получилось отвергнуть. Есть основания утверждать, что среднее расстояние, которое проезжают пользователи с подпиской за одну поездку, не превышает оптимальное расстояние 3130 метров при установленном уровне статистической значимости 5%."
   ]
  },
  {
   "cell_type": "markdown",
   "id": "0a57b3bb",
   "metadata": {},
   "source": [
    "6.3 Проверка будет ли помесячная выручка от пользователей с подпиской по месяцам выше, чем выручка от пользователей без подписки. "
   ]
  },
  {
   "cell_type": "markdown",
   "id": "a6e20546",
   "metadata": {},
   "source": [
    "Выдвигаем гипотезы:\\\n",
    "Н0 - Помесячная средняя выручка от пользователей с подпиской равна помесячной средней выручке от пользователей без подписки.\\\n",
    "Н1 - Помесячная средняя выручка от пользователей с подпиской больше помесячной средней выручки от пользователей без подписки."
   ]
  },
  {
   "cell_type": "code",
   "execution_count": 66,
   "id": "39c9ceff",
   "metadata": {},
   "outputs": [
    {
     "name": "stdout",
     "output_type": "stream",
     "text": [
      "p-значение: 1.8850394384715216e-31\n",
      "Отвергаем нулевую гипотезу\n"
     ]
    }
   ],
   "source": [
    "# проверяем гипотезы методом st.ttest_ind:\n",
    "alpha = 0.05 # уровень статистической значимости\n",
    "\n",
    "results = st.ttest_ind(data_month[data_month['subscription_fee'] > 0]['revenue'],\n",
    "                       data_month[data_month['subscription_fee'] == 0]['revenue'],\n",
    "                       alternative='greater')\n",
    "\n",
    "print('p-значение:', results.pvalue)\n",
    "\n",
    "if results.pvalue < alpha:\n",
    "    print('Отвергаем нулевую гипотезу')\n",
    "else:\n",
    "    print('Не получилось отвергнуть нулевую гипотезу') "
   ]
  },
  {
   "cell_type": "markdown",
   "id": "74775eee",
   "metadata": {},
   "source": [
    "**Вывод теста гипотезы:**\\\n",
    "Нулевая гипотеза отвергнута. Есть основания утверждать, что помесячная средняя выручка от пользователей с подпиской больше помесячной средней выручки от пользователей без подписки при установленном уровне статистической значимости 5%."
   ]
  },
  {
   "cell_type": "markdown",
   "id": "5ea5338c",
   "metadata": {},
   "source": [
    "6.4 Рассмотрим ситуацию: техническая команда сервиса обновила сервера, с которыми взаимодействует мобильное приложение. Она надеется, что из-за этого количество обращений в техподдержку значимо снизилось. Некоторый файл содержит для каждого пользователя данные о количестве обращений до обновления и после него. Какой тест вам понадобился бы для проверки этой гипотезы?"
   ]
  },
  {
   "cell_type": "markdown",
   "id": "6a02986e",
   "metadata": {},
   "source": [
    "Команда обновила сервера и хочет проверить, снизилось ли количество обращений в техподдержку.\\\n",
    "Выборки в этом случае будут зависимыми, иначе - парными. Парная выборка означает, что некоторая переменная измеряется дважды для одних и тех же объектов. В данной ситуации это пара измерений для каждого пользователя - до и после обновления сервера, а именно, количество обращений до и после обновления.\\\n",
    "Чтобы проверить гипотезу о равенстве среднего генеральной совокупности для зависимых (парных) выборок применим метод scipy.stats.ttest_rel().\\\n",
    "Ему достаточно передать всего два параметра: наборы данных до и после. Оба набора должны быть одинаковыми по размеру: каждое измерение должно быть проведено до и после изменения."
   ]
  },
  {
   "cell_type": "markdown",
   "id": "d8a6336c",
   "metadata": {},
   "source": [
    "**Вывод:**\n",
    "1. Нулевая гипотеза отвергнута. Есть основания утверждать, что средние значения времени поездок пользователей с подпиской больше средних значений времени поездок пользователей без подписки, при установленном уровне статистической значимости 5%.\n",
    "2. Нулевую гипотезу не получилось отвергнуть. Есть основания утверждать, что среднее расстояние, которое проезжают пользователи с подпиской за одну поездку, не превышает оптимальное расстояние 3130 метров при установленном уровне статистической значимости 5%. \n",
    "3. Нулевая гипотеза отвергнута. Есть основания утверждать, что помесячная средняя выручка от пользователей с подпиской больше помесячной средней выручки от пользователей без подписки при установленном уровне статистической значимости 5%.\n",
    "4. Чтобы проверить, снизилось ли количество обращений в техподдержку, используем метод scipy.stats.ttest_rel().\\\n",
    "Ему достаточно передать всего два параметра: наборы данных до и после. Оба набора должны быть одинаковыми по размеру: каждое измерение должно быть проведено до и после изменения. \n",
    "В данной ситуации это пара измерений для каждого пользователя - до и после обновления сервера, а именно, количество обращений до и после обновления.\\\n",
    "При тестировании будем использовать параметр alternative='less'.\\\n",
    "Гипотеза является односторонней, поскольку нас интересует только снижение обращений."
   ]
  },
  {
   "cell_type": "markdown",
   "id": "61213c5e",
   "metadata": {},
   "source": [
    "#### Шаг 7. Распределения"
   ]
  },
  {
   "cell_type": "markdown",
   "id": "907d2d5e",
   "metadata": {},
   "source": [
    "7.1 Отделу маркетинга GoFast поставили задачу: нужно провести акцию с раздачей промокодов на один бесплатный месяц подписки, в рамках которой как минимум 100 существующих клиентов должны продлить эту подписку. То есть по завершении периода действия подписки пользователь может либо отказаться от неё, либо продлить, совершив соответствующий платёж. "
   ]
  },
  {
   "cell_type": "markdown",
   "id": "9e63da5a",
   "metadata": {},
   "source": [
    "Эта акция уже проводилась ранее и по итогу выяснилось, что после бесплатного пробного периода подписку продлевают 10 % пользователей. Выясним, какое минимальное количество промокодов нужно разослать, чтобы вероятность не выполнить план была примерно 5 %. Подберем параметры распределения, описывающего эту ситуацию, построим график распределения и сформулируем ответ на вопрос о количестве промокодов."
   ]
  },
  {
   "cell_type": "code",
   "execution_count": 67,
   "id": "fe6785de",
   "metadata": {},
   "outputs": [
    {
     "name": "stdout",
     "output_type": "stream",
     "text": [
      "Необходимо разослать минимум 1161 промокодов,чтобы вероятность не выполнить план была меньше 5.0%.\n"
     ]
    },
    {
     "name": "stderr",
     "output_type": "stream",
     "text": [
      "/opt/conda/lib/python3.9/site-packages/scipy/stats/_discrete_distns.py:78: RuntimeWarning: divide by zero encountered in _binom_pdf\n",
      "  return _boost._binom_pdf(x, n, p)\n"
     ]
    },
    {
     "data": {
      "image/png": "[encoded data removed]",
      "text/plain": [
       "<Figure size 720x360 with 1 Axes>"
      ]
     },
     "metadata": {
      "needs_background": "light"
     },
     "output_type": "display_data"
    }
   ],
   "source": [
    "p = 0.1  # вероятность, что клиент продлит подписку  \n",
    "k = 100   # необходимое количество продлений  \n",
    "alpha = 0.05  # уровень значимости (вероятность невыполнения плана)  \n",
    "\n",
    "# находим минимальное количество промокодов  \n",
    "N = 1000  # начальное значение для N  \n",
    "\n",
    "while binom.cdf(k - 1, N, p) > alpha:  \n",
    "    N += 1    \n",
    "print(f'Необходимо разослать минимум {N} промокодов,\\\n",
    "чтобы вероятность не выполнить план была меньше {alpha * 100:.1f}%.')  \n",
    "\n",
    "# расчет математического ожидания и стандартного отклонения\n",
    "# для нормального распределения:  \n",
    "mu = N * p  \n",
    "sigma = (N * p * (1 - p)) ** 0.5  \n",
    "\n",
    "# значения для графика:  \n",
    "x = np.arange(0, N + 1)  \n",
    "y = binom.pmf(x, N, p)  \n",
    "\n",
    "# строим график:  \n",
    "plt.figure(figsize=(10, 5))  \n",
    "plt.bar(x, y) \n",
    "plt.title('Распределение количества продлений подписки')\n",
    "plt.xlabel('Количество продлений')  \n",
    "plt.ylabel('Вероятность')     \n",
    "plt.show() "
   ]
  },
  {
   "cell_type": "markdown",
   "id": "878345a0",
   "metadata": {},
   "source": [
    "7.2 Отдел маркетинга рассылает клиентам push-уведомления в мобильном приложении. Клиенты могут открыть его или не открывать. Известно, что уведомления открывают около 40 % получивших клиентов. Отдел планирует разослать 1 млн уведомлений. С помощью аппроксимации построим примерный график распределения и оцените вероятность того, что уведомление откроют не более 399,5 тыс. пользователей."
   ]
  },
  {
   "cell_type": "code",
   "execution_count": 68,
   "id": "c5296df3",
   "metadata": {},
   "outputs": [
    {
     "name": "stdout",
     "output_type": "stream",
     "text": [
      "Вероятность открытия сообщений: 0.15371708296369768\n"
     ]
    },
    {
     "data": {
      "image/png": "[encoded data removed]",
      "text/plain": [
       "<Figure size 720x360 with 1 Axes>"
      ]
     },
     "metadata": {
      "needs_background": "light"
     },
     "output_type": "display_data"
    }
   ],
   "source": [
    "n = 1000000  # общее количество отправленных уведомлений  \n",
    "p = 0.4      # вероятность того, что клиент откроет уведомление  \n",
    "k = 399500    # количество открытых уведомлений  \n",
    "\n",
    "# рассчитаем матожидание и стандартное отклонение:  \n",
    "mu = n * p  # матожидание  \n",
    "sigma = (n * p * (1 - p)) ** 0.5  # стандартное отклонение  \n",
    "\n",
    "# зададим нормальное распределение:   \n",
    "distr = st.norm(mu, sigma)  \n",
    "\n",
    "# вычислим вероятность того, что уведомление откроют не более 399500 пользователей  \n",
    "result = distr.cdf(k)  \n",
    "print('Вероятность открытия сообщений:', result)  \n",
    "\n",
    "# значения для графика:\n",
    "x = np.arange(mu - 4 * sigma, mu + 4 * sigma, 1)\n",
    "y = st.norm.pdf(x, mu, sigma)\n",
    "\n",
    "# строим график: \n",
    "plt.figure(figsize=(10, 5))  \n",
    "plt.plot(x, y)   \n",
    "plt.title('Распределение количества открытых уведомлений')\n",
    "plt.xlabel('Количество открытых уведомлений')  \n",
    "plt.ylabel('Плотность вероятности')    \n",
    "plt.show() "
   ]
  },
  {
   "cell_type": "markdown",
   "id": "e0060ed1",
   "metadata": {},
   "source": [
    "**Вывод:**\n",
    "1. Необходимо разослать как минимум 1161 промокод, чтобы вероятность не выполнить план была примерно 5 %.\n",
    "2. Если разослать 1 млн. уведомлений, то вероятность того, что уведомление откроет не более 399,5 тыс. пользователей составит 15,37%."
   ]
  },
  {
   "cell_type": "markdown",
   "id": "46ca2983",
   "metadata": {},
   "source": [
    "**Общий вывод:**\\\n",
    "Исходя из проведенного исследования сервиса аренды самокатов GoFast, можно сделать следующие выводы: \n",
    "1. Загрузка данных.\n",
    "\n",
    "  В датафрейме users 1565 записей, в датафреме rides 18 068 записей, в датафрейме subscriptions 2 записи.\n",
    "\n",
    "\n",
    "2. Предобработка данных.\n",
    "- Привели столбец date в датафрейме rides к типу даты pandas.\n",
    "- Создали новый столбец с номером месяца на основе столбца date.\n",
    "- Пропусков в данных нет, все данные заполнены.\\\n",
    "Однако, в датафрейме users найден 31 дубликат. Удаляем их методом drop_duplicates().\n",
    "Округлили данные в столбце distance в датафрейме rides до 2 знаков.\\\n",
    "Округлили каждое значение в столбце duration с помощью метода np.ceil.\n",
    "3. Исследовательский анализ данных.\n",
    "- Самым часто встречающимся городом является Пятигорск, далее идут Екатеринбург и Ростов-на-Дону.\n",
    "- Как показывает диаграмма, пользователей без подписки больше, чем пользователей с подпиской. Их соотношение в % равно 54,1% и 45,9% соответственно.\n",
    "- Наибольшее количество пользователей в возрасте 22-28 лет. Средний возраст пользователя примерно 25 лет.\n",
    "- Среднее растояние, которое пользователь преодолевает за одну поездку, составляет 3071м.\n",
    "- Средняя продолжительность поездки составляет 17 мин.\n",
    "4. Объединение данных.\n",
    "- Объединение данных о пользователях, поездках и подписках в один датафрейм проведено успешно. Количество строк объединенной таблицы соответствует количеству строк в таблице с максимальным количеством строк, 18 068 в таблице rides. Явные дубликаты отсутствуют.\n",
    "- Создали два датафрейма c данными о пользователях без подписки и с данными о пользователях с подпиской из датафрейма, созданного на предыдущем этапе.\n",
    "- Как показывают графики и описание расстояний поездок пользователей, среднее значение расстояний поездок пользователей с подпиской составляет 3 115 м, что выше среднего значения расстояний поездок пользователей без подписки, которое составило 3 045 м. Таким образом, при наличии подписки пользователи проезжают в среднем большее расстояние.\\\n",
    "Как показывают графики и описание времени поездок пользователей, среднее значение продолжительности поездок пользователей с подпиской составляет 18 мин., что выше среднего значения продолжительности поездок пользователей без подписки, которое составило 17 мин. Таким образом, средняя продолжительность поездки пользователей с подпиской больше, чем пользователей без подписки.\n",
    "5. Подсчёт выручки.\n",
    "- Cоздали таблицу с суммарным расстоянием, количеством поездок и суммарным временем для каждого пользователя за каждый месяц и просмотрели ее первые строки.\n",
    "- Добавили в созданную в предыдущем пункте таблицу столбец с помесячной выручкой, которую принёс каждый пользователь.\n",
    "6. Проверка гипотез.\n",
    "- Нулевая гипотеза отвергнута. Есть основания утверждать, что средние значения времени поездок пользователей с подпиской больше средних значений времени поездок пользователей без подписки, при установленном уровне статистической значимости 5%.\n",
    "- Нулевую гипотезу не получилось отвергнуть. Есть основания утверждать, что среднее расстояние, которое проезжают пользователи с подпиской за одну поездку, не превышает оптимальное расстояние 3130 метров при установленном уровне статистической значимости 5%. \n",
    "- Нулевая гипотеза отвергнута. Есть основания утверждать, что помесячная средняя выручка от пользователей с подпиской больше помесячной средней выручки от пользователей без подписки при установленном уровне статистической значимости 5%.\n",
    "- Чтобы проверить, снизилось ли количество обращений в техподдержку, используем метод scipy.stats.ttest_rel().\\\n",
    "Ему достаточно передать всего два параметра: наборы данных до и после. Оба набора должны быть одинаковыми по размеру: каждое измерение должно быть проведено до и после изменения. \n",
    "В данной ситуации это пара измерений для каждого пользователя - до и после обновления сервера, а именно, количество обращений до и после обновления. При тестировании будем использовать параметр alternative='less'. Гипотеза является односторонней, поскольку нас интересует только снижение обращений.\n",
    "7. Распределения.\n",
    "- Необходимо разослать как минимум 1161 промокод, чтобы вероятность не выполнить план была примерно 5 %.\n",
    "- Если разослать 1 млн. уведомлений, то вероятность того, что уведомление откроет не более 399,5 тыс. пользователей составит 15,37%."
   ]
  }
 ],
 "metadata": {
  "ExecuteTimeLog": [
   {
    "duration": 412,
    "start_time": "2024-11-22T15:17:20.520Z"
   },
   {
    "duration": 356,
    "start_time": "2024-11-22T15:17:20.934Z"
   },
   {
    "duration": 13,
    "start_time": "2024-11-22T15:17:21.291Z"
   },
   {
    "duration": 6,
    "start_time": "2024-11-22T15:17:44.087Z"
   },
   {
    "duration": 7,
    "start_time": "2024-11-22T15:17:48.229Z"
   },
   {
    "duration": 6,
    "start_time": "2024-11-22T15:18:13.651Z"
   },
   {
    "duration": 77,
    "start_time": "2024-11-22T15:18:43.158Z"
   },
   {
    "duration": 72,
    "start_time": "2024-11-22T15:19:01.386Z"
   },
   {
    "duration": 71,
    "start_time": "2024-11-22T15:19:06.561Z"
   },
   {
    "duration": 72,
    "start_time": "2024-11-22T15:19:13.504Z"
   },
   {
    "duration": 71,
    "start_time": "2024-11-22T15:20:28.568Z"
   },
   {
    "duration": 7,
    "start_time": "2024-11-22T15:20:45.508Z"
   },
   {
    "duration": 67,
    "start_time": "2024-11-22T15:21:01.937Z"
   },
   {
    "duration": 12,
    "start_time": "2024-11-22T15:21:07.256Z"
   },
   {
    "duration": 67,
    "start_time": "2024-11-22T15:21:16.619Z"
   },
   {
    "duration": 12,
    "start_time": "2024-11-22T15:21:20.291Z"
   },
   {
    "duration": 10,
    "start_time": "2024-11-22T15:22:01.166Z"
   },
   {
    "duration": 10,
    "start_time": "2024-11-22T15:22:05.479Z"
   },
   {
    "duration": 6,
    "start_time": "2024-11-22T15:22:11.113Z"
   },
   {
    "duration": 67,
    "start_time": "2024-11-22T15:22:24.880Z"
   },
   {
    "duration": 7,
    "start_time": "2024-11-22T15:22:30.000Z"
   },
   {
    "duration": 371,
    "start_time": "2024-11-22T15:22:48.763Z"
   },
   {
    "duration": 72,
    "start_time": "2024-11-22T15:22:49.136Z"
   },
   {
    "duration": 16,
    "start_time": "2024-11-22T15:22:49.210Z"
   },
   {
    "duration": 13,
    "start_time": "2024-11-22T15:22:49.229Z"
   },
   {
    "duration": 21,
    "start_time": "2024-11-22T15:22:49.243Z"
   },
   {
    "duration": 410,
    "start_time": "2024-11-22T15:25:42.806Z"
   },
   {
    "duration": 68,
    "start_time": "2024-11-22T15:25:43.218Z"
   },
   {
    "duration": 15,
    "start_time": "2024-11-22T15:25:43.288Z"
   },
   {
    "duration": 45,
    "start_time": "2024-11-22T15:25:43.305Z"
   },
   {
    "duration": 96,
    "start_time": "2024-11-22T15:25:43.353Z"
   },
   {
    "duration": 401,
    "start_time": "2024-11-22T15:25:55.888Z"
   },
   {
    "duration": 70,
    "start_time": "2024-11-22T15:25:56.291Z"
   },
   {
    "duration": 16,
    "start_time": "2024-11-22T15:25:56.363Z"
   },
   {
    "duration": 41,
    "start_time": "2024-11-22T15:25:56.380Z"
   },
   {
    "duration": 29,
    "start_time": "2024-11-22T15:25:56.422Z"
   },
   {
    "duration": 10,
    "start_time": "2024-11-22T15:34:38.876Z"
   },
   {
    "duration": 6,
    "start_time": "2024-11-22T15:35:25.986Z"
   },
   {
    "duration": 7,
    "start_time": "2024-11-22T15:35:37.648Z"
   },
   {
    "duration": 6,
    "start_time": "2024-11-22T15:35:44.358Z"
   },
   {
    "duration": 12,
    "start_time": "2024-11-22T15:38:48.648Z"
   },
   {
    "duration": 14,
    "start_time": "2024-11-22T15:39:02.924Z"
   },
   {
    "duration": 9,
    "start_time": "2024-11-22T15:39:15.698Z"
   },
   {
    "duration": 378,
    "start_time": "2024-11-23T08:30:03.449Z"
   },
   {
    "duration": 358,
    "start_time": "2024-11-23T08:30:03.829Z"
   },
   {
    "duration": 26,
    "start_time": "2024-11-23T08:30:04.189Z"
   },
   {
    "duration": 66,
    "start_time": "2024-11-23T08:30:04.217Z"
   },
   {
    "duration": 8,
    "start_time": "2024-11-23T08:30:04.285Z"
   },
   {
    "duration": 25,
    "start_time": "2024-11-23T08:30:04.294Z"
   },
   {
    "duration": 18,
    "start_time": "2024-11-23T08:30:04.320Z"
   },
   {
    "duration": 17,
    "start_time": "2024-11-23T08:30:04.339Z"
   },
   {
    "duration": 17,
    "start_time": "2024-11-23T08:30:04.357Z"
   },
   {
    "duration": 6,
    "start_time": "2024-11-23T08:39:28.854Z"
   },
   {
    "duration": 22,
    "start_time": "2024-11-23T08:39:48.019Z"
   },
   {
    "duration": 9,
    "start_time": "2024-11-23T08:41:27.974Z"
   },
   {
    "duration": 7,
    "start_time": "2024-11-23T08:46:35.535Z"
   },
   {
    "duration": 6,
    "start_time": "2024-11-23T08:47:18.352Z"
   },
   {
    "duration": 7,
    "start_time": "2024-11-23T08:47:21.482Z"
   },
   {
    "duration": 10,
    "start_time": "2024-11-23T10:02:32.628Z"
   },
   {
    "duration": 7,
    "start_time": "2024-11-23T10:03:02.022Z"
   },
   {
    "duration": 6,
    "start_time": "2024-11-23T10:03:05.071Z"
   },
   {
    "duration": 70,
    "start_time": "2024-11-23T10:12:47.742Z"
   },
   {
    "duration": 11,
    "start_time": "2024-11-23T10:13:17.904Z"
   },
   {
    "duration": 382,
    "start_time": "2024-11-23T10:20:27.242Z"
   },
   {
    "duration": 71,
    "start_time": "2024-11-23T10:20:27.627Z"
   },
   {
    "duration": 16,
    "start_time": "2024-11-23T10:20:27.700Z"
   },
   {
    "duration": 9,
    "start_time": "2024-11-23T10:20:27.718Z"
   },
   {
    "duration": 22,
    "start_time": "2024-11-23T10:20:27.729Z"
   },
   {
    "duration": 13,
    "start_time": "2024-11-23T10:20:27.752Z"
   },
   {
    "duration": 10,
    "start_time": "2024-11-23T10:20:27.767Z"
   },
   {
    "duration": 18,
    "start_time": "2024-11-23T10:20:27.779Z"
   },
   {
    "duration": 64,
    "start_time": "2024-11-23T10:20:27.799Z"
   },
   {
    "duration": 5,
    "start_time": "2024-11-23T10:20:27.866Z"
   },
   {
    "duration": 8,
    "start_time": "2024-11-23T10:20:27.873Z"
   },
   {
    "duration": 8,
    "start_time": "2024-11-23T10:20:27.882Z"
   },
   {
    "duration": 6,
    "start_time": "2024-11-23T10:20:27.891Z"
   },
   {
    "duration": 6,
    "start_time": "2024-11-23T10:20:27.898Z"
   },
   {
    "duration": 7,
    "start_time": "2024-11-23T10:20:27.905Z"
   },
   {
    "duration": 25,
    "start_time": "2024-11-23T10:20:27.913Z"
   },
   {
    "duration": 12,
    "start_time": "2024-11-23T10:20:27.940Z"
   },
   {
    "duration": 12,
    "start_time": "2024-11-23T10:21:02.445Z"
   },
   {
    "duration": 11,
    "start_time": "2024-11-23T10:23:56.811Z"
   },
   {
    "duration": 17,
    "start_time": "2024-11-23T10:24:58.290Z"
   },
   {
    "duration": 11,
    "start_time": "2024-11-23T10:25:14.623Z"
   },
   {
    "duration": 12,
    "start_time": "2024-11-23T10:25:21.725Z"
   },
   {
    "duration": 11,
    "start_time": "2024-11-23T10:25:26.212Z"
   },
   {
    "duration": 11,
    "start_time": "2024-11-23T10:27:01.785Z"
   },
   {
    "duration": 4,
    "start_time": "2024-11-23T10:28:52.244Z"
   },
   {
    "duration": 892,
    "start_time": "2024-11-23T10:29:05.069Z"
   },
   {
    "duration": 5,
    "start_time": "2024-11-23T10:29:19.176Z"
   },
   {
    "duration": 5,
    "start_time": "2024-11-23T10:32:21.062Z"
   },
   {
    "duration": 4,
    "start_time": "2024-11-23T10:38:40.212Z"
   },
   {
    "duration": 15,
    "start_time": "2024-11-23T11:31:00.311Z"
   },
   {
    "duration": 58,
    "start_time": "2024-11-23T11:31:55.524Z"
   },
   {
    "duration": 68,
    "start_time": "2024-11-23T11:32:20.625Z"
   },
   {
    "duration": 11,
    "start_time": "2024-11-23T11:32:27.484Z"
   },
   {
    "duration": 12,
    "start_time": "2024-11-23T11:32:40.047Z"
   },
   {
    "duration": 8,
    "start_time": "2024-11-23T11:35:34.414Z"
   },
   {
    "duration": 8,
    "start_time": "2024-11-23T11:35:43.235Z"
   },
   {
    "duration": 552,
    "start_time": "2024-11-23T11:35:46.663Z"
   },
   {
    "duration": 46,
    "start_time": "2024-11-24T09:25:04.735Z"
   },
   {
    "duration": 365,
    "start_time": "2024-11-24T09:25:12.073Z"
   },
   {
    "duration": 257,
    "start_time": "2024-11-24T09:25:12.440Z"
   },
   {
    "duration": 14,
    "start_time": "2024-11-24T09:25:12.699Z"
   },
   {
    "duration": 8,
    "start_time": "2024-11-24T09:25:12.715Z"
   },
   {
    "duration": 6,
    "start_time": "2024-11-24T09:25:12.724Z"
   },
   {
    "duration": 8,
    "start_time": "2024-11-24T09:25:12.731Z"
   },
   {
    "duration": 9,
    "start_time": "2024-11-24T09:25:12.740Z"
   },
   {
    "duration": 8,
    "start_time": "2024-11-24T09:25:12.751Z"
   },
   {
    "duration": 6,
    "start_time": "2024-11-24T09:25:12.760Z"
   },
   {
    "duration": 11,
    "start_time": "2024-11-24T09:25:12.768Z"
   },
   {
    "duration": 69,
    "start_time": "2024-11-24T09:25:12.780Z"
   },
   {
    "duration": 15,
    "start_time": "2024-11-24T09:25:12.850Z"
   },
   {
    "duration": 6,
    "start_time": "2024-11-24T09:25:12.866Z"
   },
   {
    "duration": 7,
    "start_time": "2024-11-24T09:25:12.873Z"
   },
   {
    "duration": 12,
    "start_time": "2024-11-24T09:25:12.881Z"
   },
   {
    "duration": 4,
    "start_time": "2024-11-24T09:25:12.895Z"
   },
   {
    "duration": 13,
    "start_time": "2024-11-24T09:25:12.900Z"
   },
   {
    "duration": 3,
    "start_time": "2024-11-24T09:25:12.914Z"
   },
   {
    "duration": 12,
    "start_time": "2024-11-24T09:25:12.919Z"
   },
   {
    "duration": 12,
    "start_time": "2024-11-24T09:25:12.932Z"
   },
   {
    "duration": 510,
    "start_time": "2024-11-24T09:25:12.945Z"
   },
   {
    "duration": 120,
    "start_time": "2024-11-24T09:27:16.142Z"
   },
   {
    "duration": 9,
    "start_time": "2024-11-24T09:32:06.929Z"
   },
   {
    "duration": 90,
    "start_time": "2024-11-24T09:33:39.552Z"
   },
   {
    "duration": 7,
    "start_time": "2024-11-24T09:36:27.893Z"
   },
   {
    "duration": 6,
    "start_time": "2024-11-24T09:37:06.882Z"
   },
   {
    "duration": 70,
    "start_time": "2024-11-24T09:53:58.554Z"
   },
   {
    "duration": 79,
    "start_time": "2024-11-25T09:20:29.078Z"
   },
   {
    "duration": 422,
    "start_time": "2024-11-25T09:20:36.617Z"
   },
   {
    "duration": 288,
    "start_time": "2024-11-25T09:20:37.041Z"
   },
   {
    "duration": 15,
    "start_time": "2024-11-25T09:20:37.330Z"
   },
   {
    "duration": 27,
    "start_time": "2024-11-25T09:20:37.346Z"
   },
   {
    "duration": 83,
    "start_time": "2024-11-25T09:20:37.376Z"
   },
   {
    "duration": 59,
    "start_time": "2024-11-25T09:20:37.460Z"
   },
   {
    "duration": 49,
    "start_time": "2024-11-25T09:20:37.521Z"
   },
   {
    "duration": 63,
    "start_time": "2024-11-25T09:20:37.572Z"
   },
   {
    "duration": 59,
    "start_time": "2024-11-25T09:20:37.637Z"
   },
   {
    "duration": 102,
    "start_time": "2024-11-25T09:20:37.697Z"
   },
   {
    "duration": 50,
    "start_time": "2024-11-25T09:20:37.804Z"
   },
   {
    "duration": 23,
    "start_time": "2024-11-25T09:20:37.856Z"
   },
   {
    "duration": 56,
    "start_time": "2024-11-25T09:20:37.881Z"
   },
   {
    "duration": 27,
    "start_time": "2024-11-25T09:20:37.940Z"
   },
   {
    "duration": 32,
    "start_time": "2024-11-25T09:20:37.969Z"
   },
   {
    "duration": 27,
    "start_time": "2024-11-25T09:20:38.002Z"
   },
   {
    "duration": 29,
    "start_time": "2024-11-25T09:20:38.031Z"
   },
   {
    "duration": 20,
    "start_time": "2024-11-25T09:20:38.062Z"
   },
   {
    "duration": 32,
    "start_time": "2024-11-25T09:20:38.083Z"
   },
   {
    "duration": 38,
    "start_time": "2024-11-25T09:20:38.116Z"
   },
   {
    "duration": 652,
    "start_time": "2024-11-25T09:20:38.155Z"
   },
   {
    "duration": 14,
    "start_time": "2024-11-25T09:20:38.810Z"
   },
   {
    "duration": 94,
    "start_time": "2024-11-25T09:20:38.825Z"
   },
   {
    "duration": 455,
    "start_time": "2024-11-25T09:24:48.276Z"
   },
   {
    "duration": 84,
    "start_time": "2024-11-25T09:24:48.734Z"
   },
   {
    "duration": 19,
    "start_time": "2024-11-25T09:24:48.820Z"
   },
   {
    "duration": 10,
    "start_time": "2024-11-25T09:24:48.840Z"
   },
   {
    "duration": 7,
    "start_time": "2024-11-25T09:24:48.853Z"
   },
   {
    "duration": 14,
    "start_time": "2024-11-25T09:24:48.861Z"
   },
   {
    "duration": 36,
    "start_time": "2024-11-25T09:24:48.877Z"
   },
   {
    "duration": 10,
    "start_time": "2024-11-25T09:24:48.918Z"
   },
   {
    "duration": 9,
    "start_time": "2024-11-25T09:24:48.930Z"
   },
   {
    "duration": 4,
    "start_time": "2024-11-25T09:24:48.940Z"
   },
   {
    "duration": 6,
    "start_time": "2024-11-25T09:24:48.945Z"
   },
   {
    "duration": 13,
    "start_time": "2024-11-25T09:24:48.953Z"
   },
   {
    "duration": 10,
    "start_time": "2024-11-25T09:24:48.968Z"
   },
   {
    "duration": 36,
    "start_time": "2024-11-25T09:24:48.980Z"
   },
   {
    "duration": 14,
    "start_time": "2024-11-25T09:24:49.018Z"
   },
   {
    "duration": 20,
    "start_time": "2024-11-25T09:24:49.034Z"
   },
   {
    "duration": 21,
    "start_time": "2024-11-25T09:24:49.056Z"
   },
   {
    "duration": 4,
    "start_time": "2024-11-25T09:24:49.079Z"
   },
   {
    "duration": 14,
    "start_time": "2024-11-25T09:24:49.085Z"
   },
   {
    "duration": 20,
    "start_time": "2024-11-25T09:24:49.101Z"
   },
   {
    "duration": 395,
    "start_time": "2024-11-25T09:24:49.123Z"
   },
   {
    "duration": 8,
    "start_time": "2024-11-25T09:24:49.519Z"
   },
   {
    "duration": 87,
    "start_time": "2024-11-25T09:24:49.529Z"
   },
   {
    "duration": 108,
    "start_time": "2024-11-25T09:48:30.357Z"
   },
   {
    "duration": 119,
    "start_time": "2024-11-25T09:48:46.527Z"
   },
   {
    "duration": 119,
    "start_time": "2024-11-25T09:49:28.327Z"
   },
   {
    "duration": 128,
    "start_time": "2024-11-25T09:53:44.058Z"
   },
   {
    "duration": 9,
    "start_time": "2024-11-25T09:56:37.878Z"
   },
   {
    "duration": 10,
    "start_time": "2024-11-25T09:57:52.080Z"
   },
   {
    "duration": 7,
    "start_time": "2024-11-25T09:58:00.249Z"
   },
   {
    "duration": 9,
    "start_time": "2024-11-25T09:58:46.838Z"
   },
   {
    "duration": 7,
    "start_time": "2024-11-25T09:58:50.538Z"
   },
   {
    "duration": 20,
    "start_time": "2024-11-25T09:59:29.990Z"
   },
   {
    "duration": 10,
    "start_time": "2024-11-25T09:59:50.076Z"
   },
   {
    "duration": 9,
    "start_time": "2024-11-25T09:59:54.809Z"
   },
   {
    "duration": 243,
    "start_time": "2024-11-25T10:01:33.758Z"
   },
   {
    "duration": 8,
    "start_time": "2024-11-25T10:02:59.876Z"
   },
   {
    "duration": 174,
    "start_time": "2024-11-25T10:04:10.868Z"
   },
   {
    "duration": 266,
    "start_time": "2024-11-25T10:05:33.958Z"
   },
   {
    "duration": 11,
    "start_time": "2024-11-25T10:08:23.821Z"
   },
   {
    "duration": 14,
    "start_time": "2024-11-25T10:29:38.244Z"
   },
   {
    "duration": 438,
    "start_time": "2024-11-25T10:31:53.349Z"
   },
   {
    "duration": 70,
    "start_time": "2024-11-25T10:31:53.789Z"
   },
   {
    "duration": 14,
    "start_time": "2024-11-25T10:31:53.861Z"
   },
   {
    "duration": 9,
    "start_time": "2024-11-25T10:31:53.876Z"
   },
   {
    "duration": 11,
    "start_time": "2024-11-25T10:31:53.887Z"
   },
   {
    "duration": 11,
    "start_time": "2024-11-25T10:31:53.900Z"
   },
   {
    "duration": 17,
    "start_time": "2024-11-25T10:31:53.912Z"
   },
   {
    "duration": 12,
    "start_time": "2024-11-25T10:31:53.930Z"
   },
   {
    "duration": 34,
    "start_time": "2024-11-25T10:31:53.944Z"
   },
   {
    "duration": 6,
    "start_time": "2024-11-25T10:31:53.980Z"
   },
   {
    "duration": 12,
    "start_time": "2024-11-25T10:31:53.987Z"
   },
   {
    "duration": 7,
    "start_time": "2024-11-25T10:31:54.001Z"
   },
   {
    "duration": 6,
    "start_time": "2024-11-25T10:31:54.010Z"
   },
   {
    "duration": 6,
    "start_time": "2024-11-25T10:31:54.019Z"
   },
   {
    "duration": 21,
    "start_time": "2024-11-25T10:31:54.027Z"
   },
   {
    "duration": 9,
    "start_time": "2024-11-25T10:31:54.050Z"
   },
   {
    "duration": 19,
    "start_time": "2024-11-25T10:31:54.061Z"
   },
   {
    "duration": 20,
    "start_time": "2024-11-25T10:31:54.082Z"
   },
   {
    "duration": 66,
    "start_time": "2024-11-25T10:31:54.104Z"
   },
   {
    "duration": 20,
    "start_time": "2024-11-25T10:31:54.172Z"
   },
   {
    "duration": 461,
    "start_time": "2024-11-25T10:31:54.194Z"
   },
   {
    "duration": 12,
    "start_time": "2024-11-25T10:31:54.657Z"
   },
   {
    "duration": 137,
    "start_time": "2024-11-25T10:31:54.672Z"
   },
   {
    "duration": 12,
    "start_time": "2024-11-25T10:31:54.811Z"
   },
   {
    "duration": 12,
    "start_time": "2024-11-25T10:31:54.825Z"
   },
   {
    "duration": 319,
    "start_time": "2024-11-25T10:31:54.840Z"
   },
   {
    "duration": 13,
    "start_time": "2024-11-25T10:31:55.161Z"
   },
   {
    "duration": 108,
    "start_time": "2024-11-25T10:31:55.176Z"
   },
   {
    "duration": 451,
    "start_time": "2024-11-25T10:33:26.117Z"
   },
   {
    "duration": 79,
    "start_time": "2024-11-25T10:33:26.570Z"
   },
   {
    "duration": 15,
    "start_time": "2024-11-25T10:33:26.650Z"
   },
   {
    "duration": 9,
    "start_time": "2024-11-25T10:33:26.666Z"
   },
   {
    "duration": 9,
    "start_time": "2024-11-25T10:33:26.677Z"
   },
   {
    "duration": 14,
    "start_time": "2024-11-25T10:33:26.687Z"
   },
   {
    "duration": 20,
    "start_time": "2024-11-25T10:33:26.703Z"
   },
   {
    "duration": 15,
    "start_time": "2024-11-25T10:33:26.725Z"
   },
   {
    "duration": 10,
    "start_time": "2024-11-25T10:33:26.742Z"
   },
   {
    "duration": 16,
    "start_time": "2024-11-25T10:33:26.753Z"
   },
   {
    "duration": 6,
    "start_time": "2024-11-25T10:33:26.771Z"
   },
   {
    "duration": 27,
    "start_time": "2024-11-25T10:33:26.779Z"
   },
   {
    "duration": 9,
    "start_time": "2024-11-25T10:33:26.808Z"
   },
   {
    "duration": 7,
    "start_time": "2024-11-25T10:33:26.821Z"
   },
   {
    "duration": 12,
    "start_time": "2024-11-25T10:33:26.830Z"
   },
   {
    "duration": 7,
    "start_time": "2024-11-25T10:33:26.844Z"
   },
   {
    "duration": 67,
    "start_time": "2024-11-25T10:33:26.852Z"
   },
   {
    "duration": 4,
    "start_time": "2024-11-25T10:33:26.921Z"
   },
   {
    "duration": 10,
    "start_time": "2024-11-25T10:33:26.926Z"
   },
   {
    "duration": 13,
    "start_time": "2024-11-25T10:33:26.938Z"
   },
   {
    "duration": 434,
    "start_time": "2024-11-25T10:33:26.953Z"
   },
   {
    "duration": 18,
    "start_time": "2024-11-25T10:33:27.389Z"
   },
   {
    "duration": 152,
    "start_time": "2024-11-25T10:33:27.409Z"
   },
   {
    "duration": 9,
    "start_time": "2024-11-25T10:33:27.564Z"
   },
   {
    "duration": 12,
    "start_time": "2024-11-25T10:33:27.575Z"
   },
   {
    "duration": 263,
    "start_time": "2024-11-25T10:33:27.599Z"
   },
   {
    "duration": 9,
    "start_time": "2024-11-25T10:33:27.864Z"
   },
   {
    "duration": 426,
    "start_time": "2024-11-25T10:35:45.180Z"
   },
   {
    "duration": 71,
    "start_time": "2024-11-25T10:35:45.608Z"
   },
   {
    "duration": 14,
    "start_time": "2024-11-25T10:35:45.681Z"
   },
   {
    "duration": 41,
    "start_time": "2024-11-25T10:35:45.697Z"
   },
   {
    "duration": 27,
    "start_time": "2024-11-25T10:35:45.740Z"
   },
   {
    "duration": 34,
    "start_time": "2024-11-25T10:35:45.769Z"
   },
   {
    "duration": 25,
    "start_time": "2024-11-25T10:35:45.804Z"
   },
   {
    "duration": 19,
    "start_time": "2024-11-25T10:35:45.832Z"
   },
   {
    "duration": 17,
    "start_time": "2024-11-25T10:35:45.854Z"
   },
   {
    "duration": 19,
    "start_time": "2024-11-25T10:35:45.877Z"
   },
   {
    "duration": 10,
    "start_time": "2024-11-25T10:35:45.898Z"
   },
   {
    "duration": 8,
    "start_time": "2024-11-25T10:35:45.910Z"
   },
   {
    "duration": 11,
    "start_time": "2024-11-25T10:35:45.920Z"
   },
   {
    "duration": 34,
    "start_time": "2024-11-25T10:35:45.932Z"
   },
   {
    "duration": 20,
    "start_time": "2024-11-25T10:35:45.968Z"
   },
   {
    "duration": 15,
    "start_time": "2024-11-25T10:35:45.991Z"
   },
   {
    "duration": 28,
    "start_time": "2024-11-25T10:35:46.009Z"
   },
   {
    "duration": 3,
    "start_time": "2024-11-25T10:35:46.039Z"
   },
   {
    "duration": 6,
    "start_time": "2024-11-25T10:35:46.044Z"
   },
   {
    "duration": 19,
    "start_time": "2024-11-25T10:35:46.051Z"
   },
   {
    "duration": 437,
    "start_time": "2024-11-25T10:35:46.072Z"
   },
   {
    "duration": 8,
    "start_time": "2024-11-25T10:35:46.511Z"
   },
   {
    "duration": 141,
    "start_time": "2024-11-25T10:35:46.520Z"
   },
   {
    "duration": 9,
    "start_time": "2024-11-25T10:35:46.663Z"
   },
   {
    "duration": 34,
    "start_time": "2024-11-25T10:35:46.674Z"
   },
   {
    "duration": 255,
    "start_time": "2024-11-25T10:35:46.710Z"
   },
   {
    "duration": 10,
    "start_time": "2024-11-25T10:35:46.967Z"
   },
   {
    "duration": 141,
    "start_time": "2024-11-25T10:35:46.980Z"
   },
   {
    "duration": 80,
    "start_time": "2024-11-25T10:36:54.659Z"
   },
   {
    "duration": 206,
    "start_time": "2024-11-25T10:37:07.649Z"
   },
   {
    "duration": 154,
    "start_time": "2024-11-25T10:40:32.713Z"
   },
   {
    "duration": 407,
    "start_time": "2024-11-25T10:44:36.927Z"
   },
   {
    "duration": 70,
    "start_time": "2024-11-25T10:44:37.336Z"
   },
   {
    "duration": 15,
    "start_time": "2024-11-25T10:44:37.408Z"
   },
   {
    "duration": 17,
    "start_time": "2024-11-25T10:44:37.425Z"
   },
   {
    "duration": 14,
    "start_time": "2024-11-25T10:44:37.445Z"
   },
   {
    "duration": 18,
    "start_time": "2024-11-25T10:44:37.461Z"
   },
   {
    "duration": 42,
    "start_time": "2024-11-25T10:44:37.481Z"
   },
   {
    "duration": 28,
    "start_time": "2024-11-25T10:44:37.525Z"
   },
   {
    "duration": 30,
    "start_time": "2024-11-25T10:44:37.555Z"
   },
   {
    "duration": 11,
    "start_time": "2024-11-25T10:44:37.587Z"
   },
   {
    "duration": 20,
    "start_time": "2024-11-25T10:44:37.600Z"
   },
   {
    "duration": 28,
    "start_time": "2024-11-25T10:44:37.622Z"
   },
   {
    "duration": 30,
    "start_time": "2024-11-25T10:44:37.652Z"
   },
   {
    "duration": 20,
    "start_time": "2024-11-25T10:44:37.685Z"
   },
   {
    "duration": 18,
    "start_time": "2024-11-25T10:44:37.706Z"
   },
   {
    "duration": 84,
    "start_time": "2024-11-25T10:44:37.726Z"
   },
   {
    "duration": 19,
    "start_time": "2024-11-25T10:44:37.811Z"
   },
   {
    "duration": 45,
    "start_time": "2024-11-25T10:44:37.832Z"
   },
   {
    "duration": 23,
    "start_time": "2024-11-25T10:44:37.879Z"
   },
   {
    "duration": 30,
    "start_time": "2024-11-25T10:44:37.903Z"
   },
   {
    "duration": 422,
    "start_time": "2024-11-25T10:44:37.935Z"
   },
   {
    "duration": 10,
    "start_time": "2024-11-25T10:44:38.358Z"
   },
   {
    "duration": 144,
    "start_time": "2024-11-25T10:44:38.370Z"
   },
   {
    "duration": 15,
    "start_time": "2024-11-25T10:44:38.516Z"
   },
   {
    "duration": 15,
    "start_time": "2024-11-25T10:44:38.533Z"
   },
   {
    "duration": 288,
    "start_time": "2024-11-25T10:44:38.550Z"
   },
   {
    "duration": 9,
    "start_time": "2024-11-25T10:44:38.839Z"
   },
   {
    "duration": 141,
    "start_time": "2024-11-25T10:44:38.849Z"
   },
   {
    "duration": 72,
    "start_time": "2024-11-25T10:53:25.426Z"
   },
   {
    "duration": 417,
    "start_time": "2024-11-25T10:53:50.418Z"
   },
   {
    "duration": 69,
    "start_time": "2024-11-25T10:53:50.837Z"
   },
   {
    "duration": 14,
    "start_time": "2024-11-25T10:53:50.908Z"
   },
   {
    "duration": 25,
    "start_time": "2024-11-25T10:53:50.923Z"
   },
   {
    "duration": 16,
    "start_time": "2024-11-25T10:53:50.950Z"
   },
   {
    "duration": 18,
    "start_time": "2024-11-25T10:53:50.967Z"
   },
   {
    "duration": 10,
    "start_time": "2024-11-25T10:53:50.987Z"
   },
   {
    "duration": 9,
    "start_time": "2024-11-25T10:53:50.998Z"
   },
   {
    "duration": 25,
    "start_time": "2024-11-25T10:53:51.009Z"
   },
   {
    "duration": 4,
    "start_time": "2024-11-25T10:53:51.036Z"
   },
   {
    "duration": 6,
    "start_time": "2024-11-25T10:53:51.041Z"
   },
   {
    "duration": 16,
    "start_time": "2024-11-25T10:53:51.049Z"
   },
   {
    "duration": 12,
    "start_time": "2024-11-25T10:53:51.066Z"
   },
   {
    "duration": 6,
    "start_time": "2024-11-25T10:53:51.081Z"
   },
   {
    "duration": 18,
    "start_time": "2024-11-25T10:53:51.089Z"
   },
   {
    "duration": 5,
    "start_time": "2024-11-25T10:53:51.109Z"
   },
   {
    "duration": 32,
    "start_time": "2024-11-25T10:53:51.116Z"
   },
   {
    "duration": 4,
    "start_time": "2024-11-25T10:53:51.149Z"
   },
   {
    "duration": 4,
    "start_time": "2024-11-25T10:53:51.155Z"
   },
   {
    "duration": 11,
    "start_time": "2024-11-25T10:53:51.161Z"
   },
   {
    "duration": 401,
    "start_time": "2024-11-25T10:53:51.174Z"
   },
   {
    "duration": 8,
    "start_time": "2024-11-25T10:53:51.577Z"
   },
   {
    "duration": 128,
    "start_time": "2024-11-25T10:53:51.599Z"
   },
   {
    "duration": 9,
    "start_time": "2024-11-25T10:53:51.730Z"
   },
   {
    "duration": 98,
    "start_time": "2024-11-25T10:53:51.741Z"
   },
   {
    "duration": 259,
    "start_time": "2024-11-25T10:53:51.840Z"
   },
   {
    "duration": 10,
    "start_time": "2024-11-25T10:53:52.101Z"
   },
   {
    "duration": 434,
    "start_time": "2024-11-25T10:54:17.893Z"
   },
   {
    "duration": 70,
    "start_time": "2024-11-25T10:54:18.329Z"
   },
   {
    "duration": 14,
    "start_time": "2024-11-25T10:54:18.401Z"
   },
   {
    "duration": 9,
    "start_time": "2024-11-25T10:54:18.417Z"
   },
   {
    "duration": 8,
    "start_time": "2024-11-25T10:54:18.427Z"
   },
   {
    "duration": 13,
    "start_time": "2024-11-25T10:54:18.436Z"
   },
   {
    "duration": 19,
    "start_time": "2024-11-25T10:54:18.450Z"
   },
   {
    "duration": 34,
    "start_time": "2024-11-25T10:54:18.471Z"
   },
   {
    "duration": 38,
    "start_time": "2024-11-25T10:54:18.507Z"
   },
   {
    "duration": 15,
    "start_time": "2024-11-25T10:54:18.549Z"
   },
   {
    "duration": 9,
    "start_time": "2024-11-25T10:54:18.566Z"
   },
   {
    "duration": 9,
    "start_time": "2024-11-25T10:54:18.577Z"
   },
   {
    "duration": 7,
    "start_time": "2024-11-25T10:54:18.588Z"
   },
   {
    "duration": 18,
    "start_time": "2024-11-25T10:54:18.597Z"
   },
   {
    "duration": 60,
    "start_time": "2024-11-25T10:54:18.617Z"
   },
   {
    "duration": 8,
    "start_time": "2024-11-25T10:54:18.679Z"
   },
   {
    "duration": 17,
    "start_time": "2024-11-25T10:54:18.688Z"
   },
   {
    "duration": 4,
    "start_time": "2024-11-25T10:54:18.707Z"
   },
   {
    "duration": 5,
    "start_time": "2024-11-25T10:54:18.713Z"
   },
   {
    "duration": 8,
    "start_time": "2024-11-25T10:54:18.720Z"
   },
   {
    "duration": 414,
    "start_time": "2024-11-25T10:54:18.730Z"
   },
   {
    "duration": 9,
    "start_time": "2024-11-25T10:54:19.146Z"
   },
   {
    "duration": 152,
    "start_time": "2024-11-25T10:54:19.157Z"
   },
   {
    "duration": 9,
    "start_time": "2024-11-25T10:54:19.310Z"
   },
   {
    "duration": 13,
    "start_time": "2024-11-25T10:54:19.321Z"
   },
   {
    "duration": 283,
    "start_time": "2024-11-25T10:54:19.336Z"
   },
   {
    "duration": 9,
    "start_time": "2024-11-25T10:54:19.621Z"
   },
   {
    "duration": 150,
    "start_time": "2024-11-25T10:54:19.633Z"
   },
   {
    "duration": 174,
    "start_time": "2024-11-25T10:54:51.045Z"
   },
   {
    "duration": 351,
    "start_time": "2024-11-25T10:54:58.754Z"
   },
   {
    "duration": 70,
    "start_time": "2024-11-25T10:54:59.107Z"
   },
   {
    "duration": 14,
    "start_time": "2024-11-25T10:54:59.179Z"
   },
   {
    "duration": 28,
    "start_time": "2024-11-25T10:54:59.194Z"
   },
   {
    "duration": 33,
    "start_time": "2024-11-25T10:54:59.225Z"
   },
   {
    "duration": 43,
    "start_time": "2024-11-25T10:54:59.259Z"
   },
   {
    "duration": 44,
    "start_time": "2024-11-25T10:54:59.304Z"
   },
   {
    "duration": 14,
    "start_time": "2024-11-25T10:54:59.350Z"
   },
   {
    "duration": 29,
    "start_time": "2024-11-25T10:54:59.366Z"
   },
   {
    "duration": 33,
    "start_time": "2024-11-25T10:54:59.397Z"
   },
   {
    "duration": 46,
    "start_time": "2024-11-25T10:54:59.432Z"
   },
   {
    "duration": 24,
    "start_time": "2024-11-25T10:54:59.480Z"
   },
   {
    "duration": 21,
    "start_time": "2024-11-25T10:54:59.505Z"
   },
   {
    "duration": 39,
    "start_time": "2024-11-25T10:54:59.529Z"
   },
   {
    "duration": 41,
    "start_time": "2024-11-25T10:54:59.569Z"
   },
   {
    "duration": 19,
    "start_time": "2024-11-25T10:54:59.612Z"
   },
   {
    "duration": 28,
    "start_time": "2024-11-25T10:54:59.633Z"
   },
   {
    "duration": 15,
    "start_time": "2024-11-25T10:54:59.663Z"
   },
   {
    "duration": 21,
    "start_time": "2024-11-25T10:54:59.680Z"
   },
   {
    "duration": 43,
    "start_time": "2024-11-25T10:54:59.702Z"
   },
   {
    "duration": 398,
    "start_time": "2024-11-25T10:54:59.746Z"
   },
   {
    "duration": 8,
    "start_time": "2024-11-25T10:55:00.146Z"
   },
   {
    "duration": 195,
    "start_time": "2024-11-25T10:55:00.156Z"
   },
   {
    "duration": 8,
    "start_time": "2024-11-25T10:55:00.353Z"
   },
   {
    "duration": 57,
    "start_time": "2024-11-25T10:55:00.362Z"
   },
   {
    "duration": 264,
    "start_time": "2024-11-25T10:55:00.421Z"
   },
   {
    "duration": 16,
    "start_time": "2024-11-25T10:55:00.687Z"
   },
   {
    "duration": 136,
    "start_time": "2024-11-25T10:55:00.705Z"
   },
   {
    "duration": 760,
    "start_time": "2024-11-25T10:55:56.395Z"
   },
   {
    "duration": 192,
    "start_time": "2024-11-25T10:56:09.193Z"
   },
   {
    "duration": 127,
    "start_time": "2024-11-25T10:56:14.523Z"
   },
   {
    "duration": 127,
    "start_time": "2024-11-25T10:56:40.228Z"
   },
   {
    "duration": 222,
    "start_time": "2024-11-25T10:57:58.413Z"
   },
   {
    "duration": 3,
    "start_time": "2024-11-25T10:58:43.443Z"
   },
   {
    "duration": 136,
    "start_time": "2024-11-25T10:58:53.426Z"
   },
   {
    "duration": 232,
    "start_time": "2024-11-25T10:59:19.204Z"
   },
   {
    "duration": 131,
    "start_time": "2024-11-25T10:59:45.015Z"
   },
   {
    "duration": 1294,
    "start_time": "2024-11-25T11:01:23.287Z"
   },
   {
    "duration": 659,
    "start_time": "2024-11-25T11:01:33.627Z"
   },
   {
    "duration": 79,
    "start_time": "2024-11-25T11:01:34.288Z"
   },
   {
    "duration": 15,
    "start_time": "2024-11-25T11:01:34.368Z"
   },
   {
    "duration": 12,
    "start_time": "2024-11-25T11:01:34.385Z"
   },
   {
    "duration": 30,
    "start_time": "2024-11-25T11:01:34.399Z"
   },
   {
    "duration": 35,
    "start_time": "2024-11-25T11:01:34.432Z"
   },
   {
    "duration": 27,
    "start_time": "2024-11-25T11:01:34.469Z"
   },
   {
    "duration": 27,
    "start_time": "2024-11-25T11:01:34.498Z"
   },
   {
    "duration": 27,
    "start_time": "2024-11-25T11:01:34.527Z"
   },
   {
    "duration": 20,
    "start_time": "2024-11-25T11:01:34.556Z"
   },
   {
    "duration": 6,
    "start_time": "2024-11-25T11:01:34.578Z"
   },
   {
    "duration": 23,
    "start_time": "2024-11-25T11:01:34.586Z"
   },
   {
    "duration": 18,
    "start_time": "2024-11-25T11:01:34.611Z"
   },
   {
    "duration": 16,
    "start_time": "2024-11-25T11:01:34.632Z"
   },
   {
    "duration": 18,
    "start_time": "2024-11-25T11:01:34.649Z"
   },
   {
    "duration": 28,
    "start_time": "2024-11-25T11:01:34.668Z"
   },
   {
    "duration": 30,
    "start_time": "2024-11-25T11:01:34.697Z"
   },
   {
    "duration": 4,
    "start_time": "2024-11-25T11:01:34.728Z"
   },
   {
    "duration": 70,
    "start_time": "2024-11-25T11:01:34.733Z"
   },
   {
    "duration": 50,
    "start_time": "2024-11-25T11:01:34.804Z"
   },
   {
    "duration": 157,
    "start_time": "2024-11-25T11:01:34.856Z"
   },
   {
    "duration": 8,
    "start_time": "2024-11-25T11:01:35.015Z"
   },
   {
    "duration": 126,
    "start_time": "2024-11-25T11:01:35.025Z"
   },
   {
    "duration": 9,
    "start_time": "2024-11-25T11:01:35.152Z"
   },
   {
    "duration": 14,
    "start_time": "2024-11-25T11:01:35.163Z"
   },
   {
    "duration": 1194,
    "start_time": "2024-11-25T11:01:35.179Z"
   },
   {
    "duration": 0,
    "start_time": "2024-11-25T11:01:36.375Z"
   },
   {
    "duration": 0,
    "start_time": "2024-11-25T11:01:36.377Z"
   },
   {
    "duration": 1214,
    "start_time": "2024-11-25T11:01:58.353Z"
   },
   {
    "duration": 1023,
    "start_time": "2024-11-25T11:03:50.967Z"
   },
   {
    "duration": 603,
    "start_time": "2024-11-25T11:04:05.258Z"
   },
   {
    "duration": 70,
    "start_time": "2024-11-25T11:04:05.863Z"
   },
   {
    "duration": 12,
    "start_time": "2024-11-25T11:04:05.934Z"
   },
   {
    "duration": 17,
    "start_time": "2024-11-25T11:04:05.947Z"
   },
   {
    "duration": 35,
    "start_time": "2024-11-25T11:04:05.965Z"
   },
   {
    "duration": 43,
    "start_time": "2024-11-25T11:04:06.001Z"
   },
   {
    "duration": 54,
    "start_time": "2024-11-25T11:04:06.046Z"
   },
   {
    "duration": 22,
    "start_time": "2024-11-25T11:04:06.102Z"
   },
   {
    "duration": 97,
    "start_time": "2024-11-25T11:04:06.126Z"
   },
   {
    "duration": 28,
    "start_time": "2024-11-25T11:04:06.226Z"
   },
   {
    "duration": 105,
    "start_time": "2024-11-25T11:04:06.256Z"
   },
   {
    "duration": 46,
    "start_time": "2024-11-25T11:04:06.362Z"
   },
   {
    "duration": 23,
    "start_time": "2024-11-25T11:04:06.410Z"
   },
   {
    "duration": 34,
    "start_time": "2024-11-25T11:04:06.434Z"
   },
   {
    "duration": 41,
    "start_time": "2024-11-25T11:04:06.469Z"
   },
   {
    "duration": 7,
    "start_time": "2024-11-25T11:04:06.511Z"
   },
   {
    "duration": 32,
    "start_time": "2024-11-25T11:04:06.520Z"
   },
   {
    "duration": 11,
    "start_time": "2024-11-25T11:04:06.554Z"
   },
   {
    "duration": 27,
    "start_time": "2024-11-25T11:04:06.567Z"
   },
   {
    "duration": 25,
    "start_time": "2024-11-25T11:04:06.596Z"
   },
   {
    "duration": 1147,
    "start_time": "2024-11-25T11:04:06.623Z"
   },
   {
    "duration": 0,
    "start_time": "2024-11-25T11:04:07.772Z"
   },
   {
    "duration": 0,
    "start_time": "2024-11-25T11:04:07.772Z"
   },
   {
    "duration": 0,
    "start_time": "2024-11-25T11:04:07.774Z"
   },
   {
    "duration": 0,
    "start_time": "2024-11-25T11:04:07.775Z"
   },
   {
    "duration": 0,
    "start_time": "2024-11-25T11:04:07.776Z"
   },
   {
    "duration": 0,
    "start_time": "2024-11-25T11:04:07.777Z"
   },
   {
    "duration": 0,
    "start_time": "2024-11-25T11:04:07.778Z"
   },
   {
    "duration": 9,
    "start_time": "2024-11-25T11:04:16.778Z"
   },
   {
    "duration": 1017,
    "start_time": "2024-11-25T11:04:20.574Z"
   },
   {
    "duration": 176,
    "start_time": "2024-11-25T11:05:11.546Z"
   },
   {
    "duration": 147,
    "start_time": "2024-11-25T11:05:28.045Z"
   },
   {
    "duration": 143,
    "start_time": "2024-11-25T11:06:07.701Z"
   },
   {
    "duration": 9,
    "start_time": "2024-11-25T11:06:26.925Z"
   },
   {
    "duration": 9,
    "start_time": "2024-11-25T11:06:30.058Z"
   },
   {
    "duration": 252,
    "start_time": "2024-11-25T11:06:33.708Z"
   },
   {
    "duration": 188,
    "start_time": "2024-11-25T11:07:30.477Z"
   },
   {
    "duration": 10,
    "start_time": "2024-11-25T11:08:07.517Z"
   },
   {
    "duration": 152,
    "start_time": "2024-11-25T11:08:43.988Z"
   },
   {
    "duration": 127,
    "start_time": "2024-11-25T11:08:50.628Z"
   },
   {
    "duration": 143,
    "start_time": "2024-11-25T11:10:19.232Z"
   },
   {
    "duration": 9,
    "start_time": "2024-11-25T11:11:22.242Z"
   },
   {
    "duration": 123,
    "start_time": "2024-11-25T11:15:21.836Z"
   },
   {
    "duration": 87,
    "start_time": "2024-11-25T11:17:44.008Z"
   },
   {
    "duration": 132,
    "start_time": "2024-11-25T11:18:00.906Z"
   },
   {
    "duration": 142,
    "start_time": "2024-11-25T11:18:16.624Z"
   },
   {
    "duration": 865,
    "start_time": "2024-11-25T11:21:44.436Z"
   },
   {
    "duration": 8,
    "start_time": "2024-11-25T11:21:52.418Z"
   },
   {
    "duration": 115,
    "start_time": "2024-11-25T11:21:58.738Z"
   },
   {
    "duration": 205,
    "start_time": "2024-11-25T11:34:37.126Z"
   },
   {
    "duration": 216,
    "start_time": "2024-11-25T11:34:44.658Z"
   },
   {
    "duration": 2,
    "start_time": "2024-11-25T11:36:59.561Z"
   },
   {
    "duration": 16,
    "start_time": "2024-11-25T12:44:04.559Z"
   },
   {
    "duration": 31,
    "start_time": "2024-11-25T12:44:28.054Z"
   },
   {
    "duration": 9,
    "start_time": "2024-11-25T12:52:19.804Z"
   },
   {
    "duration": 17,
    "start_time": "2024-11-25T12:52:35.582Z"
   },
   {
    "duration": 13,
    "start_time": "2024-11-25T12:54:07.880Z"
   },
   {
    "duration": 17,
    "start_time": "2024-11-25T12:54:58.262Z"
   },
   {
    "duration": 30,
    "start_time": "2024-11-25T12:55:47.572Z"
   },
   {
    "duration": 15,
    "start_time": "2024-11-25T12:57:00.301Z"
   },
   {
    "duration": 28,
    "start_time": "2024-11-25T12:57:05.542Z"
   },
   {
    "duration": 14,
    "start_time": "2024-11-25T12:57:09.732Z"
   },
   {
    "duration": 5,
    "start_time": "2024-11-25T12:57:34.460Z"
   },
   {
    "duration": 5,
    "start_time": "2024-11-25T12:57:38.412Z"
   },
   {
    "duration": 591,
    "start_time": "2024-11-25T12:57:54.739Z"
   },
   {
    "duration": 67,
    "start_time": "2024-11-25T12:57:55.332Z"
   },
   {
    "duration": 16,
    "start_time": "2024-11-25T12:57:55.401Z"
   },
   {
    "duration": 12,
    "start_time": "2024-11-25T12:57:55.419Z"
   },
   {
    "duration": 7,
    "start_time": "2024-11-25T12:57:55.433Z"
   },
   {
    "duration": 14,
    "start_time": "2024-11-25T12:57:55.442Z"
   },
   {
    "duration": 45,
    "start_time": "2024-11-25T12:57:55.458Z"
   },
   {
    "duration": 9,
    "start_time": "2024-11-25T12:57:55.505Z"
   },
   {
    "duration": 15,
    "start_time": "2024-11-25T12:57:55.516Z"
   },
   {
    "duration": 5,
    "start_time": "2024-11-25T12:57:55.534Z"
   },
   {
    "duration": 7,
    "start_time": "2024-11-25T12:57:55.541Z"
   },
   {
    "duration": 8,
    "start_time": "2024-11-25T12:57:55.551Z"
   },
   {
    "duration": 6,
    "start_time": "2024-11-25T12:57:55.561Z"
   },
   {
    "duration": 16,
    "start_time": "2024-11-25T12:57:55.599Z"
   },
   {
    "duration": 9,
    "start_time": "2024-11-25T12:57:55.620Z"
   },
   {
    "duration": 8,
    "start_time": "2024-11-25T12:57:55.631Z"
   },
   {
    "duration": 11,
    "start_time": "2024-11-25T12:57:55.641Z"
   },
   {
    "duration": 3,
    "start_time": "2024-11-25T12:57:55.654Z"
   },
   {
    "duration": 4,
    "start_time": "2024-11-25T12:57:55.659Z"
   },
   {
    "duration": 36,
    "start_time": "2024-11-25T12:57:55.664Z"
   },
   {
    "duration": 161,
    "start_time": "2024-11-25T12:57:55.701Z"
   },
   {
    "duration": 8,
    "start_time": "2024-11-25T12:57:55.865Z"
   },
   {
    "duration": 135,
    "start_time": "2024-11-25T12:57:55.875Z"
   },
   {
    "duration": 9,
    "start_time": "2024-11-25T12:57:56.012Z"
   },
   {
    "duration": 9,
    "start_time": "2024-11-25T12:57:56.023Z"
   },
   {
    "duration": 275,
    "start_time": "2024-11-25T12:57:56.034Z"
   },
   {
    "duration": 10,
    "start_time": "2024-11-25T12:57:56.310Z"
   },
   {
    "duration": 208,
    "start_time": "2024-11-25T12:57:56.323Z"
   },
   {
    "duration": 9,
    "start_time": "2024-11-25T12:57:56.533Z"
   },
   {
    "duration": 139,
    "start_time": "2024-11-25T12:57:56.543Z"
   },
   {
    "duration": 16,
    "start_time": "2024-11-25T12:57:56.684Z"
   },
   {
    "duration": 10,
    "start_time": "2024-11-25T12:57:56.701Z"
   },
   {
    "duration": 12,
    "start_time": "2024-11-25T12:57:56.712Z"
   },
   {
    "duration": 27,
    "start_time": "2024-11-25T12:57:56.726Z"
   },
   {
    "duration": 13,
    "start_time": "2024-11-25T12:57:56.754Z"
   },
   {
    "duration": 12,
    "start_time": "2024-11-25T12:59:38.759Z"
   },
   {
    "duration": 10,
    "start_time": "2024-11-25T12:59:43.167Z"
   },
   {
    "duration": 9,
    "start_time": "2024-11-25T12:59:46.839Z"
   },
   {
    "duration": 18,
    "start_time": "2024-11-25T12:59:48.870Z"
   },
   {
    "duration": 15,
    "start_time": "2024-11-25T13:00:38.169Z"
   },
   {
    "duration": 11,
    "start_time": "2024-11-25T13:02:02.860Z"
   },
   {
    "duration": 9,
    "start_time": "2024-11-25T13:11:02.468Z"
   },
   {
    "duration": 6,
    "start_time": "2024-11-25T13:11:34.549Z"
   },
   {
    "duration": 12,
    "start_time": "2024-11-25T13:11:37.041Z"
   },
   {
    "duration": 5,
    "start_time": "2024-11-25T13:12:44.079Z"
   },
   {
    "duration": 16,
    "start_time": "2024-11-25T13:13:21.580Z"
   },
   {
    "duration": 138,
    "start_time": "2024-11-25T13:27:30.068Z"
   },
   {
    "duration": 131,
    "start_time": "2024-11-25T13:27:50.326Z"
   },
   {
    "duration": 145,
    "start_time": "2024-11-25T13:28:16.630Z"
   },
   {
    "duration": 8,
    "start_time": "2024-11-25T13:29:35.356Z"
   },
   {
    "duration": 10,
    "start_time": "2024-11-25T13:30:00.598Z"
   },
   {
    "duration": 121,
    "start_time": "2024-11-25T13:31:40.526Z"
   },
   {
    "duration": 11,
    "start_time": "2024-11-25T13:32:30.277Z"
   },
   {
    "duration": 7,
    "start_time": "2024-11-25T13:34:21.178Z"
   },
   {
    "duration": 142,
    "start_time": "2024-11-25T13:48:45.968Z"
   },
   {
    "duration": 10,
    "start_time": "2024-11-25T13:49:20.078Z"
   },
   {
    "duration": 142,
    "start_time": "2024-11-25T13:50:24.457Z"
   },
   {
    "duration": 8,
    "start_time": "2024-11-25T13:50:30.558Z"
   },
   {
    "duration": 71,
    "start_time": "2024-11-25T14:14:22.296Z"
   },
   {
    "duration": 663,
    "start_time": "2024-11-25T14:15:16.506Z"
   },
   {
    "duration": 70,
    "start_time": "2024-11-25T14:15:17.171Z"
   },
   {
    "duration": 12,
    "start_time": "2024-11-25T14:15:17.242Z"
   },
   {
    "duration": 9,
    "start_time": "2024-11-25T14:15:17.256Z"
   },
   {
    "duration": 21,
    "start_time": "2024-11-25T14:15:17.266Z"
   },
   {
    "duration": 17,
    "start_time": "2024-11-25T14:15:17.289Z"
   },
   {
    "duration": 15,
    "start_time": "2024-11-25T14:15:17.308Z"
   },
   {
    "duration": 10,
    "start_time": "2024-11-25T14:15:17.324Z"
   },
   {
    "duration": 22,
    "start_time": "2024-11-25T14:15:17.335Z"
   },
   {
    "duration": 18,
    "start_time": "2024-11-25T14:15:17.360Z"
   },
   {
    "duration": 11,
    "start_time": "2024-11-25T14:15:17.380Z"
   },
   {
    "duration": 13,
    "start_time": "2024-11-25T14:15:17.393Z"
   },
   {
    "duration": 7,
    "start_time": "2024-11-25T14:15:17.408Z"
   },
   {
    "duration": 22,
    "start_time": "2024-11-25T14:15:17.417Z"
   },
   {
    "duration": 16,
    "start_time": "2024-11-25T14:15:17.441Z"
   },
   {
    "duration": 5,
    "start_time": "2024-11-25T14:15:17.459Z"
   },
   {
    "duration": 8,
    "start_time": "2024-11-25T14:15:17.466Z"
   },
   {
    "duration": 25,
    "start_time": "2024-11-25T14:15:17.475Z"
   },
   {
    "duration": 5,
    "start_time": "2024-11-25T14:15:17.502Z"
   },
   {
    "duration": 20,
    "start_time": "2024-11-25T14:15:17.509Z"
   },
   {
    "duration": 177,
    "start_time": "2024-11-25T14:15:17.530Z"
   },
   {
    "duration": 10,
    "start_time": "2024-11-25T14:15:17.709Z"
   },
   {
    "duration": 161,
    "start_time": "2024-11-25T14:15:17.721Z"
   },
   {
    "duration": 18,
    "start_time": "2024-11-25T14:15:17.884Z"
   },
   {
    "duration": 8,
    "start_time": "2024-11-25T14:15:17.904Z"
   },
   {
    "duration": 277,
    "start_time": "2024-11-25T14:15:17.914Z"
   },
   {
    "duration": 13,
    "start_time": "2024-11-25T14:15:18.193Z"
   },
   {
    "duration": 207,
    "start_time": "2024-11-25T14:15:18.209Z"
   },
   {
    "duration": 8,
    "start_time": "2024-11-25T14:15:18.418Z"
   },
   {
    "duration": 158,
    "start_time": "2024-11-25T14:15:18.428Z"
   },
   {
    "duration": 19,
    "start_time": "2024-11-25T14:15:18.588Z"
   },
   {
    "duration": 47,
    "start_time": "2024-11-25T14:15:18.609Z"
   },
   {
    "duration": 36,
    "start_time": "2024-11-25T14:15:18.658Z"
   },
   {
    "duration": 25,
    "start_time": "2024-11-25T14:15:18.697Z"
   },
   {
    "duration": 24,
    "start_time": "2024-11-25T14:15:18.724Z"
   },
   {
    "duration": 12,
    "start_time": "2024-11-25T14:15:18.750Z"
   },
   {
    "duration": 21,
    "start_time": "2024-11-25T14:15:18.763Z"
   },
   {
    "duration": 39,
    "start_time": "2024-11-25T14:15:18.786Z"
   },
   {
    "duration": 23,
    "start_time": "2024-11-25T14:15:18.827Z"
   },
   {
    "duration": 45,
    "start_time": "2024-11-25T14:15:18.852Z"
   },
   {
    "duration": 142,
    "start_time": "2024-11-25T14:15:18.900Z"
   },
   {
    "duration": 8,
    "start_time": "2024-11-25T14:15:19.044Z"
   },
   {
    "duration": 140,
    "start_time": "2024-11-25T14:15:19.053Z"
   },
   {
    "duration": 8,
    "start_time": "2024-11-25T14:15:19.199Z"
   },
   {
    "duration": 175,
    "start_time": "2024-11-25T14:15:19.209Z"
   },
   {
    "duration": 18,
    "start_time": "2024-11-25T14:15:19.385Z"
   },
   {
    "duration": 172,
    "start_time": "2024-11-25T14:15:19.405Z"
   },
   {
    "duration": 8,
    "start_time": "2024-11-25T14:15:19.579Z"
   },
   {
    "duration": 89,
    "start_time": "2024-11-25T14:15:19.589Z"
   },
   {
    "duration": 79,
    "start_time": "2024-11-25T14:16:13.559Z"
   },
   {
    "duration": 72,
    "start_time": "2024-11-25T14:16:26.588Z"
   },
   {
    "duration": 71,
    "start_time": "2024-11-25T14:16:33.869Z"
   },
   {
    "duration": 70,
    "start_time": "2024-11-25T14:16:46.724Z"
   },
   {
    "duration": 71,
    "start_time": "2024-11-25T14:17:09.216Z"
   },
   {
    "duration": 23,
    "start_time": "2024-11-25T14:18:32.226Z"
   },
   {
    "duration": 13,
    "start_time": "2024-11-25T14:18:47.434Z"
   },
   {
    "duration": 18,
    "start_time": "2024-11-25T14:23:50.648Z"
   },
   {
    "duration": 18,
    "start_time": "2024-11-25T14:24:31.777Z"
   },
   {
    "duration": 14,
    "start_time": "2024-11-25T14:25:43.125Z"
   },
   {
    "duration": 5,
    "start_time": "2024-11-25T14:33:04.108Z"
   },
   {
    "duration": 9,
    "start_time": "2024-11-25T14:53:31.437Z"
   },
   {
    "duration": 15,
    "start_time": "2024-11-25T14:53:58.175Z"
   },
   {
    "duration": 4,
    "start_time": "2024-11-25T14:58:08.925Z"
   },
   {
    "duration": 4,
    "start_time": "2024-11-25T14:58:40.889Z"
   },
   {
    "duration": 7,
    "start_time": "2024-11-25T14:58:57.698Z"
   },
   {
    "duration": 102,
    "start_time": "2024-11-25T15:06:43.967Z"
   },
   {
    "duration": 72,
    "start_time": "2024-11-25T15:07:13.029Z"
   },
   {
    "duration": 70,
    "start_time": "2024-11-25T15:07:54.046Z"
   },
   {
    "duration": 218,
    "start_time": "2024-11-25T15:08:10.689Z"
   },
   {
    "duration": 9,
    "start_time": "2024-11-25T15:08:26.726Z"
   },
   {
    "duration": 185,
    "start_time": "2024-11-25T15:08:30.239Z"
   },
   {
    "duration": 18,
    "start_time": "2024-11-25T15:10:45.424Z"
   },
   {
    "duration": 9,
    "start_time": "2024-11-25T15:10:49.176Z"
   },
   {
    "duration": 24,
    "start_time": "2024-11-25T15:24:28.415Z"
   },
   {
    "duration": 8,
    "start_time": "2024-11-25T15:24:31.298Z"
   },
   {
    "duration": 23,
    "start_time": "2024-11-25T15:25:12.888Z"
   },
   {
    "duration": 12,
    "start_time": "2024-11-25T15:25:14.593Z"
   },
   {
    "duration": 25,
    "start_time": "2024-11-25T15:25:39.199Z"
   },
   {
    "duration": 9,
    "start_time": "2024-11-25T15:25:41.027Z"
   },
   {
    "duration": 14,
    "start_time": "2024-11-25T15:26:55.607Z"
   },
   {
    "duration": 14,
    "start_time": "2024-11-25T15:26:59.251Z"
   },
   {
    "duration": 5,
    "start_time": "2024-11-25T15:27:14.135Z"
   },
   {
    "duration": 13,
    "start_time": "2024-11-25T15:27:15.977Z"
   },
   {
    "duration": 5,
    "start_time": "2024-11-25T15:35:49.160Z"
   },
   {
    "duration": 15,
    "start_time": "2024-11-25T15:35:50.500Z"
   },
   {
    "duration": 5,
    "start_time": "2024-11-25T15:36:02.129Z"
   },
   {
    "duration": 15,
    "start_time": "2024-11-25T15:36:04.098Z"
   },
   {
    "duration": 660,
    "start_time": "2024-11-25T15:39:52.010Z"
   },
   {
    "duration": 69,
    "start_time": "2024-11-25T15:39:52.672Z"
   },
   {
    "duration": 11,
    "start_time": "2024-11-25T15:39:52.743Z"
   },
   {
    "duration": 12,
    "start_time": "2024-11-25T15:39:52.755Z"
   },
   {
    "duration": 36,
    "start_time": "2024-11-25T15:39:52.769Z"
   },
   {
    "duration": 33,
    "start_time": "2024-11-25T15:39:52.806Z"
   },
   {
    "duration": 30,
    "start_time": "2024-11-25T15:39:52.841Z"
   },
   {
    "duration": 10,
    "start_time": "2024-11-25T15:39:52.873Z"
   },
   {
    "duration": 46,
    "start_time": "2024-11-25T15:39:52.885Z"
   },
   {
    "duration": 41,
    "start_time": "2024-11-25T15:39:52.933Z"
   },
   {
    "duration": 17,
    "start_time": "2024-11-25T15:39:52.976Z"
   },
   {
    "duration": 11,
    "start_time": "2024-11-25T15:39:52.995Z"
   },
   {
    "duration": 8,
    "start_time": "2024-11-25T15:39:53.008Z"
   },
   {
    "duration": 19,
    "start_time": "2024-11-25T15:39:53.020Z"
   },
   {
    "duration": 18,
    "start_time": "2024-11-25T15:39:53.041Z"
   },
   {
    "duration": 5,
    "start_time": "2024-11-25T15:39:53.061Z"
   },
   {
    "duration": 11,
    "start_time": "2024-11-25T15:39:53.068Z"
   },
   {
    "duration": 6,
    "start_time": "2024-11-25T15:39:53.081Z"
   },
   {
    "duration": 7,
    "start_time": "2024-11-25T15:39:53.089Z"
   },
   {
    "duration": 18,
    "start_time": "2024-11-25T15:39:53.097Z"
   },
   {
    "duration": 160,
    "start_time": "2024-11-25T15:39:53.116Z"
   },
   {
    "duration": 9,
    "start_time": "2024-11-25T15:39:53.277Z"
   },
   {
    "duration": 156,
    "start_time": "2024-11-25T15:39:53.287Z"
   },
   {
    "duration": 10,
    "start_time": "2024-11-25T15:39:53.445Z"
   },
   {
    "duration": 35,
    "start_time": "2024-11-25T15:39:53.456Z"
   },
   {
    "duration": 257,
    "start_time": "2024-11-25T15:39:53.493Z"
   },
   {
    "duration": 9,
    "start_time": "2024-11-25T15:39:53.752Z"
   },
   {
    "duration": 185,
    "start_time": "2024-11-25T15:39:53.762Z"
   },
   {
    "duration": 9,
    "start_time": "2024-11-25T15:39:53.948Z"
   },
   {
    "duration": 148,
    "start_time": "2024-11-25T15:39:53.958Z"
   },
   {
    "duration": 10,
    "start_time": "2024-11-25T15:39:54.108Z"
   },
   {
    "duration": 12,
    "start_time": "2024-11-25T15:39:54.119Z"
   },
   {
    "duration": 18,
    "start_time": "2024-11-25T15:39:54.133Z"
   },
   {
    "duration": 28,
    "start_time": "2024-11-25T15:39:54.152Z"
   },
   {
    "duration": 21,
    "start_time": "2024-11-25T15:39:54.182Z"
   },
   {
    "duration": 25,
    "start_time": "2024-11-25T15:39:54.204Z"
   },
   {
    "duration": 33,
    "start_time": "2024-11-25T15:39:54.231Z"
   },
   {
    "duration": 15,
    "start_time": "2024-11-25T15:39:54.266Z"
   },
   {
    "duration": 12,
    "start_time": "2024-11-25T15:39:54.283Z"
   },
   {
    "duration": 22,
    "start_time": "2024-11-25T15:39:54.296Z"
   },
   {
    "duration": 139,
    "start_time": "2024-11-25T15:39:54.321Z"
   },
   {
    "duration": 8,
    "start_time": "2024-11-25T15:39:54.462Z"
   },
   {
    "duration": 127,
    "start_time": "2024-11-25T15:39:54.472Z"
   },
   {
    "duration": 8,
    "start_time": "2024-11-25T15:39:54.601Z"
   },
   {
    "duration": 140,
    "start_time": "2024-11-25T15:39:54.611Z"
   },
   {
    "duration": 8,
    "start_time": "2024-11-25T15:39:54.753Z"
   },
   {
    "duration": 151,
    "start_time": "2024-11-25T15:39:54.763Z"
   },
   {
    "duration": 7,
    "start_time": "2024-11-25T15:39:54.916Z"
   },
   {
    "duration": 48,
    "start_time": "2024-11-25T15:39:54.924Z"
   },
   {
    "duration": 9,
    "start_time": "2024-11-25T15:39:54.973Z"
   },
   {
    "duration": 17,
    "start_time": "2024-11-25T15:39:54.984Z"
   },
   {
    "duration": 75,
    "start_time": "2024-11-25T15:39:55.002Z"
   },
   {
    "duration": 10,
    "start_time": "2024-11-25T15:41:52.610Z"
   },
   {
    "duration": 8,
    "start_time": "2024-11-25T15:47:33.609Z"
   },
   {
    "duration": 632,
    "start_time": "2024-11-25T15:48:21.727Z"
   },
   {
    "duration": 70,
    "start_time": "2024-11-25T15:48:22.361Z"
   },
   {
    "duration": 13,
    "start_time": "2024-11-25T15:48:22.433Z"
   },
   {
    "duration": 18,
    "start_time": "2024-11-25T15:48:22.448Z"
   },
   {
    "duration": 10,
    "start_time": "2024-11-25T15:48:22.468Z"
   },
   {
    "duration": 21,
    "start_time": "2024-11-25T15:48:22.480Z"
   },
   {
    "duration": 17,
    "start_time": "2024-11-25T15:48:22.503Z"
   },
   {
    "duration": 13,
    "start_time": "2024-11-25T15:48:22.522Z"
   },
   {
    "duration": 20,
    "start_time": "2024-11-25T15:48:22.536Z"
   },
   {
    "duration": 7,
    "start_time": "2024-11-25T15:48:22.558Z"
   },
   {
    "duration": 21,
    "start_time": "2024-11-25T15:48:22.567Z"
   },
   {
    "duration": 16,
    "start_time": "2024-11-25T15:48:22.590Z"
   },
   {
    "duration": 7,
    "start_time": "2024-11-25T15:48:22.608Z"
   },
   {
    "duration": 8,
    "start_time": "2024-11-25T15:48:22.619Z"
   },
   {
    "duration": 9,
    "start_time": "2024-11-25T15:48:22.628Z"
   },
   {
    "duration": 4,
    "start_time": "2024-11-25T15:48:22.639Z"
   },
   {
    "duration": 5,
    "start_time": "2024-11-25T15:48:22.645Z"
   },
   {
    "duration": 52,
    "start_time": "2024-11-25T15:48:22.651Z"
   },
   {
    "duration": 3,
    "start_time": "2024-11-25T15:48:22.704Z"
   },
   {
    "duration": 20,
    "start_time": "2024-11-25T15:48:22.709Z"
   },
   {
    "duration": 41,
    "start_time": "2024-11-25T15:48:22.731Z"
   },
   {
    "duration": 167,
    "start_time": "2024-11-25T15:48:22.774Z"
   },
   {
    "duration": 9,
    "start_time": "2024-11-25T15:48:22.942Z"
   },
   {
    "duration": 146,
    "start_time": "2024-11-25T15:48:22.952Z"
   },
   {
    "duration": 12,
    "start_time": "2024-11-25T15:48:23.100Z"
   },
   {
    "duration": 10,
    "start_time": "2024-11-25T15:48:23.114Z"
   },
   {
    "duration": 275,
    "start_time": "2024-11-25T15:48:23.126Z"
   },
   {
    "duration": 9,
    "start_time": "2024-11-25T15:48:23.403Z"
   },
   {
    "duration": 193,
    "start_time": "2024-11-25T15:48:23.414Z"
   },
   {
    "duration": 8,
    "start_time": "2024-11-25T15:48:23.609Z"
   },
   {
    "duration": 140,
    "start_time": "2024-11-25T15:48:23.618Z"
   },
   {
    "duration": 10,
    "start_time": "2024-11-25T15:48:23.760Z"
   },
   {
    "duration": 20,
    "start_time": "2024-11-25T15:48:23.771Z"
   },
   {
    "duration": 18,
    "start_time": "2024-11-25T15:48:23.793Z"
   },
   {
    "duration": 14,
    "start_time": "2024-11-25T15:48:23.813Z"
   },
   {
    "duration": 19,
    "start_time": "2024-11-25T15:48:23.828Z"
   },
   {
    "duration": 13,
    "start_time": "2024-11-25T15:48:23.849Z"
   },
   {
    "duration": 8,
    "start_time": "2024-11-25T15:48:23.864Z"
   },
   {
    "duration": 13,
    "start_time": "2024-11-25T15:48:23.900Z"
   },
   {
    "duration": 6,
    "start_time": "2024-11-25T15:48:23.916Z"
   },
   {
    "duration": 13,
    "start_time": "2024-11-25T15:48:23.926Z"
   },
   {
    "duration": 159,
    "start_time": "2024-11-25T15:48:23.941Z"
   },
   {
    "duration": 8,
    "start_time": "2024-11-25T15:48:24.102Z"
   },
   {
    "duration": 148,
    "start_time": "2024-11-25T15:48:24.111Z"
   },
   {
    "duration": 8,
    "start_time": "2024-11-25T15:48:24.261Z"
   },
   {
    "duration": 184,
    "start_time": "2024-11-25T15:48:24.270Z"
   },
   {
    "duration": 14,
    "start_time": "2024-11-25T15:48:24.457Z"
   },
   {
    "duration": 169,
    "start_time": "2024-11-25T15:48:24.473Z"
   },
   {
    "duration": 9,
    "start_time": "2024-11-25T15:48:24.643Z"
   },
   {
    "duration": 51,
    "start_time": "2024-11-25T15:48:24.653Z"
   },
   {
    "duration": 14,
    "start_time": "2024-11-25T15:48:24.707Z"
   },
   {
    "duration": 15,
    "start_time": "2024-11-25T15:48:24.724Z"
   },
   {
    "duration": 23,
    "start_time": "2024-11-25T15:48:24.741Z"
   },
   {
    "duration": 547,
    "start_time": "2024-11-25T16:14:35.974Z"
   },
   {
    "duration": 6,
    "start_time": "2024-11-25T16:25:06.465Z"
   },
   {
    "duration": 8,
    "start_time": "2024-11-25T16:33:20.687Z"
   },
   {
    "duration": 8,
    "start_time": "2024-11-25T16:34:28.947Z"
   },
   {
    "duration": 8,
    "start_time": "2024-11-25T16:34:44.648Z"
   },
   {
    "duration": 6,
    "start_time": "2024-11-25T16:35:21.127Z"
   },
   {
    "duration": 5,
    "start_time": "2024-11-25T16:37:26.142Z"
   },
   {
    "duration": 5,
    "start_time": "2024-11-25T16:50:17.338Z"
   },
   {
    "duration": 1192,
    "start_time": "2024-11-25T17:00:12.429Z"
   },
   {
    "duration": 70,
    "start_time": "2024-11-25T17:00:13.623Z"
   },
   {
    "duration": 13,
    "start_time": "2024-11-25T17:00:13.695Z"
   },
   {
    "duration": 20,
    "start_time": "2024-11-25T17:00:13.709Z"
   },
   {
    "duration": 24,
    "start_time": "2024-11-25T17:00:13.730Z"
   },
   {
    "duration": 30,
    "start_time": "2024-11-25T17:00:13.756Z"
   },
   {
    "duration": 33,
    "start_time": "2024-11-25T17:00:13.788Z"
   },
   {
    "duration": 36,
    "start_time": "2024-11-25T17:00:13.823Z"
   },
   {
    "duration": 21,
    "start_time": "2024-11-25T17:00:13.861Z"
   },
   {
    "duration": 26,
    "start_time": "2024-11-25T17:00:13.885Z"
   },
   {
    "duration": 27,
    "start_time": "2024-11-25T17:00:13.913Z"
   },
   {
    "duration": 28,
    "start_time": "2024-11-25T17:00:13.941Z"
   },
   {
    "duration": 20,
    "start_time": "2024-11-25T17:00:13.970Z"
   },
   {
    "duration": 26,
    "start_time": "2024-11-25T17:00:13.992Z"
   },
   {
    "duration": 23,
    "start_time": "2024-11-25T17:00:14.020Z"
   },
   {
    "duration": 13,
    "start_time": "2024-11-25T17:00:14.045Z"
   },
   {
    "duration": 31,
    "start_time": "2024-11-25T17:00:14.060Z"
   },
   {
    "duration": 29,
    "start_time": "2024-11-25T17:00:14.093Z"
   },
   {
    "duration": 16,
    "start_time": "2024-11-25T17:00:14.124Z"
   },
   {
    "duration": 33,
    "start_time": "2024-11-25T17:00:14.142Z"
   },
   {
    "duration": 48,
    "start_time": "2024-11-25T17:00:14.177Z"
   },
   {
    "duration": 205,
    "start_time": "2024-11-25T17:00:14.227Z"
   },
   {
    "duration": 11,
    "start_time": "2024-11-25T17:00:14.434Z"
   },
   {
    "duration": 148,
    "start_time": "2024-11-25T17:00:14.447Z"
   },
   {
    "duration": 10,
    "start_time": "2024-11-25T17:00:14.596Z"
   },
   {
    "duration": 15,
    "start_time": "2024-11-25T17:00:14.608Z"
   },
   {
    "duration": 255,
    "start_time": "2024-11-25T17:00:14.625Z"
   },
   {
    "duration": 21,
    "start_time": "2024-11-25T17:00:14.883Z"
   },
   {
    "duration": 142,
    "start_time": "2024-11-25T17:00:14.906Z"
   },
   {
    "duration": 9,
    "start_time": "2024-11-25T17:00:15.050Z"
   },
   {
    "duration": 170,
    "start_time": "2024-11-25T17:00:15.062Z"
   },
   {
    "duration": 11,
    "start_time": "2024-11-25T17:00:15.233Z"
   },
   {
    "duration": 50,
    "start_time": "2024-11-25T17:00:15.246Z"
   },
   {
    "duration": 39,
    "start_time": "2024-11-25T17:00:15.298Z"
   },
   {
    "duration": 54,
    "start_time": "2024-11-25T17:00:15.338Z"
   },
   {
    "duration": 30,
    "start_time": "2024-11-25T17:00:15.393Z"
   },
   {
    "duration": 14,
    "start_time": "2024-11-25T17:00:15.425Z"
   },
   {
    "duration": 33,
    "start_time": "2024-11-25T17:00:15.441Z"
   },
   {
    "duration": 17,
    "start_time": "2024-11-25T17:00:15.478Z"
   },
   {
    "duration": 14,
    "start_time": "2024-11-25T17:00:15.497Z"
   },
   {
    "duration": 35,
    "start_time": "2024-11-25T17:00:15.513Z"
   },
   {
    "duration": 136,
    "start_time": "2024-11-25T17:00:15.549Z"
   },
   {
    "duration": 13,
    "start_time": "2024-11-25T17:00:15.687Z"
   },
   {
    "duration": 128,
    "start_time": "2024-11-25T17:00:15.702Z"
   },
   {
    "duration": 8,
    "start_time": "2024-11-25T17:00:15.832Z"
   },
   {
    "duration": 147,
    "start_time": "2024-11-25T17:00:15.842Z"
   },
   {
    "duration": 12,
    "start_time": "2024-11-25T17:00:15.990Z"
   },
   {
    "duration": 245,
    "start_time": "2024-11-25T17:00:16.004Z"
   },
   {
    "duration": 8,
    "start_time": "2024-11-25T17:00:16.251Z"
   },
   {
    "duration": 47,
    "start_time": "2024-11-25T17:00:16.261Z"
   },
   {
    "duration": 9,
    "start_time": "2024-11-25T17:00:16.310Z"
   },
   {
    "duration": 8,
    "start_time": "2024-11-25T17:00:16.321Z"
   },
   {
    "duration": 14,
    "start_time": "2024-11-25T17:00:16.331Z"
   },
   {
    "duration": 6,
    "start_time": "2024-11-25T17:00:16.347Z"
   },
   {
    "duration": 11,
    "start_time": "2024-11-25T17:00:16.355Z"
   },
   {
    "duration": 20,
    "start_time": "2024-11-25T17:00:16.368Z"
   },
   {
    "duration": 55,
    "start_time": "2024-11-26T10:15:55.489Z"
   },
   {
    "duration": 1372,
    "start_time": "2024-11-26T10:16:01.878Z"
   },
   {
    "duration": 410,
    "start_time": "2024-11-26T10:16:03.252Z"
   },
   {
    "duration": 13,
    "start_time": "2024-11-26T10:16:03.663Z"
   },
   {
    "duration": 32,
    "start_time": "2024-11-26T10:16:03.679Z"
   },
   {
    "duration": 28,
    "start_time": "2024-11-26T10:16:03.714Z"
   },
   {
    "duration": 25,
    "start_time": "2024-11-26T10:16:03.744Z"
   },
   {
    "duration": 56,
    "start_time": "2024-11-26T10:16:03.771Z"
   },
   {
    "duration": 19,
    "start_time": "2024-11-26T10:16:03.830Z"
   },
   {
    "duration": 16,
    "start_time": "2024-11-26T10:16:03.851Z"
   },
   {
    "duration": 6,
    "start_time": "2024-11-26T10:16:03.868Z"
   },
   {
    "duration": 15,
    "start_time": "2024-11-26T10:16:03.876Z"
   },
   {
    "duration": 22,
    "start_time": "2024-11-26T10:16:03.893Z"
   },
   {
    "duration": 10,
    "start_time": "2024-11-26T10:16:03.917Z"
   },
   {
    "duration": 8,
    "start_time": "2024-11-26T10:16:03.931Z"
   },
   {
    "duration": 25,
    "start_time": "2024-11-26T10:16:03.940Z"
   },
   {
    "duration": 6,
    "start_time": "2024-11-26T10:16:03.966Z"
   },
   {
    "duration": 6,
    "start_time": "2024-11-26T10:16:03.974Z"
   },
   {
    "duration": 29,
    "start_time": "2024-11-26T10:16:03.982Z"
   },
   {
    "duration": 12,
    "start_time": "2024-11-26T10:16:04.013Z"
   },
   {
    "duration": 9,
    "start_time": "2024-11-26T10:16:04.027Z"
   },
   {
    "duration": 12,
    "start_time": "2024-11-26T10:16:04.038Z"
   },
   {
    "duration": 169,
    "start_time": "2024-11-26T10:16:04.052Z"
   },
   {
    "duration": 9,
    "start_time": "2024-11-26T10:16:04.223Z"
   },
   {
    "duration": 144,
    "start_time": "2024-11-26T10:16:04.233Z"
   },
   {
    "duration": 19,
    "start_time": "2024-11-26T10:16:04.379Z"
   },
   {
    "duration": 38,
    "start_time": "2024-11-26T10:16:04.400Z"
   },
   {
    "duration": 269,
    "start_time": "2024-11-26T10:16:04.439Z"
   },
   {
    "duration": 10,
    "start_time": "2024-11-26T10:16:04.709Z"
   },
   {
    "duration": 160,
    "start_time": "2024-11-26T10:16:04.720Z"
   },
   {
    "duration": 18,
    "start_time": "2024-11-26T10:16:04.881Z"
   },
   {
    "duration": 170,
    "start_time": "2024-11-26T10:16:04.901Z"
   },
   {
    "duration": 11,
    "start_time": "2024-11-26T10:16:05.073Z"
   },
   {
    "duration": 144,
    "start_time": "2024-11-26T10:16:05.085Z"
   },
   {
    "duration": 14,
    "start_time": "2024-11-26T10:16:05.230Z"
   },
   {
    "duration": 31,
    "start_time": "2024-11-26T10:16:05.245Z"
   },
   {
    "duration": 28,
    "start_time": "2024-11-26T10:16:05.277Z"
   },
   {
    "duration": 33,
    "start_time": "2024-11-26T10:16:05.306Z"
   },
   {
    "duration": 25,
    "start_time": "2024-11-26T10:16:05.341Z"
   },
   {
    "duration": 12,
    "start_time": "2024-11-26T10:16:05.368Z"
   },
   {
    "duration": 47,
    "start_time": "2024-11-26T10:16:05.381Z"
   },
   {
    "duration": 14,
    "start_time": "2024-11-26T10:16:05.432Z"
   },
   {
    "duration": 149,
    "start_time": "2024-11-26T10:16:05.448Z"
   },
   {
    "duration": 8,
    "start_time": "2024-11-26T10:16:05.599Z"
   },
   {
    "duration": 147,
    "start_time": "2024-11-26T10:16:05.609Z"
   },
   {
    "duration": 7,
    "start_time": "2024-11-26T10:16:05.758Z"
   },
   {
    "duration": 156,
    "start_time": "2024-11-26T10:16:05.767Z"
   },
   {
    "duration": 9,
    "start_time": "2024-11-26T10:16:05.924Z"
   },
   {
    "duration": 236,
    "start_time": "2024-11-26T10:16:05.934Z"
   },
   {
    "duration": 8,
    "start_time": "2024-11-26T10:16:06.172Z"
   },
   {
    "duration": 40,
    "start_time": "2024-11-26T10:16:06.182Z"
   },
   {
    "duration": 10,
    "start_time": "2024-11-26T10:16:06.224Z"
   },
   {
    "duration": 14,
    "start_time": "2024-11-26T10:16:06.235Z"
   },
   {
    "duration": 24,
    "start_time": "2024-11-26T10:16:06.251Z"
   },
   {
    "duration": 58,
    "start_time": "2024-11-26T10:16:06.276Z"
   },
   {
    "duration": 19,
    "start_time": "2024-11-26T10:16:06.335Z"
   },
   {
    "duration": 1048,
    "start_time": "2024-11-26T10:16:06.356Z"
   },
   {
    "duration": 7,
    "start_time": "2024-11-26T10:21:48.454Z"
   },
   {
    "duration": 4,
    "start_time": "2024-11-26T11:45:13.425Z"
   },
   {
    "duration": 2146,
    "start_time": "2024-11-26T12:35:07.910Z"
   },
   {
    "duration": 2174,
    "start_time": "2024-11-26T12:35:34.229Z"
   },
   {
    "duration": 2251,
    "start_time": "2024-11-26T12:35:56.592Z"
   },
   {
    "duration": 1809,
    "start_time": "2024-11-26T12:36:31.738Z"
   },
   {
    "duration": 1795,
    "start_time": "2024-11-26T12:36:59.883Z"
   },
   {
    "duration": 1761,
    "start_time": "2024-11-26T12:37:29.772Z"
   },
   {
    "duration": 1866,
    "start_time": "2024-11-26T12:37:37.388Z"
   },
   {
    "duration": 1765,
    "start_time": "2024-11-26T13:18:22.963Z"
   },
   {
    "duration": 1795,
    "start_time": "2024-11-26T13:23:12.503Z"
   },
   {
    "duration": 13,
    "start_time": "2024-11-26T13:23:21.402Z"
   },
   {
    "duration": 1130,
    "start_time": "2024-11-26T13:24:38.041Z"
   },
   {
    "duration": 87,
    "start_time": "2024-11-26T13:24:39.173Z"
   },
   {
    "duration": 11,
    "start_time": "2024-11-26T13:24:39.262Z"
   },
   {
    "duration": 10,
    "start_time": "2024-11-26T13:24:39.275Z"
   },
   {
    "duration": 8,
    "start_time": "2024-11-26T13:24:39.286Z"
   },
   {
    "duration": 16,
    "start_time": "2024-11-26T13:24:39.296Z"
   },
   {
    "duration": 22,
    "start_time": "2024-11-26T13:24:39.314Z"
   },
   {
    "duration": 10,
    "start_time": "2024-11-26T13:24:39.338Z"
   },
   {
    "duration": 7,
    "start_time": "2024-11-26T13:24:39.350Z"
   },
   {
    "duration": 5,
    "start_time": "2024-11-26T13:24:39.360Z"
   },
   {
    "duration": 6,
    "start_time": "2024-11-26T13:24:39.366Z"
   },
   {
    "duration": 25,
    "start_time": "2024-11-26T13:24:39.373Z"
   },
   {
    "duration": 6,
    "start_time": "2024-11-26T13:24:39.399Z"
   },
   {
    "duration": 9,
    "start_time": "2024-11-26T13:24:39.407Z"
   },
   {
    "duration": 17,
    "start_time": "2024-11-26T13:24:39.418Z"
   },
   {
    "duration": 5,
    "start_time": "2024-11-26T13:24:39.436Z"
   },
   {
    "duration": 17,
    "start_time": "2024-11-26T13:24:39.442Z"
   },
   {
    "duration": 6,
    "start_time": "2024-11-26T13:24:39.461Z"
   },
   {
    "duration": 3,
    "start_time": "2024-11-26T13:24:39.468Z"
   },
   {
    "duration": 29,
    "start_time": "2024-11-26T13:24:39.473Z"
   },
   {
    "duration": 20,
    "start_time": "2024-11-26T13:24:39.504Z"
   },
   {
    "duration": 167,
    "start_time": "2024-11-26T13:24:39.525Z"
   },
   {
    "duration": 9,
    "start_time": "2024-11-26T13:24:39.698Z"
   },
   {
    "duration": 139,
    "start_time": "2024-11-26T13:24:39.709Z"
   },
   {
    "duration": 9,
    "start_time": "2024-11-26T13:24:39.850Z"
   },
   {
    "duration": 45,
    "start_time": "2024-11-26T13:24:39.860Z"
   },
   {
    "duration": 273,
    "start_time": "2024-11-26T13:24:39.907Z"
   },
   {
    "duration": 14,
    "start_time": "2024-11-26T13:24:40.186Z"
   },
   {
    "duration": 152,
    "start_time": "2024-11-26T13:24:40.202Z"
   },
   {
    "duration": 9,
    "start_time": "2024-11-26T13:24:40.356Z"
   },
   {
    "duration": 153,
    "start_time": "2024-11-26T13:24:40.367Z"
   },
   {
    "duration": 10,
    "start_time": "2024-11-26T13:24:40.522Z"
   },
   {
    "duration": 20,
    "start_time": "2024-11-26T13:24:40.534Z"
   },
   {
    "duration": 13,
    "start_time": "2024-11-26T13:24:40.555Z"
   },
   {
    "duration": 31,
    "start_time": "2024-11-26T13:24:40.569Z"
   },
   {
    "duration": 14,
    "start_time": "2024-11-26T13:24:40.601Z"
   },
   {
    "duration": 15,
    "start_time": "2024-11-26T13:24:40.616Z"
   },
   {
    "duration": 26,
    "start_time": "2024-11-26T13:24:40.633Z"
   },
   {
    "duration": 17,
    "start_time": "2024-11-26T13:24:40.660Z"
   },
   {
    "duration": 22,
    "start_time": "2024-11-26T13:24:40.679Z"
   },
   {
    "duration": 23,
    "start_time": "2024-11-26T13:24:40.703Z"
   },
   {
    "duration": 144,
    "start_time": "2024-11-26T13:24:40.727Z"
   },
   {
    "duration": 9,
    "start_time": "2024-11-26T13:24:40.873Z"
   },
   {
    "duration": 133,
    "start_time": "2024-11-26T13:24:40.883Z"
   },
   {
    "duration": 9,
    "start_time": "2024-11-26T13:24:41.018Z"
   },
   {
    "duration": 162,
    "start_time": "2024-11-26T13:24:41.029Z"
   },
   {
    "duration": 10,
    "start_time": "2024-11-26T13:24:41.193Z"
   },
   {
    "duration": 241,
    "start_time": "2024-11-26T13:24:41.205Z"
   },
   {
    "duration": 9,
    "start_time": "2024-11-26T13:24:41.447Z"
   },
   {
    "duration": 80,
    "start_time": "2024-11-26T13:24:41.458Z"
   },
   {
    "duration": 34,
    "start_time": "2024-11-26T13:24:41.540Z"
   },
   {
    "duration": 43,
    "start_time": "2024-11-26T13:24:41.576Z"
   },
   {
    "duration": 27,
    "start_time": "2024-11-26T13:24:41.621Z"
   },
   {
    "duration": 19,
    "start_time": "2024-11-26T13:24:41.650Z"
   },
   {
    "duration": 30,
    "start_time": "2024-11-26T13:24:41.671Z"
   },
   {
    "duration": 26,
    "start_time": "2024-11-26T13:24:41.703Z"
   },
   {
    "duration": 1825,
    "start_time": "2024-11-26T13:24:41.731Z"
   },
   {
    "duration": 115,
    "start_time": "2024-11-26T13:24:43.558Z"
   },
   {
    "duration": 13,
    "start_time": "2024-11-26T13:25:25.299Z"
   },
   {
    "duration": 1722,
    "start_time": "2024-11-26T13:27:34.549Z"
   },
   {
    "duration": 17,
    "start_time": "2024-11-26T13:28:39.658Z"
   },
   {
    "duration": 1180,
    "start_time": "2024-11-26T13:28:53.400Z"
   },
   {
    "duration": 82,
    "start_time": "2024-11-26T13:28:54.582Z"
   },
   {
    "duration": 12,
    "start_time": "2024-11-26T13:28:54.666Z"
   },
   {
    "duration": 15,
    "start_time": "2024-11-26T13:28:54.680Z"
   },
   {
    "duration": 8,
    "start_time": "2024-11-26T13:28:54.697Z"
   },
   {
    "duration": 12,
    "start_time": "2024-11-26T13:28:54.707Z"
   },
   {
    "duration": 15,
    "start_time": "2024-11-26T13:28:54.722Z"
   },
   {
    "duration": 12,
    "start_time": "2024-11-26T13:28:54.739Z"
   },
   {
    "duration": 8,
    "start_time": "2024-11-26T13:28:54.753Z"
   },
   {
    "duration": 35,
    "start_time": "2024-11-26T13:28:54.763Z"
   },
   {
    "duration": 8,
    "start_time": "2024-11-26T13:28:54.800Z"
   },
   {
    "duration": 8,
    "start_time": "2024-11-26T13:28:54.809Z"
   },
   {
    "duration": 5,
    "start_time": "2024-11-26T13:28:54.819Z"
   },
   {
    "duration": 6,
    "start_time": "2024-11-26T13:28:54.827Z"
   },
   {
    "duration": 8,
    "start_time": "2024-11-26T13:28:54.835Z"
   },
   {
    "duration": 5,
    "start_time": "2024-11-26T13:28:54.844Z"
   },
   {
    "duration": 6,
    "start_time": "2024-11-26T13:28:54.851Z"
   },
   {
    "duration": 7,
    "start_time": "2024-11-26T13:28:54.897Z"
   },
   {
    "duration": 6,
    "start_time": "2024-11-26T13:28:54.906Z"
   },
   {
    "duration": 3,
    "start_time": "2024-11-26T13:28:54.914Z"
   },
   {
    "duration": 29,
    "start_time": "2024-11-26T13:28:54.919Z"
   },
   {
    "duration": 167,
    "start_time": "2024-11-26T13:28:54.949Z"
   },
   {
    "duration": 8,
    "start_time": "2024-11-26T13:28:55.118Z"
   },
   {
    "duration": 167,
    "start_time": "2024-11-26T13:28:55.128Z"
   },
   {
    "duration": 10,
    "start_time": "2024-11-26T13:28:55.297Z"
   },
   {
    "duration": 10,
    "start_time": "2024-11-26T13:28:55.309Z"
   },
   {
    "duration": 278,
    "start_time": "2024-11-26T13:28:55.321Z"
   },
   {
    "duration": 9,
    "start_time": "2024-11-26T13:28:55.600Z"
   },
   {
    "duration": 158,
    "start_time": "2024-11-26T13:28:55.610Z"
   },
   {
    "duration": 9,
    "start_time": "2024-11-26T13:28:55.769Z"
   },
   {
    "duration": 148,
    "start_time": "2024-11-26T13:28:55.780Z"
   },
   {
    "duration": 10,
    "start_time": "2024-11-26T13:28:55.930Z"
   },
   {
    "duration": 9,
    "start_time": "2024-11-26T13:28:55.942Z"
   },
   {
    "duration": 16,
    "start_time": "2024-11-26T13:28:55.952Z"
   },
   {
    "duration": 34,
    "start_time": "2024-11-26T13:28:55.970Z"
   },
   {
    "duration": 12,
    "start_time": "2024-11-26T13:28:56.005Z"
   },
   {
    "duration": 13,
    "start_time": "2024-11-26T13:28:56.019Z"
   },
   {
    "duration": 12,
    "start_time": "2024-11-26T13:28:56.033Z"
   },
   {
    "duration": 17,
    "start_time": "2024-11-26T13:28:56.046Z"
   },
   {
    "duration": 11,
    "start_time": "2024-11-26T13:28:56.065Z"
   },
   {
    "duration": 13,
    "start_time": "2024-11-26T13:28:56.097Z"
   },
   {
    "duration": 153,
    "start_time": "2024-11-26T13:28:56.112Z"
   },
   {
    "duration": 8,
    "start_time": "2024-11-26T13:28:56.267Z"
   },
   {
    "duration": 135,
    "start_time": "2024-11-26T13:28:56.276Z"
   },
   {
    "duration": 8,
    "start_time": "2024-11-26T13:28:56.413Z"
   },
   {
    "duration": 148,
    "start_time": "2024-11-26T13:28:56.423Z"
   },
   {
    "duration": 8,
    "start_time": "2024-11-26T13:28:56.573Z"
   },
   {
    "duration": 228,
    "start_time": "2024-11-26T13:28:56.582Z"
   },
   {
    "duration": 8,
    "start_time": "2024-11-26T13:28:56.811Z"
   },
   {
    "duration": 37,
    "start_time": "2024-11-26T13:28:56.820Z"
   },
   {
    "duration": 10,
    "start_time": "2024-11-26T13:28:56.858Z"
   },
   {
    "duration": 12,
    "start_time": "2024-11-26T13:28:56.870Z"
   },
   {
    "duration": 20,
    "start_time": "2024-11-26T13:28:56.883Z"
   },
   {
    "duration": 5,
    "start_time": "2024-11-26T13:28:56.904Z"
   },
   {
    "duration": 9,
    "start_time": "2024-11-26T13:28:56.911Z"
   },
   {
    "duration": 9,
    "start_time": "2024-11-26T13:28:56.921Z"
   },
   {
    "duration": 1792,
    "start_time": "2024-11-26T13:28:56.931Z"
   },
   {
    "duration": 116,
    "start_time": "2024-11-26T13:28:58.724Z"
   },
   {
    "duration": 173,
    "start_time": "2024-11-26T13:29:26.187Z"
   },
   {
    "duration": 162,
    "start_time": "2024-11-26T13:35:10.731Z"
   },
   {
    "duration": 1742,
    "start_time": "2024-11-26T13:36:21.239Z"
   },
   {
    "duration": 3,
    "start_time": "2024-11-26T13:37:42.841Z"
   },
   {
    "duration": 1194,
    "start_time": "2024-11-26T14:08:58.573Z"
   },
   {
    "duration": 81,
    "start_time": "2024-11-26T14:08:59.769Z"
   },
   {
    "duration": 12,
    "start_time": "2024-11-26T14:08:59.851Z"
   },
   {
    "duration": 10,
    "start_time": "2024-11-26T14:08:59.865Z"
   },
   {
    "duration": 12,
    "start_time": "2024-11-26T14:08:59.876Z"
   },
   {
    "duration": 20,
    "start_time": "2024-11-26T14:08:59.890Z"
   },
   {
    "duration": 22,
    "start_time": "2024-11-26T14:08:59.912Z"
   },
   {
    "duration": 19,
    "start_time": "2024-11-26T14:08:59.936Z"
   },
   {
    "duration": 25,
    "start_time": "2024-11-26T14:08:59.956Z"
   },
   {
    "duration": 56,
    "start_time": "2024-11-26T14:08:59.983Z"
   },
   {
    "duration": 50,
    "start_time": "2024-11-26T14:09:00.040Z"
   },
   {
    "duration": 34,
    "start_time": "2024-11-26T14:09:00.092Z"
   },
   {
    "duration": 26,
    "start_time": "2024-11-26T14:09:00.127Z"
   },
   {
    "duration": 38,
    "start_time": "2024-11-26T14:09:00.154Z"
   },
   {
    "duration": 50,
    "start_time": "2024-11-26T14:09:00.194Z"
   },
   {
    "duration": 27,
    "start_time": "2024-11-26T14:09:00.245Z"
   },
   {
    "duration": 28,
    "start_time": "2024-11-26T14:09:00.273Z"
   },
   {
    "duration": 62,
    "start_time": "2024-11-26T14:09:00.303Z"
   },
   {
    "duration": 31,
    "start_time": "2024-11-26T14:09:00.367Z"
   },
   {
    "duration": 32,
    "start_time": "2024-11-26T14:09:00.400Z"
   },
   {
    "duration": 20,
    "start_time": "2024-11-26T14:09:00.433Z"
   },
   {
    "duration": 181,
    "start_time": "2024-11-26T14:09:00.455Z"
   },
   {
    "duration": 8,
    "start_time": "2024-11-26T14:09:00.637Z"
   },
   {
    "duration": 165,
    "start_time": "2024-11-26T14:09:00.647Z"
   },
   {
    "duration": 9,
    "start_time": "2024-11-26T14:09:00.813Z"
   },
   {
    "duration": 22,
    "start_time": "2024-11-26T14:09:00.823Z"
   },
   {
    "duration": 304,
    "start_time": "2024-11-26T14:09:00.847Z"
   },
   {
    "duration": 9,
    "start_time": "2024-11-26T14:09:01.155Z"
   },
   {
    "duration": 152,
    "start_time": "2024-11-26T14:09:01.165Z"
   },
   {
    "duration": 9,
    "start_time": "2024-11-26T14:09:01.319Z"
   },
   {
    "duration": 154,
    "start_time": "2024-11-26T14:09:01.330Z"
   },
   {
    "duration": 19,
    "start_time": "2024-11-26T14:09:01.485Z"
   },
   {
    "duration": 40,
    "start_time": "2024-11-26T14:09:01.505Z"
   },
   {
    "duration": 37,
    "start_time": "2024-11-26T14:09:01.547Z"
   },
   {
    "duration": 24,
    "start_time": "2024-11-26T14:09:01.587Z"
   },
   {
    "duration": 32,
    "start_time": "2024-11-26T14:09:01.613Z"
   },
   {
    "duration": 30,
    "start_time": "2024-11-26T14:09:01.647Z"
   },
   {
    "duration": 65,
    "start_time": "2024-11-26T14:09:01.679Z"
   },
   {
    "duration": 24,
    "start_time": "2024-11-26T14:09:01.746Z"
   },
   {
    "duration": 8,
    "start_time": "2024-11-26T14:09:01.772Z"
   },
   {
    "duration": 63,
    "start_time": "2024-11-26T14:09:01.781Z"
   },
   {
    "duration": 148,
    "start_time": "2024-11-26T14:09:01.846Z"
   },
   {
    "duration": 9,
    "start_time": "2024-11-26T14:09:01.997Z"
   },
   {
    "duration": 132,
    "start_time": "2024-11-26T14:09:02.008Z"
   },
   {
    "duration": 10,
    "start_time": "2024-11-26T14:09:02.142Z"
   },
   {
    "duration": 149,
    "start_time": "2024-11-26T14:09:02.154Z"
   },
   {
    "duration": 9,
    "start_time": "2024-11-26T14:09:02.305Z"
   },
   {
    "duration": 249,
    "start_time": "2024-11-26T14:09:02.316Z"
   },
   {
    "duration": 9,
    "start_time": "2024-11-26T14:09:02.567Z"
   },
   {
    "duration": 44,
    "start_time": "2024-11-26T14:09:02.578Z"
   },
   {
    "duration": 10,
    "start_time": "2024-11-26T14:09:02.624Z"
   },
   {
    "duration": 6,
    "start_time": "2024-11-26T14:09:02.636Z"
   },
   {
    "duration": 11,
    "start_time": "2024-11-26T14:09:02.644Z"
   },
   {
    "duration": 9,
    "start_time": "2024-11-26T14:09:02.657Z"
   },
   {
    "duration": 6,
    "start_time": "2024-11-26T14:09:02.698Z"
   },
   {
    "duration": 44,
    "start_time": "2024-11-26T14:09:02.706Z"
   },
   {
    "duration": 1713,
    "start_time": "2024-11-26T14:09:02.752Z"
   },
   {
    "duration": 110,
    "start_time": "2024-11-26T14:09:04.467Z"
   },
   {
    "duration": 179,
    "start_time": "2024-11-26T14:14:01.576Z"
   },
   {
    "duration": 171,
    "start_time": "2024-11-26T14:14:14.540Z"
   },
   {
    "duration": 1156,
    "start_time": "2024-11-26T14:14:22.020Z"
   },
   {
    "duration": 83,
    "start_time": "2024-11-26T14:14:23.178Z"
   },
   {
    "duration": 12,
    "start_time": "2024-11-26T14:14:23.262Z"
   },
   {
    "duration": 12,
    "start_time": "2024-11-26T14:14:23.276Z"
   },
   {
    "duration": 31,
    "start_time": "2024-11-26T14:14:23.290Z"
   },
   {
    "duration": 17,
    "start_time": "2024-11-26T14:14:23.323Z"
   },
   {
    "duration": 41,
    "start_time": "2024-11-26T14:14:23.342Z"
   },
   {
    "duration": 21,
    "start_time": "2024-11-26T14:14:23.385Z"
   },
   {
    "duration": 23,
    "start_time": "2024-11-26T14:14:23.407Z"
   },
   {
    "duration": 11,
    "start_time": "2024-11-26T14:14:23.433Z"
   },
   {
    "duration": 8,
    "start_time": "2024-11-26T14:14:23.446Z"
   },
   {
    "duration": 14,
    "start_time": "2024-11-26T14:14:23.456Z"
   },
   {
    "duration": 18,
    "start_time": "2024-11-26T14:14:23.471Z"
   },
   {
    "duration": 17,
    "start_time": "2024-11-26T14:14:23.490Z"
   },
   {
    "duration": 20,
    "start_time": "2024-11-26T14:14:23.509Z"
   },
   {
    "duration": 11,
    "start_time": "2024-11-26T14:14:23.531Z"
   },
   {
    "duration": 34,
    "start_time": "2024-11-26T14:14:23.543Z"
   },
   {
    "duration": 26,
    "start_time": "2024-11-26T14:14:23.579Z"
   },
   {
    "duration": 22,
    "start_time": "2024-11-26T14:14:23.607Z"
   },
   {
    "duration": 28,
    "start_time": "2024-11-26T14:14:23.631Z"
   },
   {
    "duration": 25,
    "start_time": "2024-11-26T14:14:23.661Z"
   },
   {
    "duration": 166,
    "start_time": "2024-11-26T14:14:23.687Z"
   },
   {
    "duration": 10,
    "start_time": "2024-11-26T14:14:23.854Z"
   },
   {
    "duration": 149,
    "start_time": "2024-11-26T14:14:23.866Z"
   },
   {
    "duration": 10,
    "start_time": "2024-11-26T14:14:24.017Z"
   },
   {
    "duration": 81,
    "start_time": "2024-11-26T14:14:24.029Z"
   },
   {
    "duration": 294,
    "start_time": "2024-11-26T14:14:24.113Z"
   },
   {
    "duration": 10,
    "start_time": "2024-11-26T14:14:24.411Z"
   },
   {
    "duration": 181,
    "start_time": "2024-11-26T14:14:24.422Z"
   },
   {
    "duration": 8,
    "start_time": "2024-11-26T14:14:24.605Z"
   },
   {
    "duration": 161,
    "start_time": "2024-11-26T14:14:24.615Z"
   },
   {
    "duration": 11,
    "start_time": "2024-11-26T14:14:24.777Z"
   },
   {
    "duration": 10,
    "start_time": "2024-11-26T14:14:24.797Z"
   },
   {
    "duration": 22,
    "start_time": "2024-11-26T14:14:24.808Z"
   },
   {
    "duration": 12,
    "start_time": "2024-11-26T14:14:24.831Z"
   },
   {
    "duration": 20,
    "start_time": "2024-11-26T14:14:24.845Z"
   },
   {
    "duration": 18,
    "start_time": "2024-11-26T14:14:24.867Z"
   },
   {
    "duration": 43,
    "start_time": "2024-11-26T14:14:24.887Z"
   },
   {
    "duration": 22,
    "start_time": "2024-11-26T14:14:24.932Z"
   },
   {
    "duration": 22,
    "start_time": "2024-11-26T14:14:24.956Z"
   },
   {
    "duration": 46,
    "start_time": "2024-11-26T14:14:24.979Z"
   },
   {
    "duration": 146,
    "start_time": "2024-11-26T14:14:25.027Z"
   },
   {
    "duration": 10,
    "start_time": "2024-11-26T14:14:25.175Z"
   },
   {
    "duration": 125,
    "start_time": "2024-11-26T14:14:25.197Z"
   },
   {
    "duration": 9,
    "start_time": "2024-11-26T14:14:25.323Z"
   },
   {
    "duration": 149,
    "start_time": "2024-11-26T14:14:25.333Z"
   },
   {
    "duration": 17,
    "start_time": "2024-11-26T14:14:25.484Z"
   },
   {
    "duration": 227,
    "start_time": "2024-11-26T14:14:25.502Z"
   },
   {
    "duration": 9,
    "start_time": "2024-11-26T14:14:25.730Z"
   },
   {
    "duration": 46,
    "start_time": "2024-11-26T14:14:25.740Z"
   },
   {
    "duration": 12,
    "start_time": "2024-11-26T14:14:25.787Z"
   },
   {
    "duration": 28,
    "start_time": "2024-11-26T14:14:25.801Z"
   },
   {
    "duration": 27,
    "start_time": "2024-11-26T14:14:25.830Z"
   },
   {
    "duration": 21,
    "start_time": "2024-11-26T14:14:25.859Z"
   },
   {
    "duration": 10,
    "start_time": "2024-11-26T14:14:25.882Z"
   },
   {
    "duration": 14,
    "start_time": "2024-11-26T14:14:25.894Z"
   },
   {
    "duration": 1699,
    "start_time": "2024-11-26T14:14:25.909Z"
   },
   {
    "duration": 114,
    "start_time": "2024-11-26T14:14:27.610Z"
   },
   {
    "duration": 16,
    "start_time": "2024-11-26T14:15:27.928Z"
   },
   {
    "duration": 179,
    "start_time": "2024-11-26T14:15:39.251Z"
   },
   {
    "duration": 1145,
    "start_time": "2024-11-26T15:40:14.922Z"
   },
   {
    "duration": 77,
    "start_time": "2024-11-26T15:40:16.069Z"
   },
   {
    "duration": 13,
    "start_time": "2024-11-26T15:40:16.147Z"
   },
   {
    "duration": 13,
    "start_time": "2024-11-26T15:40:16.161Z"
   },
   {
    "duration": 12,
    "start_time": "2024-11-26T15:40:16.177Z"
   },
   {
    "duration": 22,
    "start_time": "2024-11-26T15:40:16.191Z"
   },
   {
    "duration": 23,
    "start_time": "2024-11-26T15:40:16.215Z"
   },
   {
    "duration": 10,
    "start_time": "2024-11-26T15:40:16.240Z"
   },
   {
    "duration": 26,
    "start_time": "2024-11-26T15:40:16.252Z"
   },
   {
    "duration": 5,
    "start_time": "2024-11-26T15:40:16.280Z"
   },
   {
    "duration": 8,
    "start_time": "2024-11-26T15:40:16.286Z"
   },
   {
    "duration": 6,
    "start_time": "2024-11-26T15:40:16.296Z"
   },
   {
    "duration": 6,
    "start_time": "2024-11-26T15:40:16.303Z"
   },
   {
    "duration": 5,
    "start_time": "2024-11-26T15:40:16.313Z"
   },
   {
    "duration": 12,
    "start_time": "2024-11-26T15:40:16.320Z"
   },
   {
    "duration": 45,
    "start_time": "2024-11-26T15:40:16.334Z"
   },
   {
    "duration": 63,
    "start_time": "2024-11-26T15:40:16.380Z"
   },
   {
    "duration": 11,
    "start_time": "2024-11-26T15:40:16.445Z"
   },
   {
    "duration": 7,
    "start_time": "2024-11-26T15:40:16.457Z"
   },
   {
    "duration": 5,
    "start_time": "2024-11-26T15:40:16.466Z"
   },
   {
    "duration": 16,
    "start_time": "2024-11-26T15:40:16.472Z"
   },
   {
    "duration": 170,
    "start_time": "2024-11-26T15:40:16.489Z"
   },
   {
    "duration": 8,
    "start_time": "2024-11-26T15:40:16.660Z"
   },
   {
    "duration": 140,
    "start_time": "2024-11-26T15:40:16.670Z"
   },
   {
    "duration": 9,
    "start_time": "2024-11-26T15:40:16.812Z"
   },
   {
    "duration": 26,
    "start_time": "2024-11-26T15:40:16.822Z"
   },
   {
    "duration": 278,
    "start_time": "2024-11-26T15:40:16.849Z"
   },
   {
    "duration": 8,
    "start_time": "2024-11-26T15:40:17.129Z"
   },
   {
    "duration": 158,
    "start_time": "2024-11-26T15:40:17.139Z"
   },
   {
    "duration": 9,
    "start_time": "2024-11-26T15:40:17.299Z"
   },
   {
    "duration": 149,
    "start_time": "2024-11-26T15:40:17.310Z"
   },
   {
    "duration": 14,
    "start_time": "2024-11-26T15:40:17.461Z"
   },
   {
    "duration": 26,
    "start_time": "2024-11-26T15:40:17.477Z"
   },
   {
    "duration": 16,
    "start_time": "2024-11-26T15:40:17.505Z"
   },
   {
    "duration": 17,
    "start_time": "2024-11-26T15:40:17.522Z"
   },
   {
    "duration": 15,
    "start_time": "2024-11-26T15:40:17.540Z"
   },
   {
    "duration": 40,
    "start_time": "2024-11-26T15:40:17.557Z"
   },
   {
    "duration": 7,
    "start_time": "2024-11-26T15:40:17.599Z"
   },
   {
    "duration": 14,
    "start_time": "2024-11-26T15:40:17.608Z"
   },
   {
    "duration": 22,
    "start_time": "2024-11-26T15:40:17.624Z"
   },
   {
    "duration": 12,
    "start_time": "2024-11-26T15:40:17.650Z"
   },
   {
    "duration": 173,
    "start_time": "2024-11-26T15:40:17.664Z"
   },
   {
    "duration": 10,
    "start_time": "2024-11-26T15:40:17.840Z"
   },
   {
    "duration": 144,
    "start_time": "2024-11-26T15:40:17.851Z"
   },
   {
    "duration": 8,
    "start_time": "2024-11-26T15:40:17.997Z"
   },
   {
    "duration": 150,
    "start_time": "2024-11-26T15:40:18.006Z"
   },
   {
    "duration": 9,
    "start_time": "2024-11-26T15:40:18.157Z"
   },
   {
    "duration": 254,
    "start_time": "2024-11-26T15:40:18.167Z"
   },
   {
    "duration": 9,
    "start_time": "2024-11-26T15:40:18.422Z"
   },
   {
    "duration": 34,
    "start_time": "2024-11-26T15:40:18.432Z"
   },
   {
    "duration": 30,
    "start_time": "2024-11-26T15:40:18.469Z"
   },
   {
    "duration": 16,
    "start_time": "2024-11-26T15:40:18.502Z"
   },
   {
    "duration": 24,
    "start_time": "2024-11-26T15:40:18.521Z"
   },
   {
    "duration": 23,
    "start_time": "2024-11-26T15:40:18.547Z"
   },
   {
    "duration": 15,
    "start_time": "2024-11-26T15:40:18.571Z"
   },
   {
    "duration": 37,
    "start_time": "2024-11-26T15:40:18.587Z"
   },
   {
    "duration": 1921,
    "start_time": "2024-11-26T15:40:18.625Z"
   },
   {
    "duration": 202,
    "start_time": "2024-11-26T15:40:20.547Z"
   },
   {
    "duration": 16,
    "start_time": "2024-11-26T15:43:37.295Z"
   },
   {
    "duration": 12,
    "start_time": "2024-11-26T15:43:48.232Z"
   },
   {
    "duration": 5,
    "start_time": "2024-11-26T16:09:24.214Z"
   },
   {
    "duration": 5,
    "start_time": "2024-11-26T16:15:10.131Z"
   },
   {
    "duration": 73,
    "start_time": "2024-11-27T10:24:11.906Z"
   },
   {
    "duration": 1250,
    "start_time": "2024-11-27T10:24:22.350Z"
   },
   {
    "duration": 271,
    "start_time": "2024-11-27T10:24:23.602Z"
   },
   {
    "duration": 13,
    "start_time": "2024-11-27T10:24:23.874Z"
   },
   {
    "duration": 97,
    "start_time": "2024-11-27T10:24:23.889Z"
   },
   {
    "duration": 17,
    "start_time": "2024-11-27T10:24:23.988Z"
   },
   {
    "duration": 29,
    "start_time": "2024-11-27T10:24:24.007Z"
   },
   {
    "duration": 22,
    "start_time": "2024-11-27T10:24:24.037Z"
   },
   {
    "duration": 10,
    "start_time": "2024-11-27T10:24:24.061Z"
   },
   {
    "duration": 8,
    "start_time": "2024-11-27T10:24:24.072Z"
   },
   {
    "duration": 12,
    "start_time": "2024-11-27T10:24:24.081Z"
   },
   {
    "duration": 26,
    "start_time": "2024-11-27T10:24:24.094Z"
   },
   {
    "duration": 15,
    "start_time": "2024-11-27T10:24:24.121Z"
   },
   {
    "duration": 13,
    "start_time": "2024-11-27T10:24:24.137Z"
   },
   {
    "duration": 5,
    "start_time": "2024-11-27T10:24:24.153Z"
   },
   {
    "duration": 23,
    "start_time": "2024-11-27T10:24:24.159Z"
   },
   {
    "duration": 9,
    "start_time": "2024-11-27T10:24:24.184Z"
   },
   {
    "duration": 6,
    "start_time": "2024-11-27T10:24:24.194Z"
   },
   {
    "duration": 8,
    "start_time": "2024-11-27T10:24:24.201Z"
   },
   {
    "duration": 23,
    "start_time": "2024-11-27T10:24:24.210Z"
   },
   {
    "duration": 15,
    "start_time": "2024-11-27T10:24:24.235Z"
   },
   {
    "duration": 14,
    "start_time": "2024-11-27T10:24:24.251Z"
   },
   {
    "duration": 22,
    "start_time": "2024-11-27T10:24:24.266Z"
   },
   {
    "duration": 139,
    "start_time": "2024-11-27T10:24:24.289Z"
   },
   {
    "duration": 7,
    "start_time": "2024-11-27T10:24:24.430Z"
   },
   {
    "duration": 116,
    "start_time": "2024-11-27T10:24:24.438Z"
   },
   {
    "duration": 8,
    "start_time": "2024-11-27T10:24:24.555Z"
   },
   {
    "duration": 30,
    "start_time": "2024-11-27T10:24:24.564Z"
   },
   {
    "duration": 222,
    "start_time": "2024-11-27T10:24:24.596Z"
   },
   {
    "duration": 8,
    "start_time": "2024-11-27T10:24:24.820Z"
   },
   {
    "duration": 184,
    "start_time": "2024-11-27T10:24:24.829Z"
   },
   {
    "duration": 8,
    "start_time": "2024-11-27T10:24:25.015Z"
   },
   {
    "duration": 130,
    "start_time": "2024-11-27T10:24:25.024Z"
   },
   {
    "duration": 10,
    "start_time": "2024-11-27T10:24:25.156Z"
   },
   {
    "duration": 9,
    "start_time": "2024-11-27T10:24:25.168Z"
   },
   {
    "duration": 23,
    "start_time": "2024-11-27T10:24:25.179Z"
   },
   {
    "duration": 18,
    "start_time": "2024-11-27T10:24:25.203Z"
   },
   {
    "duration": 22,
    "start_time": "2024-11-27T10:24:25.223Z"
   },
   {
    "duration": 11,
    "start_time": "2024-11-27T10:24:25.246Z"
   },
   {
    "duration": 12,
    "start_time": "2024-11-27T10:24:25.258Z"
   },
   {
    "duration": 16,
    "start_time": "2024-11-27T10:24:25.272Z"
   },
   {
    "duration": 9,
    "start_time": "2024-11-27T10:24:25.291Z"
   },
   {
    "duration": 11,
    "start_time": "2024-11-27T10:24:25.302Z"
   },
   {
    "duration": 122,
    "start_time": "2024-11-27T10:24:25.315Z"
   },
   {
    "duration": 7,
    "start_time": "2024-11-27T10:24:25.438Z"
   },
   {
    "duration": 109,
    "start_time": "2024-11-27T10:24:25.446Z"
   },
   {
    "duration": 7,
    "start_time": "2024-11-27T10:24:25.556Z"
   },
   {
    "duration": 136,
    "start_time": "2024-11-27T10:24:25.564Z"
   },
   {
    "duration": 28,
    "start_time": "2024-11-27T10:24:25.701Z"
   },
   {
    "duration": 177,
    "start_time": "2024-11-27T10:24:25.731Z"
   },
   {
    "duration": 9,
    "start_time": "2024-11-27T10:24:25.910Z"
   },
   {
    "duration": 23,
    "start_time": "2024-11-27T10:24:25.921Z"
   },
   {
    "duration": 9,
    "start_time": "2024-11-27T10:24:25.946Z"
   },
   {
    "duration": 6,
    "start_time": "2024-11-27T10:24:25.956Z"
   },
   {
    "duration": 10,
    "start_time": "2024-11-27T10:24:25.964Z"
   },
   {
    "duration": 7,
    "start_time": "2024-11-27T10:24:25.975Z"
   },
   {
    "duration": 7,
    "start_time": "2024-11-27T10:24:26.011Z"
   },
   {
    "duration": 15,
    "start_time": "2024-11-27T10:24:26.020Z"
   },
   {
    "duration": 1450,
    "start_time": "2024-11-27T10:24:26.037Z"
   },
   {
    "duration": 190,
    "start_time": "2024-11-27T10:24:27.489Z"
   },
   {
    "duration": 4,
    "start_time": "2024-11-27T10:25:14.775Z"
   },
   {
    "duration": 5,
    "start_time": "2024-11-27T10:26:32.216Z"
   },
   {
    "duration": 10,
    "start_time": "2024-11-27T10:29:51.591Z"
   },
   {
    "duration": 11,
    "start_time": "2024-11-27T10:35:17.201Z"
   },
   {
    "duration": 106,
    "start_time": "2024-11-27T10:36:02.889Z"
   },
   {
    "duration": 112,
    "start_time": "2024-11-27T10:36:26.314Z"
   },
   {
    "duration": 9,
    "start_time": "2024-11-27T10:37:11.561Z"
   },
   {
    "duration": 16,
    "start_time": "2024-11-27T10:40:03.037Z"
   },
   {
    "duration": 4,
    "start_time": "2024-11-27T10:40:34.819Z"
   },
   {
    "duration": 4,
    "start_time": "2024-11-27T10:42:28.652Z"
   },
   {
    "duration": 8,
    "start_time": "2024-11-27T10:43:44.917Z"
   },
   {
    "duration": 8,
    "start_time": "2024-11-27T10:45:40.188Z"
   },
   {
    "duration": 9,
    "start_time": "2024-11-27T10:49:41.575Z"
   },
   {
    "duration": 8,
    "start_time": "2024-11-27T11:22:53.826Z"
   },
   {
    "duration": 8,
    "start_time": "2024-11-27T11:24:08.804Z"
   },
   {
    "duration": 5,
    "start_time": "2024-11-27T11:27:24.530Z"
   },
   {
    "duration": 5,
    "start_time": "2024-11-27T11:27:41.912Z"
   },
   {
    "duration": 4,
    "start_time": "2024-11-27T11:27:46.987Z"
   },
   {
    "duration": 249,
    "start_time": "2024-11-27T14:31:39.839Z"
   },
   {
    "duration": 225,
    "start_time": "2024-11-27T14:32:26.524Z"
   },
   {
    "duration": 1021,
    "start_time": "2024-11-27T14:33:14.148Z"
   },
   {
    "duration": 71,
    "start_time": "2024-11-27T14:33:15.171Z"
   },
   {
    "duration": 11,
    "start_time": "2024-11-27T14:33:15.244Z"
   },
   {
    "duration": 20,
    "start_time": "2024-11-27T14:33:15.256Z"
   },
   {
    "duration": 14,
    "start_time": "2024-11-27T14:33:15.278Z"
   },
   {
    "duration": 20,
    "start_time": "2024-11-27T14:33:15.293Z"
   },
   {
    "duration": 33,
    "start_time": "2024-11-27T14:33:15.314Z"
   },
   {
    "duration": 9,
    "start_time": "2024-11-27T14:33:15.348Z"
   },
   {
    "duration": 34,
    "start_time": "2024-11-27T14:33:15.358Z"
   },
   {
    "duration": 35,
    "start_time": "2024-11-27T14:33:15.395Z"
   },
   {
    "duration": 15,
    "start_time": "2024-11-27T14:33:15.431Z"
   },
   {
    "duration": 5,
    "start_time": "2024-11-27T14:33:15.447Z"
   },
   {
    "duration": 8,
    "start_time": "2024-11-27T14:33:15.453Z"
   },
   {
    "duration": 7,
    "start_time": "2024-11-27T14:33:15.462Z"
   },
   {
    "duration": 19,
    "start_time": "2024-11-27T14:33:15.471Z"
   },
   {
    "duration": 30,
    "start_time": "2024-11-27T14:33:15.492Z"
   },
   {
    "duration": 10,
    "start_time": "2024-11-27T14:33:15.523Z"
   },
   {
    "duration": 15,
    "start_time": "2024-11-27T14:33:15.535Z"
   },
   {
    "duration": 25,
    "start_time": "2024-11-27T14:33:15.551Z"
   },
   {
    "duration": 4,
    "start_time": "2024-11-27T14:33:15.577Z"
   },
   {
    "duration": 10,
    "start_time": "2024-11-27T14:33:15.583Z"
   },
   {
    "duration": 43,
    "start_time": "2024-11-27T14:33:15.594Z"
   },
   {
    "duration": 37,
    "start_time": "2024-11-27T14:33:15.638Z"
   },
   {
    "duration": 16,
    "start_time": "2024-11-27T14:33:15.676Z"
   },
   {
    "duration": 50,
    "start_time": "2024-11-27T14:33:15.693Z"
   },
   {
    "duration": 15,
    "start_time": "2024-11-27T14:33:15.745Z"
   },
   {
    "duration": 195,
    "start_time": "2024-11-27T14:33:15.762Z"
   },
   {
    "duration": 7,
    "start_time": "2024-11-27T14:33:15.961Z"
   },
   {
    "duration": 113,
    "start_time": "2024-11-27T14:33:15.970Z"
   },
   {
    "duration": 7,
    "start_time": "2024-11-27T14:33:16.085Z"
   },
   {
    "duration": 18,
    "start_time": "2024-11-27T14:33:16.094Z"
   },
   {
    "duration": 227,
    "start_time": "2024-11-27T14:33:16.114Z"
   },
   {
    "duration": 10,
    "start_time": "2024-11-27T14:33:16.343Z"
   },
   {
    "duration": 136,
    "start_time": "2024-11-27T14:33:16.355Z"
   },
   {
    "duration": 7,
    "start_time": "2024-11-27T14:33:16.493Z"
   },
   {
    "duration": 157,
    "start_time": "2024-11-27T14:33:16.511Z"
   },
   {
    "duration": 10,
    "start_time": "2024-11-27T14:33:16.669Z"
   },
   {
    "duration": 8,
    "start_time": "2024-11-27T14:33:16.680Z"
   },
   {
    "duration": 25,
    "start_time": "2024-11-27T14:33:16.689Z"
   },
   {
    "duration": 11,
    "start_time": "2024-11-27T14:33:16.715Z"
   },
   {
    "duration": 11,
    "start_time": "2024-11-27T14:33:16.727Z"
   },
   {
    "duration": 9,
    "start_time": "2024-11-27T14:33:16.740Z"
   },
   {
    "duration": 6,
    "start_time": "2024-11-27T14:33:16.751Z"
   },
   {
    "duration": 10,
    "start_time": "2024-11-27T14:33:16.758Z"
   },
   {
    "duration": 10,
    "start_time": "2024-11-27T14:33:16.770Z"
   },
   {
    "duration": 37,
    "start_time": "2024-11-27T14:33:16.782Z"
   },
   {
    "duration": 123,
    "start_time": "2024-11-27T14:33:16.821Z"
   },
   {
    "duration": 7,
    "start_time": "2024-11-27T14:33:16.945Z"
   },
   {
    "duration": 135,
    "start_time": "2024-11-27T14:33:16.953Z"
   },
   {
    "duration": 7,
    "start_time": "2024-11-27T14:33:17.090Z"
   },
   {
    "duration": 136,
    "start_time": "2024-11-27T14:33:17.098Z"
   },
   {
    "duration": 9,
    "start_time": "2024-11-27T14:33:17.236Z"
   },
   {
    "duration": 202,
    "start_time": "2024-11-27T14:33:17.247Z"
   },
   {
    "duration": 7,
    "start_time": "2024-11-27T14:33:17.450Z"
   },
   {
    "duration": 24,
    "start_time": "2024-11-27T14:33:17.458Z"
   },
   {
    "duration": 8,
    "start_time": "2024-11-27T14:33:17.483Z"
   },
   {
    "duration": 22,
    "start_time": "2024-11-27T14:33:17.492Z"
   },
   {
    "duration": 13,
    "start_time": "2024-11-27T14:33:17.515Z"
   },
   {
    "duration": 8,
    "start_time": "2024-11-27T14:33:17.529Z"
   },
   {
    "duration": 5,
    "start_time": "2024-11-27T14:33:17.538Z"
   },
   {
    "duration": 12,
    "start_time": "2024-11-27T14:33:17.545Z"
   },
   {
    "duration": 1320,
    "start_time": "2024-11-27T14:33:17.559Z"
   },
   {
    "duration": 145,
    "start_time": "2024-11-27T14:33:18.881Z"
   },
   {
    "duration": 224,
    "start_time": "2024-11-27T14:34:42.581Z"
   },
   {
    "duration": 92,
    "start_time": "2024-11-27T14:35:44.766Z"
   },
   {
    "duration": 8,
    "start_time": "2024-11-27T14:35:53.818Z"
   },
   {
    "duration": 148,
    "start_time": "2024-11-27T14:35:56.215Z"
   },
   {
    "duration": 147,
    "start_time": "2024-11-27T14:37:03.007Z"
   },
   {
    "duration": 141,
    "start_time": "2024-11-27T14:37:11.818Z"
   },
   {
    "duration": 152,
    "start_time": "2024-11-27T14:44:47.814Z"
   },
   {
    "duration": 153,
    "start_time": "2024-11-27T14:45:15.160Z"
   },
   {
    "duration": 256,
    "start_time": "2024-11-27T14:45:47.304Z"
   },
   {
    "duration": 148,
    "start_time": "2024-11-27T14:49:12.508Z"
   },
   {
    "duration": 145,
    "start_time": "2024-11-27T14:49:24.743Z"
   },
   {
    "duration": 143,
    "start_time": "2024-11-27T14:58:23.476Z"
   },
   {
    "duration": 154,
    "start_time": "2024-11-27T14:59:37.825Z"
   },
   {
    "duration": 657,
    "start_time": "2024-11-27T15:06:19.540Z"
   },
   {
    "duration": 8,
    "start_time": "2024-11-27T15:06:49.501Z"
   },
   {
    "duration": 102,
    "start_time": "2024-11-27T15:06:52.118Z"
   },
   {
    "duration": 102,
    "start_time": "2024-11-27T15:07:29.911Z"
   },
   {
    "duration": 108,
    "start_time": "2024-11-27T15:08:26.812Z"
   },
   {
    "duration": 9,
    "start_time": "2024-11-27T15:08:39.466Z"
   },
   {
    "duration": 98,
    "start_time": "2024-11-27T15:08:58.376Z"
   },
   {
    "duration": 152,
    "start_time": "2024-11-27T15:10:48.736Z"
   },
   {
    "duration": 107,
    "start_time": "2024-11-27T15:11:01.873Z"
   },
   {
    "duration": 8,
    "start_time": "2024-11-27T15:11:18.498Z"
   },
   {
    "duration": 101,
    "start_time": "2024-11-27T15:11:29.328Z"
   },
   {
    "duration": 99,
    "start_time": "2024-11-27T15:11:33.038Z"
   },
   {
    "duration": 102,
    "start_time": "2024-11-27T15:45:33.904Z"
   },
   {
    "duration": 101,
    "start_time": "2024-11-27T15:46:07.975Z"
   },
   {
    "duration": 72,
    "start_time": "2024-11-27T15:46:50.867Z"
   },
   {
    "duration": 92,
    "start_time": "2024-11-27T15:47:12.883Z"
   },
   {
    "duration": 105,
    "start_time": "2024-11-27T15:47:25.851Z"
   },
   {
    "duration": 81,
    "start_time": "2024-11-27T15:47:40.401Z"
   },
   {
    "duration": 118,
    "start_time": "2024-11-27T15:47:49.121Z"
   },
   {
    "duration": 88,
    "start_time": "2024-11-27T15:50:56.715Z"
   },
   {
    "duration": 111,
    "start_time": "2024-11-27T15:51:09.025Z"
   },
   {
    "duration": 123,
    "start_time": "2024-11-27T15:53:03.845Z"
   },
   {
    "duration": 110,
    "start_time": "2024-11-27T15:55:48.049Z"
   },
   {
    "duration": 113,
    "start_time": "2024-11-27T15:55:54.651Z"
   },
   {
    "duration": 116,
    "start_time": "2024-11-27T15:56:37.219Z"
   },
   {
    "duration": 21,
    "start_time": "2024-11-27T15:57:26.999Z"
   },
   {
    "duration": 7,
    "start_time": "2024-11-27T15:57:33.687Z"
   },
   {
    "duration": 8,
    "start_time": "2024-11-27T15:57:42.415Z"
   },
   {
    "duration": 7,
    "start_time": "2024-11-27T15:57:49.487Z"
   },
   {
    "duration": 6,
    "start_time": "2024-11-27T15:58:42.018Z"
   },
   {
    "duration": 212,
    "start_time": "2024-11-27T15:58:45.505Z"
   },
   {
    "duration": 8,
    "start_time": "2024-11-27T15:59:08.907Z"
   },
   {
    "duration": 7,
    "start_time": "2024-11-27T15:59:12.999Z"
   },
   {
    "duration": 329,
    "start_time": "2024-11-27T15:59:15.088Z"
   },
   {
    "duration": 58,
    "start_time": "2024-11-28T09:23:39.207Z"
   },
   {
    "duration": 1321,
    "start_time": "2024-11-28T09:23:49.982Z"
   },
   {
    "duration": 406,
    "start_time": "2024-11-28T09:23:51.305Z"
   },
   {
    "duration": 12,
    "start_time": "2024-11-28T09:23:51.713Z"
   },
   {
    "duration": 29,
    "start_time": "2024-11-28T09:23:51.727Z"
   },
   {
    "duration": 34,
    "start_time": "2024-11-28T09:23:51.758Z"
   },
   {
    "duration": 56,
    "start_time": "2024-11-28T09:23:51.793Z"
   },
   {
    "duration": 52,
    "start_time": "2024-11-28T09:23:51.851Z"
   },
   {
    "duration": 55,
    "start_time": "2024-11-28T09:23:51.904Z"
   },
   {
    "duration": 45,
    "start_time": "2024-11-28T09:23:51.961Z"
   },
   {
    "duration": 30,
    "start_time": "2024-11-28T09:23:52.007Z"
   },
   {
    "duration": 35,
    "start_time": "2024-11-28T09:23:52.039Z"
   },
   {
    "duration": 23,
    "start_time": "2024-11-28T09:23:52.075Z"
   },
   {
    "duration": 36,
    "start_time": "2024-11-28T09:23:52.099Z"
   },
   {
    "duration": 27,
    "start_time": "2024-11-28T09:23:52.139Z"
   },
   {
    "duration": 54,
    "start_time": "2024-11-28T09:23:52.168Z"
   },
   {
    "duration": 27,
    "start_time": "2024-11-28T09:23:52.224Z"
   },
   {
    "duration": 48,
    "start_time": "2024-11-28T09:23:52.253Z"
   },
   {
    "duration": 36,
    "start_time": "2024-11-28T09:23:52.303Z"
   },
   {
    "duration": 60,
    "start_time": "2024-11-28T09:23:52.340Z"
   },
   {
    "duration": 41,
    "start_time": "2024-11-28T09:23:52.401Z"
   },
   {
    "duration": 29,
    "start_time": "2024-11-28T09:23:52.443Z"
   },
   {
    "duration": 36,
    "start_time": "2024-11-28T09:23:52.474Z"
   },
   {
    "duration": 25,
    "start_time": "2024-11-28T09:23:52.512Z"
   },
   {
    "duration": 23,
    "start_time": "2024-11-28T09:23:52.539Z"
   },
   {
    "duration": 31,
    "start_time": "2024-11-28T09:23:52.564Z"
   },
   {
    "duration": 29,
    "start_time": "2024-11-28T09:23:52.596Z"
   },
   {
    "duration": 241,
    "start_time": "2024-11-28T09:23:52.627Z"
   },
   {
    "duration": 8,
    "start_time": "2024-11-28T09:23:52.869Z"
   },
   {
    "duration": 181,
    "start_time": "2024-11-28T09:23:52.879Z"
   },
   {
    "duration": 12,
    "start_time": "2024-11-28T09:23:53.062Z"
   },
   {
    "duration": 48,
    "start_time": "2024-11-28T09:23:53.076Z"
   },
   {
    "duration": 272,
    "start_time": "2024-11-28T09:23:53.125Z"
   },
   {
    "duration": 9,
    "start_time": "2024-11-28T09:23:53.399Z"
   },
   {
    "duration": 211,
    "start_time": "2024-11-28T09:23:53.409Z"
   },
   {
    "duration": 8,
    "start_time": "2024-11-28T09:23:53.622Z"
   },
   {
    "duration": 162,
    "start_time": "2024-11-28T09:23:53.632Z"
   },
   {
    "duration": 10,
    "start_time": "2024-11-28T09:23:53.796Z"
   },
   {
    "duration": 17,
    "start_time": "2024-11-28T09:23:53.808Z"
   },
   {
    "duration": 33,
    "start_time": "2024-11-28T09:23:53.827Z"
   },
   {
    "duration": 31,
    "start_time": "2024-11-28T09:23:53.861Z"
   },
   {
    "duration": 12,
    "start_time": "2024-11-28T09:23:53.896Z"
   },
   {
    "duration": 27,
    "start_time": "2024-11-28T09:23:53.910Z"
   },
   {
    "duration": 39,
    "start_time": "2024-11-28T09:23:53.938Z"
   },
   {
    "duration": 26,
    "start_time": "2024-11-28T09:23:53.979Z"
   },
   {
    "duration": 29,
    "start_time": "2024-11-28T09:23:54.007Z"
   },
   {
    "duration": 39,
    "start_time": "2024-11-28T09:23:54.038Z"
   },
   {
    "duration": 160,
    "start_time": "2024-11-28T09:23:54.078Z"
   },
   {
    "duration": 8,
    "start_time": "2024-11-28T09:23:54.239Z"
   },
   {
    "duration": 152,
    "start_time": "2024-11-28T09:23:54.248Z"
   },
   {
    "duration": 7,
    "start_time": "2024-11-28T09:23:54.402Z"
   },
   {
    "duration": 151,
    "start_time": "2024-11-28T09:23:54.411Z"
   },
   {
    "duration": 8,
    "start_time": "2024-11-28T09:23:54.564Z"
   },
   {
    "duration": 239,
    "start_time": "2024-11-28T09:23:54.573Z"
   },
   {
    "duration": 8,
    "start_time": "2024-11-28T09:23:54.813Z"
   },
   {
    "duration": 34,
    "start_time": "2024-11-28T09:23:54.823Z"
   },
   {
    "duration": 10,
    "start_time": "2024-11-28T09:23:54.858Z"
   },
   {
    "duration": 15,
    "start_time": "2024-11-28T09:23:54.869Z"
   },
   {
    "duration": 32,
    "start_time": "2024-11-28T09:23:54.886Z"
   },
   {
    "duration": 27,
    "start_time": "2024-11-28T09:23:54.919Z"
   },
   {
    "duration": 21,
    "start_time": "2024-11-28T09:23:54.948Z"
   },
   {
    "duration": 37,
    "start_time": "2024-11-28T09:23:54.970Z"
   },
   {
    "duration": 1779,
    "start_time": "2024-11-28T09:23:55.009Z"
   },
   {
    "duration": 192,
    "start_time": "2024-11-28T09:23:56.789Z"
   },
   {
    "duration": 149,
    "start_time": "2024-11-28T09:30:19.497Z"
   },
   {
    "duration": 279,
    "start_time": "2024-11-28T09:32:00.614Z"
   },
   {
    "duration": 290,
    "start_time": "2024-11-28T09:32:35.497Z"
   },
   {
    "duration": 275,
    "start_time": "2024-11-28T09:32:42.635Z"
   },
   {
    "duration": 168,
    "start_time": "2024-11-28T09:39:31.617Z"
   },
   {
    "duration": 921,
    "start_time": "2024-11-28T09:40:39.427Z"
   },
   {
    "duration": 385,
    "start_time": "2024-11-28T09:40:59.799Z"
   },
   {
    "duration": 158,
    "start_time": "2024-11-28T09:41:11.495Z"
   },
   {
    "duration": 283,
    "start_time": "2024-11-28T09:41:21.927Z"
   },
   {
    "duration": 370,
    "start_time": "2024-11-28T09:44:26.997Z"
   },
   {
    "duration": 803,
    "start_time": "2024-11-28T09:44:35.358Z"
   },
   {
    "duration": 289,
    "start_time": "2024-11-28T09:44:41.284Z"
   },
   {
    "duration": 161,
    "start_time": "2024-11-28T09:47:06.597Z"
   },
   {
    "duration": 209,
    "start_time": "2024-11-28T09:55:45.367Z"
   },
   {
    "duration": 404,
    "start_time": "2024-11-28T09:55:58.377Z"
   },
   {
    "duration": 409,
    "start_time": "2024-11-28T09:56:15.076Z"
   },
   {
    "duration": 282,
    "start_time": "2024-11-28T09:56:29.666Z"
   },
   {
    "duration": 3,
    "start_time": "2024-11-28T09:57:45.688Z"
   },
   {
    "duration": 277,
    "start_time": "2024-11-28T10:00:57.087Z"
   },
   {
    "duration": 490,
    "start_time": "2024-11-28T10:01:38.978Z"
   },
   {
    "duration": 265,
    "start_time": "2024-11-28T10:02:08.669Z"
   },
   {
    "duration": 264,
    "start_time": "2024-11-28T10:02:33.828Z"
   },
   {
    "duration": 286,
    "start_time": "2024-11-28T10:03:20.138Z"
   },
   {
    "duration": 347,
    "start_time": "2024-11-28T10:04:08.296Z"
   },
   {
    "duration": 285,
    "start_time": "2024-11-28T10:04:48.708Z"
   },
   {
    "duration": 431,
    "start_time": "2024-11-28T10:05:16.418Z"
   },
   {
    "duration": 328,
    "start_time": "2024-11-28T10:06:06.763Z"
   },
   {
    "duration": 274,
    "start_time": "2024-11-28T10:06:17.116Z"
   },
   {
    "duration": 327,
    "start_time": "2024-11-28T10:06:26.864Z"
   },
   {
    "duration": 322,
    "start_time": "2024-11-28T10:06:38.661Z"
   },
   {
    "duration": 318,
    "start_time": "2024-11-28T10:06:46.694Z"
   },
   {
    "duration": 437,
    "start_time": "2024-11-28T10:06:51.246Z"
   },
   {
    "duration": 319,
    "start_time": "2024-11-28T10:06:56.616Z"
   },
   {
    "duration": 334,
    "start_time": "2024-11-28T10:07:01.836Z"
   },
   {
    "duration": 324,
    "start_time": "2024-11-28T10:07:05.997Z"
   },
   {
    "duration": 313,
    "start_time": "2024-11-28T10:07:16.015Z"
   },
   {
    "duration": 412,
    "start_time": "2024-11-28T10:09:50.224Z"
   },
   {
    "duration": 181,
    "start_time": "2024-11-28T10:12:25.697Z"
   },
   {
    "duration": 207,
    "start_time": "2024-11-28T10:12:43.416Z"
   },
   {
    "duration": 350,
    "start_time": "2024-11-28T10:12:50.308Z"
   },
   {
    "duration": 351,
    "start_time": "2024-11-28T10:13:18.426Z"
   },
   {
    "duration": 517,
    "start_time": "2024-11-28T10:13:27.966Z"
   },
   {
    "duration": 392,
    "start_time": "2024-11-28T10:13:49.955Z"
   },
   {
    "duration": 346,
    "start_time": "2024-11-28T10:13:58.314Z"
   },
   {
    "duration": 3,
    "start_time": "2024-11-28T10:14:41.194Z"
   },
   {
    "duration": 317,
    "start_time": "2024-11-28T10:16:53.592Z"
   },
   {
    "duration": 305,
    "start_time": "2024-11-28T10:17:03.286Z"
   },
   {
    "duration": 16,
    "start_time": "2024-11-28T10:21:21.088Z"
   },
   {
    "duration": 7,
    "start_time": "2024-11-28T10:21:35.887Z"
   },
   {
    "duration": 7,
    "start_time": "2024-11-28T10:22:56.156Z"
   },
   {
    "duration": 3,
    "start_time": "2024-11-28T10:32:18.967Z"
   },
   {
    "duration": 21,
    "start_time": "2024-11-28T10:32:21.176Z"
   },
   {
    "duration": 1135,
    "start_time": "2024-11-28T10:33:03.655Z"
   },
   {
    "duration": 82,
    "start_time": "2024-11-28T10:33:04.792Z"
   },
   {
    "duration": 14,
    "start_time": "2024-11-28T10:33:04.876Z"
   },
   {
    "duration": 48,
    "start_time": "2024-11-28T10:33:04.892Z"
   },
   {
    "duration": 10,
    "start_time": "2024-11-28T10:33:04.942Z"
   },
   {
    "duration": 27,
    "start_time": "2024-11-28T10:33:04.953Z"
   },
   {
    "duration": 34,
    "start_time": "2024-11-28T10:33:04.982Z"
   },
   {
    "duration": 18,
    "start_time": "2024-11-28T10:33:05.017Z"
   },
   {
    "duration": 43,
    "start_time": "2024-11-28T10:33:05.036Z"
   },
   {
    "duration": 17,
    "start_time": "2024-11-28T10:33:05.080Z"
   },
   {
    "duration": 24,
    "start_time": "2024-11-28T10:33:05.098Z"
   },
   {
    "duration": 17,
    "start_time": "2024-11-28T10:33:05.123Z"
   },
   {
    "duration": 12,
    "start_time": "2024-11-28T10:33:05.142Z"
   },
   {
    "duration": 43,
    "start_time": "2024-11-28T10:33:05.157Z"
   },
   {
    "duration": 34,
    "start_time": "2024-11-28T10:33:05.202Z"
   },
   {
    "duration": 14,
    "start_time": "2024-11-28T10:33:05.238Z"
   },
   {
    "duration": 22,
    "start_time": "2024-11-28T10:33:05.253Z"
   },
   {
    "duration": 29,
    "start_time": "2024-11-28T10:33:05.277Z"
   },
   {
    "duration": 28,
    "start_time": "2024-11-28T10:33:05.307Z"
   },
   {
    "duration": 28,
    "start_time": "2024-11-28T10:33:05.337Z"
   },
   {
    "duration": 43,
    "start_time": "2024-11-28T10:33:05.366Z"
   },
   {
    "duration": 17,
    "start_time": "2024-11-28T10:33:05.410Z"
   },
   {
    "duration": 29,
    "start_time": "2024-11-28T10:33:05.429Z"
   },
   {
    "duration": 22,
    "start_time": "2024-11-28T10:33:05.459Z"
   },
   {
    "duration": 102,
    "start_time": "2024-11-28T10:33:05.483Z"
   },
   {
    "duration": 43,
    "start_time": "2024-11-28T10:33:05.587Z"
   },
   {
    "duration": 249,
    "start_time": "2024-11-28T10:33:05.632Z"
   },
   {
    "duration": 8,
    "start_time": "2024-11-28T10:33:05.883Z"
   },
   {
    "duration": 192,
    "start_time": "2024-11-28T10:33:05.897Z"
   },
   {
    "duration": 14,
    "start_time": "2024-11-28T10:33:06.090Z"
   },
   {
    "duration": 26,
    "start_time": "2024-11-28T10:33:06.105Z"
   },
   {
    "duration": 306,
    "start_time": "2024-11-28T10:33:06.133Z"
   },
   {
    "duration": 10,
    "start_time": "2024-11-28T10:33:06.440Z"
   },
   {
    "duration": 335,
    "start_time": "2024-11-28T10:33:06.451Z"
   },
   {
    "duration": 13,
    "start_time": "2024-11-28T10:33:06.788Z"
   },
   {
    "duration": 306,
    "start_time": "2024-11-28T10:33:06.803Z"
   },
   {
    "duration": 11,
    "start_time": "2024-11-28T10:33:07.111Z"
   },
   {
    "duration": 10,
    "start_time": "2024-11-28T10:33:07.124Z"
   },
   {
    "duration": 28,
    "start_time": "2024-11-28T10:33:07.136Z"
   },
   {
    "duration": 16,
    "start_time": "2024-11-28T10:33:07.166Z"
   },
   {
    "duration": 29,
    "start_time": "2024-11-28T10:33:07.200Z"
   },
   {
    "duration": 15,
    "start_time": "2024-11-28T10:33:07.231Z"
   },
   {
    "duration": 29,
    "start_time": "2024-11-28T10:33:07.247Z"
   },
   {
    "duration": 25,
    "start_time": "2024-11-28T10:33:07.278Z"
   },
   {
    "duration": 38,
    "start_time": "2024-11-28T10:33:07.305Z"
   },
   {
    "duration": 27,
    "start_time": "2024-11-28T10:33:07.345Z"
   },
   {
    "duration": 454,
    "start_time": "2024-11-28T10:33:07.374Z"
   },
   {
    "duration": 9,
    "start_time": "2024-11-28T10:33:07.830Z"
   },
   {
    "duration": 9,
    "start_time": "2024-11-28T10:33:07.840Z"
   },
   {
    "duration": 24,
    "start_time": "2024-11-28T10:33:07.851Z"
   },
   {
    "duration": 324,
    "start_time": "2024-11-28T10:33:07.877Z"
   },
   {
    "duration": 9,
    "start_time": "2024-11-28T10:33:08.203Z"
   },
   {
    "duration": 16,
    "start_time": "2024-11-28T10:33:08.213Z"
   },
   {
    "duration": 11,
    "start_time": "2024-11-28T10:33:08.230Z"
   },
   {
    "duration": 30,
    "start_time": "2024-11-28T10:33:08.242Z"
   },
   {
    "duration": 25,
    "start_time": "2024-11-28T10:33:08.274Z"
   },
   {
    "duration": 9,
    "start_time": "2024-11-28T10:33:08.301Z"
   },
   {
    "duration": 18,
    "start_time": "2024-11-28T10:33:08.312Z"
   },
   {
    "duration": 36,
    "start_time": "2024-11-28T10:33:08.332Z"
   },
   {
    "duration": 178,
    "start_time": "2024-11-28T10:33:08.370Z"
   },
   {
    "duration": 0,
    "start_time": "2024-11-28T10:33:08.550Z"
   },
   {
    "duration": 0,
    "start_time": "2024-11-28T10:33:08.551Z"
   },
   {
    "duration": 0,
    "start_time": "2024-11-28T10:33:08.552Z"
   },
   {
    "duration": 0,
    "start_time": "2024-11-28T10:33:08.554Z"
   },
   {
    "duration": 0,
    "start_time": "2024-11-28T10:33:08.555Z"
   },
   {
    "duration": 0,
    "start_time": "2024-11-28T10:33:08.556Z"
   },
   {
    "duration": 11,
    "start_time": "2024-11-28T10:33:40.825Z"
   },
   {
    "duration": 4,
    "start_time": "2024-11-28T10:33:51.355Z"
   },
   {
    "duration": 18,
    "start_time": "2024-11-28T10:33:56.055Z"
   },
   {
    "duration": 216,
    "start_time": "2024-11-28T10:34:15.225Z"
   },
   {
    "duration": 4,
    "start_time": "2024-11-28T10:34:21.684Z"
   },
   {
    "duration": 197,
    "start_time": "2024-11-28T10:34:24.697Z"
   },
   {
    "duration": 14,
    "start_time": "2024-11-28T10:34:27.087Z"
   },
   {
    "duration": 74,
    "start_time": "2024-11-28T10:43:32.466Z"
   },
   {
    "duration": 6,
    "start_time": "2024-11-28T10:44:47.636Z"
   },
   {
    "duration": 5,
    "start_time": "2024-11-28T10:45:37.415Z"
   },
   {
    "duration": 5,
    "start_time": "2024-11-28T10:45:40.227Z"
   },
   {
    "duration": 4,
    "start_time": "2024-11-28T10:47:36.268Z"
   },
   {
    "duration": 4,
    "start_time": "2024-11-28T10:47:39.305Z"
   },
   {
    "duration": 1742,
    "start_time": "2024-11-28T11:05:34.649Z"
   },
   {
    "duration": 1848,
    "start_time": "2024-11-28T11:17:12.268Z"
   },
   {
    "duration": 178,
    "start_time": "2024-11-28T11:19:29.412Z"
   },
   {
    "duration": 173,
    "start_time": "2024-11-28T11:19:52.203Z"
   },
   {
    "duration": 188,
    "start_time": "2024-11-28T11:31:58.634Z"
   },
   {
    "duration": 292,
    "start_time": "2024-11-28T11:32:57.656Z"
   },
   {
    "duration": 312,
    "start_time": "2024-11-28T11:33:19.194Z"
   },
   {
    "duration": 289,
    "start_time": "2024-11-28T11:33:54.995Z"
   },
   {
    "duration": 268,
    "start_time": "2024-11-28T11:34:40.976Z"
   },
   {
    "duration": 1221,
    "start_time": "2024-11-28T11:39:47.476Z"
   },
   {
    "duration": 83,
    "start_time": "2024-11-28T11:39:48.700Z"
   },
   {
    "duration": 12,
    "start_time": "2024-11-28T11:39:48.785Z"
   },
   {
    "duration": 10,
    "start_time": "2024-11-28T11:39:48.798Z"
   },
   {
    "duration": 12,
    "start_time": "2024-11-28T11:39:48.811Z"
   },
   {
    "duration": 15,
    "start_time": "2024-11-28T11:39:48.824Z"
   },
   {
    "duration": 33,
    "start_time": "2024-11-28T11:39:48.841Z"
   },
   {
    "duration": 34,
    "start_time": "2024-11-28T11:39:48.875Z"
   },
   {
    "duration": 18,
    "start_time": "2024-11-28T11:39:48.910Z"
   },
   {
    "duration": 21,
    "start_time": "2024-11-28T11:39:48.930Z"
   },
   {
    "duration": 6,
    "start_time": "2024-11-28T11:39:48.953Z"
   },
   {
    "duration": 16,
    "start_time": "2024-11-28T11:39:48.961Z"
   },
   {
    "duration": 8,
    "start_time": "2024-11-28T11:39:48.979Z"
   },
   {
    "duration": 11,
    "start_time": "2024-11-28T11:39:48.990Z"
   },
   {
    "duration": 16,
    "start_time": "2024-11-28T11:39:49.003Z"
   },
   {
    "duration": 24,
    "start_time": "2024-11-28T11:39:49.020Z"
   },
   {
    "duration": 14,
    "start_time": "2024-11-28T11:39:49.047Z"
   },
   {
    "duration": 7,
    "start_time": "2024-11-28T11:39:49.063Z"
   },
   {
    "duration": 34,
    "start_time": "2024-11-28T11:39:49.072Z"
   },
   {
    "duration": 13,
    "start_time": "2024-11-28T11:39:49.109Z"
   },
   {
    "duration": 15,
    "start_time": "2024-11-28T11:39:49.124Z"
   },
   {
    "duration": 8,
    "start_time": "2024-11-28T11:39:49.140Z"
   },
   {
    "duration": 4,
    "start_time": "2024-11-28T11:39:49.150Z"
   },
   {
    "duration": 13,
    "start_time": "2024-11-28T11:39:49.156Z"
   },
   {
    "duration": 16,
    "start_time": "2024-11-28T11:39:49.171Z"
   },
   {
    "duration": 18,
    "start_time": "2024-11-28T11:39:49.189Z"
   },
   {
    "duration": 230,
    "start_time": "2024-11-28T11:39:49.209Z"
   },
   {
    "duration": 8,
    "start_time": "2024-11-28T11:39:49.441Z"
   },
   {
    "duration": 173,
    "start_time": "2024-11-28T11:39:49.451Z"
   },
   {
    "duration": 9,
    "start_time": "2024-11-28T11:39:49.625Z"
   },
   {
    "duration": 15,
    "start_time": "2024-11-28T11:39:49.636Z"
   },
   {
    "duration": 308,
    "start_time": "2024-11-28T11:39:49.652Z"
   },
   {
    "duration": 9,
    "start_time": "2024-11-28T11:39:49.962Z"
   },
   {
    "duration": 330,
    "start_time": "2024-11-28T11:39:49.973Z"
   },
   {
    "duration": 11,
    "start_time": "2024-11-28T11:39:50.306Z"
   },
   {
    "duration": 326,
    "start_time": "2024-11-28T11:39:50.318Z"
   },
   {
    "duration": 11,
    "start_time": "2024-11-28T11:39:50.646Z"
   },
   {
    "duration": 10,
    "start_time": "2024-11-28T11:39:50.658Z"
   },
   {
    "duration": 42,
    "start_time": "2024-11-28T11:39:50.670Z"
   },
   {
    "duration": 17,
    "start_time": "2024-11-28T11:39:50.714Z"
   },
   {
    "duration": 18,
    "start_time": "2024-11-28T11:39:50.735Z"
   },
   {
    "duration": 27,
    "start_time": "2024-11-28T11:39:50.755Z"
   },
   {
    "duration": 50,
    "start_time": "2024-11-28T11:39:50.783Z"
   },
   {
    "duration": 47,
    "start_time": "2024-11-28T11:39:50.834Z"
   },
   {
    "duration": 31,
    "start_time": "2024-11-28T11:39:50.883Z"
   },
   {
    "duration": 53,
    "start_time": "2024-11-28T11:39:50.916Z"
   },
   {
    "duration": 463,
    "start_time": "2024-11-28T11:39:50.970Z"
   },
   {
    "duration": 9,
    "start_time": "2024-11-28T11:39:51.435Z"
   },
   {
    "duration": 21,
    "start_time": "2024-11-28T11:39:51.446Z"
   },
   {
    "duration": 33,
    "start_time": "2024-11-28T11:39:51.469Z"
   },
   {
    "duration": 341,
    "start_time": "2024-11-28T11:39:51.504Z"
   },
   {
    "duration": 10,
    "start_time": "2024-11-28T11:39:51.847Z"
   },
   {
    "duration": 17,
    "start_time": "2024-11-28T11:39:51.859Z"
   },
   {
    "duration": 22,
    "start_time": "2024-11-28T11:39:51.878Z"
   },
   {
    "duration": 103,
    "start_time": "2024-11-28T11:39:51.902Z"
   },
   {
    "duration": 6,
    "start_time": "2024-11-28T11:39:52.006Z"
   },
   {
    "duration": 35,
    "start_time": "2024-11-28T11:39:52.014Z"
   },
   {
    "duration": 9,
    "start_time": "2024-11-28T11:39:52.051Z"
   },
   {
    "duration": 18,
    "start_time": "2024-11-28T11:39:52.062Z"
   },
   {
    "duration": 216,
    "start_time": "2024-11-28T11:39:52.082Z"
   },
   {
    "duration": 11,
    "start_time": "2024-11-28T11:39:52.299Z"
   },
   {
    "duration": 37,
    "start_time": "2024-11-28T11:39:52.312Z"
   },
   {
    "duration": 25,
    "start_time": "2024-11-28T11:39:52.351Z"
   },
   {
    "duration": 19,
    "start_time": "2024-11-28T11:39:52.378Z"
   },
   {
    "duration": 20,
    "start_time": "2024-11-28T11:39:52.398Z"
   },
   {
    "duration": 50,
    "start_time": "2024-11-28T11:39:52.420Z"
   },
   {
    "duration": 1752,
    "start_time": "2024-11-28T11:39:52.471Z"
   },
   {
    "duration": 202,
    "start_time": "2024-11-28T11:39:54.225Z"
   },
   {
    "duration": 1016,
    "start_time": "2024-11-28T20:48:48.376Z"
   },
   {
    "duration": 81,
    "start_time": "2024-11-28T20:48:49.394Z"
   },
   {
    "duration": 14,
    "start_time": "2024-11-28T20:48:49.477Z"
   },
   {
    "duration": 10,
    "start_time": "2024-11-28T20:48:49.492Z"
   },
   {
    "duration": 6,
    "start_time": "2024-11-28T20:48:49.505Z"
   },
   {
    "duration": 9,
    "start_time": "2024-11-28T20:48:49.513Z"
   },
   {
    "duration": 20,
    "start_time": "2024-11-28T20:48:49.524Z"
   },
   {
    "duration": 32,
    "start_time": "2024-11-28T20:48:49.546Z"
   },
   {
    "duration": 7,
    "start_time": "2024-11-28T20:48:49.580Z"
   },
   {
    "duration": 16,
    "start_time": "2024-11-28T20:48:49.588Z"
   },
   {
    "duration": 4,
    "start_time": "2024-11-28T20:48:49.606Z"
   },
   {
    "duration": 9,
    "start_time": "2024-11-28T20:48:49.611Z"
   },
   {
    "duration": 6,
    "start_time": "2024-11-28T20:48:49.621Z"
   },
   {
    "duration": 10,
    "start_time": "2024-11-28T20:48:49.631Z"
   },
   {
    "duration": 32,
    "start_time": "2024-11-28T20:48:49.642Z"
   },
   {
    "duration": 8,
    "start_time": "2024-11-28T20:48:49.675Z"
   },
   {
    "duration": 6,
    "start_time": "2024-11-28T20:48:49.684Z"
   },
   {
    "duration": 6,
    "start_time": "2024-11-28T20:48:49.691Z"
   },
   {
    "duration": 12,
    "start_time": "2024-11-28T20:48:49.699Z"
   },
   {
    "duration": 5,
    "start_time": "2024-11-28T20:48:49.713Z"
   },
   {
    "duration": 9,
    "start_time": "2024-11-28T20:48:49.719Z"
   },
   {
    "duration": 16,
    "start_time": "2024-11-28T20:48:49.729Z"
   },
   {
    "duration": 9,
    "start_time": "2024-11-28T20:48:49.758Z"
   },
   {
    "duration": 5,
    "start_time": "2024-11-28T20:48:49.768Z"
   },
   {
    "duration": 7,
    "start_time": "2024-11-28T20:48:49.774Z"
   },
   {
    "duration": 8,
    "start_time": "2024-11-28T20:48:49.782Z"
   },
   {
    "duration": 195,
    "start_time": "2024-11-28T20:48:49.792Z"
   },
   {
    "duration": 8,
    "start_time": "2024-11-28T20:48:49.988Z"
   },
   {
    "duration": 142,
    "start_time": "2024-11-28T20:48:49.997Z"
   },
   {
    "duration": 10,
    "start_time": "2024-11-28T20:48:50.140Z"
   },
   {
    "duration": 14,
    "start_time": "2024-11-28T20:48:50.163Z"
   },
   {
    "duration": 230,
    "start_time": "2024-11-28T20:48:50.179Z"
   },
   {
    "duration": 7,
    "start_time": "2024-11-28T20:48:50.411Z"
   },
   {
    "duration": 258,
    "start_time": "2024-11-28T20:48:50.419Z"
   },
   {
    "duration": 7,
    "start_time": "2024-11-28T20:48:50.679Z"
   },
   {
    "duration": 237,
    "start_time": "2024-11-28T20:48:50.687Z"
   },
   {
    "duration": 12,
    "start_time": "2024-11-28T20:48:50.925Z"
   },
   {
    "duration": 28,
    "start_time": "2024-11-28T20:48:50.939Z"
   },
   {
    "duration": 14,
    "start_time": "2024-11-28T20:48:50.971Z"
   },
   {
    "duration": 19,
    "start_time": "2024-11-28T20:48:50.986Z"
   },
   {
    "duration": 12,
    "start_time": "2024-11-28T20:48:51.009Z"
   },
   {
    "duration": 18,
    "start_time": "2024-11-28T20:48:51.022Z"
   },
   {
    "duration": 29,
    "start_time": "2024-11-28T20:48:51.041Z"
   },
   {
    "duration": 12,
    "start_time": "2024-11-28T20:48:51.072Z"
   },
   {
    "duration": 10,
    "start_time": "2024-11-28T20:48:51.086Z"
   },
   {
    "duration": 17,
    "start_time": "2024-11-28T20:48:51.098Z"
   },
   {
    "duration": 368,
    "start_time": "2024-11-28T20:48:51.117Z"
   },
   {
    "duration": 7,
    "start_time": "2024-11-28T20:48:51.486Z"
   },
   {
    "duration": 10,
    "start_time": "2024-11-28T20:48:51.494Z"
   },
   {
    "duration": 16,
    "start_time": "2024-11-28T20:48:51.505Z"
   },
   {
    "duration": 250,
    "start_time": "2024-11-28T20:48:51.523Z"
   },
   {
    "duration": 9,
    "start_time": "2024-11-28T20:48:51.775Z"
   },
   {
    "duration": 2,
    "start_time": "2024-11-28T20:48:51.786Z"
   },
   {
    "duration": 42,
    "start_time": "2024-11-28T20:48:51.790Z"
   },
   {
    "duration": 37,
    "start_time": "2024-11-28T20:48:51.834Z"
   },
   {
    "duration": 6,
    "start_time": "2024-11-28T20:48:51.872Z"
   },
   {
    "duration": 25,
    "start_time": "2024-11-28T20:48:51.880Z"
   },
   {
    "duration": 3,
    "start_time": "2024-11-28T20:48:51.906Z"
   },
   {
    "duration": 8,
    "start_time": "2024-11-28T20:48:51.911Z"
   },
   {
    "duration": 214,
    "start_time": "2024-11-28T20:48:51.920Z"
   },
   {
    "duration": 11,
    "start_time": "2024-11-28T20:48:52.136Z"
   },
   {
    "duration": 25,
    "start_time": "2024-11-28T20:48:52.149Z"
   },
   {
    "duration": 10,
    "start_time": "2024-11-28T20:48:52.176Z"
   },
   {
    "duration": 15,
    "start_time": "2024-11-28T20:48:52.187Z"
   },
   {
    "duration": 67,
    "start_time": "2024-11-28T20:48:52.203Z"
   },
   {
    "duration": 24,
    "start_time": "2024-11-28T20:48:52.272Z"
   },
   {
    "duration": 1348,
    "start_time": "2024-11-28T20:48:52.298Z"
   },
   {
    "duration": 170,
    "start_time": "2024-11-28T20:48:53.647Z"
   }
  ],
  "kernelspec": {
   "display_name": "Python 3 (ipykernel)",
   "language": "python",
   "name": "python3"
  },
  "language_info": {
   "codemirror_mode": {
    "name": "ipython",
    "version": 3
   },
   "file_extension": ".py",
   "mimetype": "text/x-python",
   "name": "python",
   "nbconvert_exporter": "python",
   "pygments_lexer": "ipython3",
   "version": "3.9.5"
  },
  "toc": {
   "base_numbering": 1,
   "nav_menu": {},
   "number_sections": true,
   "sideBar": true,
   "skip_h1_title": true,
   "title_cell": "Table of Contents",
   "title_sidebar": "Contents",
   "toc_cell": false,
   "toc_position": {
    "height": "calc(100% - 180px)",
    "left": "10px",
    "top": "150px",
    "width": "166.943px"
   },
   "toc_section_display": true,
   "toc_window_display": true
  }
 },
 "nbformat": 4,
 "nbformat_minor": 5
}
